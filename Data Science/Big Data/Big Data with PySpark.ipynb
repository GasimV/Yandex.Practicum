{
 "cells": [
  {
   "cell_type": "markdown",
   "metadata": {
    "id": "GEqQaHzsZ_bA"
   },
   "source": [
    "## Предсказание стоимости жилья\n",
    "\n",
    "В проекте вам нужно обучить модель линейной регрессии на данных о жилье в Калифорнии в 1990 году. На основе данных нужно предсказать медианную стоимость дома в жилом массиве. Обучите модель и сделайте предсказания на тестовой выборке. Для оценки качества модели используйте метрики RMSE, MAE и R2."
   ]
  },
  {
   "cell_type": "code",
   "execution_count": 1,
   "metadata": {},
   "outputs": [],
   "source": [
    "# Импортируем необходимые библиотеки и Spark-сессию\n",
    "from pyspark.sql import SparkSession\n",
    "from pyspark.ml.feature import StringIndexer, OneHotEncoder\n",
    "from pyspark.ml.feature import VectorAssembler\n",
    "from pyspark.ml.regression import LinearRegression\n",
    "from pyspark.ml.evaluation import RegressionEvaluator\n",
    "from pyspark.ml import Pipeline\n",
    "from pyspark.sql.functions import isnan, when, count, col"
   ]
  },
  {
   "cell_type": "code",
   "execution_count": 2,
   "metadata": {},
   "outputs": [],
   "source": [
    "spark = SparkSession.builder \\\n",
    "    .appName(\"Linear Regression Project\") \\\n",
    "    .getOrCreate()"
   ]
  },
  {
   "cell_type": "markdown",
   "metadata": {
    "id": "53871372"
   },
   "source": [
    "# Подготовка данных"
   ]
  },
  {
   "cell_type": "code",
   "execution_count": 3,
   "metadata": {
    "id": "df92e3ec"
   },
   "outputs": [
    {
     "name": "stderr",
     "output_type": "stream",
     "text": [
      "                                                                                \r"
     ]
    }
   ],
   "source": [
    "# Прочтем содержимое файла housing.csv\n",
    "file_path = \"/datasets/housing.csv\"\n",
    "df = spark.read.csv(file_path, header=True, inferSchema=True)"
   ]
  },
  {
   "cell_type": "code",
   "execution_count": 4,
   "metadata": {},
   "outputs": [
    {
     "name": "stdout",
     "output_type": "stream",
     "text": [
      "root\n",
      " |-- longitude: double (nullable = true)\n",
      " |-- latitude: double (nullable = true)\n",
      " |-- housing_median_age: double (nullable = true)\n",
      " |-- total_rooms: double (nullable = true)\n",
      " |-- total_bedrooms: double (nullable = true)\n",
      " |-- population: double (nullable = true)\n",
      " |-- households: double (nullable = true)\n",
      " |-- median_income: double (nullable = true)\n",
      " |-- median_house_value: double (nullable = true)\n",
      " |-- ocean_proximity: string (nullable = true)\n",
      "\n",
      "\n",
      "+---------+--------+------------------+-----------+--------------+----------+----------+-------------+------------------+---------------+\n",
      "|longitude|latitude|housing_median_age|total_rooms|total_bedrooms|population|households|median_income|median_house_value|ocean_proximity|\n",
      "+---------+--------+------------------+-----------+--------------+----------+----------+-------------+------------------+---------------+\n",
      "|  -122.23|   37.88|              41.0|      880.0|         129.0|     322.0|     126.0|       8.3252|          452600.0|       NEAR BAY|\n",
      "|  -122.22|   37.86|              21.0|     7099.0|        1106.0|    2401.0|    1138.0|       8.3014|          358500.0|       NEAR BAY|\n",
      "|  -122.24|   37.85|              52.0|     1467.0|         190.0|     496.0|     177.0|       7.2574|          352100.0|       NEAR BAY|\n",
      "|  -122.25|   37.85|              52.0|     1274.0|         235.0|     558.0|     219.0|       5.6431|          341300.0|       NEAR BAY|\n",
      "|  -122.25|   37.85|              52.0|     1627.0|         280.0|     565.0|     259.0|       3.8462|          342200.0|       NEAR BAY|\n",
      "+---------+--------+------------------+-----------+--------------+----------+----------+-------------+------------------+---------------+\n",
      "only showing top 5 rows\n",
      "\n"
     ]
    }
   ],
   "source": [
    "# Вывод типов данных столбцов набора данных\n",
    "df.printSchema()\n",
    "print()\n",
    "df.show(5)"
   ]
  },
  {
   "cell_type": "code",
   "execution_count": 5,
   "metadata": {},
   "outputs": [
    {
     "name": "stderr",
     "output_type": "stream",
     "text": [
      "                                                                                \r"
     ]
    },
    {
     "name": "stdout",
     "output_type": "stream",
     "text": [
      "+---------+--------+------------------+-----------+--------------+----------+----------+-------------+------------------+---------------+\n",
      "|longitude|latitude|housing_median_age|total_rooms|total_bedrooms|population|households|median_income|median_house_value|ocean_proximity|\n",
      "+---------+--------+------------------+-----------+--------------+----------+----------+-------------+------------------+---------------+\n",
      "|        0|       0|                 0|          0|           207|         0|         0|            0|                 0|              0|\n",
      "+---------+--------+------------------+-----------+--------------+----------+----------+-------------+------------------+---------------+\n",
      "\n"
     ]
    }
   ],
   "source": [
    "# Подсчет количества пропущенных значений или значений NaN в каждом столбце.\n",
    "missing_values = df.select([count(when(isnan(col_name) | col(col_name).isNull(), \n",
    "                                       col_name)).alias(col_name) for col_name in df.columns])\n",
    "\n",
    "# Отображение результатов\n",
    "missing_values.show()"
   ]
  },
  {
   "cell_type": "code",
   "execution_count": 6,
   "metadata": {},
   "outputs": [
    {
     "name": "stdout",
     "output_type": "stream",
     "text": [
      "\n",
      "+---------+--------+------------------+-----------+--------------+----------+----------+-------------+------------------+---------------+\n",
      "|longitude|latitude|housing_median_age|total_rooms|total_bedrooms|population|households|median_income|median_house_value|ocean_proximity|\n",
      "+---------+--------+------------------+-----------+--------------+----------+----------+-------------+------------------+---------------+\n",
      "|        0|       0|                 0|          0|             0|         0|         0|            0|                 0|              0|\n",
      "+---------+--------+------------------+-----------+--------------+----------+----------+-------------+------------------+---------------+\n",
      "\n"
     ]
    }
   ],
   "source": [
    "# Обработка пропущенных значений\n",
    "df = df.na.fill({'total_bedrooms': 0})  # Заменим отсутствующие значения на 0\n",
    "\n",
    "print()\n",
    "\n",
    "missing_values = df.select([count(when(isnan(col_name) | col(col_name).isNull(), \n",
    "                                       col_name)).alias(col_name) for col_name in df.columns])\n",
    "missing_values.show()"
   ]
  },
  {
   "cell_type": "code",
   "execution_count": 7,
   "metadata": {},
   "outputs": [
    {
     "name": "stderr",
     "output_type": "stream",
     "text": [
      "                                                                                \r"
     ]
    }
   ],
   "source": [
    "# Разделим данные на наборы для обучения и тестирования.\n",
    "train_df, test_df = df.randomSplit([0.8, 0.2], seed=42)\n",
    "\n",
    "# Подгонка StringIndexer к обучающим данным\n",
    "string_indexer = StringIndexer(inputCol=\"ocean_proximity\", outputCol=\"ocean_index\", handleInvalid=\"keep\").fit(train_df)\n",
    "\n",
    "# Трансформация данных обучения и тестирования\n",
    "indexed_train_df = string_indexer.transform(train_df)\n",
    "indexed_test_df = string_indexer.transform(test_df)\n",
    "\n",
    "# Подгонка OneHotEncoder к обучающим данным\n",
    "encoder = OneHotEncoder(inputCols=[\"ocean_index\"], outputCols=[\"ocean_encoded\"]).fit(indexed_train_df)\n",
    "\n",
    "# Трансформация данных обучения и тестирования\n",
    "encoded_train_df = encoder.transform(indexed_train_df)\n",
    "encoded_test_df = encoder.transform(indexed_test_df)"
   ]
  },
  {
   "cell_type": "markdown",
   "metadata": {
    "id": "9f0a82f3"
   },
   "source": [
    "# Обучение моделей"
   ]
  },
  {
   "cell_type": "markdown",
   "metadata": {
    "id": "bddb08c4"
   },
   "source": [
    "*Построение двух моделей линейной регрессии для разных наборов данных*"
   ]
  },
  {
   "cell_type": "code",
   "execution_count": 8,
   "metadata": {},
   "outputs": [
    {
     "name": "stderr",
     "output_type": "stream",
     "text": [
      "23/07/07 03:35:53 WARN BLAS: Failed to load implementation from: com.github.fommil.netlib.NativeSystemBLAS\n",
      "23/07/07 03:35:53 WARN BLAS: Failed to load implementation from: com.github.fommil.netlib.NativeRefBLAS\n",
      "23/07/07 03:35:54 WARN LAPACK: Failed to load implementation from: com.github.fommil.netlib.NativeSystemLAPACK\n",
      "23/07/07 03:35:54 WARN LAPACK: Failed to load implementation from: com.github.fommil.netlib.NativeRefLAPACK\n",
      "                                                                                \r"
     ]
    }
   ],
   "source": [
    "# Создадим вектор признаков\n",
    "feature_cols = [\"longitude\", \"latitude\", \"housing_median_age\", \"total_rooms\", \"total_bedrooms\",\n",
    "                \"population\", \"households\", \"median_income\", \"ocean_encoded\"]\n",
    "\n",
    "assembler = VectorAssembler(inputCols=feature_cols, outputCol=\"features\")\n",
    "feature_vector_df = assembler.transform(encoded_train_df)\n",
    "\n",
    "# Создадим модель линейной регрессии\n",
    "lr = LinearRegression(labelCol=\"median_house_value\", regParam=0.01)\n",
    "\n",
    "# Подгонка модели к обучающим данным\n",
    "lr_model_all_data = lr.fit(feature_vector_df)\n",
    "\n",
    "# Сделаем прогнозы на данных обучения\n",
    "predictions_all_data = lr_model_all_data.transform(feature_vector_df)\n",
    "\n",
    "# Создадим вектор признаков для числовых данных\n",
    "numerical_cols = [\"longitude\", \"latitude\", \"housing_median_age\", \"total_rooms\", \"total_bedrooms\",\n",
    "                  \"population\", \"households\", \"median_income\"]\n",
    "\n",
    "assembler_numerical = VectorAssembler(inputCols=numerical_cols, outputCol=\"features\")\n",
    "numerical_vector_df = assembler_numerical.transform(df)\n",
    "\n",
    "# Создадим модель линейной регрессии для числовых данных\n",
    "lr_numerical = LinearRegression(labelCol=\"median_house_value\", regParam=0.01)\n",
    "\n",
    "# Подгонка модели к числовым данным\n",
    "lr_model_numerical = lr_numerical.fit(numerical_vector_df)\n",
    "\n",
    "# Сделаем прогнозы на числовых данных\n",
    "predictions_numerical = lr_model_numerical.transform(numerical_vector_df)"
   ]
  },
  {
   "cell_type": "markdown",
   "metadata": {
    "id": "757fd103"
   },
   "source": [
    "# Анализ результатов"
   ]
  },
  {
   "cell_type": "code",
   "execution_count": 9,
   "metadata": {},
   "outputs": [],
   "source": [
    "# Сравним результаты линейной регрессии на двух наборах данных для показателей RMSE, MAE и R2\n",
    "evaluator = RegressionEvaluator(labelCol=\"median_house_value\")\n",
    "\n",
    "rmse_all_data = evaluator.evaluate(predictions_all_data, {evaluator.metricName: \"rmse\"})\n",
    "rmse_numerical = evaluator.evaluate(predictions_numerical, {evaluator.metricName: \"rmse\"})\n",
    "\n",
    "mae_all_data = evaluator.evaluate(predictions_all_data, {evaluator.metricName: \"mae\"})\n",
    "mae_numerical = evaluator.evaluate(predictions_numerical, {evaluator.metricName: \"mae\"})\n",
    "\n",
    "r2_all_data = evaluator.evaluate(predictions_all_data, {evaluator.metricName: \"r2\"})\n",
    "r2_numerical = evaluator.evaluate(predictions_numerical, {evaluator.metricName: \"r2\"})"
   ]
  },
  {
   "cell_type": "code",
   "execution_count": 10,
   "metadata": {},
   "outputs": [
    {
     "name": "stdout",
     "output_type": "stream",
     "text": [
      "Результаты линейной регрессии:\n",
      "Используя все данные — RMSE: 68332.87\n",
      "Использование числовых переменных — RMSE: 69748.19\n",
      "\n",
      "Используя все данные - MAE: 49623.77\n",
      "Использование числовых переменных - MAE: 51051.26\n",
      "\n",
      "Используя все данные - R2: 0.65\n",
      "Использование числовых переменных - R2: 0.63\n"
     ]
    }
   ],
   "source": [
    "print(\"Результаты линейной регрессии:\")\n",
    "print(\"Используя все данные — RMSE: {:.2f}\".format(rmse_all_data))\n",
    "print(\"Использование числовых переменных — RMSE: {:.2f}\".format(rmse_numerical))\n",
    "print(\"\")\n",
    "\n",
    "print(\"Используя все данные - MAE: {:.2f}\".format(mae_all_data))\n",
    "print(\"Использование числовых переменных - MAE: {:.2f}\".format(mae_numerical))\n",
    "print(\"\")\n",
    "\n",
    "print(\"Используя все данные - R2: {:.2f}\".format(r2_all_data))\n",
    "print(\"Использование числовых переменных - R2: {:.2f}\".format(r2_numerical))"
   ]
  },
  {
   "cell_type": "markdown",
   "metadata": {},
   "source": [
    "**Выводы:**  \n",
    "\n",
    "- Эти метрики показывают, насколько хорошо модели линейной регрессии соответствуют данным. Более низкие значения RMSE и MAE указывают на лучшую производительность модели, а более высокое значение R2 указывает на лучшее соответствие данным.\n",
    "\n",
    "- Основываясь на результатах, кажется, что использование всех доступных признаков (включая категориальные признаки) приводит к несколько лучшей производительности по сравнению с использованием только числовых переменных. Однако различия в производительности относительно невелики."
   ]
  },
  {
   "cell_type": "code",
   "execution_count": 11,
   "metadata": {},
   "outputs": [],
   "source": [
    "# Остановим сессию Spark\n",
    "spark.stop()"
   ]
  },
  {
   "cell_type": "markdown",
   "metadata": {},
   "source": [
    "<font color='green'>Немного полезного материала:\n",
    "+  https://sparkbyexamples.com/pyspark-tutorial/, https://sparkbyexamples.com/\n",
    "+  https://github.com/dvgodoy/handyspark\n",
    "+  https://www.tutorialspoint.com/pyspark/index.htm\n",
    "+  https://www.guru99.com/pyspark-tutorial.html\n",
    "+  https://databricks.com/spark/getting-started-with-apache-spark/machine-learning#load-sample-data\n",
    "</font>"
   ]
  }
 ],
 "metadata": {
  "ExecuteTimeLog": [
   {
    "duration": 19020,
    "start_time": "2023-07-05T08:22:09.328Z"
   },
   {
    "duration": 335,
    "start_time": "2023-07-05T08:22:37.714Z"
   },
   {
    "duration": 8566,
    "start_time": "2023-07-05T08:22:57.932Z"
   },
   {
    "duration": 14,
    "start_time": "2023-07-05T08:23:13.341Z"
   },
   {
    "duration": 52,
    "start_time": "2023-07-05T08:25:45.436Z"
   },
   {
    "duration": 2354,
    "start_time": "2023-07-05T08:25:46.816Z"
   },
   {
    "duration": 16002,
    "start_time": "2023-07-05T08:38:54.898Z"
   },
   {
    "duration": 8000,
    "start_time": "2023-07-05T08:39:10.903Z"
   },
   {
    "duration": 69,
    "start_time": "2023-07-05T08:39:18.905Z"
   },
   {
    "duration": 115,
    "start_time": "2023-07-05T08:39:18.976Z"
   },
   {
    "duration": 2689,
    "start_time": "2023-07-05T08:39:19.093Z"
   },
   {
    "duration": 4418,
    "start_time": "2023-07-05T08:39:21.784Z"
   },
   {
    "duration": 463,
    "start_time": "2023-07-05T08:39:26.205Z"
   },
   {
    "duration": 0,
    "start_time": "2023-07-05T08:39:26.669Z"
   },
   {
    "duration": 0,
    "start_time": "2023-07-05T08:39:26.670Z"
   },
   {
    "duration": 2332,
    "start_time": "2023-07-05T08:45:10.246Z"
   },
   {
    "duration": 16312,
    "start_time": "2023-07-05T08:45:22.267Z"
   },
   {
    "duration": 9113,
    "start_time": "2023-07-05T08:45:38.583Z"
   },
   {
    "duration": 69,
    "start_time": "2023-07-05T08:45:47.699Z"
   },
   {
    "duration": 124,
    "start_time": "2023-07-05T08:45:47.770Z"
   },
   {
    "duration": 3186,
    "start_time": "2023-07-05T08:45:47.897Z"
   },
   {
    "duration": 4383,
    "start_time": "2023-07-05T08:45:51.085Z"
   },
   {
    "duration": 2112,
    "start_time": "2023-07-05T08:45:55.470Z"
   },
   {
    "duration": 3485,
    "start_time": "2023-07-05T08:45:57.585Z"
   },
   {
    "duration": 6,
    "start_time": "2023-07-05T08:46:01.072Z"
   },
   {
    "duration": 2398,
    "start_time": "2023-07-05T08:47:31.584Z"
   },
   {
    "duration": 0,
    "start_time": "2023-07-05T08:47:33.984Z"
   },
   {
    "duration": 0,
    "start_time": "2023-07-05T08:47:33.987Z"
   },
   {
    "duration": 0,
    "start_time": "2023-07-05T08:47:33.989Z"
   },
   {
    "duration": 0,
    "start_time": "2023-07-05T08:47:33.991Z"
   },
   {
    "duration": 0,
    "start_time": "2023-07-05T08:47:33.992Z"
   },
   {
    "duration": 0,
    "start_time": "2023-07-05T08:47:33.993Z"
   },
   {
    "duration": 0,
    "start_time": "2023-07-05T08:47:33.994Z"
   },
   {
    "duration": 0,
    "start_time": "2023-07-05T08:47:33.995Z"
   },
   {
    "duration": 15884,
    "start_time": "2023-07-05T08:47:44.699Z"
   },
   {
    "duration": 8099,
    "start_time": "2023-07-05T08:48:00.586Z"
   },
   {
    "duration": 14,
    "start_time": "2023-07-05T08:48:08.687Z"
   },
   {
    "duration": 182,
    "start_time": "2023-07-05T08:48:08.703Z"
   },
   {
    "duration": 2690,
    "start_time": "2023-07-05T08:48:08.886Z"
   },
   {
    "duration": 4319,
    "start_time": "2023-07-05T08:48:11.578Z"
   },
   {
    "duration": 2296,
    "start_time": "2023-07-05T08:48:15.899Z"
   },
   {
    "duration": 3600,
    "start_time": "2023-07-05T08:48:18.197Z"
   },
   {
    "duration": 12,
    "start_time": "2023-07-05T08:48:21.799Z"
   },
   {
    "duration": 549,
    "start_time": "2023-07-05T11:32:23.893Z"
   },
   {
    "duration": 17108,
    "start_time": "2023-07-05T11:33:29.569Z"
   },
   {
    "duration": 5,
    "start_time": "2023-07-05T11:34:20.616Z"
   },
   {
    "duration": 10638,
    "start_time": "2023-07-05T11:34:21.565Z"
   },
   {
    "duration": 17,
    "start_time": "2023-07-05T11:34:35.073Z"
   },
   {
    "duration": 3262,
    "start_time": "2023-07-05T11:34:37.016Z"
   },
   {
    "duration": 1330,
    "start_time": "2023-07-05T11:35:08.753Z"
   },
   {
    "duration": 1646,
    "start_time": "2023-07-05T11:36:03.412Z"
   },
   {
    "duration": 2349,
    "start_time": "2023-07-05T11:36:22.739Z"
   },
   {
    "duration": 17826,
    "start_time": "2023-07-05T11:37:24.967Z"
   },
   {
    "duration": 11076,
    "start_time": "2023-07-05T11:37:42.797Z"
   },
   {
    "duration": 83,
    "start_time": "2023-07-05T11:37:53.875Z"
   },
   {
    "duration": 3107,
    "start_time": "2023-07-05T11:37:53.961Z"
   },
   {
    "duration": 3113,
    "start_time": "2023-07-05T11:37:57.071Z"
   },
   {
    "duration": 2792,
    "start_time": "2023-07-05T11:38:00.186Z"
   },
   {
    "duration": 4701,
    "start_time": "2023-07-05T11:38:02.984Z"
   },
   {
    "duration": 2703,
    "start_time": "2023-07-05T11:38:07.687Z"
   },
   {
    "duration": 5092,
    "start_time": "2023-07-05T11:38:10.392Z"
   },
   {
    "duration": 6,
    "start_time": "2023-07-05T11:38:15.487Z"
   },
   {
    "duration": 17294,
    "start_time": "2023-07-05T11:41:03.588Z"
   },
   {
    "duration": 9711,
    "start_time": "2023-07-05T11:41:20.886Z"
   },
   {
    "duration": 75,
    "start_time": "2023-07-05T11:41:30.599Z"
   },
   {
    "duration": 2785,
    "start_time": "2023-07-05T11:41:30.677Z"
   },
   {
    "duration": 693,
    "start_time": "2023-07-05T11:41:33.464Z"
   },
   {
    "duration": 16473,
    "start_time": "2023-07-05T11:42:39.312Z"
   },
   {
    "duration": 9383,
    "start_time": "2023-07-05T11:42:55.788Z"
   },
   {
    "duration": 789,
    "start_time": "2023-07-05T11:43:05.173Z"
   },
   {
    "duration": 2225,
    "start_time": "2023-07-05T11:43:05.965Z"
   },
   {
    "duration": 1303,
    "start_time": "2023-07-05T11:43:08.257Z"
   },
   {
    "duration": 2433,
    "start_time": "2023-07-05T11:43:09.561Z"
   },
   {
    "duration": 3715,
    "start_time": "2023-07-05T11:43:12.058Z"
   },
   {
    "duration": 1892,
    "start_time": "2023-07-05T11:43:15.775Z"
   },
   {
    "duration": 3346,
    "start_time": "2023-07-05T11:43:17.669Z"
   },
   {
    "duration": 6,
    "start_time": "2023-07-05T11:43:21.017Z"
   },
   {
    "duration": 16265,
    "start_time": "2023-07-05T11:45:08.111Z"
   },
   {
    "duration": 8793,
    "start_time": "2023-07-05T11:45:24.379Z"
   },
   {
    "duration": 788,
    "start_time": "2023-07-05T11:45:33.173Z"
   },
   {
    "duration": 2408,
    "start_time": "2023-07-05T11:45:33.964Z"
   },
   {
    "duration": 1505,
    "start_time": "2023-07-05T11:45:36.374Z"
   },
   {
    "duration": 2195,
    "start_time": "2023-07-05T11:45:37.881Z"
   },
   {
    "duration": 3805,
    "start_time": "2023-07-05T11:45:40.077Z"
   },
   {
    "duration": 1882,
    "start_time": "2023-07-05T11:45:43.885Z"
   },
   {
    "duration": 3240,
    "start_time": "2023-07-05T11:45:45.769Z"
   },
   {
    "duration": 7,
    "start_time": "2023-07-05T11:45:49.012Z"
   },
   {
    "duration": 5,
    "start_time": "2023-07-05T11:50:36.676Z"
   },
   {
    "duration": 754,
    "start_time": "2023-07-06T07:57:13.808Z"
   },
   {
    "duration": 21537,
    "start_time": "2023-07-06T07:57:14.564Z"
   },
   {
    "duration": 11176,
    "start_time": "2023-07-06T07:57:36.103Z"
   },
   {
    "duration": 1003,
    "start_time": "2023-07-06T07:57:47.282Z"
   },
   {
    "duration": 3215,
    "start_time": "2023-07-06T07:57:48.287Z"
   },
   {
    "duration": 1984,
    "start_time": "2023-07-06T07:57:51.504Z"
   },
   {
    "duration": 105,
    "start_time": "2023-07-06T07:57:53.490Z"
   },
   {
    "duration": 192,
    "start_time": "2023-07-06T07:57:53.598Z"
   },
   {
    "duration": 8688,
    "start_time": "2023-07-06T07:57:53.792Z"
   },
   {
    "duration": 0,
    "start_time": "2023-07-06T07:58:02.484Z"
   },
   {
    "duration": 0,
    "start_time": "2023-07-06T07:58:02.486Z"
   },
   {
    "duration": 707,
    "start_time": "2023-07-06T08:05:05.762Z"
   },
   {
    "duration": 21783,
    "start_time": "2023-07-06T08:05:06.472Z"
   },
   {
    "duration": 12016,
    "start_time": "2023-07-06T08:05:28.269Z"
   },
   {
    "duration": 896,
    "start_time": "2023-07-06T08:05:40.288Z"
   },
   {
    "duration": 2785,
    "start_time": "2023-07-06T08:05:41.186Z"
   },
   {
    "duration": 1602,
    "start_time": "2023-07-06T08:05:43.973Z"
   },
   {
    "duration": 105,
    "start_time": "2023-07-06T08:05:45.577Z"
   },
   {
    "duration": 247,
    "start_time": "2023-07-06T08:05:45.684Z"
   },
   {
    "duration": 4050,
    "start_time": "2023-07-06T08:05:45.933Z"
   },
   {
    "duration": 0,
    "start_time": "2023-07-06T08:05:49.985Z"
   },
   {
    "duration": 0,
    "start_time": "2023-07-06T08:05:49.987Z"
   },
   {
    "duration": 0,
    "start_time": "2023-07-06T08:05:49.989Z"
   },
   {
    "duration": 645,
    "start_time": "2023-07-06T08:12:47.223Z"
   },
   {
    "duration": 21734,
    "start_time": "2023-07-06T08:12:47.870Z"
   },
   {
    "duration": 11966,
    "start_time": "2023-07-06T08:13:09.608Z"
   },
   {
    "duration": 923,
    "start_time": "2023-07-06T08:13:21.577Z"
   },
   {
    "duration": 3116,
    "start_time": "2023-07-06T08:13:22.568Z"
   },
   {
    "duration": 2007,
    "start_time": "2023-07-06T08:13:25.688Z"
   },
   {
    "duration": 92,
    "start_time": "2023-07-06T08:13:27.699Z"
   },
   {
    "duration": 479,
    "start_time": "2023-07-06T08:13:27.793Z"
   },
   {
    "duration": 0,
    "start_time": "2023-07-06T08:13:28.274Z"
   },
   {
    "duration": 0,
    "start_time": "2023-07-06T08:13:28.276Z"
   },
   {
    "duration": 0,
    "start_time": "2023-07-06T08:13:28.277Z"
   },
   {
    "duration": 547,
    "start_time": "2023-07-06T08:18:54.791Z"
   },
   {
    "duration": 18365,
    "start_time": "2023-07-06T08:18:55.340Z"
   },
   {
    "duration": 13260,
    "start_time": "2023-07-06T08:19:13.707Z"
   },
   {
    "duration": 1203,
    "start_time": "2023-07-06T08:19:26.969Z"
   },
   {
    "duration": 3310,
    "start_time": "2023-07-06T08:19:28.176Z"
   },
   {
    "duration": 2082,
    "start_time": "2023-07-06T08:19:31.487Z"
   },
   {
    "duration": 32,
    "start_time": "2023-07-06T08:19:33.572Z"
   },
   {
    "duration": 111,
    "start_time": "2023-07-06T08:19:33.668Z"
   },
   {
    "duration": 4549,
    "start_time": "2023-07-06T08:19:33.782Z"
   },
   {
    "duration": 0,
    "start_time": "2023-07-06T08:19:38.333Z"
   },
   {
    "duration": 0,
    "start_time": "2023-07-06T08:19:38.335Z"
   },
   {
    "duration": 0,
    "start_time": "2023-07-06T08:19:38.337Z"
   },
   {
    "duration": 1747,
    "start_time": "2023-07-06T08:33:31.010Z"
   },
   {
    "duration": 21509,
    "start_time": "2023-07-06T08:33:32.760Z"
   },
   {
    "duration": 12345,
    "start_time": "2023-07-06T08:33:54.271Z"
   },
   {
    "duration": 905,
    "start_time": "2023-07-06T08:34:06.675Z"
   },
   {
    "duration": 3123,
    "start_time": "2023-07-06T08:34:07.582Z"
   },
   {
    "duration": 1822,
    "start_time": "2023-07-06T08:34:10.771Z"
   },
   {
    "duration": 105,
    "start_time": "2023-07-06T08:34:12.596Z"
   },
   {
    "duration": 3879,
    "start_time": "2023-07-06T08:34:12.702Z"
   },
   {
    "duration": 7812,
    "start_time": "2023-07-06T08:34:16.583Z"
   },
   {
    "duration": 4751,
    "start_time": "2023-07-06T08:34:24.398Z"
   },
   {
    "duration": 11,
    "start_time": "2023-07-06T08:34:29.172Z"
   },
   {
    "duration": 621,
    "start_time": "2023-07-06T08:34:29.188Z"
   },
   {
    "duration": 1144,
    "start_time": "2023-07-06T08:42:06.971Z"
   },
   {
    "duration": 20923,
    "start_time": "2023-07-06T08:42:08.117Z"
   },
   {
    "duration": 11250,
    "start_time": "2023-07-06T08:42:29.042Z"
   },
   {
    "duration": 972,
    "start_time": "2023-07-06T08:42:40.296Z"
   },
   {
    "duration": 2817,
    "start_time": "2023-07-06T08:42:41.270Z"
   },
   {
    "duration": 1782,
    "start_time": "2023-07-06T08:42:44.089Z"
   },
   {
    "duration": 4214,
    "start_time": "2023-07-06T08:42:45.873Z"
   },
   {
    "duration": 8392,
    "start_time": "2023-07-06T08:42:50.090Z"
   },
   {
    "duration": 3986,
    "start_time": "2023-07-06T08:42:58.484Z"
   },
   {
    "duration": 8,
    "start_time": "2023-07-06T08:43:02.474Z"
   },
   {
    "duration": 209,
    "start_time": "2023-07-06T08:43:02.484Z"
   },
   {
    "duration": 418,
    "start_time": "2023-07-07T03:35:22.060Z"
   },
   {
    "duration": 14689,
    "start_time": "2023-07-07T03:35:22.480Z"
   },
   {
    "duration": 8173,
    "start_time": "2023-07-07T03:35:37.171Z"
   },
   {
    "duration": 618,
    "start_time": "2023-07-07T03:35:45.347Z"
   },
   {
    "duration": 2297,
    "start_time": "2023-07-07T03:35:45.966Z"
   },
   {
    "duration": 1226,
    "start_time": "2023-07-07T03:35:48.332Z"
   },
   {
    "duration": 2787,
    "start_time": "2023-07-07T03:35:49.560Z"
   },
   {
    "duration": 5902,
    "start_time": "2023-07-07T03:35:52.349Z"
   },
   {
    "duration": 3806,
    "start_time": "2023-07-07T03:35:58.253Z"
   },
   {
    "duration": 5,
    "start_time": "2023-07-07T03:36:02.061Z"
   },
   {
    "duration": 410,
    "start_time": "2023-07-07T03:36:02.068Z"
   }
  ],
  "colab": {
   "name": "PySparkSprint.ipynb",
   "provenance": []
  },
  "kernelspec": {
   "display_name": "Python 3",
   "language": "python",
   "name": "python3"
  },
  "language_info": {
   "codemirror_mode": {
    "name": "ipython",
    "version": 3
   },
   "file_extension": ".py",
   "mimetype": "text/x-python",
   "name": "python",
   "nbconvert_exporter": "python",
   "pygments_lexer": "ipython3",
   "version": "3.7.3"
  },
  "toc": {
   "base_numbering": 1,
   "nav_menu": {},
   "number_sections": true,
   "sideBar": true,
   "skip_h1_title": true,
   "title_cell": "Table of Contents",
   "title_sidebar": "Contents",
   "toc_cell": false,
   "toc_position": {},
   "toc_section_display": true,
   "toc_window_display": true
  }
 },
 "nbformat": 4,
 "nbformat_minor": 5
}
