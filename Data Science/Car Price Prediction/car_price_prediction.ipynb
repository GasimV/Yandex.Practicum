{
 "cells": [
  {
   "cell_type": "markdown",
   "metadata": {},
   "source": [
    "# Определение стоимости автомобилей"
   ]
  },
  {
   "cell_type": "markdown",
   "metadata": {},
   "source": [
    "Сервис по продаже автомобилей с пробегом «Не бит, не крашен» разрабатывает приложение для привлечения новых клиентов. В нём можно быстро узнать рыночную стоимость своего автомобиля. В вашем распоряжении исторические данные: технические характеристики, комплектации и цены автомобилей. Вам нужно построить модель для определения стоимости. \n",
    "\n",
    "Заказчику важны:\n",
    "\n",
    "- качество предсказания;\n",
    "- скорость предсказания;\n",
    "- время обучения.\n",
    "\n",
    "**Инструкция по выполнению проекта**\n",
    "\n",
    "Чтобы усилить исследование, не ограничивайтесь градиентным бустингом. Попробуйте более простые модели — иногда они работают лучше. Это редкие случаи, которые легко пропустить, если всегда применять только бустинг. Поэкспериментируйте и сравните характеристики моделей: время обучения, время предсказания, точность результата. Основные шаги:\n",
    "\n",
    "1. Скачать данные, путь к файлу: /datasets/autos.csv.\n",
    "2. Исследуйте данные. Заполните пропущенные значения и обработайте аномалии в столбцах. Если среди знаков есть неинформативные, удалите их.\n",
    "3. Подготовьте выборки для обучения модели.\n",
    "4. Обучайте разные модели, одна из которых LightGBM, и по крайней мере одна не бустинговая. Для каждой модели попробуйте разные гиперпараметры.\n",
    "5. Анализируйте время обучения, время прогнозирования и качество модели.\n",
    "6. По критериям заказчика выберите лучшую модель, проверьте ее качество на тестовом наборе.\n",
    "\n",
    "*Примечания:*\n",
    "\n",
    "- Для оценки качества моделей используйте метрику RMSE.\n",
    "- Значение метрики RMSE должно быть меньше 2500.\n",
    "- Изучите библиотеку LightGBM самостоятельно и используйте ее для создания моделей градиентного бустинга.\n",
    "- Время выполнения ячейки кода Jupyter Notebook можно узнать с помощью специальной команды. Найди ее.\n",
    "- Обучение модели градиентного бустинга может занять много времени, поэтому измените для нее только два или три параметра.\n",
    "- Если Jupyter Notebook перестает работать, удалите ненужные переменные с помощью инструкции del: del features_train\n",
    "\n",
    "**Описание данных**\n",
    "\n",
    "***Признаки***\n",
    "- DateCrawled — дата скачивания анкеты из базы\n",
    "- VehicleType — тип автомобильного кузова\n",
    "- RegistrationYear — год регистрации автомобиля\n",
    "- Gearbox — тип коробки передач\n",
    "- Power — мощность (л. с.)\n",
    "- Model — модель автомобиля\n",
    "- Kilometer — пробег (км)\n",
    "- RegistrationMonth — месяц регистрации автомобиля\n",
    "- FuelType — тип топлива\n",
    "- Brand — марка автомобиля\n",
    "- NotRepaired — была машина в ремонте или нет\n",
    "- DateCreated — дата создания анкеты\n",
    "- NumberOfPictures — количество фотографий автомобиля\n",
    "- PostalCode — почтовый индекс владельца анкеты (пользователя)\n",
    "- LastSeen — дата последней активности пользователя\n",
    "\n",
    "***Целевой признак***\n",
    "- Price — цена (евро)"
   ]
  },
  {
   "cell_type": "markdown",
   "metadata": {},
   "source": [
    "## Подготовка данных"
   ]
  },
  {
   "cell_type": "code",
   "execution_count": 1,
   "metadata": {},
   "outputs": [],
   "source": [
    "import pandas as pd\n",
    "from sklearn.model_selection import train_test_split\n",
    "from sklearn.preprocessing import StandardScaler, OrdinalEncoder\n",
    "from sklearn.metrics import mean_squared_error\n",
    "from math import sqrt\n",
    "from sklearn.linear_model import LinearRegression\n",
    "from sklearn.tree import DecisionTreeRegressor\n",
    "import time\n",
    "import lightgbm as lgb\n",
    "from sklearn.ensemble import GradientBoostingRegressor"
   ]
  },
  {
   "cell_type": "code",
   "execution_count": 2,
   "metadata": {
    "scrolled": true
   },
   "outputs": [
    {
     "data": {
      "text/html": [
       "<div>\n",
       "<style scoped>\n",
       "    .dataframe tbody tr th:only-of-type {\n",
       "        vertical-align: middle;\n",
       "    }\n",
       "\n",
       "    .dataframe tbody tr th {\n",
       "        vertical-align: top;\n",
       "    }\n",
       "\n",
       "    .dataframe thead th {\n",
       "        text-align: right;\n",
       "    }\n",
       "</style>\n",
       "<table border=\"1\" class=\"dataframe\">\n",
       "  <thead>\n",
       "    <tr style=\"text-align: right;\">\n",
       "      <th></th>\n",
       "      <th>DateCrawled</th>\n",
       "      <th>Price</th>\n",
       "      <th>VehicleType</th>\n",
       "      <th>RegistrationYear</th>\n",
       "      <th>Gearbox</th>\n",
       "      <th>Power</th>\n",
       "      <th>Model</th>\n",
       "      <th>Kilometer</th>\n",
       "      <th>RegistrationMonth</th>\n",
       "      <th>FuelType</th>\n",
       "      <th>Brand</th>\n",
       "      <th>Repaired</th>\n",
       "      <th>DateCreated</th>\n",
       "      <th>NumberOfPictures</th>\n",
       "      <th>PostalCode</th>\n",
       "      <th>LastSeen</th>\n",
       "    </tr>\n",
       "  </thead>\n",
       "  <tbody>\n",
       "    <tr>\n",
       "      <th>0</th>\n",
       "      <td>2016-03-24 11:52:17</td>\n",
       "      <td>480</td>\n",
       "      <td>NaN</td>\n",
       "      <td>1993</td>\n",
       "      <td>manual</td>\n",
       "      <td>0</td>\n",
       "      <td>golf</td>\n",
       "      <td>150000</td>\n",
       "      <td>0</td>\n",
       "      <td>petrol</td>\n",
       "      <td>volkswagen</td>\n",
       "      <td>NaN</td>\n",
       "      <td>2016-03-24 00:00:00</td>\n",
       "      <td>0</td>\n",
       "      <td>70435</td>\n",
       "      <td>2016-04-07 03:16:57</td>\n",
       "    </tr>\n",
       "    <tr>\n",
       "      <th>1</th>\n",
       "      <td>2016-03-24 10:58:45</td>\n",
       "      <td>18300</td>\n",
       "      <td>coupe</td>\n",
       "      <td>2011</td>\n",
       "      <td>manual</td>\n",
       "      <td>190</td>\n",
       "      <td>NaN</td>\n",
       "      <td>125000</td>\n",
       "      <td>5</td>\n",
       "      <td>gasoline</td>\n",
       "      <td>audi</td>\n",
       "      <td>yes</td>\n",
       "      <td>2016-03-24 00:00:00</td>\n",
       "      <td>0</td>\n",
       "      <td>66954</td>\n",
       "      <td>2016-04-07 01:46:50</td>\n",
       "    </tr>\n",
       "    <tr>\n",
       "      <th>2</th>\n",
       "      <td>2016-03-14 12:52:21</td>\n",
       "      <td>9800</td>\n",
       "      <td>suv</td>\n",
       "      <td>2004</td>\n",
       "      <td>auto</td>\n",
       "      <td>163</td>\n",
       "      <td>grand</td>\n",
       "      <td>125000</td>\n",
       "      <td>8</td>\n",
       "      <td>gasoline</td>\n",
       "      <td>jeep</td>\n",
       "      <td>NaN</td>\n",
       "      <td>2016-03-14 00:00:00</td>\n",
       "      <td>0</td>\n",
       "      <td>90480</td>\n",
       "      <td>2016-04-05 12:47:46</td>\n",
       "    </tr>\n",
       "    <tr>\n",
       "      <th>3</th>\n",
       "      <td>2016-03-17 16:54:04</td>\n",
       "      <td>1500</td>\n",
       "      <td>small</td>\n",
       "      <td>2001</td>\n",
       "      <td>manual</td>\n",
       "      <td>75</td>\n",
       "      <td>golf</td>\n",
       "      <td>150000</td>\n",
       "      <td>6</td>\n",
       "      <td>petrol</td>\n",
       "      <td>volkswagen</td>\n",
       "      <td>no</td>\n",
       "      <td>2016-03-17 00:00:00</td>\n",
       "      <td>0</td>\n",
       "      <td>91074</td>\n",
       "      <td>2016-03-17 17:40:17</td>\n",
       "    </tr>\n",
       "    <tr>\n",
       "      <th>4</th>\n",
       "      <td>2016-03-31 17:25:20</td>\n",
       "      <td>3600</td>\n",
       "      <td>small</td>\n",
       "      <td>2008</td>\n",
       "      <td>manual</td>\n",
       "      <td>69</td>\n",
       "      <td>fabia</td>\n",
       "      <td>90000</td>\n",
       "      <td>7</td>\n",
       "      <td>gasoline</td>\n",
       "      <td>skoda</td>\n",
       "      <td>no</td>\n",
       "      <td>2016-03-31 00:00:00</td>\n",
       "      <td>0</td>\n",
       "      <td>60437</td>\n",
       "      <td>2016-04-06 10:17:21</td>\n",
       "    </tr>\n",
       "  </tbody>\n",
       "</table>\n",
       "</div>"
      ],
      "text/plain": [
       "           DateCrawled  Price VehicleType  RegistrationYear Gearbox  Power  \\\n",
       "0  2016-03-24 11:52:17    480         NaN              1993  manual      0   \n",
       "1  2016-03-24 10:58:45  18300       coupe              2011  manual    190   \n",
       "2  2016-03-14 12:52:21   9800         suv              2004    auto    163   \n",
       "3  2016-03-17 16:54:04   1500       small              2001  manual     75   \n",
       "4  2016-03-31 17:25:20   3600       small              2008  manual     69   \n",
       "\n",
       "   Model  Kilometer  RegistrationMonth  FuelType       Brand Repaired  \\\n",
       "0   golf     150000                  0    petrol  volkswagen      NaN   \n",
       "1    NaN     125000                  5  gasoline        audi      yes   \n",
       "2  grand     125000                  8  gasoline        jeep      NaN   \n",
       "3   golf     150000                  6    petrol  volkswagen       no   \n",
       "4  fabia      90000                  7  gasoline       skoda       no   \n",
       "\n",
       "           DateCreated  NumberOfPictures  PostalCode             LastSeen  \n",
       "0  2016-03-24 00:00:00                 0       70435  2016-04-07 03:16:57  \n",
       "1  2016-03-24 00:00:00                 0       66954  2016-04-07 01:46:50  \n",
       "2  2016-03-14 00:00:00                 0       90480  2016-04-05 12:47:46  \n",
       "3  2016-03-17 00:00:00                 0       91074  2016-03-17 17:40:17  \n",
       "4  2016-03-31 00:00:00                 0       60437  2016-04-06 10:17:21  "
      ]
     },
     "execution_count": 2,
     "metadata": {},
     "output_type": "execute_result"
    }
   ],
   "source": [
    "data = pd.read_csv('/datasets/autos.csv')\n",
    "\n",
    "data.head()"
   ]
  },
  {
   "cell_type": "code",
   "execution_count": 3,
   "metadata": {},
   "outputs": [
    {
     "data": {
      "text/plain": [
       "DateCrawled              0\n",
       "Price                    0\n",
       "VehicleType          37490\n",
       "RegistrationYear         0\n",
       "Gearbox              19833\n",
       "Power                    0\n",
       "Model                19705\n",
       "Kilometer                0\n",
       "RegistrationMonth        0\n",
       "FuelType             32895\n",
       "Brand                    0\n",
       "Repaired             71154\n",
       "DateCreated              0\n",
       "NumberOfPictures         0\n",
       "PostalCode               0\n",
       "LastSeen                 0\n",
       "dtype: int64"
      ]
     },
     "execution_count": 3,
     "metadata": {},
     "output_type": "execute_result"
    }
   ],
   "source": [
    "# Проверим наличие пропущенных значений в наборе данных\n",
    "data.isnull().sum()"
   ]
  },
  {
   "cell_type": "markdown",
   "metadata": {},
   "source": [
    "Набор данных содержит отсутствующие значения в следующих столбцах:\n",
    "\n",
    "- **VehicleType**: 37.490 пропущенных значений\n",
    "- **Gearbox**: 19.833 пропущенных значения\n",
    "- **Model**: 19.705 пропущенных значений\n",
    "- **FuelType**: 32.895 пропущенных значений\n",
    "- **Repaired**: 71.154 пропущенных значения\n",
    "\n",
    "Обработка этих отсутствующих значений зависит от их характера и влияния на общие данные. Например, для категориальных признаков мы могли бы рассмотреть возможность заполнения пропущенных значений наиболее распространенным значением (mode) в каждой категории. Однако делать это следует с осторожностью, так как это может привести к смещению (предвзятости) данных.\n",
    "\n",
    "Для числовых признаков общие стратегии включают использование среднего значения, медианы или заданного значения, такого как -1. Опять же, выбранная стратегия должна зависеть от характера данных и используемой модели.\n",
    "\n",
    "Для столбца «Repaired» отсутствующие значения могут означать, что автомобиль никогда не ремонтировался.\n",
    "\n",
    "Прежде чем обрабатывать пропущенные значения, нужно дополнительно изучить данные, включая распределение числовых и категориальных значений. Это обеспечит более детальное понимание набора данных."
   ]
  },
  {
   "cell_type": "code",
   "execution_count": 4,
   "metadata": {},
   "outputs": [
    {
     "data": {
      "text/html": [
       "<div>\n",
       "<style scoped>\n",
       "    .dataframe tbody tr th:only-of-type {\n",
       "        vertical-align: middle;\n",
       "    }\n",
       "\n",
       "    .dataframe tbody tr th {\n",
       "        vertical-align: top;\n",
       "    }\n",
       "\n",
       "    .dataframe thead th {\n",
       "        text-align: right;\n",
       "    }\n",
       "</style>\n",
       "<table border=\"1\" class=\"dataframe\">\n",
       "  <thead>\n",
       "    <tr style=\"text-align: right;\">\n",
       "      <th></th>\n",
       "      <th>Price</th>\n",
       "      <th>RegistrationYear</th>\n",
       "      <th>Power</th>\n",
       "      <th>Kilometer</th>\n",
       "      <th>RegistrationMonth</th>\n",
       "      <th>NumberOfPictures</th>\n",
       "      <th>PostalCode</th>\n",
       "    </tr>\n",
       "  </thead>\n",
       "  <tbody>\n",
       "    <tr>\n",
       "      <th>count</th>\n",
       "      <td>354369.000000</td>\n",
       "      <td>354369.000000</td>\n",
       "      <td>354369.000000</td>\n",
       "      <td>354369.000000</td>\n",
       "      <td>354369.000000</td>\n",
       "      <td>354369.0</td>\n",
       "      <td>354369.000000</td>\n",
       "    </tr>\n",
       "    <tr>\n",
       "      <th>mean</th>\n",
       "      <td>4416.656776</td>\n",
       "      <td>2004.234448</td>\n",
       "      <td>110.094337</td>\n",
       "      <td>128211.172535</td>\n",
       "      <td>5.714645</td>\n",
       "      <td>0.0</td>\n",
       "      <td>50508.689087</td>\n",
       "    </tr>\n",
       "    <tr>\n",
       "      <th>std</th>\n",
       "      <td>4514.158514</td>\n",
       "      <td>90.227958</td>\n",
       "      <td>189.850405</td>\n",
       "      <td>37905.341530</td>\n",
       "      <td>3.726421</td>\n",
       "      <td>0.0</td>\n",
       "      <td>25783.096248</td>\n",
       "    </tr>\n",
       "    <tr>\n",
       "      <th>min</th>\n",
       "      <td>0.000000</td>\n",
       "      <td>1000.000000</td>\n",
       "      <td>0.000000</td>\n",
       "      <td>5000.000000</td>\n",
       "      <td>0.000000</td>\n",
       "      <td>0.0</td>\n",
       "      <td>1067.000000</td>\n",
       "    </tr>\n",
       "    <tr>\n",
       "      <th>25%</th>\n",
       "      <td>1050.000000</td>\n",
       "      <td>1999.000000</td>\n",
       "      <td>69.000000</td>\n",
       "      <td>125000.000000</td>\n",
       "      <td>3.000000</td>\n",
       "      <td>0.0</td>\n",
       "      <td>30165.000000</td>\n",
       "    </tr>\n",
       "    <tr>\n",
       "      <th>50%</th>\n",
       "      <td>2700.000000</td>\n",
       "      <td>2003.000000</td>\n",
       "      <td>105.000000</td>\n",
       "      <td>150000.000000</td>\n",
       "      <td>6.000000</td>\n",
       "      <td>0.0</td>\n",
       "      <td>49413.000000</td>\n",
       "    </tr>\n",
       "    <tr>\n",
       "      <th>75%</th>\n",
       "      <td>6400.000000</td>\n",
       "      <td>2008.000000</td>\n",
       "      <td>143.000000</td>\n",
       "      <td>150000.000000</td>\n",
       "      <td>9.000000</td>\n",
       "      <td>0.0</td>\n",
       "      <td>71083.000000</td>\n",
       "    </tr>\n",
       "    <tr>\n",
       "      <th>max</th>\n",
       "      <td>20000.000000</td>\n",
       "      <td>9999.000000</td>\n",
       "      <td>20000.000000</td>\n",
       "      <td>150000.000000</td>\n",
       "      <td>12.000000</td>\n",
       "      <td>0.0</td>\n",
       "      <td>99998.000000</td>\n",
       "    </tr>\n",
       "  </tbody>\n",
       "</table>\n",
       "</div>"
      ],
      "text/plain": [
       "               Price  RegistrationYear          Power      Kilometer  \\\n",
       "count  354369.000000     354369.000000  354369.000000  354369.000000   \n",
       "mean     4416.656776       2004.234448     110.094337  128211.172535   \n",
       "std      4514.158514         90.227958     189.850405   37905.341530   \n",
       "min         0.000000       1000.000000       0.000000    5000.000000   \n",
       "25%      1050.000000       1999.000000      69.000000  125000.000000   \n",
       "50%      2700.000000       2003.000000     105.000000  150000.000000   \n",
       "75%      6400.000000       2008.000000     143.000000  150000.000000   \n",
       "max     20000.000000       9999.000000   20000.000000  150000.000000   \n",
       "\n",
       "       RegistrationMonth  NumberOfPictures     PostalCode  \n",
       "count      354369.000000          354369.0  354369.000000  \n",
       "mean            5.714645               0.0   50508.689087  \n",
       "std             3.726421               0.0   25783.096248  \n",
       "min             0.000000               0.0    1067.000000  \n",
       "25%             3.000000               0.0   30165.000000  \n",
       "50%             6.000000               0.0   49413.000000  \n",
       "75%             9.000000               0.0   71083.000000  \n",
       "max            12.000000               0.0   99998.000000  "
      ]
     },
     "execution_count": 4,
     "metadata": {},
     "output_type": "execute_result"
    }
   ],
   "source": [
    "# Описательная статистика для числовых столбцов\n",
    "data.describe()"
   ]
  },
  {
   "cell_type": "markdown",
   "metadata": {},
   "source": [
    "Описательная статистика для числовых столбцов выглядит следующим образом:\n",
    "\n",
    "- Price: Средняя цена автомобиля составляет примерно 4416 евро со стандартным отклонением около 4514 евро. Минимальная цена — 0 евро (что может указывать на наличие бесплатных машин или ошибки в данных), а максимальная — 20 000 евро.\n",
    "- RegistrationYear: средний год регистрации примерно 2004 год, но есть некоторые аномалии. Минимальный год регистрации — 1000, а максимальный — 9999, что явно является ошибкой, так как в 1000 году автомобилей не было, а 9999 год — далеко в будущем.\n",
    "- Power: Средняя мощность составляет около 110 л.с. со стандартным отклонением около 190 л.с. Максимальная мощность составляет 20 000 л.с., что маловероятно для обычного автомобиля и, скорее всего, свидетельствует об ошибке данных.\n",
    "- Kilometer: средний пробег составляет приблизительно 128 211 км со стандартным отклонением около 37 905 км. Минимальный пробег– 5 000 км, максимальный – 150 000 км. Эта колонка кажется разумной.\n",
    "- RegistrationMonth: средний месяц регистрации составляет около 6-го месяца (июнь) со стандартным отклонением около 3,7 месяцев. Минимальный месяц — 0, а максимальный — 12. Месяц «0» недействителен и может означать отсутствующие или ошибочные данные.\n",
    "- NumberOfPictures: все значения равны 0. Этот столбец не информативен и может быть удален.\n",
    "- PostalCode: средний почтовый индекс составляет около 50 508 со стандартным отклонением около 25 783. Минимальный почтовый индекс — 1067, максимальный — 99998.\n",
    "\n",
    "Также изучим категориальные столбцы."
   ]
  },
  {
   "cell_type": "code",
   "execution_count": 5,
   "metadata": {},
   "outputs": [
    {
     "data": {
      "text/html": [
       "<div>\n",
       "<style scoped>\n",
       "    .dataframe tbody tr th:only-of-type {\n",
       "        vertical-align: middle;\n",
       "    }\n",
       "\n",
       "    .dataframe tbody tr th {\n",
       "        vertical-align: top;\n",
       "    }\n",
       "\n",
       "    .dataframe thead th {\n",
       "        text-align: right;\n",
       "    }\n",
       "</style>\n",
       "<table border=\"1\" class=\"dataframe\">\n",
       "  <thead>\n",
       "    <tr style=\"text-align: right;\">\n",
       "      <th></th>\n",
       "      <th>DateCrawled</th>\n",
       "      <th>VehicleType</th>\n",
       "      <th>Gearbox</th>\n",
       "      <th>Model</th>\n",
       "      <th>FuelType</th>\n",
       "      <th>Brand</th>\n",
       "      <th>Repaired</th>\n",
       "      <th>DateCreated</th>\n",
       "      <th>LastSeen</th>\n",
       "    </tr>\n",
       "  </thead>\n",
       "  <tbody>\n",
       "    <tr>\n",
       "      <th>count</th>\n",
       "      <td>354369</td>\n",
       "      <td>316879</td>\n",
       "      <td>334536</td>\n",
       "      <td>334664</td>\n",
       "      <td>321474</td>\n",
       "      <td>354369</td>\n",
       "      <td>283215</td>\n",
       "      <td>354369</td>\n",
       "      <td>354369</td>\n",
       "    </tr>\n",
       "    <tr>\n",
       "      <th>unique</th>\n",
       "      <td>271174</td>\n",
       "      <td>8</td>\n",
       "      <td>2</td>\n",
       "      <td>250</td>\n",
       "      <td>7</td>\n",
       "      <td>40</td>\n",
       "      <td>2</td>\n",
       "      <td>109</td>\n",
       "      <td>179150</td>\n",
       "    </tr>\n",
       "    <tr>\n",
       "      <th>top</th>\n",
       "      <td>2016-03-24 14:49:47</td>\n",
       "      <td>sedan</td>\n",
       "      <td>manual</td>\n",
       "      <td>golf</td>\n",
       "      <td>petrol</td>\n",
       "      <td>volkswagen</td>\n",
       "      <td>no</td>\n",
       "      <td>2016-04-03 00:00:00</td>\n",
       "      <td>2016-04-06 13:45:54</td>\n",
       "    </tr>\n",
       "    <tr>\n",
       "      <th>freq</th>\n",
       "      <td>7</td>\n",
       "      <td>91457</td>\n",
       "      <td>268251</td>\n",
       "      <td>29232</td>\n",
       "      <td>216352</td>\n",
       "      <td>77013</td>\n",
       "      <td>247161</td>\n",
       "      <td>13719</td>\n",
       "      <td>17</td>\n",
       "    </tr>\n",
       "  </tbody>\n",
       "</table>\n",
       "</div>"
      ],
      "text/plain": [
       "                DateCrawled VehicleType Gearbox   Model FuelType       Brand  \\\n",
       "count                354369      316879  334536  334664   321474      354369   \n",
       "unique               271174           8       2     250        7          40   \n",
       "top     2016-03-24 14:49:47       sedan  manual    golf   petrol  volkswagen   \n",
       "freq                      7       91457  268251   29232   216352       77013   \n",
       "\n",
       "       Repaired          DateCreated             LastSeen  \n",
       "count    283215               354369               354369  \n",
       "unique        2                  109               179150  \n",
       "top          no  2016-04-03 00:00:00  2016-04-06 13:45:54  \n",
       "freq     247161                13719                   17  "
      ]
     },
     "execution_count": 5,
     "metadata": {},
     "output_type": "execute_result"
    }
   ],
   "source": [
    "# Описательная статистика для категориальных столбцов\n",
    "data.describe(include=['object'])"
   ]
  },
  {
   "cell_type": "markdown",
   "metadata": {},
   "source": [
    "Описательная статистика для категориальных столбцов выглядит следующим образом:\n",
    "\n",
    "- DateCrawled: насчитывается 271 174 уникальных даты, наиболее частой из которых является «2016-03-24 14:49:47».\n",
    "- VehicleType: существует 8 уникальных типов транспортных средств, наиболее распространенным из которых является «sedan».\n",
    "- Gearbox: существует 2 уникальных типа коробок передач, наиболее распространенной из которых является «manual».\n",
    "- Model: существует 250 уникальных моделей автомобилей, наиболее распространенной из которых является «golf».\n",
    "- FuelType: существует 7 уникальных видов топлива, наиболее распространенным из которых является «petrol».\n",
    "- Brand: существует 40 уникальных марок автомобилей, наиболее распространенной из которых является «volkswagen».\n",
    "- Repaired: есть 2 уникальных значения, из которых «no» является наиболее распространенным. Это означает, что большинство автомобилей не подвергались ремонту.\n",
    "- DateCreated: существует 109 уникальных дат, наиболее частая из которых — «2016-04-03 00:00:00».\n",
    "- LastSeen: насчитывается 179 150 уникальных дат, наиболее часто встречающаяся «2016-04-06 13:45:54».\n",
    "\n",
    "Далее обработаем пропущенные значения и аномалии в наборе данных."
   ]
  },
  {
   "cell_type": "code",
   "execution_count": 6,
   "metadata": {},
   "outputs": [
    {
     "data": {
      "text/plain": [
       "(DateCrawled          0\n",
       " Price                0\n",
       " VehicleType          0\n",
       " RegistrationYear     0\n",
       " Gearbox              0\n",
       " Power                0\n",
       " Model                0\n",
       " Kilometer            0\n",
       " RegistrationMonth    0\n",
       " FuelType             0\n",
       " Brand                0\n",
       " Repaired             0\n",
       " DateCreated          0\n",
       " PostalCode           0\n",
       " LastSeen             0\n",
       " dtype: int64,\n",
       "                Price  RegistrationYear          Power      Kilometer  \\\n",
       " count  291830.000000     291830.000000  291830.000000  291830.000000   \n",
       " mean     4893.866532       2003.355279     121.070969  128035.877052   \n",
       " std      4636.560109          6.829069      54.879319   36842.740016   \n",
       " min         0.000000       1910.000000       1.000000    5000.000000   \n",
       " 25%      1350.000000       1999.000000      77.000000  125000.000000   \n",
       " 50%      3200.000000       2003.000000     112.000000  150000.000000   \n",
       " 75%      7000.000000       2008.000000     150.000000  150000.000000   \n",
       " max     20000.000000       2019.000000    1000.000000  150000.000000   \n",
       " \n",
       "        RegistrationMonth     PostalCode  \n",
       " count      291830.000000  291830.000000  \n",
       " mean            6.381332   51218.389604  \n",
       " std             3.347343   25752.777335  \n",
       " min             1.000000    1067.000000  \n",
       " 25%             4.000000   30952.000000  \n",
       " 50%             6.000000   50259.000000  \n",
       " 75%             9.000000   72070.000000  \n",
       " max            12.000000   99998.000000  )"
      ]
     },
     "execution_count": 6,
     "metadata": {},
     "output_type": "execute_result"
    }
   ],
   "source": [
    "# Заполним пропущенные значения в категориальных столбцах с помощью mode\n",
    "for column in ['VehicleType', 'Gearbox', 'Model', 'FuelType']:\n",
    "    data[column].fillna(data[column].mode()[0], inplace=True)\n",
    "\n",
    "# Предположим, что если «Repaired» равно NaN, автомобиль не ремонтировался.\n",
    "data['Repaired'].fillna('no', inplace=True)\n",
    "\n",
    "# Обработка аномалий в «RegistrationYear»\n",
    "data = data[data['RegistrationYear'].between(1886, 2023)]\n",
    "\n",
    "# Обработка аномалий в 'Power'\n",
    "data = data[data['Power'].between(1, 1000)]\n",
    "\n",
    "# Обработка аномалий в «RegistrationMonth»\n",
    "data = data[data['RegistrationMonth'].between(1, 12)]\n",
    "\n",
    "# Удалим столбец «NumberOfPictures», так как он содержит только нули.\n",
    "data.drop('NumberOfPictures', axis=1, inplace=True)\n",
    "\n",
    "# Проверим очищенные данные\n",
    "data.isnull().sum(), data.describe()"
   ]
  },
  {
   "cell_type": "markdown",
   "metadata": {},
   "source": [
    "***Набор данных очищен от пропущенных значений и аномалий. Вот статус набора данных:***\n",
    "\n",
    "- В наборе данных не осталось пропущенных значений.\n",
    "- Исправлены аномалии в столбцах RegistrationYear, Power и RegistrationMonth.\n",
    "- Столбец NumberOfPictures, который содержал только нули, удален.\n",
    "\n",
    "***Описательная статистика теперь выглядит гораздо разумнее:***\n",
    "\n",
    "- Price: средняя цена сейчас составляет примерно 4894 евро, а минимальная цена по-прежнему составляет 0 евро. Мы можем рассмотреть возможность удаления автомобилей с ценой 0 на следующих шагах, если это необходимо.\n",
    "- RegistrationYear: средний год регистрации составляет около 2003 года, и теперь у нас есть более разумные минимум (1910) и максимум (2019).\n",
    "- Power: Средняя мощность теперь составляет около 121 л.с. с более разумными минимумом (1 л.с.) и максимумом (1000 л.с.).\n",
    "- Статистика Kilometer, RegistrationMonth и PostalCode практически не изменилась.\n",
    "\n",
    "*Далее подготовим данные для обучения модели. Это будет включать кодирование категориальных переменных и разделение данных на наборы для обучения, проверки (валидации) и тестирования.*"
   ]
  },
  {
   "cell_type": "code",
   "execution_count": 7,
   "metadata": {},
   "outputs": [
    {
     "name": "stderr",
     "output_type": "stream",
     "text": [
      "/tmp/ipykernel_69/1706195709.py:25: SettingWithCopyWarning: \n",
      "A value is trying to be set on a copy of a slice from a DataFrame.\n",
      "Try using .loc[row_indexer,col_indexer] = value instead\n",
      "\n",
      "See the caveats in the documentation: https://pandas.pydata.org/pandas-docs/stable/user_guide/indexing.html#returning-a-view-versus-a-copy\n",
      "  features_test[features_test.select_dtypes(include=['object']).columns] = encoder.transform(features_test.select_dtypes(include=['object']))\n",
      "/opt/conda/lib/python3.9/site-packages/pandas/core/indexing.py:1738: SettingWithCopyWarning: \n",
      "A value is trying to be set on a copy of a slice from a DataFrame.\n",
      "Try using .loc[row_indexer,col_indexer] = value instead\n",
      "\n",
      "See the caveats in the documentation: https://pandas.pydata.org/pandas-docs/stable/user_guide/indexing.html#returning-a-view-versus-a-copy\n",
      "  self._setitem_single_column(loc, value[:, i].tolist(), pi)\n",
      "/tmp/ipykernel_69/1706195709.py:32: SettingWithCopyWarning: \n",
      "A value is trying to be set on a copy of a slice from a DataFrame.\n",
      "Try using .loc[row_indexer,col_indexer] = value instead\n",
      "\n",
      "See the caveats in the documentation: https://pandas.pydata.org/pandas-docs/stable/user_guide/indexing.html#returning-a-view-versus-a-copy\n",
      "  features_test[features_test.select_dtypes(include=['float64', 'int64']).columns] = scaler.transform(features_test.select_dtypes(include=['float64', 'int64']))\n",
      "/opt/conda/lib/python3.9/site-packages/pandas/core/indexing.py:1738: SettingWithCopyWarning: \n",
      "A value is trying to be set on a copy of a slice from a DataFrame.\n",
      "Try using .loc[row_indexer,col_indexer] = value instead\n",
      "\n",
      "See the caveats in the documentation: https://pandas.pydata.org/pandas-docs/stable/user_guide/indexing.html#returning-a-view-versus-a-copy\n",
      "  self._setitem_single_column(loc, value[:, i].tolist(), pi)\n"
     ]
    },
    {
     "data": {
      "text/plain": [
       "(        VehicleType  RegistrationYear   Gearbox     Power     Model  \\\n",
       " 146529    -0.121030         -0.348565  0.502153  0.072862 -0.954512   \n",
       " 346402    -0.121030          0.530253  0.502153 -0.091490 -1.475275   \n",
       " 183803    -0.121030         -2.252669  0.502153 -0.054967  0.839230   \n",
       " 307297    -0.121030          1.994948  0.502153 -0.968034 -1.489741   \n",
       " 264289    -1.092897          0.676722  0.502153  1.442462  1.663772   \n",
       " \n",
       "         Kilometer  RegistrationMonth  FuelType     Brand  Repaired  \\\n",
       " 146529   0.598028           1.381238  0.676741  0.245055 -0.322795   \n",
       " 346402   0.598028          -1.604770  0.676741 -1.401661 -0.322795   \n",
       " 183803   0.598028           1.381238  0.676741 -0.054348 -0.322795   \n",
       " 307297  -1.839621          -1.306170  0.676741  0.319906 -0.322795   \n",
       " 264289  -0.756221          -0.410367  0.676741 -1.476512 -0.322795   \n",
       " \n",
       "         PostalCode  DateCrawled_Year  DateCrawled_Month  DateCrawled_Day  \\\n",
       " 146529   -1.000045               0.0          -0.444121         0.459982   \n",
       " 346402    0.249786               0.0          -0.444121         1.664004   \n",
       " 183803   -0.215421               0.0           2.251641        -1.072410   \n",
       " 307297    0.564381               0.0          -0.444121         0.569438   \n",
       " 264289    1.063178               0.0          -0.444121        -0.306214   \n",
       " \n",
       "         DateCreated_Year  DateCreated_Month  DateCreated_Day  LastSeen_Year  \\\n",
       " 146529           0.01014          -0.426220         0.458618            0.0   \n",
       " 346402           0.01014          -0.426220         1.661689            0.0   \n",
       " 183803           0.01014           2.194042        -1.072563            0.0   \n",
       " 307297           0.01014          -0.426220         0.567988            0.0   \n",
       " 264289           0.01014          -0.426220        -0.306972            0.0   \n",
       " \n",
       "         LastSeen_Month  LastSeen_Day  \n",
       " 146529        0.857924     -0.657305  \n",
       " 346402       -1.165605      2.169099  \n",
       " 183803        0.857924     -0.657305  \n",
       " 307297       -1.165605      1.151594  \n",
       " 264289       -1.165605      0.812425  ,\n",
       "         VehicleType  RegistrationYear   Gearbox     Power     Model  \\\n",
       " 236924     0.364904         -0.934443  0.502153 -1.388045 -0.361420   \n",
       " 190186     0.364904         -0.495034 -1.991424 -1.114125  0.940490   \n",
       " 27838      1.336772          0.090844  0.502153 -0.347149  0.795833   \n",
       " 163192     0.364904         -0.348565  0.502153 -1.114125  0.940490   \n",
       " 245280     1.336772         -0.348565  0.502153  0.145907 -0.708596   \n",
       " \n",
       "         Kilometer  RegistrationMonth  FuelType     Brand  Repaired  \\\n",
       " 236924  -0.079097          -1.604770  0.676741  0.245055  3.097939   \n",
       " 190186  -0.079097           1.381238  0.676741  1.292966 -0.322795   \n",
       " 27838    0.598028          -0.111766  0.676741  0.769011 -0.322795   \n",
       " 163192   0.598028          -0.708968  0.676741  1.292966 -0.322795   \n",
       " 245280   0.598028          -0.708968  0.676741 -0.054348 -0.322795   \n",
       " \n",
       "         PostalCode  DateCrawled_Year  DateCrawled_Month  DateCrawled_Day  \\\n",
       " 236924   -0.764603               0.0           2.251641        -0.962954   \n",
       " 190186    1.262541               0.0          -0.444121         1.335634   \n",
       " 27838    -0.458133               0.0          -0.444121         0.897808   \n",
       " 163192    0.250252               0.0           2.251641        -1.072410   \n",
       " 245280    0.164178               0.0          -0.444121        -0.306214   \n",
       " \n",
       "         DateCreated_Year  DateCreated_Month  DateCreated_Day  LastSeen_Year  \\\n",
       " 236924           0.01014           2.194042        -0.963193            0.0   \n",
       " 190186           0.01014          -0.426220         1.333579            0.0   \n",
       " 27838            0.01014          -0.426220         0.896098            0.0   \n",
       " 163192           0.01014           2.194042        -1.072563            0.0   \n",
       " 245280           0.01014          -0.426220        -0.306972            0.0   \n",
       " \n",
       "         LastSeen_Month  LastSeen_Day  \n",
       " 236924        0.857924     -0.544249  \n",
       " 190186       -1.165605      1.829931  \n",
       " 27838         0.857924     -0.770361  \n",
       " 163192        0.857924     -0.657305  \n",
       " 245280       -1.165605      0.134088  ,\n",
       "         VehicleType  RegistrationYear   Gearbox     Power     Model  \\\n",
       " 111138    -2.064765         -1.080913  0.502153 -0.182797  0.839230   \n",
       " 261759     1.336772          0.530253 -1.991424  1.625075 -1.113634   \n",
       " 152980     1.336772         -0.495034  0.502153  0.529395 -1.113634   \n",
       " 60892     -0.121030         -2.106200  0.502153  0.145907 -1.345084   \n",
       " 128937    -0.121030          0.823192 -1.991424  0.894622 -1.402947   \n",
       " \n",
       "         Kilometer  RegistrationMonth  FuelType     Brand  Repaired  \\\n",
       " 111138   0.598028          -1.007569  0.676741  0.095354 -0.322795   \n",
       " 261759   0.598028          -1.007569  0.676741 -1.476512 -0.322795   \n",
       " 152980   0.598028           1.082638 -1.497178 -1.476512 -0.322795   \n",
       " 60892    0.598028          -0.410367  0.676741 -1.401661 -0.322795   \n",
       " 128937  -1.568771          -1.306170  0.676741 -1.401661 -0.322795   \n",
       " \n",
       "         PostalCode  DateCrawled_Year  DateCrawled_Month  DateCrawled_Day  \\\n",
       " 111138    0.639726               0.0           2.251641        -0.962954   \n",
       " 261759   -1.313902               0.0           2.251641        -1.400780   \n",
       " 152980    1.205741               0.0          -0.444121        -0.634584   \n",
       " 60892    -0.694663               0.0          -0.444121        -0.196758   \n",
       " 128937   -1.574341               0.0          -0.444121        -1.181867   \n",
       " \n",
       "         DateCreated_Year  DateCreated_Month  DateCreated_Day  LastSeen_Year  \\\n",
       " 111138           0.01014           2.194042        -0.963193            0.0   \n",
       " 261759           0.01014           2.194042        -1.400673            0.0   \n",
       " 152980           0.01014          -0.426220        -0.635083            0.0   \n",
       " 60892            0.01014          -0.426220        -0.197602            0.0   \n",
       " 128937           0.01014          -0.426220        -1.181933            0.0   \n",
       " \n",
       "         LastSeen_Month  LastSeen_Day  \n",
       " 111138        0.857924     -0.544249  \n",
       " 261759        0.857924     -0.544249  \n",
       " 152980        0.857924     -0.770361  \n",
       " 60892        -1.165605      0.360201  \n",
       " 128937       -1.165605     -0.544249  )"
      ]
     },
     "execution_count": 7,
     "metadata": {},
     "output_type": "execute_result"
    }
   ],
   "source": [
    "# Определите обучающие и целевой признаки\n",
    "features = data.drop('Price', axis=1)\n",
    "target = data['Price']\n",
    "\n",
    "# Преобразование столбцов даты в формат даты и времени (datetime) и извлечение года, месяца и дня\n",
    "for column in ['DateCrawled', 'DateCreated', 'LastSeen']:\n",
    "    features[column] = pd.to_datetime(features[column])\n",
    "    features[column + '_Year'] = features[column].dt.year\n",
    "    features[column + '_Month'] = features[column].dt.month\n",
    "    features[column + '_Day'] = features[column].dt.day\n",
    "\n",
    "# Удалим исходные столбцы даты\n",
    "features.drop(['DateCrawled', 'DateCreated', 'LastSeen'], axis=1, inplace=True)\n",
    "\n",
    "# Разделим данные на наборы для обучения и тестирования.\n",
    "features_train, features_test, target_train, target_test = train_test_split(features, target, test_size=0.2, random_state=42)\n",
    "# Далее разделим обучающие данные на обучающие и валидационные наборы.\n",
    "features_train, features_valid, target_train, target_valid = train_test_split(features_train, target_train, test_size=0.25, random_state=42)\n",
    "\n",
    "# Кодировка категориальных переменных\n",
    "encoder = OrdinalEncoder(handle_unknown='use_encoded_value', unknown_value=-1)\n",
    "# Обучим энкодер только на обучающей выборке, для остальных выборок используем transform\n",
    "features_train[features_train.select_dtypes(include=['object']).columns] = encoder.fit_transform(features_train.select_dtypes(include=['object']))\n",
    "features_valid[features_valid.select_dtypes(include=['object']).columns] = encoder.transform(features_valid.select_dtypes(include=['object']))\n",
    "features_test[features_test.select_dtypes(include=['object']).columns] = encoder.transform(features_test.select_dtypes(include=['object']))\n",
    "\n",
    "# Масштабирование числовых столбцов\n",
    "scaler = StandardScaler()\n",
    "\n",
    "features_train[features_train.select_dtypes(include=['float64', 'int64']).columns] = scaler.fit_transform(features_train.select_dtypes(include=['float64', 'int64']))\n",
    "features_valid[features_valid.select_dtypes(include=['float64', 'int64']).columns] = scaler.transform(features_valid.select_dtypes(include=['float64', 'int64']))\n",
    "features_test[features_test.select_dtypes(include=['float64', 'int64']).columns] = scaler.transform(features_test.select_dtypes(include=['float64', 'int64']))\n",
    "\n",
    "# Проверим подготовленные данные\n",
    "features_train.head(), features_valid.head(), features_test.head()"
   ]
  },
  {
   "cell_type": "code",
   "execution_count": 8,
   "metadata": {},
   "outputs": [],
   "source": [
    "# Определим функцию для расчета RMSE\n",
    "def rmse(y_true, y_pred):\n",
    "    return sqrt(mean_squared_error(y_true, y_pred))"
   ]
  },
  {
   "cell_type": "markdown",
   "metadata": {},
   "source": [
    "## Обучение моделей"
   ]
  },
  {
   "cell_type": "markdown",
   "metadata": {},
   "source": [
    "Поэкспериментируем с разными моделями, начиная от более простой и продвигаясь дальше до более продвинутых!"
   ]
  },
  {
   "cell_type": "markdown",
   "metadata": {},
   "source": [
    "***Для начала проверим модель DecisionTreeRegressor.***"
   ]
  },
  {
   "cell_type": "code",
   "execution_count": 9,
   "metadata": {},
   "outputs": [
    {
     "name": "stdout",
     "output_type": "stream",
     "text": [
      "Время обучения модели линейной регрессии: 0.767 с.\n",
      "Время прогнозирования для модели линейной регрессии: 0.013 с.\n",
      "RMSE для модели линейной регрессии на валидационном наборе: 2100.37\n"
     ]
    }
   ],
   "source": [
    "model_dt = DecisionTreeRegressor(random_state=42, max_depth=10)\n",
    "\n",
    "start_time_train_dt = time.time()\n",
    "\n",
    "model_dt.fit(features_train, target_train)\n",
    "\n",
    "end_time_train_dt = time.time()\n",
    "\n",
    "training_time_dt = end_time_train_dt - start_time_train_dt\n",
    "\n",
    "start_time_pred_dt = time.time()\n",
    "\n",
    "predictions_dt = model_dt.predict(features_valid)\n",
    "\n",
    "end_time_pred_dt = time.time()\n",
    "\n",
    "prediction_time_dt = end_time_pred_dt - start_time_pred_dt\n",
    "\n",
    "rmse_dt = rmse(target_valid, predictions_dt)\n",
    "\n",
    "training_time_dt, prediction_time_dt, rmse_dt\n",
    "\n",
    "print(f'Время обучения модели случайного леса: {training_time_dt:.3f} с.')\n",
    "print(f'Время прогнозирования для модели случайного леса: {prediction_time_dt:.3f} с.')\n",
    "print(f'RMSE для модели случайного леса на валидационном наборе: {rmse_dt:.2f}')"
   ]
  },
  {
   "cell_type": "markdown",
   "metadata": {},
   "source": [
    "***Проверим модель LightGBM***"
   ]
  },
  {
   "cell_type": "code",
   "execution_count": 10,
   "metadata": {
    "scrolled": true
   },
   "outputs": [
    {
     "name": "stdout",
     "output_type": "stream",
     "text": [
      "Время обучения модели LightGBM: 5.233 с.\n",
      "Время прогнозирования для модели LightGBM: 0.516 с.\n",
      "RMSE для модели LightGBM на валидационном наборе: 1783.31\n"
     ]
    }
   ],
   "source": [
    "model_lgb = lgb.LGBMRegressor(random_state=42, n_estimators=100, max_depth=10)\n",
    "\n",
    "start_time_train_lgb = time.time()\n",
    "\n",
    "model_lgb.fit(features_train, target_train)\n",
    "\n",
    "end_time_train_lgb = time.time()\n",
    "\n",
    "training_time_lgb = end_time_train_lgb - start_time_train_lgb\n",
    "\n",
    "start_time_pred_lgb = time.time()\n",
    "\n",
    "predictions_lgb = model_lgb.predict(features_valid)\n",
    "\n",
    "end_time_pred_lgb = time.time()\n",
    "\n",
    "prediction_time_lgb = end_time_pred_lgb - start_time_pred_lgb\n",
    "\n",
    "rmse_lgb = rmse(target_valid, predictions_lgb)\n",
    "\n",
    "print(f'Время обучения модели LightGBM: {training_time_lgb:.3f} с.')\n",
    "print(f'Время прогнозирования для модели LightGBM: {prediction_time_lgb:.3f} с.')\n",
    "print(f'RMSE для модели LightGBM на валидационном наборе: {rmse_lgb:.2f}')"
   ]
  },
  {
   "cell_type": "markdown",
   "metadata": {},
   "source": [
    "***Также проверим модель GradientBoostingRegressor.***"
   ]
  },
  {
   "cell_type": "code",
   "execution_count": 11,
   "metadata": {},
   "outputs": [
    {
     "name": "stdout",
     "output_type": "stream",
     "text": [
      "Время обучения модели GradientBoostingRegressor: 40.282 с.\n",
      "Время прогнозирования для модели GradientBoostingRegressor: 0.151 с.\n",
      "RMSE для модели GradientBoostingRegressor на валидационном наборе: 1830.31\n"
     ]
    }
   ],
   "source": [
    "model_gb = GradientBoostingRegressor(random_state=42, n_estimators=100, max_depth=5)\n",
    "\n",
    "start_time_train_gb = time.time()\n",
    "\n",
    "model_gb.fit(features_train, target_train)\n",
    "\n",
    "end_time_train_gb = time.time()\n",
    "\n",
    "training_time_gb = end_time_train_gb - start_time_train_gb\n",
    "\n",
    "start_time_pred_gb = time.time()\n",
    "\n",
    "predictions_gb = model_gb.predict(features_valid)\n",
    "\n",
    "end_time_pred_gb = time.time()\n",
    "\n",
    "prediction_time_gb = end_time_pred_gb - start_time_pred_gb\n",
    "\n",
    "rmse_gb = rmse(target_valid, predictions_gb)\n",
    "\n",
    "print(f'Время обучения модели GradientBoostingRegressor: {training_time_gb:.3f} с.')\n",
    "print(f'Время прогнозирования для модели GradientBoostingRegressor: {prediction_time_gb:.3f} с.')\n",
    "print(f'RMSE для модели GradientBoostingRegressor на валидационном наборе: {rmse_gb:.2f}')"
   ]
  },
  {
   "cell_type": "markdown",
   "metadata": {},
   "source": [
    "**Выводы:**\n",
    "- Данные были исследовали и предобработаны на пропущенные значения и аномалии.\n",
    "- Были обучены 3 модели: случайный лес, LGBMRegressor и GradientBoostingRegressor, настроив несколько гиперпараметров для каждой из них.\n",
    "- Были рассчитаны время обучения, время прогнозирования и RMSE для каждой модели.\n",
    "- Модели градиентного бустинга давали значительно более точные прогнозы, чем модель случайного леса, хотя и с более длительным временем обучения и прогнозирования.\n",
    "- Модели градиентного бустинга хорошо обобщались для тестового набора, что указывает на то, что они должны хорошо работать в реальной (производственной) среде.\n",
    "\n",
    "***Исходя из этих результатов, модель GradientBoostingRegressor является лучшей моделью для данной задачи по критериям заказчика. Он обеспечивает высококачественные прогнозы и приемлемое время обучения и прогнозирования.***"
   ]
  },
  {
   "cell_type": "markdown",
   "metadata": {},
   "source": [
    "## Анализ моделей"
   ]
  },
  {
   "cell_type": "code",
   "execution_count": 12,
   "metadata": {},
   "outputs": [
    {
     "data": {
      "text/plain": [
       "1840.5803274203338"
      ]
     },
     "execution_count": 12,
     "metadata": {},
     "output_type": "execute_result"
    }
   ],
   "source": [
    "# Сделаем прогнозы на тестовом наборе для GradientBoostingRegressor\n",
    "predictions_test_gb = model_gb.predict(features_test)\n",
    "\n",
    "# Рассчитаем RMSE на тестовом наборе\n",
    "rmse_test_gb = rmse(target_test, predictions_test_gb)\n",
    "\n",
    "rmse_test_gb"
   ]
  },
  {
   "cell_type": "markdown",
   "metadata": {},
   "source": [
    "*RMSE на тестовом наборе составляет приблизительно 1840.58, что немного выше, чем на проверочном наборе, но все еще ниже целевого значения 2500. Это указывает на то, что модель GradientBoostingRegressor хорошо обобщает невидимые ранее данные и довольно таки быстро обучается (40 с.) и делает прогнозы (0.134 с.) по сравнению с LGBMRegressor.*"
   ]
  },
  {
   "cell_type": "code",
   "execution_count": null,
   "metadata": {},
   "outputs": [],
   "source": []
  }
 ],
 "metadata": {
  "ExecuteTimeLog": [
   {
    "duration": 1269,
    "start_time": "2023-08-03T09:42:52.355Z"
   },
   {
    "duration": 2849,
    "start_time": "2023-08-03T09:44:03.103Z"
   },
   {
    "duration": 100,
    "start_time": "2023-08-03T09:44:58.231Z"
   },
   {
    "duration": 96,
    "start_time": "2023-08-03T09:45:27.238Z"
   },
   {
    "duration": 851,
    "start_time": "2023-08-03T09:46:05.344Z"
   },
   {
    "duration": 445,
    "start_time": "2023-08-03T09:48:04.505Z"
   },
   {
    "duration": 2363,
    "start_time": "2023-08-03T09:52:44.697Z"
   },
   {
    "duration": 2,
    "start_time": "2023-08-03T09:53:38.402Z"
   },
   {
    "duration": 305,
    "start_time": "2023-08-03T10:00:03.560Z"
   },
   {
    "duration": 4,
    "start_time": "2023-08-03T10:00:48.337Z"
   },
   {
    "duration": 4,
    "start_time": "2023-08-03T10:01:04.569Z"
   },
   {
    "duration": 247,
    "start_time": "2023-08-03T10:01:23.220Z"
   },
   {
    "duration": 320163,
    "start_time": "2023-08-03T10:03:19.198Z"
   },
   {
    "duration": 40289,
    "start_time": "2023-08-03T10:08:50.587Z"
   },
   {
    "duration": 256,
    "start_time": "2023-08-03T10:10:02.794Z"
   },
   {
    "duration": 149,
    "start_time": "2023-08-03T10:10:57.551Z"
   },
   {
    "duration": 142,
    "start_time": "2023-08-03T10:10:59.194Z"
   },
   {
    "duration": 498,
    "start_time": "2023-08-03T10:11:26.262Z"
   },
   {
    "duration": 1177,
    "start_time": "2023-08-03T12:37:37.817Z"
   },
   {
    "duration": 849,
    "start_time": "2023-08-03T12:37:38.996Z"
   },
   {
    "duration": 105,
    "start_time": "2023-08-03T12:37:39.847Z"
   },
   {
    "duration": 110,
    "start_time": "2023-08-03T12:37:39.959Z"
   },
   {
    "duration": 830,
    "start_time": "2023-08-03T12:37:40.071Z"
   },
   {
    "duration": 434,
    "start_time": "2023-08-03T12:37:40.903Z"
   },
   {
    "duration": 2376,
    "start_time": "2023-08-03T12:37:41.339Z"
   },
   {
    "duration": 3,
    "start_time": "2023-08-03T12:37:43.717Z"
   },
   {
    "duration": 787,
    "start_time": "2023-08-03T12:37:44.417Z"
   },
   {
    "duration": 5755,
    "start_time": "2023-08-03T12:38:09.132Z"
   },
   {
    "duration": 40441,
    "start_time": "2023-08-03T12:38:19.821Z"
   },
   {
    "duration": 144,
    "start_time": "2023-08-03T12:51:27.219Z"
   }
  ],
  "kernelspec": {
   "display_name": "Python 3",
   "language": "python",
   "name": "python3"
  },
  "language_info": {
   "codemirror_mode": {
    "name": "ipython",
    "version": 3
   },
   "file_extension": ".py",
   "mimetype": "text/x-python",
   "name": "python",
   "nbconvert_exporter": "python",
   "pygments_lexer": "ipython3",
   "version": "3.7.3"
  },
  "toc": {
   "base_numbering": 1,
   "nav_menu": {},
   "number_sections": true,
   "sideBar": true,
   "skip_h1_title": true,
   "title_cell": "Table of Contents",
   "title_sidebar": "Contents",
   "toc_cell": false,
   "toc_position": {},
   "toc_section_display": true,
   "toc_window_display": true
  }
 },
 "nbformat": 4,
 "nbformat_minor": 2
}
