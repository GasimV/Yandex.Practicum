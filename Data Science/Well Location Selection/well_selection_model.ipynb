{
 "cells": [
  {
   "cell_type": "markdown",
   "metadata": {},
   "source": [
    "# Выбор локации для скважины"
   ]
  },
  {
   "cell_type": "markdown",
   "metadata": {},
   "source": [
    "## Введение\n",
    "\n",
    "\n",
    "**Описание проекта**\n",
    "\n",
    "- Допустим, вы работаете в добывающей компании «ГлавРосГосНефть». Нужно решить, где бурить новую скважину. Вам предоставлены пробы нефти в трёх регионах: в каждом 10 000 месторождений, где измерили качество нефти и объём её запасов. \n",
    "    \n",
    "**Цель проекта**\n",
    "\n",
    "- Постройте модель машинного обучения, которая поможет определить регион, где добыча принесёт наибольшую прибыль. Проанализируйте возможную прибыль и риски техникой *Bootstrap.*\n",
    "\n",
    "**Шаги для выбора локации:**\n",
    "\n",
    "- В избранном регионе ищут месторождения, для каждого определяют значения признаков;\n",
    "- Строят модель и оценивают объём запасов;\n",
    "- Выбирают месторождения с самым высокими оценками значений. Количество месторождений зависит от бюджета компании и стоимости разработки одной скважины;\n",
    "- Прибыль равна суммарной прибыли отобранных месторождений.\n",
    "\n",
    "**Условия задачи:**\n",
    "\n",
    "- Для обучения модели подходит только линейная регрессия (остальные — недостаточно предсказуемые).\n",
    "- При разведке региона исследуют 500 точек, из которых с помощью машинного обучения выбирают 200 лучших для разработки.\n",
    "- Бюджет на разработку скважин в регионе — 10 млрд рублей.\n",
    "- При нынешних ценах один баррель сырья приносит 450 рублей дохода. Доход с каждой единицы продукта составляет 450 тыс. рублей, поскольку объём указан в тысячах баррелей.\n",
    "- После оценки рисков нужно оставить лишь те регионы, в которых вероятность убытков меньше 2.5%. Среди них выбирают регион с наибольшей средней прибылью.\n",
    "\n",
    "**Описание данных:**\n",
    "- id — уникальный идентификатор скважины;\n",
    "- f0, f1, f2 — три признака точек (неважно, что они означают, но сами признаки значимы);\n",
    "- product — объём запасов в скважине (тыс. баррелей).\n",
    "\n",
    "**План работы:**\n",
    "\n",
    "1. Загрузка и подготовка данных.\n",
    "2. Обучение и проверка модели.\n",
    "3. Подготовка к расчёту прибыли.\n",
    "4. Расчёт прибыли и рисков."
   ]
  },
  {
   "cell_type": "markdown",
   "metadata": {},
   "source": [
    "## Загрузка и подготовка данных"
   ]
  },
  {
   "cell_type": "code",
   "execution_count": 1,
   "metadata": {},
   "outputs": [],
   "source": [
    "# Загрузим все необходимые библиотеки\n",
    "import pandas as pd\n",
    "import numpy as np\n",
    "import matplotlib.pyplot as plt\n",
    "import seaborn as sns\n",
    "from sklearn.model_selection import train_test_split\n",
    "from sklearn.linear_model import LinearRegression\n",
    "from sklearn.metrics import mean_squared_error\n",
    "from scipy import stats"
   ]
  },
  {
   "cell_type": "code",
   "execution_count": 2,
   "metadata": {},
   "outputs": [
    {
     "name": "stdout",
     "output_type": "stream",
     "text": [
      "      id        f0        f1        f2     product\n",
      "0  txEyH  0.705745 -0.497823  1.221170  105.280062\n",
      "1  2acmU  1.334711 -0.340164  4.365080   73.037750\n",
      "2  409Wp  1.022732  0.151990  1.419926   85.265647\n",
      "3  iJLyR -0.032172  0.139033  2.978566  168.620776\n",
      "4  Xdl7t  1.988431  0.155413  4.751769  154.036647\n",
      "\n",
      "<class 'pandas.core.frame.DataFrame'>\n",
      "RangeIndex: 100000 entries, 0 to 99999\n",
      "Data columns (total 5 columns):\n",
      " #   Column   Non-Null Count   Dtype  \n",
      "---  ------   --------------   -----  \n",
      " 0   id       100000 non-null  object \n",
      " 1   f0       100000 non-null  float64\n",
      " 2   f1       100000 non-null  float64\n",
      " 3   f2       100000 non-null  float64\n",
      " 4   product  100000 non-null  float64\n",
      "dtypes: float64(4), object(1)\n",
      "memory usage: 3.8+ MB\n",
      "None\n"
     ]
    }
   ],
   "source": [
    "# Загрузим данные для каждого региона\n",
    "geo_data_0 = pd.read_csv('/datasets/geo_data_0.csv')\n",
    "\n",
    "print(geo_data_0.head())\n",
    "print()\n",
    "print(geo_data_0.info())"
   ]
  },
  {
   "cell_type": "code",
   "execution_count": 3,
   "metadata": {},
   "outputs": [
    {
     "name": "stdout",
     "output_type": "stream",
     "text": [
      "      id         f0         f1        f2     product\n",
      "0  kBEdx -15.001348  -8.276000 -0.005876    3.179103\n",
      "1  62mP7  14.272088  -3.475083  0.999183   26.953261\n",
      "2  vyE1P   6.263187  -5.948386  5.001160  134.766305\n",
      "3  KcrkZ -13.081196 -11.506057  4.999415  137.945408\n",
      "4  AHL4O  12.702195  -8.147433  5.004363  134.766305\n",
      "\n",
      "<class 'pandas.core.frame.DataFrame'>\n",
      "RangeIndex: 100000 entries, 0 to 99999\n",
      "Data columns (total 5 columns):\n",
      " #   Column   Non-Null Count   Dtype  \n",
      "---  ------   --------------   -----  \n",
      " 0   id       100000 non-null  object \n",
      " 1   f0       100000 non-null  float64\n",
      " 2   f1       100000 non-null  float64\n",
      " 3   f2       100000 non-null  float64\n",
      " 4   product  100000 non-null  float64\n",
      "dtypes: float64(4), object(1)\n",
      "memory usage: 3.8+ MB\n",
      "None\n"
     ]
    }
   ],
   "source": [
    "geo_data_1 = pd.read_csv('/datasets/geo_data_1.csv')\n",
    "\n",
    "print(geo_data_1.head())\n",
    "print()\n",
    "print(geo_data_1.info())"
   ]
  },
  {
   "cell_type": "code",
   "execution_count": 4,
   "metadata": {},
   "outputs": [
    {
     "name": "stdout",
     "output_type": "stream",
     "text": [
      "      id        f0        f1        f2     product\n",
      "0  fwXo0 -1.146987  0.963328 -0.828965   27.758673\n",
      "1  WJtFt  0.262778  0.269839 -2.530187   56.069697\n",
      "2  ovLUW  0.194587  0.289035 -5.586433   62.871910\n",
      "3  q6cA6  2.236060 -0.553760  0.930038  114.572842\n",
      "4  WPMUX -0.515993  1.716266  5.899011  149.600746\n",
      "\n",
      "<class 'pandas.core.frame.DataFrame'>\n",
      "RangeIndex: 100000 entries, 0 to 99999\n",
      "Data columns (total 5 columns):\n",
      " #   Column   Non-Null Count   Dtype  \n",
      "---  ------   --------------   -----  \n",
      " 0   id       100000 non-null  object \n",
      " 1   f0       100000 non-null  float64\n",
      " 2   f1       100000 non-null  float64\n",
      " 3   f2       100000 non-null  float64\n",
      " 4   product  100000 non-null  float64\n",
      "dtypes: float64(4), object(1)\n",
      "memory usage: 3.8+ MB\n",
      "None\n"
     ]
    }
   ],
   "source": [
    "geo_data_2 = pd.read_csv('/datasets/geo_data_2.csv')\n",
    "\n",
    "print(geo_data_2.head())\n",
    "print()\n",
    "print(geo_data_2.info())"
   ]
  },
  {
   "cell_type": "code",
   "execution_count": 5,
   "metadata": {},
   "outputs": [
    {
     "name": "stdout",
     "output_type": "stream",
     "text": [
      "Количество дубликатов в Регионе 0: 0\n",
      "Количество дубликатов в Регионе 1: 0\n",
      "Количество дубликатов в Регионе 2: 0\n"
     ]
    }
   ],
   "source": [
    "# Проверим есть ли дубликаты в каждом регионе\n",
    "print(\"Количество дубликатов в Регионе 0:\", geo_data_0.duplicated().sum())\n",
    "print(\"Количество дубликатов в Регионе 1:\", geo_data_1.duplicated().sum())\n",
    "print(\"Количество дубликатов в Регионе 2:\", geo_data_2.duplicated().sum())"
   ]
  },
  {
   "cell_type": "markdown",
   "metadata": {},
   "source": [
    "*Видно, что пропущенных значений и дубликатов в данных нет.*"
   ]
  },
  {
   "cell_type": "code",
   "execution_count": 6,
   "metadata": {},
   "outputs": [
    {
     "data": {
      "image/png": "[encoded data removed]",
      "text/plain": [
       "<Figure size 864x1296 with 6 Axes>"
      ]
     },
     "metadata": {
      "needs_background": "light"
     },
     "output_type": "display_data"
    }
   ],
   "source": [
    "# Посмотрим распределение целевой переменной и признаков для каждого региона, построив гистограмму\n",
    "\n",
    "fig, axs = plt.subplots(3, 2, figsize=(12, 18))\n",
    "sns.histplot(data=geo_data_0, x=\"product\", ax=axs[0, 0], bins=50)\n",
    "sns.histplot(data=geo_data_0.drop(columns=[\"id\", \"product\"]), ax=axs[0, 1], bins=50)\n",
    "axs[0, 0].set_title(\"Распределение целевой переменной в Регионе 0\")\n",
    "axs[0, 1].set_title(\"Распределение признаков в Регионе 0\")\n",
    "\n",
    "sns.histplot(data=geo_data_1, x=\"product\", ax=axs[1, 0], bins=50)\n",
    "sns.histplot(data=geo_data_1.drop(columns=[\"id\", \"product\"]), ax=axs[1, 1], bins=50)\n",
    "axs[1, 0].set_title(\"Распределение целевой переменной в Регионе 1\")\n",
    "axs[1, 1].set_title(\"Распределение признаков в Регионе 1\")\n",
    "\n",
    "sns.histplot(data=geo_data_2, x=\"product\", ax=axs[2, 0], bins=50)\n",
    "sns.histplot(data=geo_data_2.drop(columns=[\"id\", \"product\"]), ax=axs[2, 1], bins=50)\n",
    "axs[2, 0].set_title(\"Распределение целевой переменной в Регионе 2\")\n",
    "axs[2, 1].set_title(\"Распределение признаков в Регионе 2\")\n",
    "\n",
    "plt.tight_layout()\n",
    "plt.show()"
   ]
  },
  {
   "cell_type": "code",
   "execution_count": 7,
   "metadata": {},
   "outputs": [
    {
     "data": {
      "image/png": "[encoded data removed]",
      "text/plain": [
       "<Figure size 1080x288 with 6 Axes>"
      ]
     },
     "metadata": {
      "needs_background": "light"
     },
     "output_type": "display_data"
    }
   ],
   "source": [
    "# Проверка на мультиколлинеарность в каждом регионе.\n",
    "\n",
    "fig, axs = plt.subplots(1, 3, figsize=(15, 4))\n",
    "sns.heatmap(geo_data_0.drop(columns=[\"id\", \"product\"]).corr(), ax=axs[0], cmap=\"coolwarm\", annot=True)\n",
    "sns.heatmap(geo_data_1.drop(columns=[\"id\", \"product\"]).corr(), ax=axs[1], cmap=\"coolwarm\", annot=True)\n",
    "sns.heatmap(geo_data_2.drop(columns=[\"id\", \"product\"]).corr(), ax=axs[2], cmap=\"coolwarm\", annot=True)\n",
    "axs[0].set_title(\"Матрица корреляции для признаков в Регионе 0\")\n",
    "axs[1].set_title(\"Матрица корреляции для признаков в Регионе 1\")\n",
    "axs[2].set_title(\"Матрица корреляции для признаков в Регионе 2\")\n",
    "\n",
    "plt.tight_layout()\n",
    "plt.show()"
   ]
  },
  {
   "cell_type": "code",
   "execution_count": 8,
   "metadata": {},
   "outputs": [
    {
     "data": {
      "image/png": "[encoded data removed]",
      "text/plain": [
       "<Figure size 1080x288 with 6 Axes>"
      ]
     },
     "metadata": {
      "needs_background": "light"
     },
     "output_type": "display_data"
    },
    {
     "name": "stdout",
     "output_type": "stream",
     "text": [
      "Correlation of Features with Target Variable in Region 1:\n",
      "product    1.000000\n",
      "f2         0.999397\n",
      "f1        -0.010155\n",
      "f0        -0.030491\n",
      "Name: product, dtype: float64\n"
     ]
    }
   ],
   "source": [
    "fig, axs = plt.subplots(1, 3, figsize=(15, 4))\n",
    "\n",
    "# Тепловая карта региона 0\n",
    "sns.heatmap(geo_data_0.drop(columns=[\"id\"]).corr(), ax=axs[0], cmap=\"coolwarm\", annot=True)\n",
    "axs[0].set_title(\"Correlation Matrix for Features in Region 0\")\n",
    "\n",
    "# Тепловая карта региона 0\n",
    "corr_matrix_1 = geo_data_1.drop(columns=[\"id\"]).corr()\n",
    "sns.heatmap(corr_matrix_1, ax=axs[1], cmap=\"coolwarm\", annot=True)\n",
    "axs[1].set_title(\"Correlation Matrix for Features in Region 1\")\n",
    "\n",
    "# Тепловая карта региона 0\n",
    "sns.heatmap(geo_data_2.drop(columns=[\"id\"]).corr(), ax=axs[2], cmap=\"coolwarm\", annot=True)\n",
    "axs[2].set_title(\"Correlation Matrix for Features in Region 2\")\n",
    "\n",
    "plt.tight_layout()\n",
    "plt.show()\n",
    "\n",
    "# Корреляция признаков с целевой переменной в регионе 1\n",
    "corr_with_target = corr_matrix_1['product'].sort_values(ascending=False)\n",
    "print(\"Correlation of Features with Target Variable in Region 1:\")\n",
    "print(corr_with_target)"
   ]
  },
  {
   "cell_type": "markdown",
   "metadata": {},
   "source": [
    "## Обучение и проверка модели"
   ]
  },
  {
   "cell_type": "code",
   "execution_count": 9,
   "metadata": {},
   "outputs": [
    {
     "name": "stdout",
     "output_type": "stream",
     "text": [
      "Регион 1\n",
      "RMSE: 37.58\n",
      "Средний объём предсказанных запасов в скважине (тыс. баррелей): 92.59\n",
      "\n",
      "Регион 2\n",
      "RMSE: 0.89\n",
      "Средний объём предсказанных запасов в скважине (тыс. баррелей): 68.73\n",
      "\n",
      "Регион 3\n",
      "RMSE: 40.03\n",
      "Средний объём предсказанных запасов в скважине (тыс. баррелей): 94.97\n"
     ]
    }
   ],
   "source": [
    "# Напишем функцию для обучения и проверки модели линейной регрессии для каждой из трех регионов в наборе данных. \n",
    "# Значения RMSE, полученные для каждого региона, можно использовать для оценки эффективности модели линейной регрессии \n",
    "# при прогнозировании значений целевых переменных.\n",
    "\n",
    "def model_training_validation(data):\n",
    "    # Определим прогнозирующие признаки и целевой признак.\n",
    "    features = data.drop(['id', 'product'], axis=1)\n",
    "    target = data['product']\n",
    "    # Разделим данные на обучающие и валидационные выборки.\n",
    "    features_train, features_valid, target_train, target_valid = train_test_split(features, target, test_size=0.25, \n",
    "                                                                                  random_state=12345)\n",
    "    # Обучим модель линейной регрессии.\n",
    "    model = LinearRegression()\n",
    "    model.fit(features_train, target_train)\n",
    "    # Проверим модель на валидационной выборке используя метрику среднеквадратичной ошибки (RMSE).\n",
    "    predicted_valid = model.predict(features_valid)\n",
    "    mse = mean_squared_error(target_valid, predicted_valid)\n",
    "    rmse = mse ** 0.5\n",
    "    avg_product = predicted_valid.mean()\n",
    "    \n",
    "    return predicted_valid, target_valid, rmse, avg_product\n",
    "\n",
    "predicted_valid_0, target_valid_0, rmse_0, avg_product_0 = model_training_validation(geo_data_0)\n",
    "print('Регион 1')\n",
    "print('RMSE: {:.2f}'.format(rmse_0))\n",
    "print('Средний объём предсказанных запасов в скважине (тыс. баррелей): {:.2f}'.format(avg_product_0))\n",
    "print()\n",
    "predicted_valid_1, target_valid_1, rmse_1, avg_product_1 = model_training_validation(geo_data_1)\n",
    "print('Регион 2')\n",
    "print('RMSE: {:.2f}'.format(rmse_1))\n",
    "print('Средний объём предсказанных запасов в скважине (тыс. баррелей): {:.2f}'.format(avg_product_1))\n",
    "print()\n",
    "predicted_valid_2, target_valid_2, rmse_2, avg_product_2 = model_training_validation(geo_data_2)\n",
    "print('Регион 3')\n",
    "print('RMSE: {:.2f}'.format(rmse_2))\n",
    "print('Средний объём предсказанных запасов в скважине (тыс. баррелей): {:.2f}'.format(avg_product_2))"
   ]
  },
  {
   "cell_type": "markdown",
   "metadata": {},
   "source": [
    "- *Основываясь на результатах, мы можем сделать вывод, что модель для Региона 2 работает лучше всего со среднеквадратичным отклонением всего 0.89, что указывает на низкий уровень ошибки в ее прогнозах. С другой стороны, Регион 1 и Регион 3 имеют гораздо более высокие значения RMSE, что указывает на более высокий уровень ошибки в их прогнозах.*\n",
    "\n",
    "- *Кроме того, мы видим, что средний объем запасов на скважину различается по регионам: в Регионе 3 самый высокий средний объем 94.97 тыс. баррелей на скважину, за ним следует Регион 1 со средним значением 92.59 тыс., а самый низкий средний показатель 68.73 тыс. баррелей на скважину в Регионе 2.*\n",
    "\n",
    "- *В целом, исходя из значений RMSE, Регион 2 кажется наиболее перспективным для дальнейшего изучения, так как он имеет самый низкий уровень ошибки в своих прогнозах. Однако другие факторы, такие как стоимость бурения и добычи нефти, прибыль, также следует учитывать, прежде чем принимать окончательное решение о том, в какой регион инвестировать.*"
   ]
  },
  {
   "cell_type": "markdown",
   "metadata": {},
   "source": [
    "## Подготовка к расчёту прибыли"
   ]
  },
  {
   "cell_type": "code",
   "execution_count": 10,
   "metadata": {},
   "outputs": [],
   "source": [
    "# Сохраним все ключевые значения для расчетов в отдельные переменные.\n",
    "\n",
    "# Бюджет на разработку скважин в регионе\n",
    "BUDGET = 10_000_000_000\n",
    "\n",
    "# Цена за баррель сырья или доход на баррель сырья\n",
    "BARREL_PRICE = 450_000\n",
    "\n",
    "# Количество разведанных скважин на регион\n",
    "WELLS_NUMBER = 500\n",
    "\n",
    "# Количество лучших скважин, отобранных с помощью МО для разработки\n",
    "BEST_WELLS_NUMBER = 200"
   ]
  },
  {
   "cell_type": "code",
   "execution_count": 11,
   "metadata": {},
   "outputs": [
    {
     "name": "stdout",
     "output_type": "stream",
     "text": [
      "Необходимый объём сырья для безубыточной разработки новой скважины: 111.11 тыс. баррелей\n",
      "Регион 1: объём сырья для безубыточной разработки новой скважины превышает средний запас в скважине\n",
      "Регион 2: объём сырья для безубыточной разработки новой скважины превышает средний запас в скважине\n",
      "Регион 3: объём сырья для безубыточной разработки новой скважины превышает средний запас в скважине\n"
     ]
    }
   ],
   "source": [
    "# Рассчитаем объем сырья, необходимый для безубыточности затрат на разработку скважин.\n",
    "raw_materials_volume = BUDGET / (BEST_WELLS_NUMBER * BARREL_PRICE)\n",
    "print('Необходимый объём сырья для безубыточной разработки новой скважины: {:.2f} тыс. баррелей'.format(raw_materials_volume))\n",
    "\n",
    "# Сравним объем полученного сырья со средними запасами в каждом регионе\n",
    "if raw_materials_volume > avg_product_0:\n",
    "    print('Регион 1: объём сырья для безубыточной разработки новой скважины превышает средний запас в скважине')\n",
    "else:\n",
    "    print('Регион 1: объём сырья для безубыточной разработки новой скважины меньше среднего запаса в скважине')\n",
    "    \n",
    "if raw_materials_volume > avg_product_1:\n",
    "    print('Регион 2: объём сырья для безубыточной разработки новой скважины превышает средний запас в скважине')\n",
    "else:\n",
    "    print('Регион 2: объём сырья для безубыточной разработки новой скважины меньше среднего запаса в скважине')\n",
    "    \n",
    "if raw_materials_volume > avg_product_2:\n",
    "    print('Регион 3: объём сырья для безубыточной разработки новой скважины превышает средний запас в скважине')\n",
    "else:\n",
    "    print('Регион 3: объём сырья для безубыточной разработки новой скважины меньше среднего запаса в скважине')"
   ]
  },
  {
   "cell_type": "markdown",
   "metadata": {},
   "source": [
    "*Код рассчитывает объем сырья, необходимый для безубыточности затрат на разработку скважин в каждом регионе, и сравнивает его с предсказанными средними запасами в каждом регионе. Если объем сырья, необходимый для безубыточности, превышает предсказанный средний запас скважины, код выводит, что объем необходимого сырья превышает средний запас, и наоборот.*\n",
    "\n",
    "**Выводы:** *По результатам можно сделать вывод, что необходимый объем сырья для безубыточности освоения новой скважины составляет 111.11 тыс. барр. Это значение выше среднего запаса сырья в каждом регионе, а значит, не гарантируется, что разработка новой скважины будет прибыльной в любом из регионов.*"
   ]
  },
  {
   "cell_type": "markdown",
   "metadata": {},
   "source": [
    "## Расчёт прибыли и рисков "
   ]
  },
  {
   "cell_type": "code",
   "execution_count": 12,
   "metadata": {},
   "outputs": [],
   "source": [
    "def calculate_profit(target, predictions):\n",
    "    # рассчитаем прибыль на единицу\n",
    "    predicted_values_sorted = pd.DataFrame({'target':target, 'predictions':predictions}).sort_values('predictions', ascending=False)\n",
    "    selected = predicted_values_sorted['target'].values[:200]\n",
    "    profit = BARREL_PRICE * selected.sum() - BUDGET\n",
    "    return profit"
   ]
  },
  {
   "cell_type": "code",
   "execution_count": 13,
   "metadata": {},
   "outputs": [],
   "source": [
    "def calculate_region_profit(target, predict):\n",
    "    state = np.random.RandomState(12345)\n",
    "    values = []\n",
    "\n",
    "    target = target.reset_index(drop=True)\n",
    "    predict = pd.Series(predict)\n",
    "\n",
    "    for i in range(1000):\n",
    "        target_500 = target.sample(500, replace=True, random_state=state)\n",
    "        predict_500 = predict[target_500.index]\n",
    "        values.append(calculate_profit(target_500, predict_500)) \n",
    "    values = pd.Series(values)\n",
    "\n",
    "    mean_profit = values.mean()\n",
    "    confidence_interval = [values.quantile(0.025), values.quantile(0.975)]\n",
    "    risk_of_loss = sum(1 for profit in values if profit < 0) / len(values)\n",
    "\n",
    "    return mean_profit, confidence_interval, risk_of_loss"
   ]
  },
  {
   "cell_type": "code",
   "execution_count": 14,
   "metadata": {},
   "outputs": [],
   "source": [
    "# рассчитаем распределение прибыли по каждому региону\n",
    "profit_0 = calculate_region_profit(target_valid_0, predicted_valid_0)\n",
    "profit_1 = calculate_region_profit(target_valid_1, predicted_valid_1)\n",
    "profit_2 = calculate_region_profit(target_valid_2, predicted_valid_2)"
   ]
  },
  {
   "cell_type": "code",
   "execution_count": 15,
   "metadata": {},
   "outputs": [
    {
     "name": "stdout",
     "output_type": "stream",
     "text": [
      "Регион 1: средняя прибыль = 396,164,984.80 руб., доверительный интервал = -111,215,545.89 - 909,766,941.55 руб., риск убытков = 6.90%\n",
      "Регион 2: средняя прибыль = 456,045,105.79 руб., доверительный интервал = 33,820,509.40 - 852,289,453.87 руб., риск убытков = 1.50%\n",
      "Регион 3: средняя прибыль = 404,403,866.57 руб., доверительный интервал = -163,350,413.40 - 950,359,574.92 руб., риск убытков = 7.60%\n"
     ]
    }
   ],
   "source": [
    "print(f'Регион 1: средняя прибыль = {profit_0[0]:,.2f} руб., доверительный интервал = {profit_0[1][0]:,.2f} - {profit_0[1][1]:,.2f} руб., риск убытков = {profit_0[2]:.2%}')\n",
    "print(f'Регион 2: средняя прибыль = {profit_1[0]:,.2f} руб., доверительный интервал = {profit_1[1][0]:,.2f} - {profit_1[1][1]:,.2f} руб., риск убытков = {profit_1[2]:.2%}')\n",
    "print(f'Регион 3: средняя прибыль = {profit_2[0]:,.2f} руб., доверительный интервал = {profit_2[1][0]:,.2f} - {profit_2[1][1]:,.2f} руб., риск убытков = {profit_2[2]:.2%}')"
   ]
  },
  {
   "cell_type": "markdown",
   "metadata": {},
   "source": [
    "**Вывод:** \n",
    "\n",
    "- По результатам кода три региона (Регион 1, Регион 2 и Регион 3) имеют разную среднюю прибыль и риски убытков.\n",
    "- Регион 2 имеет наибольшую среднюю прибыль 456.045.105,79 руб. и наименьший риск убыточности 1.50%. С другой стороны, Регион 1 и Регион 3 имеют более высокие риски убытков 6.90% и 7.60% соответственно, а их доверительные интервалы охватывают отрицательные значения, что указывает на значительную вероятность убытков.\n",
    "\n",
    "**Поэтому, исходя из этих результатов, представляется, что Регион 2 будет лучшим выбором для дальнейших инвестиций, так как он имеет самую высокую среднюю прибыль и самый низкий риск убытков.**"
   ]
  },
  {
   "cell_type": "code",
   "execution_count": null,
   "metadata": {},
   "outputs": [],
   "source": []
  }
 ],
 "metadata": {
  "ExecuteTimeLog": [
   {
    "duration": 444,
    "start_time": "2023-04-02T09:33:55.132Z"
   },
   {
    "duration": 1582,
    "start_time": "2023-04-02T09:34:59.742Z"
   },
   {
    "duration": 403,
    "start_time": "2023-04-02T09:35:17.969Z"
   },
   {
    "duration": 149,
    "start_time": "2023-04-02T09:37:25.777Z"
   },
   {
    "duration": 437,
    "start_time": "2023-04-02T09:38:03.742Z"
   },
   {
    "duration": 378,
    "start_time": "2023-04-02T09:38:04.181Z"
   },
   {
    "duration": 19,
    "start_time": "2023-04-02T09:38:04.561Z"
   },
   {
    "duration": 144,
    "start_time": "2023-04-02T09:38:04.582Z"
   },
   {
    "duration": 152,
    "start_time": "2023-04-02T09:38:04.728Z"
   },
   {
    "duration": 4,
    "start_time": "2023-04-02T09:38:04.882Z"
   },
   {
    "duration": 387,
    "start_time": "2023-04-02T09:42:40.948Z"
   },
   {
    "duration": 376,
    "start_time": "2023-04-02T09:42:41.336Z"
   },
   {
    "duration": 23,
    "start_time": "2023-04-02T09:42:41.714Z"
   },
   {
    "duration": 138,
    "start_time": "2023-04-02T09:42:41.739Z"
   },
   {
    "duration": 158,
    "start_time": "2023-04-02T09:42:41.879Z"
   },
   {
    "duration": 3,
    "start_time": "2023-04-02T09:42:42.039Z"
   },
   {
    "duration": 24,
    "start_time": "2023-04-02T09:43:06.215Z"
   },
   {
    "duration": 1076,
    "start_time": "2023-04-02T09:44:47.982Z"
   },
   {
    "duration": 383,
    "start_time": "2023-04-02T09:46:06.064Z"
   },
   {
    "duration": 448,
    "start_time": "2023-04-02T09:46:06.450Z"
   },
   {
    "duration": 36,
    "start_time": "2023-04-02T09:46:06.900Z"
   },
   {
    "duration": 7,
    "start_time": "2023-04-02T09:46:06.938Z"
   },
   {
    "duration": 22,
    "start_time": "2023-04-02T09:46:06.947Z"
   },
   {
    "duration": 15,
    "start_time": "2023-04-02T09:46:06.971Z"
   },
   {
    "duration": 190,
    "start_time": "2023-04-02T09:48:12.061Z"
   },
   {
    "duration": 445,
    "start_time": "2023-04-02T09:48:59.723Z"
   },
   {
    "duration": 444,
    "start_time": "2023-04-02T09:49:00.170Z"
   },
   {
    "duration": 37,
    "start_time": "2023-04-02T09:49:00.615Z"
   },
   {
    "duration": 238,
    "start_time": "2023-04-02T09:49:00.655Z"
   },
   {
    "duration": 3,
    "start_time": "2023-04-02T09:49:00.895Z"
   },
   {
    "duration": 768,
    "start_time": "2023-04-02T10:00:05.677Z"
   },
   {
    "duration": 1119,
    "start_time": "2023-04-02T10:26:26.834Z"
   },
   {
    "duration": 424,
    "start_time": "2023-04-02T10:26:27.955Z"
   },
   {
    "duration": 31,
    "start_time": "2023-04-02T10:26:28.381Z"
   },
   {
    "duration": 221,
    "start_time": "2023-04-02T10:26:28.414Z"
   },
   {
    "duration": 149,
    "start_time": "2023-04-02T10:26:28.637Z"
   },
   {
    "duration": 61,
    "start_time": "2023-04-02T10:30:29.860Z"
   },
   {
    "duration": 91,
    "start_time": "2023-04-02T10:32:19.649Z"
   },
   {
    "duration": 1127,
    "start_time": "2023-04-02T10:33:07.705Z"
   },
   {
    "duration": 384,
    "start_time": "2023-04-02T10:33:08.834Z"
   },
   {
    "duration": 23,
    "start_time": "2023-04-02T10:33:09.220Z"
   },
   {
    "duration": 185,
    "start_time": "2023-04-02T10:33:09.245Z"
   },
   {
    "duration": 105,
    "start_time": "2023-04-02T10:33:09.433Z"
   },
   {
    "duration": 1111,
    "start_time": "2023-04-02T10:55:38.834Z"
   },
   {
    "duration": 415,
    "start_time": "2023-04-02T10:55:39.947Z"
   },
   {
    "duration": 23,
    "start_time": "2023-04-02T10:55:40.364Z"
   },
   {
    "duration": 218,
    "start_time": "2023-04-02T10:55:40.389Z"
   },
   {
    "duration": 236,
    "start_time": "2023-04-02T10:55:40.609Z"
   },
   {
    "duration": 1138,
    "start_time": "2023-04-02T10:56:05.580Z"
   },
   {
    "duration": 478,
    "start_time": "2023-04-02T10:56:06.721Z"
   },
   {
    "duration": 33,
    "start_time": "2023-04-02T10:56:07.201Z"
   },
   {
    "duration": 213,
    "start_time": "2023-04-02T10:56:07.237Z"
   },
   {
    "duration": 94,
    "start_time": "2023-04-02T10:56:07.452Z"
   },
   {
    "duration": 446,
    "start_time": "2023-04-02T10:58:06.905Z"
   },
   {
    "duration": 1325,
    "start_time": "2023-04-02T10:58:47.310Z"
   },
   {
    "duration": 452,
    "start_time": "2023-04-02T10:58:48.636Z"
   },
   {
    "duration": 29,
    "start_time": "2023-04-02T10:58:49.091Z"
   },
   {
    "duration": 232,
    "start_time": "2023-04-02T10:58:49.123Z"
   },
   {
    "duration": 387,
    "start_time": "2023-04-02T10:58:49.357Z"
   },
   {
    "duration": 387,
    "start_time": "2023-04-02T10:58:49.747Z"
   },
   {
    "duration": 500,
    "start_time": "2023-04-02T10:58:50.137Z"
   },
   {
    "duration": 1166,
    "start_time": "2023-04-02T11:00:58.350Z"
   },
   {
    "duration": 539,
    "start_time": "2023-04-02T11:00:59.518Z"
   },
   {
    "duration": 80,
    "start_time": "2023-04-02T11:01:00.059Z"
   },
   {
    "duration": 413,
    "start_time": "2023-04-02T11:01:00.141Z"
   },
   {
    "duration": 380,
    "start_time": "2023-04-02T11:01:00.556Z"
   },
   {
    "duration": 195,
    "start_time": "2023-04-02T11:01:00.939Z"
   },
   {
    "duration": 1010,
    "start_time": "2023-04-02T11:03:41.288Z"
   },
   {
    "duration": 364,
    "start_time": "2023-04-02T11:03:42.299Z"
   },
   {
    "duration": 23,
    "start_time": "2023-04-02T11:03:42.664Z"
   },
   {
    "duration": 167,
    "start_time": "2023-04-02T11:03:42.689Z"
   },
   {
    "duration": 380,
    "start_time": "2023-04-02T11:03:42.858Z"
   },
   {
    "duration": 207,
    "start_time": "2023-04-02T11:03:43.241Z"
   },
   {
    "duration": 1043,
    "start_time": "2023-04-02T11:04:40.567Z"
   },
   {
    "duration": 395,
    "start_time": "2023-04-02T11:04:41.612Z"
   },
   {
    "duration": 30,
    "start_time": "2023-04-02T11:04:42.009Z"
   },
   {
    "duration": 191,
    "start_time": "2023-04-02T11:04:42.042Z"
   },
   {
    "duration": 403,
    "start_time": "2023-04-02T11:04:42.235Z"
   },
   {
    "duration": 297,
    "start_time": "2023-04-02T11:04:42.640Z"
   },
   {
    "duration": 353,
    "start_time": "2023-04-02T11:05:34.486Z"
   },
   {
    "duration": 524,
    "start_time": "2023-04-02T11:07:03.913Z"
   },
   {
    "duration": 1176,
    "start_time": "2023-04-02T11:07:12.428Z"
   },
   {
    "duration": 391,
    "start_time": "2023-04-02T11:07:13.606Z"
   },
   {
    "duration": 39,
    "start_time": "2023-04-02T11:07:13.999Z"
   },
   {
    "duration": 392,
    "start_time": "2023-04-02T11:07:14.042Z"
   },
   {
    "duration": 499,
    "start_time": "2023-04-02T11:07:14.435Z"
   },
   {
    "duration": 299,
    "start_time": "2023-04-02T11:07:14.936Z"
   },
   {
    "duration": 370,
    "start_time": "2023-04-02T11:07:54.176Z"
   },
   {
    "duration": 405,
    "start_time": "2023-04-02T11:08:04.933Z"
   },
   {
    "duration": 1186,
    "start_time": "2023-04-02T11:08:35.620Z"
   },
   {
    "duration": 389,
    "start_time": "2023-04-02T11:08:36.808Z"
   },
   {
    "duration": 23,
    "start_time": "2023-04-02T11:08:37.200Z"
   },
   {
    "duration": 186,
    "start_time": "2023-04-02T11:08:37.225Z"
   },
   {
    "duration": 333,
    "start_time": "2023-04-02T11:08:37.413Z"
   },
   {
    "duration": 224,
    "start_time": "2023-04-02T11:08:37.749Z"
   },
   {
    "duration": 1055,
    "start_time": "2023-04-02T11:09:50.939Z"
   },
   {
    "duration": 427,
    "start_time": "2023-04-02T11:09:51.996Z"
   },
   {
    "duration": 29,
    "start_time": "2023-04-02T11:09:52.426Z"
   },
   {
    "duration": 186,
    "start_time": "2023-04-02T11:09:52.458Z"
   },
   {
    "duration": 394,
    "start_time": "2023-04-02T11:09:52.645Z"
   },
   {
    "duration": 1181,
    "start_time": "2023-04-02T11:10:47.465Z"
   },
   {
    "duration": 412,
    "start_time": "2023-04-02T11:10:48.647Z"
   },
   {
    "duration": 76,
    "start_time": "2023-04-02T11:10:49.061Z"
   },
   {
    "duration": 335,
    "start_time": "2023-04-02T11:10:49.139Z"
   },
   {
    "duration": 564,
    "start_time": "2023-04-02T11:10:49.476Z"
   },
   {
    "duration": 1206,
    "start_time": "2023-04-03T08:08:48.291Z"
   },
   {
    "duration": 1709,
    "start_time": "2023-04-03T08:08:49.499Z"
   },
   {
    "duration": 30,
    "start_time": "2023-04-03T08:08:51.211Z"
   },
   {
    "duration": 574,
    "start_time": "2023-04-03T08:08:51.244Z"
   },
   {
    "duration": 471,
    "start_time": "2023-04-03T08:08:51.821Z"
   },
   {
    "duration": 4,
    "start_time": "2023-04-03T08:13:38.629Z"
   },
   {
    "duration": 4,
    "start_time": "2023-04-03T08:15:37.698Z"
   },
   {
    "duration": 5,
    "start_time": "2023-04-03T08:16:00.237Z"
   },
   {
    "duration": 1090,
    "start_time": "2023-04-03T08:29:54.900Z"
   },
   {
    "duration": 411,
    "start_time": "2023-04-03T08:29:55.993Z"
   },
   {
    "duration": 26,
    "start_time": "2023-04-03T08:29:56.406Z"
   },
   {
    "duration": 203,
    "start_time": "2023-04-03T08:29:56.434Z"
   },
   {
    "duration": 353,
    "start_time": "2023-04-03T08:29:56.639Z"
   },
   {
    "duration": 4,
    "start_time": "2023-04-03T08:29:56.994Z"
   },
   {
    "duration": 190,
    "start_time": "2023-04-03T08:29:57.000Z"
   },
   {
    "duration": 8,
    "start_time": "2023-04-03T08:31:04.493Z"
   },
   {
    "duration": 13,
    "start_time": "2023-04-03T08:38:03.586Z"
   },
   {
    "duration": 10,
    "start_time": "2023-04-03T08:38:26.352Z"
   },
   {
    "duration": 22,
    "start_time": "2023-04-03T08:40:26.883Z"
   },
   {
    "duration": 109,
    "start_time": "2023-04-03T08:51:09.532Z"
   },
   {
    "duration": 1216,
    "start_time": "2023-04-03T09:02:32.862Z"
   },
   {
    "duration": 427,
    "start_time": "2023-04-03T09:02:34.080Z"
   },
   {
    "duration": 29,
    "start_time": "2023-04-03T09:02:34.509Z"
   },
   {
    "duration": 243,
    "start_time": "2023-04-03T09:02:34.540Z"
   },
   {
    "duration": 403,
    "start_time": "2023-04-03T09:02:34.785Z"
   },
   {
    "duration": 7,
    "start_time": "2023-04-03T09:02:35.191Z"
   },
   {
    "duration": 109,
    "start_time": "2023-04-03T09:02:35.201Z"
   },
   {
    "duration": 4,
    "start_time": "2023-04-03T09:05:19.194Z"
   },
   {
    "duration": 179,
    "start_time": "2023-04-03T09:06:08.770Z"
   },
   {
    "duration": 1197,
    "start_time": "2023-04-03T09:06:18.082Z"
   },
   {
    "duration": 479,
    "start_time": "2023-04-03T09:06:19.282Z"
   },
   {
    "duration": 35,
    "start_time": "2023-04-03T09:06:19.763Z"
   },
   {
    "duration": 229,
    "start_time": "2023-04-03T09:06:19.800Z"
   },
   {
    "duration": 266,
    "start_time": "2023-04-03T09:06:20.032Z"
   },
   {
    "duration": 4,
    "start_time": "2023-04-03T09:06:20.300Z"
   },
   {
    "duration": 118,
    "start_time": "2023-04-03T09:06:20.392Z"
   },
   {
    "duration": 20,
    "start_time": "2023-04-03T09:06:20.512Z"
   },
   {
    "duration": 186,
    "start_time": "2023-04-03T09:06:20.535Z"
   },
   {
    "duration": 1622,
    "start_time": "2023-04-03T09:19:11.564Z"
   },
   {
    "duration": 736,
    "start_time": "2023-04-03T09:19:13.189Z"
   },
   {
    "duration": 109,
    "start_time": "2023-04-03T09:19:13.928Z"
   },
   {
    "duration": 562,
    "start_time": "2023-04-03T09:19:14.041Z"
   },
   {
    "duration": 795,
    "start_time": "2023-04-03T09:19:14.606Z"
   },
   {
    "duration": 6,
    "start_time": "2023-04-03T09:19:15.403Z"
   },
   {
    "duration": 93,
    "start_time": "2023-04-03T09:19:15.411Z"
   },
   {
    "duration": 8,
    "start_time": "2023-04-03T09:19:15.507Z"
   },
   {
    "duration": 184,
    "start_time": "2023-04-03T09:19:15.518Z"
   },
   {
    "duration": 6,
    "start_time": "2023-04-03T09:19:33.268Z"
   },
   {
    "duration": 5,
    "start_time": "2023-04-03T09:19:41.560Z"
   },
   {
    "duration": 6,
    "start_time": "2023-04-03T09:19:49.725Z"
   },
   {
    "duration": 3,
    "start_time": "2023-04-03T09:37:03.188Z"
   },
   {
    "duration": 2,
    "start_time": "2023-04-03T09:37:07.188Z"
   },
   {
    "duration": 1631,
    "start_time": "2023-04-03T09:40:58.687Z"
   },
   {
    "duration": 1278,
    "start_time": "2023-04-03T09:41:00.322Z"
   },
   {
    "duration": 103,
    "start_time": "2023-04-03T09:41:01.603Z"
   },
   {
    "duration": 790,
    "start_time": "2023-04-03T09:41:01.710Z"
   },
   {
    "duration": 586,
    "start_time": "2023-04-03T09:41:02.502Z"
   },
   {
    "duration": 5,
    "start_time": "2023-04-03T09:41:03.090Z"
   },
   {
    "duration": 426,
    "start_time": "2023-04-03T09:41:03.098Z"
   },
   {
    "duration": 0,
    "start_time": "2023-04-03T09:41:03.527Z"
   },
   {
    "duration": 0,
    "start_time": "2023-04-03T09:41:03.529Z"
   },
   {
    "duration": 0,
    "start_time": "2023-04-03T09:41:03.531Z"
   },
   {
    "duration": 0,
    "start_time": "2023-04-03T09:41:03.533Z"
   },
   {
    "duration": 0,
    "start_time": "2023-04-03T09:41:03.534Z"
   },
   {
    "duration": 0,
    "start_time": "2023-04-03T09:41:03.535Z"
   },
   {
    "duration": 33,
    "start_time": "2023-04-03T09:42:10.308Z"
   },
   {
    "duration": 33,
    "start_time": "2023-04-03T09:42:36.107Z"
   },
   {
    "duration": 1937,
    "start_time": "2023-04-03T09:42:42.223Z"
   },
   {
    "duration": 490,
    "start_time": "2023-04-03T09:42:44.163Z"
   },
   {
    "duration": 49,
    "start_time": "2023-04-03T09:42:44.655Z"
   },
   {
    "duration": 377,
    "start_time": "2023-04-03T09:42:44.706Z"
   },
   {
    "duration": 501,
    "start_time": "2023-04-03T09:42:45.088Z"
   },
   {
    "duration": 7,
    "start_time": "2023-04-03T09:42:45.593Z"
   },
   {
    "duration": 124,
    "start_time": "2023-04-03T09:42:45.603Z"
   },
   {
    "duration": 18,
    "start_time": "2023-04-03T09:42:45.729Z"
   },
   {
    "duration": 10,
    "start_time": "2023-04-03T09:42:45.749Z"
   },
   {
    "duration": 126,
    "start_time": "2023-04-03T09:42:45.762Z"
   },
   {
    "duration": 7,
    "start_time": "2023-04-03T09:42:45.890Z"
   },
   {
    "duration": 21,
    "start_time": "2023-04-03T09:42:45.900Z"
   },
   {
    "duration": 9,
    "start_time": "2023-04-03T09:42:45.923Z"
   },
   {
    "duration": 1182,
    "start_time": "2023-04-03T09:50:28.286Z"
   },
   {
    "duration": 1122,
    "start_time": "2023-04-03T09:50:29.470Z"
   },
   {
    "duration": 98,
    "start_time": "2023-04-03T09:50:30.595Z"
   },
   {
    "duration": 393,
    "start_time": "2023-04-03T09:50:30.695Z"
   },
   {
    "duration": 0,
    "start_time": "2023-04-03T09:50:31.091Z"
   },
   {
    "duration": 0,
    "start_time": "2023-04-03T09:50:31.093Z"
   },
   {
    "duration": 0,
    "start_time": "2023-04-03T09:50:31.095Z"
   },
   {
    "duration": 0,
    "start_time": "2023-04-03T09:50:31.096Z"
   },
   {
    "duration": 0,
    "start_time": "2023-04-03T09:50:31.098Z"
   },
   {
    "duration": 0,
    "start_time": "2023-04-03T09:50:31.100Z"
   },
   {
    "duration": 0,
    "start_time": "2023-04-03T09:50:31.102Z"
   },
   {
    "duration": 0,
    "start_time": "2023-04-03T09:50:31.104Z"
   },
   {
    "duration": 0,
    "start_time": "2023-04-03T09:50:31.106Z"
   },
   {
    "duration": 1222,
    "start_time": "2023-04-03T09:50:46.264Z"
   },
   {
    "duration": 437,
    "start_time": "2023-04-03T09:50:47.488Z"
   },
   {
    "duration": 28,
    "start_time": "2023-04-03T09:50:47.926Z"
   },
   {
    "duration": 212,
    "start_time": "2023-04-03T09:50:47.956Z"
   },
   {
    "duration": 330,
    "start_time": "2023-04-03T09:50:48.170Z"
   },
   {
    "duration": 87,
    "start_time": "2023-04-03T09:50:48.502Z"
   },
   {
    "duration": 108,
    "start_time": "2023-04-03T09:50:48.591Z"
   },
   {
    "duration": 10,
    "start_time": "2023-04-03T09:50:48.701Z"
   },
   {
    "duration": 6,
    "start_time": "2023-04-03T09:50:48.714Z"
   },
   {
    "duration": 109,
    "start_time": "2023-04-03T09:50:48.723Z"
   },
   {
    "duration": 57,
    "start_time": "2023-04-03T09:50:48.834Z"
   },
   {
    "duration": 16,
    "start_time": "2023-04-03T09:50:48.893Z"
   },
   {
    "duration": 15,
    "start_time": "2023-04-03T09:50:48.912Z"
   },
   {
    "duration": 1212,
    "start_time": "2023-04-03T10:15:23.636Z"
   },
   {
    "duration": 442,
    "start_time": "2023-04-03T10:15:24.851Z"
   },
   {
    "duration": 28,
    "start_time": "2023-04-03T10:15:25.298Z"
   },
   {
    "duration": 212,
    "start_time": "2023-04-03T10:15:25.328Z"
   },
   {
    "duration": 272,
    "start_time": "2023-04-03T10:15:25.541Z"
   },
   {
    "duration": 80,
    "start_time": "2023-04-03T10:15:25.815Z"
   },
   {
    "duration": 112,
    "start_time": "2023-04-03T10:15:25.897Z"
   },
   {
    "duration": 8,
    "start_time": "2023-04-03T10:15:26.010Z"
   },
   {
    "duration": 7,
    "start_time": "2023-04-03T10:15:26.020Z"
   },
   {
    "duration": 87,
    "start_time": "2023-04-03T10:15:26.030Z"
   },
   {
    "duration": 3,
    "start_time": "2023-04-03T10:15:26.119Z"
   },
   {
    "duration": 5,
    "start_time": "2023-04-03T10:15:26.125Z"
   },
   {
    "duration": 10,
    "start_time": "2023-04-03T10:15:26.131Z"
   },
   {
    "duration": 297,
    "start_time": "2023-04-03T10:25:01.600Z"
   },
   {
    "duration": 1270,
    "start_time": "2023-04-03T10:25:27.294Z"
   },
   {
    "duration": 479,
    "start_time": "2023-04-03T10:25:28.566Z"
   },
   {
    "duration": 27,
    "start_time": "2023-04-03T10:25:29.046Z"
   },
   {
    "duration": 235,
    "start_time": "2023-04-03T10:25:29.075Z"
   },
   {
    "duration": 395,
    "start_time": "2023-04-03T10:25:29.313Z"
   },
   {
    "duration": 5,
    "start_time": "2023-04-03T10:25:29.710Z"
   },
   {
    "duration": 183,
    "start_time": "2023-04-03T10:25:29.717Z"
   },
   {
    "duration": 17,
    "start_time": "2023-04-03T10:25:29.903Z"
   },
   {
    "duration": 16,
    "start_time": "2023-04-03T10:25:29.922Z"
   },
   {
    "duration": 103,
    "start_time": "2023-04-03T10:25:29.940Z"
   },
   {
    "duration": 5,
    "start_time": "2023-04-03T10:25:30.044Z"
   },
   {
    "duration": 32,
    "start_time": "2023-04-03T10:25:30.051Z"
   },
   {
    "duration": 36,
    "start_time": "2023-04-03T10:25:30.086Z"
   },
   {
    "duration": 1226,
    "start_time": "2023-04-03T10:30:27.708Z"
   },
   {
    "duration": 519,
    "start_time": "2023-04-03T10:30:28.938Z"
   },
   {
    "duration": 49,
    "start_time": "2023-04-03T10:30:29.459Z"
   },
   {
    "duration": 288,
    "start_time": "2023-04-03T10:30:29.510Z"
   },
   {
    "duration": 414,
    "start_time": "2023-04-03T10:30:29.799Z"
   },
   {
    "duration": 92,
    "start_time": "2023-04-03T10:30:30.216Z"
   },
   {
    "duration": 49,
    "start_time": "2023-04-03T10:30:30.387Z"
   },
   {
    "duration": 102,
    "start_time": "2023-04-03T10:30:30.439Z"
   },
   {
    "duration": 44,
    "start_time": "2023-04-03T10:30:30.544Z"
   },
   {
    "duration": 222,
    "start_time": "2023-04-03T10:30:30.591Z"
   },
   {
    "duration": 6,
    "start_time": "2023-04-03T10:30:30.818Z"
   },
   {
    "duration": 62,
    "start_time": "2023-04-03T10:30:30.827Z"
   },
   {
    "duration": 65,
    "start_time": "2023-04-03T10:30:30.893Z"
   },
   {
    "duration": 1299,
    "start_time": "2023-04-03T10:39:57.109Z"
   },
   {
    "duration": 811,
    "start_time": "2023-04-03T10:39:58.411Z"
   },
   {
    "duration": 83,
    "start_time": "2023-04-03T10:39:59.225Z"
   },
   {
    "duration": 689,
    "start_time": "2023-04-03T10:39:59.311Z"
   },
   {
    "duration": 498,
    "start_time": "2023-04-03T10:40:00.005Z"
   },
   {
    "duration": 7,
    "start_time": "2023-04-03T10:40:00.505Z"
   },
   {
    "duration": 171,
    "start_time": "2023-04-03T10:40:00.521Z"
   },
   {
    "duration": 213,
    "start_time": "2023-04-03T10:40:00.694Z"
   },
   {
    "duration": 7,
    "start_time": "2023-04-03T10:40:00.910Z"
   },
   {
    "duration": 151,
    "start_time": "2023-04-03T10:40:00.920Z"
   },
   {
    "duration": 110,
    "start_time": "2023-04-03T10:40:01.074Z"
   },
   {
    "duration": 8,
    "start_time": "2023-04-03T10:45:01.204Z"
   },
   {
    "duration": 1350,
    "start_time": "2023-04-03T10:47:10.207Z"
   },
   {
    "duration": 518,
    "start_time": "2023-04-03T10:47:11.560Z"
   },
   {
    "duration": 41,
    "start_time": "2023-04-03T10:47:12.080Z"
   },
   {
    "duration": 220,
    "start_time": "2023-04-03T10:47:12.123Z"
   },
   {
    "duration": 271,
    "start_time": "2023-04-03T10:47:12.344Z"
   },
   {
    "duration": 7,
    "start_time": "2023-04-03T10:47:12.688Z"
   },
   {
    "duration": 111,
    "start_time": "2023-04-03T10:47:12.711Z"
   },
   {
    "duration": 55,
    "start_time": "2023-04-03T10:47:12.824Z"
   },
   {
    "duration": 162,
    "start_time": "2023-04-03T10:47:12.882Z"
   },
   {
    "duration": 0,
    "start_time": "2023-04-03T10:47:13.046Z"
   },
   {
    "duration": 0,
    "start_time": "2023-04-03T10:47:13.049Z"
   },
   {
    "duration": 0,
    "start_time": "2023-04-03T10:47:13.051Z"
   },
   {
    "duration": 0,
    "start_time": "2023-04-03T10:47:13.052Z"
   },
   {
    "duration": 1613,
    "start_time": "2023-04-03T10:51:29.788Z"
   },
   {
    "duration": 484,
    "start_time": "2023-04-03T10:51:31.407Z"
   },
   {
    "duration": 39,
    "start_time": "2023-04-03T10:51:31.895Z"
   },
   {
    "duration": 323,
    "start_time": "2023-04-03T10:51:31.937Z"
   },
   {
    "duration": 468,
    "start_time": "2023-04-03T10:51:32.263Z"
   },
   {
    "duration": 9,
    "start_time": "2023-04-03T10:51:32.797Z"
   },
   {
    "duration": 120,
    "start_time": "2023-04-03T10:51:32.810Z"
   },
   {
    "duration": 60,
    "start_time": "2023-04-03T10:51:32.933Z"
   },
   {
    "duration": 99,
    "start_time": "2023-04-03T10:51:32.997Z"
   },
   {
    "duration": 0,
    "start_time": "2023-04-03T10:51:33.099Z"
   },
   {
    "duration": 1,
    "start_time": "2023-04-03T10:51:33.102Z"
   },
   {
    "duration": 0,
    "start_time": "2023-04-03T10:51:33.104Z"
   },
   {
    "duration": 0,
    "start_time": "2023-04-03T10:51:33.108Z"
   },
   {
    "duration": 188,
    "start_time": "2023-04-03T10:52:48.516Z"
   },
   {
    "duration": 27,
    "start_time": "2023-04-03T10:55:39.082Z"
   },
   {
    "duration": 29,
    "start_time": "2023-04-03T10:57:14.282Z"
   },
   {
    "duration": 1140,
    "start_time": "2023-04-03T11:02:22.340Z"
   },
   {
    "duration": 443,
    "start_time": "2023-04-03T11:02:23.483Z"
   },
   {
    "duration": 29,
    "start_time": "2023-04-03T11:02:23.928Z"
   },
   {
    "duration": 220,
    "start_time": "2023-04-03T11:02:23.960Z"
   },
   {
    "duration": 431,
    "start_time": "2023-04-03T11:02:24.187Z"
   },
   {
    "duration": 10,
    "start_time": "2023-04-03T11:02:24.626Z"
   },
   {
    "duration": 110,
    "start_time": "2023-04-03T11:02:24.704Z"
   },
   {
    "duration": 42,
    "start_time": "2023-04-03T11:02:24.816Z"
   },
   {
    "duration": 349,
    "start_time": "2023-04-03T11:02:24.860Z"
   },
   {
    "duration": 0,
    "start_time": "2023-04-03T11:02:25.211Z"
   },
   {
    "duration": 0,
    "start_time": "2023-04-03T11:02:25.212Z"
   },
   {
    "duration": 0,
    "start_time": "2023-04-03T11:02:25.213Z"
   },
   {
    "duration": 1,
    "start_time": "2023-04-03T11:02:25.214Z"
   },
   {
    "duration": 1262,
    "start_time": "2023-04-03T11:02:46.912Z"
   },
   {
    "duration": 496,
    "start_time": "2023-04-03T11:02:48.176Z"
   },
   {
    "duration": 39,
    "start_time": "2023-04-03T11:02:48.673Z"
   },
   {
    "duration": 221,
    "start_time": "2023-04-03T11:02:48.723Z"
   },
   {
    "duration": 348,
    "start_time": "2023-04-03T11:02:48.946Z"
   },
   {
    "duration": 6,
    "start_time": "2023-04-03T11:02:49.298Z"
   },
   {
    "duration": 118,
    "start_time": "2023-04-03T11:02:49.310Z"
   },
   {
    "duration": 8,
    "start_time": "2023-04-03T11:02:49.430Z"
   },
   {
    "duration": 315,
    "start_time": "2023-04-03T11:02:49.439Z"
   },
   {
    "duration": 0,
    "start_time": "2023-04-03T11:02:49.756Z"
   },
   {
    "duration": 0,
    "start_time": "2023-04-03T11:02:49.757Z"
   },
   {
    "duration": 0,
    "start_time": "2023-04-03T11:02:49.758Z"
   },
   {
    "duration": 0,
    "start_time": "2023-04-03T11:02:49.759Z"
   },
   {
    "duration": 1163,
    "start_time": "2023-04-03T11:11:49.684Z"
   },
   {
    "duration": 407,
    "start_time": "2023-04-03T11:11:50.850Z"
   },
   {
    "duration": 24,
    "start_time": "2023-04-03T11:11:51.259Z"
   },
   {
    "duration": 192,
    "start_time": "2023-04-03T11:11:51.288Z"
   },
   {
    "duration": 321,
    "start_time": "2023-04-03T11:11:51.482Z"
   },
   {
    "duration": 80,
    "start_time": "2023-04-03T11:11:51.808Z"
   },
   {
    "duration": 130,
    "start_time": "2023-04-03T11:11:51.891Z"
   },
   {
    "duration": 31,
    "start_time": "2023-04-03T11:11:52.024Z"
   },
   {
    "duration": 332,
    "start_time": "2023-04-03T11:11:52.056Z"
   },
   {
    "duration": 0,
    "start_time": "2023-04-03T11:11:52.390Z"
   },
   {
    "duration": 0,
    "start_time": "2023-04-03T11:11:52.391Z"
   },
   {
    "duration": 0,
    "start_time": "2023-04-03T11:11:52.392Z"
   },
   {
    "duration": 0,
    "start_time": "2023-04-03T11:11:52.393Z"
   },
   {
    "duration": 1098,
    "start_time": "2023-04-03T11:14:13.311Z"
   },
   {
    "duration": 418,
    "start_time": "2023-04-03T11:14:14.411Z"
   },
   {
    "duration": 26,
    "start_time": "2023-04-03T11:14:14.831Z"
   },
   {
    "duration": 198,
    "start_time": "2023-04-03T11:14:14.859Z"
   },
   {
    "duration": 437,
    "start_time": "2023-04-03T11:14:15.059Z"
   },
   {
    "duration": 90,
    "start_time": "2023-04-03T11:14:15.498Z"
   },
   {
    "duration": 105,
    "start_time": "2023-04-03T11:14:15.591Z"
   },
   {
    "duration": 9,
    "start_time": "2023-04-03T11:14:15.698Z"
   },
   {
    "duration": 284,
    "start_time": "2023-04-03T11:14:15.709Z"
   },
   {
    "duration": 0,
    "start_time": "2023-04-03T11:14:15.995Z"
   },
   {
    "duration": 0,
    "start_time": "2023-04-03T11:14:15.996Z"
   },
   {
    "duration": 0,
    "start_time": "2023-04-03T11:14:15.998Z"
   },
   {
    "duration": 0,
    "start_time": "2023-04-03T11:14:15.999Z"
   },
   {
    "duration": 1206,
    "start_time": "2023-04-03T11:17:58.855Z"
   },
   {
    "duration": 409,
    "start_time": "2023-04-03T11:18:00.063Z"
   },
   {
    "duration": 34,
    "start_time": "2023-04-03T11:18:00.475Z"
   },
   {
    "duration": 229,
    "start_time": "2023-04-03T11:18:00.511Z"
   },
   {
    "duration": 353,
    "start_time": "2023-04-03T11:18:00.743Z"
   },
   {
    "duration": 89,
    "start_time": "2023-04-03T11:18:01.098Z"
   },
   {
    "duration": 122,
    "start_time": "2023-04-03T11:18:01.190Z"
   },
   {
    "duration": 29,
    "start_time": "2023-04-03T11:18:01.314Z"
   },
   {
    "duration": 466,
    "start_time": "2023-04-03T11:18:01.345Z"
   },
   {
    "duration": 0,
    "start_time": "2023-04-03T11:18:01.813Z"
   },
   {
    "duration": 0,
    "start_time": "2023-04-03T11:18:01.814Z"
   },
   {
    "duration": 0,
    "start_time": "2023-04-03T11:18:01.815Z"
   },
   {
    "duration": 0,
    "start_time": "2023-04-03T11:18:01.817Z"
   },
   {
    "duration": 1101,
    "start_time": "2023-04-03T11:20:12.111Z"
   },
   {
    "duration": 388,
    "start_time": "2023-04-03T11:20:13.214Z"
   },
   {
    "duration": 25,
    "start_time": "2023-04-03T11:20:13.604Z"
   },
   {
    "duration": 268,
    "start_time": "2023-04-03T11:20:13.631Z"
   },
   {
    "duration": 403,
    "start_time": "2023-04-03T11:20:13.900Z"
   },
   {
    "duration": 83,
    "start_time": "2023-04-03T11:20:14.306Z"
   },
   {
    "duration": 110,
    "start_time": "2023-04-03T11:20:14.392Z"
   },
   {
    "duration": 23,
    "start_time": "2023-04-03T11:20:14.503Z"
   },
   {
    "duration": 497,
    "start_time": "2023-04-03T11:20:14.528Z"
   },
   {
    "duration": 0,
    "start_time": "2023-04-03T11:20:15.027Z"
   },
   {
    "duration": 0,
    "start_time": "2023-04-03T11:20:15.028Z"
   },
   {
    "duration": 0,
    "start_time": "2023-04-03T11:20:15.030Z"
   },
   {
    "duration": 0,
    "start_time": "2023-04-03T11:20:15.031Z"
   },
   {
    "duration": 1146,
    "start_time": "2023-04-03T11:22:28.906Z"
   },
   {
    "duration": 453,
    "start_time": "2023-04-03T11:22:30.054Z"
   },
   {
    "duration": 32,
    "start_time": "2023-04-03T11:22:30.510Z"
   },
   {
    "duration": 368,
    "start_time": "2023-04-03T11:22:30.545Z"
   },
   {
    "duration": 399,
    "start_time": "2023-04-03T11:22:30.915Z"
   },
   {
    "duration": 4,
    "start_time": "2023-04-03T11:22:31.389Z"
   },
   {
    "duration": 95,
    "start_time": "2023-04-03T11:22:31.395Z"
   },
   {
    "duration": 40,
    "start_time": "2023-04-03T11:22:31.492Z"
   },
   {
    "duration": 455,
    "start_time": "2023-04-03T11:22:31.534Z"
   },
   {
    "duration": 0,
    "start_time": "2023-04-03T11:22:31.991Z"
   },
   {
    "duration": 0,
    "start_time": "2023-04-03T11:22:31.993Z"
   },
   {
    "duration": 0,
    "start_time": "2023-04-03T11:22:31.995Z"
   },
   {
    "duration": 0,
    "start_time": "2023-04-03T11:22:31.996Z"
   },
   {
    "duration": 1220,
    "start_time": "2023-04-03T11:28:54.119Z"
   },
   {
    "duration": 517,
    "start_time": "2023-04-03T11:28:55.341Z"
   },
   {
    "duration": 42,
    "start_time": "2023-04-03T11:28:55.860Z"
   },
   {
    "duration": 384,
    "start_time": "2023-04-03T11:28:55.906Z"
   },
   {
    "duration": 705,
    "start_time": "2023-04-03T11:28:56.293Z"
   },
   {
    "duration": 3,
    "start_time": "2023-04-03T11:28:57.002Z"
   },
   {
    "duration": 81,
    "start_time": "2023-04-03T11:28:57.008Z"
   },
   {
    "duration": 8,
    "start_time": "2023-04-03T11:28:57.092Z"
   },
   {
    "duration": 615,
    "start_time": "2023-04-03T11:28:57.102Z"
   },
   {
    "duration": 0,
    "start_time": "2023-04-03T11:28:57.721Z"
   },
   {
    "duration": 0,
    "start_time": "2023-04-03T11:28:57.722Z"
   },
   {
    "duration": 0,
    "start_time": "2023-04-03T11:28:57.725Z"
   },
   {
    "duration": 0,
    "start_time": "2023-04-03T11:28:57.726Z"
   },
   {
    "duration": 1054,
    "start_time": "2023-04-03T11:29:54.931Z"
   },
   {
    "duration": 407,
    "start_time": "2023-04-03T11:29:55.987Z"
   },
   {
    "duration": 25,
    "start_time": "2023-04-03T11:29:56.396Z"
   },
   {
    "duration": 216,
    "start_time": "2023-04-03T11:29:56.423Z"
   },
   {
    "duration": 260,
    "start_time": "2023-04-03T11:29:56.641Z"
   },
   {
    "duration": 4,
    "start_time": "2023-04-03T11:29:56.903Z"
   },
   {
    "duration": 103,
    "start_time": "2023-04-03T11:29:56.987Z"
   },
   {
    "duration": 36,
    "start_time": "2023-04-03T11:29:57.092Z"
   },
   {
    "duration": 369,
    "start_time": "2023-04-03T11:29:57.130Z"
   },
   {
    "duration": 0,
    "start_time": "2023-04-03T11:29:57.502Z"
   },
   {
    "duration": 0,
    "start_time": "2023-04-03T11:29:57.503Z"
   },
   {
    "duration": 0,
    "start_time": "2023-04-03T11:29:57.504Z"
   },
   {
    "duration": 0,
    "start_time": "2023-04-03T11:29:57.505Z"
   },
   {
    "duration": 232,
    "start_time": "2023-04-03T11:31:46.269Z"
   },
   {
    "duration": 227,
    "start_time": "2023-04-03T11:32:50.771Z"
   },
   {
    "duration": 1248,
    "start_time": "2023-04-03T18:05:33.836Z"
   },
   {
    "duration": 941,
    "start_time": "2023-04-03T18:05:35.086Z"
   },
   {
    "duration": 26,
    "start_time": "2023-04-03T18:05:36.029Z"
   },
   {
    "duration": 222,
    "start_time": "2023-04-03T18:05:36.058Z"
   },
   {
    "duration": 345,
    "start_time": "2023-04-03T18:05:36.282Z"
   },
   {
    "duration": 4,
    "start_time": "2023-04-03T18:05:36.629Z"
   },
   {
    "duration": 7,
    "start_time": "2023-04-03T18:05:36.824Z"
   },
   {
    "duration": 11,
    "start_time": "2023-04-03T18:05:36.834Z"
   },
   {
    "duration": 498,
    "start_time": "2023-04-03T18:05:36.847Z"
   },
   {
    "duration": 0,
    "start_time": "2023-04-03T18:05:37.348Z"
   },
   {
    "duration": 1,
    "start_time": "2023-04-03T18:05:37.349Z"
   },
   {
    "duration": 0,
    "start_time": "2023-04-03T18:05:37.352Z"
   },
   {
    "duration": 0,
    "start_time": "2023-04-03T18:05:37.353Z"
   },
   {
    "duration": 1157,
    "start_time": "2023-04-03T18:26:13.790Z"
   },
   {
    "duration": 410,
    "start_time": "2023-04-03T18:26:14.949Z"
   },
   {
    "duration": 25,
    "start_time": "2023-04-03T18:26:15.361Z"
   },
   {
    "duration": 261,
    "start_time": "2023-04-03T18:26:15.389Z"
   },
   {
    "duration": 471,
    "start_time": "2023-04-03T18:26:15.653Z"
   },
   {
    "duration": 3,
    "start_time": "2023-04-03T18:26:16.126Z"
   },
   {
    "duration": 93,
    "start_time": "2023-04-03T18:26:16.131Z"
   },
   {
    "duration": 6,
    "start_time": "2023-04-03T18:26:16.226Z"
   },
   {
    "duration": 5,
    "start_time": "2023-04-03T18:26:16.234Z"
   },
   {
    "duration": 498,
    "start_time": "2023-04-03T18:26:16.242Z"
   },
   {
    "duration": 0,
    "start_time": "2023-04-03T18:26:16.742Z"
   },
   {
    "duration": 0,
    "start_time": "2023-04-03T18:26:16.744Z"
   },
   {
    "duration": 0,
    "start_time": "2023-04-03T18:26:16.745Z"
   },
   {
    "duration": 0,
    "start_time": "2023-04-03T18:26:16.746Z"
   },
   {
    "duration": 1255,
    "start_time": "2023-04-03T18:28:34.834Z"
   },
   {
    "duration": 424,
    "start_time": "2023-04-03T18:28:36.091Z"
   },
   {
    "duration": 29,
    "start_time": "2023-04-03T18:28:36.517Z"
   },
   {
    "duration": 234,
    "start_time": "2023-04-03T18:28:36.548Z"
   },
   {
    "duration": 345,
    "start_time": "2023-04-03T18:28:36.784Z"
   },
   {
    "duration": 7,
    "start_time": "2023-04-03T18:28:37.132Z"
   },
   {
    "duration": 96,
    "start_time": "2023-04-03T18:28:37.141Z"
   },
   {
    "duration": 5,
    "start_time": "2023-04-03T18:28:37.324Z"
   },
   {
    "duration": 298,
    "start_time": "2023-04-03T18:28:37.331Z"
   },
   {
    "duration": 0,
    "start_time": "2023-04-03T18:28:37.630Z"
   },
   {
    "duration": 0,
    "start_time": "2023-04-03T18:28:37.632Z"
   },
   {
    "duration": 0,
    "start_time": "2023-04-03T18:28:37.633Z"
   },
   {
    "duration": 0,
    "start_time": "2023-04-03T18:28:37.634Z"
   },
   {
    "duration": 1213,
    "start_time": "2023-04-03T18:43:20.793Z"
   },
   {
    "duration": 430,
    "start_time": "2023-04-03T18:43:22.008Z"
   },
   {
    "duration": 25,
    "start_time": "2023-04-03T18:43:22.440Z"
   },
   {
    "duration": 261,
    "start_time": "2023-04-03T18:43:22.468Z"
   },
   {
    "duration": 408,
    "start_time": "2023-04-03T18:43:22.733Z"
   },
   {
    "duration": 4,
    "start_time": "2023-04-03T18:43:23.223Z"
   },
   {
    "duration": 95,
    "start_time": "2023-04-03T18:43:23.230Z"
   },
   {
    "duration": 7,
    "start_time": "2023-04-03T18:43:23.328Z"
   },
   {
    "duration": 4208,
    "start_time": "2023-04-03T18:43:23.337Z"
   },
   {
    "duration": 0,
    "start_time": "2023-04-03T18:43:27.547Z"
   },
   {
    "duration": 0,
    "start_time": "2023-04-03T18:43:27.548Z"
   },
   {
    "duration": 0,
    "start_time": "2023-04-03T18:43:27.551Z"
   },
   {
    "duration": 0,
    "start_time": "2023-04-03T18:43:27.554Z"
   },
   {
    "duration": 3099,
    "start_time": "2023-04-03T18:47:55.043Z"
   },
   {
    "duration": 3350,
    "start_time": "2023-04-03T18:48:39.843Z"
   },
   {
    "duration": 2921,
    "start_time": "2023-04-03T18:49:01.983Z"
   },
   {
    "duration": 1526,
    "start_time": "2023-04-03T18:49:50.437Z"
   },
   {
    "duration": 441,
    "start_time": "2023-04-03T18:49:51.965Z"
   },
   {
    "duration": 27,
    "start_time": "2023-04-03T18:49:52.408Z"
   },
   {
    "duration": 304,
    "start_time": "2023-04-03T18:49:52.438Z"
   },
   {
    "duration": 288,
    "start_time": "2023-04-03T18:49:52.744Z"
   },
   {
    "duration": 4,
    "start_time": "2023-04-03T18:49:53.034Z"
   },
   {
    "duration": 183,
    "start_time": "2023-04-03T18:49:53.040Z"
   },
   {
    "duration": 17,
    "start_time": "2023-04-03T18:49:53.225Z"
   },
   {
    "duration": 85,
    "start_time": "2023-04-03T18:49:53.244Z"
   },
   {
    "duration": 4,
    "start_time": "2023-04-03T18:49:53.332Z"
   },
   {
    "duration": 15,
    "start_time": "2023-04-03T18:49:53.339Z"
   },
   {
    "duration": 9,
    "start_time": "2023-04-03T18:49:53.356Z"
   },
   {
    "duration": 1335,
    "start_time": "2023-04-03T18:57:20.395Z"
   },
   {
    "duration": 600,
    "start_time": "2023-04-03T18:57:21.732Z"
   },
   {
    "duration": 33,
    "start_time": "2023-04-03T18:57:22.334Z"
   },
   {
    "duration": 534,
    "start_time": "2023-04-03T18:57:22.425Z"
   },
   {
    "duration": 467,
    "start_time": "2023-04-03T18:57:22.961Z"
   },
   {
    "duration": 4,
    "start_time": "2023-04-03T18:57:23.430Z"
   },
   {
    "duration": 93,
    "start_time": "2023-04-03T18:57:23.436Z"
   },
   {
    "duration": 100,
    "start_time": "2023-04-03T18:57:23.531Z"
   },
   {
    "duration": 297,
    "start_time": "2023-04-03T18:57:23.634Z"
   },
   {
    "duration": 0,
    "start_time": "2023-04-03T18:57:23.934Z"
   },
   {
    "duration": 0,
    "start_time": "2023-04-03T18:57:23.935Z"
   },
   {
    "duration": 0,
    "start_time": "2023-04-03T18:57:23.936Z"
   },
   {
    "duration": 0,
    "start_time": "2023-04-03T18:57:23.937Z"
   },
   {
    "duration": 0,
    "start_time": "2023-04-03T18:57:23.939Z"
   },
   {
    "duration": 1179,
    "start_time": "2023-04-03T18:57:45.788Z"
   },
   {
    "duration": 793,
    "start_time": "2023-04-03T18:57:46.969Z"
   },
   {
    "duration": 79,
    "start_time": "2023-04-03T18:57:47.764Z"
   },
   {
    "duration": 489,
    "start_time": "2023-04-03T18:57:47.845Z"
   },
   {
    "duration": 414,
    "start_time": "2023-04-03T18:57:48.337Z"
   },
   {
    "duration": 73,
    "start_time": "2023-04-03T18:57:48.753Z"
   },
   {
    "duration": 95,
    "start_time": "2023-04-03T18:57:48.830Z"
   },
   {
    "duration": 5,
    "start_time": "2023-04-03T18:57:48.928Z"
   },
   {
    "duration": 212,
    "start_time": "2023-04-03T18:57:48.935Z"
   },
   {
    "duration": 0,
    "start_time": "2023-04-03T18:57:49.149Z"
   },
   {
    "duration": 0,
    "start_time": "2023-04-03T18:57:49.151Z"
   },
   {
    "duration": 0,
    "start_time": "2023-04-03T18:57:49.153Z"
   },
   {
    "duration": 0,
    "start_time": "2023-04-03T18:57:49.153Z"
   },
   {
    "duration": 0,
    "start_time": "2023-04-03T18:57:49.155Z"
   },
   {
    "duration": 1283,
    "start_time": "2023-04-03T18:58:53.245Z"
   },
   {
    "duration": 428,
    "start_time": "2023-04-03T18:58:54.531Z"
   },
   {
    "duration": 26,
    "start_time": "2023-04-03T18:58:54.961Z"
   },
   {
    "duration": 266,
    "start_time": "2023-04-03T18:58:54.989Z"
   },
   {
    "duration": 278,
    "start_time": "2023-04-03T18:58:55.258Z"
   },
   {
    "duration": 86,
    "start_time": "2023-04-03T18:58:55.538Z"
   },
   {
    "duration": 102,
    "start_time": "2023-04-03T18:58:55.626Z"
   },
   {
    "duration": 45,
    "start_time": "2023-04-03T18:58:55.730Z"
   },
   {
    "duration": 332,
    "start_time": "2023-04-03T18:58:55.778Z"
   },
   {
    "duration": 0,
    "start_time": "2023-04-03T18:58:56.112Z"
   },
   {
    "duration": 0,
    "start_time": "2023-04-03T18:58:56.124Z"
   },
   {
    "duration": 0,
    "start_time": "2023-04-03T18:58:56.125Z"
   },
   {
    "duration": 0,
    "start_time": "2023-04-03T18:58:56.126Z"
   },
   {
    "duration": 0,
    "start_time": "2023-04-03T18:58:56.128Z"
   },
   {
    "duration": 2465,
    "start_time": "2023-04-03T18:59:57.462Z"
   },
   {
    "duration": 591,
    "start_time": "2023-04-03T18:59:59.930Z"
   },
   {
    "duration": 32,
    "start_time": "2023-04-03T19:00:00.525Z"
   },
   {
    "duration": 321,
    "start_time": "2023-04-03T19:00:00.560Z"
   },
   {
    "duration": 348,
    "start_time": "2023-04-03T19:00:00.884Z"
   },
   {
    "duration": 4,
    "start_time": "2023-04-03T19:00:01.234Z"
   },
   {
    "duration": 208,
    "start_time": "2023-04-03T19:00:01.240Z"
   },
   {
    "duration": 69,
    "start_time": "2023-04-03T19:00:01.450Z"
   },
   {
    "duration": 322,
    "start_time": "2023-04-03T19:00:01.521Z"
   },
   {
    "duration": 0,
    "start_time": "2023-04-03T19:00:01.846Z"
   },
   {
    "duration": 0,
    "start_time": "2023-04-03T19:00:01.847Z"
   },
   {
    "duration": 0,
    "start_time": "2023-04-03T19:00:01.848Z"
   },
   {
    "duration": 0,
    "start_time": "2023-04-03T19:00:01.850Z"
   },
   {
    "duration": 0,
    "start_time": "2023-04-03T19:00:01.851Z"
   },
   {
    "duration": 1290,
    "start_time": "2023-04-03T19:02:24.919Z"
   },
   {
    "duration": 817,
    "start_time": "2023-04-03T19:02:26.212Z"
   },
   {
    "duration": 25,
    "start_time": "2023-04-03T19:02:27.031Z"
   },
   {
    "duration": 496,
    "start_time": "2023-04-03T19:02:27.058Z"
   },
   {
    "duration": 570,
    "start_time": "2023-04-03T19:02:27.557Z"
   },
   {
    "duration": 3,
    "start_time": "2023-04-03T19:02:28.129Z"
   },
   {
    "duration": 92,
    "start_time": "2023-04-03T19:02:28.135Z"
   },
   {
    "duration": 9,
    "start_time": "2023-04-03T19:02:28.230Z"
   },
   {
    "duration": 306984,
    "start_time": "2023-04-03T19:02:28.242Z"
   },
   {
    "duration": 0,
    "start_time": "2023-04-03T19:07:35.228Z"
   },
   {
    "duration": 0,
    "start_time": "2023-04-03T19:07:35.230Z"
   },
   {
    "duration": 0,
    "start_time": "2023-04-03T19:07:35.231Z"
   },
   {
    "duration": 0,
    "start_time": "2023-04-03T19:07:35.233Z"
   },
   {
    "duration": 0,
    "start_time": "2023-04-03T19:07:35.234Z"
   },
   {
    "duration": 1228,
    "start_time": "2023-04-03T19:08:17.157Z"
   },
   {
    "duration": 684,
    "start_time": "2023-04-03T19:08:18.387Z"
   },
   {
    "duration": 31,
    "start_time": "2023-04-03T19:08:19.124Z"
   },
   {
    "duration": 507,
    "start_time": "2023-04-03T19:08:19.157Z"
   },
   {
    "duration": 470,
    "start_time": "2023-04-03T19:08:19.666Z"
   },
   {
    "duration": 6,
    "start_time": "2023-04-03T19:08:20.148Z"
   },
   {
    "duration": 21,
    "start_time": "2023-04-03T19:08:20.226Z"
   },
   {
    "duration": 15,
    "start_time": "2023-04-03T19:08:20.324Z"
   },
   {
    "duration": 14,
    "start_time": "2023-04-03T19:08:20.341Z"
   },
   {
    "duration": 0,
    "start_time": "2023-04-03T19:10:31.348Z"
   },
   {
    "duration": 0,
    "start_time": "2023-04-03T19:10:31.350Z"
   },
   {
    "duration": 0,
    "start_time": "2023-04-03T19:10:31.352Z"
   },
   {
    "duration": 0,
    "start_time": "2023-04-03T19:10:31.353Z"
   },
   {
    "duration": 0,
    "start_time": "2023-04-03T19:10:31.354Z"
   },
   {
    "duration": 0,
    "start_time": "2023-04-03T19:10:31.356Z"
   },
   {
    "duration": 0,
    "start_time": "2023-04-03T19:10:31.357Z"
   },
   {
    "duration": 0,
    "start_time": "2023-04-03T19:10:31.358Z"
   },
   {
    "duration": 1255,
    "start_time": "2023-04-03T19:10:43.410Z"
   },
   {
    "duration": 689,
    "start_time": "2023-04-03T19:10:44.667Z"
   },
   {
    "duration": 83,
    "start_time": "2023-04-03T19:10:45.359Z"
   },
   {
    "duration": 514,
    "start_time": "2023-04-03T19:10:45.446Z"
   },
   {
    "duration": 586,
    "start_time": "2023-04-03T19:10:45.962Z"
   },
   {
    "duration": 74,
    "start_time": "2023-04-03T19:10:46.551Z"
   },
   {
    "duration": 19,
    "start_time": "2023-04-03T19:10:46.627Z"
   },
   {
    "duration": 76,
    "start_time": "2023-04-03T19:10:46.648Z"
   },
   {
    "duration": 12,
    "start_time": "2023-04-03T19:10:46.726Z"
   },
   {
    "duration": 27696,
    "start_time": "2023-04-03T19:10:46.742Z"
   },
   {
    "duration": 1202,
    "start_time": "2023-04-03T19:11:21.475Z"
   },
   {
    "duration": 662,
    "start_time": "2023-04-03T19:11:22.679Z"
   },
   {
    "duration": 83,
    "start_time": "2023-04-03T19:11:23.345Z"
   },
   {
    "duration": 498,
    "start_time": "2023-04-03T19:11:23.431Z"
   },
   {
    "duration": 307,
    "start_time": "2023-04-03T19:11:23.932Z"
   },
   {
    "duration": 7,
    "start_time": "2023-04-03T19:11:24.322Z"
   },
   {
    "duration": 13,
    "start_time": "2023-04-03T19:11:24.331Z"
   },
   {
    "duration": 79,
    "start_time": "2023-04-03T19:11:24.346Z"
   },
   {
    "duration": 14,
    "start_time": "2023-04-03T19:11:24.428Z"
   },
   {
    "duration": 4,
    "start_time": "2023-04-03T19:11:24.446Z"
   },
   {
    "duration": 7,
    "start_time": "2023-04-03T19:11:24.452Z"
   },
   {
    "duration": 0,
    "start_time": "2023-04-03T19:11:24.461Z"
   },
   {
    "duration": 0,
    "start_time": "2023-04-03T19:11:24.462Z"
   },
   {
    "duration": 0,
    "start_time": "2023-04-03T19:11:24.464Z"
   },
   {
    "duration": 0,
    "start_time": "2023-04-03T19:11:24.466Z"
   },
   {
    "duration": 0,
    "start_time": "2023-04-03T19:11:24.468Z"
   },
   {
    "duration": 0,
    "start_time": "2023-04-03T19:11:24.469Z"
   },
   {
    "duration": 1198,
    "start_time": "2023-04-03T19:11:40.593Z"
   },
   {
    "duration": 407,
    "start_time": "2023-04-03T19:11:41.794Z"
   },
   {
    "duration": 34,
    "start_time": "2023-04-03T19:11:42.203Z"
   },
   {
    "duration": 224,
    "start_time": "2023-04-03T19:11:42.240Z"
   },
   {
    "duration": 361,
    "start_time": "2023-04-03T19:11:42.466Z"
   },
   {
    "duration": 4,
    "start_time": "2023-04-03T19:11:42.830Z"
   },
   {
    "duration": 88,
    "start_time": "2023-04-03T19:11:42.837Z"
   },
   {
    "duration": 9,
    "start_time": "2023-04-03T19:11:42.927Z"
   },
   {
    "duration": 14,
    "start_time": "2023-04-03T19:11:42.939Z"
   },
   {
    "duration": 4,
    "start_time": "2023-04-03T19:11:43.025Z"
   },
   {
    "duration": 0,
    "start_time": "2023-04-03T19:11:43.031Z"
   },
   {
    "duration": 0,
    "start_time": "2023-04-03T19:11:43.033Z"
   },
   {
    "duration": 0,
    "start_time": "2023-04-03T19:11:43.034Z"
   },
   {
    "duration": 0,
    "start_time": "2023-04-03T19:11:43.036Z"
   },
   {
    "duration": 0,
    "start_time": "2023-04-03T19:11:43.037Z"
   },
   {
    "duration": 0,
    "start_time": "2023-04-03T19:11:43.038Z"
   },
   {
    "duration": 0,
    "start_time": "2023-04-03T19:11:43.039Z"
   },
   {
    "duration": 1203,
    "start_time": "2023-04-03T19:12:06.027Z"
   },
   {
    "duration": 926,
    "start_time": "2023-04-03T19:12:07.232Z"
   },
   {
    "duration": 76,
    "start_time": "2023-04-03T19:12:08.160Z"
   },
   {
    "duration": 506,
    "start_time": "2023-04-03T19:12:08.239Z"
   },
   {
    "duration": 379,
    "start_time": "2023-04-03T19:12:08.747Z"
   },
   {
    "duration": 3,
    "start_time": "2023-04-03T19:12:09.128Z"
   },
   {
    "duration": 94,
    "start_time": "2023-04-03T19:12:09.133Z"
   },
   {
    "duration": 9,
    "start_time": "2023-04-03T19:12:09.229Z"
   },
   {
    "duration": 11,
    "start_time": "2023-04-03T19:12:09.241Z"
   },
   {
    "duration": 16718,
    "start_time": "2023-04-03T19:12:09.255Z"
   },
   {
    "duration": 0,
    "start_time": "2023-04-03T19:12:25.975Z"
   },
   {
    "duration": 0,
    "start_time": "2023-04-03T19:12:25.976Z"
   },
   {
    "duration": 0,
    "start_time": "2023-04-03T19:12:25.979Z"
   },
   {
    "duration": 0,
    "start_time": "2023-04-03T19:12:25.980Z"
   },
   {
    "duration": 0,
    "start_time": "2023-04-03T19:12:25.982Z"
   },
   {
    "duration": 0,
    "start_time": "2023-04-03T19:12:25.984Z"
   },
   {
    "duration": 0,
    "start_time": "2023-04-03T19:12:25.985Z"
   },
   {
    "duration": 1204,
    "start_time": "2023-04-03T19:13:24.387Z"
   },
   {
    "duration": 393,
    "start_time": "2023-04-03T19:13:25.594Z"
   },
   {
    "duration": 34,
    "start_time": "2023-04-03T19:13:25.989Z"
   },
   {
    "duration": 320,
    "start_time": "2023-04-03T19:13:26.025Z"
   },
   {
    "duration": 384,
    "start_time": "2023-04-03T19:13:26.347Z"
   },
   {
    "duration": 4,
    "start_time": "2023-04-03T19:13:26.734Z"
   },
   {
    "duration": 85,
    "start_time": "2023-04-03T19:13:26.740Z"
   },
   {
    "duration": 97,
    "start_time": "2023-04-03T19:13:26.828Z"
   },
   {
    "duration": 16,
    "start_time": "2023-04-03T19:13:26.928Z"
   },
   {
    "duration": 11,
    "start_time": "2023-04-03T19:13:26.948Z"
   },
   {
    "duration": 0,
    "start_time": "2023-04-03T19:13:26.962Z"
   },
   {
    "duration": 0,
    "start_time": "2023-04-03T19:13:26.963Z"
   },
   {
    "duration": 0,
    "start_time": "2023-04-03T19:13:26.965Z"
   },
   {
    "duration": 0,
    "start_time": "2023-04-03T19:13:26.967Z"
   },
   {
    "duration": 0,
    "start_time": "2023-04-03T19:13:26.968Z"
   },
   {
    "duration": 0,
    "start_time": "2023-04-03T19:13:26.970Z"
   },
   {
    "duration": 0,
    "start_time": "2023-04-03T19:13:27.023Z"
   },
   {
    "duration": 5,
    "start_time": "2023-04-03T19:14:10.921Z"
   },
   {
    "duration": 3953,
    "start_time": "2023-04-03T19:14:11.192Z"
   },
   {
    "duration": 1142,
    "start_time": "2023-04-03T19:14:40.671Z"
   },
   {
    "duration": 708,
    "start_time": "2023-04-03T19:14:41.815Z"
   },
   {
    "duration": 26,
    "start_time": "2023-04-03T19:14:42.525Z"
   },
   {
    "duration": 484,
    "start_time": "2023-04-03T19:14:42.553Z"
   },
   {
    "duration": 389,
    "start_time": "2023-04-03T19:14:43.039Z"
   },
   {
    "duration": 4,
    "start_time": "2023-04-03T19:14:43.430Z"
   },
   {
    "duration": 93,
    "start_time": "2023-04-03T19:14:43.435Z"
   },
   {
    "duration": 94,
    "start_time": "2023-04-03T19:14:43.531Z"
   },
   {
    "duration": 17,
    "start_time": "2023-04-03T19:14:43.626Z"
   },
   {
    "duration": 186491,
    "start_time": "2023-04-03T19:14:43.647Z"
   },
   {
    "duration": 175695,
    "start_time": "2023-04-03T19:17:50.141Z"
   },
   {
    "duration": 184207,
    "start_time": "2023-04-03T19:20:45.922Z"
   },
   {
    "duration": 5,
    "start_time": "2023-04-03T19:23:50.130Z"
   },
   {
    "duration": 69,
    "start_time": "2023-04-03T19:23:50.137Z"
   },
   {
    "duration": 18,
    "start_time": "2023-04-03T19:23:50.208Z"
   },
   {
    "duration": 12,
    "start_time": "2023-04-03T19:23:50.228Z"
   },
   {
    "duration": 9,
    "start_time": "2023-04-03T19:23:50.242Z"
   },
   {
    "duration": 1227,
    "start_time": "2023-04-03T19:33:01.073Z"
   },
   {
    "duration": 424,
    "start_time": "2023-04-03T19:33:02.302Z"
   },
   {
    "duration": 30,
    "start_time": "2023-04-03T19:33:02.729Z"
   },
   {
    "duration": 240,
    "start_time": "2023-04-03T19:33:02.762Z"
   },
   {
    "duration": 322,
    "start_time": "2023-04-03T19:33:03.004Z"
   },
   {
    "duration": 4,
    "start_time": "2023-04-03T19:33:03.328Z"
   },
   {
    "duration": 95,
    "start_time": "2023-04-03T19:33:03.333Z"
   },
   {
    "duration": 9,
    "start_time": "2023-04-03T19:33:03.430Z"
   },
   {
    "duration": 10,
    "start_time": "2023-04-03T19:33:03.441Z"
   },
   {
    "duration": 179673,
    "start_time": "2023-04-03T19:33:03.455Z"
   },
   {
    "duration": 184407,
    "start_time": "2023-04-03T19:36:03.130Z"
   },
   {
    "duration": 193703,
    "start_time": "2023-04-03T19:39:07.623Z"
   },
   {
    "duration": 5,
    "start_time": "2023-04-03T19:42:21.328Z"
   },
   {
    "duration": 832,
    "start_time": "2023-04-04T10:06:06.804Z"
   },
   {
    "duration": 324,
    "start_time": "2023-04-04T10:06:07.638Z"
   },
   {
    "duration": 22,
    "start_time": "2023-04-04T10:06:07.963Z"
   },
   {
    "duration": 148,
    "start_time": "2023-04-04T10:06:07.986Z"
   },
   {
    "duration": 444,
    "start_time": "2023-04-04T10:06:08.136Z"
   },
   {
    "duration": 4,
    "start_time": "2023-04-04T10:06:08.582Z"
   },
   {
    "duration": 194,
    "start_time": "2023-04-04T10:06:08.587Z"
   },
   {
    "duration": 30,
    "start_time": "2023-04-04T10:06:08.783Z"
   },
   {
    "duration": 31,
    "start_time": "2023-04-04T10:06:08.814Z"
   },
   {
    "duration": 162633,
    "start_time": "2023-04-04T10:06:08.847Z"
   },
   {
    "duration": 910,
    "start_time": "2023-04-04T10:09:20.267Z"
   },
   {
    "duration": 345,
    "start_time": "2023-04-04T10:09:21.179Z"
   },
   {
    "duration": 22,
    "start_time": "2023-04-04T10:09:21.526Z"
   },
   {
    "duration": 148,
    "start_time": "2023-04-04T10:09:21.549Z"
   },
   {
    "duration": 381,
    "start_time": "2023-04-04T10:09:21.699Z"
   },
   {
    "duration": 4,
    "start_time": "2023-04-04T10:09:22.082Z"
   },
   {
    "duration": 193,
    "start_time": "2023-04-04T10:09:22.087Z"
   },
   {
    "duration": 18,
    "start_time": "2023-04-04T10:09:22.282Z"
   },
   {
    "duration": 32,
    "start_time": "2023-04-04T10:09:22.302Z"
   },
   {
    "duration": 164641,
    "start_time": "2023-04-04T10:09:22.336Z"
   },
   {
    "duration": 173198,
    "start_time": "2023-04-04T10:12:06.979Z"
   },
   {
    "duration": 173491,
    "start_time": "2023-04-04T10:15:00.181Z"
   },
   {
    "duration": 4,
    "start_time": "2023-04-04T10:17:53.674Z"
   },
   {
    "duration": 22,
    "start_time": "2023-04-04T10:17:53.679Z"
   },
   {
    "duration": 9,
    "start_time": "2023-04-04T10:19:17.710Z"
   },
   {
    "duration": 7,
    "start_time": "2023-04-04T10:19:24.996Z"
   },
   {
    "duration": 98,
    "start_time": "2023-04-04T10:19:30.839Z"
   },
   {
    "duration": 8,
    "start_time": "2023-04-04T10:19:44.318Z"
   },
   {
    "duration": 8,
    "start_time": "2023-04-04T10:19:48.441Z"
   },
   {
    "duration": 10,
    "start_time": "2023-04-04T10:19:53.775Z"
   },
   {
    "duration": 1084,
    "start_time": "2023-04-04T14:02:23.683Z"
   },
   {
    "duration": 503,
    "start_time": "2023-04-04T14:02:24.768Z"
   },
   {
    "duration": 203,
    "start_time": "2023-04-04T14:02:25.272Z"
   },
   {
    "duration": 197,
    "start_time": "2023-04-04T14:02:25.477Z"
   },
   {
    "duration": 92,
    "start_time": "2023-04-04T14:02:25.675Z"
   },
   {
    "duration": 0,
    "start_time": "2023-04-04T14:02:25.769Z"
   },
   {
    "duration": 0,
    "start_time": "2023-04-04T14:02:25.771Z"
   },
   {
    "duration": 0,
    "start_time": "2023-04-04T14:02:25.772Z"
   },
   {
    "duration": 0,
    "start_time": "2023-04-04T14:02:25.788Z"
   },
   {
    "duration": 0,
    "start_time": "2023-04-04T14:02:25.789Z"
   },
   {
    "duration": 0,
    "start_time": "2023-04-04T14:02:25.790Z"
   },
   {
    "duration": 0,
    "start_time": "2023-04-04T14:02:25.791Z"
   },
   {
    "duration": 0,
    "start_time": "2023-04-04T14:02:25.792Z"
   },
   {
    "duration": 0,
    "start_time": "2023-04-04T14:02:25.793Z"
   },
   {
    "duration": 0,
    "start_time": "2023-04-04T14:02:25.794Z"
   },
   {
    "duration": 1091,
    "start_time": "2023-04-04T14:03:55.897Z"
   },
   {
    "duration": 160,
    "start_time": "2023-04-04T14:03:56.990Z"
   },
   {
    "duration": 282,
    "start_time": "2023-04-04T14:03:57.151Z"
   },
   {
    "duration": 280,
    "start_time": "2023-04-04T14:03:57.435Z"
   },
   {
    "duration": 198,
    "start_time": "2023-04-04T14:03:57.717Z"
   },
   {
    "duration": 0,
    "start_time": "2023-04-04T14:03:57.917Z"
   },
   {
    "duration": 0,
    "start_time": "2023-04-04T14:03:57.918Z"
   },
   {
    "duration": 0,
    "start_time": "2023-04-04T14:03:57.919Z"
   },
   {
    "duration": 0,
    "start_time": "2023-04-04T14:03:57.920Z"
   },
   {
    "duration": 0,
    "start_time": "2023-04-04T14:03:57.922Z"
   },
   {
    "duration": 0,
    "start_time": "2023-04-04T14:03:57.922Z"
   },
   {
    "duration": 0,
    "start_time": "2023-04-04T14:03:57.923Z"
   },
   {
    "duration": 0,
    "start_time": "2023-04-04T14:03:57.924Z"
   },
   {
    "duration": 0,
    "start_time": "2023-04-04T14:03:57.925Z"
   },
   {
    "duration": 131,
    "start_time": "2023-04-04T14:07:37.343Z"
   },
   {
    "duration": 1508,
    "start_time": "2023-04-04T14:14:59.939Z"
   },
   {
    "duration": 158,
    "start_time": "2023-04-04T14:15:01.449Z"
   },
   {
    "duration": 257,
    "start_time": "2023-04-04T14:15:01.608Z"
   },
   {
    "duration": 249,
    "start_time": "2023-04-04T14:15:01.867Z"
   },
   {
    "duration": 591,
    "start_time": "2023-04-04T14:15:02.118Z"
   },
   {
    "duration": 3667,
    "start_time": "2023-04-04T14:15:02.711Z"
   },
   {
    "duration": 744,
    "start_time": "2023-04-04T14:15:06.380Z"
   },
   {
    "duration": 272,
    "start_time": "2023-04-04T14:15:07.126Z"
   },
   {
    "duration": 7,
    "start_time": "2023-04-04T14:15:07.490Z"
   },
   {
    "duration": 6,
    "start_time": "2023-04-04T14:15:07.589Z"
   },
   {
    "duration": 10,
    "start_time": "2023-04-04T14:15:07.596Z"
   },
   {
    "duration": 13,
    "start_time": "2023-04-04T14:15:07.608Z"
   },
   {
    "duration": 1414,
    "start_time": "2023-04-04T14:15:22.434Z"
   },
   {
    "duration": 155,
    "start_time": "2023-04-04T14:15:23.850Z"
   },
   {
    "duration": 214,
    "start_time": "2023-04-04T14:15:24.007Z"
   },
   {
    "duration": 286,
    "start_time": "2023-04-04T14:15:24.222Z"
   },
   {
    "duration": 281,
    "start_time": "2023-04-04T14:15:24.510Z"
   },
   {
    "duration": 3537,
    "start_time": "2023-04-04T14:15:24.793Z"
   },
   {
    "duration": 764,
    "start_time": "2023-04-04T14:15:28.331Z"
   },
   {
    "duration": 395,
    "start_time": "2023-04-04T14:15:29.097Z"
   },
   {
    "duration": 95,
    "start_time": "2023-04-04T14:15:29.494Z"
   },
   {
    "duration": 8,
    "start_time": "2023-04-04T14:15:29.592Z"
   },
   {
    "duration": 87,
    "start_time": "2023-04-04T14:15:29.602Z"
   },
   {
    "duration": 16,
    "start_time": "2023-04-04T14:15:29.691Z"
   },
   {
    "duration": 15361,
    "start_time": "2023-04-04T14:15:29.710Z"
   },
   {
    "duration": 0,
    "start_time": "2023-04-04T14:15:45.072Z"
   },
   {
    "duration": 0,
    "start_time": "2023-04-04T14:15:45.074Z"
   },
   {
    "duration": 0,
    "start_time": "2023-04-04T14:15:45.074Z"
   },
   {
    "duration": 1343,
    "start_time": "2023-04-04T14:20:23.995Z"
   },
   {
    "duration": 141,
    "start_time": "2023-04-04T14:20:25.339Z"
   },
   {
    "duration": 123,
    "start_time": "2023-04-04T14:20:25.481Z"
   },
   {
    "duration": 132,
    "start_time": "2023-04-04T14:20:25.606Z"
   },
   {
    "duration": 123,
    "start_time": "2023-04-04T14:20:25.739Z"
   },
   {
    "duration": 3026,
    "start_time": "2023-04-04T14:20:25.864Z"
   },
   {
    "duration": 1206,
    "start_time": "2023-04-04T14:20:28.892Z"
   },
   {
    "duration": 398,
    "start_time": "2023-04-04T14:20:30.099Z"
   },
   {
    "duration": 3,
    "start_time": "2023-04-04T14:20:30.589Z"
   },
   {
    "duration": 128,
    "start_time": "2023-04-04T14:20:30.596Z"
   },
   {
    "duration": 81,
    "start_time": "2023-04-04T14:20:30.726Z"
   },
   {
    "duration": 82,
    "start_time": "2023-04-04T14:20:30.808Z"
   },
   {
    "duration": 12102,
    "start_time": "2023-04-04T14:20:30.891Z"
   },
   {
    "duration": 0,
    "start_time": "2023-04-04T14:20:42.995Z"
   },
   {
    "duration": 0,
    "start_time": "2023-04-04T14:20:42.997Z"
   },
   {
    "duration": 0,
    "start_time": "2023-04-04T14:20:42.998Z"
   },
   {
    "duration": 745,
    "start_time": "2023-04-04T14:22:18.393Z"
   },
   {
    "duration": 1301,
    "start_time": "2023-04-04T14:22:36.113Z"
   },
   {
    "duration": 153,
    "start_time": "2023-04-04T14:22:37.416Z"
   },
   {
    "duration": 131,
    "start_time": "2023-04-04T14:22:37.570Z"
   },
   {
    "duration": 131,
    "start_time": "2023-04-04T14:22:37.703Z"
   },
   {
    "duration": 200,
    "start_time": "2023-04-04T14:22:37.836Z"
   },
   {
    "duration": 3969,
    "start_time": "2023-04-04T14:22:38.037Z"
   },
   {
    "duration": 781,
    "start_time": "2023-04-04T14:22:42.007Z"
   },
   {
    "duration": 310,
    "start_time": "2023-04-04T14:22:42.790Z"
   },
   {
    "duration": 90,
    "start_time": "2023-04-04T14:22:43.102Z"
   },
   {
    "duration": 99,
    "start_time": "2023-04-04T14:22:43.194Z"
   },
   {
    "duration": 8,
    "start_time": "2023-04-04T14:22:43.295Z"
   },
   {
    "duration": 8,
    "start_time": "2023-04-04T14:22:43.305Z"
   },
   {
    "duration": 9291,
    "start_time": "2023-04-04T14:22:43.314Z"
   },
   {
    "duration": 0,
    "start_time": "2023-04-04T14:22:52.606Z"
   },
   {
    "duration": 0,
    "start_time": "2023-04-04T14:22:52.608Z"
   },
   {
    "duration": 0,
    "start_time": "2023-04-04T14:22:52.609Z"
   },
   {
    "duration": 1513,
    "start_time": "2023-04-05T09:29:24.548Z"
   },
   {
    "duration": 707,
    "start_time": "2023-04-05T09:29:26.063Z"
   },
   {
    "duration": 350,
    "start_time": "2023-04-05T09:29:26.772Z"
   },
   {
    "duration": 485,
    "start_time": "2023-04-05T09:29:27.124Z"
   },
   {
    "duration": 287,
    "start_time": "2023-04-05T09:29:27.611Z"
   },
   {
    "duration": 3357,
    "start_time": "2023-04-05T09:29:27.902Z"
   },
   {
    "duration": 782,
    "start_time": "2023-04-05T09:29:31.261Z"
   },
   {
    "duration": 349,
    "start_time": "2023-04-05T09:29:32.045Z"
   },
   {
    "duration": 4,
    "start_time": "2023-04-05T09:29:32.395Z"
   },
   {
    "duration": 306,
    "start_time": "2023-04-05T09:29:32.402Z"
   },
   {
    "duration": 0,
    "start_time": "2023-04-05T09:29:32.710Z"
   },
   {
    "duration": 0,
    "start_time": "2023-04-05T09:29:32.712Z"
   },
   {
    "duration": 4,
    "start_time": "2023-04-05T09:30:34.229Z"
   },
   {
    "duration": 1343,
    "start_time": "2023-04-05T09:30:40.834Z"
   },
   {
    "duration": 165,
    "start_time": "2023-04-05T09:30:42.179Z"
   },
   {
    "duration": 172,
    "start_time": "2023-04-05T09:30:42.346Z"
   },
   {
    "duration": 170,
    "start_time": "2023-04-05T09:30:42.521Z"
   },
   {
    "duration": 140,
    "start_time": "2023-04-05T09:30:42.695Z"
   },
   {
    "duration": 4630,
    "start_time": "2023-04-05T09:30:42.837Z"
   },
   {
    "duration": 778,
    "start_time": "2023-04-05T09:30:47.469Z"
   },
   {
    "duration": 255,
    "start_time": "2023-04-05T09:30:48.249Z"
   },
   {
    "duration": 4,
    "start_time": "2023-04-05T09:30:48.577Z"
   },
   {
    "duration": 87,
    "start_time": "2023-04-05T09:30:48.586Z"
   },
   {
    "duration": 18,
    "start_time": "2023-04-05T09:30:48.675Z"
   },
   {
    "duration": 147,
    "start_time": "2023-04-05T09:30:48.696Z"
   },
   {
    "duration": 4,
    "start_time": "2023-04-05T09:34:28.837Z"
   },
   {
    "duration": 4,
    "start_time": "2023-04-05T09:35:28.544Z"
   },
   {
    "duration": 1307,
    "start_time": "2023-04-05T09:38:07.022Z"
   },
   {
    "duration": 162,
    "start_time": "2023-04-05T09:38:08.331Z"
   },
   {
    "duration": 146,
    "start_time": "2023-04-05T09:38:08.495Z"
   },
   {
    "duration": 149,
    "start_time": "2023-04-05T09:38:08.643Z"
   },
   {
    "duration": 125,
    "start_time": "2023-04-05T09:38:08.793Z"
   },
   {
    "duration": 3554,
    "start_time": "2023-04-05T09:38:08.920Z"
   },
   {
    "duration": 1406,
    "start_time": "2023-04-05T09:38:12.479Z"
   },
   {
    "duration": 294,
    "start_time": "2023-04-05T09:38:13.887Z"
   },
   {
    "duration": 4,
    "start_time": "2023-04-05T09:38:14.183Z"
   },
   {
    "duration": 89,
    "start_time": "2023-04-05T09:38:14.191Z"
   },
   {
    "duration": 4,
    "start_time": "2023-04-05T09:38:14.282Z"
   },
   {
    "duration": 97,
    "start_time": "2023-04-05T09:38:14.288Z"
   },
   {
    "duration": 234,
    "start_time": "2023-04-05T09:38:14.386Z"
   },
   {
    "duration": 0,
    "start_time": "2023-04-05T09:38:14.621Z"
   },
   {
    "duration": 0,
    "start_time": "2023-04-05T09:38:14.623Z"
   },
   {
    "duration": 0,
    "start_time": "2023-04-05T09:38:14.671Z"
   },
   {
    "duration": 1442,
    "start_time": "2023-04-05T09:43:29.101Z"
   },
   {
    "duration": 158,
    "start_time": "2023-04-05T09:43:30.544Z"
   },
   {
    "duration": 133,
    "start_time": "2023-04-05T09:43:30.704Z"
   },
   {
    "duration": 145,
    "start_time": "2023-04-05T09:43:30.840Z"
   },
   {
    "duration": 284,
    "start_time": "2023-04-05T09:43:30.989Z"
   },
   {
    "duration": 5612,
    "start_time": "2023-04-05T09:43:31.276Z"
   },
   {
    "duration": 790,
    "start_time": "2023-04-05T09:43:36.893Z"
   },
   {
    "duration": 311,
    "start_time": "2023-04-05T09:43:37.684Z"
   },
   {
    "duration": 84,
    "start_time": "2023-04-05T09:43:37.998Z"
   },
   {
    "duration": 84,
    "start_time": "2023-04-05T09:43:38.089Z"
   },
   {
    "duration": 10,
    "start_time": "2023-04-05T09:43:38.183Z"
   },
   {
    "duration": 33,
    "start_time": "2023-04-05T09:43:38.195Z"
   },
   {
    "duration": 1335,
    "start_time": "2023-04-05T09:43:38.230Z"
   },
   {
    "duration": 1142,
    "start_time": "2023-04-05T09:43:39.569Z"
   },
   {
    "duration": 1080,
    "start_time": "2023-04-05T09:43:40.712Z"
   },
   {
    "duration": 5,
    "start_time": "2023-04-05T09:43:41.794Z"
   },
   {
    "duration": 1429,
    "start_time": "2023-04-05T09:44:24.696Z"
   },
   {
    "duration": 156,
    "start_time": "2023-04-05T09:44:26.127Z"
   },
   {
    "duration": 141,
    "start_time": "2023-04-05T09:44:26.288Z"
   },
   {
    "duration": 150,
    "start_time": "2023-04-05T09:44:26.431Z"
   },
   {
    "duration": 133,
    "start_time": "2023-04-05T09:44:26.587Z"
   },
   {
    "duration": 3374,
    "start_time": "2023-04-05T09:44:26.722Z"
   },
   {
    "duration": 866,
    "start_time": "2023-04-05T09:44:30.098Z"
   },
   {
    "duration": 224,
    "start_time": "2023-04-05T09:44:30.965Z"
   },
   {
    "duration": 5,
    "start_time": "2023-04-05T09:44:31.191Z"
   },
   {
    "duration": 24,
    "start_time": "2023-04-05T09:44:31.274Z"
   },
   {
    "duration": 46,
    "start_time": "2023-04-05T09:44:31.306Z"
   },
   {
    "duration": 60,
    "start_time": "2023-04-05T09:44:31.353Z"
   },
   {
    "duration": 3497,
    "start_time": "2023-04-05T09:44:31.414Z"
   },
   {
    "duration": 9,
    "start_time": "2023-04-05T09:44:34.913Z"
   },
   {
    "duration": 1663,
    "start_time": "2023-04-05T09:53:38.600Z"
   },
   {
    "duration": 153,
    "start_time": "2023-04-05T09:53:40.265Z"
   },
   {
    "duration": 137,
    "start_time": "2023-04-05T09:53:40.419Z"
   },
   {
    "duration": 151,
    "start_time": "2023-04-05T09:53:40.558Z"
   },
   {
    "duration": 149,
    "start_time": "2023-04-05T09:53:40.711Z"
   },
   {
    "duration": 4731,
    "start_time": "2023-04-05T09:53:40.862Z"
   },
   {
    "duration": 820,
    "start_time": "2023-04-05T09:53:45.595Z"
   },
   {
    "duration": 172,
    "start_time": "2023-04-05T09:53:46.417Z"
   },
   {
    "duration": 79,
    "start_time": "2023-04-05T09:53:46.591Z"
   },
   {
    "duration": 18,
    "start_time": "2023-04-05T09:53:46.673Z"
   },
   {
    "duration": 78,
    "start_time": "2023-04-05T09:53:46.694Z"
   },
   {
    "duration": 10,
    "start_time": "2023-04-05T09:53:46.785Z"
   },
   {
    "duration": 3666,
    "start_time": "2023-04-05T09:53:46.797Z"
   },
   {
    "duration": 21,
    "start_time": "2023-04-05T09:53:50.465Z"
   },
   {
    "duration": 1698,
    "start_time": "2023-04-05T14:59:41.335Z"
   },
   {
    "duration": 537,
    "start_time": "2023-04-05T14:59:43.035Z"
   },
   {
    "duration": 219,
    "start_time": "2023-04-05T14:59:43.574Z"
   },
   {
    "duration": 227,
    "start_time": "2023-04-05T14:59:43.795Z"
   },
   {
    "duration": 140,
    "start_time": "2023-04-05T14:59:44.024Z"
   },
   {
    "duration": 4450,
    "start_time": "2023-04-05T14:59:44.166Z"
   },
   {
    "duration": 932,
    "start_time": "2023-04-05T14:59:48.618Z"
   },
   {
    "duration": 310,
    "start_time": "2023-04-05T14:59:49.553Z"
   },
   {
    "duration": 4,
    "start_time": "2023-04-05T14:59:49.864Z"
   },
   {
    "duration": 93,
    "start_time": "2023-04-05T14:59:49.876Z"
   },
   {
    "duration": 13,
    "start_time": "2023-04-05T14:59:49.971Z"
   },
   {
    "duration": 6,
    "start_time": "2023-04-05T14:59:49.987Z"
   },
   {
    "duration": 3492,
    "start_time": "2023-04-05T14:59:49.995Z"
   },
   {
    "duration": 5,
    "start_time": "2023-04-05T14:59:53.489Z"
   },
   {
    "duration": 1502,
    "start_time": "2023-04-05T15:05:54.132Z"
   },
   {
    "duration": 149,
    "start_time": "2023-04-05T15:05:55.636Z"
   },
   {
    "duration": 129,
    "start_time": "2023-04-05T15:05:55.787Z"
   },
   {
    "duration": 131,
    "start_time": "2023-04-05T15:05:55.918Z"
   },
   {
    "duration": 150,
    "start_time": "2023-04-05T15:05:56.051Z"
   },
   {
    "duration": 3365,
    "start_time": "2023-04-05T15:05:56.203Z"
   },
   {
    "duration": 1311,
    "start_time": "2023-04-05T15:05:59.570Z"
   },
   {
    "duration": 2031,
    "start_time": "2023-04-05T15:06:00.883Z"
   },
   {
    "duration": 348,
    "start_time": "2023-04-05T15:06:02.915Z"
   },
   {
    "duration": 90,
    "start_time": "2023-04-05T15:06:03.272Z"
   },
   {
    "duration": 7,
    "start_time": "2023-04-05T15:06:03.364Z"
   },
   {
    "duration": 5,
    "start_time": "2023-04-05T15:06:03.373Z"
   },
   {
    "duration": 7,
    "start_time": "2023-04-05T15:06:03.380Z"
   },
   {
    "duration": 3536,
    "start_time": "2023-04-05T15:06:03.388Z"
   },
   {
    "duration": 3,
    "start_time": "2023-04-05T15:06:06.927Z"
   }
  ],
  "kernelspec": {
   "display_name": "Python 3",
   "language": "python",
   "name": "python3"
  },
  "language_info": {
   "codemirror_mode": {
    "name": "ipython",
    "version": 3
   },
   "file_extension": ".py",
   "mimetype": "text/x-python",
   "name": "python",
   "nbconvert_exporter": "python",
   "pygments_lexer": "ipython3",
   "version": "3.7.3"
  },
  "toc": {
   "base_numbering": 1,
   "nav_menu": {},
   "number_sections": true,
   "sideBar": true,
   "skip_h1_title": true,
   "title_cell": "Table of Contents",
   "title_sidebar": "Contents",
   "toc_cell": false,
   "toc_position": {},
   "toc_section_display": true,
   "toc_window_display": true
  }
 },
 "nbformat": 4,
 "nbformat_minor": 2
}
