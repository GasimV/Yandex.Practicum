{
 "cells": [
  {
   "cell_type": "markdown",
   "metadata": {},
   "source": [
    "# Рекомендация тарифов"
   ]
  },
  {
   "cell_type": "markdown",
   "metadata": {},
   "source": [
    "Оператор мобильной связи «Мегалайн» выяснил: многие клиенты пользуются архивными тарифами. Они хотят построить систему, способную проанализировать поведение клиентов и предложить пользователям новый тариф: «Смарт» или «Ультра»."
   ]
  },
  {
   "cell_type": "markdown",
   "metadata": {},
   "source": [
    "# Введение.  \n",
    "\n",
    "**Описание проекта**  \n",
    "\n",
    "    Заказчик этого исследования — Оператор мобильной связи «Мегалайн», который выяснил: многие клиенты пользуются архивными тарифами. Они хотят построить систему, способную проанализировать поведение клиентов и предложить пользователям новый тариф: «Смарт» или «Ультра». В нашем распоряжении данные о поведении клиентов, которые уже перешли на эти тарифы (из проекта курса «Статистический анализ данных»). Нужно построить модель для задачи классификации, которая выберет подходящий тариф. Предобработка данных не понадобится — мы её уже сделали.  \n",
    "\n",
    "**Цель проекта** \n",
    "\n",
    "    Необходимо построить модель с максимально большим значением accuracy. Чтобы сдать проект успешно, нужно довести долю правильных ответов по крайней мере до 0.75. Проверьте accuracy на тестовой выборке самостоятельно.  \n",
    "\n",
    "**Описание данных**  \n",
    "\n",
    "Каждый объект в наборе данных — это информация о поведении одного пользователя за месяц. Известно:  \n",
    "\n",
    "    •\tсalls — количество звонков,  \n",
    "    •\tminutes — суммарная длительность звонков в минутах,  \n",
    "    •\tmessages — количество sms-сообщений,  \n",
    "    •\tmb_used — израсходованный интернет-трафик в Мб,  \n",
    "    •\tis_ultra — каким тарифом пользовался в течение месяца («Ультра» — 1, «Смарт» — 0).  \n",
    " \n",
    "\n",
    "**План работы**  \n",
    "\n",
    "    Шаг 1. Откройте файл с данными и изучите его. Путь к файлу: /datasets/users_behavior.csv.  \n",
    "    Шаг 2. Разделите исходные данные на обучающую, валидационную и тестовую выборки.  \n",
    "    Шаг 3. Исследуйте качество разных моделей, меняя гиперпараметры. Кратко напишите выводы исследования.  \n",
    "    Шаг 4: Проверьте качество модели на тестовой выборке.  \n",
    "    Шаг 5: Дополнительное задание: проверьте модели на вменяемость. Ничего страшного, если не получится: эти данные сложнее тех, с которыми вы работали раньше. В следующем курсе подробнее об этом расскажем."
   ]
  },
  {
   "cell_type": "markdown",
   "metadata": {},
   "source": [
    "## Откройте и изучите файл"
   ]
  },
  {
   "cell_type": "code",
   "execution_count": 1,
   "metadata": {},
   "outputs": [],
   "source": [
    "import pandas as pd\n",
    "import numpy as np\n",
    "from sklearn.model_selection import train_test_split\n",
    "from sklearn.metrics import accuracy_score\n",
    "from sklearn.tree import DecisionTreeClassifier\n",
    "from sklearn.ensemble import RandomForestClassifier\n",
    "from sklearn.linear_model import LogisticRegression\n",
    "import matplotlib.pyplot as plt\n",
    "from sklearn import tree\n",
    "from sklearn.dummy import DummyClassifier"
   ]
  },
  {
   "cell_type": "code",
   "execution_count": 2,
   "metadata": {},
   "outputs": [
    {
     "data": {
      "text/html": [
       "<div>\n",
       "<style scoped>\n",
       "    .dataframe tbody tr th:only-of-type {\n",
       "        vertical-align: middle;\n",
       "    }\n",
       "\n",
       "    .dataframe tbody tr th {\n",
       "        vertical-align: top;\n",
       "    }\n",
       "\n",
       "    .dataframe thead th {\n",
       "        text-align: right;\n",
       "    }\n",
       "</style>\n",
       "<table border=\"1\" class=\"dataframe\">\n",
       "  <thead>\n",
       "    <tr style=\"text-align: right;\">\n",
       "      <th></th>\n",
       "      <th>calls</th>\n",
       "      <th>minutes</th>\n",
       "      <th>messages</th>\n",
       "      <th>mb_used</th>\n",
       "      <th>is_ultra</th>\n",
       "    </tr>\n",
       "  </thead>\n",
       "  <tbody>\n",
       "    <tr>\n",
       "      <th>0</th>\n",
       "      <td>40.0</td>\n",
       "      <td>311.90</td>\n",
       "      <td>83.0</td>\n",
       "      <td>19915.42</td>\n",
       "      <td>0</td>\n",
       "    </tr>\n",
       "    <tr>\n",
       "      <th>1</th>\n",
       "      <td>85.0</td>\n",
       "      <td>516.75</td>\n",
       "      <td>56.0</td>\n",
       "      <td>22696.96</td>\n",
       "      <td>0</td>\n",
       "    </tr>\n",
       "    <tr>\n",
       "      <th>2</th>\n",
       "      <td>77.0</td>\n",
       "      <td>467.66</td>\n",
       "      <td>86.0</td>\n",
       "      <td>21060.45</td>\n",
       "      <td>0</td>\n",
       "    </tr>\n",
       "    <tr>\n",
       "      <th>3</th>\n",
       "      <td>106.0</td>\n",
       "      <td>745.53</td>\n",
       "      <td>81.0</td>\n",
       "      <td>8437.39</td>\n",
       "      <td>1</td>\n",
       "    </tr>\n",
       "    <tr>\n",
       "      <th>4</th>\n",
       "      <td>66.0</td>\n",
       "      <td>418.74</td>\n",
       "      <td>1.0</td>\n",
       "      <td>14502.75</td>\n",
       "      <td>0</td>\n",
       "    </tr>\n",
       "  </tbody>\n",
       "</table>\n",
       "</div>"
      ],
      "text/plain": [
       "   calls  minutes  messages   mb_used  is_ultra\n",
       "0   40.0   311.90      83.0  19915.42         0\n",
       "1   85.0   516.75      56.0  22696.96         0\n",
       "2   77.0   467.66      86.0  21060.45         0\n",
       "3  106.0   745.53      81.0   8437.39         1\n",
       "4   66.0   418.74       1.0  14502.75         0"
      ]
     },
     "execution_count": 2,
     "metadata": {},
     "output_type": "execute_result"
    }
   ],
   "source": [
    "data = pd.read_csv('/datasets/users_behavior.csv')\n",
    "data.head()"
   ]
  },
  {
   "cell_type": "code",
   "execution_count": 3,
   "metadata": {},
   "outputs": [
    {
     "name": "stdout",
     "output_type": "stream",
     "text": [
      "<class 'pandas.core.frame.DataFrame'>\n",
      "RangeIndex: 3214 entries, 0 to 3213\n",
      "Data columns (total 5 columns):\n",
      " #   Column    Non-Null Count  Dtype  \n",
      "---  ------    --------------  -----  \n",
      " 0   calls     3214 non-null   float64\n",
      " 1   minutes   3214 non-null   float64\n",
      " 2   messages  3214 non-null   float64\n",
      " 3   mb_used   3214 non-null   float64\n",
      " 4   is_ultra  3214 non-null   int64  \n",
      "dtypes: float64(4), int64(1)\n",
      "memory usage: 125.7 KB\n"
     ]
    }
   ],
   "source": [
    "data.info()"
   ]
  },
  {
   "cell_type": "code",
   "execution_count": 4,
   "metadata": {},
   "outputs": [
    {
     "data": {
      "text/plain": [
       "0    2229\n",
       "1     985\n",
       "Name: is_ultra, dtype: int64"
      ]
     },
     "execution_count": 4,
     "metadata": {},
     "output_type": "execute_result"
    }
   ],
   "source": [
    "data['is_ultra'].value_counts()"
   ]
  },
  {
   "cell_type": "markdown",
   "metadata": {},
   "source": [
    "## Разбейте данные на выборки"
   ]
  },
  {
   "cell_type": "code",
   "execution_count": 5,
   "metadata": {},
   "outputs": [],
   "source": [
    "features = data.drop('is_ultra', axis=1)\n",
    "target = data['is_ultra']"
   ]
  },
  {
   "cell_type": "code",
   "execution_count": 6,
   "metadata": {},
   "outputs": [],
   "source": [
    "features_train, features_test1, target_train, target_test1 = train_test_split(features, target, test_size=0.4, random_state=42, \n",
    "                                                                             stratify=target)\n",
    "features_test, features_valid, target_test, target_valid = train_test_split(features_test1, target_test1, test_size=0.5, \n",
    "                                                                            random_state=12345, stratify=target_test1)"
   ]
  },
  {
   "cell_type": "code",
   "execution_count": 7,
   "metadata": {},
   "outputs": [
    {
     "name": "stdout",
     "output_type": "stream",
     "text": [
      "(1928, 4)\n",
      "(643, 4)\n",
      "(643, 4)\n",
      "(1928,)\n",
      "(643,)\n",
      "(643,)\n"
     ]
    }
   ],
   "source": [
    "print(features_train.shape)\n",
    "print(features_valid.shape)\n",
    "print(features_test.shape)\n",
    "print(target_train.shape)\n",
    "print(target_valid.shape)\n",
    "print(target_test.shape)"
   ]
  },
  {
   "cell_type": "markdown",
   "metadata": {},
   "source": [
    "## Исследуйте модели"
   ]
  },
  {
   "cell_type": "markdown",
   "metadata": {},
   "source": [
    "**Применим модель дерево решений.**"
   ]
  },
  {
   "cell_type": "code",
   "execution_count": 8,
   "metadata": {},
   "outputs": [
    {
     "name": "stdout",
     "output_type": "stream",
     "text": [
      "Accuracy лучшей модели: 0.7869362363919129\n",
      "Лучшая модель: DecisionTreeClassifier(max_depth=4, random_state=12345)\n",
      "\n"
     ]
    },
    {
     "data": {
      "image/png": "[encoded data removed]",
      "text/plain": [
       "<Figure size 432x288 with 1 Axes>"
      ]
     },
     "metadata": {
      "needs_background": "light"
     },
     "output_type": "display_data"
    }
   ],
   "source": [
    "best_model_dt = None\n",
    "best_result_dt = 0\n",
    "results_train = []\n",
    "results_valid = []\n",
    "for depth in range(1, 30):\n",
    "    model = DecisionTreeClassifier(random_state=12345, max_depth=depth)\n",
    "    model.fit(features_train, target_train)\n",
    "    train_predictions = model.predict(features_train)\n",
    "    train_result = accuracy_score(target_train, train_predictions)\n",
    "    results_train.append(train_result)\n",
    "    valid_predictions = model.predict(features_valid)\n",
    "    valid_result = accuracy_score(target_valid, valid_predictions)\n",
    "    results_valid.append(valid_result)\n",
    "    if valid_result > best_result_dt:\n",
    "        best_model_dt = model\n",
    "        best_result_dt = valid_result\n",
    "        \n",
    "print(\"Accuracy лучшей модели:\", best_result_dt)\n",
    "print(\"Лучшая модель:\", best_model_dt)\n",
    "print()\n",
    "plt.plot(results_train, label='train')\n",
    "plt.plot(results_valid, label='validation')\n",
    "plt.xlabel('Max Depth')\n",
    "plt.ylabel('Accuracy')\n",
    "plt.legend()\n",
    "plt.show()"
   ]
  },
  {
   "cell_type": "code",
   "execution_count": 9,
   "metadata": {
    "scrolled": true
   },
   "outputs": [
    {
     "data": {
      "image/png": "[encoded data removed]",
      "text/plain": [
       "<Figure size 1080x864 with 1 Axes>"
      ]
     },
     "metadata": {
      "needs_background": "light"
     },
     "output_type": "display_data"
    }
   ],
   "source": [
    "plt.figure(figsize=(15,12))\n",
    "tree.plot_tree(best_model_dt, max_depth=3, fontsize=10);\n",
    "plt.show()"
   ]
  },
  {
   "cell_type": "code",
   "execution_count": 10,
   "metadata": {},
   "outputs": [
    {
     "data": {
      "image/png": "[encoded data removed]",
      "text/plain": [
       "<Figure size 2520x1440 with 1 Axes>"
      ]
     },
     "metadata": {
      "needs_background": "light"
     },
     "output_type": "display_data"
    }
   ],
   "source": [
    "fig = plt.figure(figsize=(35,20))\n",
    "_ = tree.plot_tree(best_model_dt, \n",
    "               feature_names=features.columns.values, \n",
    "               class_names=['Smart','Ultra'],\n",
    "               filled=True,\n",
    "               fontsize = 15,\n",
    "               max_depth = 3     # Это чтобы прорисовывало 3 уровня, не глубже\n",
    "                  )"
   ]
  },
  {
   "cell_type": "markdown",
   "metadata": {},
   "source": [
    "**Применим случайный лес.**"
   ]
  },
  {
   "cell_type": "code",
   "execution_count": 11,
   "metadata": {},
   "outputs": [
    {
     "name": "stdout",
     "output_type": "stream",
     "text": [
      "Accuracy наилучшей модели на валидационной выборке: 0.7900466562986003\n"
     ]
    }
   ],
   "source": [
    "best_model_rf = None\n",
    "best_result_rf = 0\n",
    "for est in range(1, 11):\n",
    "    # обучение модели с заданным количеством деревьев\n",
    "    model = RandomForestClassifier(random_state=12345, n_estimators=est)\n",
    "    # обучение модели на тренировочной выборке\n",
    "    model.fit(features_train, target_train)\n",
    "    # подсчёт качества модели на валидационной выборке\n",
    "    result = model.score(features_valid, target_valid)\n",
    "    if result > best_result_rf:\n",
    "        # сохранение наилучшей модели\n",
    "        best_model_rf = model\n",
    "        # сохранение наилучшего значения метрики accuracy на валидационных данных\n",
    "        best_result_rf = result\n",
    "\n",
    "print(\"Accuracy наилучшей модели на валидационной выборке:\", best_result_rf)"
   ]
  },
  {
   "cell_type": "code",
   "execution_count": 12,
   "metadata": {},
   "outputs": [
    {
     "name": "stdout",
     "output_type": "stream",
     "text": [
      "Accuracy наилучшей модели на валидационной выборке: 0.7962674961119751\n",
      "Наилучшие гиперпараметры: n_estimators = 8 и max_depth = 5\n"
     ]
    }
   ],
   "source": [
    "best_model_rf = None\n",
    "best_result_rf = 0\n",
    "for est in range(1, 11):\n",
    "    for depth in range(1, 6):\n",
    "        # обучение модели с заданным количеством деревьев и максимальной глубиной\n",
    "        model = RandomForestClassifier(random_state=12345, n_estimators=est, max_depth=depth)\n",
    "        # обучение модели на тренировочной выборке\n",
    "        model.fit(features_train, target_train)\n",
    "        # подсчёт качества модели на валидационной выборке\n",
    "        result = model.score(features_valid, target_valid)\n",
    "        if result > best_result_rf:\n",
    "            # сохранение наилучшей модели\n",
    "            best_model_rf = model\n",
    "            # сохранение наилучших значений гиперпараметров и метрики accuracy на валидационных данных\n",
    "            best_result_rf = result\n",
    "            best_est = est\n",
    "            best_depth = depth\n",
    "\n",
    "print(\"Accuracy наилучшей модели на валидационной выборке:\", best_result_rf)\n",
    "print(\"Наилучшие гиперпараметры: n_estimators =\", best_est, \"и max_depth =\", best_depth)"
   ]
  },
  {
   "cell_type": "code",
   "execution_count": 13,
   "metadata": {},
   "outputs": [
    {
     "name": "stdout",
     "output_type": "stream",
     "text": [
      "Accuracy наилучшей модели на валидационной выборке: 0.7962674961119751\n",
      "Наилучшие гиперпараметры: n_estimators = 8 и max_depth = 5\n",
      "\n",
      "CPU times: user 660 ms, sys: 8.4 ms, total: 668 ms\n",
      "Wall time: 676 ms\n"
     ]
    }
   ],
   "source": [
    "%%time\n",
    "\n",
    "best_model_rf = None\n",
    "best_result_rf = 0\n",
    "for est in range(1, 11):\n",
    "    for depth in range(1, 6):\n",
    "        # обучение модели с заданным количеством деревьев и максимальной глубиной\n",
    "        model = RandomForestClassifier(random_state=12345, n_estimators=est, max_depth=depth)\n",
    "        # обучение модели на тренировочной выборке\n",
    "        model.fit(features_train, target_train)\n",
    "        # подсчёт качества модели на валидационной выборке\n",
    "        result = model.score(features_valid, target_valid)\n",
    "        if result > best_result_rf:\n",
    "            # сохранение наилучшей модели\n",
    "            best_model_rf = model\n",
    "            # сохранение наилучших значений гиперпараметров и метрики accuracy на валидационных данных\n",
    "            best_result_rf = result\n",
    "            best_est = est\n",
    "            best_depth = depth\n",
    "            \n",
    "print(\"Accuracy наилучшей модели на валидационной выборке:\", best_result_rf)\n",
    "print(\"Наилучшие гиперпараметры: n_estimators =\", best_est, \"и max_depth =\", best_depth)\n",
    "print()"
   ]
  },
  {
   "cell_type": "code",
   "execution_count": 14,
   "metadata": {},
   "outputs": [
    {
     "name": "stderr",
     "output_type": "stream",
     "text": [
      "100%|██████████| 55/55 [00:37<00:00,  1.48it/s]"
     ]
    },
    {
     "name": "stdout",
     "output_type": "stream",
     "text": [
      "Accuracy наилучшей модели на валидационной выборке: 0.7962674961119751\n",
      "Наилучшие гиперпараметры: n_estimators = 8 и max_depth = 5\n",
      "\n"
     ]
    },
    {
     "name": "stderr",
     "output_type": "stream",
     "text": [
      "\n"
     ]
    }
   ],
   "source": [
    "from tqdm import tqdm\n",
    "\n",
    "for n_estimators in tqdm(range(3,58)):\n",
    "    best_model_rf = None\n",
    "    best_result_rf = 0\n",
    "    for est in range(1, 11):\n",
    "        for depth in range(1, 6):\n",
    "            # обучение модели с заданным количеством деревьев и максимальной глубиной\n",
    "            model = RandomForestClassifier(random_state=12345, n_estimators=est, max_depth=depth)\n",
    "            # обучение модели на тренировочной выборке\n",
    "            model.fit(features_train, target_train)\n",
    "            # подсчёт качества модели на валидационной выборке\n",
    "            result = model.score(features_valid, target_valid)\n",
    "            if result > best_result_rf:\n",
    "                # сохранение наилучшей модели\n",
    "                best_model_rf = model\n",
    "                # сохранение наилучших значений гиперпараметров и метрики accuracy на валидационных данных\n",
    "                best_result_rf = result\n",
    "                best_est = est\n",
    "                best_depth = depth\n",
    "                \n",
    "print(\"Accuracy наилучшей модели на валидационной выборке:\", best_result_rf)\n",
    "print(\"Наилучшие гиперпараметры: n_estimators =\", best_est, \"и max_depth =\", best_depth)\n",
    "print()"
   ]
  },
  {
   "cell_type": "markdown",
   "metadata": {},
   "source": [
    "**Применим логистическую регрессию**"
   ]
  },
  {
   "cell_type": "code",
   "execution_count": 15,
   "metadata": {},
   "outputs": [
    {
     "name": "stdout",
     "output_type": "stream",
     "text": [
      "Accuracy наилучшей модели на валидационной выборке: 0.6998444790046656\n"
     ]
    }
   ],
   "source": [
    "best_model_lr = None\n",
    "best_result_lr = 0\n",
    "for iter_ in range(800, 1000):\n",
    "    # обучение модели с заданным количеством итераций\n",
    "    model = LogisticRegression(random_state=12345, solver='lbfgs', max_iter=iter_)\n",
    "    # обучение модели на тренировочной выборке\n",
    "    model.fit(features_train, target_train)\n",
    "    # предскажем на валидационных данных\n",
    "    model.predict(features_valid)\n",
    "    # подсчёт качества модели на валидационной выборке\n",
    "    result = model.score(features_valid, target_valid)\n",
    "    if result > best_result_lr:\n",
    "        # сохранение наилучшей модели\n",
    "        best_model_lr = model\n",
    "        # сохранение наилучшего значения метрики accuracy на валидационных данных\n",
    "        best_result_lr = result\n",
    "\n",
    "print(\"Accuracy наилучшей модели на валидационной выборке:\", best_result_lr)"
   ]
  },
  {
   "cell_type": "markdown",
   "metadata": {},
   "source": [
    "**Вывод:** из всех моделей наилучший результат на валидационной выборке показала модель - Случайный Лес."
   ]
  },
  {
   "cell_type": "markdown",
   "metadata": {},
   "source": [
    "## Проверьте модель на тестовой выборке"
   ]
  },
  {
   "cell_type": "markdown",
   "metadata": {},
   "source": [
    "**Случайный лес**"
   ]
  },
  {
   "cell_type": "code",
   "execution_count": 16,
   "metadata": {},
   "outputs": [
    {
     "name": "stdout",
     "output_type": "stream",
     "text": [
      "Accuracy лучшей модели на валидационной выборке: 0.7962674961119751\n",
      "Accuracy лучшей модели на тестовой выборке: 0.80248833592535\n",
      "Наилучшая модель на валидационной выборке: RandomForestClassifier(max_depth=5, n_estimators=8, random_state=12345)\n"
     ]
    }
   ],
   "source": [
    "# оценка лучшей модели на тестовом наборе\n",
    "test_predictions_rf = best_model_rf.predict(features_test)\n",
    "test_result_rf = accuracy_score(target_test, test_predictions_rf)\n",
    "\n",
    "print(\"Accuracy лучшей модели на валидационной выборке:\", best_result_rf)\n",
    "print(\"Accuracy лучшей модели на тестовой выборке:\", test_result_rf)\n",
    "print(\"Наилучшая модель на валидационной выборке:\", best_model_rf)"
   ]
  },
  {
   "cell_type": "code",
   "execution_count": 17,
   "metadata": {},
   "outputs": [
    {
     "name": "stdout",
     "output_type": "stream",
     "text": [
      "Accuracy лучшей модели на валидационной выборке: 0.7962674961119751\n",
      "Accuracy лучшей модели на тестовой выборке: 0.8118195956454122\n",
      "Наилучшая модель на валидационной выборке: RandomForestClassifier(max_depth=5, n_estimators=8, random_state=12345)\n"
     ]
    }
   ],
   "source": [
    "# best_model_rf — это модель с выбранными гиперпараметрами, просто подгоним модель к \n",
    "# комбинированным обучающим и валидационным наборам, а затем оценим ее производительность на тестовом наборе.\n",
    "\n",
    "# Объединим обучающий и валидационный наборы\n",
    "features_train_val = np.concatenate((features_train, features_valid))\n",
    "target_train_val = np.concatenate((target_train, target_valid))\n",
    "\n",
    "# Подгонка модели к комбинированным обучающим и валидационным наборам\n",
    "best_model_rf.fit(features_train_val, target_train_val)\n",
    "\n",
    "# Оценим переобученную модель на тестовом наборе\n",
    "test_predictions_rf = best_model_rf.predict(features_test)\n",
    "test_result_rf = accuracy_score(target_test, test_predictions_rf)\n",
    "\n",
    "print(\"Accuracy лучшей модели на валидационной выборке:\", best_result_rf)\n",
    "print(\"Accuracy лучшей модели на тестовой выборке:\", test_result_rf)\n",
    "print(\"Наилучшая модель на валидационной выборке:\", best_model_rf)"
   ]
  },
  {
   "cell_type": "markdown",
   "metadata": {},
   "source": [
    "**Вывод:** модель случайный лес, продемонстрировала наилучший результат на тестовой выборке (0.81), а логистическая регрессия на обоих выборках показала наихудший результат. Выбираем модель случайный лес!"
   ]
  },
  {
   "cell_type": "markdown",
   "metadata": {},
   "source": [
    "## (бонус) Проверьте модели на адекватность"
   ]
  },
  {
   "cell_type": "code",
   "execution_count": 18,
   "metadata": {},
   "outputs": [
    {
     "data": {
      "text/plain": [
       "0    0.693528\n",
       "1    0.306472\n",
       "Name: is_ultra, dtype: float64"
      ]
     },
     "execution_count": 18,
     "metadata": {},
     "output_type": "execute_result"
    }
   ],
   "source": [
    "# Поделим значения столбца с целевым признаком, содержащую количество уникальных значений на длину датафрейма и \n",
    "# сравним с качеством модели\n",
    "data['is_ultra'].value_counts() / data.shape[0]"
   ]
  },
  {
   "cell_type": "markdown",
   "metadata": {},
   "source": [
    "**Вывод:** т.к. построенная модель по качеству была лучше этого результата, то она вполне адекватна."
   ]
  },
  {
   "cell_type": "code",
   "execution_count": 19,
   "metadata": {},
   "outputs": [
    {
     "name": "stdout",
     "output_type": "stream",
     "text": [
      "Точность фиктивной модели: 0.6936236391912908\n"
     ]
    }
   ],
   "source": [
    "# создаем фиктивный классификатор, который всегда предсказывает класс большинства\n",
    "dummy_model = DummyClassifier(strategy='constant', constant=0)\n",
    "\n",
    "# подгоняем фиктивную модель к обучающим данным\n",
    "dummy_model.fit(features_train, target_train)\n",
    "\n",
    "# делаем прогнозы на тестовых данных\n",
    "y_pred = dummy_model.predict(features_test)\n",
    "\n",
    "# рассчитываем точность фиктивной модели\n",
    "accuracy = accuracy_score(target_test, y_pred)\n",
    "\n",
    "print(\"Точность фиктивной модели:\", accuracy)"
   ]
  },
  {
   "cell_type": "markdown",
   "metadata": {},
   "source": [
    "## Чек-лист готовности проекта"
   ]
  },
  {
   "cell_type": "markdown",
   "metadata": {},
   "source": [
    "Поставьте 'x' в выполненных пунктах. Далее нажмите Shift+Enter."
   ]
  },
  {
   "cell_type": "markdown",
   "metadata": {},
   "source": [
    "- [x] Jupyter Notebook открыт\n",
    "- [x] Весь код исполняется без ошибок\n",
    "- [x] Ячейки с кодом расположены в порядке исполнения\n",
    "- [x] Выполнено задание 1: данные загружены и изучены\n",
    "- [x] Выполнено задание 2: данные разбиты на три выборки\n",
    "- [x] Выполнено задание 3: проведено исследование моделей\n",
    "    - [x] Рассмотрено больше одной модели\n",
    "    - [x] Рассмотрено хотя бы 3 значения гипепараметров для какой-нибудь модели\n",
    "    - [x] Написаны выводы по результатам исследования\n",
    "- [x] Выполнено задание 3: Проведено тестирование\n",
    "- [x] Удалось достичь accuracy не меньше 0.75\n"
   ]
  },
  {
   "cell_type": "code",
   "execution_count": null,
   "metadata": {},
   "outputs": [],
   "source": []
  }
 ],
 "metadata": {
  "ExecuteTimeLog": [
   {
    "duration": 462,
    "start_time": "2023-02-18T09:25:51.300Z"
   },
   {
    "duration": 40,
    "start_time": "2023-02-18T09:26:09.114Z"
   },
   {
    "duration": 10,
    "start_time": "2023-02-18T09:26:11.937Z"
   },
   {
    "duration": 563,
    "start_time": "2023-02-18T09:28:17.596Z"
   },
   {
    "duration": 35,
    "start_time": "2023-02-18T09:28:19.963Z"
   },
   {
    "duration": 10,
    "start_time": "2023-02-18T09:28:20.994Z"
   },
   {
    "duration": 112,
    "start_time": "2023-02-18T09:43:05.227Z"
   },
   {
    "duration": 3,
    "start_time": "2023-02-18T09:45:11.088Z"
   },
   {
    "duration": 12,
    "start_time": "2023-02-18T09:45:14.925Z"
   },
   {
    "duration": 4,
    "start_time": "2023-02-18T09:45:29.176Z"
   },
   {
    "duration": 4,
    "start_time": "2023-02-18T09:50:31.580Z"
   },
   {
    "duration": 1037,
    "start_time": "2023-02-18T09:50:37.229Z"
   },
   {
    "duration": 43,
    "start_time": "2023-02-18T09:50:38.268Z"
   },
   {
    "duration": 11,
    "start_time": "2023-02-18T09:50:38.312Z"
   },
   {
    "duration": 6,
    "start_time": "2023-02-18T09:50:38.324Z"
   },
   {
    "duration": 14,
    "start_time": "2023-02-18T09:50:38.331Z"
   },
   {
    "duration": 10,
    "start_time": "2023-02-18T09:53:31.306Z"
   },
   {
    "duration": 7,
    "start_time": "2023-02-18T09:53:38.986Z"
   },
   {
    "duration": 9,
    "start_time": "2023-02-18T09:53:43.583Z"
   },
   {
    "duration": 9,
    "start_time": "2023-02-18T09:54:03.509Z"
   },
   {
    "duration": 1078,
    "start_time": "2023-02-18T09:57:13.235Z"
   },
   {
    "duration": 46,
    "start_time": "2023-02-18T09:57:14.315Z"
   },
   {
    "duration": 12,
    "start_time": "2023-02-18T09:57:14.363Z"
   },
   {
    "duration": 6,
    "start_time": "2023-02-18T09:57:14.376Z"
   },
   {
    "duration": 113,
    "start_time": "2023-02-18T09:57:14.384Z"
   },
   {
    "duration": 0,
    "start_time": "2023-02-18T09:57:14.498Z"
   },
   {
    "duration": 0,
    "start_time": "2023-02-18T09:57:14.499Z"
   },
   {
    "duration": 5,
    "start_time": "2023-02-18T09:57:39.631Z"
   },
   {
    "duration": 12,
    "start_time": "2023-02-18T09:57:49.131Z"
   },
   {
    "duration": 14,
    "start_time": "2023-02-18T09:57:54.504Z"
   },
   {
    "duration": 13,
    "start_time": "2023-02-18T10:01:41.899Z"
   },
   {
    "duration": 5,
    "start_time": "2023-02-18T10:01:49.691Z"
   },
   {
    "duration": 18,
    "start_time": "2023-02-18T10:02:16.340Z"
   },
   {
    "duration": 11,
    "start_time": "2023-02-18T10:02:31.353Z"
   },
   {
    "duration": 6,
    "start_time": "2023-02-18T10:02:37.687Z"
   },
   {
    "duration": 14,
    "start_time": "2023-02-18T10:08:59.182Z"
   },
   {
    "duration": 13,
    "start_time": "2023-02-18T10:09:22.628Z"
   },
   {
    "duration": 13,
    "start_time": "2023-02-18T10:09:27.518Z"
   },
   {
    "duration": 12,
    "start_time": "2023-02-18T10:10:56.596Z"
   },
   {
    "duration": 12,
    "start_time": "2023-02-18T10:10:57.711Z"
   },
   {
    "duration": 12,
    "start_time": "2023-02-18T10:10:58.364Z"
   },
   {
    "duration": 13,
    "start_time": "2023-02-18T10:10:58.975Z"
   },
   {
    "duration": 11,
    "start_time": "2023-02-18T10:11:26.711Z"
   },
   {
    "duration": 1029,
    "start_time": "2023-02-18T10:20:16.349Z"
   },
   {
    "duration": 43,
    "start_time": "2023-02-18T10:20:17.380Z"
   },
   {
    "duration": 11,
    "start_time": "2023-02-18T10:20:17.425Z"
   },
   {
    "duration": 4,
    "start_time": "2023-02-18T10:20:17.437Z"
   },
   {
    "duration": 9,
    "start_time": "2023-02-18T10:20:17.442Z"
   },
   {
    "duration": 5,
    "start_time": "2023-02-18T10:20:17.452Z"
   },
   {
    "duration": 11,
    "start_time": "2023-02-18T10:20:17.458Z"
   },
   {
    "duration": 13,
    "start_time": "2023-02-18T10:20:17.471Z"
   },
   {
    "duration": 975,
    "start_time": "2023-02-18T10:22:20.475Z"
   },
   {
    "duration": 42,
    "start_time": "2023-02-18T10:22:21.452Z"
   },
   {
    "duration": 10,
    "start_time": "2023-02-18T10:22:21.496Z"
   },
   {
    "duration": 14,
    "start_time": "2023-02-18T10:22:21.507Z"
   },
   {
    "duration": 12,
    "start_time": "2023-02-18T10:22:21.522Z"
   },
   {
    "duration": 1106,
    "start_time": "2023-02-18T10:33:36.726Z"
   },
   {
    "duration": 44,
    "start_time": "2023-02-18T10:33:37.834Z"
   },
   {
    "duration": 11,
    "start_time": "2023-02-18T10:33:37.879Z"
   },
   {
    "duration": 16,
    "start_time": "2023-02-18T10:33:37.892Z"
   },
   {
    "duration": 15,
    "start_time": "2023-02-18T10:33:37.910Z"
   },
   {
    "duration": 22,
    "start_time": "2023-02-18T10:33:37.927Z"
   },
   {
    "duration": 13,
    "start_time": "2023-02-18T10:33:57.922Z"
   },
   {
    "duration": 1038,
    "start_time": "2023-02-18T10:35:41.076Z"
   },
   {
    "duration": 41,
    "start_time": "2023-02-18T10:35:42.116Z"
   },
   {
    "duration": 10,
    "start_time": "2023-02-18T10:35:42.158Z"
   },
   {
    "duration": 26,
    "start_time": "2023-02-18T10:35:42.170Z"
   },
   {
    "duration": 22,
    "start_time": "2023-02-18T10:35:42.197Z"
   },
   {
    "duration": 110,
    "start_time": "2023-02-18T10:35:42.221Z"
   },
   {
    "duration": 9,
    "start_time": "2023-02-18T10:39:54.686Z"
   },
   {
    "duration": 977,
    "start_time": "2023-02-18T10:40:35.495Z"
   },
   {
    "duration": 40,
    "start_time": "2023-02-18T10:40:36.474Z"
   },
   {
    "duration": 9,
    "start_time": "2023-02-18T10:40:36.516Z"
   },
   {
    "duration": 3,
    "start_time": "2023-02-18T10:40:36.527Z"
   },
   {
    "duration": 6,
    "start_time": "2023-02-18T10:40:36.532Z"
   },
   {
    "duration": 99,
    "start_time": "2023-02-18T10:40:36.540Z"
   },
   {
    "duration": 1082,
    "start_time": "2023-02-18T10:41:15.750Z"
   },
   {
    "duration": 44,
    "start_time": "2023-02-18T10:41:16.834Z"
   },
   {
    "duration": 12,
    "start_time": "2023-02-18T10:41:16.879Z"
   },
   {
    "duration": 4,
    "start_time": "2023-02-18T10:41:16.893Z"
   },
   {
    "duration": 9,
    "start_time": "2023-02-18T10:41:16.898Z"
   },
   {
    "duration": 117,
    "start_time": "2023-02-18T10:41:16.908Z"
   },
   {
    "duration": 15,
    "start_time": "2023-02-18T10:41:47.276Z"
   },
   {
    "duration": 16,
    "start_time": "2023-02-18T10:42:23.733Z"
   },
   {
    "duration": 36,
    "start_time": "2023-02-18T11:05:01.464Z"
   },
   {
    "duration": 33,
    "start_time": "2023-02-18T11:09:12.665Z"
   },
   {
    "duration": 975,
    "start_time": "2023-02-18T11:09:21.712Z"
   },
   {
    "duration": 40,
    "start_time": "2023-02-18T11:09:22.688Z"
   },
   {
    "duration": 9,
    "start_time": "2023-02-18T11:09:22.730Z"
   },
   {
    "duration": 6,
    "start_time": "2023-02-18T11:09:22.741Z"
   },
   {
    "duration": 7,
    "start_time": "2023-02-18T11:09:22.749Z"
   },
   {
    "duration": 33,
    "start_time": "2023-02-18T11:09:22.757Z"
   },
   {
    "duration": 32,
    "start_time": "2023-02-18T11:14:59.879Z"
   },
   {
    "duration": 1108,
    "start_time": "2023-02-18T11:16:15.717Z"
   },
   {
    "duration": 43,
    "start_time": "2023-02-18T11:16:16.827Z"
   },
   {
    "duration": 11,
    "start_time": "2023-02-18T11:16:16.872Z"
   },
   {
    "duration": 8,
    "start_time": "2023-02-18T11:16:16.884Z"
   },
   {
    "duration": 12,
    "start_time": "2023-02-18T11:16:16.895Z"
   },
   {
    "duration": 45,
    "start_time": "2023-02-18T11:16:16.908Z"
   },
   {
    "duration": 3,
    "start_time": "2023-02-18T11:22:52.594Z"
   },
   {
    "duration": 1152,
    "start_time": "2023-02-18T11:24:11.802Z"
   },
   {
    "duration": 42,
    "start_time": "2023-02-18T11:24:12.956Z"
   },
   {
    "duration": 12,
    "start_time": "2023-02-18T11:24:13.000Z"
   },
   {
    "duration": 6,
    "start_time": "2023-02-18T11:24:13.014Z"
   },
   {
    "duration": 7,
    "start_time": "2023-02-18T11:24:13.022Z"
   },
   {
    "duration": 32,
    "start_time": "2023-02-18T11:24:13.031Z"
   },
   {
    "duration": 268,
    "start_time": "2023-02-18T11:24:13.065Z"
   },
   {
    "duration": 36,
    "start_time": "2023-02-18T11:26:07.766Z"
   },
   {
    "duration": 40,
    "start_time": "2023-02-18T11:28:30.167Z"
   },
   {
    "duration": 1080,
    "start_time": "2023-02-18T11:28:35.877Z"
   },
   {
    "duration": 44,
    "start_time": "2023-02-18T11:28:36.959Z"
   },
   {
    "duration": 11,
    "start_time": "2023-02-18T11:28:37.005Z"
   },
   {
    "duration": 20,
    "start_time": "2023-02-18T11:28:37.019Z"
   },
   {
    "duration": 12,
    "start_time": "2023-02-18T11:28:37.041Z"
   },
   {
    "duration": 39,
    "start_time": "2023-02-18T11:28:37.054Z"
   },
   {
    "duration": 278,
    "start_time": "2023-02-18T11:28:37.094Z"
   },
   {
    "duration": 44,
    "start_time": "2023-02-18T11:28:37.374Z"
   },
   {
    "duration": 0,
    "start_time": "2023-02-18T11:38:00.894Z"
   },
   {
    "duration": 1047,
    "start_time": "2023-02-18T11:38:45.483Z"
   },
   {
    "duration": 43,
    "start_time": "2023-02-18T11:38:46.532Z"
   },
   {
    "duration": 11,
    "start_time": "2023-02-18T11:38:46.576Z"
   },
   {
    "duration": 5,
    "start_time": "2023-02-18T11:38:46.589Z"
   },
   {
    "duration": 9,
    "start_time": "2023-02-18T11:38:46.596Z"
   },
   {
    "duration": 37,
    "start_time": "2023-02-18T11:38:46.607Z"
   },
   {
    "duration": 281,
    "start_time": "2023-02-18T11:38:46.649Z"
   },
   {
    "duration": 55,
    "start_time": "2023-02-18T11:38:46.931Z"
   },
   {
    "duration": 3608,
    "start_time": "2023-02-18T11:38:46.988Z"
   },
   {
    "duration": 10472,
    "start_time": "2023-02-18T11:39:24.962Z"
   },
   {
    "duration": 5045,
    "start_time": "2023-02-18T11:39:41.838Z"
   },
   {
    "duration": 1063,
    "start_time": "2023-02-18T11:39:50.983Z"
   },
   {
    "duration": 42,
    "start_time": "2023-02-18T11:39:52.048Z"
   },
   {
    "duration": 11,
    "start_time": "2023-02-18T11:39:52.091Z"
   },
   {
    "duration": 12,
    "start_time": "2023-02-18T11:39:52.104Z"
   },
   {
    "duration": 8,
    "start_time": "2023-02-18T11:39:52.117Z"
   },
   {
    "duration": 30,
    "start_time": "2023-02-18T11:39:52.126Z"
   },
   {
    "duration": 272,
    "start_time": "2023-02-18T11:39:52.158Z"
   },
   {
    "duration": 48,
    "start_time": "2023-02-18T11:39:52.432Z"
   },
   {
    "duration": 7510,
    "start_time": "2023-02-18T11:39:52.482Z"
   },
   {
    "duration": 3698,
    "start_time": "2023-02-18T11:41:28.943Z"
   },
   {
    "duration": 6996,
    "start_time": "2023-02-18T11:41:46.884Z"
   },
   {
    "duration": 1100,
    "start_time": "2023-02-18T11:42:00.277Z"
   },
   {
    "duration": 45,
    "start_time": "2023-02-18T11:42:01.379Z"
   },
   {
    "duration": 12,
    "start_time": "2023-02-18T11:42:01.425Z"
   },
   {
    "duration": 4,
    "start_time": "2023-02-18T11:42:01.438Z"
   },
   {
    "duration": 18,
    "start_time": "2023-02-18T11:42:01.444Z"
   },
   {
    "duration": 48,
    "start_time": "2023-02-18T11:42:01.464Z"
   },
   {
    "duration": 276,
    "start_time": "2023-02-18T11:42:01.514Z"
   },
   {
    "duration": 7123,
    "start_time": "2023-02-18T11:42:01.792Z"
   },
   {
    "duration": 28,
    "start_time": "2023-02-18T11:46:27.766Z"
   },
   {
    "duration": 285,
    "start_time": "2023-02-18T11:49:18.681Z"
   },
   {
    "duration": 7269,
    "start_time": "2023-02-18T11:49:44.007Z"
   },
   {
    "duration": 67,
    "start_time": "2023-02-18T11:52:19.328Z"
   },
   {
    "duration": 67,
    "start_time": "2023-02-18T11:54:28.329Z"
   },
   {
    "duration": 281,
    "start_time": "2023-02-18T11:58:29.566Z"
   },
   {
    "duration": 1126,
    "start_time": "2023-02-18T12:00:11.635Z"
   },
   {
    "duration": 44,
    "start_time": "2023-02-18T12:00:12.763Z"
   },
   {
    "duration": 12,
    "start_time": "2023-02-18T12:00:12.809Z"
   },
   {
    "duration": 11,
    "start_time": "2023-02-18T12:00:12.823Z"
   },
   {
    "duration": 10,
    "start_time": "2023-02-18T12:00:12.835Z"
   },
   {
    "duration": 73,
    "start_time": "2023-02-18T12:00:12.846Z"
   },
   {
    "duration": 273,
    "start_time": "2023-02-18T12:00:12.920Z"
   },
   {
    "duration": 7074,
    "start_time": "2023-02-18T12:00:13.195Z"
   },
   {
    "duration": 78,
    "start_time": "2023-02-18T12:00:20.270Z"
   },
   {
    "duration": 270,
    "start_time": "2023-02-18T12:00:20.350Z"
   },
   {
    "duration": 7094,
    "start_time": "2023-02-18T12:00:20.622Z"
   },
   {
    "duration": 1292,
    "start_time": "2023-02-19T09:53:45.669Z"
   },
   {
    "duration": 95,
    "start_time": "2023-02-19T09:53:46.963Z"
   },
   {
    "duration": 15,
    "start_time": "2023-02-19T09:53:47.060Z"
   },
   {
    "duration": 7,
    "start_time": "2023-02-19T09:53:47.078Z"
   },
   {
    "duration": 20,
    "start_time": "2023-02-19T09:53:47.087Z"
   },
   {
    "duration": 92,
    "start_time": "2023-02-19T09:53:47.110Z"
   },
   {
    "duration": 346,
    "start_time": "2023-02-19T09:53:47.204Z"
   },
   {
    "duration": 9251,
    "start_time": "2023-02-19T09:53:47.552Z"
   },
   {
    "duration": 97,
    "start_time": "2023-02-19T09:53:56.806Z"
   },
   {
    "duration": 380,
    "start_time": "2023-02-19T09:53:56.906Z"
   },
   {
    "duration": 11429,
    "start_time": "2023-02-19T09:53:57.288Z"
   },
   {
    "duration": 122,
    "start_time": "2023-02-19T09:54:37.415Z"
   },
   {
    "duration": 9,
    "start_time": "2023-02-19T09:54:51.057Z"
   },
   {
    "duration": 9,
    "start_time": "2023-02-19T09:54:58.991Z"
   },
   {
    "duration": 75,
    "start_time": "2023-02-19T10:06:52.906Z"
   },
   {
    "duration": 88,
    "start_time": "2023-02-19T10:06:54.040Z"
   },
   {
    "duration": 68,
    "start_time": "2023-02-19T10:11:31.767Z"
   },
   {
    "duration": 69,
    "start_time": "2023-02-19T10:12:54.676Z"
   },
   {
    "duration": 1298,
    "start_time": "2023-02-19T10:14:24.262Z"
   },
   {
    "duration": 54,
    "start_time": "2023-02-19T10:14:25.563Z"
   },
   {
    "duration": 15,
    "start_time": "2023-02-19T10:14:25.619Z"
   },
   {
    "duration": 5,
    "start_time": "2023-02-19T10:14:25.636Z"
   },
   {
    "duration": 21,
    "start_time": "2023-02-19T10:14:25.643Z"
   },
   {
    "duration": 78,
    "start_time": "2023-02-19T10:14:25.670Z"
   },
   {
    "duration": 308,
    "start_time": "2023-02-19T10:14:25.750Z"
   },
   {
    "duration": 8168,
    "start_time": "2023-02-19T10:14:26.062Z"
   },
   {
    "duration": 84,
    "start_time": "2023-02-19T10:14:34.232Z"
   },
   {
    "duration": 324,
    "start_time": "2023-02-19T10:14:34.319Z"
   },
   {
    "duration": 8292,
    "start_time": "2023-02-19T10:14:34.645Z"
   },
   {
    "duration": 123,
    "start_time": "2023-02-19T10:14:42.939Z"
   },
   {
    "duration": 10,
    "start_time": "2023-02-19T10:17:40.695Z"
   },
   {
    "duration": 29,
    "start_time": "2023-02-19T10:18:33.138Z"
   },
   {
    "duration": 1218,
    "start_time": "2023-02-19T10:18:42.004Z"
   },
   {
    "duration": 46,
    "start_time": "2023-02-19T10:18:43.225Z"
   },
   {
    "duration": 13,
    "start_time": "2023-02-19T10:18:43.273Z"
   },
   {
    "duration": 6,
    "start_time": "2023-02-19T10:18:43.289Z"
   },
   {
    "duration": 12,
    "start_time": "2023-02-19T10:18:43.298Z"
   },
   {
    "duration": 109,
    "start_time": "2023-02-19T10:18:43.312Z"
   },
   {
    "duration": 319,
    "start_time": "2023-02-19T10:18:43.424Z"
   },
   {
    "duration": 8496,
    "start_time": "2023-02-19T10:18:43.745Z"
   },
   {
    "duration": 91,
    "start_time": "2023-02-19T10:18:52.243Z"
   },
   {
    "duration": 291,
    "start_time": "2023-02-19T10:18:52.337Z"
   },
   {
    "duration": 8803,
    "start_time": "2023-02-19T10:18:52.630Z"
   },
   {
    "duration": 31,
    "start_time": "2023-02-19T10:19:01.435Z"
   },
   {
    "duration": 19,
    "start_time": "2023-02-19T10:19:37.816Z"
   },
   {
    "duration": 21,
    "start_time": "2023-02-19T10:19:47.614Z"
   },
   {
    "duration": 12,
    "start_time": "2023-02-19T10:20:27.031Z"
   },
   {
    "duration": 14,
    "start_time": "2023-02-19T10:20:40.071Z"
   },
   {
    "duration": 3,
    "start_time": "2023-02-19T10:20:50.295Z"
   },
   {
    "duration": 46,
    "start_time": "2023-02-19T10:20:56.250Z"
   },
   {
    "duration": 7,
    "start_time": "2023-02-19T10:23:56.778Z"
   },
   {
    "duration": 7,
    "start_time": "2023-02-19T10:27:38.194Z"
   },
   {
    "duration": 3,
    "start_time": "2023-02-19T10:27:49.414Z"
   },
   {
    "duration": 13,
    "start_time": "2023-02-19T10:30:15.818Z"
   },
   {
    "duration": 1181,
    "start_time": "2023-02-19T10:30:40.003Z"
   },
   {
    "duration": 41,
    "start_time": "2023-02-19T10:30:41.186Z"
   },
   {
    "duration": 11,
    "start_time": "2023-02-19T10:30:41.229Z"
   },
   {
    "duration": 23,
    "start_time": "2023-02-19T10:30:41.243Z"
   },
   {
    "duration": 14,
    "start_time": "2023-02-19T10:30:41.267Z"
   },
   {
    "duration": 79,
    "start_time": "2023-02-19T10:30:41.283Z"
   },
   {
    "duration": 304,
    "start_time": "2023-02-19T10:30:41.367Z"
   },
   {
    "duration": 7760,
    "start_time": "2023-02-19T10:30:41.673Z"
   },
   {
    "duration": 86,
    "start_time": "2023-02-19T10:30:49.434Z"
   },
   {
    "duration": 304,
    "start_time": "2023-02-19T10:30:49.523Z"
   },
   {
    "duration": 7741,
    "start_time": "2023-02-19T10:30:49.829Z"
   },
   {
    "duration": 8,
    "start_time": "2023-02-19T10:30:57.572Z"
   },
   {
    "duration": 5,
    "start_time": "2023-02-19T10:30:57.582Z"
   },
   {
    "duration": 5,
    "start_time": "2023-02-19T10:31:22.900Z"
   },
   {
    "duration": 5,
    "start_time": "2023-02-19T10:31:50.544Z"
   },
   {
    "duration": 1235,
    "start_time": "2023-02-19T10:39:44.450Z"
   },
   {
    "duration": 41,
    "start_time": "2023-02-19T10:39:45.687Z"
   },
   {
    "duration": 11,
    "start_time": "2023-02-19T10:39:45.730Z"
   },
   {
    "duration": 22,
    "start_time": "2023-02-19T10:39:45.743Z"
   },
   {
    "duration": 9,
    "start_time": "2023-02-19T10:39:45.768Z"
   },
   {
    "duration": 73,
    "start_time": "2023-02-19T10:39:45.779Z"
   },
   {
    "duration": 299,
    "start_time": "2023-02-19T10:39:45.860Z"
   },
   {
    "duration": 7650,
    "start_time": "2023-02-19T10:39:46.161Z"
   },
   {
    "duration": 75,
    "start_time": "2023-02-19T10:39:53.813Z"
   },
   {
    "duration": 277,
    "start_time": "2023-02-19T10:39:53.890Z"
   },
   {
    "duration": 7853,
    "start_time": "2023-02-19T10:39:54.168Z"
   },
   {
    "duration": 9,
    "start_time": "2023-02-19T10:40:02.023Z"
   },
   {
    "duration": 2079,
    "start_time": "2023-02-19T11:06:59.427Z"
   },
   {
    "duration": 44,
    "start_time": "2023-02-19T11:07:01.508Z"
   },
   {
    "duration": 11,
    "start_time": "2023-02-19T11:07:01.554Z"
   },
   {
    "duration": 29,
    "start_time": "2023-02-19T11:07:01.567Z"
   },
   {
    "duration": 25,
    "start_time": "2023-02-19T11:07:01.599Z"
   },
   {
    "duration": 83,
    "start_time": "2023-02-19T11:07:01.626Z"
   },
   {
    "duration": 313,
    "start_time": "2023-02-19T11:07:01.711Z"
   },
   {
    "duration": 7700,
    "start_time": "2023-02-19T11:07:02.027Z"
   },
   {
    "duration": 76,
    "start_time": "2023-02-19T11:07:09.728Z"
   },
   {
    "duration": 312,
    "start_time": "2023-02-19T11:07:09.806Z"
   },
   {
    "duration": 7809,
    "start_time": "2023-02-19T11:07:10.120Z"
   },
   {
    "duration": 11,
    "start_time": "2023-02-19T11:07:17.931Z"
   },
   {
    "duration": 58,
    "start_time": "2023-02-19T12:55:13.739Z"
   },
   {
    "duration": 1082,
    "start_time": "2023-02-19T12:55:19.234Z"
   },
   {
    "duration": 152,
    "start_time": "2023-02-19T12:55:20.317Z"
   },
   {
    "duration": 13,
    "start_time": "2023-02-19T12:55:20.470Z"
   },
   {
    "duration": 10,
    "start_time": "2023-02-19T12:55:20.485Z"
   },
   {
    "duration": 9,
    "start_time": "2023-02-19T12:55:20.496Z"
   },
   {
    "duration": 23,
    "start_time": "2023-02-19T12:55:20.507Z"
   },
   {
    "duration": 76,
    "start_time": "2023-02-19T12:55:20.531Z"
   },
   {
    "duration": 271,
    "start_time": "2023-02-19T12:55:20.609Z"
   },
   {
    "duration": 7132,
    "start_time": "2023-02-19T12:55:20.882Z"
   },
   {
    "duration": 77,
    "start_time": "2023-02-19T12:55:28.016Z"
   },
   {
    "duration": 292,
    "start_time": "2023-02-19T12:55:28.095Z"
   },
   {
    "duration": 7424,
    "start_time": "2023-02-19T12:55:28.388Z"
   },
   {
    "duration": 9,
    "start_time": "2023-02-19T12:55:35.813Z"
   },
   {
    "duration": 3,
    "start_time": "2023-02-19T13:17:05.980Z"
   },
   {
    "duration": 1254,
    "start_time": "2023-02-19T13:18:31.728Z"
   },
   {
    "duration": 47,
    "start_time": "2023-02-19T13:18:32.984Z"
   },
   {
    "duration": 12,
    "start_time": "2023-02-19T13:18:33.034Z"
   },
   {
    "duration": 38,
    "start_time": "2023-02-19T13:18:33.048Z"
   },
   {
    "duration": 5,
    "start_time": "2023-02-19T13:18:33.089Z"
   },
   {
    "duration": 16,
    "start_time": "2023-02-19T13:18:33.096Z"
   },
   {
    "duration": 179,
    "start_time": "2023-02-19T13:18:33.115Z"
   },
   {
    "duration": 0,
    "start_time": "2023-02-19T13:18:33.296Z"
   },
   {
    "duration": 0,
    "start_time": "2023-02-19T13:18:33.298Z"
   },
   {
    "duration": 0,
    "start_time": "2023-02-19T13:18:33.300Z"
   },
   {
    "duration": 0,
    "start_time": "2023-02-19T13:18:33.302Z"
   },
   {
    "duration": 0,
    "start_time": "2023-02-19T13:18:33.304Z"
   },
   {
    "duration": 0,
    "start_time": "2023-02-19T13:18:33.306Z"
   },
   {
    "duration": 0,
    "start_time": "2023-02-19T13:18:33.308Z"
   },
   {
    "duration": 1141,
    "start_time": "2023-02-19T13:21:02.515Z"
   },
   {
    "duration": 51,
    "start_time": "2023-02-19T13:21:03.658Z"
   },
   {
    "duration": 11,
    "start_time": "2023-02-19T13:21:03.711Z"
   },
   {
    "duration": 12,
    "start_time": "2023-02-19T13:21:03.724Z"
   },
   {
    "duration": 18,
    "start_time": "2023-02-19T13:21:03.738Z"
   },
   {
    "duration": 148,
    "start_time": "2023-02-19T13:21:03.758Z"
   },
   {
    "duration": 0,
    "start_time": "2023-02-19T13:21:03.908Z"
   },
   {
    "duration": 0,
    "start_time": "2023-02-19T13:21:03.909Z"
   },
   {
    "duration": 0,
    "start_time": "2023-02-19T13:21:03.911Z"
   },
   {
    "duration": 0,
    "start_time": "2023-02-19T13:21:03.914Z"
   },
   {
    "duration": 0,
    "start_time": "2023-02-19T13:21:03.915Z"
   },
   {
    "duration": 0,
    "start_time": "2023-02-19T13:21:03.918Z"
   },
   {
    "duration": 0,
    "start_time": "2023-02-19T13:21:03.919Z"
   },
   {
    "duration": 0,
    "start_time": "2023-02-19T13:21:03.921Z"
   },
   {
    "duration": 23,
    "start_time": "2023-02-19T13:21:53.827Z"
   },
   {
    "duration": 8,
    "start_time": "2023-02-19T13:22:27.536Z"
   },
   {
    "duration": 5,
    "start_time": "2023-02-19T13:22:29.639Z"
   },
   {
    "duration": 4,
    "start_time": "2023-02-19T13:22:35.890Z"
   },
   {
    "duration": 4,
    "start_time": "2023-02-19T13:22:49.040Z"
   },
   {
    "duration": 1116,
    "start_time": "2023-02-19T13:27:48.146Z"
   },
   {
    "duration": 50,
    "start_time": "2023-02-19T13:27:49.268Z"
   },
   {
    "duration": 11,
    "start_time": "2023-02-19T13:27:49.320Z"
   },
   {
    "duration": 5,
    "start_time": "2023-02-19T13:27:49.332Z"
   },
   {
    "duration": 7,
    "start_time": "2023-02-19T13:27:49.338Z"
   },
   {
    "duration": 9,
    "start_time": "2023-02-19T13:27:49.346Z"
   },
   {
    "duration": 4,
    "start_time": "2023-02-19T13:27:49.356Z"
   },
   {
    "duration": 72,
    "start_time": "2023-02-19T13:27:49.368Z"
   },
   {
    "duration": 262,
    "start_time": "2023-02-19T13:27:49.442Z"
   },
   {
    "duration": 7110,
    "start_time": "2023-02-19T13:27:49.706Z"
   },
   {
    "duration": 93,
    "start_time": "2023-02-19T13:27:56.818Z"
   },
   {
    "duration": 272,
    "start_time": "2023-02-19T13:27:56.912Z"
   },
   {
    "duration": 7457,
    "start_time": "2023-02-19T13:27:57.186Z"
   },
   {
    "duration": 27,
    "start_time": "2023-02-19T13:28:04.646Z"
   },
   {
    "duration": 76,
    "start_time": "2023-02-19T13:34:42.142Z"
   },
   {
    "duration": 296,
    "start_time": "2023-02-19T13:36:26.150Z"
   },
   {
    "duration": 1303,
    "start_time": "2023-02-19T13:36:39.136Z"
   },
   {
    "duration": 76,
    "start_time": "2023-02-19T13:36:40.440Z"
   },
   {
    "duration": 13,
    "start_time": "2023-02-19T13:36:40.518Z"
   },
   {
    "duration": 9,
    "start_time": "2023-02-19T13:36:40.534Z"
   },
   {
    "duration": 7,
    "start_time": "2023-02-19T13:36:40.544Z"
   },
   {
    "duration": 8,
    "start_time": "2023-02-19T13:36:40.552Z"
   },
   {
    "duration": 21,
    "start_time": "2023-02-19T13:36:40.581Z"
   },
   {
    "duration": 309,
    "start_time": "2023-02-19T13:36:40.604Z"
   },
   {
    "duration": 318,
    "start_time": "2023-02-19T13:36:40.915Z"
   },
   {
    "duration": 8317,
    "start_time": "2023-02-19T13:36:41.236Z"
   },
   {
    "duration": 109,
    "start_time": "2023-02-19T13:36:49.556Z"
   },
   {
    "duration": 274,
    "start_time": "2023-02-19T13:36:49.678Z"
   },
   {
    "duration": 7743,
    "start_time": "2023-02-19T13:36:49.953Z"
   },
   {
    "duration": 7,
    "start_time": "2023-02-19T13:36:57.698Z"
   },
   {
    "duration": 7,
    "start_time": "2023-02-19T13:37:48.186Z"
   },
   {
    "duration": 36,
    "start_time": "2023-02-19T13:37:54.091Z"
   },
   {
    "duration": 627,
    "start_time": "2023-02-19T13:42:24.993Z"
   },
   {
    "duration": 10,
    "start_time": "2023-02-19T13:42:41.500Z"
   },
   {
    "duration": 3,
    "start_time": "2023-02-19T13:43:00.007Z"
   },
   {
    "duration": 1413,
    "start_time": "2023-02-19T13:43:52.481Z"
   },
   {
    "duration": 46,
    "start_time": "2023-02-19T13:43:53.896Z"
   },
   {
    "duration": 12,
    "start_time": "2023-02-19T13:43:53.944Z"
   },
   {
    "duration": 29,
    "start_time": "2023-02-19T13:43:53.958Z"
   },
   {
    "duration": 7,
    "start_time": "2023-02-19T13:43:53.989Z"
   },
   {
    "duration": 10,
    "start_time": "2023-02-19T13:43:53.997Z"
   },
   {
    "duration": 9,
    "start_time": "2023-02-19T13:43:54.008Z"
   },
   {
    "duration": 128,
    "start_time": "2023-02-19T13:43:54.018Z"
   },
   {
    "duration": 0,
    "start_time": "2023-02-19T13:43:54.148Z"
   },
   {
    "duration": 0,
    "start_time": "2023-02-19T13:43:54.149Z"
   },
   {
    "duration": 0,
    "start_time": "2023-02-19T13:43:54.150Z"
   },
   {
    "duration": 0,
    "start_time": "2023-02-19T13:43:54.151Z"
   },
   {
    "duration": 0,
    "start_time": "2023-02-19T13:43:54.152Z"
   },
   {
    "duration": 0,
    "start_time": "2023-02-19T13:43:54.161Z"
   },
   {
    "duration": 0,
    "start_time": "2023-02-19T13:43:54.162Z"
   },
   {
    "duration": 459,
    "start_time": "2023-02-19T13:44:47.255Z"
   },
   {
    "duration": 388,
    "start_time": "2023-02-19T13:45:29.290Z"
   },
   {
    "duration": 445,
    "start_time": "2023-02-19T13:45:48.443Z"
   },
   {
    "duration": 404,
    "start_time": "2023-02-19T13:45:55.389Z"
   },
   {
    "duration": 6,
    "start_time": "2023-02-19T13:46:28.818Z"
   },
   {
    "duration": 4,
    "start_time": "2023-02-19T13:46:42.307Z"
   },
   {
    "duration": 5,
    "start_time": "2023-02-19T13:49:00.631Z"
   },
   {
    "duration": 5,
    "start_time": "2023-02-19T13:49:07.654Z"
   },
   {
    "duration": 5,
    "start_time": "2023-02-19T13:54:28.391Z"
   },
   {
    "duration": 1528,
    "start_time": "2023-02-19T13:55:45.020Z"
   },
   {
    "duration": 63,
    "start_time": "2023-02-19T13:55:46.550Z"
   },
   {
    "duration": 14,
    "start_time": "2023-02-19T13:55:46.614Z"
   },
   {
    "duration": 13,
    "start_time": "2023-02-19T13:55:46.630Z"
   },
   {
    "duration": 5,
    "start_time": "2023-02-19T13:55:46.646Z"
   },
   {
    "duration": 18,
    "start_time": "2023-02-19T13:55:46.653Z"
   },
   {
    "duration": 17,
    "start_time": "2023-02-19T13:55:46.673Z"
   },
   {
    "duration": 406,
    "start_time": "2023-02-19T13:55:46.692Z"
   },
   {
    "duration": 4853,
    "start_time": "2023-02-19T13:55:47.100Z"
   },
   {
    "duration": 283,
    "start_time": "2023-02-19T13:55:51.965Z"
   },
   {
    "duration": 7653,
    "start_time": "2023-02-19T13:55:52.250Z"
   },
   {
    "duration": 114,
    "start_time": "2023-02-19T13:55:59.905Z"
   },
   {
    "duration": 299,
    "start_time": "2023-02-19T13:56:00.021Z"
   },
   {
    "duration": 8411,
    "start_time": "2023-02-19T13:56:00.321Z"
   },
   {
    "duration": 9,
    "start_time": "2023-02-19T13:56:08.734Z"
   },
   {
    "duration": 5088,
    "start_time": "2023-02-19T13:56:08.746Z"
   },
   {
    "duration": 1704,
    "start_time": "2023-02-19T13:56:40.418Z"
   },
   {
    "duration": 1272,
    "start_time": "2023-02-19T13:57:30.739Z"
   },
   {
    "duration": 1166,
    "start_time": "2023-02-19T13:57:36.717Z"
   },
   {
    "duration": 1309,
    "start_time": "2023-02-19T13:57:57.525Z"
   },
   {
    "duration": 1256,
    "start_time": "2023-02-19T13:58:07.685Z"
   },
   {
    "duration": 116,
    "start_time": "2023-02-19T13:58:31.797Z"
   },
   {
    "duration": 1421,
    "start_time": "2023-02-19T13:58:40.115Z"
   },
   {
    "duration": 1477,
    "start_time": "2023-02-19T13:59:47.140Z"
   },
   {
    "duration": 1306,
    "start_time": "2023-02-19T14:03:09.440Z"
   },
   {
    "duration": 745,
    "start_time": "2023-02-19T14:03:27.239Z"
   },
   {
    "duration": 775,
    "start_time": "2023-02-19T14:03:36.224Z"
   },
   {
    "duration": 869,
    "start_time": "2023-02-19T14:03:41.855Z"
   },
   {
    "duration": 772,
    "start_time": "2023-02-19T14:03:52.639Z"
   },
   {
    "duration": 886,
    "start_time": "2023-02-19T14:04:00.186Z"
   },
   {
    "duration": 915,
    "start_time": "2023-02-19T14:04:14.557Z"
   },
   {
    "duration": 1623,
    "start_time": "2023-02-20T08:48:30.202Z"
   },
   {
    "duration": 158,
    "start_time": "2023-02-20T08:48:31.827Z"
   },
   {
    "duration": 13,
    "start_time": "2023-02-20T08:48:31.987Z"
   },
   {
    "duration": 30,
    "start_time": "2023-02-20T08:48:32.003Z"
   },
   {
    "duration": 25,
    "start_time": "2023-02-20T08:48:32.035Z"
   },
   {
    "duration": 28,
    "start_time": "2023-02-20T08:48:32.063Z"
   },
   {
    "duration": 15,
    "start_time": "2023-02-20T08:48:32.093Z"
   },
   {
    "duration": 419,
    "start_time": "2023-02-20T08:48:32.110Z"
   },
   {
    "duration": 950,
    "start_time": "2023-02-20T08:48:32.530Z"
   },
   {
    "duration": 297,
    "start_time": "2023-02-20T08:48:33.483Z"
   },
   {
    "duration": 7581,
    "start_time": "2023-02-20T08:48:33.782Z"
   },
   {
    "duration": 72,
    "start_time": "2023-02-20T08:48:41.368Z"
   },
   {
    "duration": 294,
    "start_time": "2023-02-20T08:48:41.442Z"
   },
   {
    "duration": 8035,
    "start_time": "2023-02-20T08:48:41.738Z"
   },
   {
    "duration": 9,
    "start_time": "2023-02-20T08:48:49.775Z"
   },
   {
    "duration": 1547,
    "start_time": "2023-02-20T08:51:30.829Z"
   },
   {
    "duration": 43,
    "start_time": "2023-02-20T08:51:32.380Z"
   },
   {
    "duration": 16,
    "start_time": "2023-02-20T08:51:32.425Z"
   },
   {
    "duration": 7,
    "start_time": "2023-02-20T08:51:32.445Z"
   },
   {
    "duration": 15,
    "start_time": "2023-02-20T08:51:32.454Z"
   },
   {
    "duration": 166,
    "start_time": "2023-02-20T08:51:32.471Z"
   },
   {
    "duration": 0,
    "start_time": "2023-02-20T08:51:32.639Z"
   },
   {
    "duration": 0,
    "start_time": "2023-02-20T08:51:32.641Z"
   },
   {
    "duration": 0,
    "start_time": "2023-02-20T08:51:32.642Z"
   },
   {
    "duration": 0,
    "start_time": "2023-02-20T08:51:32.643Z"
   },
   {
    "duration": 0,
    "start_time": "2023-02-20T08:51:32.644Z"
   },
   {
    "duration": 0,
    "start_time": "2023-02-20T08:51:32.646Z"
   },
   {
    "duration": 0,
    "start_time": "2023-02-20T08:51:32.667Z"
   },
   {
    "duration": 0,
    "start_time": "2023-02-20T08:51:32.669Z"
   },
   {
    "duration": 0,
    "start_time": "2023-02-20T08:51:32.670Z"
   },
   {
    "duration": 9,
    "start_time": "2023-02-20T08:52:02.101Z"
   },
   {
    "duration": 4,
    "start_time": "2023-02-20T08:52:03.422Z"
   },
   {
    "duration": 1576,
    "start_time": "2023-02-20T08:52:08.683Z"
   },
   {
    "duration": 41,
    "start_time": "2023-02-20T08:52:10.261Z"
   },
   {
    "duration": 12,
    "start_time": "2023-02-20T08:52:10.304Z"
   },
   {
    "duration": 10,
    "start_time": "2023-02-20T08:52:10.319Z"
   },
   {
    "duration": 10,
    "start_time": "2023-02-20T08:52:10.331Z"
   },
   {
    "duration": 17,
    "start_time": "2023-02-20T08:52:10.343Z"
   },
   {
    "duration": 4,
    "start_time": "2023-02-20T08:52:10.366Z"
   },
   {
    "duration": 462,
    "start_time": "2023-02-20T08:52:10.372Z"
   },
   {
    "duration": 901,
    "start_time": "2023-02-20T08:52:10.836Z"
   },
   {
    "duration": 266,
    "start_time": "2023-02-20T08:52:11.739Z"
   },
   {
    "duration": 2575,
    "start_time": "2023-02-20T08:52:12.007Z"
   },
   {
    "duration": 99,
    "start_time": "2023-02-20T08:52:14.584Z"
   },
   {
    "duration": 287,
    "start_time": "2023-02-20T08:52:14.686Z"
   },
   {
    "duration": 2641,
    "start_time": "2023-02-20T08:52:14.975Z"
   },
   {
    "duration": 11,
    "start_time": "2023-02-20T08:52:17.619Z"
   },
   {
    "duration": 1586,
    "start_time": "2023-02-20T08:59:28.944Z"
   },
   {
    "duration": 44,
    "start_time": "2023-02-20T08:59:30.532Z"
   },
   {
    "duration": 46,
    "start_time": "2023-02-20T08:59:30.578Z"
   },
   {
    "duration": 11,
    "start_time": "2023-02-20T08:59:30.627Z"
   },
   {
    "duration": 22,
    "start_time": "2023-02-20T08:59:30.640Z"
   },
   {
    "duration": 69,
    "start_time": "2023-02-20T08:59:30.665Z"
   },
   {
    "duration": 54,
    "start_time": "2023-02-20T08:59:30.736Z"
   },
   {
    "duration": 467,
    "start_time": "2023-02-20T08:59:30.792Z"
   },
   {
    "duration": 496,
    "start_time": "2023-02-20T08:59:31.262Z"
   },
   {
    "duration": 979,
    "start_time": "2023-02-20T08:59:31.769Z"
   },
   {
    "duration": 288,
    "start_time": "2023-02-20T08:59:32.751Z"
   },
   {
    "duration": 3470,
    "start_time": "2023-02-20T08:59:33.041Z"
   },
   {
    "duration": 101,
    "start_time": "2023-02-20T08:59:36.513Z"
   },
   {
    "duration": 351,
    "start_time": "2023-02-20T08:59:36.616Z"
   },
   {
    "duration": 3015,
    "start_time": "2023-02-20T08:59:36.969Z"
   },
   {
    "duration": 8,
    "start_time": "2023-02-20T08:59:39.986Z"
   },
   {
    "duration": 6,
    "start_time": "2023-02-20T09:03:27.744Z"
   },
   {
    "duration": 578,
    "start_time": "2023-02-20T09:07:40.581Z"
   },
   {
    "duration": 1697,
    "start_time": "2023-02-20T09:13:17.763Z"
   },
   {
    "duration": 59,
    "start_time": "2023-02-20T09:13:19.462Z"
   },
   {
    "duration": 16,
    "start_time": "2023-02-20T09:13:19.523Z"
   },
   {
    "duration": 12,
    "start_time": "2023-02-20T09:13:19.542Z"
   },
   {
    "duration": 52,
    "start_time": "2023-02-20T09:13:19.556Z"
   },
   {
    "duration": 20,
    "start_time": "2023-02-20T09:13:19.610Z"
   },
   {
    "duration": 9,
    "start_time": "2023-02-20T09:13:19.632Z"
   },
   {
    "duration": 581,
    "start_time": "2023-02-20T09:13:19.643Z"
   },
   {
    "duration": 1110,
    "start_time": "2023-02-20T09:13:20.226Z"
   },
   {
    "duration": 400,
    "start_time": "2023-02-20T09:13:21.340Z"
   },
   {
    "duration": 946,
    "start_time": "2023-02-20T09:13:21.742Z"
   },
   {
    "duration": 3208,
    "start_time": "2023-02-20T09:13:22.691Z"
   },
   {
    "duration": 86,
    "start_time": "2023-02-20T09:13:25.901Z"
   },
   {
    "duration": 341,
    "start_time": "2023-02-20T09:13:25.989Z"
   },
   {
    "duration": 3258,
    "start_time": "2023-02-20T09:13:26.333Z"
   },
   {
    "duration": 10,
    "start_time": "2023-02-20T09:13:29.593Z"
   },
   {
    "duration": 1558,
    "start_time": "2023-02-20T09:43:45.536Z"
   },
   {
    "duration": 44,
    "start_time": "2023-02-20T09:43:47.097Z"
   },
   {
    "duration": 15,
    "start_time": "2023-02-20T09:43:47.143Z"
   },
   {
    "duration": 12,
    "start_time": "2023-02-20T09:43:47.161Z"
   },
   {
    "duration": 32,
    "start_time": "2023-02-20T09:43:47.175Z"
   },
   {
    "duration": 30,
    "start_time": "2023-02-20T09:43:47.209Z"
   },
   {
    "duration": 15,
    "start_time": "2023-02-20T09:43:47.242Z"
   },
   {
    "duration": 581,
    "start_time": "2023-02-20T09:43:47.260Z"
   },
   {
    "duration": 1186,
    "start_time": "2023-02-20T09:43:47.843Z"
   },
   {
    "duration": 358,
    "start_time": "2023-02-20T09:43:49.033Z"
   },
   {
    "duration": 1056,
    "start_time": "2023-02-20T09:43:49.393Z"
   },
   {
    "duration": 3241,
    "start_time": "2023-02-20T09:43:50.452Z"
   },
   {
    "duration": 109,
    "start_time": "2023-02-20T09:43:53.696Z"
   },
   {
    "duration": 323,
    "start_time": "2023-02-20T09:43:53.807Z"
   },
   {
    "duration": 3337,
    "start_time": "2023-02-20T09:43:54.133Z"
   },
   {
    "duration": 10,
    "start_time": "2023-02-20T09:43:57.472Z"
   },
   {
    "duration": 5,
    "start_time": "2023-02-20T09:48:26.332Z"
   },
   {
    "duration": 943,
    "start_time": "2023-02-20T09:48:30.312Z"
   },
   {
    "duration": 864,
    "start_time": "2023-02-20T09:48:43.698Z"
   },
   {
    "duration": 891,
    "start_time": "2023-02-20T09:48:50.685Z"
   },
   {
    "duration": 47945,
    "start_time": "2023-02-20T09:49:34.130Z"
   },
   {
    "duration": 1807,
    "start_time": "2023-02-20T10:39:13.098Z"
   },
   {
    "duration": 68,
    "start_time": "2023-02-20T10:39:14.908Z"
   },
   {
    "duration": 20,
    "start_time": "2023-02-20T10:39:14.978Z"
   },
   {
    "duration": 41,
    "start_time": "2023-02-20T10:39:15.019Z"
   },
   {
    "duration": 70,
    "start_time": "2023-02-20T10:39:15.063Z"
   },
   {
    "duration": 13,
    "start_time": "2023-02-20T10:39:15.141Z"
   },
   {
    "duration": 68,
    "start_time": "2023-02-20T10:39:15.156Z"
   },
   {
    "duration": 689,
    "start_time": "2023-02-20T10:39:15.226Z"
   },
   {
    "duration": 1069,
    "start_time": "2023-02-20T10:39:15.917Z"
   },
   {
    "duration": 338,
    "start_time": "2023-02-20T10:39:16.987Z"
   },
   {
    "duration": 931,
    "start_time": "2023-02-20T10:39:17.327Z"
   },
   {
    "duration": 946,
    "start_time": "2023-02-20T10:39:18.260Z"
   },
   {
    "duration": 53907,
    "start_time": "2023-02-20T10:39:19.208Z"
   },
   {
    "duration": 3124,
    "start_time": "2023-02-20T10:40:13.117Z"
   },
   {
    "duration": 157,
    "start_time": "2023-02-20T10:40:16.242Z"
   },
   {
    "duration": 0,
    "start_time": "2023-02-20T10:40:16.400Z"
   },
   {
    "duration": 0,
    "start_time": "2023-02-20T10:40:16.402Z"
   },
   {
    "duration": 0,
    "start_time": "2023-02-20T10:40:16.403Z"
   },
   {
    "duration": 22,
    "start_time": "2023-02-20T10:40:32.217Z"
   },
   {
    "duration": 21,
    "start_time": "2023-02-20T10:43:36.305Z"
   },
   {
    "duration": 15,
    "start_time": "2023-02-20T10:45:01.591Z"
   },
   {
    "duration": 24,
    "start_time": "2023-02-20T11:06:31.294Z"
   },
   {
    "duration": 13,
    "start_time": "2023-02-20T11:07:06.494Z"
   },
   {
    "duration": 8,
    "start_time": "2023-02-20T11:07:54.594Z"
   },
   {
    "duration": 10,
    "start_time": "2023-02-20T11:08:56.008Z"
   },
   {
    "duration": 1466,
    "start_time": "2023-02-20T14:16:30.197Z"
   },
   {
    "duration": 133,
    "start_time": "2023-02-20T14:16:31.665Z"
   },
   {
    "duration": 12,
    "start_time": "2023-02-20T14:16:31.799Z"
   },
   {
    "duration": 26,
    "start_time": "2023-02-20T14:16:31.814Z"
   },
   {
    "duration": 29,
    "start_time": "2023-02-20T14:16:31.842Z"
   },
   {
    "duration": 36,
    "start_time": "2023-02-20T14:16:31.873Z"
   },
   {
    "duration": 34,
    "start_time": "2023-02-20T14:16:31.911Z"
   },
   {
    "duration": 512,
    "start_time": "2023-02-20T14:16:31.947Z"
   },
   {
    "duration": 814,
    "start_time": "2023-02-20T14:16:32.461Z"
   },
   {
    "duration": 241,
    "start_time": "2023-02-20T14:16:33.277Z"
   },
   {
    "duration": 737,
    "start_time": "2023-02-20T14:16:33.520Z"
   },
   {
    "duration": 752,
    "start_time": "2023-02-20T14:16:34.258Z"
   },
   {
    "duration": 38725,
    "start_time": "2023-02-20T14:16:35.012Z"
   },
   {
    "duration": 2522,
    "start_time": "2023-02-20T14:17:13.739Z"
   },
   {
    "duration": 10,
    "start_time": "2023-02-20T14:17:16.263Z"
   },
   {
    "duration": 35,
    "start_time": "2023-02-20T14:17:16.275Z"
   },
   {
    "duration": 10,
    "start_time": "2023-02-20T14:17:16.312Z"
   },
   {
    "duration": 6,
    "start_time": "2023-02-20T14:17:16.347Z"
   },
   {
    "duration": 1292,
    "start_time": "2023-02-20T14:26:31.941Z"
   },
   {
    "duration": 38,
    "start_time": "2023-02-20T14:26:33.235Z"
   },
   {
    "duration": 10,
    "start_time": "2023-02-20T14:26:33.274Z"
   },
   {
    "duration": 44,
    "start_time": "2023-02-20T14:26:33.286Z"
   },
   {
    "duration": 29,
    "start_time": "2023-02-20T14:26:33.331Z"
   },
   {
    "duration": 18,
    "start_time": "2023-02-20T14:26:33.361Z"
   },
   {
    "duration": 27,
    "start_time": "2023-02-20T14:26:33.381Z"
   },
   {
    "duration": 428,
    "start_time": "2023-02-20T14:26:33.410Z"
   },
   {
    "duration": 813,
    "start_time": "2023-02-20T14:26:33.840Z"
   },
   {
    "duration": 246,
    "start_time": "2023-02-20T14:26:34.655Z"
   },
   {
    "duration": 780,
    "start_time": "2023-02-20T14:26:34.902Z"
   },
   {
    "duration": 689,
    "start_time": "2023-02-20T14:26:35.684Z"
   },
   {
    "duration": 37504,
    "start_time": "2023-02-20T14:26:36.374Z"
   },
   {
    "duration": 2483,
    "start_time": "2023-02-20T14:27:13.880Z"
   },
   {
    "duration": 9,
    "start_time": "2023-02-20T14:27:16.365Z"
   },
   {
    "duration": 40,
    "start_time": "2023-02-20T14:27:16.375Z"
   },
   {
    "duration": 7,
    "start_time": "2023-02-20T14:27:16.417Z"
   },
   {
    "duration": 34,
    "start_time": "2023-02-20T14:27:16.425Z"
   },
   {
    "duration": 120,
    "start_time": "2023-02-20T14:28:27.882Z"
   },
   {
    "duration": 1016,
    "start_time": "2023-02-20T14:29:28.948Z"
   },
   {
    "duration": 1323,
    "start_time": "2023-02-20T14:29:37.073Z"
   },
   {
    "duration": 37,
    "start_time": "2023-02-20T14:29:38.398Z"
   },
   {
    "duration": 10,
    "start_time": "2023-02-20T14:29:38.437Z"
   },
   {
    "duration": 7,
    "start_time": "2023-02-20T14:29:38.449Z"
   },
   {
    "duration": 6,
    "start_time": "2023-02-20T14:29:38.458Z"
   },
   {
    "duration": 9,
    "start_time": "2023-02-20T14:29:38.465Z"
   },
   {
    "duration": 4,
    "start_time": "2023-02-20T14:29:38.476Z"
   },
   {
    "duration": 437,
    "start_time": "2023-02-20T14:29:38.481Z"
   },
   {
    "duration": 748,
    "start_time": "2023-02-20T14:29:38.919Z"
   },
   {
    "duration": 939,
    "start_time": "2023-02-20T14:29:39.669Z"
   },
   {
    "duration": 252,
    "start_time": "2023-02-20T14:29:40.610Z"
   },
   {
    "duration": 680,
    "start_time": "2023-02-20T14:29:40.864Z"
   },
   {
    "duration": 681,
    "start_time": "2023-02-20T14:29:41.546Z"
   },
   {
    "duration": 37121,
    "start_time": "2023-02-20T14:29:42.228Z"
   },
   {
    "duration": 2119,
    "start_time": "2023-02-20T14:30:19.351Z"
   },
   {
    "duration": 7,
    "start_time": "2023-02-20T14:30:21.472Z"
   },
   {
    "duration": 32,
    "start_time": "2023-02-20T14:30:21.480Z"
   },
   {
    "duration": 7,
    "start_time": "2023-02-20T14:30:21.513Z"
   },
   {
    "duration": 10,
    "start_time": "2023-02-20T14:30:21.521Z"
   }
  ],
  "kernelspec": {
   "display_name": "Python 3",
   "language": "python",
   "name": "python3"
  },
  "language_info": {
   "codemirror_mode": {
    "name": "ipython",
    "version": 3
   },
   "file_extension": ".py",
   "mimetype": "text/x-python",
   "name": "python",
   "nbconvert_exporter": "python",
   "pygments_lexer": "ipython3",
   "version": "3.7.3"
  },
  "toc": {
   "base_numbering": 1,
   "nav_menu": {},
   "number_sections": true,
   "sideBar": true,
   "skip_h1_title": true,
   "title_cell": "Table of Contents",
   "title_sidebar": "Contents",
   "toc_cell": false,
   "toc_position": {},
   "toc_section_display": true,
   "toc_window_display": false
  }
 },
 "nbformat": 4,
 "nbformat_minor": 2
}
