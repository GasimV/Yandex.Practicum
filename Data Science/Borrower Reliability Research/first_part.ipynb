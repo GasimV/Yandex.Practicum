{
 "cells": [
  {
   "cell_type": "markdown",
   "metadata": {
    "deletable": false,
    "editable": false,
    "id": "c81daeeb"
   },
   "source": [
    "# Исследование надежности заемщиков"
   ]
  },
  {
   "cell_type": "markdown",
   "metadata": {
    "deletable": false,
    "editable": false,
    "id": "-G3EJWzf62s6"
   },
   "source": [
    "Это первая часть проекта, она будет проверена автоматически. Вторую часть проверит ревьюер. "
   ]
  },
  {
   "cell_type": "markdown",
   "metadata": {
    "deletable": false,
    "editable": false,
    "id": "744d7639"
   },
   "source": [
    "## Откройте таблицу и изучите общую информацию о данных"
   ]
  },
  {
   "cell_type": "markdown",
   "metadata": {
    "deletable": false,
    "editable": false,
    "id": "e7a14c31",
    "tags": [
     "start_task"
    ]
   },
   "source": [
    "**Задание 1. Импортируйте библиотеку pandas. Считайте данные из csv-файла в датафрейм и сохраните в переменную `data`. Путь к файлу:**\n",
    "\n",
    "`/datasets/data.csv`"
   ]
  },
  {
   "cell_type": "code",
   "execution_count": 1,
   "metadata": {
    "id": "7bcf75c9"
   },
   "outputs": [],
   "source": [
    "# импортируйте библиотеку pandas\n",
    "import pandas as pd"
   ]
  },
  {
   "cell_type": "code",
   "execution_count": 2,
   "metadata": {
    "id": "4d240ee2"
   },
   "outputs": [],
   "source": [
    "# прочитайте csv-файл\n",
    "data = pd.read_csv('/datasets/data.csv')"
   ]
  },
  {
   "cell_type": "markdown",
   "metadata": {
    "deletable": false,
    "editable": false,
    "id": "b8038fe3",
    "tags": [
     "start_task"
    ]
   },
   "source": [
    "**Задание 2. Выведите первые 20 строчек датафрейма `data` на экран.**"
   ]
  },
  {
   "cell_type": "code",
   "execution_count": 3,
   "metadata": {
    "id": "2a7cab99"
   },
   "outputs": [
    {
     "data": {
      "text/html": [
       "<div>\n",
       "<style scoped>\n",
       "    .dataframe tbody tr th:only-of-type {\n",
       "        vertical-align: middle;\n",
       "    }\n",
       "\n",
       "    .dataframe tbody tr th {\n",
       "        vertical-align: top;\n",
       "    }\n",
       "\n",
       "    .dataframe thead th {\n",
       "        text-align: right;\n",
       "    }\n",
       "</style>\n",
       "<table border=\"1\" class=\"dataframe\">\n",
       "  <thead>\n",
       "    <tr style=\"text-align: right;\">\n",
       "      <th></th>\n",
       "      <th>children</th>\n",
       "      <th>days_employed</th>\n",
       "      <th>dob_years</th>\n",
       "      <th>education</th>\n",
       "      <th>education_id</th>\n",
       "      <th>family_status</th>\n",
       "      <th>family_status_id</th>\n",
       "      <th>gender</th>\n",
       "      <th>income_type</th>\n",
       "      <th>debt</th>\n",
       "      <th>total_income</th>\n",
       "      <th>purpose</th>\n",
       "    </tr>\n",
       "  </thead>\n",
       "  <tbody>\n",
       "    <tr>\n",
       "      <th>0</th>\n",
       "      <td>1</td>\n",
       "      <td>-8437.673028</td>\n",
       "      <td>42</td>\n",
       "      <td>высшее</td>\n",
       "      <td>0</td>\n",
       "      <td>женат / замужем</td>\n",
       "      <td>0</td>\n",
       "      <td>F</td>\n",
       "      <td>сотрудник</td>\n",
       "      <td>0</td>\n",
       "      <td>253875.639453</td>\n",
       "      <td>покупка жилья</td>\n",
       "    </tr>\n",
       "    <tr>\n",
       "      <th>1</th>\n",
       "      <td>1</td>\n",
       "      <td>-4024.803754</td>\n",
       "      <td>36</td>\n",
       "      <td>среднее</td>\n",
       "      <td>1</td>\n",
       "      <td>женат / замужем</td>\n",
       "      <td>0</td>\n",
       "      <td>F</td>\n",
       "      <td>сотрудник</td>\n",
       "      <td>0</td>\n",
       "      <td>112080.014102</td>\n",
       "      <td>приобретение автомобиля</td>\n",
       "    </tr>\n",
       "    <tr>\n",
       "      <th>2</th>\n",
       "      <td>0</td>\n",
       "      <td>-5623.422610</td>\n",
       "      <td>33</td>\n",
       "      <td>Среднее</td>\n",
       "      <td>1</td>\n",
       "      <td>женат / замужем</td>\n",
       "      <td>0</td>\n",
       "      <td>M</td>\n",
       "      <td>сотрудник</td>\n",
       "      <td>0</td>\n",
       "      <td>145885.952297</td>\n",
       "      <td>покупка жилья</td>\n",
       "    </tr>\n",
       "    <tr>\n",
       "      <th>3</th>\n",
       "      <td>3</td>\n",
       "      <td>-4124.747207</td>\n",
       "      <td>32</td>\n",
       "      <td>среднее</td>\n",
       "      <td>1</td>\n",
       "      <td>женат / замужем</td>\n",
       "      <td>0</td>\n",
       "      <td>M</td>\n",
       "      <td>сотрудник</td>\n",
       "      <td>0</td>\n",
       "      <td>267628.550329</td>\n",
       "      <td>дополнительное образование</td>\n",
       "    </tr>\n",
       "    <tr>\n",
       "      <th>4</th>\n",
       "      <td>0</td>\n",
       "      <td>340266.072047</td>\n",
       "      <td>53</td>\n",
       "      <td>среднее</td>\n",
       "      <td>1</td>\n",
       "      <td>гражданский брак</td>\n",
       "      <td>1</td>\n",
       "      <td>F</td>\n",
       "      <td>пенсионер</td>\n",
       "      <td>0</td>\n",
       "      <td>158616.077870</td>\n",
       "      <td>сыграть свадьбу</td>\n",
       "    </tr>\n",
       "    <tr>\n",
       "      <th>5</th>\n",
       "      <td>0</td>\n",
       "      <td>-926.185831</td>\n",
       "      <td>27</td>\n",
       "      <td>высшее</td>\n",
       "      <td>0</td>\n",
       "      <td>гражданский брак</td>\n",
       "      <td>1</td>\n",
       "      <td>M</td>\n",
       "      <td>компаньон</td>\n",
       "      <td>0</td>\n",
       "      <td>255763.565419</td>\n",
       "      <td>покупка жилья</td>\n",
       "    </tr>\n",
       "    <tr>\n",
       "      <th>6</th>\n",
       "      <td>0</td>\n",
       "      <td>-2879.202052</td>\n",
       "      <td>43</td>\n",
       "      <td>высшее</td>\n",
       "      <td>0</td>\n",
       "      <td>женат / замужем</td>\n",
       "      <td>0</td>\n",
       "      <td>F</td>\n",
       "      <td>компаньон</td>\n",
       "      <td>0</td>\n",
       "      <td>240525.971920</td>\n",
       "      <td>операции с жильем</td>\n",
       "    </tr>\n",
       "    <tr>\n",
       "      <th>7</th>\n",
       "      <td>0</td>\n",
       "      <td>-152.779569</td>\n",
       "      <td>50</td>\n",
       "      <td>СРЕДНЕЕ</td>\n",
       "      <td>1</td>\n",
       "      <td>женат / замужем</td>\n",
       "      <td>0</td>\n",
       "      <td>M</td>\n",
       "      <td>сотрудник</td>\n",
       "      <td>0</td>\n",
       "      <td>135823.934197</td>\n",
       "      <td>образование</td>\n",
       "    </tr>\n",
       "    <tr>\n",
       "      <th>8</th>\n",
       "      <td>2</td>\n",
       "      <td>-6929.865299</td>\n",
       "      <td>35</td>\n",
       "      <td>ВЫСШЕЕ</td>\n",
       "      <td>0</td>\n",
       "      <td>гражданский брак</td>\n",
       "      <td>1</td>\n",
       "      <td>F</td>\n",
       "      <td>сотрудник</td>\n",
       "      <td>0</td>\n",
       "      <td>95856.832424</td>\n",
       "      <td>на проведение свадьбы</td>\n",
       "    </tr>\n",
       "    <tr>\n",
       "      <th>9</th>\n",
       "      <td>0</td>\n",
       "      <td>-2188.756445</td>\n",
       "      <td>41</td>\n",
       "      <td>среднее</td>\n",
       "      <td>1</td>\n",
       "      <td>женат / замужем</td>\n",
       "      <td>0</td>\n",
       "      <td>M</td>\n",
       "      <td>сотрудник</td>\n",
       "      <td>0</td>\n",
       "      <td>144425.938277</td>\n",
       "      <td>покупка жилья для семьи</td>\n",
       "    </tr>\n",
       "    <tr>\n",
       "      <th>10</th>\n",
       "      <td>2</td>\n",
       "      <td>-4171.483647</td>\n",
       "      <td>36</td>\n",
       "      <td>высшее</td>\n",
       "      <td>0</td>\n",
       "      <td>женат / замужем</td>\n",
       "      <td>0</td>\n",
       "      <td>M</td>\n",
       "      <td>компаньон</td>\n",
       "      <td>0</td>\n",
       "      <td>113943.491460</td>\n",
       "      <td>покупка недвижимости</td>\n",
       "    </tr>\n",
       "    <tr>\n",
       "      <th>11</th>\n",
       "      <td>0</td>\n",
       "      <td>-792.701887</td>\n",
       "      <td>40</td>\n",
       "      <td>среднее</td>\n",
       "      <td>1</td>\n",
       "      <td>женат / замужем</td>\n",
       "      <td>0</td>\n",
       "      <td>F</td>\n",
       "      <td>сотрудник</td>\n",
       "      <td>0</td>\n",
       "      <td>77069.234271</td>\n",
       "      <td>покупка коммерческой недвижимости</td>\n",
       "    </tr>\n",
       "    <tr>\n",
       "      <th>12</th>\n",
       "      <td>0</td>\n",
       "      <td>NaN</td>\n",
       "      <td>65</td>\n",
       "      <td>среднее</td>\n",
       "      <td>1</td>\n",
       "      <td>гражданский брак</td>\n",
       "      <td>1</td>\n",
       "      <td>M</td>\n",
       "      <td>пенсионер</td>\n",
       "      <td>0</td>\n",
       "      <td>NaN</td>\n",
       "      <td>сыграть свадьбу</td>\n",
       "    </tr>\n",
       "    <tr>\n",
       "      <th>13</th>\n",
       "      <td>0</td>\n",
       "      <td>-1846.641941</td>\n",
       "      <td>54</td>\n",
       "      <td>неоконченное высшее</td>\n",
       "      <td>2</td>\n",
       "      <td>женат / замужем</td>\n",
       "      <td>0</td>\n",
       "      <td>F</td>\n",
       "      <td>сотрудник</td>\n",
       "      <td>0</td>\n",
       "      <td>130458.228857</td>\n",
       "      <td>приобретение автомобиля</td>\n",
       "    </tr>\n",
       "    <tr>\n",
       "      <th>14</th>\n",
       "      <td>0</td>\n",
       "      <td>-1844.956182</td>\n",
       "      <td>56</td>\n",
       "      <td>высшее</td>\n",
       "      <td>0</td>\n",
       "      <td>гражданский брак</td>\n",
       "      <td>1</td>\n",
       "      <td>F</td>\n",
       "      <td>компаньон</td>\n",
       "      <td>1</td>\n",
       "      <td>165127.911772</td>\n",
       "      <td>покупка жилой недвижимости</td>\n",
       "    </tr>\n",
       "    <tr>\n",
       "      <th>15</th>\n",
       "      <td>1</td>\n",
       "      <td>-972.364419</td>\n",
       "      <td>26</td>\n",
       "      <td>среднее</td>\n",
       "      <td>1</td>\n",
       "      <td>женат / замужем</td>\n",
       "      <td>0</td>\n",
       "      <td>F</td>\n",
       "      <td>сотрудник</td>\n",
       "      <td>0</td>\n",
       "      <td>116820.904450</td>\n",
       "      <td>строительство собственной недвижимости</td>\n",
       "    </tr>\n",
       "    <tr>\n",
       "      <th>16</th>\n",
       "      <td>0</td>\n",
       "      <td>-1719.934226</td>\n",
       "      <td>35</td>\n",
       "      <td>среднее</td>\n",
       "      <td>1</td>\n",
       "      <td>женат / замужем</td>\n",
       "      <td>0</td>\n",
       "      <td>F</td>\n",
       "      <td>сотрудник</td>\n",
       "      <td>0</td>\n",
       "      <td>289202.704229</td>\n",
       "      <td>недвижимость</td>\n",
       "    </tr>\n",
       "    <tr>\n",
       "      <th>17</th>\n",
       "      <td>0</td>\n",
       "      <td>-2369.999720</td>\n",
       "      <td>33</td>\n",
       "      <td>высшее</td>\n",
       "      <td>0</td>\n",
       "      <td>гражданский брак</td>\n",
       "      <td>1</td>\n",
       "      <td>M</td>\n",
       "      <td>сотрудник</td>\n",
       "      <td>0</td>\n",
       "      <td>90410.586745</td>\n",
       "      <td>строительство недвижимости</td>\n",
       "    </tr>\n",
       "    <tr>\n",
       "      <th>18</th>\n",
       "      <td>0</td>\n",
       "      <td>400281.136913</td>\n",
       "      <td>53</td>\n",
       "      <td>среднее</td>\n",
       "      <td>1</td>\n",
       "      <td>вдовец / вдова</td>\n",
       "      <td>2</td>\n",
       "      <td>F</td>\n",
       "      <td>пенсионер</td>\n",
       "      <td>0</td>\n",
       "      <td>56823.777243</td>\n",
       "      <td>на покупку подержанного автомобиля</td>\n",
       "    </tr>\n",
       "    <tr>\n",
       "      <th>19</th>\n",
       "      <td>0</td>\n",
       "      <td>-10038.818549</td>\n",
       "      <td>48</td>\n",
       "      <td>СРЕДНЕЕ</td>\n",
       "      <td>1</td>\n",
       "      <td>в разводе</td>\n",
       "      <td>3</td>\n",
       "      <td>F</td>\n",
       "      <td>сотрудник</td>\n",
       "      <td>0</td>\n",
       "      <td>242831.107982</td>\n",
       "      <td>на покупку своего автомобиля</td>\n",
       "    </tr>\n",
       "  </tbody>\n",
       "</table>\n",
       "</div>"
      ],
      "text/plain": [
       "    children  days_employed  dob_years            education  education_id  \\\n",
       "0          1   -8437.673028         42               высшее             0   \n",
       "1          1   -4024.803754         36              среднее             1   \n",
       "2          0   -5623.422610         33              Среднее             1   \n",
       "3          3   -4124.747207         32              среднее             1   \n",
       "4          0  340266.072047         53              среднее             1   \n",
       "5          0    -926.185831         27               высшее             0   \n",
       "6          0   -2879.202052         43               высшее             0   \n",
       "7          0    -152.779569         50              СРЕДНЕЕ             1   \n",
       "8          2   -6929.865299         35               ВЫСШЕЕ             0   \n",
       "9          0   -2188.756445         41              среднее             1   \n",
       "10         2   -4171.483647         36               высшее             0   \n",
       "11         0    -792.701887         40              среднее             1   \n",
       "12         0            NaN         65              среднее             1   \n",
       "13         0   -1846.641941         54  неоконченное высшее             2   \n",
       "14         0   -1844.956182         56               высшее             0   \n",
       "15         1    -972.364419         26              среднее             1   \n",
       "16         0   -1719.934226         35              среднее             1   \n",
       "17         0   -2369.999720         33               высшее             0   \n",
       "18         0  400281.136913         53              среднее             1   \n",
       "19         0  -10038.818549         48              СРЕДНЕЕ             1   \n",
       "\n",
       "       family_status  family_status_id gender income_type  debt  \\\n",
       "0    женат / замужем                 0      F   сотрудник     0   \n",
       "1    женат / замужем                 0      F   сотрудник     0   \n",
       "2    женат / замужем                 0      M   сотрудник     0   \n",
       "3    женат / замужем                 0      M   сотрудник     0   \n",
       "4   гражданский брак                 1      F   пенсионер     0   \n",
       "5   гражданский брак                 1      M   компаньон     0   \n",
       "6    женат / замужем                 0      F   компаньон     0   \n",
       "7    женат / замужем                 0      M   сотрудник     0   \n",
       "8   гражданский брак                 1      F   сотрудник     0   \n",
       "9    женат / замужем                 0      M   сотрудник     0   \n",
       "10   женат / замужем                 0      M   компаньон     0   \n",
       "11   женат / замужем                 0      F   сотрудник     0   \n",
       "12  гражданский брак                 1      M   пенсионер     0   \n",
       "13   женат / замужем                 0      F   сотрудник     0   \n",
       "14  гражданский брак                 1      F   компаньон     1   \n",
       "15   женат / замужем                 0      F   сотрудник     0   \n",
       "16   женат / замужем                 0      F   сотрудник     0   \n",
       "17  гражданский брак                 1      M   сотрудник     0   \n",
       "18    вдовец / вдова                 2      F   пенсионер     0   \n",
       "19         в разводе                 3      F   сотрудник     0   \n",
       "\n",
       "     total_income                                 purpose  \n",
       "0   253875.639453                           покупка жилья  \n",
       "1   112080.014102                 приобретение автомобиля  \n",
       "2   145885.952297                           покупка жилья  \n",
       "3   267628.550329              дополнительное образование  \n",
       "4   158616.077870                         сыграть свадьбу  \n",
       "5   255763.565419                           покупка жилья  \n",
       "6   240525.971920                       операции с жильем  \n",
       "7   135823.934197                             образование  \n",
       "8    95856.832424                   на проведение свадьбы  \n",
       "9   144425.938277                 покупка жилья для семьи  \n",
       "10  113943.491460                    покупка недвижимости  \n",
       "11   77069.234271       покупка коммерческой недвижимости  \n",
       "12            NaN                         сыграть свадьбу  \n",
       "13  130458.228857                 приобретение автомобиля  \n",
       "14  165127.911772              покупка жилой недвижимости  \n",
       "15  116820.904450  строительство собственной недвижимости  \n",
       "16  289202.704229                            недвижимость  \n",
       "17   90410.586745              строительство недвижимости  \n",
       "18   56823.777243      на покупку подержанного автомобиля  \n",
       "19  242831.107982            на покупку своего автомобиля  "
      ]
     },
     "execution_count": 3,
     "metadata": {},
     "output_type": "execute_result"
    }
   ],
   "source": [
    "# ваш код здесь\n",
    "data.head(20)"
   ]
  },
  {
   "cell_type": "markdown",
   "metadata": {
    "deletable": false,
    "editable": false,
    "id": "1c12e233",
    "tags": [
     "start_task"
    ]
   },
   "source": [
    "**Задание 3. Выведите основную информацию о датафрейме с помощью метода `info()`.**"
   ]
  },
  {
   "cell_type": "code",
   "execution_count": 4,
   "metadata": {
    "id": "2b757bca"
   },
   "outputs": [
    {
     "name": "stdout",
     "output_type": "stream",
     "text": [
      "<class 'pandas.core.frame.DataFrame'>\n",
      "RangeIndex: 21525 entries, 0 to 21524\n",
      "Data columns (total 12 columns):\n",
      " #   Column            Non-Null Count  Dtype  \n",
      "---  ------            --------------  -----  \n",
      " 0   children          21525 non-null  int64  \n",
      " 1   days_employed     19351 non-null  float64\n",
      " 2   dob_years         21525 non-null  int64  \n",
      " 3   education         21525 non-null  object \n",
      " 4   education_id      21525 non-null  int64  \n",
      " 5   family_status     21525 non-null  object \n",
      " 6   family_status_id  21525 non-null  int64  \n",
      " 7   gender            21525 non-null  object \n",
      " 8   income_type       21525 non-null  object \n",
      " 9   debt              21525 non-null  int64  \n",
      " 10  total_income      19351 non-null  float64\n",
      " 11  purpose           21525 non-null  object \n",
      "dtypes: float64(2), int64(5), object(5)\n",
      "memory usage: 2.0+ MB\n"
     ]
    }
   ],
   "source": [
    "# ваш код здесь\n",
    "data.info()"
   ]
  },
  {
   "cell_type": "markdown",
   "metadata": {
    "deletable": false,
    "editable": false,
    "id": "333ec665"
   },
   "source": [
    "## Предобработка данных"
   ]
  },
  {
   "cell_type": "markdown",
   "metadata": {
    "deletable": false,
    "editable": false,
    "id": "02d92d53"
   },
   "source": [
    "### Удаление пропусков"
   ]
  },
  {
   "cell_type": "markdown",
   "metadata": {
    "deletable": false,
    "editable": false,
    "id": "cd84967c",
    "tags": [
     "start_task"
    ]
   },
   "source": [
    "**Задание 4. Выведите количество пропущенных значений для каждого столбца. Используйте комбинацию двух методов.**"
   ]
  },
  {
   "cell_type": "code",
   "execution_count": 5,
   "metadata": {
    "id": "7f9b2309"
   },
   "outputs": [
    {
     "data": {
      "text/plain": [
       "children               0\n",
       "days_employed       2174\n",
       "dob_years              0\n",
       "education              0\n",
       "education_id           0\n",
       "family_status          0\n",
       "family_status_id       0\n",
       "gender                 0\n",
       "income_type            0\n",
       "debt                   0\n",
       "total_income        2174\n",
       "purpose                0\n",
       "dtype: int64"
      ]
     },
     "execution_count": 5,
     "metadata": {},
     "output_type": "execute_result"
    }
   ],
   "source": [
    "# ваш код здесь\n",
    "\n",
    "data.isna().sum()"
   ]
  },
  {
   "cell_type": "markdown",
   "metadata": {
    "deletable": false,
    "editable": false,
    "id": "db86e27b",
    "tags": [
     "start_task"
    ]
   },
   "source": [
    "**Задание 5. В двух столбцах есть пропущенные значения. Один из них — `days_employed`. Пропуски в этом столбце вы обработаете на следующем этапе. Другой столбец с пропущенными значениями — `total_income` — хранит данные о доходах. На сумму дохода сильнее всего влияет тип занятости, поэтому заполнить пропуски в этом столбце нужно медианным значением по каждому типу из столбца `income_type`. Например, у человека с типом занятости `сотрудник` пропуск в столбце `total_income` должен быть заполнен медианным доходом среди всех записей с тем же типом.**"
   ]
  },
  {
   "cell_type": "code",
   "execution_count": 6,
   "metadata": {
    "id": "42006a93"
   },
   "outputs": [
    {
     "name": "stdout",
     "output_type": "stream",
     "text": [
      "0\n"
     ]
    }
   ],
   "source": [
    "# ваш код здесь\n",
    "\n",
    "# заполнить пропуски в столбце total_income нужно медианным значением по каждому типу из \n",
    "# столбца income_type. Например, у человека с типом занятости сотрудник пропуск в \n",
    "# столбце total_income должен быть заполнен медианным доходом среди всех записей с тем же типом.\n",
    "\n",
    "# перебираем каждый тип income в наборе уникальных значений столба income_type\n",
    "for d in data['income_type'].unique():\n",
    "    # на каждом шаге цикла с помощью атрибута loc выбираем строки,\n",
    "    # в которых в income_type текущий тип income (d) и есть пропуски в total_income \n",
    "    data.loc[(data['income_type'] == d) & (data['total_income'].isna()), 'total_income'] = \\\n",
    "    data.loc[(data['income_type'] == d), 'total_income'].median()\n",
    "    # и записываем в них среднее значение time среди строк с текущим типом income (d)\n",
    "\n",
    "# проверяем, что все пропуски заполнены\n",
    "print(data['total_income'].isna().sum())\n"
   ]
  },
  {
   "cell_type": "markdown",
   "metadata": {
    "deletable": false,
    "editable": false,
    "id": "89da5ece"
   },
   "source": [
    "### Обработка аномальных значений"
   ]
  },
  {
   "cell_type": "markdown",
   "metadata": {
    "deletable": false,
    "editable": false,
    "id": "57964554",
    "tags": [
     "start_task"
    ]
   },
   "source": [
    "**Задание 6. В данных могут встречаться артефакты (аномалии) — значения, которые не отражают действительность и появились по какой-то ошибке. Таким артефактом будет отрицательное количество дней трудового стажа в столбце `days_employed`. Для реальных данных это нормально. Обработайте значения в этом столбце: замените все отрицательные значения положительными с помощью метода `abs()`.**"
   ]
  },
  {
   "cell_type": "code",
   "execution_count": 7,
   "metadata": {
    "id": "f6f055bf"
   },
   "outputs": [
    {
     "name": "stdout",
     "output_type": "stream",
     "text": [
      "0          8437.673028\n",
      "1          4024.803754\n",
      "2          5623.422610\n",
      "3          4124.747207\n",
      "4        340266.072047\n",
      "             ...      \n",
      "21520      4529.316663\n",
      "21521    343937.404131\n",
      "21522      2113.346888\n",
      "21523      3112.481705\n",
      "21524      1984.507589\n",
      "Name: days_employed, Length: 21525, dtype: float64\n"
     ]
    }
   ],
   "source": [
    "# ваш код здесь\n",
    "\n",
    "data['days_employed'] = data['days_employed'].abs()\n",
    "print(data['days_employed'])"
   ]
  },
  {
   "cell_type": "markdown",
   "metadata": {
    "deletable": false,
    "editable": false,
    "id": "6107dd2f",
    "tags": [
     "start_task"
    ]
   },
   "source": [
    "**Задание 7. Для каждого типа занятости выведите медианное значение трудового стажа `days_employed` в днях.**"
   ]
  },
  {
   "cell_type": "code",
   "execution_count": 8,
   "metadata": {
    "id": "85a5faf6"
   },
   "outputs": [
    {
     "name": "stdout",
     "output_type": "stream",
     "text": [
      "income_type\n",
      "безработный        366413.652744\n",
      "в декрете            3296.759962\n",
      "госслужащий          2689.368353\n",
      "компаньон            1547.382223\n",
      "пенсионер          365213.306266\n",
      "предприниматель       520.848083\n",
      "сотрудник            1574.202821\n",
      "студент               578.751554\n",
      "Name: days_employed, dtype: float64\n"
     ]
    }
   ],
   "source": [
    "# ваш код здесь\n",
    "\n",
    "print(data.groupby('income_type')['days_employed'].median())"
   ]
  },
  {
   "cell_type": "markdown",
   "metadata": {
    "deletable": false,
    "editable": false,
    "id": "38d1a030"
   },
   "source": [
    "У двух типов (безработные и пенсионеры) получатся аномально большие значения. Исправить такие значения сложно, поэтому оставьте их как есть. Тем более этот столбец не понадобится вам для исследования."
   ]
  },
  {
   "cell_type": "markdown",
   "metadata": {
    "deletable": false,
    "editable": false,
    "id": "d8a9f147",
    "tags": [
     "start_task"
    ]
   },
   "source": [
    "**Задание 8. Выведите перечень уникальных значений столбца `children`.**"
   ]
  },
  {
   "cell_type": "code",
   "execution_count": 9,
   "metadata": {
    "id": "ef5056eb"
   },
   "outputs": [
    {
     "data": {
      "text/plain": [
       "array([ 1,  0,  3,  2, -1,  4, 20,  5])"
      ]
     },
     "execution_count": 9,
     "metadata": {},
     "output_type": "execute_result"
    }
   ],
   "source": [
    "# ваш код здесь\n",
    "\n",
    "data['children'].unique()"
   ]
  },
  {
   "cell_type": "markdown",
   "metadata": {
    "deletable": false,
    "editable": false,
    "id": "40b9ebf2",
    "tags": [
     "start_task"
    ]
   },
   "source": [
    "**Задание 9. В столбце `children` есть два аномальных значения. Удалите строки, в которых встречаются такие аномальные значения из датафрейма `data`.**"
   ]
  },
  {
   "cell_type": "code",
   "execution_count": 10,
   "metadata": {
    "id": "3ff9801d"
   },
   "outputs": [],
   "source": [
    "# ваш код здесь\n",
    "\n",
    "data = data[(data['children'] != -1) & (data['children'] != 20)]"
   ]
  },
  {
   "cell_type": "markdown",
   "metadata": {
    "deletable": false,
    "editable": false,
    "id": "bbc4d0ce",
    "tags": [
     "start_task"
    ]
   },
   "source": [
    "**Задание 10. Ещё раз выведите перечень уникальных значений столбца `children`, чтобы убедиться, что артефакты удалены.**"
   ]
  },
  {
   "cell_type": "code",
   "execution_count": 11,
   "metadata": {
    "id": "ad4fa8b7"
   },
   "outputs": [
    {
     "name": "stdout",
     "output_type": "stream",
     "text": [
      "[1 0 3 2 4 5]\n"
     ]
    }
   ],
   "source": [
    "# ваш код здесь\n",
    "print(data['children'].unique())"
   ]
  },
  {
   "cell_type": "markdown",
   "metadata": {
    "deletable": false,
    "editable": false,
    "id": "75440b63"
   },
   "source": [
    "### Удаление пропусков (продолжение)"
   ]
  },
  {
   "cell_type": "markdown",
   "metadata": {
    "deletable": false,
    "editable": false,
    "id": "f4ea573f",
    "tags": [
     "start_task"
    ]
   },
   "source": [
    "**Задание 11. Заполните пропуски в столбце `days_employed` медианными значениями по каждому типу занятости `income_type`.**"
   ]
  },
  {
   "cell_type": "code",
   "execution_count": 12,
   "metadata": {
    "id": "af6b1a7e"
   },
   "outputs": [
    {
     "name": "stdout",
     "output_type": "stream",
     "text": [
      "0\n"
     ]
    }
   ],
   "source": [
    "# ваш код здесь\n",
    "\n",
    "for d in data['income_type'].unique():\n",
    "    data.loc[(data['income_type'] == d) & (data['days_employed'].isna()), 'days_employed'] = \\\n",
    "    data.loc[(data['income_type'] == d), 'days_employed'].median()\n",
    "    \n",
    "print(data['days_employed'].isna().sum())"
   ]
  },
  {
   "cell_type": "markdown",
   "metadata": {
    "deletable": false,
    "editable": false,
    "id": "2753f40d",
    "tags": [
     "start_task"
    ]
   },
   "source": [
    "**Задание 12. Убедитесь, что все пропуски заполнены. Проверьте себя и ещё раз выведите количество пропущенных значений для каждого столбца с помощью двух методов.**"
   ]
  },
  {
   "cell_type": "code",
   "execution_count": 13,
   "metadata": {
    "id": "55f78bc2"
   },
   "outputs": [
    {
     "name": "stdout",
     "output_type": "stream",
     "text": [
      "0\n"
     ]
    }
   ],
   "source": [
    "# ваш код здесь\n",
    "\n",
    "print(data['days_employed'].isna().sum())"
   ]
  },
  {
   "cell_type": "markdown",
   "metadata": {
    "deletable": false,
    "editable": false,
    "id": "ddc81e43"
   },
   "source": [
    "### Изменение типов данных"
   ]
  },
  {
   "cell_type": "markdown",
   "metadata": {
    "deletable": false,
    "editable": false,
    "id": "42d19d24",
    "tags": [
     "start_task"
    ]
   },
   "source": [
    "**Задание 13. Замените вещественный тип данных в столбце `total_income` на целочисленный с помощью метода `astype()`.**"
   ]
  },
  {
   "cell_type": "code",
   "execution_count": 14,
   "metadata": {
    "id": "920b65ad"
   },
   "outputs": [],
   "source": [
    "# ваш код здесь\n",
    "\n",
    "data['total_income'] = data['total_income'].astype('int')"
   ]
  },
  {
   "cell_type": "markdown",
   "metadata": {
    "deletable": false,
    "editable": false,
    "id": "80c420ba"
   },
   "source": [
    "### Обработка дубликатов"
   ]
  },
  {
   "cell_type": "markdown",
   "metadata": {
    "deletable": false,
    "editable": false,
    "id": "dc587695",
    "tags": [
     "start_task"
    ]
   },
   "source": [
    "**Задание 14. Обработайте неявные дубликаты в столбце `education`. В этом столбце есть одни и те же значения, но записанные по-разному: с использованием заглавных и строчных букв. Приведите их к нижнему регистру.**"
   ]
  },
  {
   "cell_type": "code",
   "execution_count": 15,
   "metadata": {
    "id": "a9f8e2bf"
   },
   "outputs": [],
   "source": [
    "# ваш код здесь\n",
    "\n",
    "data['education'] = data['education'].str.lower()"
   ]
  },
  {
   "cell_type": "markdown",
   "metadata": {
    "deletable": false,
    "editable": false,
    "id": "9771a76c",
    "tags": [
     "start_task"
    ]
   },
   "source": [
    "**Задание 15. Выведите на экран количество строк-дубликатов в данных. Если такие строки присутствуют, удалите их. Сбрасывать индексы после удаления строк дубликатов с помощью `reset_index(drop=True)` здесь не требуется.**"
   ]
  },
  {
   "cell_type": "code",
   "execution_count": 16,
   "metadata": {
    "id": "3ee445e4"
   },
   "outputs": [
    {
     "data": {
      "text/plain": [
       "21402"
      ]
     },
     "execution_count": 16,
     "metadata": {},
     "output_type": "execute_result"
    }
   ],
   "source": [
    "# посчитайте дубликаты\n",
    "\n",
    "data.duplicated().count()"
   ]
  },
  {
   "cell_type": "code",
   "execution_count": 17,
   "metadata": {
    "id": "8575fe05"
   },
   "outputs": [],
   "source": [
    "# удалите дубликаты\n",
    "\n",
    "data = data.drop_duplicates()"
   ]
  },
  {
   "cell_type": "markdown",
   "metadata": {
    "deletable": false,
    "editable": false,
    "id": "9904cf55"
   },
   "source": [
    "### Категоризация данных"
   ]
  },
  {
   "cell_type": "markdown",
   "metadata": {
    "deletable": false,
    "editable": false,
    "id": "72fcc8a2",
    "tags": [
     "start_task"
    ]
   },
   "source": [
    "**Задание 16. На основании диапазонов, указанных ниже, создайте в датафрейме `data` столбец `total_income_category` с категориями:**\n",
    "\n",
    "- 0–30000 — `'E'`;\n",
    "- 30001–50000 — `'D'`;\n",
    "- 50001–200000 — `'C'`;\n",
    "- 200001–1000000 — `'B'`;\n",
    "- 1000001 и выше — `'A'`.\n",
    "\n",
    "\n",
    "**Например, кредитополучателю с доходом 25000 нужно назначить категорию `'E'`, а клиенту, получающему 235000, — `'B'`. Используйте собственную функцию с именем `categorize_income()` и метод `apply()`.**"
   ]
  },
  {
   "cell_type": "code",
   "execution_count": 18,
   "metadata": {
    "id": "e1771346"
   },
   "outputs": [],
   "source": [
    "# создайте функцию categorize_income()\n",
    "\n",
    "def categorize_income(income):\n",
    "    if income <= 30000:\n",
    "        return \"E\"\n",
    "    if income <= 50000:\n",
    "        return \"D\"\n",
    "    if income <= 200000:\n",
    "        return \"C\"\n",
    "    if income <= 1000000:\n",
    "        return \"B\"\n",
    "    return \"A\""
   ]
  },
  {
   "cell_type": "code",
   "execution_count": 19,
   "metadata": {
    "id": "d5f3586d"
   },
   "outputs": [],
   "source": [
    "# примените функцию методом apply()\n",
    "\n",
    "data['total_income_category'] = data['total_income'].apply(categorize_income)"
   ]
  },
  {
   "cell_type": "markdown",
   "metadata": {
    "deletable": false,
    "editable": false,
    "id": "dde49b5c",
    "tags": [
     "start_task"
    ]
   },
   "source": [
    "**Задание 17. Выведите на экран перечень уникальных целей взятия кредита из столбца `purpose`.**"
   ]
  },
  {
   "cell_type": "code",
   "execution_count": 20,
   "metadata": {
    "id": "f67ce9b3"
   },
   "outputs": [
    {
     "name": "stdout",
     "output_type": "stream",
     "text": [
      "['покупка жилья' 'приобретение автомобиля' 'дополнительное образование'\n",
      " 'сыграть свадьбу' 'операции с жильем' 'образование'\n",
      " 'на проведение свадьбы' 'покупка жилья для семьи' 'покупка недвижимости'\n",
      " 'покупка коммерческой недвижимости' 'покупка жилой недвижимости'\n",
      " 'строительство собственной недвижимости' 'недвижимость'\n",
      " 'строительство недвижимости' 'на покупку подержанного автомобиля'\n",
      " 'на покупку своего автомобиля' 'операции с коммерческой недвижимостью'\n",
      " 'строительство жилой недвижимости' 'жилье'\n",
      " 'операции со своей недвижимостью' 'автомобили' 'заняться образованием'\n",
      " 'сделка с подержанным автомобилем' 'получение образования' 'автомобиль'\n",
      " 'свадьба' 'получение дополнительного образования' 'покупка своего жилья'\n",
      " 'операции с недвижимостью' 'получение высшего образования'\n",
      " 'свой автомобиль' 'сделка с автомобилем' 'профильное образование'\n",
      " 'высшее образование' 'покупка жилья для сдачи' 'на покупку автомобиля'\n",
      " 'ремонт жилью' 'заняться высшим образованием']\n"
     ]
    }
   ],
   "source": [
    "# ваш код здесь\n",
    "\n",
    "print(data['purpose'].unique())"
   ]
  },
  {
   "cell_type": "markdown",
   "metadata": {
    "deletable": false,
    "editable": false,
    "id": "85d0aef0",
    "tags": [
     "start_task"
    ]
   },
   "source": [
    "**Задание 18. Создайте функцию, которая на основании данных из столбца `purpose` сформирует новый столбец `purpose_category`, в который войдут следующие категории:**\n",
    "\n",
    "- `'операции с автомобилем'`,\n",
    "- `'операции с недвижимостью'`,\n",
    "- `'проведение свадьбы'`,\n",
    "- `'получение образования'`.\n",
    "\n",
    "**Например, если в столбце `purpose` находится подстрока `'на покупку автомобиля'`, то в столбце `purpose_category` должна появиться строка `'операции с автомобилем'`.**\n",
    "\n",
    "**Используйте собственную функцию с именем `categorize_purpose()` и метод `apply()`. Изучите данные в столбце `purpose` и определите, какие подстроки помогут вам правильно определить категорию.**"
   ]
  },
  {
   "cell_type": "code",
   "execution_count": 26,
   "metadata": {
    "id": "e149fab4"
   },
   "outputs": [],
   "source": [
    "# создайте функцию categorize_purpose()\n",
    "def categorize_purpose(row):\n",
    "    if 'авто' in row:\n",
    "        return 'операции с автомобилем'\n",
    "    if 'недв' in row:\n",
    "        return 'операции с недвижимостью'\n",
    "    if 'жил' in row:\n",
    "        return 'операции с недвижимостью'\n",
    "    if 'свад' in row:\n",
    "        return 'проведение свадьбы'\n",
    "    return 'получение образования'"
   ]
  },
  {
   "cell_type": "code",
   "execution_count": 27,
   "metadata": {},
   "outputs": [],
   "source": [
    "# примените функцию методом apply()\n",
    "\n",
    "data['purpose_category'] = data['purpose'].apply(categorize_purpose)\n"
   ]
  },
  {
   "cell_type": "code",
   "execution_count": null,
   "metadata": {},
   "outputs": [],
   "source": []
  }
 ],
 "metadata": {
  "ExecuteTimeLog": [
   {
    "duration": 393,
    "start_time": "2022-11-21T10:05:44.659Z"
   },
   {
    "duration": 302,
    "start_time": "2022-11-21T10:06:03.504Z"
   },
   {
    "duration": 19,
    "start_time": "2022-11-21T10:06:51.178Z"
   },
   {
    "duration": 20,
    "start_time": "2022-11-21T10:08:18.666Z"
   },
   {
    "duration": 16,
    "start_time": "2022-11-21T10:13:54.995Z"
   },
   {
    "duration": 49,
    "start_time": "2022-11-21T10:14:29.213Z"
   },
   {
    "duration": 49,
    "start_time": "2022-11-21T10:15:15.283Z"
   },
   {
    "duration": 70,
    "start_time": "2022-11-21T10:15:34.028Z"
   },
   {
    "duration": 52,
    "start_time": "2022-11-21T10:16:25.559Z"
   },
   {
    "duration": 55,
    "start_time": "2022-11-21T10:17:18.283Z"
   },
   {
    "duration": 84,
    "start_time": "2022-11-21T10:17:43.965Z"
   },
   {
    "duration": 49,
    "start_time": "2022-11-21T10:17:54.148Z"
   },
   {
    "duration": 32,
    "start_time": "2022-11-21T10:18:31.512Z"
   },
   {
    "duration": 34,
    "start_time": "2022-11-21T10:18:36.315Z"
   },
   {
    "duration": 24,
    "start_time": "2022-11-21T10:18:59.431Z"
   },
   {
    "duration": 10,
    "start_time": "2022-11-21T10:22:32.376Z"
   },
   {
    "duration": 60,
    "start_time": "2022-11-21T10:22:41.394Z"
   },
   {
    "duration": 11,
    "start_time": "2022-11-21T10:22:51.837Z"
   },
   {
    "duration": 13,
    "start_time": "2022-11-21T10:24:12.061Z"
   },
   {
    "duration": 18,
    "start_time": "2022-11-21T10:26:32.652Z"
   },
   {
    "duration": 10,
    "start_time": "2022-11-21T10:26:48.426Z"
   },
   {
    "duration": 385,
    "start_time": "2022-11-21T10:35:56.112Z"
   },
   {
    "duration": 72,
    "start_time": "2022-11-21T10:35:56.499Z"
   },
   {
    "duration": 20,
    "start_time": "2022-11-21T10:35:56.572Z"
   },
   {
    "duration": 18,
    "start_time": "2022-11-21T10:35:56.594Z"
   },
   {
    "duration": 22,
    "start_time": "2022-11-21T10:35:56.614Z"
   },
   {
    "duration": 21,
    "start_time": "2022-11-21T10:35:56.637Z"
   },
   {
    "duration": 39,
    "start_time": "2022-11-21T10:35:56.659Z"
   },
   {
    "duration": 13,
    "start_time": "2022-11-21T10:35:56.700Z"
   },
   {
    "duration": 17,
    "start_time": "2022-11-21T10:35:56.715Z"
   },
   {
    "duration": 8,
    "start_time": "2022-11-21T10:35:56.734Z"
   },
   {
    "duration": 16,
    "start_time": "2022-11-21T10:35:56.743Z"
   },
   {
    "duration": 14,
    "start_time": "2022-11-21T10:35:56.760Z"
   },
   {
    "duration": 18,
    "start_time": "2022-11-21T10:35:56.775Z"
   },
   {
    "duration": 18,
    "start_time": "2022-11-21T10:35:56.796Z"
   },
   {
    "duration": 16,
    "start_time": "2022-11-21T10:35:56.815Z"
   },
   {
    "duration": 19,
    "start_time": "2022-11-21T10:35:56.832Z"
   },
   {
    "duration": 5,
    "start_time": "2022-11-21T10:35:56.852Z"
   },
   {
    "duration": 26,
    "start_time": "2022-11-21T10:35:56.859Z"
   },
   {
    "duration": 23,
    "start_time": "2022-11-21T10:35:56.887Z"
   },
   {
    "duration": 16,
    "start_time": "2022-11-21T10:35:56.912Z"
   },
   {
    "duration": 16,
    "start_time": "2022-11-21T10:35:56.929Z"
   },
   {
    "duration": 6,
    "start_time": "2022-11-21T10:35:56.946Z"
   },
   {
    "duration": 71,
    "start_time": "2022-11-21T10:38:54.558Z"
   },
   {
    "duration": 5,
    "start_time": "2022-11-21T10:40:02.627Z"
   },
   {
    "duration": 9,
    "start_time": "2022-11-21T10:40:31.419Z"
   },
   {
    "duration": 10,
    "start_time": "2022-11-21T10:40:41.159Z"
   },
   {
    "duration": 15,
    "start_time": "2022-11-21T10:40:50.579Z"
   },
   {
    "duration": 14,
    "start_time": "2022-11-21T10:42:06.731Z"
   },
   {
    "duration": 13,
    "start_time": "2022-11-21T10:42:25.767Z"
   },
   {
    "duration": 16,
    "start_time": "2022-11-21T10:44:15.913Z"
   },
   {
    "duration": 6,
    "start_time": "2022-11-21T10:44:26.742Z"
   },
   {
    "duration": 6,
    "start_time": "2022-11-21T10:44:41.950Z"
   },
   {
    "duration": 10,
    "start_time": "2022-11-21T10:45:12.855Z"
   },
   {
    "duration": 375,
    "start_time": "2022-11-21T10:46:11.025Z"
   },
   {
    "duration": 75,
    "start_time": "2022-11-21T10:46:11.402Z"
   },
   {
    "duration": 21,
    "start_time": "2022-11-21T10:46:11.479Z"
   },
   {
    "duration": 14,
    "start_time": "2022-11-21T10:46:11.502Z"
   },
   {
    "duration": 9,
    "start_time": "2022-11-21T10:46:11.517Z"
   },
   {
    "duration": 17,
    "start_time": "2022-11-21T10:46:11.528Z"
   },
   {
    "duration": 3,
    "start_time": "2022-11-21T10:46:11.547Z"
   },
   {
    "duration": 5,
    "start_time": "2022-11-21T10:46:11.552Z"
   },
   {
    "duration": 9,
    "start_time": "2022-11-21T10:46:11.558Z"
   },
   {
    "duration": 32,
    "start_time": "2022-11-21T10:46:11.570Z"
   },
   {
    "duration": 14,
    "start_time": "2022-11-21T10:46:11.604Z"
   },
   {
    "duration": 10,
    "start_time": "2022-11-21T10:46:11.619Z"
   },
   {
    "duration": 6,
    "start_time": "2022-11-21T10:46:11.630Z"
   },
   {
    "duration": 17,
    "start_time": "2022-11-21T10:46:11.637Z"
   },
   {
    "duration": 9,
    "start_time": "2022-11-21T10:46:11.656Z"
   },
   {
    "duration": 9,
    "start_time": "2022-11-21T10:46:11.667Z"
   },
   {
    "duration": 6,
    "start_time": "2022-11-21T10:46:11.677Z"
   },
   {
    "duration": 5,
    "start_time": "2022-11-21T10:46:11.685Z"
   },
   {
    "duration": 5,
    "start_time": "2022-11-21T10:46:11.692Z"
   },
   {
    "duration": 5,
    "start_time": "2022-11-21T10:46:11.699Z"
   },
   {
    "duration": 6,
    "start_time": "2022-11-21T10:46:11.705Z"
   },
   {
    "duration": 5,
    "start_time": "2022-11-21T10:46:11.712Z"
   },
   {
    "duration": 7,
    "start_time": "2022-11-21T10:46:43.779Z"
   },
   {
    "duration": 13,
    "start_time": "2022-11-21T10:46:49.527Z"
   },
   {
    "duration": 14,
    "start_time": "2022-11-21T10:46:57.610Z"
   },
   {
    "duration": 10,
    "start_time": "2022-11-21T10:47:04.584Z"
   },
   {
    "duration": 9,
    "start_time": "2022-11-21T10:48:01.285Z"
   },
   {
    "duration": 9,
    "start_time": "2022-11-21T10:48:36.476Z"
   },
   {
    "duration": 7,
    "start_time": "2022-11-21T10:48:50.997Z"
   },
   {
    "duration": 9,
    "start_time": "2022-11-21T10:49:24.645Z"
   },
   {
    "duration": 14,
    "start_time": "2022-11-21T10:49:46.971Z"
   },
   {
    "duration": 11,
    "start_time": "2022-11-21T10:49:52.214Z"
   },
   {
    "duration": 6,
    "start_time": "2022-11-21T10:50:26.325Z"
   },
   {
    "duration": 6,
    "start_time": "2022-11-21T10:50:46.738Z"
   },
   {
    "duration": 14,
    "start_time": "2022-11-21T10:50:59.904Z"
   },
   {
    "duration": 11,
    "start_time": "2022-11-21T10:51:12.950Z"
   },
   {
    "duration": 4,
    "start_time": "2022-11-21T10:51:18.010Z"
   },
   {
    "duration": 75,
    "start_time": "2022-11-21T10:51:58.580Z"
   },
   {
    "duration": 9,
    "start_time": "2022-11-21T10:55:40.480Z"
   },
   {
    "duration": 402,
    "start_time": "2022-11-21T10:55:48.092Z"
   },
   {
    "duration": 833,
    "start_time": "2022-11-21T10:56:07.074Z"
   },
   {
    "duration": 43,
    "start_time": "2022-11-21T10:56:28.985Z"
   },
   {
    "duration": 7,
    "start_time": "2022-11-21T10:56:38.660Z"
   },
   {
    "duration": 7,
    "start_time": "2022-11-21T10:56:52.587Z"
   },
   {
    "duration": 7,
    "start_time": "2022-11-21T11:01:58.033Z"
   },
   {
    "duration": 15,
    "start_time": "2022-11-21T11:02:44.302Z"
   },
   {
    "duration": 363,
    "start_time": "2022-11-21T11:03:17.517Z"
   },
   {
    "duration": 94,
    "start_time": "2022-11-21T11:03:17.882Z"
   },
   {
    "duration": 27,
    "start_time": "2022-11-21T11:03:17.978Z"
   },
   {
    "duration": 17,
    "start_time": "2022-11-21T11:03:18.007Z"
   },
   {
    "duration": 10,
    "start_time": "2022-11-21T11:03:18.025Z"
   },
   {
    "duration": 11,
    "start_time": "2022-11-21T11:03:18.036Z"
   },
   {
    "duration": 3,
    "start_time": "2022-11-21T11:03:18.048Z"
   },
   {
    "duration": 11,
    "start_time": "2022-11-21T11:03:18.052Z"
   },
   {
    "duration": 34,
    "start_time": "2022-11-21T11:03:18.064Z"
   },
   {
    "duration": 7,
    "start_time": "2022-11-21T11:03:18.100Z"
   },
   {
    "duration": 7,
    "start_time": "2022-11-21T11:03:18.108Z"
   },
   {
    "duration": 14,
    "start_time": "2022-11-21T11:03:18.117Z"
   },
   {
    "duration": 6,
    "start_time": "2022-11-21T11:03:18.132Z"
   },
   {
    "duration": 5,
    "start_time": "2022-11-21T11:03:18.140Z"
   },
   {
    "duration": 7,
    "start_time": "2022-11-21T11:03:18.147Z"
   },
   {
    "duration": 6,
    "start_time": "2022-11-21T11:03:18.155Z"
   },
   {
    "duration": 6,
    "start_time": "2022-11-21T11:03:18.162Z"
   },
   {
    "duration": 12,
    "start_time": "2022-11-21T11:03:18.169Z"
   },
   {
    "duration": 6,
    "start_time": "2022-11-21T11:03:18.182Z"
   },
   {
    "duration": 7,
    "start_time": "2022-11-21T11:03:18.190Z"
   },
   {
    "duration": 5,
    "start_time": "2022-11-21T11:03:18.198Z"
   },
   {
    "duration": 8,
    "start_time": "2022-11-21T11:03:18.204Z"
   },
   {
    "duration": 10,
    "start_time": "2022-11-21T11:03:32.863Z"
   },
   {
    "duration": 10,
    "start_time": "2022-11-21T11:04:51.429Z"
   },
   {
    "duration": 7,
    "start_time": "2022-11-21T11:05:34.008Z"
   },
   {
    "duration": 586,
    "start_time": "2022-11-21T11:06:22.039Z"
   },
   {
    "duration": 5,
    "start_time": "2022-11-21T11:06:35.899Z"
   },
   {
    "duration": 409,
    "start_time": "2022-11-21T11:07:35.188Z"
   },
   {
    "duration": 76,
    "start_time": "2022-11-21T11:07:35.599Z"
   },
   {
    "duration": 25,
    "start_time": "2022-11-21T11:07:35.677Z"
   },
   {
    "duration": 30,
    "start_time": "2022-11-21T11:07:35.704Z"
   },
   {
    "duration": 41,
    "start_time": "2022-11-21T11:07:35.735Z"
   },
   {
    "duration": 56,
    "start_time": "2022-11-21T11:07:35.778Z"
   },
   {
    "duration": 65,
    "start_time": "2022-11-21T11:07:35.836Z"
   },
   {
    "duration": 46,
    "start_time": "2022-11-21T11:07:35.903Z"
   },
   {
    "duration": 43,
    "start_time": "2022-11-21T11:07:35.951Z"
   },
   {
    "duration": 31,
    "start_time": "2022-11-21T11:07:35.997Z"
   },
   {
    "duration": 38,
    "start_time": "2022-11-21T11:07:36.029Z"
   },
   {
    "duration": 32,
    "start_time": "2022-11-21T11:07:36.068Z"
   },
   {
    "duration": 29,
    "start_time": "2022-11-21T11:07:36.102Z"
   },
   {
    "duration": 33,
    "start_time": "2022-11-21T11:07:36.133Z"
   },
   {
    "duration": 34,
    "start_time": "2022-11-21T11:07:36.167Z"
   },
   {
    "duration": 47,
    "start_time": "2022-11-21T11:07:36.203Z"
   },
   {
    "duration": 33,
    "start_time": "2022-11-21T11:07:36.251Z"
   },
   {
    "duration": 37,
    "start_time": "2022-11-21T11:07:36.286Z"
   },
   {
    "duration": 23,
    "start_time": "2022-11-21T11:07:36.325Z"
   },
   {
    "duration": 46,
    "start_time": "2022-11-21T11:07:36.349Z"
   },
   {
    "duration": 34,
    "start_time": "2022-11-21T11:07:36.396Z"
   },
   {
    "duration": 30,
    "start_time": "2022-11-21T11:07:36.431Z"
   },
   {
    "duration": 5,
    "start_time": "2022-11-21T11:07:42.500Z"
   },
   {
    "duration": 62,
    "start_time": "2022-11-21T11:08:04.323Z"
   },
   {
    "duration": 4,
    "start_time": "2022-11-21T11:08:16.357Z"
   },
   {
    "duration": 47,
    "start_time": "2022-11-21T11:08:42.161Z"
   },
   {
    "duration": 42,
    "start_time": "2022-11-21T11:09:00.691Z"
   },
   {
    "duration": 6,
    "start_time": "2022-11-21T11:09:17.992Z"
   },
   {
    "duration": 382,
    "start_time": "2022-11-21T11:09:44.552Z"
   },
   {
    "duration": 72,
    "start_time": "2022-11-21T11:09:44.936Z"
   },
   {
    "duration": 20,
    "start_time": "2022-11-21T11:09:45.010Z"
   },
   {
    "duration": 19,
    "start_time": "2022-11-21T11:09:45.031Z"
   },
   {
    "duration": 9,
    "start_time": "2022-11-21T11:09:45.052Z"
   },
   {
    "duration": 8,
    "start_time": "2022-11-21T11:09:45.062Z"
   },
   {
    "duration": 9,
    "start_time": "2022-11-21T11:09:45.071Z"
   },
   {
    "duration": 2,
    "start_time": "2022-11-21T11:09:45.097Z"
   },
   {
    "duration": 10,
    "start_time": "2022-11-21T11:09:45.100Z"
   },
   {
    "duration": 9,
    "start_time": "2022-11-21T11:09:45.112Z"
   },
   {
    "duration": 8,
    "start_time": "2022-11-21T11:09:45.122Z"
   },
   {
    "duration": 7,
    "start_time": "2022-11-21T11:09:45.133Z"
   },
   {
    "duration": 5,
    "start_time": "2022-11-21T11:09:45.142Z"
   },
   {
    "duration": 5,
    "start_time": "2022-11-21T11:09:45.149Z"
   },
   {
    "duration": 5,
    "start_time": "2022-11-21T11:09:45.155Z"
   },
   {
    "duration": 7,
    "start_time": "2022-11-21T11:09:45.162Z"
   },
   {
    "duration": 5,
    "start_time": "2022-11-21T11:09:45.171Z"
   },
   {
    "duration": 6,
    "start_time": "2022-11-21T11:09:45.178Z"
   },
   {
    "duration": 12,
    "start_time": "2022-11-21T11:09:45.185Z"
   },
   {
    "duration": 5,
    "start_time": "2022-11-21T11:09:45.199Z"
   },
   {
    "duration": 7,
    "start_time": "2022-11-21T11:09:45.205Z"
   },
   {
    "duration": 6,
    "start_time": "2022-11-21T11:09:45.213Z"
   },
   {
    "duration": 9,
    "start_time": "2022-11-21T11:10:23.056Z"
   },
   {
    "duration": 10,
    "start_time": "2022-11-21T11:10:33.659Z"
   },
   {
    "duration": 6,
    "start_time": "2022-11-21T11:10:41.975Z"
   },
   {
    "duration": 8,
    "start_time": "2022-11-21T11:10:48.840Z"
   },
   {
    "duration": 64,
    "start_time": "2022-11-21T11:11:25.181Z"
   },
   {
    "duration": 9,
    "start_time": "2022-11-21T11:11:30.943Z"
   },
   {
    "duration": 13,
    "start_time": "2022-11-21T11:11:39.470Z"
   },
   {
    "duration": 9,
    "start_time": "2022-11-21T11:11:45.622Z"
   },
   {
    "duration": 12,
    "start_time": "2022-11-21T11:11:58.769Z"
   },
   {
    "duration": 21,
    "start_time": "2022-11-21T11:12:02.713Z"
   },
   {
    "duration": 6,
    "start_time": "2022-11-21T11:14:05.556Z"
   },
   {
    "duration": 8,
    "start_time": "2022-11-21T11:15:36.256Z"
   },
   {
    "duration": 10,
    "start_time": "2022-11-21T11:15:55.239Z"
   },
   {
    "duration": 5,
    "start_time": "2022-11-21T11:20:09.636Z"
   },
   {
    "duration": 6,
    "start_time": "2022-11-21T11:20:29.644Z"
   },
   {
    "duration": 5,
    "start_time": "2022-11-21T11:21:04.107Z"
   },
   {
    "duration": 23,
    "start_time": "2022-11-21T11:21:55.880Z"
   },
   {
    "duration": 7,
    "start_time": "2022-11-21T11:22:06.265Z"
   },
   {
    "duration": 14,
    "start_time": "2022-11-21T11:22:57.950Z"
   },
   {
    "duration": 14,
    "start_time": "2022-11-21T11:23:38.998Z"
   },
   {
    "duration": 15,
    "start_time": "2022-11-21T11:23:42.442Z"
   },
   {
    "duration": 7,
    "start_time": "2022-11-21T11:23:53.759Z"
   },
   {
    "duration": 13,
    "start_time": "2022-11-21T11:24:21.170Z"
   },
   {
    "duration": 9,
    "start_time": "2022-11-21T11:24:28.690Z"
   },
   {
    "duration": 5,
    "start_time": "2022-11-21T11:24:38.803Z"
   },
   {
    "duration": 8,
    "start_time": "2022-11-21T11:24:48.998Z"
   },
   {
    "duration": 9,
    "start_time": "2022-11-21T11:26:00.242Z"
   },
   {
    "duration": 6,
    "start_time": "2022-11-21T11:26:09.894Z"
   },
   {
    "duration": 10,
    "start_time": "2022-11-21T11:26:48.791Z"
   },
   {
    "duration": 9,
    "start_time": "2022-11-21T11:26:57.338Z"
   },
   {
    "duration": 7,
    "start_time": "2022-11-21T11:27:01.064Z"
   },
   {
    "duration": 409,
    "start_time": "2022-11-21T11:40:21.189Z"
   },
   {
    "duration": 71,
    "start_time": "2022-11-21T11:40:21.599Z"
   },
   {
    "duration": 20,
    "start_time": "2022-11-21T11:40:21.672Z"
   },
   {
    "duration": 14,
    "start_time": "2022-11-21T11:40:21.694Z"
   },
   {
    "duration": 9,
    "start_time": "2022-11-21T11:40:21.710Z"
   },
   {
    "duration": 11,
    "start_time": "2022-11-21T11:40:21.720Z"
   },
   {
    "duration": 20,
    "start_time": "2022-11-21T11:40:21.733Z"
   },
   {
    "duration": 9,
    "start_time": "2022-11-21T11:40:21.755Z"
   },
   {
    "duration": 17,
    "start_time": "2022-11-21T11:40:21.765Z"
   },
   {
    "duration": 12,
    "start_time": "2022-11-21T11:40:21.784Z"
   },
   {
    "duration": 21,
    "start_time": "2022-11-21T11:40:21.797Z"
   },
   {
    "duration": 10,
    "start_time": "2022-11-21T11:40:21.820Z"
   },
   {
    "duration": 9,
    "start_time": "2022-11-21T11:40:21.832Z"
   },
   {
    "duration": 9,
    "start_time": "2022-11-21T11:40:21.842Z"
   },
   {
    "duration": 20,
    "start_time": "2022-11-21T11:40:21.852Z"
   },
   {
    "duration": 16,
    "start_time": "2022-11-21T11:40:21.873Z"
   },
   {
    "duration": 7,
    "start_time": "2022-11-21T11:40:21.890Z"
   },
   {
    "duration": 5,
    "start_time": "2022-11-21T11:40:21.898Z"
   },
   {
    "duration": 6,
    "start_time": "2022-11-21T11:40:21.904Z"
   },
   {
    "duration": 20,
    "start_time": "2022-11-21T11:40:21.911Z"
   },
   {
    "duration": 12,
    "start_time": "2022-11-21T11:40:21.932Z"
   },
   {
    "duration": 6,
    "start_time": "2022-11-21T11:40:21.946Z"
   },
   {
    "duration": 7,
    "start_time": "2022-11-21T11:41:26.624Z"
   },
   {
    "duration": 70,
    "start_time": "2022-11-21T11:44:46.923Z"
   },
   {
    "duration": 423,
    "start_time": "2022-11-21T11:45:26.568Z"
   },
   {
    "duration": 76,
    "start_time": "2022-11-21T11:45:26.994Z"
   },
   {
    "duration": 21,
    "start_time": "2022-11-21T11:45:27.071Z"
   },
   {
    "duration": 23,
    "start_time": "2022-11-21T11:45:27.094Z"
   },
   {
    "duration": 22,
    "start_time": "2022-11-21T11:45:27.119Z"
   },
   {
    "duration": 70,
    "start_time": "2022-11-21T11:45:27.142Z"
   },
   {
    "duration": 0,
    "start_time": "2022-11-21T11:45:27.214Z"
   },
   {
    "duration": 0,
    "start_time": "2022-11-21T11:45:27.215Z"
   },
   {
    "duration": 0,
    "start_time": "2022-11-21T11:45:27.216Z"
   },
   {
    "duration": 0,
    "start_time": "2022-11-21T11:45:27.218Z"
   },
   {
    "duration": 0,
    "start_time": "2022-11-21T11:45:27.218Z"
   },
   {
    "duration": 0,
    "start_time": "2022-11-21T11:45:27.219Z"
   },
   {
    "duration": 1,
    "start_time": "2022-11-21T11:45:27.220Z"
   },
   {
    "duration": 0,
    "start_time": "2022-11-21T11:45:27.221Z"
   },
   {
    "duration": 0,
    "start_time": "2022-11-21T11:45:27.222Z"
   },
   {
    "duration": 0,
    "start_time": "2022-11-21T11:45:27.224Z"
   },
   {
    "duration": 0,
    "start_time": "2022-11-21T11:45:27.225Z"
   },
   {
    "duration": 0,
    "start_time": "2022-11-21T11:45:27.226Z"
   },
   {
    "duration": 0,
    "start_time": "2022-11-21T11:45:27.227Z"
   },
   {
    "duration": 0,
    "start_time": "2022-11-21T11:45:27.228Z"
   },
   {
    "duration": 0,
    "start_time": "2022-11-21T11:45:27.229Z"
   },
   {
    "duration": 0,
    "start_time": "2022-11-21T11:45:27.231Z"
   },
   {
    "duration": 49,
    "start_time": "2022-11-21T11:47:54.624Z"
   },
   {
    "duration": 22,
    "start_time": "2022-11-21T11:48:43.552Z"
   },
   {
    "duration": 31,
    "start_time": "2022-11-21T11:49:03.954Z"
   },
   {
    "duration": 33,
    "start_time": "2022-11-21T11:49:24.212Z"
   },
   {
    "duration": 32,
    "start_time": "2022-11-21T11:49:56.963Z"
   },
   {
    "duration": 32,
    "start_time": "2022-11-21T11:50:02.987Z"
   },
   {
    "duration": 39,
    "start_time": "2022-11-21T11:50:11.097Z"
   },
   {
    "duration": 22,
    "start_time": "2022-11-21T11:53:13.161Z"
   },
   {
    "duration": 25,
    "start_time": "2022-11-21T11:53:33.949Z"
   },
   {
    "duration": 389,
    "start_time": "2022-11-21T11:54:05.098Z"
   },
   {
    "duration": 77,
    "start_time": "2022-11-21T11:54:05.489Z"
   },
   {
    "duration": 27,
    "start_time": "2022-11-21T11:54:05.568Z"
   },
   {
    "duration": 20,
    "start_time": "2022-11-21T11:54:05.597Z"
   },
   {
    "duration": 14,
    "start_time": "2022-11-21T11:54:05.618Z"
   },
   {
    "duration": 133,
    "start_time": "2022-11-21T11:54:05.634Z"
   },
   {
    "duration": 0,
    "start_time": "2022-11-21T11:54:05.769Z"
   },
   {
    "duration": 0,
    "start_time": "2022-11-21T11:54:05.771Z"
   },
   {
    "duration": 0,
    "start_time": "2022-11-21T11:54:05.772Z"
   },
   {
    "duration": 0,
    "start_time": "2022-11-21T11:54:05.774Z"
   },
   {
    "duration": 0,
    "start_time": "2022-11-21T11:54:05.775Z"
   },
   {
    "duration": 0,
    "start_time": "2022-11-21T11:54:05.776Z"
   },
   {
    "duration": 0,
    "start_time": "2022-11-21T11:54:05.777Z"
   },
   {
    "duration": 0,
    "start_time": "2022-11-21T11:54:05.778Z"
   },
   {
    "duration": 0,
    "start_time": "2022-11-21T11:54:05.779Z"
   },
   {
    "duration": 0,
    "start_time": "2022-11-21T11:54:05.780Z"
   },
   {
    "duration": 0,
    "start_time": "2022-11-21T11:54:05.780Z"
   },
   {
    "duration": 0,
    "start_time": "2022-11-21T11:54:05.781Z"
   },
   {
    "duration": 0,
    "start_time": "2022-11-21T11:54:05.782Z"
   },
   {
    "duration": 0,
    "start_time": "2022-11-21T11:54:05.782Z"
   },
   {
    "duration": 0,
    "start_time": "2022-11-21T11:54:05.782Z"
   },
   {
    "duration": 0,
    "start_time": "2022-11-21T11:54:05.783Z"
   },
   {
    "duration": 21,
    "start_time": "2022-11-21T11:54:18.124Z"
   },
   {
    "duration": 27,
    "start_time": "2022-11-21T11:54:44.086Z"
   },
   {
    "duration": 22,
    "start_time": "2022-11-21T11:54:48.622Z"
   },
   {
    "duration": 22,
    "start_time": "2022-11-21T11:54:53.820Z"
   },
   {
    "duration": 22,
    "start_time": "2022-11-21T11:56:09.532Z"
   },
   {
    "duration": 351,
    "start_time": "2022-11-21T11:58:35.730Z"
   },
   {
    "duration": 5,
    "start_time": "2022-11-21T12:00:55.998Z"
   },
   {
    "duration": 8,
    "start_time": "2022-11-21T12:01:07.604Z"
   },
   {
    "duration": 10,
    "start_time": "2022-11-21T12:01:24.168Z"
   },
   {
    "duration": 7,
    "start_time": "2022-11-21T12:02:11.018Z"
   },
   {
    "duration": 4,
    "start_time": "2022-11-21T12:09:51.849Z"
   },
   {
    "duration": 5,
    "start_time": "2022-11-21T12:10:22.855Z"
   },
   {
    "duration": 9,
    "start_time": "2022-11-21T12:10:31.771Z"
   },
   {
    "duration": 14,
    "start_time": "2022-11-21T12:10:47.558Z"
   },
   {
    "duration": 15,
    "start_time": "2022-11-21T12:10:52.000Z"
   },
   {
    "duration": 360,
    "start_time": "2022-11-21T12:11:10.330Z"
   },
   {
    "duration": 75,
    "start_time": "2022-11-21T12:11:10.692Z"
   },
   {
    "duration": 20,
    "start_time": "2022-11-21T12:11:10.768Z"
   },
   {
    "duration": 19,
    "start_time": "2022-11-21T12:11:10.790Z"
   },
   {
    "duration": 17,
    "start_time": "2022-11-21T12:11:10.812Z"
   },
   {
    "duration": 7,
    "start_time": "2022-11-21T12:11:10.831Z"
   },
   {
    "duration": 8,
    "start_time": "2022-11-21T12:11:10.840Z"
   },
   {
    "duration": 5,
    "start_time": "2022-11-21T12:11:10.849Z"
   },
   {
    "duration": 5,
    "start_time": "2022-11-21T12:11:10.855Z"
   },
   {
    "duration": 6,
    "start_time": "2022-11-21T12:11:10.861Z"
   },
   {
    "duration": 5,
    "start_time": "2022-11-21T12:11:10.868Z"
   },
   {
    "duration": 10,
    "start_time": "2022-11-21T12:11:10.874Z"
   },
   {
    "duration": 5,
    "start_time": "2022-11-21T12:11:10.885Z"
   },
   {
    "duration": 7,
    "start_time": "2022-11-21T12:11:10.891Z"
   },
   {
    "duration": 11,
    "start_time": "2022-11-21T12:11:10.905Z"
   },
   {
    "duration": 6,
    "start_time": "2022-11-21T12:11:10.918Z"
   },
   {
    "duration": 5,
    "start_time": "2022-11-21T12:11:10.926Z"
   },
   {
    "duration": 6,
    "start_time": "2022-11-21T12:11:10.933Z"
   },
   {
    "duration": 11,
    "start_time": "2022-11-21T12:11:10.940Z"
   },
   {
    "duration": 9,
    "start_time": "2022-11-21T12:11:10.953Z"
   },
   {
    "duration": 12,
    "start_time": "2022-11-21T12:11:10.963Z"
   },
   {
    "duration": 8,
    "start_time": "2022-11-21T12:11:10.977Z"
   },
   {
    "duration": 354,
    "start_time": "2022-11-21T12:13:29.764Z"
   },
   {
    "duration": 75,
    "start_time": "2022-11-21T12:13:30.120Z"
   },
   {
    "duration": 30,
    "start_time": "2022-11-21T12:13:30.196Z"
   },
   {
    "duration": 26,
    "start_time": "2022-11-21T12:13:30.227Z"
   },
   {
    "duration": 33,
    "start_time": "2022-11-21T12:13:30.255Z"
   },
   {
    "duration": 37,
    "start_time": "2022-11-21T12:13:30.290Z"
   },
   {
    "duration": 29,
    "start_time": "2022-11-21T12:13:30.329Z"
   },
   {
    "duration": 36,
    "start_time": "2022-11-21T12:13:30.360Z"
   },
   {
    "duration": 41,
    "start_time": "2022-11-21T12:13:30.398Z"
   },
   {
    "duration": 31,
    "start_time": "2022-11-21T12:13:30.440Z"
   },
   {
    "duration": 33,
    "start_time": "2022-11-21T12:13:30.472Z"
   },
   {
    "duration": 23,
    "start_time": "2022-11-21T12:13:30.507Z"
   },
   {
    "duration": 42,
    "start_time": "2022-11-21T12:13:30.532Z"
   },
   {
    "duration": 47,
    "start_time": "2022-11-21T12:13:30.576Z"
   },
   {
    "duration": 36,
    "start_time": "2022-11-21T12:13:30.625Z"
   },
   {
    "duration": 50,
    "start_time": "2022-11-21T12:13:30.663Z"
   },
   {
    "duration": 74,
    "start_time": "2022-11-21T12:13:30.715Z"
   },
   {
    "duration": 43,
    "start_time": "2022-11-21T12:13:30.791Z"
   },
   {
    "duration": 41,
    "start_time": "2022-11-21T12:13:30.836Z"
   },
   {
    "duration": 51,
    "start_time": "2022-11-21T12:13:30.879Z"
   },
   {
    "duration": 40,
    "start_time": "2022-11-21T12:13:30.932Z"
   },
   {
    "duration": 57,
    "start_time": "2022-11-21T12:13:30.974Z"
   },
   {
    "duration": 395,
    "start_time": "2022-11-21T12:13:53.518Z"
   },
   {
    "duration": 100,
    "start_time": "2022-11-21T12:13:53.915Z"
   },
   {
    "duration": 22,
    "start_time": "2022-11-21T12:13:54.017Z"
   },
   {
    "duration": 14,
    "start_time": "2022-11-21T12:13:54.041Z"
   },
   {
    "duration": 9,
    "start_time": "2022-11-21T12:13:54.057Z"
   },
   {
    "duration": 3,
    "start_time": "2022-11-21T12:13:54.067Z"
   },
   {
    "duration": 9,
    "start_time": "2022-11-21T12:13:54.071Z"
   },
   {
    "duration": 32,
    "start_time": "2022-11-21T12:13:54.082Z"
   },
   {
    "duration": 5,
    "start_time": "2022-11-21T12:13:54.115Z"
   },
   {
    "duration": 4,
    "start_time": "2022-11-21T12:13:54.122Z"
   },
   {
    "duration": 4,
    "start_time": "2022-11-21T12:13:54.128Z"
   },
   {
    "duration": 5,
    "start_time": "2022-11-21T12:13:54.133Z"
   },
   {
    "duration": 5,
    "start_time": "2022-11-21T12:13:54.140Z"
   },
   {
    "duration": 5,
    "start_time": "2022-11-21T12:13:54.146Z"
   },
   {
    "duration": 5,
    "start_time": "2022-11-21T12:13:54.152Z"
   },
   {
    "duration": 6,
    "start_time": "2022-11-21T12:13:54.158Z"
   },
   {
    "duration": 6,
    "start_time": "2022-11-21T12:13:54.165Z"
   },
   {
    "duration": 5,
    "start_time": "2022-11-21T12:13:54.173Z"
   },
   {
    "duration": 5,
    "start_time": "2022-11-21T12:13:54.179Z"
   },
   {
    "duration": 24,
    "start_time": "2022-11-21T12:13:54.185Z"
   },
   {
    "duration": 4,
    "start_time": "2022-11-21T12:13:54.211Z"
   },
   {
    "duration": 5,
    "start_time": "2022-11-21T12:13:54.217Z"
   },
   {
    "duration": 42,
    "start_time": "2022-11-21T12:15:22.889Z"
   },
   {
    "duration": 424,
    "start_time": "2022-11-22T09:37:41.335Z"
   },
   {
    "duration": 390,
    "start_time": "2022-11-22T09:37:41.762Z"
   },
   {
    "duration": 33,
    "start_time": "2022-11-22T09:37:42.154Z"
   },
   {
    "duration": 25,
    "start_time": "2022-11-22T09:37:42.190Z"
   },
   {
    "duration": 23,
    "start_time": "2022-11-22T09:37:42.217Z"
   },
   {
    "duration": 52,
    "start_time": "2022-11-22T09:37:42.242Z"
   },
   {
    "duration": 3,
    "start_time": "2022-11-22T09:37:42.295Z"
   },
   {
    "duration": 10,
    "start_time": "2022-11-22T09:37:42.300Z"
   },
   {
    "duration": 9,
    "start_time": "2022-11-22T09:37:42.312Z"
   },
   {
    "duration": 14,
    "start_time": "2022-11-22T09:37:42.335Z"
   },
   {
    "duration": 6,
    "start_time": "2022-11-22T09:37:42.352Z"
   },
   {
    "duration": 5,
    "start_time": "2022-11-22T09:37:42.360Z"
   },
   {
    "duration": 7,
    "start_time": "2022-11-22T09:37:42.367Z"
   },
   {
    "duration": 36,
    "start_time": "2022-11-22T09:37:42.376Z"
   },
   {
    "duration": 35,
    "start_time": "2022-11-22T09:37:42.414Z"
   },
   {
    "duration": 28,
    "start_time": "2022-11-22T09:37:42.451Z"
   },
   {
    "duration": 22,
    "start_time": "2022-11-22T09:37:42.482Z"
   },
   {
    "duration": 46,
    "start_time": "2022-11-22T09:37:42.506Z"
   },
   {
    "duration": 30,
    "start_time": "2022-11-22T09:37:42.554Z"
   },
   {
    "duration": 28,
    "start_time": "2022-11-22T09:37:42.587Z"
   },
   {
    "duration": 15,
    "start_time": "2022-11-22T09:37:42.618Z"
   },
   {
    "duration": 26,
    "start_time": "2022-11-22T09:37:42.636Z"
   },
   {
    "duration": 4,
    "start_time": "2022-11-22T09:38:31.768Z"
   },
   {
    "duration": 7,
    "start_time": "2022-11-22T09:38:40.369Z"
   },
   {
    "duration": 56,
    "start_time": "2022-11-22T09:43:59.972Z"
   },
   {
    "duration": 5,
    "start_time": "2022-11-22T09:45:31.437Z"
   },
   {
    "duration": 5,
    "start_time": "2022-11-22T09:45:38.628Z"
   },
   {
    "duration": 407,
    "start_time": "2022-11-22T09:45:49.376Z"
   },
   {
    "duration": 97,
    "start_time": "2022-11-22T09:45:49.786Z"
   },
   {
    "duration": 24,
    "start_time": "2022-11-22T09:45:49.885Z"
   },
   {
    "duration": 28,
    "start_time": "2022-11-22T09:45:49.912Z"
   },
   {
    "duration": 17,
    "start_time": "2022-11-22T09:45:49.942Z"
   },
   {
    "duration": 58,
    "start_time": "2022-11-22T09:45:49.960Z"
   },
   {
    "duration": 7,
    "start_time": "2022-11-22T09:45:50.021Z"
   },
   {
    "duration": 42,
    "start_time": "2022-11-22T09:45:50.035Z"
   },
   {
    "duration": 12,
    "start_time": "2022-11-22T09:45:50.079Z"
   },
   {
    "duration": 18,
    "start_time": "2022-11-22T09:45:50.095Z"
   },
   {
    "duration": 28,
    "start_time": "2022-11-22T09:45:50.117Z"
   },
   {
    "duration": 21,
    "start_time": "2022-11-22T09:45:50.148Z"
   },
   {
    "duration": 15,
    "start_time": "2022-11-22T09:45:50.171Z"
   },
   {
    "duration": 23,
    "start_time": "2022-11-22T09:45:50.188Z"
   },
   {
    "duration": 15,
    "start_time": "2022-11-22T09:45:50.213Z"
   },
   {
    "duration": 25,
    "start_time": "2022-11-22T09:45:50.230Z"
   },
   {
    "duration": 42,
    "start_time": "2022-11-22T09:45:50.258Z"
   },
   {
    "duration": 23,
    "start_time": "2022-11-22T09:45:50.301Z"
   },
   {
    "duration": 27,
    "start_time": "2022-11-22T09:45:50.326Z"
   },
   {
    "duration": 32,
    "start_time": "2022-11-22T09:45:50.355Z"
   },
   {
    "duration": 20,
    "start_time": "2022-11-22T09:45:50.389Z"
   },
   {
    "duration": 33,
    "start_time": "2022-11-22T09:45:50.411Z"
   },
   {
    "duration": 8,
    "start_time": "2022-11-22T09:46:19.796Z"
   },
   {
    "duration": 6,
    "start_time": "2022-11-22T09:46:54.901Z"
   },
   {
    "duration": 10,
    "start_time": "2022-11-22T09:47:46.464Z"
   },
   {
    "duration": 7,
    "start_time": "2022-11-22T09:48:14.673Z"
   },
   {
    "duration": 53,
    "start_time": "2022-11-22T09:53:19.772Z"
   },
   {
    "duration": 8,
    "start_time": "2022-11-22T09:54:19.648Z"
   },
   {
    "duration": 6,
    "start_time": "2022-11-22T09:55:56.749Z"
   },
   {
    "duration": 6,
    "start_time": "2022-11-22T10:03:46.040Z"
   },
   {
    "duration": 4,
    "start_time": "2022-11-22T10:03:47.742Z"
   },
   {
    "duration": 5,
    "start_time": "2022-11-22T10:04:17.788Z"
   },
   {
    "duration": 5,
    "start_time": "2022-11-22T10:04:18.995Z"
   },
   {
    "duration": 374,
    "start_time": "2022-11-22T10:04:33.464Z"
   },
   {
    "duration": 73,
    "start_time": "2022-11-22T10:04:33.840Z"
   },
   {
    "duration": 21,
    "start_time": "2022-11-22T10:04:33.915Z"
   },
   {
    "duration": 16,
    "start_time": "2022-11-22T10:04:33.938Z"
   },
   {
    "duration": 19,
    "start_time": "2022-11-22T10:04:33.955Z"
   },
   {
    "duration": 51,
    "start_time": "2022-11-22T10:04:33.975Z"
   },
   {
    "duration": 14,
    "start_time": "2022-11-22T10:04:34.028Z"
   },
   {
    "duration": 16,
    "start_time": "2022-11-22T10:04:34.043Z"
   },
   {
    "duration": 15,
    "start_time": "2022-11-22T10:04:34.061Z"
   },
   {
    "duration": 17,
    "start_time": "2022-11-22T10:04:34.080Z"
   },
   {
    "duration": 15,
    "start_time": "2022-11-22T10:04:34.098Z"
   },
   {
    "duration": 10,
    "start_time": "2022-11-22T10:04:34.115Z"
   },
   {
    "duration": 8,
    "start_time": "2022-11-22T10:04:34.127Z"
   },
   {
    "duration": 5,
    "start_time": "2022-11-22T10:04:34.137Z"
   },
   {
    "duration": 14,
    "start_time": "2022-11-22T10:04:34.143Z"
   },
   {
    "duration": 11,
    "start_time": "2022-11-22T10:04:34.159Z"
   },
   {
    "duration": 14,
    "start_time": "2022-11-22T10:04:34.172Z"
   },
   {
    "duration": 13,
    "start_time": "2022-11-22T10:04:34.188Z"
   },
   {
    "duration": 6,
    "start_time": "2022-11-22T10:04:34.203Z"
   },
   {
    "duration": 14,
    "start_time": "2022-11-22T10:04:34.210Z"
   },
   {
    "duration": 21,
    "start_time": "2022-11-22T10:04:34.226Z"
   },
   {
    "duration": 36,
    "start_time": "2022-11-22T10:04:34.249Z"
   },
   {
    "duration": 435,
    "start_time": "2022-11-22T10:05:15.363Z"
   },
   {
    "duration": 78,
    "start_time": "2022-11-22T10:05:15.800Z"
   },
   {
    "duration": 25,
    "start_time": "2022-11-22T10:05:15.880Z"
   },
   {
    "duration": 32,
    "start_time": "2022-11-22T10:05:15.909Z"
   },
   {
    "duration": 11,
    "start_time": "2022-11-22T10:05:15.943Z"
   },
   {
    "duration": 39,
    "start_time": "2022-11-22T10:05:15.956Z"
   },
   {
    "duration": 6,
    "start_time": "2022-11-22T10:05:15.997Z"
   },
   {
    "duration": 38,
    "start_time": "2022-11-22T10:05:16.005Z"
   },
   {
    "duration": 12,
    "start_time": "2022-11-22T10:05:16.045Z"
   },
   {
    "duration": 23,
    "start_time": "2022-11-22T10:05:16.061Z"
   },
   {
    "duration": 6,
    "start_time": "2022-11-22T10:05:16.086Z"
   },
   {
    "duration": 16,
    "start_time": "2022-11-22T10:05:16.093Z"
   },
   {
    "duration": 12,
    "start_time": "2022-11-22T10:05:16.110Z"
   },
   {
    "duration": 3,
    "start_time": "2022-11-22T10:05:16.135Z"
   },
   {
    "duration": 23,
    "start_time": "2022-11-22T10:05:16.141Z"
   },
   {
    "duration": 13,
    "start_time": "2022-11-22T10:05:16.166Z"
   },
   {
    "duration": 11,
    "start_time": "2022-11-22T10:05:16.181Z"
   },
   {
    "duration": 13,
    "start_time": "2022-11-22T10:05:16.194Z"
   },
   {
    "duration": 21,
    "start_time": "2022-11-22T10:05:16.209Z"
   },
   {
    "duration": 30,
    "start_time": "2022-11-22T10:05:16.232Z"
   },
   {
    "duration": 21,
    "start_time": "2022-11-22T10:05:16.264Z"
   },
   {
    "duration": 9,
    "start_time": "2022-11-22T10:05:16.288Z"
   },
   {
    "duration": 400,
    "start_time": "2022-11-22T10:06:00.554Z"
   },
   {
    "duration": 72,
    "start_time": "2022-11-22T10:06:00.955Z"
   },
   {
    "duration": 21,
    "start_time": "2022-11-22T10:06:01.029Z"
   },
   {
    "duration": 30,
    "start_time": "2022-11-22T10:06:01.052Z"
   },
   {
    "duration": 33,
    "start_time": "2022-11-22T10:06:01.084Z"
   },
   {
    "duration": 51,
    "start_time": "2022-11-22T10:06:01.119Z"
   },
   {
    "duration": 14,
    "start_time": "2022-11-22T10:06:01.172Z"
   },
   {
    "duration": 40,
    "start_time": "2022-11-22T10:06:01.188Z"
   },
   {
    "duration": 22,
    "start_time": "2022-11-22T10:06:01.230Z"
   },
   {
    "duration": 41,
    "start_time": "2022-11-22T10:06:01.256Z"
   },
   {
    "duration": 32,
    "start_time": "2022-11-22T10:06:01.299Z"
   },
   {
    "duration": 38,
    "start_time": "2022-11-22T10:06:01.333Z"
   },
   {
    "duration": 31,
    "start_time": "2022-11-22T10:06:01.373Z"
   },
   {
    "duration": 25,
    "start_time": "2022-11-22T10:06:01.405Z"
   },
   {
    "duration": 31,
    "start_time": "2022-11-22T10:06:01.432Z"
   },
   {
    "duration": 30,
    "start_time": "2022-11-22T10:06:01.465Z"
   },
   {
    "duration": 23,
    "start_time": "2022-11-22T10:06:01.496Z"
   },
   {
    "duration": 27,
    "start_time": "2022-11-22T10:06:01.521Z"
   },
   {
    "duration": 55,
    "start_time": "2022-11-22T10:06:01.550Z"
   },
   {
    "duration": 63,
    "start_time": "2022-11-22T10:06:01.607Z"
   },
   {
    "duration": 55,
    "start_time": "2022-11-22T10:06:01.671Z"
   },
   {
    "duration": 50,
    "start_time": "2022-11-22T10:06:01.727Z"
   },
   {
    "duration": 472,
    "start_time": "2022-11-22T10:06:46.419Z"
   },
   {
    "duration": 98,
    "start_time": "2022-11-22T10:06:46.893Z"
   },
   {
    "duration": 24,
    "start_time": "2022-11-22T10:06:46.993Z"
   },
   {
    "duration": 63,
    "start_time": "2022-11-22T10:06:47.035Z"
   },
   {
    "duration": 73,
    "start_time": "2022-11-22T10:06:47.100Z"
   },
   {
    "duration": 96,
    "start_time": "2022-11-22T10:06:47.175Z"
   },
   {
    "duration": 20,
    "start_time": "2022-11-22T10:06:47.273Z"
   },
   {
    "duration": 80,
    "start_time": "2022-11-22T10:06:47.296Z"
   },
   {
    "duration": 56,
    "start_time": "2022-11-22T10:06:47.379Z"
   },
   {
    "duration": 148,
    "start_time": "2022-11-22T10:06:47.439Z"
   },
   {
    "duration": 0,
    "start_time": "2022-11-22T10:06:47.589Z"
   },
   {
    "duration": 0,
    "start_time": "2022-11-22T10:06:47.590Z"
   },
   {
    "duration": 0,
    "start_time": "2022-11-22T10:06:47.592Z"
   },
   {
    "duration": 0,
    "start_time": "2022-11-22T10:06:47.593Z"
   },
   {
    "duration": 0,
    "start_time": "2022-11-22T10:06:47.594Z"
   },
   {
    "duration": 0,
    "start_time": "2022-11-22T10:06:47.595Z"
   },
   {
    "duration": 0,
    "start_time": "2022-11-22T10:06:47.596Z"
   },
   {
    "duration": 0,
    "start_time": "2022-11-22T10:06:47.597Z"
   },
   {
    "duration": 0,
    "start_time": "2022-11-22T10:06:47.598Z"
   },
   {
    "duration": 0,
    "start_time": "2022-11-22T10:06:47.599Z"
   },
   {
    "duration": 0,
    "start_time": "2022-11-22T10:06:47.601Z"
   },
   {
    "duration": 0,
    "start_time": "2022-11-22T10:06:47.602Z"
   },
   {
    "duration": 4,
    "start_time": "2022-11-22T10:07:24.175Z"
   },
   {
    "duration": 4,
    "start_time": "2022-11-22T10:07:26.424Z"
   },
   {
    "duration": 361,
    "start_time": "2022-11-22T10:08:49.587Z"
   },
   {
    "duration": 82,
    "start_time": "2022-11-22T10:08:49.950Z"
   },
   {
    "duration": 32,
    "start_time": "2022-11-22T10:08:50.034Z"
   },
   {
    "duration": 18,
    "start_time": "2022-11-22T10:08:50.069Z"
   },
   {
    "duration": 22,
    "start_time": "2022-11-22T10:08:50.089Z"
   },
   {
    "duration": 61,
    "start_time": "2022-11-22T10:08:50.113Z"
   },
   {
    "duration": 5,
    "start_time": "2022-11-22T10:08:50.176Z"
   },
   {
    "duration": 19,
    "start_time": "2022-11-22T10:08:50.183Z"
   },
   {
    "duration": 24,
    "start_time": "2022-11-22T10:08:50.203Z"
   },
   {
    "duration": 11,
    "start_time": "2022-11-22T10:08:50.234Z"
   },
   {
    "duration": 15,
    "start_time": "2022-11-22T10:08:50.247Z"
   },
   {
    "duration": 16,
    "start_time": "2022-11-22T10:08:50.263Z"
   },
   {
    "duration": 11,
    "start_time": "2022-11-22T10:08:50.281Z"
   },
   {
    "duration": 12,
    "start_time": "2022-11-22T10:08:50.294Z"
   },
   {
    "duration": 9,
    "start_time": "2022-11-22T10:08:50.307Z"
   },
   {
    "duration": 11,
    "start_time": "2022-11-22T10:08:50.317Z"
   },
   {
    "duration": 17,
    "start_time": "2022-11-22T10:08:50.330Z"
   },
   {
    "duration": 23,
    "start_time": "2022-11-22T10:08:50.348Z"
   },
   {
    "duration": 29,
    "start_time": "2022-11-22T10:08:50.373Z"
   },
   {
    "duration": 20,
    "start_time": "2022-11-22T10:08:50.403Z"
   },
   {
    "duration": 27,
    "start_time": "2022-11-22T10:08:50.425Z"
   },
   {
    "duration": 27,
    "start_time": "2022-11-22T10:08:50.454Z"
   },
   {
    "duration": 8,
    "start_time": "2022-11-22T10:09:31.241Z"
   },
   {
    "duration": 6,
    "start_time": "2022-11-22T10:10:23.209Z"
   },
   {
    "duration": 4,
    "start_time": "2022-11-22T10:10:32.119Z"
   },
   {
    "duration": 430,
    "start_time": "2022-11-22T10:10:37.720Z"
   },
   {
    "duration": 72,
    "start_time": "2022-11-22T10:10:38.152Z"
   },
   {
    "duration": 30,
    "start_time": "2022-11-22T10:10:38.226Z"
   },
   {
    "duration": 15,
    "start_time": "2022-11-22T10:10:38.259Z"
   },
   {
    "duration": 23,
    "start_time": "2022-11-22T10:10:38.275Z"
   },
   {
    "duration": 48,
    "start_time": "2022-11-22T10:10:38.300Z"
   },
   {
    "duration": 5,
    "start_time": "2022-11-22T10:10:38.349Z"
   },
   {
    "duration": 20,
    "start_time": "2022-11-22T10:10:38.356Z"
   },
   {
    "duration": 8,
    "start_time": "2022-11-22T10:10:38.378Z"
   },
   {
    "duration": 23,
    "start_time": "2022-11-22T10:10:38.390Z"
   },
   {
    "duration": 8,
    "start_time": "2022-11-22T10:10:38.415Z"
   },
   {
    "duration": 19,
    "start_time": "2022-11-22T10:10:38.424Z"
   },
   {
    "duration": 13,
    "start_time": "2022-11-22T10:10:38.445Z"
   },
   {
    "duration": 9,
    "start_time": "2022-11-22T10:10:38.461Z"
   },
   {
    "duration": 15,
    "start_time": "2022-11-22T10:10:38.472Z"
   },
   {
    "duration": 11,
    "start_time": "2022-11-22T10:10:38.489Z"
   },
   {
    "duration": 8,
    "start_time": "2022-11-22T10:10:38.502Z"
   },
   {
    "duration": 13,
    "start_time": "2022-11-22T10:10:38.512Z"
   },
   {
    "duration": 22,
    "start_time": "2022-11-22T10:10:38.527Z"
   },
   {
    "duration": 33,
    "start_time": "2022-11-22T10:10:38.551Z"
   },
   {
    "duration": 6,
    "start_time": "2022-11-22T10:10:38.587Z"
   },
   {
    "duration": 10,
    "start_time": "2022-11-22T10:10:38.595Z"
   },
   {
    "duration": 5,
    "start_time": "2022-11-22T10:12:17.373Z"
   },
   {
    "duration": 4,
    "start_time": "2022-11-22T10:12:18.574Z"
   },
   {
    "duration": 4,
    "start_time": "2022-11-22T10:12:40.719Z"
   },
   {
    "duration": 4,
    "start_time": "2022-11-22T10:12:41.609Z"
   },
   {
    "duration": 364,
    "start_time": "2022-11-22T10:12:49.683Z"
   },
   {
    "duration": 72,
    "start_time": "2022-11-22T10:12:50.049Z"
   },
   {
    "duration": 22,
    "start_time": "2022-11-22T10:12:50.123Z"
   },
   {
    "duration": 23,
    "start_time": "2022-11-22T10:12:50.147Z"
   },
   {
    "duration": 15,
    "start_time": "2022-11-22T10:12:50.171Z"
   },
   {
    "duration": 57,
    "start_time": "2022-11-22T10:12:50.187Z"
   },
   {
    "duration": 28,
    "start_time": "2022-11-22T10:12:50.246Z"
   },
   {
    "duration": 38,
    "start_time": "2022-11-22T10:12:50.276Z"
   },
   {
    "duration": 30,
    "start_time": "2022-11-22T10:12:50.316Z"
   },
   {
    "duration": 25,
    "start_time": "2022-11-22T10:12:50.350Z"
   },
   {
    "duration": 31,
    "start_time": "2022-11-22T10:12:50.376Z"
   },
   {
    "duration": 24,
    "start_time": "2022-11-22T10:12:50.409Z"
   },
   {
    "duration": 27,
    "start_time": "2022-11-22T10:12:50.434Z"
   },
   {
    "duration": 37,
    "start_time": "2022-11-22T10:12:50.463Z"
   },
   {
    "duration": 23,
    "start_time": "2022-11-22T10:12:50.502Z"
   },
   {
    "duration": 27,
    "start_time": "2022-11-22T10:12:50.534Z"
   },
   {
    "duration": 15,
    "start_time": "2022-11-22T10:12:50.563Z"
   },
   {
    "duration": 30,
    "start_time": "2022-11-22T10:12:50.580Z"
   },
   {
    "duration": 41,
    "start_time": "2022-11-22T10:12:50.613Z"
   },
   {
    "duration": 40,
    "start_time": "2022-11-22T10:12:50.657Z"
   },
   {
    "duration": 17,
    "start_time": "2022-11-22T10:12:50.699Z"
   },
   {
    "duration": 27,
    "start_time": "2022-11-22T10:12:50.718Z"
   },
   {
    "duration": 39,
    "start_time": "2022-11-22T10:18:51.933Z"
   },
   {
    "duration": 3,
    "start_time": "2022-11-22T10:20:11.558Z"
   },
   {
    "duration": 5,
    "start_time": "2022-11-22T10:23:16.354Z"
   },
   {
    "duration": 7,
    "start_time": "2022-11-22T10:25:09.629Z"
   },
   {
    "duration": 6,
    "start_time": "2022-11-22T10:25:22.479Z"
   },
   {
    "duration": 71,
    "start_time": "2022-11-22T10:27:06.363Z"
   },
   {
    "duration": 5,
    "start_time": "2022-11-22T10:27:21.767Z"
   },
   {
    "duration": 15,
    "start_time": "2022-11-22T10:27:57.134Z"
   },
   {
    "duration": 396,
    "start_time": "2022-11-22T10:28:54.654Z"
   },
   {
    "duration": 74,
    "start_time": "2022-11-22T10:28:55.052Z"
   },
   {
    "duration": 23,
    "start_time": "2022-11-22T10:28:55.128Z"
   },
   {
    "duration": 16,
    "start_time": "2022-11-22T10:28:55.153Z"
   },
   {
    "duration": 11,
    "start_time": "2022-11-22T10:28:55.170Z"
   },
   {
    "duration": 58,
    "start_time": "2022-11-22T10:28:55.183Z"
   },
   {
    "duration": 6,
    "start_time": "2022-11-22T10:28:55.242Z"
   },
   {
    "duration": 8,
    "start_time": "2022-11-22T10:28:55.249Z"
   },
   {
    "duration": 8,
    "start_time": "2022-11-22T10:28:55.258Z"
   },
   {
    "duration": 14,
    "start_time": "2022-11-22T10:28:55.269Z"
   },
   {
    "duration": 6,
    "start_time": "2022-11-22T10:28:55.284Z"
   },
   {
    "duration": 56,
    "start_time": "2022-11-22T10:28:55.292Z"
   },
   {
    "duration": 4,
    "start_time": "2022-11-22T10:28:55.350Z"
   },
   {
    "duration": 11,
    "start_time": "2022-11-22T10:28:55.356Z"
   },
   {
    "duration": 16,
    "start_time": "2022-11-22T10:28:55.369Z"
   },
   {
    "duration": 10,
    "start_time": "2022-11-22T10:28:55.386Z"
   },
   {
    "duration": 8,
    "start_time": "2022-11-22T10:28:55.397Z"
   },
   {
    "duration": 8,
    "start_time": "2022-11-22T10:28:55.406Z"
   },
   {
    "duration": 6,
    "start_time": "2022-11-22T10:28:55.416Z"
   },
   {
    "duration": 11,
    "start_time": "2022-11-22T10:28:55.424Z"
   },
   {
    "duration": 6,
    "start_time": "2022-11-22T10:28:55.436Z"
   },
   {
    "duration": 8,
    "start_time": "2022-11-22T10:28:55.443Z"
   },
   {
    "duration": 13,
    "start_time": "2022-11-22T10:29:22.736Z"
   },
   {
    "duration": 21,
    "start_time": "2022-11-22T10:31:44.798Z"
   },
   {
    "duration": 66,
    "start_time": "2022-11-22T10:32:32.993Z"
   },
   {
    "duration": 28,
    "start_time": "2022-11-22T10:32:40.627Z"
   },
   {
    "duration": 38,
    "start_time": "2022-11-22T10:33:16.773Z"
   },
   {
    "duration": 20,
    "start_time": "2022-11-22T10:33:27.189Z"
   },
   {
    "duration": 4,
    "start_time": "2022-11-22T10:43:52.577Z"
   },
   {
    "duration": 12,
    "start_time": "2022-11-22T10:45:40.595Z"
   },
   {
    "duration": 5,
    "start_time": "2022-11-22T10:47:16.809Z"
   },
   {
    "duration": 6,
    "start_time": "2022-11-22T10:55:57.009Z"
   },
   {
    "duration": 14,
    "start_time": "2022-11-22T10:56:09.184Z"
   },
   {
    "duration": 364,
    "start_time": "2022-11-22T11:09:28.575Z"
   },
   {
    "duration": 72,
    "start_time": "2022-11-22T11:09:28.941Z"
   },
   {
    "duration": 22,
    "start_time": "2022-11-22T11:09:29.015Z"
   },
   {
    "duration": 14,
    "start_time": "2022-11-22T11:09:29.039Z"
   },
   {
    "duration": 9,
    "start_time": "2022-11-22T11:09:29.055Z"
   },
   {
    "duration": 35,
    "start_time": "2022-11-22T11:09:29.066Z"
   },
   {
    "duration": 6,
    "start_time": "2022-11-22T11:09:29.102Z"
   },
   {
    "duration": 11,
    "start_time": "2022-11-22T11:09:29.136Z"
   },
   {
    "duration": 7,
    "start_time": "2022-11-22T11:09:29.149Z"
   },
   {
    "duration": 7,
    "start_time": "2022-11-22T11:09:29.159Z"
   },
   {
    "duration": 6,
    "start_time": "2022-11-22T11:09:29.168Z"
   },
   {
    "duration": 60,
    "start_time": "2022-11-22T11:09:29.176Z"
   },
   {
    "duration": 3,
    "start_time": "2022-11-22T11:09:29.238Z"
   },
   {
    "duration": 13,
    "start_time": "2022-11-22T11:09:29.243Z"
   },
   {
    "duration": 12,
    "start_time": "2022-11-22T11:09:29.257Z"
   },
   {
    "duration": 24,
    "start_time": "2022-11-22T11:09:29.271Z"
   },
   {
    "duration": 15,
    "start_time": "2022-11-22T11:09:29.297Z"
   },
   {
    "duration": 3,
    "start_time": "2022-11-22T11:09:29.314Z"
   },
   {
    "duration": 9,
    "start_time": "2022-11-22T11:09:29.335Z"
   },
   {
    "duration": 12,
    "start_time": "2022-11-22T11:09:29.345Z"
   },
   {
    "duration": 47,
    "start_time": "2022-11-22T11:09:29.359Z"
   },
   {
    "duration": 0,
    "start_time": "2022-11-22T11:09:29.407Z"
   },
   {
    "duration": 13,
    "start_time": "2022-11-22T11:12:30.582Z"
   },
   {
    "duration": 5,
    "start_time": "2022-11-22T11:13:53.770Z"
   },
   {
    "duration": 61,
    "start_time": "2022-11-22T11:18:40.593Z"
   },
   {
    "duration": 11,
    "start_time": "2022-11-22T11:19:07.638Z"
   },
   {
    "duration": 10,
    "start_time": "2022-11-22T11:19:13.947Z"
   },
   {
    "duration": 14,
    "start_time": "2022-11-22T11:19:49.263Z"
   },
   {
    "duration": 17,
    "start_time": "2022-11-22T11:20:04.642Z"
   },
   {
    "duration": 9,
    "start_time": "2022-11-22T11:22:57.870Z"
   },
   {
    "duration": 6,
    "start_time": "2022-11-22T11:23:08.614Z"
   },
   {
    "duration": 7,
    "start_time": "2022-11-22T11:23:12.944Z"
   },
   {
    "duration": 4,
    "start_time": "2022-11-22T11:25:31.009Z"
   },
   {
    "duration": 12,
    "start_time": "2022-11-22T11:25:55.506Z"
   },
   {
    "duration": 11,
    "start_time": "2022-11-22T11:26:03.920Z"
   },
   {
    "duration": 6,
    "start_time": "2022-11-22T11:28:33.662Z"
   },
   {
    "duration": 9,
    "start_time": "2022-11-22T12:04:08.809Z"
   },
   {
    "duration": 232,
    "start_time": "2022-11-22T12:04:15.702Z"
   },
   {
    "duration": 596,
    "start_time": "2022-11-22T12:07:27.538Z"
   },
   {
    "duration": 3,
    "start_time": "2022-11-22T12:11:56.469Z"
   },
   {
    "duration": 6,
    "start_time": "2022-11-22T12:13:34.628Z"
   },
   {
    "duration": 7,
    "start_time": "2022-11-22T12:13:55.773Z"
   },
   {
    "duration": 5,
    "start_time": "2022-11-22T12:14:52.339Z"
   },
   {
    "duration": 8,
    "start_time": "2022-11-22T12:16:50.512Z"
   },
   {
    "duration": 11,
    "start_time": "2022-11-22T12:18:26.175Z"
   },
   {
    "duration": 10,
    "start_time": "2022-11-22T12:18:38.460Z"
   },
   {
    "duration": 57,
    "start_time": "2022-11-22T12:19:01.989Z"
   },
   {
    "duration": 6,
    "start_time": "2022-11-22T12:19:04.396Z"
   },
   {
    "duration": 374,
    "start_time": "2022-11-22T12:19:11.264Z"
   },
   {
    "duration": 75,
    "start_time": "2022-11-22T12:19:11.640Z"
   },
   {
    "duration": 21,
    "start_time": "2022-11-22T12:19:11.717Z"
   },
   {
    "duration": 29,
    "start_time": "2022-11-22T12:19:11.740Z"
   },
   {
    "duration": 9,
    "start_time": "2022-11-22T12:19:11.771Z"
   },
   {
    "duration": 34,
    "start_time": "2022-11-22T12:19:11.781Z"
   },
   {
    "duration": 5,
    "start_time": "2022-11-22T12:19:11.816Z"
   },
   {
    "duration": 15,
    "start_time": "2022-11-22T12:19:11.823Z"
   },
   {
    "duration": 15,
    "start_time": "2022-11-22T12:19:11.840Z"
   },
   {
    "duration": 8,
    "start_time": "2022-11-22T12:19:11.858Z"
   },
   {
    "duration": 5,
    "start_time": "2022-11-22T12:19:11.868Z"
   },
   {
    "duration": 42,
    "start_time": "2022-11-22T12:19:11.875Z"
   },
   {
    "duration": 3,
    "start_time": "2022-11-22T12:19:11.918Z"
   },
   {
    "duration": 18,
    "start_time": "2022-11-22T12:19:11.923Z"
   },
   {
    "duration": 14,
    "start_time": "2022-11-22T12:19:11.942Z"
   },
   {
    "duration": 17,
    "start_time": "2022-11-22T12:19:11.958Z"
   },
   {
    "duration": 43,
    "start_time": "2022-11-22T12:19:11.977Z"
   },
   {
    "duration": 9,
    "start_time": "2022-11-22T12:19:12.022Z"
   },
   {
    "duration": 19,
    "start_time": "2022-11-22T12:19:12.033Z"
   },
   {
    "duration": 10,
    "start_time": "2022-11-22T12:19:12.053Z"
   },
   {
    "duration": 65,
    "start_time": "2022-11-22T12:19:12.065Z"
   },
   {
    "duration": 0,
    "start_time": "2022-11-22T12:19:12.131Z"
   },
   {
    "duration": 0,
    "start_time": "2022-11-22T12:19:12.133Z"
   },
   {
    "duration": 5,
    "start_time": "2022-11-22T12:19:25.503Z"
   },
   {
    "duration": 10,
    "start_time": "2022-11-22T12:19:27.515Z"
   },
   {
    "duration": 6,
    "start_time": "2022-11-22T12:20:16.377Z"
   },
   {
    "duration": 6,
    "start_time": "2022-11-22T12:20:30.619Z"
   },
   {
    "duration": 8,
    "start_time": "2022-11-22T12:21:09.262Z"
   },
   {
    "duration": 19,
    "start_time": "2022-11-22T12:21:48.932Z"
   },
   {
    "duration": 12,
    "start_time": "2022-11-22T12:21:56.951Z"
   },
   {
    "duration": 7,
    "start_time": "2022-11-22T12:24:55.688Z"
   },
   {
    "duration": 392,
    "start_time": "2022-11-22T12:25:10.202Z"
   },
   {
    "duration": 72,
    "start_time": "2022-11-22T12:25:10.596Z"
   },
   {
    "duration": 21,
    "start_time": "2022-11-22T12:25:10.670Z"
   },
   {
    "duration": 18,
    "start_time": "2022-11-22T12:25:10.693Z"
   },
   {
    "duration": 23,
    "start_time": "2022-11-22T12:25:10.713Z"
   },
   {
    "duration": 33,
    "start_time": "2022-11-22T12:25:10.737Z"
   },
   {
    "duration": 4,
    "start_time": "2022-11-22T12:25:10.772Z"
   },
   {
    "duration": 8,
    "start_time": "2022-11-22T12:25:10.778Z"
   },
   {
    "duration": 5,
    "start_time": "2022-11-22T12:25:10.788Z"
   },
   {
    "duration": 7,
    "start_time": "2022-11-22T12:25:10.796Z"
   },
   {
    "duration": 32,
    "start_time": "2022-11-22T12:25:10.804Z"
   },
   {
    "duration": 54,
    "start_time": "2022-11-22T12:25:10.838Z"
   },
   {
    "duration": 3,
    "start_time": "2022-11-22T12:25:10.893Z"
   },
   {
    "duration": 8,
    "start_time": "2022-11-22T12:25:10.898Z"
   },
   {
    "duration": 14,
    "start_time": "2022-11-22T12:25:10.908Z"
   },
   {
    "duration": 23,
    "start_time": "2022-11-22T12:25:10.924Z"
   },
   {
    "duration": 15,
    "start_time": "2022-11-22T12:25:10.949Z"
   },
   {
    "duration": 3,
    "start_time": "2022-11-22T12:25:10.966Z"
   },
   {
    "duration": 11,
    "start_time": "2022-11-22T12:25:10.970Z"
   },
   {
    "duration": 4,
    "start_time": "2022-11-22T12:25:10.983Z"
   },
   {
    "duration": 2,
    "start_time": "2022-11-22T12:25:10.989Z"
   },
   {
    "duration": 8,
    "start_time": "2022-11-22T12:25:10.993Z"
   },
   {
    "duration": 36,
    "start_time": "2022-11-22T12:25:11.002Z"
   },
   {
    "duration": 50,
    "start_time": "2022-11-22T12:25:11.039Z"
   },
   {
    "duration": 0,
    "start_time": "2022-11-22T12:25:11.091Z"
   },
   {
    "duration": 19,
    "start_time": "2022-11-22T12:25:20.469Z"
   },
   {
    "duration": 353,
    "start_time": "2022-11-22T12:26:43.283Z"
   },
   {
    "duration": 73,
    "start_time": "2022-11-22T12:26:43.638Z"
   },
   {
    "duration": 20,
    "start_time": "2022-11-22T12:26:43.713Z"
   },
   {
    "duration": 16,
    "start_time": "2022-11-22T12:26:43.736Z"
   },
   {
    "duration": 10,
    "start_time": "2022-11-22T12:26:43.754Z"
   },
   {
    "duration": 36,
    "start_time": "2022-11-22T12:26:43.765Z"
   },
   {
    "duration": 5,
    "start_time": "2022-11-22T12:26:43.802Z"
   },
   {
    "duration": 7,
    "start_time": "2022-11-22T12:26:43.835Z"
   },
   {
    "duration": 8,
    "start_time": "2022-11-22T12:26:43.843Z"
   },
   {
    "duration": 10,
    "start_time": "2022-11-22T12:26:43.854Z"
   },
   {
    "duration": 3,
    "start_time": "2022-11-22T12:26:43.866Z"
   },
   {
    "duration": 44,
    "start_time": "2022-11-22T12:26:43.870Z"
   },
   {
    "duration": 3,
    "start_time": "2022-11-22T12:26:43.915Z"
   },
   {
    "duration": 17,
    "start_time": "2022-11-22T12:26:43.920Z"
   },
   {
    "duration": 23,
    "start_time": "2022-11-22T12:26:43.939Z"
   },
   {
    "duration": 26,
    "start_time": "2022-11-22T12:26:43.963Z"
   },
   {
    "duration": 19,
    "start_time": "2022-11-22T12:26:43.990Z"
   },
   {
    "duration": 3,
    "start_time": "2022-11-22T12:26:44.011Z"
   },
   {
    "duration": 21,
    "start_time": "2022-11-22T12:26:44.015Z"
   },
   {
    "duration": 7,
    "start_time": "2022-11-22T12:26:44.038Z"
   },
   {
    "duration": 6,
    "start_time": "2022-11-22T12:26:44.047Z"
   },
   {
    "duration": 23,
    "start_time": "2022-11-22T12:26:44.054Z"
   },
   {
    "duration": 16,
    "start_time": "2022-11-22T12:26:44.078Z"
   },
   {
    "duration": 22,
    "start_time": "2022-11-22T12:26:44.095Z"
   },
   {
    "duration": 18,
    "start_time": "2022-11-22T12:26:44.119Z"
   },
   {
    "duration": 7,
    "start_time": "2022-11-22T12:29:49.413Z"
   },
   {
    "duration": 442,
    "start_time": "2022-11-23T09:22:26.895Z"
   },
   {
    "duration": 155,
    "start_time": "2022-11-23T09:22:27.339Z"
   },
   {
    "duration": 21,
    "start_time": "2022-11-23T09:22:27.495Z"
   },
   {
    "duration": 14,
    "start_time": "2022-11-23T09:22:27.518Z"
   },
   {
    "duration": 9,
    "start_time": "2022-11-23T09:22:27.534Z"
   },
   {
    "duration": 46,
    "start_time": "2022-11-23T09:22:27.544Z"
   },
   {
    "duration": 8,
    "start_time": "2022-11-23T09:22:27.591Z"
   },
   {
    "duration": 10,
    "start_time": "2022-11-23T09:22:27.600Z"
   },
   {
    "duration": 4,
    "start_time": "2022-11-23T09:22:27.612Z"
   },
   {
    "duration": 7,
    "start_time": "2022-11-23T09:22:27.621Z"
   },
   {
    "duration": 10,
    "start_time": "2022-11-23T09:22:27.630Z"
   },
   {
    "duration": 75,
    "start_time": "2022-11-23T09:22:27.641Z"
   },
   {
    "duration": 4,
    "start_time": "2022-11-23T09:22:27.718Z"
   },
   {
    "duration": 6,
    "start_time": "2022-11-23T09:22:27.724Z"
   },
   {
    "duration": 14,
    "start_time": "2022-11-23T09:22:27.731Z"
   },
   {
    "duration": 38,
    "start_time": "2022-11-23T09:22:27.747Z"
   },
   {
    "duration": 16,
    "start_time": "2022-11-23T09:22:27.795Z"
   },
   {
    "duration": 4,
    "start_time": "2022-11-23T09:22:27.812Z"
   },
   {
    "duration": 11,
    "start_time": "2022-11-23T09:22:27.817Z"
   },
   {
    "duration": 12,
    "start_time": "2022-11-23T09:22:27.829Z"
   },
   {
    "duration": 75,
    "start_time": "2022-11-23T09:22:27.843Z"
   },
   {
    "duration": 0,
    "start_time": "2022-11-23T09:22:27.920Z"
   },
   {
    "duration": 6,
    "start_time": "2022-11-23T09:23:45.344Z"
   },
   {
    "duration": 113,
    "start_time": "2022-11-23T09:25:07.477Z"
   },
   {
    "duration": 3,
    "start_time": "2022-11-23T09:25:21.744Z"
   },
   {
    "duration": 410,
    "start_time": "2022-11-23T09:25:31.324Z"
   },
   {
    "duration": 8,
    "start_time": "2022-11-23T09:26:03.594Z"
   },
   {
    "duration": 10,
    "start_time": "2022-11-23T09:26:04.311Z"
   }
  ],
  "colab": {
   "provenance": []
  },
  "kernelspec": {
   "display_name": "Python 3",
   "language": "python",
   "name": "python3"
  },
  "language_info": {
   "codemirror_mode": {
    "name": "ipython",
    "version": 3
   },
   "file_extension": ".py",
   "mimetype": "text/x-python",
   "name": "python",
   "nbconvert_exporter": "python",
   "pygments_lexer": "ipython3",
   "version": "3.7.3"
  },
  "toc": {
   "base_numbering": 1,
   "nav_menu": {},
   "number_sections": true,
   "sideBar": true,
   "skip_h1_title": true,
   "title_cell": "Table of Contents",
   "title_sidebar": "Contents",
   "toc_cell": false,
   "toc_position": {},
   "toc_section_display": true,
   "toc_window_display": false
  }
 },
 "nbformat": 4,
 "nbformat_minor": 5
}
