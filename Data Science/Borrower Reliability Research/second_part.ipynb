{
 "cells": [
  {
   "cell_type": "markdown",
   "metadata": {
    "deletable": false,
    "editable": false,
    "id": "c81daeeb"
   },
   "source": [
    "# Исследование надежности заемщиков\n"
   ]
  },
  {
   "cell_type": "markdown",
   "metadata": {},
   "source": [
    "<div class=\"alert alert-info\">\n",
    "<h2> Введение <a class=\"tocSkip\"> </h2>\n",
    "\n",
    "* Описание проекта \n",
    "    \n",
    "    Заказчик — кредитный отдел банка. Входные данные от банка — статистика о платёжеспособности клиентов.\n",
    "Результаты исследования будут учтены при построении модели кредитного скоринга — специальной системы, которая оценивает способность потенциального заёмщика вернуть кредит банку.\n",
    "    \n",
    "\n",
    "* Цель проекта\n",
    "\n",
    "    Нужно разобраться, влияет ли семейное положение и количество детей клиента на факт погашения кредита в срок.\n",
    "    \n",
    "    \n",
    "* Описание данных\n",
    "    \n",
    "    сhildren — количество детей в семье  \n",
    "    days_employed — общий трудовой стаж в днях  \n",
    "    dob_years — возраст клиента в годах  \n",
    "    education — уровень образования клиента  \n",
    "    education_id — идентификатор уровня образования  \n",
    "    family_status — семейное положение  \n",
    "    family_status_id — идентификатор семейного положения  \n",
    "    gender — пол клиента  \n",
    "    income_type — тип занятости  \n",
    "    debt — имел ли задолженность по возврату кредитов  \n",
    "    total_income — ежемесячный доход  \n",
    "    purpose — цель получения кредита  \n",
    "\n",
    "\n",
    "* План работы\n",
    "\n",
    "    Шаг 1. Открыть таблицу и изучить общую информацию о данных.  \n",
    "    Шаг 2. Предобработка данных.  \n",
    "    Шаг 3. Исследовать данные и ответить на вопросы.  \n",
    "    Шаг 4: Общий вывод.\n",
    "\n",
    "\n",
    "</div>"
   ]
  },
  {
   "cell_type": "markdown",
   "metadata": {
    "deletable": false,
    "editable": false,
    "id": "827c20bf"
   },
   "source": [
    "Во второй части проекта вы выполните шаги 3 и 4. Их вручную проверит ревьюер.\n",
    "Чтобы вам не пришлось писать код заново для шагов 1 и 2, мы добавили авторские решения в ячейки с кодом. \n",
    "\n"
   ]
  },
  {
   "cell_type": "markdown",
   "metadata": {
    "deletable": false,
    "editable": false,
    "id": "744d7639"
   },
   "source": [
    "## Откройте таблицу и изучите общую информацию о данных"
   ]
  },
  {
   "cell_type": "markdown",
   "metadata": {
    "deletable": false,
    "editable": false,
    "id": "e7a14c31"
   },
   "source": [
    "**Задание 1. Импортируйте библиотеку pandas. Считайте данные из csv-файла в датафрейм и сохраните в переменную `data`. Путь к файлу:**\n",
    "\n",
    "`/datasets/data.csv`"
   ]
  },
  {
   "cell_type": "code",
   "execution_count": 1,
   "metadata": {
    "deletable": false,
    "id": "7bcf75c9"
   },
   "outputs": [],
   "source": [
    "import pandas as pd\n",
    "\n",
    "try:\n",
    "    data = pd.read_csv('/datasets/data.csv')\n",
    "except:\n",
    "    data = pd.read_csv('https://code.s3.yandex.net/datasets/data.csv')"
   ]
  },
  {
   "cell_type": "markdown",
   "metadata": {
    "deletable": false,
    "editable": false,
    "id": "b8038fe3"
   },
   "source": [
    "**Задание 2. Выведите первые 20 строчек датафрейма `data` на экран.**"
   ]
  },
  {
   "cell_type": "code",
   "execution_count": 2,
   "metadata": {
    "deletable": false,
    "id": "2a7cab99",
    "outputId": "1a8f3ef2-d323-4ec2-ddf7-89670b5944c4"
   },
   "outputs": [
    {
     "data": {
      "text/html": [
       "<div>\n",
       "<style scoped>\n",
       "    .dataframe tbody tr th:only-of-type {\n",
       "        vertical-align: middle;\n",
       "    }\n",
       "\n",
       "    .dataframe tbody tr th {\n",
       "        vertical-align: top;\n",
       "    }\n",
       "\n",
       "    .dataframe thead th {\n",
       "        text-align: right;\n",
       "    }\n",
       "</style>\n",
       "<table border=\"1\" class=\"dataframe\">\n",
       "  <thead>\n",
       "    <tr style=\"text-align: right;\">\n",
       "      <th></th>\n",
       "      <th>children</th>\n",
       "      <th>days_employed</th>\n",
       "      <th>dob_years</th>\n",
       "      <th>education</th>\n",
       "      <th>education_id</th>\n",
       "      <th>family_status</th>\n",
       "      <th>family_status_id</th>\n",
       "      <th>gender</th>\n",
       "      <th>income_type</th>\n",
       "      <th>debt</th>\n",
       "      <th>total_income</th>\n",
       "      <th>purpose</th>\n",
       "    </tr>\n",
       "  </thead>\n",
       "  <tbody>\n",
       "    <tr>\n",
       "      <th>0</th>\n",
       "      <td>1</td>\n",
       "      <td>-8437.673028</td>\n",
       "      <td>42</td>\n",
       "      <td>высшее</td>\n",
       "      <td>0</td>\n",
       "      <td>женат / замужем</td>\n",
       "      <td>0</td>\n",
       "      <td>F</td>\n",
       "      <td>сотрудник</td>\n",
       "      <td>0</td>\n",
       "      <td>253875.639453</td>\n",
       "      <td>покупка жилья</td>\n",
       "    </tr>\n",
       "    <tr>\n",
       "      <th>1</th>\n",
       "      <td>1</td>\n",
       "      <td>-4024.803754</td>\n",
       "      <td>36</td>\n",
       "      <td>среднее</td>\n",
       "      <td>1</td>\n",
       "      <td>женат / замужем</td>\n",
       "      <td>0</td>\n",
       "      <td>F</td>\n",
       "      <td>сотрудник</td>\n",
       "      <td>0</td>\n",
       "      <td>112080.014102</td>\n",
       "      <td>приобретение автомобиля</td>\n",
       "    </tr>\n",
       "    <tr>\n",
       "      <th>2</th>\n",
       "      <td>0</td>\n",
       "      <td>-5623.422610</td>\n",
       "      <td>33</td>\n",
       "      <td>Среднее</td>\n",
       "      <td>1</td>\n",
       "      <td>женат / замужем</td>\n",
       "      <td>0</td>\n",
       "      <td>M</td>\n",
       "      <td>сотрудник</td>\n",
       "      <td>0</td>\n",
       "      <td>145885.952297</td>\n",
       "      <td>покупка жилья</td>\n",
       "    </tr>\n",
       "    <tr>\n",
       "      <th>3</th>\n",
       "      <td>3</td>\n",
       "      <td>-4124.747207</td>\n",
       "      <td>32</td>\n",
       "      <td>среднее</td>\n",
       "      <td>1</td>\n",
       "      <td>женат / замужем</td>\n",
       "      <td>0</td>\n",
       "      <td>M</td>\n",
       "      <td>сотрудник</td>\n",
       "      <td>0</td>\n",
       "      <td>267628.550329</td>\n",
       "      <td>дополнительное образование</td>\n",
       "    </tr>\n",
       "    <tr>\n",
       "      <th>4</th>\n",
       "      <td>0</td>\n",
       "      <td>340266.072047</td>\n",
       "      <td>53</td>\n",
       "      <td>среднее</td>\n",
       "      <td>1</td>\n",
       "      <td>гражданский брак</td>\n",
       "      <td>1</td>\n",
       "      <td>F</td>\n",
       "      <td>пенсионер</td>\n",
       "      <td>0</td>\n",
       "      <td>158616.077870</td>\n",
       "      <td>сыграть свадьбу</td>\n",
       "    </tr>\n",
       "    <tr>\n",
       "      <th>5</th>\n",
       "      <td>0</td>\n",
       "      <td>-926.185831</td>\n",
       "      <td>27</td>\n",
       "      <td>высшее</td>\n",
       "      <td>0</td>\n",
       "      <td>гражданский брак</td>\n",
       "      <td>1</td>\n",
       "      <td>M</td>\n",
       "      <td>компаньон</td>\n",
       "      <td>0</td>\n",
       "      <td>255763.565419</td>\n",
       "      <td>покупка жилья</td>\n",
       "    </tr>\n",
       "    <tr>\n",
       "      <th>6</th>\n",
       "      <td>0</td>\n",
       "      <td>-2879.202052</td>\n",
       "      <td>43</td>\n",
       "      <td>высшее</td>\n",
       "      <td>0</td>\n",
       "      <td>женат / замужем</td>\n",
       "      <td>0</td>\n",
       "      <td>F</td>\n",
       "      <td>компаньон</td>\n",
       "      <td>0</td>\n",
       "      <td>240525.971920</td>\n",
       "      <td>операции с жильем</td>\n",
       "    </tr>\n",
       "    <tr>\n",
       "      <th>7</th>\n",
       "      <td>0</td>\n",
       "      <td>-152.779569</td>\n",
       "      <td>50</td>\n",
       "      <td>СРЕДНЕЕ</td>\n",
       "      <td>1</td>\n",
       "      <td>женат / замужем</td>\n",
       "      <td>0</td>\n",
       "      <td>M</td>\n",
       "      <td>сотрудник</td>\n",
       "      <td>0</td>\n",
       "      <td>135823.934197</td>\n",
       "      <td>образование</td>\n",
       "    </tr>\n",
       "    <tr>\n",
       "      <th>8</th>\n",
       "      <td>2</td>\n",
       "      <td>-6929.865299</td>\n",
       "      <td>35</td>\n",
       "      <td>ВЫСШЕЕ</td>\n",
       "      <td>0</td>\n",
       "      <td>гражданский брак</td>\n",
       "      <td>1</td>\n",
       "      <td>F</td>\n",
       "      <td>сотрудник</td>\n",
       "      <td>0</td>\n",
       "      <td>95856.832424</td>\n",
       "      <td>на проведение свадьбы</td>\n",
       "    </tr>\n",
       "    <tr>\n",
       "      <th>9</th>\n",
       "      <td>0</td>\n",
       "      <td>-2188.756445</td>\n",
       "      <td>41</td>\n",
       "      <td>среднее</td>\n",
       "      <td>1</td>\n",
       "      <td>женат / замужем</td>\n",
       "      <td>0</td>\n",
       "      <td>M</td>\n",
       "      <td>сотрудник</td>\n",
       "      <td>0</td>\n",
       "      <td>144425.938277</td>\n",
       "      <td>покупка жилья для семьи</td>\n",
       "    </tr>\n",
       "    <tr>\n",
       "      <th>10</th>\n",
       "      <td>2</td>\n",
       "      <td>-4171.483647</td>\n",
       "      <td>36</td>\n",
       "      <td>высшее</td>\n",
       "      <td>0</td>\n",
       "      <td>женат / замужем</td>\n",
       "      <td>0</td>\n",
       "      <td>M</td>\n",
       "      <td>компаньон</td>\n",
       "      <td>0</td>\n",
       "      <td>113943.491460</td>\n",
       "      <td>покупка недвижимости</td>\n",
       "    </tr>\n",
       "    <tr>\n",
       "      <th>11</th>\n",
       "      <td>0</td>\n",
       "      <td>-792.701887</td>\n",
       "      <td>40</td>\n",
       "      <td>среднее</td>\n",
       "      <td>1</td>\n",
       "      <td>женат / замужем</td>\n",
       "      <td>0</td>\n",
       "      <td>F</td>\n",
       "      <td>сотрудник</td>\n",
       "      <td>0</td>\n",
       "      <td>77069.234271</td>\n",
       "      <td>покупка коммерческой недвижимости</td>\n",
       "    </tr>\n",
       "    <tr>\n",
       "      <th>12</th>\n",
       "      <td>0</td>\n",
       "      <td>NaN</td>\n",
       "      <td>65</td>\n",
       "      <td>среднее</td>\n",
       "      <td>1</td>\n",
       "      <td>гражданский брак</td>\n",
       "      <td>1</td>\n",
       "      <td>M</td>\n",
       "      <td>пенсионер</td>\n",
       "      <td>0</td>\n",
       "      <td>NaN</td>\n",
       "      <td>сыграть свадьбу</td>\n",
       "    </tr>\n",
       "    <tr>\n",
       "      <th>13</th>\n",
       "      <td>0</td>\n",
       "      <td>-1846.641941</td>\n",
       "      <td>54</td>\n",
       "      <td>неоконченное высшее</td>\n",
       "      <td>2</td>\n",
       "      <td>женат / замужем</td>\n",
       "      <td>0</td>\n",
       "      <td>F</td>\n",
       "      <td>сотрудник</td>\n",
       "      <td>0</td>\n",
       "      <td>130458.228857</td>\n",
       "      <td>приобретение автомобиля</td>\n",
       "    </tr>\n",
       "    <tr>\n",
       "      <th>14</th>\n",
       "      <td>0</td>\n",
       "      <td>-1844.956182</td>\n",
       "      <td>56</td>\n",
       "      <td>высшее</td>\n",
       "      <td>0</td>\n",
       "      <td>гражданский брак</td>\n",
       "      <td>1</td>\n",
       "      <td>F</td>\n",
       "      <td>компаньон</td>\n",
       "      <td>1</td>\n",
       "      <td>165127.911772</td>\n",
       "      <td>покупка жилой недвижимости</td>\n",
       "    </tr>\n",
       "    <tr>\n",
       "      <th>15</th>\n",
       "      <td>1</td>\n",
       "      <td>-972.364419</td>\n",
       "      <td>26</td>\n",
       "      <td>среднее</td>\n",
       "      <td>1</td>\n",
       "      <td>женат / замужем</td>\n",
       "      <td>0</td>\n",
       "      <td>F</td>\n",
       "      <td>сотрудник</td>\n",
       "      <td>0</td>\n",
       "      <td>116820.904450</td>\n",
       "      <td>строительство собственной недвижимости</td>\n",
       "    </tr>\n",
       "    <tr>\n",
       "      <th>16</th>\n",
       "      <td>0</td>\n",
       "      <td>-1719.934226</td>\n",
       "      <td>35</td>\n",
       "      <td>среднее</td>\n",
       "      <td>1</td>\n",
       "      <td>женат / замужем</td>\n",
       "      <td>0</td>\n",
       "      <td>F</td>\n",
       "      <td>сотрудник</td>\n",
       "      <td>0</td>\n",
       "      <td>289202.704229</td>\n",
       "      <td>недвижимость</td>\n",
       "    </tr>\n",
       "    <tr>\n",
       "      <th>17</th>\n",
       "      <td>0</td>\n",
       "      <td>-2369.999720</td>\n",
       "      <td>33</td>\n",
       "      <td>высшее</td>\n",
       "      <td>0</td>\n",
       "      <td>гражданский брак</td>\n",
       "      <td>1</td>\n",
       "      <td>M</td>\n",
       "      <td>сотрудник</td>\n",
       "      <td>0</td>\n",
       "      <td>90410.586745</td>\n",
       "      <td>строительство недвижимости</td>\n",
       "    </tr>\n",
       "    <tr>\n",
       "      <th>18</th>\n",
       "      <td>0</td>\n",
       "      <td>400281.136913</td>\n",
       "      <td>53</td>\n",
       "      <td>среднее</td>\n",
       "      <td>1</td>\n",
       "      <td>вдовец / вдова</td>\n",
       "      <td>2</td>\n",
       "      <td>F</td>\n",
       "      <td>пенсионер</td>\n",
       "      <td>0</td>\n",
       "      <td>56823.777243</td>\n",
       "      <td>на покупку подержанного автомобиля</td>\n",
       "    </tr>\n",
       "    <tr>\n",
       "      <th>19</th>\n",
       "      <td>0</td>\n",
       "      <td>-10038.818549</td>\n",
       "      <td>48</td>\n",
       "      <td>СРЕДНЕЕ</td>\n",
       "      <td>1</td>\n",
       "      <td>в разводе</td>\n",
       "      <td>3</td>\n",
       "      <td>F</td>\n",
       "      <td>сотрудник</td>\n",
       "      <td>0</td>\n",
       "      <td>242831.107982</td>\n",
       "      <td>на покупку своего автомобиля</td>\n",
       "    </tr>\n",
       "  </tbody>\n",
       "</table>\n",
       "</div>"
      ],
      "text/plain": [
       "    children  days_employed  dob_years            education  education_id  \\\n",
       "0          1   -8437.673028         42               высшее             0   \n",
       "1          1   -4024.803754         36              среднее             1   \n",
       "2          0   -5623.422610         33              Среднее             1   \n",
       "3          3   -4124.747207         32              среднее             1   \n",
       "4          0  340266.072047         53              среднее             1   \n",
       "5          0    -926.185831         27               высшее             0   \n",
       "6          0   -2879.202052         43               высшее             0   \n",
       "7          0    -152.779569         50              СРЕДНЕЕ             1   \n",
       "8          2   -6929.865299         35               ВЫСШЕЕ             0   \n",
       "9          0   -2188.756445         41              среднее             1   \n",
       "10         2   -4171.483647         36               высшее             0   \n",
       "11         0    -792.701887         40              среднее             1   \n",
       "12         0            NaN         65              среднее             1   \n",
       "13         0   -1846.641941         54  неоконченное высшее             2   \n",
       "14         0   -1844.956182         56               высшее             0   \n",
       "15         1    -972.364419         26              среднее             1   \n",
       "16         0   -1719.934226         35              среднее             1   \n",
       "17         0   -2369.999720         33               высшее             0   \n",
       "18         0  400281.136913         53              среднее             1   \n",
       "19         0  -10038.818549         48              СРЕДНЕЕ             1   \n",
       "\n",
       "       family_status  family_status_id gender income_type  debt  \\\n",
       "0    женат / замужем                 0      F   сотрудник     0   \n",
       "1    женат / замужем                 0      F   сотрудник     0   \n",
       "2    женат / замужем                 0      M   сотрудник     0   \n",
       "3    женат / замужем                 0      M   сотрудник     0   \n",
       "4   гражданский брак                 1      F   пенсионер     0   \n",
       "5   гражданский брак                 1      M   компаньон     0   \n",
       "6    женат / замужем                 0      F   компаньон     0   \n",
       "7    женат / замужем                 0      M   сотрудник     0   \n",
       "8   гражданский брак                 1      F   сотрудник     0   \n",
       "9    женат / замужем                 0      M   сотрудник     0   \n",
       "10   женат / замужем                 0      M   компаньон     0   \n",
       "11   женат / замужем                 0      F   сотрудник     0   \n",
       "12  гражданский брак                 1      M   пенсионер     0   \n",
       "13   женат / замужем                 0      F   сотрудник     0   \n",
       "14  гражданский брак                 1      F   компаньон     1   \n",
       "15   женат / замужем                 0      F   сотрудник     0   \n",
       "16   женат / замужем                 0      F   сотрудник     0   \n",
       "17  гражданский брак                 1      M   сотрудник     0   \n",
       "18    вдовец / вдова                 2      F   пенсионер     0   \n",
       "19         в разводе                 3      F   сотрудник     0   \n",
       "\n",
       "     total_income                                 purpose  \n",
       "0   253875.639453                           покупка жилья  \n",
       "1   112080.014102                 приобретение автомобиля  \n",
       "2   145885.952297                           покупка жилья  \n",
       "3   267628.550329              дополнительное образование  \n",
       "4   158616.077870                         сыграть свадьбу  \n",
       "5   255763.565419                           покупка жилья  \n",
       "6   240525.971920                       операции с жильем  \n",
       "7   135823.934197                             образование  \n",
       "8    95856.832424                   на проведение свадьбы  \n",
       "9   144425.938277                 покупка жилья для семьи  \n",
       "10  113943.491460                    покупка недвижимости  \n",
       "11   77069.234271       покупка коммерческой недвижимости  \n",
       "12            NaN                         сыграть свадьбу  \n",
       "13  130458.228857                 приобретение автомобиля  \n",
       "14  165127.911772              покупка жилой недвижимости  \n",
       "15  116820.904450  строительство собственной недвижимости  \n",
       "16  289202.704229                            недвижимость  \n",
       "17   90410.586745              строительство недвижимости  \n",
       "18   56823.777243      на покупку подержанного автомобиля  \n",
       "19  242831.107982            на покупку своего автомобиля  "
      ]
     },
     "execution_count": 2,
     "metadata": {},
     "output_type": "execute_result"
    }
   ],
   "source": [
    "data.head(20)"
   ]
  },
  {
   "cell_type": "markdown",
   "metadata": {
    "deletable": false,
    "editable": false,
    "id": "1c12e233"
   },
   "source": [
    "**Задание 3. Выведите основную информацию о датафрейме с помощью метода `info()`.**"
   ]
  },
  {
   "cell_type": "code",
   "execution_count": 3,
   "metadata": {
    "deletable": false,
    "id": "2b757bca",
    "outputId": "15376089-8dad-46c9-b520-c05248d43158"
   },
   "outputs": [
    {
     "name": "stdout",
     "output_type": "stream",
     "text": [
      "<class 'pandas.core.frame.DataFrame'>\n",
      "RangeIndex: 21525 entries, 0 to 21524\n",
      "Data columns (total 12 columns):\n",
      " #   Column            Non-Null Count  Dtype  \n",
      "---  ------            --------------  -----  \n",
      " 0   children          21525 non-null  int64  \n",
      " 1   days_employed     19351 non-null  float64\n",
      " 2   dob_years         21525 non-null  int64  \n",
      " 3   education         21525 non-null  object \n",
      " 4   education_id      21525 non-null  int64  \n",
      " 5   family_status     21525 non-null  object \n",
      " 6   family_status_id  21525 non-null  int64  \n",
      " 7   gender            21525 non-null  object \n",
      " 8   income_type       21525 non-null  object \n",
      " 9   debt              21525 non-null  int64  \n",
      " 10  total_income      19351 non-null  float64\n",
      " 11  purpose           21525 non-null  object \n",
      "dtypes: float64(2), int64(5), object(5)\n",
      "memory usage: 2.0+ MB\n"
     ]
    }
   ],
   "source": [
    "data.info()"
   ]
  },
  {
   "cell_type": "markdown",
   "metadata": {
    "deletable": false,
    "editable": false,
    "id": "333ec665"
   },
   "source": [
    "## Предобработка данных"
   ]
  },
  {
   "cell_type": "markdown",
   "metadata": {
    "deletable": false,
    "editable": false,
    "id": "02d92d53"
   },
   "source": [
    "### Удаление пропусков"
   ]
  },
  {
   "cell_type": "markdown",
   "metadata": {
    "deletable": false,
    "editable": false,
    "id": "cd84967c"
   },
   "source": [
    "**Задание 4. Выведите количество пропущенных значений для каждого столбца. Используйте комбинацию двух методов.**"
   ]
  },
  {
   "cell_type": "code",
   "execution_count": 4,
   "metadata": {
    "deletable": false,
    "id": "7f9b2309",
    "outputId": "81f4d817-781c-465c-ed15-91ce4446810d"
   },
   "outputs": [
    {
     "data": {
      "text/plain": [
       "children               0\n",
       "days_employed       2174\n",
       "dob_years              0\n",
       "education              0\n",
       "education_id           0\n",
       "family_status          0\n",
       "family_status_id       0\n",
       "gender                 0\n",
       "income_type            0\n",
       "debt                   0\n",
       "total_income        2174\n",
       "purpose                0\n",
       "dtype: int64"
      ]
     },
     "execution_count": 4,
     "metadata": {},
     "output_type": "execute_result"
    }
   ],
   "source": [
    "data.isna().sum()"
   ]
  },
  {
   "cell_type": "markdown",
   "metadata": {
    "deletable": false,
    "editable": false,
    "id": "db86e27b"
   },
   "source": [
    "**Задание 5. В двух столбцах есть пропущенные значения. Один из них — `days_employed`. Пропуски в этом столбце вы обработаете на следующем этапе. Другой столбец с пропущенными значениями — `total_income` — хранит данные о доходах. На сумму дохода сильнее всего влияет тип занятости, поэтому заполнить пропуски в этом столбце нужно медианным значением по каждому типу из столбца `income_type`. Например, у человека с типом занятости `сотрудник` пропуск в столбце `total_income` должен быть заполнен медианным доходом среди всех записей с тем же типом.**"
   ]
  },
  {
   "cell_type": "code",
   "execution_count": 5,
   "metadata": {
    "deletable": false,
    "id": "42006a93"
   },
   "outputs": [],
   "source": [
    "for t in data['income_type'].unique():\n",
    "    data.loc[(data['income_type'] == t) & (data['total_income'].isna()), 'total_income'] = \\\n",
    "    data.loc[(data['income_type'] == t), 'total_income'].median()"
   ]
  },
  {
   "cell_type": "markdown",
   "metadata": {
    "deletable": false,
    "editable": false,
    "id": "89da5ece"
   },
   "source": [
    "### Обработка аномальных значений"
   ]
  },
  {
   "cell_type": "markdown",
   "metadata": {
    "deletable": false,
    "editable": false,
    "id": "57964554"
   },
   "source": [
    "**Задание 6. В данных могут встречаться артефакты (аномалии) — значения, которые не отражают действительность и появились по какой-то ошибке. таким артефактом будет отрицательное количество дней трудового стажа в столбце `days_employed`. Для реальных данных это нормально. Обработайте значения в этом столбце: замените все отрицательные значения положительными с помощью метода `abs()`.**"
   ]
  },
  {
   "cell_type": "code",
   "execution_count": 6,
   "metadata": {
    "deletable": false,
    "id": "f6f055bf"
   },
   "outputs": [],
   "source": [
    "data['days_employed'] = data['days_employed'].abs()"
   ]
  },
  {
   "cell_type": "markdown",
   "metadata": {
    "deletable": false,
    "editable": false,
    "id": "6107dd2f"
   },
   "source": [
    "**Задание 7. Для каждого типа занятости выведите медианное значение трудового стажа `days_employed` в днях.**"
   ]
  },
  {
   "cell_type": "code",
   "execution_count": 7,
   "metadata": {
    "deletable": false,
    "id": "85a5faf6",
    "outputId": "801ef80e-522b-4668-f34e-565af7432bcf"
   },
   "outputs": [
    {
     "data": {
      "text/plain": [
       "income_type\n",
       "безработный        366413.652744\n",
       "в декрете            3296.759962\n",
       "госслужащий          2689.368353\n",
       "компаньон            1547.382223\n",
       "пенсионер          365213.306266\n",
       "предприниматель       520.848083\n",
       "сотрудник            1574.202821\n",
       "студент               578.751554\n",
       "Name: days_employed, dtype: float64"
      ]
     },
     "execution_count": 7,
     "metadata": {},
     "output_type": "execute_result"
    }
   ],
   "source": [
    "data.groupby('income_type')['days_employed'].agg('median')"
   ]
  },
  {
   "cell_type": "markdown",
   "metadata": {
    "deletable": false,
    "editable": false,
    "id": "38d1a030"
   },
   "source": [
    "У двух типов (безработные и пенсионеры) получатся аномально большие значения. Исправить такие значения сложно, поэтому оставьте их как есть. Тем более этот столбец не понадобится вам для исследования."
   ]
  },
  {
   "cell_type": "markdown",
   "metadata": {
    "deletable": false,
    "editable": false,
    "id": "d8a9f147"
   },
   "source": [
    "**Задание 8. Выведите перечень уникальных значений столбца `children`.**"
   ]
  },
  {
   "cell_type": "code",
   "execution_count": 8,
   "metadata": {
    "deletable": false,
    "id": "ef5056eb",
    "outputId": "6975b15c-7f95-4697-d16d-a0c79b657b03"
   },
   "outputs": [
    {
     "data": {
      "text/plain": [
       "array([ 1,  0,  3,  2, -1,  4, 20,  5])"
      ]
     },
     "execution_count": 8,
     "metadata": {},
     "output_type": "execute_result"
    }
   ],
   "source": [
    "data['children'].unique()"
   ]
  },
  {
   "cell_type": "markdown",
   "metadata": {
    "deletable": false,
    "editable": false,
    "id": "40b9ebf2"
   },
   "source": [
    "**Задание 9. В столбце `children` есть два аномальных значения. Удалите строки, в которых встречаются такие аномальные значения из датафрейма `data`.**"
   ]
  },
  {
   "cell_type": "code",
   "execution_count": 9,
   "metadata": {
    "deletable": false,
    "id": "3ff9801d"
   },
   "outputs": [],
   "source": [
    "data = data[(data['children'] != -1) & (data['children'] != 20)]"
   ]
  },
  {
   "cell_type": "markdown",
   "metadata": {
    "deletable": false,
    "editable": false,
    "id": "bbc4d0ce"
   },
   "source": [
    "**Задание 10. Ещё раз выведите перечень уникальных значений столбца `children`, чтобы убедиться, что артефакты удалены.**"
   ]
  },
  {
   "cell_type": "code",
   "execution_count": 10,
   "metadata": {
    "deletable": false,
    "id": "ad4fa8b7",
    "outputId": "b2097101-d49d-44d9-901b-32a65c9463d1"
   },
   "outputs": [
    {
     "data": {
      "text/plain": [
       "array([1, 0, 3, 2, 4, 5])"
      ]
     },
     "execution_count": 10,
     "metadata": {},
     "output_type": "execute_result"
    }
   ],
   "source": [
    "data['children'].unique()"
   ]
  },
  {
   "cell_type": "markdown",
   "metadata": {
    "deletable": false,
    "editable": false,
    "id": "75440b63"
   },
   "source": [
    "### Удаление пропусков (продолжение)"
   ]
  },
  {
   "cell_type": "markdown",
   "metadata": {
    "deletable": false,
    "editable": false,
    "id": "f4ea573f"
   },
   "source": [
    "**Задание 11. Заполните пропуски в столбце `days_employed` медианными значениями по каждого типа занятости `income_type`.**"
   ]
  },
  {
   "cell_type": "code",
   "execution_count": 11,
   "metadata": {
    "deletable": false,
    "id": "af6b1a7e"
   },
   "outputs": [],
   "source": [
    "for t in data['income_type'].unique():\n",
    "    data.loc[(data['income_type'] == t) & (data['days_employed'].isna()), 'days_employed'] = \\\n",
    "    data.loc[(data['income_type'] == t), 'days_employed'].median()"
   ]
  },
  {
   "cell_type": "markdown",
   "metadata": {
    "deletable": false,
    "editable": false,
    "id": "2753f40d"
   },
   "source": [
    "**Задание 12. Убедитесь, что все пропуски заполнены. Проверьте себя и ещё раз выведите количество пропущенных значений для каждого столбца с помощью двух методов.**"
   ]
  },
  {
   "cell_type": "code",
   "execution_count": 12,
   "metadata": {
    "deletable": false,
    "id": "55f78bc2",
    "outputId": "8da1e4e1-358e-4e87-98c9-f261bce0a7b2"
   },
   "outputs": [
    {
     "data": {
      "text/plain": [
       "children            0\n",
       "days_employed       0\n",
       "dob_years           0\n",
       "education           0\n",
       "education_id        0\n",
       "family_status       0\n",
       "family_status_id    0\n",
       "gender              0\n",
       "income_type         0\n",
       "debt                0\n",
       "total_income        0\n",
       "purpose             0\n",
       "dtype: int64"
      ]
     },
     "execution_count": 12,
     "metadata": {},
     "output_type": "execute_result"
    }
   ],
   "source": [
    "data.isna().sum()"
   ]
  },
  {
   "cell_type": "markdown",
   "metadata": {
    "deletable": false,
    "editable": false,
    "id": "ddc81e43"
   },
   "source": [
    "### Изменение типов данных"
   ]
  },
  {
   "cell_type": "markdown",
   "metadata": {
    "deletable": false,
    "editable": false,
    "id": "42d19d24"
   },
   "source": [
    "**Задание 13. Замените вещественный тип данных в столбце `total_income` на целочисленный с помощью метода `astype()`.**"
   ]
  },
  {
   "cell_type": "code",
   "execution_count": 13,
   "metadata": {
    "deletable": false,
    "id": "920b65ad"
   },
   "outputs": [],
   "source": [
    "data['total_income'] = data['total_income'].astype(int)"
   ]
  },
  {
   "cell_type": "markdown",
   "metadata": {
    "deletable": false,
    "editable": false,
    "id": "80c420ba"
   },
   "source": [
    "### Обработка дубликатов"
   ]
  },
  {
   "cell_type": "markdown",
   "metadata": {
    "deletable": false,
    "editable": false
   },
   "source": [
    "**Задание 14. Обработайте неявные дубликаты в столбце `education`. В этом столбце есть одни и те же значения, но записанные по-разному: с использованием заглавных и строчных букв. Приведите их к нижнему регистру. Проверьте остальные столбцы.**"
   ]
  },
  {
   "cell_type": "code",
   "execution_count": 14,
   "metadata": {
    "deletable": false
   },
   "outputs": [],
   "source": [
    "data['education'] = data['education'].str.lower()"
   ]
  },
  {
   "cell_type": "markdown",
   "metadata": {
    "deletable": false,
    "editable": false,
    "id": "dc587695"
   },
   "source": [
    "**Задание 15. Выведите на экран количество строк-дубликатов в данных. Если такие строки присутствуют, удалите их.**"
   ]
  },
  {
   "cell_type": "code",
   "execution_count": 15,
   "metadata": {
    "deletable": false,
    "id": "3ee445e4",
    "outputId": "9684deba-1934-42d1-99e1-cda61740f822"
   },
   "outputs": [
    {
     "data": {
      "text/plain": [
       "71"
      ]
     },
     "execution_count": 15,
     "metadata": {},
     "output_type": "execute_result"
    }
   ],
   "source": [
    "data.duplicated().sum()"
   ]
  },
  {
   "cell_type": "code",
   "execution_count": 16,
   "metadata": {
    "deletable": false,
    "id": "8575fe05"
   },
   "outputs": [],
   "source": [
    "data = data.drop_duplicates()"
   ]
  },
  {
   "cell_type": "markdown",
   "metadata": {
    "deletable": false,
    "editable": false,
    "id": "9904cf55"
   },
   "source": [
    "### Категоризация данных"
   ]
  },
  {
   "cell_type": "markdown",
   "metadata": {
    "deletable": false,
    "editable": false,
    "id": "72fcc8a2"
   },
   "source": [
    "**Задание 16. На основании диапазонов, указанных ниже, создайте в датафрейме `data` столбец `total_income_category` с категориями:**\n",
    "\n",
    "- 0–30000 — `'E'`;\n",
    "- 30001–50000 — `'D'`;\n",
    "- 50001–200000 — `'C'`;\n",
    "- 200001–1000000 — `'B'`;\n",
    "- 1000001 и выше — `'A'`.\n",
    "\n",
    "\n",
    "**Например, кредитополучателю с доходом 25000 нужно назначить категорию `'E'`, а клиенту, получающему 235000, — `'B'`. Используйте собственную функцию с именем `categorize_income()` и метод `apply()`.**"
   ]
  },
  {
   "cell_type": "code",
   "execution_count": 17,
   "metadata": {
    "deletable": false,
    "id": "e1771346"
   },
   "outputs": [],
   "source": [
    "def categorize_income(income):\n",
    "    try:\n",
    "        if 0 <= income <= 30000:\n",
    "            return 'E'\n",
    "        elif 30001 <= income <= 50000:\n",
    "            return 'D'\n",
    "        elif 50001 <= income <= 200000:\n",
    "            return 'C'\n",
    "        elif 200001 <= income <= 1000000:\n",
    "            return 'B'\n",
    "        elif income >= 1000001:\n",
    "            return 'A'\n",
    "    except:\n",
    "        pass"
   ]
  },
  {
   "cell_type": "code",
   "execution_count": 18,
   "metadata": {
    "deletable": false,
    "id": "d5f3586d"
   },
   "outputs": [],
   "source": [
    "data['total_income_category'] = data['total_income'].apply(categorize_income)"
   ]
  },
  {
   "cell_type": "markdown",
   "metadata": {
    "deletable": false,
    "editable": false,
    "id": "dde49b5c"
   },
   "source": [
    "**Задание 17. Выведите на экран перечень уникальных целей взятия кредита из столбца `purpose`.**"
   ]
  },
  {
   "cell_type": "code",
   "execution_count": 19,
   "metadata": {
    "deletable": false,
    "id": "f67ce9b3",
    "outputId": "673c12d9-7d7e-4ae0-9812-c622c89dd244"
   },
   "outputs": [
    {
     "data": {
      "text/plain": [
       "array(['покупка жилья', 'приобретение автомобиля',\n",
       "       'дополнительное образование', 'сыграть свадьбу',\n",
       "       'операции с жильем', 'образование', 'на проведение свадьбы',\n",
       "       'покупка жилья для семьи', 'покупка недвижимости',\n",
       "       'покупка коммерческой недвижимости', 'покупка жилой недвижимости',\n",
       "       'строительство собственной недвижимости', 'недвижимость',\n",
       "       'строительство недвижимости', 'на покупку подержанного автомобиля',\n",
       "       'на покупку своего автомобиля',\n",
       "       'операции с коммерческой недвижимостью',\n",
       "       'строительство жилой недвижимости', 'жилье',\n",
       "       'операции со своей недвижимостью', 'автомобили',\n",
       "       'заняться образованием', 'сделка с подержанным автомобилем',\n",
       "       'получение образования', 'автомобиль', 'свадьба',\n",
       "       'получение дополнительного образования', 'покупка своего жилья',\n",
       "       'операции с недвижимостью', 'получение высшего образования',\n",
       "       'свой автомобиль', 'сделка с автомобилем',\n",
       "       'профильное образование', 'высшее образование',\n",
       "       'покупка жилья для сдачи', 'на покупку автомобиля', 'ремонт жилью',\n",
       "       'заняться высшим образованием'], dtype=object)"
      ]
     },
     "execution_count": 19,
     "metadata": {},
     "output_type": "execute_result"
    }
   ],
   "source": [
    "data['purpose'].unique()"
   ]
  },
  {
   "cell_type": "markdown",
   "metadata": {
    "deletable": false,
    "editable": false,
    "id": "85d0aef0"
   },
   "source": [
    "**Задание 18. Создайте функцию, которая на основании данных из столбца `purpose` сформирует новый столбец `purpose_category`, в который войдут следующие категории:**\n",
    "\n",
    "- `'операции с автомобилем'`,\n",
    "- `'операции с недвижимостью'`,\n",
    "- `'проведение свадьбы'`,\n",
    "- `'получение образования'`.\n",
    "\n",
    "**Например, если в столбце `purpose` находится подстрока `'на покупку автомобиля'`, то в столбце `purpose_category` должна появиться строка `'операции с автомобилем'`.**\n",
    "\n",
    "**Используйте собственную функцию с именем `categorize_purpose()` и метод `apply()`. Изучите данные в столбце `purpose` и определите, какие подстроки помогут вам правильно определить категорию.**"
   ]
  },
  {
   "cell_type": "code",
   "execution_count": 20,
   "metadata": {
    "deletable": false,
    "id": "e149fab4"
   },
   "outputs": [],
   "source": [
    "def categorize_purpose(row):\n",
    "    try:\n",
    "        if 'автом' in row:\n",
    "            return 'операции с автомобилем'\n",
    "        elif 'жил' in row or 'недвиж' in row:\n",
    "            return 'операции с недвижимостью'\n",
    "        elif 'свад' in row:\n",
    "            return 'проведение свадьбы'\n",
    "        elif 'образов' in row:\n",
    "            return 'получение образования'\n",
    "    except:\n",
    "        return 'нет категории'"
   ]
  },
  {
   "cell_type": "code",
   "execution_count": 21,
   "metadata": {
    "deletable": false,
    "id": "bf36e69b"
   },
   "outputs": [],
   "source": [
    "data['purpose_category'] = data['purpose'].apply(categorize_purpose)"
   ]
  },
  {
   "cell_type": "markdown",
   "metadata": {
    "deletable": false,
    "editable": false,
    "id": "09b242bf"
   },
   "source": [
    "### Шаг 3. Исследуйте данные и ответьте на вопросы"
   ]
  },
  {
   "cell_type": "markdown",
   "metadata": {
    "deletable": false,
    "editable": false,
    "id": "c5d66278"
   },
   "source": [
    "#### 3.1 Есть ли зависимость между количеством детей и возвратом кредита в срок?"
   ]
  },
  {
   "cell_type": "code",
   "execution_count": 22,
   "metadata": {
    "deletable": false,
    "id": "2cacfc4a"
   },
   "outputs": [
    {
     "name": "stdout",
     "output_type": "stream",
     "text": [
      "           debt                \n",
      "          count   sum      mean\n",
      "children                       \n",
      "0         14091  1063  0.075438\n",
      "1          4808   444  0.092346\n",
      "2          2052   194  0.094542\n",
      "3           330    27  0.081818\n",
      "4            41     4  0.097561\n",
      "5             9     0  0.000000\n"
     ]
    }
   ],
   "source": [
    "# Ваш код будет здесь. Вы можете создавать новые ячейки.\n",
    "\n",
    "# •children — количество детей в семье\n",
    "# •days_employed — общий трудовой стаж в днях\n",
    "# •dob_years — возраст клиента в годах\n",
    "# •education — уровень образования клиента\n",
    "# •education_id — идентификатор уровня образования\n",
    "# •family_status — семейное положение\n",
    "# •family_status_id — идентификатор семейного положения\n",
    "# •gender — пол клиента\n",
    "# •income_type — тип занятости\n",
    "# •debt — имел ли задолженность по возврату кредитов\n",
    "# •total_income — ежемесячный доход\n",
    "# •purpose — цель получения кредита\n",
    "\n",
    "\n",
    "children_debt = data.groupby(\"children\").agg({\"debt\":[\"count\",\"sum\",\"mean\",]})\n",
    "print(children_debt)\n",
    "\n",
    "# Count – общее количество должников по категории children.\n",
    "# Mean – процент или доля должников для каждой категории children.\n",
    "# Sum – общее количество клиентов."
   ]
  },
  {
   "cell_type": "markdown",
   "metadata": {
    "deletable": false,
    "id": "3a6b99ec"
   },
   "source": [
    "**Вывод:** на основе полученных результатов, можно сделать вывод о том, что чем больше количество детей в семье, тем меньше общее количество должников по категории children, но в то же время доля должников имеет тенденцию увеличиваться. Из этого можно сделать вывод о том, что клиенты, имеющие больше детей менее платежеспособны. Также выборка клиентов с 5-ю детьми несбалансированна, т.к. общее количество клиентов и их доля указаны как 0."
   ]
  },
  {
   "cell_type": "markdown",
   "metadata": {
    "deletable": false,
    "editable": false,
    "id": "97be82ca"
   },
   "source": [
    "#### 3.2 Есть ли зависимость между семейным положением и возвратом кредита в срок?"
   ]
  },
  {
   "cell_type": "code",
   "execution_count": 23,
   "metadata": {
    "deletable": false,
    "id": "dc3f7ee8"
   },
   "outputs": [
    {
     "name": "stdout",
     "output_type": "stream",
     "text": [
      "                        debt               \n",
      "                       count  sum      mean\n",
      "family_status                              \n",
      "Не женат / не замужем   2796  273  0.097639\n",
      "в разводе               1189   84  0.070648\n",
      "вдовец / вдова           951   63  0.066246\n",
      "гражданский брак        4134  385  0.093130\n",
      "женат / замужем        12261  927  0.075606\n"
     ]
    }
   ],
   "source": [
    "# Ваш код будет здесь. Вы можете создавать новые ячейки.\n",
    "\n",
    "family_debt = data.groupby(\"family_status\").agg({\"debt\":[\"count\",\"sum\",\"mean\"]})\n",
    "print(family_debt)"
   ]
  },
  {
   "cell_type": "markdown",
   "metadata": {
    "deletable": false,
    "id": "1cef7837"
   },
   "source": [
    "**Вывод:** Данные показывают, что количество должников, связанных узами брака, существенно больше, чем не состоящих в браке. Однако их доля меньше, чем у не состоящих в браке. Из этого можно сделать вывод о том, что клиенты, состоящие в браке, больше берут кредит, но более платежеспособны."
   ]
  },
  {
   "cell_type": "markdown",
   "metadata": {
    "deletable": false,
    "editable": false,
    "id": "1e8b2fca"
   },
   "source": [
    "#### 3.3 Есть ли зависимость между уровнем дохода и возвратом кредита в срок?"
   ]
  },
  {
   "cell_type": "code",
   "execution_count": 24,
   "metadata": {
    "deletable": false,
    "id": "cd7e3720"
   },
   "outputs": [
    {
     "data": {
      "text/html": [
       "<div>\n",
       "<style scoped>\n",
       "    .dataframe tbody tr th:only-of-type {\n",
       "        vertical-align: middle;\n",
       "    }\n",
       "\n",
       "    .dataframe tbody tr th {\n",
       "        vertical-align: top;\n",
       "    }\n",
       "\n",
       "    .dataframe thead tr th {\n",
       "        text-align: left;\n",
       "    }\n",
       "\n",
       "    .dataframe thead tr:last-of-type th {\n",
       "        text-align: right;\n",
       "    }\n",
       "</style>\n",
       "<table border=\"1\" class=\"dataframe\">\n",
       "  <thead>\n",
       "    <tr>\n",
       "      <th></th>\n",
       "      <th colspan=\"3\" halign=\"left\">debt</th>\n",
       "    </tr>\n",
       "    <tr>\n",
       "      <th></th>\n",
       "      <th>count</th>\n",
       "      <th>sum</th>\n",
       "      <th>mean</th>\n",
       "    </tr>\n",
       "    <tr>\n",
       "      <th>total_income_category</th>\n",
       "      <th></th>\n",
       "      <th></th>\n",
       "      <th></th>\n",
       "    </tr>\n",
       "  </thead>\n",
       "  <tbody>\n",
       "    <tr>\n",
       "      <th>A</th>\n",
       "      <td>25</td>\n",
       "      <td>2</td>\n",
       "      <td>0.080000</td>\n",
       "    </tr>\n",
       "    <tr>\n",
       "      <th>B</th>\n",
       "      <td>5014</td>\n",
       "      <td>354</td>\n",
       "      <td>0.070602</td>\n",
       "    </tr>\n",
       "    <tr>\n",
       "      <th>C</th>\n",
       "      <td>15921</td>\n",
       "      <td>1353</td>\n",
       "      <td>0.084982</td>\n",
       "    </tr>\n",
       "    <tr>\n",
       "      <th>D</th>\n",
       "      <td>349</td>\n",
       "      <td>21</td>\n",
       "      <td>0.060172</td>\n",
       "    </tr>\n",
       "    <tr>\n",
       "      <th>E</th>\n",
       "      <td>22</td>\n",
       "      <td>2</td>\n",
       "      <td>0.090909</td>\n",
       "    </tr>\n",
       "  </tbody>\n",
       "</table>\n",
       "</div>"
      ],
      "text/plain": [
       "                        debt                \n",
       "                       count   sum      mean\n",
       "total_income_category                       \n",
       "A                         25     2  0.080000\n",
       "B                       5014   354  0.070602\n",
       "C                      15921  1353  0.084982\n",
       "D                        349    21  0.060172\n",
       "E                         22     2  0.090909"
      ]
     },
     "execution_count": 24,
     "metadata": {},
     "output_type": "execute_result"
    }
   ],
   "source": [
    "# Ваш код будет здесь. Вы можете создавать новые ячейки.\n",
    "\n",
    "\n",
    "# 0–30000 — 'E';\n",
    "# 30001–50000 — 'D';\n",
    "# 50001–200000 — 'C';\n",
    "# 200001–1000000 — 'B';\n",
    "# 1000001 и выше — 'A'.\n",
    "\n",
    "\n",
    "income_debt = data.groupby(\"total_income_category\").agg({\"debt\":[\"count\",\"sum\",\"mean\"]})\n",
    "income_debt"
   ]
  },
  {
   "cell_type": "markdown",
   "metadata": {
    "deletable": false,
    "id": "e8593def"
   },
   "source": [
    "**Вывод:** Данные показывают, что количество заемщиков во всех категориях кроме B и C несопоставимо меньше, поэтому для выявления зависимости целесообразно сравнивать только их. В категории со средним доходом \"С\" (50001–200000) доля должников высокая, как и количество должников, а в категории с высокими доходами \"В\" (200001–1000000) - как доля, так и количество должников существенно меньше. Из этого можно сделать вывод о том, что наиболее рискованной категорией клиентов являются люди со средним уровнем дохода (50001–200000)."
   ]
  },
  {
   "cell_type": "markdown",
   "metadata": {
    "deletable": false,
    "editable": false,
    "id": "99ecbd1f"
   },
   "source": [
    "#### 3.4 Как разные цели кредита влияют на его возврат в срок?"
   ]
  },
  {
   "cell_type": "code",
   "execution_count": 25,
   "metadata": {
    "deletable": false,
    "id": "2b687290"
   },
   "outputs": [
    {
     "data": {
      "text/html": [
       "<div>\n",
       "<style scoped>\n",
       "    .dataframe tbody tr th:only-of-type {\n",
       "        vertical-align: middle;\n",
       "    }\n",
       "\n",
       "    .dataframe tbody tr th {\n",
       "        vertical-align: top;\n",
       "    }\n",
       "\n",
       "    .dataframe thead tr th {\n",
       "        text-align: left;\n",
       "    }\n",
       "\n",
       "    .dataframe thead tr:last-of-type th {\n",
       "        text-align: right;\n",
       "    }\n",
       "</style>\n",
       "<table border=\"1\" class=\"dataframe\">\n",
       "  <thead>\n",
       "    <tr>\n",
       "      <th></th>\n",
       "      <th colspan=\"3\" halign=\"left\">debt</th>\n",
       "    </tr>\n",
       "    <tr>\n",
       "      <th></th>\n",
       "      <th>count</th>\n",
       "      <th>sum</th>\n",
       "      <th>mean</th>\n",
       "    </tr>\n",
       "    <tr>\n",
       "      <th>purpose_category</th>\n",
       "      <th></th>\n",
       "      <th></th>\n",
       "      <th></th>\n",
       "    </tr>\n",
       "  </thead>\n",
       "  <tbody>\n",
       "    <tr>\n",
       "      <th>операции с автомобилем</th>\n",
       "      <td>4279</td>\n",
       "      <td>400</td>\n",
       "      <td>0.093480</td>\n",
       "    </tr>\n",
       "    <tr>\n",
       "      <th>операции с недвижимостью</th>\n",
       "      <td>10751</td>\n",
       "      <td>780</td>\n",
       "      <td>0.072551</td>\n",
       "    </tr>\n",
       "    <tr>\n",
       "      <th>получение образования</th>\n",
       "      <td>3988</td>\n",
       "      <td>369</td>\n",
       "      <td>0.092528</td>\n",
       "    </tr>\n",
       "    <tr>\n",
       "      <th>проведение свадьбы</th>\n",
       "      <td>2313</td>\n",
       "      <td>183</td>\n",
       "      <td>0.079118</td>\n",
       "    </tr>\n",
       "  </tbody>\n",
       "</table>\n",
       "</div>"
      ],
      "text/plain": [
       "                           debt               \n",
       "                          count  sum      mean\n",
       "purpose_category                              \n",
       "операции с автомобилем     4279  400  0.093480\n",
       "операции с недвижимостью  10751  780  0.072551\n",
       "получение образования      3988  369  0.092528\n",
       "проведение свадьбы         2313  183  0.079118"
      ]
     },
     "execution_count": 25,
     "metadata": {},
     "output_type": "execute_result"
    }
   ],
   "source": [
    "# Ваш код будет здесь. Вы можете создавать новые ячейки.\n",
    "\n",
    "purpose_debt = data.groupby(\"purpose_category\").agg({\"debt\":[\"count\",\"sum\",\"mean\"]})\n",
    "purpose_debt"
   ]
  },
  {
   "cell_type": "markdown",
   "metadata": {
    "deletable": false,
    "id": "b4bb2ce6"
   },
   "source": [
    "**Вывод:** Данные показывают, что в категории \"операции с автомобилем\" больше всего доля должников, а в категории \"операции с недвижимостью\" - меньше всего. Также высока доля должников в категории \"получение образования\", а на цели \"проведение свадьбы\" меньше всего берут кредит и доля должников невысока. Из этого можно сделать вывод о том, что наиболее неплатежеспособными категориями должников являются клиенты, берущие кредит на цели операций с автомобилем и получения образования."
   ]
  },
  {
   "cell_type": "markdown",
   "metadata": {
    "deletable": false,
    "editable": false,
    "id": "09c3ac4c"
   },
   "source": [
    "#### 3.5 Приведите возможные причины появления пропусков в исходных данных."
   ]
  },
  {
   "cell_type": "markdown",
   "metadata": {
    "deletable": false,
    "id": "9da2ceda"
   },
   "source": [
    "*Ответ:* Ошибки ввода данных, намеренное сокрытие информации самим клиентом, технический сбой"
   ]
  },
  {
   "cell_type": "markdown",
   "metadata": {
    "deletable": false,
    "editable": false,
    "id": "7b0487d6"
   },
   "source": [
    "#### 3.6 Объясните, почему заполнить пропуски медианным значением — лучшее решение для количественных переменных."
   ]
  },
  {
   "cell_type": "markdown",
   "metadata": {
    "deletable": false,
    "id": "7ecf2b8e"
   },
   "source": [
    "*Ответ:* Среднее значение некорректно характеризует данные, когда некоторые значения сильно выделяются среди большинства. Когда в выборке присутствуют выдающиеся значения (например, 300 против 100), лучше использовать медиану. Это более объективная информация, чем среднее значение."
   ]
  },
  {
   "cell_type": "markdown",
   "metadata": {
    "deletable": false,
    "editable": false,
    "id": "6db5255a"
   },
   "source": [
    "### Шаг 4: общий вывод."
   ]
  },
  {
   "cell_type": "markdown",
   "metadata": {
    "deletable": false,
    "id": "bad65432"
   },
   "source": [
    "Напишите ваш общий вывод. \n",
    "\n",
    "Из исследования данных можно сделать следующие выводы:\n",
    "\n",
    "- Клиенты, имеющие больше детей менее платежеспособны. \n",
    "\n",
    "- Клиенты, состоящие в браке, больше берут кредит, но более платежеспособны. \n",
    "\n",
    "- Наиболее рискованные категории клиентов — это люди со средним уровнем дохода (50001–200000).\n",
    "\n",
    "- Наиболее неплатежеспособными категориями должников являются клиенты, берущие кредит на цели операций с автомобилем и получения образования.\n",
    "\n",
    "Общий вывод: клиенты, имеющие больше детей, не состоящие в браке, со средним доходом, а также берущие кредит на цели операций с автомобилем и получения образования - менее расположены для погашения кредита в срок. \n",
    "\n",
    "Рекомендации заказчику: 1) обратить внимание на клиентов вообще не имеющих детей - их количество самое высокое, при этом доля должников наименьшая; 2) обратить внимание на клиентов, находящихся в официальном браке - их количество наиболее высокое, при этом доля должников наименьшая; 3) более тщательно отбирать заемщиков со средним уровнем дохода, а также берущих кредит на цели операций с автомобилем и получения образования. 4) при сборе данных обратить внимание на несбалансированность данных в категориях и увеличить выборку количества заемщиков в тех, где они существенно меньше."
   ]
  },
  {
   "cell_type": "code",
   "execution_count": null,
   "metadata": {},
   "outputs": [],
   "source": []
  }
 ],
 "metadata": {
  "ExecuteTimeLog": [
   {
    "duration": 45,
    "start_time": "2022-11-24T07:37:59.689Z"
   },
   {
    "duration": 670,
    "start_time": "2022-11-24T07:38:05.619Z"
   },
   {
    "duration": 21,
    "start_time": "2022-11-24T07:38:06.291Z"
   },
   {
    "duration": 24,
    "start_time": "2022-11-24T07:38:06.313Z"
   },
   {
    "duration": 24,
    "start_time": "2022-11-24T07:38:06.339Z"
   },
   {
    "duration": 49,
    "start_time": "2022-11-24T07:38:06.364Z"
   },
   {
    "duration": 16,
    "start_time": "2022-11-24T07:38:06.414Z"
   },
   {
    "duration": 33,
    "start_time": "2022-11-24T07:38:06.431Z"
   },
   {
    "duration": 48,
    "start_time": "2022-11-24T07:38:06.465Z"
   },
   {
    "duration": 18,
    "start_time": "2022-11-24T07:38:06.514Z"
   },
   {
    "duration": 15,
    "start_time": "2022-11-24T07:38:06.534Z"
   },
   {
    "duration": 65,
    "start_time": "2022-11-24T07:38:06.550Z"
   },
   {
    "duration": 8,
    "start_time": "2022-11-24T07:38:06.617Z"
   },
   {
    "duration": 24,
    "start_time": "2022-11-24T07:38:06.626Z"
   },
   {
    "duration": 25,
    "start_time": "2022-11-24T07:38:06.651Z"
   },
   {
    "duration": 44,
    "start_time": "2022-11-24T07:38:06.677Z"
   },
   {
    "duration": 32,
    "start_time": "2022-11-24T07:38:06.722Z"
   },
   {
    "duration": 26,
    "start_time": "2022-11-24T07:38:06.756Z"
   },
   {
    "duration": 21,
    "start_time": "2022-11-24T07:38:06.783Z"
   },
   {
    "duration": 19,
    "start_time": "2022-11-24T07:38:06.806Z"
   },
   {
    "duration": 25,
    "start_time": "2022-11-24T07:38:06.827Z"
   },
   {
    "duration": 47,
    "start_time": "2022-11-24T07:38:06.853Z"
   },
   {
    "duration": 49,
    "start_time": "2022-11-24T07:38:06.902Z"
   },
   {
    "duration": 23,
    "start_time": "2022-11-24T07:38:06.953Z"
   },
   {
    "duration": 45,
    "start_time": "2022-11-24T07:38:06.977Z"
   },
   {
    "duration": 19,
    "start_time": "2022-11-24T07:38:07.024Z"
   },
   {
    "duration": 3,
    "start_time": "2022-11-24T07:40:08.809Z"
   },
   {
    "duration": 10,
    "start_time": "2022-11-24T07:40:11.014Z"
   },
   {
    "duration": 4,
    "start_time": "2022-11-24T07:40:57.780Z"
   },
   {
    "duration": 6,
    "start_time": "2022-11-24T07:44:00.807Z"
   },
   {
    "duration": 6,
    "start_time": "2022-11-24T07:52:45.581Z"
   },
   {
    "duration": 6,
    "start_time": "2022-11-24T07:53:15.956Z"
   },
   {
    "duration": 490,
    "start_time": "2022-11-24T07:53:38.384Z"
   },
   {
    "duration": 23,
    "start_time": "2022-11-24T07:53:38.875Z"
   },
   {
    "duration": 14,
    "start_time": "2022-11-24T07:53:38.900Z"
   },
   {
    "duration": 11,
    "start_time": "2022-11-24T07:53:38.916Z"
   },
   {
    "duration": 31,
    "start_time": "2022-11-24T07:53:38.929Z"
   },
   {
    "duration": 3,
    "start_time": "2022-11-24T07:53:38.962Z"
   },
   {
    "duration": 36,
    "start_time": "2022-11-24T07:53:38.966Z"
   },
   {
    "duration": 5,
    "start_time": "2022-11-24T07:53:39.004Z"
   },
   {
    "duration": 9,
    "start_time": "2022-11-24T07:53:39.011Z"
   },
   {
    "duration": 5,
    "start_time": "2022-11-24T07:53:39.023Z"
   },
   {
    "duration": 67,
    "start_time": "2022-11-24T07:53:39.030Z"
   },
   {
    "duration": 11,
    "start_time": "2022-11-24T07:53:39.098Z"
   },
   {
    "duration": 7,
    "start_time": "2022-11-24T07:53:39.111Z"
   },
   {
    "duration": 31,
    "start_time": "2022-11-24T07:53:39.120Z"
   },
   {
    "duration": 27,
    "start_time": "2022-11-24T07:53:39.153Z"
   },
   {
    "duration": 17,
    "start_time": "2022-11-24T07:53:39.182Z"
   },
   {
    "duration": 4,
    "start_time": "2022-11-24T07:53:39.200Z"
   },
   {
    "duration": 12,
    "start_time": "2022-11-24T07:53:39.206Z"
   },
   {
    "duration": 7,
    "start_time": "2022-11-24T07:53:39.219Z"
   },
   {
    "duration": 13,
    "start_time": "2022-11-24T07:53:39.228Z"
   },
   {
    "duration": 10,
    "start_time": "2022-11-24T07:53:39.242Z"
   },
   {
    "duration": 7,
    "start_time": "2022-11-24T07:53:39.253Z"
   },
   {
    "duration": 36,
    "start_time": "2022-11-24T07:53:39.261Z"
   },
   {
    "duration": 8,
    "start_time": "2022-11-24T07:53:39.299Z"
   },
   {
    "duration": 4,
    "start_time": "2022-11-24T07:53:39.309Z"
   },
   {
    "duration": 6,
    "start_time": "2022-11-24T07:53:39.314Z"
   },
   {
    "duration": 9,
    "start_time": "2022-11-24T07:53:39.321Z"
   },
   {
    "duration": 5,
    "start_time": "2022-11-24T07:53:39.334Z"
   },
   {
    "duration": 7,
    "start_time": "2022-11-24T07:53:52.126Z"
   },
   {
    "duration": 490,
    "start_time": "2022-11-24T07:54:05.089Z"
   },
   {
    "duration": 23,
    "start_time": "2022-11-24T07:54:05.581Z"
   },
   {
    "duration": 15,
    "start_time": "2022-11-24T07:54:05.606Z"
   },
   {
    "duration": 9,
    "start_time": "2022-11-24T07:54:05.623Z"
   },
   {
    "duration": 33,
    "start_time": "2022-11-24T07:54:05.633Z"
   },
   {
    "duration": 3,
    "start_time": "2022-11-24T07:54:05.668Z"
   },
   {
    "duration": 8,
    "start_time": "2022-11-24T07:54:05.696Z"
   },
   {
    "duration": 5,
    "start_time": "2022-11-24T07:54:05.706Z"
   },
   {
    "duration": 8,
    "start_time": "2022-11-24T07:54:05.712Z"
   },
   {
    "duration": 4,
    "start_time": "2022-11-24T07:54:05.723Z"
   },
   {
    "duration": 33,
    "start_time": "2022-11-24T07:54:05.729Z"
   },
   {
    "duration": 36,
    "start_time": "2022-11-24T07:54:05.764Z"
   },
   {
    "duration": 11,
    "start_time": "2022-11-24T07:54:05.802Z"
   },
   {
    "duration": 18,
    "start_time": "2022-11-24T07:54:05.815Z"
   },
   {
    "duration": 19,
    "start_time": "2022-11-24T07:54:05.835Z"
   },
   {
    "duration": 22,
    "start_time": "2022-11-24T07:54:05.855Z"
   },
   {
    "duration": 4,
    "start_time": "2022-11-24T07:54:05.880Z"
   },
   {
    "duration": 11,
    "start_time": "2022-11-24T07:54:05.897Z"
   },
   {
    "duration": 17,
    "start_time": "2022-11-24T07:54:05.910Z"
   },
   {
    "duration": 6,
    "start_time": "2022-11-24T07:54:05.929Z"
   },
   {
    "duration": 20,
    "start_time": "2022-11-24T07:54:05.937Z"
   },
   {
    "duration": 12,
    "start_time": "2022-11-24T07:54:05.958Z"
   },
   {
    "duration": 8,
    "start_time": "2022-11-24T07:54:05.971Z"
   },
   {
    "duration": 231,
    "start_time": "2022-11-24T07:54:05.980Z"
   },
   {
    "duration": 3,
    "start_time": "2022-11-24T07:54:06.213Z"
   },
   {
    "duration": 11,
    "start_time": "2022-11-24T07:54:06.218Z"
   },
   {
    "duration": 7,
    "start_time": "2022-11-24T07:54:06.231Z"
   },
   {
    "duration": 6,
    "start_time": "2022-11-24T07:54:06.241Z"
   },
   {
    "duration": 4,
    "start_time": "2022-11-24T07:54:42.857Z"
   },
   {
    "duration": 246,
    "start_time": "2022-11-24T07:56:10.377Z"
   },
   {
    "duration": 7,
    "start_time": "2022-11-24T08:01:29.346Z"
   },
   {
    "duration": 7,
    "start_time": "2022-11-24T08:03:42.300Z"
   },
   {
    "duration": 4,
    "start_time": "2022-11-24T08:03:53.014Z"
   },
   {
    "duration": 12,
    "start_time": "2022-11-24T08:04:05.001Z"
   },
   {
    "duration": 470,
    "start_time": "2022-11-24T08:04:54.286Z"
   },
   {
    "duration": 25,
    "start_time": "2022-11-24T08:04:54.758Z"
   },
   {
    "duration": 13,
    "start_time": "2022-11-24T08:04:54.785Z"
   },
   {
    "duration": 8,
    "start_time": "2022-11-24T08:04:54.801Z"
   },
   {
    "duration": 35,
    "start_time": "2022-11-24T08:04:54.811Z"
   },
   {
    "duration": 3,
    "start_time": "2022-11-24T08:04:54.848Z"
   },
   {
    "duration": 14,
    "start_time": "2022-11-24T08:04:54.853Z"
   },
   {
    "duration": 4,
    "start_time": "2022-11-24T08:04:54.868Z"
   },
   {
    "duration": 29,
    "start_time": "2022-11-24T08:04:54.873Z"
   },
   {
    "duration": 4,
    "start_time": "2022-11-24T08:04:54.905Z"
   },
   {
    "duration": 35,
    "start_time": "2022-11-24T08:04:54.911Z"
   },
   {
    "duration": 10,
    "start_time": "2022-11-24T08:04:54.948Z"
   },
   {
    "duration": 9,
    "start_time": "2022-11-24T08:04:54.959Z"
   },
   {
    "duration": 29,
    "start_time": "2022-11-24T08:04:54.969Z"
   },
   {
    "duration": 30,
    "start_time": "2022-11-24T08:04:55.000Z"
   },
   {
    "duration": 16,
    "start_time": "2022-11-24T08:04:55.032Z"
   },
   {
    "duration": 4,
    "start_time": "2022-11-24T08:04:55.049Z"
   },
   {
    "duration": 19,
    "start_time": "2022-11-24T08:04:55.055Z"
   },
   {
    "duration": 8,
    "start_time": "2022-11-24T08:04:55.076Z"
   },
   {
    "duration": 5,
    "start_time": "2022-11-24T08:04:55.097Z"
   },
   {
    "duration": 21,
    "start_time": "2022-11-24T08:04:55.104Z"
   },
   {
    "duration": 12,
    "start_time": "2022-11-24T08:04:55.127Z"
   },
   {
    "duration": 16,
    "start_time": "2022-11-24T08:04:55.141Z"
   },
   {
    "duration": 15,
    "start_time": "2022-11-24T08:04:55.158Z"
   },
   {
    "duration": 10,
    "start_time": "2022-11-24T08:04:55.174Z"
   },
   {
    "duration": 18,
    "start_time": "2022-11-24T08:04:55.186Z"
   },
   {
    "duration": 10,
    "start_time": "2022-11-24T08:04:55.205Z"
   },
   {
    "duration": 16,
    "start_time": "2022-11-24T08:05:10.321Z"
   },
   {
    "duration": 17,
    "start_time": "2022-11-24T08:05:23.241Z"
   },
   {
    "duration": 5,
    "start_time": "2022-11-24T08:05:46.350Z"
   },
   {
    "duration": 17,
    "start_time": "2022-11-24T08:06:17.308Z"
   },
   {
    "duration": 4,
    "start_time": "2022-11-24T08:08:26.432Z"
   },
   {
    "duration": 4,
    "start_time": "2022-11-24T08:08:34.863Z"
   },
   {
    "duration": 4,
    "start_time": "2022-11-24T08:08:46.896Z"
   },
   {
    "duration": 5,
    "start_time": "2022-11-24T08:08:54.396Z"
   },
   {
    "duration": 9,
    "start_time": "2022-11-24T08:12:34.499Z"
   },
   {
    "duration": 469,
    "start_time": "2022-11-24T08:13:28.473Z"
   },
   {
    "duration": 22,
    "start_time": "2022-11-24T08:13:28.944Z"
   },
   {
    "duration": 21,
    "start_time": "2022-11-24T08:13:28.968Z"
   },
   {
    "duration": 18,
    "start_time": "2022-11-24T08:13:28.991Z"
   },
   {
    "duration": 35,
    "start_time": "2022-11-24T08:13:29.010Z"
   },
   {
    "duration": 3,
    "start_time": "2022-11-24T08:13:29.046Z"
   },
   {
    "duration": 25,
    "start_time": "2022-11-24T08:13:29.051Z"
   },
   {
    "duration": 15,
    "start_time": "2022-11-24T08:13:29.077Z"
   },
   {
    "duration": 15,
    "start_time": "2022-11-24T08:13:29.093Z"
   },
   {
    "duration": 9,
    "start_time": "2022-11-24T08:13:29.110Z"
   },
   {
    "duration": 48,
    "start_time": "2022-11-24T08:13:29.120Z"
   },
   {
    "duration": 9,
    "start_time": "2022-11-24T08:13:29.169Z"
   },
   {
    "duration": 10,
    "start_time": "2022-11-24T08:13:29.180Z"
   },
   {
    "duration": 16,
    "start_time": "2022-11-24T08:13:29.192Z"
   },
   {
    "duration": 18,
    "start_time": "2022-11-24T08:13:29.209Z"
   },
   {
    "duration": 15,
    "start_time": "2022-11-24T08:13:29.229Z"
   },
   {
    "duration": 4,
    "start_time": "2022-11-24T08:13:29.246Z"
   },
   {
    "duration": 14,
    "start_time": "2022-11-24T08:13:29.251Z"
   },
   {
    "duration": 12,
    "start_time": "2022-11-24T08:13:29.266Z"
   },
   {
    "duration": 5,
    "start_time": "2022-11-24T08:13:29.280Z"
   },
   {
    "duration": 8,
    "start_time": "2022-11-24T08:13:29.297Z"
   },
   {
    "duration": 26,
    "start_time": "2022-11-24T08:13:29.306Z"
   },
   {
    "duration": 19,
    "start_time": "2022-11-24T08:13:29.333Z"
   },
   {
    "duration": 3,
    "start_time": "2022-11-24T08:13:29.354Z"
   },
   {
    "duration": 9,
    "start_time": "2022-11-24T08:13:29.358Z"
   },
   {
    "duration": 9,
    "start_time": "2022-11-24T08:15:16.621Z"
   },
   {
    "duration": 5,
    "start_time": "2022-11-24T08:20:33.139Z"
   },
   {
    "duration": 446,
    "start_time": "2022-11-24T08:20:57.826Z"
   },
   {
    "duration": 21,
    "start_time": "2022-11-24T08:20:58.275Z"
   },
   {
    "duration": 14,
    "start_time": "2022-11-24T08:20:58.298Z"
   },
   {
    "duration": 9,
    "start_time": "2022-11-24T08:20:58.314Z"
   },
   {
    "duration": 32,
    "start_time": "2022-11-24T08:20:58.324Z"
   },
   {
    "duration": 4,
    "start_time": "2022-11-24T08:20:58.357Z"
   },
   {
    "duration": 35,
    "start_time": "2022-11-24T08:20:58.362Z"
   },
   {
    "duration": 4,
    "start_time": "2022-11-24T08:20:58.399Z"
   },
   {
    "duration": 19,
    "start_time": "2022-11-24T08:20:58.404Z"
   },
   {
    "duration": 13,
    "start_time": "2022-11-24T08:20:58.425Z"
   },
   {
    "duration": 45,
    "start_time": "2022-11-24T08:20:58.440Z"
   },
   {
    "duration": 8,
    "start_time": "2022-11-24T08:20:58.487Z"
   },
   {
    "duration": 14,
    "start_time": "2022-11-24T08:20:58.496Z"
   },
   {
    "duration": 27,
    "start_time": "2022-11-24T08:20:58.511Z"
   },
   {
    "duration": 42,
    "start_time": "2022-11-24T08:20:58.539Z"
   },
   {
    "duration": 20,
    "start_time": "2022-11-24T08:20:58.583Z"
   },
   {
    "duration": 3,
    "start_time": "2022-11-24T08:20:58.604Z"
   },
   {
    "duration": 12,
    "start_time": "2022-11-24T08:20:58.609Z"
   },
   {
    "duration": 10,
    "start_time": "2022-11-24T08:20:58.624Z"
   },
   {
    "duration": 17,
    "start_time": "2022-11-24T08:20:58.636Z"
   },
   {
    "duration": 26,
    "start_time": "2022-11-24T08:20:58.654Z"
   },
   {
    "duration": 14,
    "start_time": "2022-11-24T08:20:58.682Z"
   },
   {
    "duration": 14,
    "start_time": "2022-11-24T08:20:58.698Z"
   },
   {
    "duration": 14,
    "start_time": "2022-11-24T08:20:58.714Z"
   },
   {
    "duration": 7,
    "start_time": "2022-11-24T08:20:58.729Z"
   },
   {
    "duration": 12,
    "start_time": "2022-11-24T08:23:43.824Z"
   },
   {
    "duration": 9,
    "start_time": "2022-11-24T08:27:02.447Z"
   },
   {
    "duration": 8,
    "start_time": "2022-11-24T08:33:11.784Z"
   },
   {
    "duration": 66,
    "start_time": "2022-11-24T08:33:50.766Z"
   },
   {
    "duration": 7,
    "start_time": "2022-11-24T08:33:55.074Z"
   },
   {
    "duration": 5,
    "start_time": "2022-11-24T08:34:43.903Z"
   },
   {
    "duration": 7,
    "start_time": "2022-11-24T08:34:53.484Z"
   },
   {
    "duration": 9,
    "start_time": "2022-11-24T08:35:24.836Z"
   },
   {
    "duration": 10,
    "start_time": "2022-11-24T08:35:39.986Z"
   },
   {
    "duration": 192,
    "start_time": "2022-11-24T08:36:29.547Z"
   },
   {
    "duration": 27,
    "start_time": "2022-11-24T08:36:42.003Z"
   },
   {
    "duration": 17,
    "start_time": "2022-11-24T08:37:01.145Z"
   },
   {
    "duration": 21,
    "start_time": "2022-11-24T08:37:04.359Z"
   },
   {
    "duration": 18,
    "start_time": "2022-11-24T08:37:18.870Z"
   },
   {
    "duration": 49,
    "start_time": "2022-11-24T08:38:30.294Z"
   },
   {
    "duration": 8,
    "start_time": "2022-11-24T08:38:37.027Z"
   },
   {
    "duration": 5,
    "start_time": "2022-11-24T08:39:04.572Z"
   },
   {
    "duration": 8,
    "start_time": "2022-11-24T08:39:09.107Z"
   },
   {
    "duration": 11,
    "start_time": "2022-11-24T08:40:54.950Z"
   },
   {
    "duration": 5,
    "start_time": "2022-11-24T08:41:55.169Z"
   },
   {
    "duration": 6,
    "start_time": "2022-11-24T08:42:07.135Z"
   },
   {
    "duration": 5,
    "start_time": "2022-11-24T08:42:27.500Z"
   },
   {
    "duration": 5,
    "start_time": "2022-11-24T08:42:37.625Z"
   },
   {
    "duration": 7,
    "start_time": "2022-11-24T08:42:42.895Z"
   },
   {
    "duration": 8,
    "start_time": "2022-11-24T08:44:12.483Z"
   },
   {
    "duration": 9,
    "start_time": "2022-11-24T08:44:29.992Z"
   },
   {
    "duration": 8,
    "start_time": "2022-11-24T08:45:29.545Z"
   },
   {
    "duration": 6,
    "start_time": "2022-11-24T08:45:45.168Z"
   },
   {
    "duration": 8,
    "start_time": "2022-11-24T08:46:11.035Z"
   },
   {
    "duration": 11,
    "start_time": "2022-11-24T08:46:31.669Z"
   },
   {
    "duration": 12,
    "start_time": "2022-11-24T08:46:35.717Z"
   },
   {
    "duration": 12,
    "start_time": "2022-11-24T08:46:40.068Z"
   },
   {
    "duration": 12,
    "start_time": "2022-11-24T08:46:46.639Z"
   },
   {
    "duration": 11,
    "start_time": "2022-11-24T08:46:59.772Z"
   },
   {
    "duration": 12,
    "start_time": "2022-11-24T08:47:08.304Z"
   },
   {
    "duration": 12,
    "start_time": "2022-11-24T08:47:12.713Z"
   },
   {
    "duration": 13,
    "start_time": "2022-11-24T08:47:17.992Z"
   },
   {
    "duration": 11,
    "start_time": "2022-11-24T08:47:27.308Z"
   },
   {
    "duration": 12,
    "start_time": "2022-11-24T08:47:31.764Z"
   },
   {
    "duration": 11,
    "start_time": "2022-11-24T08:48:00.092Z"
   },
   {
    "duration": 4,
    "start_time": "2022-11-24T08:49:55.446Z"
   },
   {
    "duration": 6,
    "start_time": "2022-11-24T08:50:04.219Z"
   },
   {
    "duration": 510,
    "start_time": "2022-11-24T09:07:33.778Z"
   },
   {
    "duration": 22,
    "start_time": "2022-11-24T09:07:34.290Z"
   },
   {
    "duration": 16,
    "start_time": "2022-11-24T09:07:34.314Z"
   },
   {
    "duration": 9,
    "start_time": "2022-11-24T09:07:34.333Z"
   },
   {
    "duration": 52,
    "start_time": "2022-11-24T09:07:34.344Z"
   },
   {
    "duration": 4,
    "start_time": "2022-11-24T09:07:34.398Z"
   },
   {
    "duration": 19,
    "start_time": "2022-11-24T09:07:34.404Z"
   },
   {
    "duration": 13,
    "start_time": "2022-11-24T09:07:34.425Z"
   },
   {
    "duration": 11,
    "start_time": "2022-11-24T09:07:34.440Z"
   },
   {
    "duration": 8,
    "start_time": "2022-11-24T09:07:34.453Z"
   },
   {
    "duration": 41,
    "start_time": "2022-11-24T09:07:34.462Z"
   },
   {
    "duration": 9,
    "start_time": "2022-11-24T09:07:34.505Z"
   },
   {
    "duration": 6,
    "start_time": "2022-11-24T09:07:34.517Z"
   },
   {
    "duration": 15,
    "start_time": "2022-11-24T09:07:34.524Z"
   },
   {
    "duration": 20,
    "start_time": "2022-11-24T09:07:34.540Z"
   },
   {
    "duration": 41,
    "start_time": "2022-11-24T09:07:34.562Z"
   },
   {
    "duration": 3,
    "start_time": "2022-11-24T09:07:34.605Z"
   },
   {
    "duration": 13,
    "start_time": "2022-11-24T09:07:34.610Z"
   },
   {
    "duration": 11,
    "start_time": "2022-11-24T09:07:34.624Z"
   },
   {
    "duration": 6,
    "start_time": "2022-11-24T09:07:34.637Z"
   },
   {
    "duration": 22,
    "start_time": "2022-11-24T09:07:34.645Z"
   },
   {
    "duration": 9,
    "start_time": "2022-11-24T09:07:34.669Z"
   },
   {
    "duration": 21,
    "start_time": "2022-11-24T09:07:34.680Z"
   },
   {
    "duration": 12,
    "start_time": "2022-11-24T09:07:34.703Z"
   },
   {
    "duration": 7,
    "start_time": "2022-11-24T09:07:34.716Z"
   },
   {
    "duration": 11,
    "start_time": "2022-11-24T09:07:34.724Z"
   },
   {
    "duration": 580,
    "start_time": "2022-11-24T09:59:39.585Z"
   },
   {
    "duration": 25,
    "start_time": "2022-11-24T09:59:40.167Z"
   },
   {
    "duration": 20,
    "start_time": "2022-11-24T09:59:40.194Z"
   },
   {
    "duration": 12,
    "start_time": "2022-11-24T09:59:40.217Z"
   },
   {
    "duration": 51,
    "start_time": "2022-11-24T09:59:40.231Z"
   },
   {
    "duration": 4,
    "start_time": "2022-11-24T09:59:40.283Z"
   },
   {
    "duration": 9,
    "start_time": "2022-11-24T09:59:40.289Z"
   },
   {
    "duration": 5,
    "start_time": "2022-11-24T09:59:40.300Z"
   },
   {
    "duration": 9,
    "start_time": "2022-11-24T09:59:40.306Z"
   },
   {
    "duration": 5,
    "start_time": "2022-11-24T09:59:40.319Z"
   },
   {
    "duration": 34,
    "start_time": "2022-11-24T09:59:40.351Z"
   },
   {
    "duration": 10,
    "start_time": "2022-11-24T09:59:40.387Z"
   },
   {
    "duration": 4,
    "start_time": "2022-11-24T09:59:40.398Z"
   },
   {
    "duration": 12,
    "start_time": "2022-11-24T09:59:40.404Z"
   },
   {
    "duration": 45,
    "start_time": "2022-11-24T09:59:40.418Z"
   },
   {
    "duration": 24,
    "start_time": "2022-11-24T09:59:40.465Z"
   },
   {
    "duration": 4,
    "start_time": "2022-11-24T09:59:40.491Z"
   },
   {
    "duration": 17,
    "start_time": "2022-11-24T09:59:40.497Z"
   },
   {
    "duration": 7,
    "start_time": "2022-11-24T09:59:40.516Z"
   },
   {
    "duration": 27,
    "start_time": "2022-11-24T09:59:40.525Z"
   },
   {
    "duration": 12,
    "start_time": "2022-11-24T09:59:40.554Z"
   },
   {
    "duration": 8,
    "start_time": "2022-11-24T09:59:40.567Z"
   },
   {
    "duration": 10,
    "start_time": "2022-11-24T09:59:40.576Z"
   },
   {
    "duration": 12,
    "start_time": "2022-11-24T09:59:40.587Z"
   },
   {
    "duration": 7,
    "start_time": "2022-11-24T09:59:40.600Z"
   },
   {
    "duration": 43,
    "start_time": "2022-11-24T09:59:40.609Z"
   },
   {
    "duration": 56,
    "start_time": "2022-11-25T06:47:55.354Z"
   },
   {
    "duration": 753,
    "start_time": "2022-11-25T06:48:01.639Z"
   },
   {
    "duration": 24,
    "start_time": "2022-11-25T06:48:02.394Z"
   },
   {
    "duration": 16,
    "start_time": "2022-11-25T06:48:02.420Z"
   },
   {
    "duration": 18,
    "start_time": "2022-11-25T06:48:02.438Z"
   },
   {
    "duration": 37,
    "start_time": "2022-11-25T06:48:02.457Z"
   },
   {
    "duration": 4,
    "start_time": "2022-11-25T06:48:02.495Z"
   },
   {
    "duration": 11,
    "start_time": "2022-11-25T06:48:02.501Z"
   },
   {
    "duration": 5,
    "start_time": "2022-11-25T06:48:02.514Z"
   },
   {
    "duration": 36,
    "start_time": "2022-11-25T06:48:02.520Z"
   },
   {
    "duration": 5,
    "start_time": "2022-11-25T06:48:02.559Z"
   },
   {
    "duration": 39,
    "start_time": "2022-11-25T06:48:02.566Z"
   },
   {
    "duration": 13,
    "start_time": "2022-11-25T06:48:02.607Z"
   },
   {
    "duration": 5,
    "start_time": "2022-11-25T06:48:02.622Z"
   },
   {
    "duration": 13,
    "start_time": "2022-11-25T06:48:02.654Z"
   },
   {
    "duration": 36,
    "start_time": "2022-11-25T06:48:02.669Z"
   },
   {
    "duration": 19,
    "start_time": "2022-11-25T06:48:02.707Z"
   },
   {
    "duration": 4,
    "start_time": "2022-11-25T06:48:02.728Z"
   },
   {
    "duration": 27,
    "start_time": "2022-11-25T06:48:02.734Z"
   },
   {
    "duration": 6,
    "start_time": "2022-11-25T06:48:02.763Z"
   },
   {
    "duration": 4,
    "start_time": "2022-11-25T06:48:02.770Z"
   },
   {
    "duration": 11,
    "start_time": "2022-11-25T06:48:02.776Z"
   },
   {
    "duration": 19,
    "start_time": "2022-11-25T06:48:02.789Z"
   },
   {
    "duration": 14,
    "start_time": "2022-11-25T06:48:02.810Z"
   },
   {
    "duration": 38,
    "start_time": "2022-11-25T06:48:02.826Z"
   },
   {
    "duration": 8,
    "start_time": "2022-11-25T06:48:02.866Z"
   },
   {
    "duration": 16,
    "start_time": "2022-11-25T06:48:02.876Z"
   },
   {
    "duration": 5,
    "start_time": "2022-11-25T06:50:01.839Z"
   },
   {
    "duration": 6,
    "start_time": "2022-11-25T06:50:30.117Z"
   },
   {
    "duration": 28,
    "start_time": "2022-11-25T07:35:12.448Z"
   },
   {
    "duration": 510,
    "start_time": "2022-11-25T07:35:20.364Z"
   },
   {
    "duration": 27,
    "start_time": "2022-11-25T07:35:20.877Z"
   },
   {
    "duration": 18,
    "start_time": "2022-11-25T07:35:20.905Z"
   },
   {
    "duration": 30,
    "start_time": "2022-11-25T07:35:20.926Z"
   },
   {
    "duration": 56,
    "start_time": "2022-11-25T07:35:20.958Z"
   },
   {
    "duration": 4,
    "start_time": "2022-11-25T07:35:21.016Z"
   },
   {
    "duration": 31,
    "start_time": "2022-11-25T07:35:21.022Z"
   },
   {
    "duration": 12,
    "start_time": "2022-11-25T07:35:21.055Z"
   },
   {
    "duration": 17,
    "start_time": "2022-11-25T07:35:21.069Z"
   },
   {
    "duration": 19,
    "start_time": "2022-11-25T07:35:21.090Z"
   },
   {
    "duration": 53,
    "start_time": "2022-11-25T07:35:21.110Z"
   },
   {
    "duration": 10,
    "start_time": "2022-11-25T07:35:21.165Z"
   },
   {
    "duration": 14,
    "start_time": "2022-11-25T07:35:21.176Z"
   },
   {
    "duration": 19,
    "start_time": "2022-11-25T07:35:21.192Z"
   },
   {
    "duration": 38,
    "start_time": "2022-11-25T07:35:21.212Z"
   },
   {
    "duration": 18,
    "start_time": "2022-11-25T07:35:21.251Z"
   },
   {
    "duration": 4,
    "start_time": "2022-11-25T07:35:21.270Z"
   },
   {
    "duration": 13,
    "start_time": "2022-11-25T07:35:21.276Z"
   },
   {
    "duration": 5,
    "start_time": "2022-11-25T07:35:21.291Z"
   },
   {
    "duration": 5,
    "start_time": "2022-11-25T07:35:21.298Z"
   },
   {
    "duration": 12,
    "start_time": "2022-11-25T07:35:21.304Z"
   },
   {
    "duration": 51,
    "start_time": "2022-11-25T07:35:21.318Z"
   },
   {
    "duration": 10,
    "start_time": "2022-11-25T07:35:21.371Z"
   },
   {
    "duration": 11,
    "start_time": "2022-11-25T07:35:21.383Z"
   },
   {
    "duration": 6,
    "start_time": "2022-11-25T07:35:21.396Z"
   },
   {
    "duration": 10,
    "start_time": "2022-11-25T07:35:21.403Z"
   },
   {
    "duration": 22,
    "start_time": "2022-11-25T07:37:13.785Z"
   },
   {
    "duration": 61,
    "start_time": "2022-11-25T07:39:22.110Z"
   },
   {
    "duration": 41,
    "start_time": "2022-11-25T07:39:38.298Z"
   },
   {
    "duration": 9,
    "start_time": "2022-11-25T07:51:31.796Z"
   },
   {
    "duration": 10,
    "start_time": "2022-11-25T07:59:24.115Z"
   },
   {
    "duration": 11,
    "start_time": "2022-11-25T08:03:50.948Z"
   },
   {
    "duration": 15,
    "start_time": "2022-11-25T08:05:32.240Z"
   },
   {
    "duration": 12,
    "start_time": "2022-11-25T08:07:34.759Z"
   },
   {
    "duration": 13,
    "start_time": "2022-11-25T08:09:10.191Z"
   },
   {
    "duration": 63,
    "start_time": "2022-11-25T08:09:23.296Z"
   },
   {
    "duration": 12,
    "start_time": "2022-11-25T08:09:28.667Z"
   },
   {
    "duration": 13,
    "start_time": "2022-11-25T08:10:13.978Z"
   },
   {
    "duration": 11,
    "start_time": "2022-11-25T08:11:16.655Z"
   },
   {
    "duration": 13,
    "start_time": "2022-11-25T08:17:42.470Z"
   },
   {
    "duration": 27,
    "start_time": "2022-11-25T08:21:15.035Z"
   },
   {
    "duration": 27,
    "start_time": "2022-11-25T08:21:46.552Z"
   },
   {
    "duration": 12,
    "start_time": "2022-11-25T08:45:23.000Z"
   },
   {
    "duration": 560,
    "start_time": "2022-11-25T09:14:46.735Z"
   },
   {
    "duration": 25,
    "start_time": "2022-11-25T09:14:47.297Z"
   },
   {
    "duration": 30,
    "start_time": "2022-11-25T09:14:47.325Z"
   },
   {
    "duration": 38,
    "start_time": "2022-11-25T09:14:47.357Z"
   },
   {
    "duration": 62,
    "start_time": "2022-11-25T09:14:47.397Z"
   },
   {
    "duration": 7,
    "start_time": "2022-11-25T09:14:47.461Z"
   },
   {
    "duration": 37,
    "start_time": "2022-11-25T09:14:47.469Z"
   },
   {
    "duration": 26,
    "start_time": "2022-11-25T09:14:47.508Z"
   },
   {
    "duration": 37,
    "start_time": "2022-11-25T09:14:47.535Z"
   },
   {
    "duration": 21,
    "start_time": "2022-11-25T09:14:47.578Z"
   },
   {
    "duration": 53,
    "start_time": "2022-11-25T09:14:47.601Z"
   },
   {
    "duration": 19,
    "start_time": "2022-11-25T09:14:47.656Z"
   },
   {
    "duration": 15,
    "start_time": "2022-11-25T09:14:47.676Z"
   },
   {
    "duration": 37,
    "start_time": "2022-11-25T09:14:47.693Z"
   },
   {
    "duration": 40,
    "start_time": "2022-11-25T09:14:47.732Z"
   },
   {
    "duration": 32,
    "start_time": "2022-11-25T09:14:47.774Z"
   },
   {
    "duration": 23,
    "start_time": "2022-11-25T09:14:47.808Z"
   },
   {
    "duration": 31,
    "start_time": "2022-11-25T09:14:47.833Z"
   },
   {
    "duration": 27,
    "start_time": "2022-11-25T09:14:47.866Z"
   },
   {
    "duration": 21,
    "start_time": "2022-11-25T09:14:47.894Z"
   },
   {
    "duration": 39,
    "start_time": "2022-11-25T09:14:47.916Z"
   },
   {
    "duration": 42,
    "start_time": "2022-11-25T09:14:47.957Z"
   },
   {
    "duration": 33,
    "start_time": "2022-11-25T09:14:48.001Z"
   },
   {
    "duration": 35,
    "start_time": "2022-11-25T09:14:48.036Z"
   },
   {
    "duration": 8,
    "start_time": "2022-11-25T09:14:48.073Z"
   },
   {
    "duration": 21,
    "start_time": "2022-11-25T09:14:48.082Z"
   },
   {
    "duration": 18,
    "start_time": "2022-11-25T09:26:25.201Z"
   },
   {
    "duration": 8,
    "start_time": "2022-11-25T09:26:38.105Z"
   },
   {
    "duration": 129,
    "start_time": "2022-11-25T09:27:00.618Z"
   },
   {
    "duration": 6,
    "start_time": "2022-11-25T09:27:14.173Z"
   },
   {
    "duration": 15,
    "start_time": "2022-11-25T09:28:01.955Z"
   },
   {
    "duration": 14,
    "start_time": "2022-11-25T09:35:33.228Z"
   },
   {
    "duration": 9,
    "start_time": "2022-11-25T09:38:16.794Z"
   },
   {
    "duration": 7,
    "start_time": "2022-11-25T09:38:41.278Z"
   },
   {
    "duration": 7,
    "start_time": "2022-11-25T09:42:29.327Z"
   },
   {
    "duration": 9,
    "start_time": "2022-11-25T09:42:59.485Z"
   },
   {
    "duration": 19,
    "start_time": "2022-11-25T09:43:02.143Z"
   },
   {
    "duration": 541,
    "start_time": "2022-11-25T09:43:07.739Z"
   },
   {
    "duration": 25,
    "start_time": "2022-11-25T09:43:08.282Z"
   },
   {
    "duration": 17,
    "start_time": "2022-11-25T09:43:08.309Z"
   },
   {
    "duration": 27,
    "start_time": "2022-11-25T09:43:08.329Z"
   },
   {
    "duration": 37,
    "start_time": "2022-11-25T09:43:08.358Z"
   },
   {
    "duration": 4,
    "start_time": "2022-11-25T09:43:08.397Z"
   },
   {
    "duration": 11,
    "start_time": "2022-11-25T09:43:08.403Z"
   },
   {
    "duration": 5,
    "start_time": "2022-11-25T09:43:08.416Z"
   },
   {
    "duration": 35,
    "start_time": "2022-11-25T09:43:08.423Z"
   },
   {
    "duration": 5,
    "start_time": "2022-11-25T09:43:08.462Z"
   },
   {
    "duration": 42,
    "start_time": "2022-11-25T09:43:08.468Z"
   },
   {
    "duration": 11,
    "start_time": "2022-11-25T09:43:08.511Z"
   },
   {
    "duration": 4,
    "start_time": "2022-11-25T09:43:08.524Z"
   },
   {
    "duration": 36,
    "start_time": "2022-11-25T09:43:08.530Z"
   },
   {
    "duration": 28,
    "start_time": "2022-11-25T09:43:08.568Z"
   },
   {
    "duration": 19,
    "start_time": "2022-11-25T09:43:08.597Z"
   },
   {
    "duration": 5,
    "start_time": "2022-11-25T09:43:08.618Z"
   },
   {
    "duration": 37,
    "start_time": "2022-11-25T09:43:08.624Z"
   },
   {
    "duration": 10,
    "start_time": "2022-11-25T09:43:08.663Z"
   },
   {
    "duration": 7,
    "start_time": "2022-11-25T09:43:08.675Z"
   },
   {
    "duration": 13,
    "start_time": "2022-11-25T09:43:08.683Z"
   },
   {
    "duration": 10,
    "start_time": "2022-11-25T09:43:08.698Z"
   },
   {
    "duration": 12,
    "start_time": "2022-11-25T09:43:08.710Z"
   },
   {
    "duration": 35,
    "start_time": "2022-11-25T09:43:08.724Z"
   },
   {
    "duration": 15,
    "start_time": "2022-11-25T09:43:08.761Z"
   }
  ],
  "colab": {
   "name": "dpp_template_part2.ipynb",
   "provenance": []
  },
  "kernelspec": {
   "display_name": "Python 3",
   "language": "python",
   "name": "python3"
  },
  "language_info": {
   "codemirror_mode": {
    "name": "ipython",
    "version": 3
   },
   "file_extension": ".py",
   "mimetype": "text/x-python",
   "name": "python",
   "nbconvert_exporter": "python",
   "pygments_lexer": "ipython3",
   "version": "3.7.3"
  },
  "toc": {
   "base_numbering": 1,
   "nav_menu": {},
   "number_sections": true,
   "sideBar": true,
   "skip_h1_title": true,
   "title_cell": "Table of Contents",
   "title_sidebar": "Contents",
   "toc_cell": false,
   "toc_position": {},
   "toc_section_display": true,
   "toc_window_display": false
  }
 },
 "nbformat": 4,
 "nbformat_minor": 5
}
