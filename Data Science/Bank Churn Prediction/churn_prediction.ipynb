{
 "cells": [
  {
   "cell_type": "markdown",
   "metadata": {
    "toc": true
   },
   "source": [
    "<h1>Содержание<span class=\"tocSkip\"></span></h1>\n",
    "<div class=\"toc\"><ul class=\"toc-item\"><li><span><a href=\"#Подготовка-данных\" data-toc-modified-id=\"Подготовка-данных-1\"><span class=\"toc-item-num\">1&nbsp;&nbsp;</span>Подготовка данных</a></span></li><li><span><a href=\"#Исследование-задачи\" data-toc-modified-id=\"Исследование-задачи-2\"><span class=\"toc-item-num\">2&nbsp;&nbsp;</span>Исследование задачи</a></span></li><li><span><a href=\"#Борьба-с-дисбалансом\" data-toc-modified-id=\"Борьба-с-дисбалансом-3\"><span class=\"toc-item-num\">3&nbsp;&nbsp;</span>Борьба с дисбалансом</a></span></li><li><span><a href=\"#Тестирование-модели\" data-toc-modified-id=\"Тестирование-модели-4\"><span class=\"toc-item-num\">4&nbsp;&nbsp;</span>Тестирование модели</a></span></li><li><span><a href=\"#Чек-лист-готовности-проекта\" data-toc-modified-id=\"Чек-лист-готовности-проекта-5\"><span class=\"toc-item-num\">5&nbsp;&nbsp;</span>Чек-лист готовности проекта</a></span></li></ul></div>"
   ]
  },
  {
   "cell_type": "markdown",
   "metadata": {},
   "source": [
    "# Отток клиентов"
   ]
  },
  {
   "cell_type": "markdown",
   "metadata": {},
   "source": [
    "Из «Бета-Банка» стали уходить клиенты. Каждый месяц. Немного, но заметно. Банковские маркетологи посчитали: сохранять текущих клиентов дешевле, чем привлекать новых.\n",
    "\n",
    "Нужно спрогнозировать, уйдёт клиент из банка в ближайшее время или нет. Вам предоставлены исторические данные о поведении клиентов и расторжении договоров с банком. \n",
    "\n",
    "Постройте модель с предельно большим значением *F1*-меры. Чтобы сдать проект успешно, нужно довести метрику до 0.59. Проверьте *F1*-меру на тестовой выборке самостоятельно.\n",
    "\n",
    "Дополнительно измеряйте *AUC-ROC*, сравнивайте её значение с *F1*-мерой.\n",
    "\n",
    "Источник данных: [https://www.kaggle.com/barelydedicated/bank-customer-churn-modeling](https://www.kaggle.com/barelydedicated/bank-customer-churn-modeling)"
   ]
  },
  {
   "cell_type": "markdown",
   "metadata": {},
   "source": [
    "# План выполнения работы\n",
    "\n",
    "1.\tЗагрузите и подготовьте данные. Поясните порядок действий.\n",
    "2.\tИсследуйте баланс классов, обучите модель без учёта дисбаланса. Кратко опишите выводы.\n",
    "3.\tУлучшите качество модели, учитывая дисбаланс классов. Обучите разные модели и найдите лучшую. Кратко опишите выводы.\n",
    "4.\tПроведите финальное тестирование."
   ]
  },
  {
   "cell_type": "markdown",
   "metadata": {},
   "source": [
    "## Подготовка данных"
   ]
  },
  {
   "cell_type": "code",
   "execution_count": 1,
   "metadata": {},
   "outputs": [],
   "source": [
    "import pandas as pd\n",
    "import numpy as np\n",
    "from sklearn.model_selection import train_test_split\n",
    "from sklearn.preprocessing import StandardScaler\n",
    "from sklearn.linear_model import LogisticRegression\n",
    "from sklearn.ensemble import RandomForestClassifier\n",
    "from sklearn.metrics import f1_score, roc_auc_score\n",
    "# import dtale\n",
    "from sklearn.model_selection import GridSearchCV\n",
    "from sklearn.metrics import classification_report\n",
    "from sklearn.metrics import confusion_matrix\n",
    "from imblearn.over_sampling import SMOTE"
   ]
  },
  {
   "cell_type": "code",
   "execution_count": 2,
   "metadata": {},
   "outputs": [],
   "source": [
    "data = pd.read_csv('/datasets/Churn.csv')"
   ]
  },
  {
   "cell_type": "code",
   "execution_count": 3,
   "metadata": {},
   "outputs": [
    {
     "data": {
      "text/html": [
       "<div>\n",
       "<style scoped>\n",
       "    .dataframe tbody tr th:only-of-type {\n",
       "        vertical-align: middle;\n",
       "    }\n",
       "\n",
       "    .dataframe tbody tr th {\n",
       "        vertical-align: top;\n",
       "    }\n",
       "\n",
       "    .dataframe thead th {\n",
       "        text-align: right;\n",
       "    }\n",
       "</style>\n",
       "<table border=\"1\" class=\"dataframe\">\n",
       "  <thead>\n",
       "    <tr style=\"text-align: right;\">\n",
       "      <th></th>\n",
       "      <th>RowNumber</th>\n",
       "      <th>CustomerId</th>\n",
       "      <th>Surname</th>\n",
       "      <th>CreditScore</th>\n",
       "      <th>Geography</th>\n",
       "      <th>Gender</th>\n",
       "      <th>Age</th>\n",
       "      <th>Tenure</th>\n",
       "      <th>Balance</th>\n",
       "      <th>NumOfProducts</th>\n",
       "      <th>HasCrCard</th>\n",
       "      <th>IsActiveMember</th>\n",
       "      <th>EstimatedSalary</th>\n",
       "      <th>Exited</th>\n",
       "    </tr>\n",
       "  </thead>\n",
       "  <tbody>\n",
       "    <tr>\n",
       "      <th>0</th>\n",
       "      <td>1</td>\n",
       "      <td>15634602</td>\n",
       "      <td>Hargrave</td>\n",
       "      <td>619</td>\n",
       "      <td>France</td>\n",
       "      <td>Female</td>\n",
       "      <td>42</td>\n",
       "      <td>2.0</td>\n",
       "      <td>0.00</td>\n",
       "      <td>1</td>\n",
       "      <td>1</td>\n",
       "      <td>1</td>\n",
       "      <td>101348.88</td>\n",
       "      <td>1</td>\n",
       "    </tr>\n",
       "    <tr>\n",
       "      <th>1</th>\n",
       "      <td>2</td>\n",
       "      <td>15647311</td>\n",
       "      <td>Hill</td>\n",
       "      <td>608</td>\n",
       "      <td>Spain</td>\n",
       "      <td>Female</td>\n",
       "      <td>41</td>\n",
       "      <td>1.0</td>\n",
       "      <td>83807.86</td>\n",
       "      <td>1</td>\n",
       "      <td>0</td>\n",
       "      <td>1</td>\n",
       "      <td>112542.58</td>\n",
       "      <td>0</td>\n",
       "    </tr>\n",
       "    <tr>\n",
       "      <th>2</th>\n",
       "      <td>3</td>\n",
       "      <td>15619304</td>\n",
       "      <td>Onio</td>\n",
       "      <td>502</td>\n",
       "      <td>France</td>\n",
       "      <td>Female</td>\n",
       "      <td>42</td>\n",
       "      <td>8.0</td>\n",
       "      <td>159660.80</td>\n",
       "      <td>3</td>\n",
       "      <td>1</td>\n",
       "      <td>0</td>\n",
       "      <td>113931.57</td>\n",
       "      <td>1</td>\n",
       "    </tr>\n",
       "    <tr>\n",
       "      <th>3</th>\n",
       "      <td>4</td>\n",
       "      <td>15701354</td>\n",
       "      <td>Boni</td>\n",
       "      <td>699</td>\n",
       "      <td>France</td>\n",
       "      <td>Female</td>\n",
       "      <td>39</td>\n",
       "      <td>1.0</td>\n",
       "      <td>0.00</td>\n",
       "      <td>2</td>\n",
       "      <td>0</td>\n",
       "      <td>0</td>\n",
       "      <td>93826.63</td>\n",
       "      <td>0</td>\n",
       "    </tr>\n",
       "    <tr>\n",
       "      <th>4</th>\n",
       "      <td>5</td>\n",
       "      <td>15737888</td>\n",
       "      <td>Mitchell</td>\n",
       "      <td>850</td>\n",
       "      <td>Spain</td>\n",
       "      <td>Female</td>\n",
       "      <td>43</td>\n",
       "      <td>2.0</td>\n",
       "      <td>125510.82</td>\n",
       "      <td>1</td>\n",
       "      <td>1</td>\n",
       "      <td>1</td>\n",
       "      <td>79084.10</td>\n",
       "      <td>0</td>\n",
       "    </tr>\n",
       "  </tbody>\n",
       "</table>\n",
       "</div>"
      ],
      "text/plain": [
       "   RowNumber  CustomerId   Surname  CreditScore Geography  Gender  Age  \\\n",
       "0          1    15634602  Hargrave          619    France  Female   42   \n",
       "1          2    15647311      Hill          608     Spain  Female   41   \n",
       "2          3    15619304      Onio          502    France  Female   42   \n",
       "3          4    15701354      Boni          699    France  Female   39   \n",
       "4          5    15737888  Mitchell          850     Spain  Female   43   \n",
       "\n",
       "   Tenure    Balance  NumOfProducts  HasCrCard  IsActiveMember  \\\n",
       "0     2.0       0.00              1          1               1   \n",
       "1     1.0   83807.86              1          0               1   \n",
       "2     8.0  159660.80              3          1               0   \n",
       "3     1.0       0.00              2          0               0   \n",
       "4     2.0  125510.82              1          1               1   \n",
       "\n",
       "   EstimatedSalary  Exited  \n",
       "0        101348.88       1  \n",
       "1        112542.58       0  \n",
       "2        113931.57       1  \n",
       "3         93826.63       0  \n",
       "4         79084.10       0  "
      ]
     },
     "execution_count": 3,
     "metadata": {},
     "output_type": "execute_result"
    }
   ],
   "source": [
    "data.head()"
   ]
  },
  {
   "cell_type": "code",
   "execution_count": 4,
   "metadata": {},
   "outputs": [
    {
     "name": "stdout",
     "output_type": "stream",
     "text": [
      "<class 'pandas.core.frame.DataFrame'>\n",
      "RangeIndex: 10000 entries, 0 to 9999\n",
      "Data columns (total 14 columns):\n",
      " #   Column           Non-Null Count  Dtype  \n",
      "---  ------           --------------  -----  \n",
      " 0   RowNumber        10000 non-null  int64  \n",
      " 1   CustomerId       10000 non-null  int64  \n",
      " 2   Surname          10000 non-null  object \n",
      " 3   CreditScore      10000 non-null  int64  \n",
      " 4   Geography        10000 non-null  object \n",
      " 5   Gender           10000 non-null  object \n",
      " 6   Age              10000 non-null  int64  \n",
      " 7   Tenure           9091 non-null   float64\n",
      " 8   Balance          10000 non-null  float64\n",
      " 9   NumOfProducts    10000 non-null  int64  \n",
      " 10  HasCrCard        10000 non-null  int64  \n",
      " 11  IsActiveMember   10000 non-null  int64  \n",
      " 12  EstimatedSalary  10000 non-null  float64\n",
      " 13  Exited           10000 non-null  int64  \n",
      "dtypes: float64(3), int64(8), object(3)\n",
      "memory usage: 1.1+ MB\n"
     ]
    }
   ],
   "source": [
    "data.info()"
   ]
  },
  {
   "cell_type": "code",
   "execution_count": 5,
   "metadata": {},
   "outputs": [],
   "source": [
    "# Удалим ненужные столбцы\n",
    "data = data.drop(['RowNumber', 'CustomerId', 'Surname'], axis=1)"
   ]
  },
  {
   "cell_type": "code",
   "execution_count": 6,
   "metadata": {},
   "outputs": [],
   "source": [
    "# Удалим пропущенные значения\n",
    "data = data.dropna()\n",
    "\n",
    "# Конвертируем категориальные переменные в числовые переменные, используя дамми-переменные\n",
    "data = pd.get_dummies(data, drop_first=True)\n",
    "\n",
    "# Разделим данные на целевой и обучающие признаки\n",
    "target = data['Exited']\n",
    "features = data.drop('Exited', axis=1)"
   ]
  },
  {
   "cell_type": "markdown",
   "metadata": {},
   "source": [
    "Удаление строк с пропущенными значениями (NaN) из набора данных может быть разумным подходом, если процент пропущенных значений относительно невелик и эти пропущенные значения отсутствуют совершенно случайно. В таких случаях удаление строк с пропущенными значениями не окажет существенного влияния на статистические свойства оставшихся данных и, следовательно, на выводы, которые можно сделать из анализа, как в нашем случае! В этом можно убедиться, посмотрев на изначальный необработанный датасет, где единственный столбец Tenure имел всего лишь 909 пропущенных значений из 10.000."
   ]
  },
  {
   "cell_type": "code",
   "execution_count": 7,
   "metadata": {},
   "outputs": [],
   "source": [
    "# dtale.show(data)"
   ]
  },
  {
   "cell_type": "code",
   "execution_count": 8,
   "metadata": {},
   "outputs": [
    {
     "name": "stdout",
     "output_type": "stream",
     "text": [
      "<class 'pandas.core.frame.DataFrame'>\n",
      "Int64Index: 9091 entries, 0 to 9998\n",
      "Data columns (total 12 columns):\n",
      " #   Column             Non-Null Count  Dtype  \n",
      "---  ------             --------------  -----  \n",
      " 0   CreditScore        9091 non-null   int64  \n",
      " 1   Age                9091 non-null   int64  \n",
      " 2   Tenure             9091 non-null   float64\n",
      " 3   Balance            9091 non-null   float64\n",
      " 4   NumOfProducts      9091 non-null   int64  \n",
      " 5   HasCrCard          9091 non-null   int64  \n",
      " 6   IsActiveMember     9091 non-null   int64  \n",
      " 7   EstimatedSalary    9091 non-null   float64\n",
      " 8   Exited             9091 non-null   int64  \n",
      " 9   Geography_Germany  9091 non-null   uint8  \n",
      " 10  Geography_Spain    9091 non-null   uint8  \n",
      " 11  Gender_Male        9091 non-null   uint8  \n",
      "dtypes: float64(3), int64(6), uint8(3)\n",
      "memory usage: 736.9 KB\n"
     ]
    }
   ],
   "source": [
    "data.info()"
   ]
  },
  {
   "cell_type": "markdown",
   "metadata": {},
   "source": [
    "## Исследование задачи"
   ]
  },
  {
   "cell_type": "markdown",
   "metadata": {},
   "source": [
    "Исследуем баланс классов и потренируем модель логистической регрессии без учета дисбаланса."
   ]
  },
  {
   "cell_type": "code",
   "execution_count": 9,
   "metadata": {},
   "outputs": [
    {
     "name": "stdout",
     "output_type": "stream",
     "text": [
      "Количество положительных экземпляров: 1854\n",
      "\n",
      "Количество отрицательных экземпляров: 7237\n"
     ]
    }
   ],
   "source": [
    "print('Количество положительных экземпляров:', target.sum())\n",
    "print()\n",
    "print('Количество отрицательных экземпляров:', (target == 0).sum())"
   ]
  },
  {
   "cell_type": "markdown",
   "metadata": {},
   "source": [
    "*Набор данных несбалансирован, только 20% положительных экземпляров. Это указывает на то, что положительных примеров (то есть клиентов, которые покинули банк) значительно меньше, чем отрицательных (клиентов, которые остались). Это важно отметить, потому что несбалансированный набор данных может повлиять на производительность некоторых алгоритмов машинного обучения, поскольку они склонны отдавать предпочтение классу большинства.*"
   ]
  },
  {
   "cell_type": "code",
   "execution_count": 10,
   "metadata": {},
   "outputs": [],
   "source": [
    "# Разделим данные на обучающие, валидационные и тестовые выборки.\n",
    "\n",
    "# Разделим данные сначало на обучающие и тестовые выборки со стратификацией, чтобы скорректировать смещение прогноза.\n",
    "features_train, features_test, target_train, target_test = train_test_split(features, target, test_size=0.2, \n",
    "                                                                            random_state=12345, stratify=target)\n",
    "\n",
    "# И затем разделим уже обучающий набор на тренировочный и валидационные выборки со стратификацией.\n",
    "features_train, features_valid, target_train, target_valid = train_test_split(features_train, target_train, test_size=0.25,\n",
    "                                                                              random_state=12345, stratify=target_train)"
   ]
  },
  {
   "cell_type": "code",
   "execution_count": 11,
   "metadata": {},
   "outputs": [],
   "source": [
    "# Стандартизируем признаки в обоих наборах с помощью StandardScaler(). \n",
    "scaler = StandardScaler()\n",
    "numerical_cols = ['CreditScore', 'Age', 'Tenure', 'Balance', 'NumOfProducts', 'EstimatedSalary']\n",
    "features_train = features_train.copy()\n",
    "features_valid = features_valid.copy()\n",
    "features_test = features_test.copy()\n",
    "features_train[numerical_cols] = scaler.fit_transform(features_train[numerical_cols])\n",
    "features_valid[numerical_cols] = scaler.transform(features_valid[numerical_cols])\n",
    "features_test[numerical_cols] = scaler.transform(features_test[numerical_cols])"
   ]
  },
  {
   "cell_type": "code",
   "execution_count": 12,
   "metadata": {},
   "outputs": [
    {
     "name": "stderr",
     "output_type": "stream",
     "text": [
      "/opt/conda/lib/python3.9/site-packages/sklearn/svm/_base.py:1244: ConvergenceWarning: Liblinear failed to converge, increase the number of iterations.\n",
      "  warnings.warn(\n"
     ]
    },
    {
     "name": "stdout",
     "output_type": "stream",
     "text": [
      "Лучшие гиперпараметры: {'max_iter': 10}\n",
      "F1-оценка лог. рег. без учета дисбаланса классов: 0.28\n",
      "Оценка AUC-ROC лог. рег. без учета дисбаланса классов: 0.76\n"
     ]
    }
   ],
   "source": [
    "# Обучим модель логистической регрессии без учета дисбаланса классов и сделаем прогноз.\n",
    "best_score = 0\n",
    "best_params = None\n",
    "\n",
    "for max_iter in range(0, 1000, 10):\n",
    "    model_lr = LogisticRegression(random_state=12345, max_iter=max_iter, solver='liblinear')\n",
    "    model_lr.fit(features_train, target_train)\n",
    "    predicted_valid_lr = model_lr.predict(features_valid)\n",
    "    predicted_prob_lr = model_lr.predict_proba(features_valid)[:, 1]\n",
    "\n",
    "    f1 = f1_score(target_valid, predicted_valid_lr)\n",
    "    auc_roc = roc_auc_score(target_valid, predicted_prob_lr)\n",
    "\n",
    "    if f1 > best_score:\n",
    "        best_score = f1\n",
    "        best_params = {'max_iter': max_iter}\n",
    "\n",
    "print('Лучшие гиперпараметры:', best_params)\n",
    "model_lr = LogisticRegression(random_state=12345, solver='liblinear', **best_params)\n",
    "model_lr.fit(features_train, target_train)\n",
    "predicted_valid_lr = model_lr.predict(features_valid)\n",
    "predicted_prob_lr = model_lr.predict_proba(features_valid)[:, 1]\n",
    "print('F1-оценка лог. рег. без учета дисбаланса классов: {:.2f}'.format(f1_score(target_valid, predicted_valid_lr)))\n",
    "print('Оценка AUC-ROC лог. рег. без учета дисбаланса классов: {:.2f}'.format(roc_auc_score(target_valid, predicted_prob_lr)))"
   ]
  },
  {
   "cell_type": "code",
   "execution_count": 13,
   "metadata": {},
   "outputs": [
    {
     "name": "stdout",
     "output_type": "stream",
     "text": [
      "              precision    recall  f1-score   support\n",
      "\n",
      "           0       0.82      0.96      0.89      1447\n",
      "           1       0.56      0.19      0.28       371\n",
      "\n",
      "    accuracy                           0.80      1818\n",
      "   macro avg       0.69      0.58      0.58      1818\n",
      "weighted avg       0.77      0.80      0.76      1818\n",
      "\n"
     ]
    }
   ],
   "source": [
    "print(classification_report(target_valid, predicted_valid_lr))"
   ]
  },
  {
   "cell_type": "markdown",
   "metadata": {},
   "source": [
    "*Из отчета о классификации видно, что модель хорошо работает в прогнозировании клиентов, которые не собираются уходить, но имеет низкую эффективность в выявлении клиентов, которые собираются уходить. Поэтому может потребоваться улучшить способность модели идентифицировать ушедших клиентов, чтобы делать более точные прогнозы либо использовать другие модели.* "
   ]
  },
  {
   "cell_type": "code",
   "execution_count": 14,
   "metadata": {},
   "outputs": [
    {
     "data": {
      "text/plain": [
       "array([[1393,   54],\n",
       "       [ 301,   70]])"
      ]
     },
     "execution_count": 14,
     "metadata": {},
     "output_type": "execute_result"
    }
   ],
   "source": [
    "confusion_matrix(target_valid, predicted_valid_lr)"
   ]
  },
  {
   "cell_type": "markdown",
   "metadata": {},
   "source": [
    "*В нашем случае матрица ошибок показывает, что модель правильно идентифицировала большое количество отрицательных случаев (клиенты, которые не ушли), но также имеет большое количество ложноотрицательных результатов (клиенты, которые фактически ушли, но, по прогнозам, останутся). Это говорит о том, что модель может не учитывать все важные факторы, влияющие на отток клиентов, и, возможно, ее необходимо улучшить, включив дополнительные признаки, изменив гиперпараметры модели или использовать другую модель.*"
   ]
  },
  {
   "cell_type": "code",
   "execution_count": 15,
   "metadata": {},
   "outputs": [
    {
     "name": "stdout",
     "output_type": "stream",
     "text": [
      "Лучшие гиперпараметры: {'n_estimators': 20, 'max_depth': 11}\n",
      "F1-оценка случайного леса без учета дисбаланса классов: 0.59\n",
      "Оценка AUC-ROC случайного леса без учета дисбаланса классов: 0.86\n"
     ]
    }
   ],
   "source": [
    "# Обучим и проверим классификатор случайного леса без учета дисбаланса.\n",
    "best_score = 0\n",
    "best_params = {}\n",
    "\n",
    "for n_estimators in range(10, 101, 10):\n",
    "    for max_depth in range(1, 16):\n",
    "        model_rfc = RandomForestClassifier(n_estimators=n_estimators, max_depth=max_depth, random_state=12345)\n",
    "        model_rfc.fit(features_train, target_train)\n",
    "        predicted_valid_rfc = model_rfc.predict(features_valid)\n",
    "        predicted_prob_rfc = model_rfc.predict_proba(features_valid)[:, 1]\n",
    "\n",
    "        f1 = f1_score(target_valid, predicted_valid_rfc)\n",
    "        auc_roc = roc_auc_score(target_valid, predicted_prob_rfc)\n",
    "\n",
    "        if f1 > best_score:\n",
    "            best_score = f1\n",
    "            best_params = {'n_estimators': n_estimators, 'max_depth': max_depth}\n",
    "\n",
    "print('Лучшие гиперпараметры:', best_params)\n",
    "model_rfc = RandomForestClassifier(random_state=12345, **best_params)\n",
    "model_rfc.fit(features_train, target_train)\n",
    "predicted_valid_rfc = model_rfc.predict(features_valid)\n",
    "predicted_prob_rfc = model_rfc.predict_proba(features_valid)[:, 1] \n",
    "print('F1-оценка случайного леса без учета дисбаланса классов: {:.2f}'.format(f1_score(target_valid, predicted_valid_rfc)))\n",
    "print('Оценка AUC-ROC случайного леса без учета дисбаланса классов: {:.2f}'.format(roc_auc_score(target_valid, predicted_prob_rfc)))"
   ]
  },
  {
   "cell_type": "code",
   "execution_count": 16,
   "metadata": {},
   "outputs": [
    {
     "name": "stdout",
     "output_type": "stream",
     "text": [
      "              precision    recall  f1-score   support\n",
      "\n",
      "           0       0.88      0.97      0.92      1447\n",
      "           1       0.79      0.47      0.59       371\n",
      "\n",
      "    accuracy                           0.87      1818\n",
      "   macro avg       0.83      0.72      0.75      1818\n",
      "weighted avg       0.86      0.87      0.85      1818\n",
      "\n"
     ]
    }
   ],
   "source": [
    "print(classification_report(target_valid, predicted_valid_rfc))"
   ]
  },
  {
   "cell_type": "code",
   "execution_count": 17,
   "metadata": {},
   "outputs": [
    {
     "data": {
      "text/plain": [
       "array([[1400,   47],\n",
       "       [ 197,  174]])"
      ]
     },
     "execution_count": 17,
     "metadata": {},
     "output_type": "execute_result"
    }
   ],
   "source": [
    "confusion_matrix(target_valid, predicted_valid_rfc)"
   ]
  },
  {
   "cell_type": "markdown",
   "metadata": {},
   "source": [
    "*Заметен рост показателей, по сравнению с логистической регрессией и целевая метрика достигнута, но необходимо проработать дисбаланс классов при помощи библиотеки imblearn чтобы посмотреть улучшится ли результат.*"
   ]
  },
  {
   "cell_type": "markdown",
   "metadata": {},
   "source": [
    "## Борьба с дисбалансом"
   ]
  },
  {
   "cell_type": "markdown",
   "metadata": {},
   "source": [
    "Улучшим качество модели с учетом дисбаланса классов. Для этого обучим разные модели и найдем лучшую."
   ]
  },
  {
   "cell_type": "code",
   "execution_count": 18,
   "metadata": {},
   "outputs": [
    {
     "name": "stdout",
     "output_type": "stream",
     "text": [
      "Лучшие гиперпараметры: {'n_estimators': 30, 'max_depth': 15}\n",
      "F1-оценка случайного леса с учетом дисбаланса классов: 0.60\n",
      "Оценка AUC-ROC случайного леса с учетом дисбаланса классов: 0.85\n"
     ]
    }
   ],
   "source": [
    "# Увеличим выборку класса меньшинства, используя SMOTE.\n",
    "best_score = 0\n",
    "best_params = {}\n",
    "\n",
    "smote = SMOTE(random_state=12345)\n",
    "\n",
    "for n_estimators in range(10, 101, 10):\n",
    "    for max_depth in range(1, 16):\n",
    "        model_rfc = RandomForestClassifier(n_estimators=n_estimators, max_depth=max_depth, random_state=12345)\n",
    "\n",
    "        features_train_resampled, target_train_resampled = smote.fit_resample(features_train, target_train)\n",
    "        model_rfc.fit(features_train_resampled, target_train_resampled)\n",
    "\n",
    "        predicted_valid_rfc = model_rfc.predict(features_valid)\n",
    "        predicted_valid_rfc_proba = model_rfc.predict_proba(features_valid)[:,1]\n",
    "\n",
    "        f1 = f1_score(target_valid, predicted_valid_rfc)\n",
    "        auc_roc = roc_auc_score(target_valid, predicted_valid_rfc_proba)\n",
    "\n",
    "        if f1 > best_score:\n",
    "            best_score = f1\n",
    "            best_params = {'n_estimators': n_estimators, 'max_depth': max_depth}\n",
    "\n",
    "print('Лучшие гиперпараметры:', best_params)\n",
    "\n",
    "model_rfc_smote = RandomForestClassifier(random_state=12345, **best_params)\n",
    "features_train_resampled, target_train_resampled = smote.fit_resample(features_train, target_train)\n",
    "model_rfc_smote.fit(features_train_resampled, target_train_resampled)\n",
    "\n",
    "predicted_valid_rfc_smote = model_rfc_smote.predict(features_valid)\n",
    "predicted_valid_rfc_smote_proba = model_rfc_smote.predict_proba(features_valid)[:,1]\n",
    "\n",
    "print('F1-оценка случайного леса с учетом дисбаланса классов: {:.2f}'.format(f1_score(target_valid, predicted_valid_rfc_smote)))\n",
    "print('Оценка AUC-ROC случайного леса с учетом дисбаланса классов: {:.2f}'.format(roc_auc_score(target_valid, predicted_valid_rfc_smote_proba)))"
   ]
  },
  {
   "cell_type": "code",
   "execution_count": 19,
   "metadata": {},
   "outputs": [
    {
     "name": "stdout",
     "output_type": "stream",
     "text": [
      "              precision    recall  f1-score   support\n",
      "\n",
      "           0       0.90      0.88      0.89      1447\n",
      "           1       0.58      0.62      0.60       371\n",
      "\n",
      "    accuracy                           0.83      1818\n",
      "   macro avg       0.74      0.75      0.75      1818\n",
      "weighted avg       0.83      0.83      0.83      1818\n",
      "\n"
     ]
    }
   ],
   "source": [
    "print(classification_report(target_valid, predicted_valid_rfc_smote))"
   ]
  },
  {
   "cell_type": "code",
   "execution_count": 20,
   "metadata": {},
   "outputs": [
    {
     "data": {
      "text/plain": [
       "array([[1277,  170],\n",
       "       [ 140,  231]])"
      ]
     },
     "execution_count": 20,
     "metadata": {},
     "output_type": "execute_result"
    }
   ],
   "source": [
    "confusion_matrix(target_valid, predicted_valid_rfc_smote)"
   ]
  },
  {
   "cell_type": "markdown",
   "metadata": {},
   "source": [
    "- Результаты показывают, что использование SMOTE для устранения дисбаланса классов в обучающих данных - улучшило оценку F1 на валидационной выборке по сравнению с предыдущей моделью без SMOTE.\n",
    "\n",
    "- Оценка F1 на валидационной выборке составляет 0.60, что лучше, чем оценка F1 предыдущей модели, равная 0.59, что указывает на то, что метод SMOTE улучшил способность модели предсказывать класс меньшинства.\n",
    "\n",
    "- Оценка AUC-ROC составляет 0.85, что является относительно высоким показателем, указывающим на то, что модель обладает хорошей способностью различать положительные и отрицательные классы."
   ]
  },
  {
   "cell_type": "markdown",
   "metadata": {},
   "source": [
    "## Тестирование модели"
   ]
  },
  {
   "cell_type": "code",
   "execution_count": 23,
   "metadata": {},
   "outputs": [
    {
     "name": "stdout",
     "output_type": "stream",
     "text": [
      "Окончательные результаты тестирования классификатора случайного леса с увеличением выборки с помощью метода SMOTE.\n",
      "F1: 0.59\n",
      "AUC-ROC: 0.84\n"
     ]
    }
   ],
   "source": [
    "# Оценим производительность моделей на тестовых данных\n",
    "predictions_test = model_rfc_smote.predict(features_test)\n",
    "predicted_test_rfc_smote_proba = model_rfc_smote.predict_proba(features_test)[:,1]\n",
    "\n",
    "f1 = f1_score(target_test, predictions_test)\n",
    "auc_roc = roc_auc_score(target_test, predicted_test_rfc_smote_proba)\n",
    "print(\"Окончательные результаты тестирования классификатора случайного леса с увеличением выборки с помощью метода SMOTE.\")\n",
    "print(\"F1: {:.2f}\".format(f1))\n",
    "print(\"AUC-ROC: {:.2f}\".format(auc_roc))"
   ]
  },
  {
   "cell_type": "markdown",
   "metadata": {},
   "source": [
    "**Вывод**\n",
    "\n",
    "    1. Судя по результатам, классификатор случайного леса с увеличением числа примеров миноритарного класса при помощи метода SMOTE превзошел две другие модели. Показатель F1 достиг целевого показателя (0.59) на тестовой выборке, а показатель AUC-ROC составил 0.84. Эти улучшения предполагают, что метод SMOTE успешно сбалансировал данные и улучшил общую производительность модели.\n",
    "\n",
    "    2. При сравнении двух моделей, в которых не учитывался дисбаланс, классификатор случайного леса работал лучше, чем модель логистической регрессии, с точки зрения обоих метрик (F1 и AUC-ROC). Это говорит о том, что модель случайного леса может лучше подходить для этого конкретного набора данных.\n",
    "\n",
    "   В целом - основной вывод такой, что при построении моделей машинного обучения важно учитывать дисбаланс классов. SMOTE является эффективным методом, используемым для устранения дисбаланса классов, и полученные здесь результаты показывают, что он может быть эффективным также для улучшения производительности модели. Однако важно отметить, что результаты могут различаться в зависимости от конкретного набора данных и используемой модели, и может потребоваться попробовать несколько методов, чтобы найти наилучший подход для конкретной проблемы."
   ]
  },
  {
   "cell_type": "markdown",
   "metadata": {},
   "source": [
    "## Чек-лист готовности проекта"
   ]
  },
  {
   "cell_type": "markdown",
   "metadata": {},
   "source": [
    "Поставьте 'x' в выполненных пунктах. Далее нажмите Shift+Enter."
   ]
  },
  {
   "cell_type": "markdown",
   "metadata": {},
   "source": [
    "- [x]  Jupyter Notebook открыт\n",
    "- [x]  Весь код выполняется без ошибок\n",
    "- [x]  Ячейки с кодом расположены в порядке исполнения\n",
    "- [x]  Выполнен шаг 1: данные подготовлены\n",
    "- [x]  Выполнен шаг 2: задача исследована\n",
    "    - [x]  Исследован баланс классов\n",
    "    - [x]  Изучены модели без учёта дисбаланса\n",
    "    - [x]  Написаны выводы по результатам исследования\n",
    "- [x]  Выполнен шаг 3: учтён дисбаланс\n",
    "    - [x]  Применено несколько способов борьбы с дисбалансом\n",
    "    - [x]  Написаны выводы по результатам исследования\n",
    "- [x]  Выполнен шаг 4: проведено тестирование\n",
    "- [x]  Удалось достичь *F1*-меры не менее 0.59\n",
    "- [x]  Исследована метрика *AUC-ROC*"
   ]
  }
 ],
 "metadata": {
  "ExecuteTimeLog": [
   {
    "duration": 374,
    "start_time": "2023-03-16T15:46:16.213Z"
   },
   {
    "duration": 106,
    "start_time": "2023-03-16T15:46:47.628Z"
   },
   {
    "duration": 90,
    "start_time": "2023-03-16T15:46:53.448Z"
   },
   {
    "duration": 18,
    "start_time": "2023-03-16T15:46:58.753Z"
   },
   {
    "duration": 15,
    "start_time": "2023-03-16T15:47:07.343Z"
   },
   {
    "duration": 6,
    "start_time": "2023-03-16T15:53:35.861Z"
   },
   {
    "duration": 682,
    "start_time": "2023-03-16T15:56:21.310Z"
   },
   {
    "duration": 51,
    "start_time": "2023-03-16T16:05:04.948Z"
   },
   {
    "duration": 60,
    "start_time": "2023-03-16T16:05:20.190Z"
   },
   {
    "duration": 4,
    "start_time": "2023-03-16T16:05:33.724Z"
   },
   {
    "duration": 1271,
    "start_time": "2023-03-16T16:07:25.799Z"
   },
   {
    "duration": 57,
    "start_time": "2023-03-16T16:07:27.073Z"
   },
   {
    "duration": 24,
    "start_time": "2023-03-16T16:07:27.132Z"
   },
   {
    "duration": 23,
    "start_time": "2023-03-16T16:07:27.158Z"
   },
   {
    "duration": 12,
    "start_time": "2023-03-16T16:07:27.189Z"
   },
   {
    "duration": 73,
    "start_time": "2023-03-16T16:07:27.203Z"
   },
   {
    "duration": 985,
    "start_time": "2023-03-16T16:07:41.753Z"
   },
   {
    "duration": 49,
    "start_time": "2023-03-16T16:07:42.740Z"
   },
   {
    "duration": 27,
    "start_time": "2023-03-16T16:07:42.791Z"
   },
   {
    "duration": 17,
    "start_time": "2023-03-16T16:07:42.820Z"
   },
   {
    "duration": 4,
    "start_time": "2023-03-16T16:07:42.839Z"
   },
   {
    "duration": 25,
    "start_time": "2023-03-16T16:07:42.845Z"
   },
   {
    "duration": 9,
    "start_time": "2023-03-16T16:15:10.112Z"
   },
   {
    "duration": 7,
    "start_time": "2023-03-16T16:15:20.522Z"
   },
   {
    "duration": 10,
    "start_time": "2023-03-16T16:16:13.703Z"
   },
   {
    "duration": 48,
    "start_time": "2023-03-16T16:18:12.866Z"
   },
   {
    "duration": 15,
    "start_time": "2023-03-16T16:18:22.926Z"
   },
   {
    "duration": 1141,
    "start_time": "2023-03-16T16:18:30.047Z"
   },
   {
    "duration": 51,
    "start_time": "2023-03-16T16:18:31.190Z"
   },
   {
    "duration": 24,
    "start_time": "2023-03-16T16:18:31.244Z"
   },
   {
    "duration": 30,
    "start_time": "2023-03-16T16:18:31.271Z"
   },
   {
    "duration": 59,
    "start_time": "2023-03-16T16:18:31.303Z"
   },
   {
    "duration": 70,
    "start_time": "2023-03-16T16:18:31.364Z"
   },
   {
    "duration": 59,
    "start_time": "2023-03-16T16:18:31.436Z"
   },
   {
    "duration": 39,
    "start_time": "2023-03-16T16:18:31.497Z"
   },
   {
    "duration": 17,
    "start_time": "2023-03-16T16:23:11.604Z"
   },
   {
    "duration": 1056,
    "start_time": "2023-03-16T16:24:18.105Z"
   },
   {
    "duration": 40,
    "start_time": "2023-03-16T16:24:19.163Z"
   },
   {
    "duration": 20,
    "start_time": "2023-03-16T16:24:19.204Z"
   },
   {
    "duration": 14,
    "start_time": "2023-03-16T16:24:19.226Z"
   },
   {
    "duration": 5,
    "start_time": "2023-03-16T16:24:19.241Z"
   },
   {
    "duration": 32,
    "start_time": "2023-03-16T16:24:19.247Z"
   },
   {
    "duration": 9,
    "start_time": "2023-03-16T16:24:19.281Z"
   },
   {
    "duration": 5,
    "start_time": "2023-03-16T16:24:19.291Z"
   },
   {
    "duration": 4,
    "start_time": "2023-03-16T17:06:56.527Z"
   },
   {
    "duration": 6,
    "start_time": "2023-03-16T17:10:58.773Z"
   },
   {
    "duration": 1129,
    "start_time": "2023-03-16T17:11:04.146Z"
   },
   {
    "duration": 52,
    "start_time": "2023-03-16T17:11:05.279Z"
   },
   {
    "duration": 24,
    "start_time": "2023-03-16T17:11:05.333Z"
   },
   {
    "duration": 16,
    "start_time": "2023-03-16T17:11:05.359Z"
   },
   {
    "duration": 11,
    "start_time": "2023-03-16T17:11:05.376Z"
   },
   {
    "duration": 31,
    "start_time": "2023-03-16T17:11:05.389Z"
   },
   {
    "duration": 22,
    "start_time": "2023-03-16T17:11:05.422Z"
   },
   {
    "duration": 5,
    "start_time": "2023-03-16T17:11:05.446Z"
   },
   {
    "duration": 16,
    "start_time": "2023-03-16T17:11:05.453Z"
   },
   {
    "duration": 7,
    "start_time": "2023-03-16T17:11:05.471Z"
   },
   {
    "duration": 10,
    "start_time": "2023-03-16T17:13:12.940Z"
   },
   {
    "duration": 41,
    "start_time": "2023-03-16T17:15:00.068Z"
   },
   {
    "duration": 1154,
    "start_time": "2023-03-16T17:15:16.075Z"
   },
   {
    "duration": 38,
    "start_time": "2023-03-16T17:15:17.231Z"
   },
   {
    "duration": 21,
    "start_time": "2023-03-16T17:15:17.270Z"
   },
   {
    "duration": 17,
    "start_time": "2023-03-16T17:15:17.293Z"
   },
   {
    "duration": 4,
    "start_time": "2023-03-16T17:15:17.312Z"
   },
   {
    "duration": 20,
    "start_time": "2023-03-16T17:15:17.317Z"
   },
   {
    "duration": 9,
    "start_time": "2023-03-16T17:15:17.338Z"
   },
   {
    "duration": 4,
    "start_time": "2023-03-16T17:15:17.348Z"
   },
   {
    "duration": 6,
    "start_time": "2023-03-16T17:15:17.354Z"
   },
   {
    "duration": 30,
    "start_time": "2023-03-16T17:15:17.362Z"
   },
   {
    "duration": 26,
    "start_time": "2023-03-16T17:15:17.394Z"
   },
   {
    "duration": 80,
    "start_time": "2023-03-16T17:19:24.205Z"
   },
   {
    "duration": 7,
    "start_time": "2023-03-16T17:21:43.468Z"
   },
   {
    "duration": 9,
    "start_time": "2023-03-16T17:25:05.814Z"
   },
   {
    "duration": 823,
    "start_time": "2023-03-16T17:39:30.644Z"
   },
   {
    "duration": 4,
    "start_time": "2023-03-16T18:07:02.112Z"
   },
   {
    "duration": 1301,
    "start_time": "2023-03-17T08:24:18.669Z"
   },
   {
    "duration": 97,
    "start_time": "2023-03-17T08:24:19.972Z"
   },
   {
    "duration": 30,
    "start_time": "2023-03-17T08:24:20.071Z"
   },
   {
    "duration": 14,
    "start_time": "2023-03-17T08:24:20.104Z"
   },
   {
    "duration": 13,
    "start_time": "2023-03-17T08:24:20.120Z"
   },
   {
    "duration": 39,
    "start_time": "2023-03-17T08:24:20.135Z"
   },
   {
    "duration": 13,
    "start_time": "2023-03-17T08:24:20.176Z"
   },
   {
    "duration": 5,
    "start_time": "2023-03-17T08:24:20.191Z"
   },
   {
    "duration": 8,
    "start_time": "2023-03-17T08:24:20.198Z"
   },
   {
    "duration": 12,
    "start_time": "2023-03-17T08:24:20.208Z"
   },
   {
    "duration": 44,
    "start_time": "2023-03-17T08:24:20.221Z"
   },
   {
    "duration": 97,
    "start_time": "2023-03-17T08:24:20.269Z"
   },
   {
    "duration": 1056,
    "start_time": "2023-03-17T08:24:20.369Z"
   },
   {
    "duration": 7,
    "start_time": "2023-03-17T08:24:21.429Z"
   },
   {
    "duration": 7,
    "start_time": "2023-03-17T08:24:37.959Z"
   },
   {
    "duration": 5,
    "start_time": "2023-03-17T08:24:46.919Z"
   },
   {
    "duration": 6,
    "start_time": "2023-03-17T08:25:38.476Z"
   },
   {
    "duration": 115,
    "start_time": "2023-03-17T08:33:28.614Z"
   },
   {
    "duration": 6,
    "start_time": "2023-03-17T08:33:36.788Z"
   },
   {
    "duration": 12,
    "start_time": "2023-03-17T08:37:31.168Z"
   },
   {
    "duration": 14,
    "start_time": "2023-03-17T08:37:54.423Z"
   },
   {
    "duration": 1322,
    "start_time": "2023-03-17T08:38:09.352Z"
   },
   {
    "duration": 45,
    "start_time": "2023-03-17T08:38:10.677Z"
   },
   {
    "duration": 24,
    "start_time": "2023-03-17T08:38:10.724Z"
   },
   {
    "duration": 21,
    "start_time": "2023-03-17T08:38:10.751Z"
   },
   {
    "duration": 7,
    "start_time": "2023-03-17T08:38:10.774Z"
   },
   {
    "duration": 26,
    "start_time": "2023-03-17T08:38:10.784Z"
   },
   {
    "duration": 14,
    "start_time": "2023-03-17T08:38:10.813Z"
   },
   {
    "duration": 6,
    "start_time": "2023-03-17T08:38:10.829Z"
   },
   {
    "duration": 7,
    "start_time": "2023-03-17T08:38:10.865Z"
   },
   {
    "duration": 24,
    "start_time": "2023-03-17T08:38:10.877Z"
   },
   {
    "duration": 14,
    "start_time": "2023-03-17T08:38:10.904Z"
   },
   {
    "duration": 100,
    "start_time": "2023-03-17T08:38:10.970Z"
   },
   {
    "duration": 932,
    "start_time": "2023-03-17T08:38:11.072Z"
   },
   {
    "duration": 6,
    "start_time": "2023-03-17T08:38:12.006Z"
   },
   {
    "duration": 125,
    "start_time": "2023-03-17T08:38:12.014Z"
   },
   {
    "duration": 14,
    "start_time": "2023-03-17T08:41:19.280Z"
   },
   {
    "duration": 13,
    "start_time": "2023-03-17T08:42:52.209Z"
   },
   {
    "duration": 1319,
    "start_time": "2023-03-17T08:45:02.779Z"
   },
   {
    "duration": 47,
    "start_time": "2023-03-17T08:45:04.100Z"
   },
   {
    "duration": 23,
    "start_time": "2023-03-17T08:45:04.149Z"
   },
   {
    "duration": 19,
    "start_time": "2023-03-17T08:45:04.175Z"
   },
   {
    "duration": 5,
    "start_time": "2023-03-17T08:45:04.197Z"
   },
   {
    "duration": 55,
    "start_time": "2023-03-17T08:45:04.204Z"
   },
   {
    "duration": 13,
    "start_time": "2023-03-17T08:45:04.262Z"
   },
   {
    "duration": 7,
    "start_time": "2023-03-17T08:45:04.277Z"
   },
   {
    "duration": 38,
    "start_time": "2023-03-17T08:45:04.286Z"
   },
   {
    "duration": 32,
    "start_time": "2023-03-17T08:45:04.328Z"
   },
   {
    "duration": 28,
    "start_time": "2023-03-17T08:45:04.363Z"
   },
   {
    "duration": 116,
    "start_time": "2023-03-17T08:45:04.467Z"
   },
   {
    "duration": 1035,
    "start_time": "2023-03-17T08:45:04.585Z"
   },
   {
    "duration": 7,
    "start_time": "2023-03-17T08:45:05.623Z"
   },
   {
    "duration": 156,
    "start_time": "2023-03-17T08:45:05.632Z"
   },
   {
    "duration": 10,
    "start_time": "2023-03-17T08:49:53.347Z"
   },
   {
    "duration": 1330,
    "start_time": "2023-03-17T08:50:00.751Z"
   },
   {
    "duration": 46,
    "start_time": "2023-03-17T08:50:02.084Z"
   },
   {
    "duration": 24,
    "start_time": "2023-03-17T08:50:02.133Z"
   },
   {
    "duration": 25,
    "start_time": "2023-03-17T08:50:02.159Z"
   },
   {
    "duration": 32,
    "start_time": "2023-03-17T08:50:02.187Z"
   },
   {
    "duration": 40,
    "start_time": "2023-03-17T08:50:02.221Z"
   },
   {
    "duration": 13,
    "start_time": "2023-03-17T08:50:02.263Z"
   },
   {
    "duration": 32,
    "start_time": "2023-03-17T08:50:02.279Z"
   },
   {
    "duration": 70,
    "start_time": "2023-03-17T08:50:02.313Z"
   },
   {
    "duration": 36,
    "start_time": "2023-03-17T08:50:02.385Z"
   },
   {
    "duration": 41,
    "start_time": "2023-03-17T08:50:02.424Z"
   },
   {
    "duration": 115,
    "start_time": "2023-03-17T08:50:02.469Z"
   },
   {
    "duration": 1023,
    "start_time": "2023-03-17T08:50:02.586Z"
   },
   {
    "duration": 7,
    "start_time": "2023-03-17T08:50:03.613Z"
   },
   {
    "duration": 132,
    "start_time": "2023-03-17T08:50:03.623Z"
   },
   {
    "duration": 13,
    "start_time": "2023-03-17T08:53:29.237Z"
   },
   {
    "duration": 10,
    "start_time": "2023-03-17T08:53:37.588Z"
   },
   {
    "duration": 1283,
    "start_time": "2023-03-17T08:57:51.943Z"
   },
   {
    "duration": 46,
    "start_time": "2023-03-17T08:57:53.228Z"
   },
   {
    "duration": 24,
    "start_time": "2023-03-17T08:57:53.276Z"
   },
   {
    "duration": 17,
    "start_time": "2023-03-17T08:57:53.302Z"
   },
   {
    "duration": 5,
    "start_time": "2023-03-17T08:57:53.322Z"
   },
   {
    "duration": 49,
    "start_time": "2023-03-17T08:57:53.329Z"
   },
   {
    "duration": 14,
    "start_time": "2023-03-17T08:57:53.380Z"
   },
   {
    "duration": 10,
    "start_time": "2023-03-17T08:57:53.397Z"
   },
   {
    "duration": 27,
    "start_time": "2023-03-17T08:57:53.409Z"
   },
   {
    "duration": 13,
    "start_time": "2023-03-17T08:57:53.438Z"
   },
   {
    "duration": 27,
    "start_time": "2023-03-17T08:57:53.464Z"
   },
   {
    "duration": 79,
    "start_time": "2023-03-17T08:57:53.494Z"
   },
   {
    "duration": 1043,
    "start_time": "2023-03-17T08:57:53.576Z"
   },
   {
    "duration": 9,
    "start_time": "2023-03-17T08:57:54.623Z"
   },
   {
    "duration": 166,
    "start_time": "2023-03-17T08:57:54.634Z"
   },
   {
    "duration": 10,
    "start_time": "2023-03-17T08:59:21.173Z"
   },
   {
    "duration": 1276,
    "start_time": "2023-03-17T09:01:39.598Z"
   },
   {
    "duration": 48,
    "start_time": "2023-03-17T09:01:40.877Z"
   },
   {
    "duration": 25,
    "start_time": "2023-03-17T09:01:40.927Z"
   },
   {
    "duration": 17,
    "start_time": "2023-03-17T09:01:40.955Z"
   },
   {
    "duration": 5,
    "start_time": "2023-03-17T09:01:40.974Z"
   },
   {
    "duration": 21,
    "start_time": "2023-03-17T09:01:40.981Z"
   },
   {
    "duration": 14,
    "start_time": "2023-03-17T09:01:41.004Z"
   },
   {
    "duration": 6,
    "start_time": "2023-03-17T09:01:41.020Z"
   },
   {
    "duration": 37,
    "start_time": "2023-03-17T09:01:41.028Z"
   },
   {
    "duration": 15,
    "start_time": "2023-03-17T09:01:41.068Z"
   },
   {
    "duration": 17,
    "start_time": "2023-03-17T09:01:41.085Z"
   },
   {
    "duration": 99,
    "start_time": "2023-03-17T09:01:41.166Z"
   },
   {
    "duration": 934,
    "start_time": "2023-03-17T09:01:41.268Z"
   },
   {
    "duration": 7,
    "start_time": "2023-03-17T09:01:42.204Z"
   },
   {
    "duration": 122,
    "start_time": "2023-03-17T09:01:42.213Z"
   },
   {
    "duration": 0,
    "start_time": "2023-03-17T09:01:42.337Z"
   },
   {
    "duration": 14,
    "start_time": "2023-03-17T09:01:50.824Z"
   },
   {
    "duration": 91,
    "start_time": "2023-03-17T09:02:57.745Z"
   },
   {
    "duration": 12,
    "start_time": "2023-03-17T09:04:05.635Z"
   },
   {
    "duration": 12,
    "start_time": "2023-03-17T09:10:29.012Z"
   },
   {
    "duration": 1197,
    "start_time": "2023-03-17T09:16:48.783Z"
   },
   {
    "duration": 47,
    "start_time": "2023-03-17T09:16:49.982Z"
   },
   {
    "duration": 25,
    "start_time": "2023-03-17T09:16:50.031Z"
   },
   {
    "duration": 16,
    "start_time": "2023-03-17T09:16:50.059Z"
   },
   {
    "duration": 8,
    "start_time": "2023-03-17T09:16:50.077Z"
   },
   {
    "duration": 35,
    "start_time": "2023-03-17T09:16:50.087Z"
   },
   {
    "duration": 14,
    "start_time": "2023-03-17T09:16:50.125Z"
   },
   {
    "duration": 24,
    "start_time": "2023-03-17T09:16:50.143Z"
   },
   {
    "duration": 21,
    "start_time": "2023-03-17T09:16:50.169Z"
   },
   {
    "duration": 35,
    "start_time": "2023-03-17T09:16:50.193Z"
   },
   {
    "duration": 24,
    "start_time": "2023-03-17T09:16:50.230Z"
   },
   {
    "duration": 15,
    "start_time": "2023-03-17T09:16:50.264Z"
   },
   {
    "duration": 1028,
    "start_time": "2023-03-17T09:16:50.368Z"
   },
   {
    "duration": 132,
    "start_time": "2023-03-17T09:16:51.398Z"
   },
   {
    "duration": 0,
    "start_time": "2023-03-17T09:16:51.532Z"
   },
   {
    "duration": 0,
    "start_time": "2023-03-17T09:16:51.534Z"
   },
   {
    "duration": 0,
    "start_time": "2023-03-17T09:16:51.536Z"
   },
   {
    "duration": 8,
    "start_time": "2023-03-17T09:17:51.067Z"
   },
   {
    "duration": 11,
    "start_time": "2023-03-17T09:18:02.187Z"
   },
   {
    "duration": 5,
    "start_time": "2023-03-17T09:18:51.367Z"
   },
   {
    "duration": 1237,
    "start_time": "2023-03-17T09:19:09.213Z"
   },
   {
    "duration": 46,
    "start_time": "2023-03-17T09:19:10.452Z"
   },
   {
    "duration": 27,
    "start_time": "2023-03-17T09:19:10.500Z"
   },
   {
    "duration": 15,
    "start_time": "2023-03-17T09:19:10.529Z"
   },
   {
    "duration": 18,
    "start_time": "2023-03-17T09:19:10.547Z"
   },
   {
    "duration": 24,
    "start_time": "2023-03-17T09:19:10.567Z"
   },
   {
    "duration": 13,
    "start_time": "2023-03-17T09:19:10.593Z"
   },
   {
    "duration": 5,
    "start_time": "2023-03-17T09:19:10.608Z"
   },
   {
    "duration": 8,
    "start_time": "2023-03-17T09:19:10.615Z"
   },
   {
    "duration": 45,
    "start_time": "2023-03-17T09:19:10.625Z"
   },
   {
    "duration": 22,
    "start_time": "2023-03-17T09:19:10.672Z"
   },
   {
    "duration": 101,
    "start_time": "2023-03-17T09:19:10.766Z"
   },
   {
    "duration": 920,
    "start_time": "2023-03-17T09:19:10.869Z"
   },
   {
    "duration": 7,
    "start_time": "2023-03-17T09:19:11.792Z"
   },
   {
    "duration": 30,
    "start_time": "2023-03-17T09:19:11.801Z"
   },
   {
    "duration": 6,
    "start_time": "2023-03-17T09:20:12.218Z"
   },
   {
    "duration": 138,
    "start_time": "2023-03-17T09:20:17.394Z"
   },
   {
    "duration": 1212,
    "start_time": "2023-03-17T09:20:51.075Z"
   },
   {
    "duration": 47,
    "start_time": "2023-03-17T09:20:52.289Z"
   },
   {
    "duration": 24,
    "start_time": "2023-03-17T09:20:52.338Z"
   },
   {
    "duration": 17,
    "start_time": "2023-03-17T09:20:52.365Z"
   },
   {
    "duration": 20,
    "start_time": "2023-03-17T09:20:52.384Z"
   },
   {
    "duration": 41,
    "start_time": "2023-03-17T09:20:52.407Z"
   },
   {
    "duration": 16,
    "start_time": "2023-03-17T09:20:52.450Z"
   },
   {
    "duration": 6,
    "start_time": "2023-03-17T09:20:52.468Z"
   },
   {
    "duration": 39,
    "start_time": "2023-03-17T09:20:52.477Z"
   },
   {
    "duration": 31,
    "start_time": "2023-03-17T09:20:52.520Z"
   },
   {
    "duration": 21,
    "start_time": "2023-03-17T09:20:52.554Z"
   },
   {
    "duration": 186,
    "start_time": "2023-03-17T09:20:52.579Z"
   },
   {
    "duration": 928,
    "start_time": "2023-03-17T09:20:52.767Z"
   },
   {
    "duration": 6,
    "start_time": "2023-03-17T09:20:53.697Z"
   },
   {
    "duration": 11,
    "start_time": "2023-03-17T09:20:53.705Z"
   },
   {
    "duration": 136,
    "start_time": "2023-03-17T09:20:53.717Z"
   },
   {
    "duration": 21,
    "start_time": "2023-03-17T09:23:20.753Z"
   },
   {
    "duration": 1290,
    "start_time": "2023-03-17T09:24:36.902Z"
   },
   {
    "duration": 45,
    "start_time": "2023-03-17T09:24:38.195Z"
   },
   {
    "duration": 25,
    "start_time": "2023-03-17T09:24:38.242Z"
   },
   {
    "duration": 15,
    "start_time": "2023-03-17T09:24:38.270Z"
   },
   {
    "duration": 6,
    "start_time": "2023-03-17T09:24:38.288Z"
   },
   {
    "duration": 28,
    "start_time": "2023-03-17T09:24:38.296Z"
   },
   {
    "duration": 14,
    "start_time": "2023-03-17T09:24:38.326Z"
   },
   {
    "duration": 26,
    "start_time": "2023-03-17T09:24:38.342Z"
   },
   {
    "duration": 19,
    "start_time": "2023-03-17T09:24:38.370Z"
   },
   {
    "duration": 18,
    "start_time": "2023-03-17T09:24:38.392Z"
   },
   {
    "duration": 55,
    "start_time": "2023-03-17T09:24:38.412Z"
   },
   {
    "duration": 100,
    "start_time": "2023-03-17T09:24:38.471Z"
   },
   {
    "duration": 932,
    "start_time": "2023-03-17T09:24:38.573Z"
   },
   {
    "duration": 9,
    "start_time": "2023-03-17T09:24:39.507Z"
   },
   {
    "duration": 59,
    "start_time": "2023-03-17T09:24:39.518Z"
   },
   {
    "duration": 37,
    "start_time": "2023-03-17T09:24:39.579Z"
   },
   {
    "duration": 134,
    "start_time": "2023-03-17T09:24:39.618Z"
   },
   {
    "duration": 0,
    "start_time": "2023-03-17T09:24:39.754Z"
   },
   {
    "duration": 1296,
    "start_time": "2023-03-17T09:25:27.558Z"
   },
   {
    "duration": 47,
    "start_time": "2023-03-17T09:25:28.856Z"
   },
   {
    "duration": 23,
    "start_time": "2023-03-17T09:25:28.905Z"
   },
   {
    "duration": 16,
    "start_time": "2023-03-17T09:25:28.931Z"
   },
   {
    "duration": 10,
    "start_time": "2023-03-17T09:25:28.949Z"
   },
   {
    "duration": 23,
    "start_time": "2023-03-17T09:25:28.963Z"
   },
   {
    "duration": 14,
    "start_time": "2023-03-17T09:25:28.988Z"
   },
   {
    "duration": 6,
    "start_time": "2023-03-17T09:25:29.004Z"
   },
   {
    "duration": 14,
    "start_time": "2023-03-17T09:25:29.012Z"
   },
   {
    "duration": 38,
    "start_time": "2023-03-17T09:25:29.029Z"
   },
   {
    "duration": 17,
    "start_time": "2023-03-17T09:25:29.070Z"
   },
   {
    "duration": 170,
    "start_time": "2023-03-17T09:25:29.094Z"
   },
   {
    "duration": 955,
    "start_time": "2023-03-17T09:25:29.267Z"
   },
   {
    "duration": 7,
    "start_time": "2023-03-17T09:25:30.223Z"
   },
   {
    "duration": 59,
    "start_time": "2023-03-17T09:25:30.232Z"
   },
   {
    "duration": 447,
    "start_time": "2023-03-17T09:26:45.883Z"
   },
   {
    "duration": 447,
    "start_time": "2023-03-17T09:28:13.013Z"
   },
   {
    "duration": 1239,
    "start_time": "2023-03-17T09:28:36.211Z"
   },
   {
    "duration": 45,
    "start_time": "2023-03-17T09:28:37.453Z"
   },
   {
    "duration": 23,
    "start_time": "2023-03-17T09:28:37.500Z"
   },
   {
    "duration": 18,
    "start_time": "2023-03-17T09:28:37.526Z"
   },
   {
    "duration": 4,
    "start_time": "2023-03-17T09:28:37.547Z"
   },
   {
    "duration": 29,
    "start_time": "2023-03-17T09:28:37.553Z"
   },
   {
    "duration": 14,
    "start_time": "2023-03-17T09:28:37.584Z"
   },
   {
    "duration": 6,
    "start_time": "2023-03-17T09:28:37.600Z"
   },
   {
    "duration": 15,
    "start_time": "2023-03-17T09:28:37.608Z"
   },
   {
    "duration": 17,
    "start_time": "2023-03-17T09:28:37.626Z"
   },
   {
    "duration": 34,
    "start_time": "2023-03-17T09:28:37.645Z"
   },
   {
    "duration": 101,
    "start_time": "2023-03-17T09:28:37.763Z"
   },
   {
    "duration": 941,
    "start_time": "2023-03-17T09:28:37.867Z"
   },
   {
    "duration": 7,
    "start_time": "2023-03-17T09:28:38.809Z"
   },
   {
    "duration": 17,
    "start_time": "2023-03-17T09:28:38.818Z"
   },
   {
    "duration": 467,
    "start_time": "2023-03-17T09:28:38.837Z"
   },
   {
    "duration": 9,
    "start_time": "2023-03-17T09:28:39.306Z"
   },
   {
    "duration": 9,
    "start_time": "2023-03-17T09:28:52.954Z"
   },
   {
    "duration": 1213,
    "start_time": "2023-03-17T09:29:02.120Z"
   },
   {
    "duration": 46,
    "start_time": "2023-03-17T09:29:03.336Z"
   },
   {
    "duration": 23,
    "start_time": "2023-03-17T09:29:03.384Z"
   },
   {
    "duration": 15,
    "start_time": "2023-03-17T09:29:03.409Z"
   },
   {
    "duration": 18,
    "start_time": "2023-03-17T09:29:03.427Z"
   },
   {
    "duration": 36,
    "start_time": "2023-03-17T09:29:03.447Z"
   },
   {
    "duration": 12,
    "start_time": "2023-03-17T09:29:03.485Z"
   },
   {
    "duration": 6,
    "start_time": "2023-03-17T09:29:03.499Z"
   },
   {
    "duration": 11,
    "start_time": "2023-03-17T09:29:03.507Z"
   },
   {
    "duration": 19,
    "start_time": "2023-03-17T09:29:03.521Z"
   },
   {
    "duration": 45,
    "start_time": "2023-03-17T09:29:03.541Z"
   },
   {
    "duration": 12,
    "start_time": "2023-03-17T09:29:03.666Z"
   },
   {
    "duration": 987,
    "start_time": "2023-03-17T09:29:03.765Z"
   },
   {
    "duration": 11,
    "start_time": "2023-03-17T09:29:04.754Z"
   },
   {
    "duration": 11,
    "start_time": "2023-03-17T09:29:04.766Z"
   },
   {
    "duration": 466,
    "start_time": "2023-03-17T09:29:04.779Z"
   },
   {
    "duration": 18,
    "start_time": "2023-03-17T09:29:05.247Z"
   },
   {
    "duration": 1633,
    "start_time": "2023-03-17T10:05:18.831Z"
   },
   {
    "duration": 46,
    "start_time": "2023-03-17T10:05:20.466Z"
   },
   {
    "duration": 35,
    "start_time": "2023-03-17T10:05:20.514Z"
   },
   {
    "duration": 25,
    "start_time": "2023-03-17T10:05:20.552Z"
   },
   {
    "duration": 13,
    "start_time": "2023-03-17T10:05:20.580Z"
   },
   {
    "duration": 59,
    "start_time": "2023-03-17T10:05:20.597Z"
   },
   {
    "duration": 19,
    "start_time": "2023-03-17T10:05:20.658Z"
   },
   {
    "duration": 29,
    "start_time": "2023-03-17T10:05:20.680Z"
   },
   {
    "duration": 29,
    "start_time": "2023-03-17T10:05:20.711Z"
   },
   {
    "duration": 28,
    "start_time": "2023-03-17T10:05:20.744Z"
   },
   {
    "duration": 26,
    "start_time": "2023-03-17T10:05:20.776Z"
   },
   {
    "duration": 160,
    "start_time": "2023-03-17T10:05:20.804Z"
   },
   {
    "duration": 927,
    "start_time": "2023-03-17T10:05:20.967Z"
   },
   {
    "duration": 7,
    "start_time": "2023-03-17T10:05:21.896Z"
   },
   {
    "duration": 25,
    "start_time": "2023-03-17T10:05:21.905Z"
   },
   {
    "duration": 481,
    "start_time": "2023-03-17T10:05:21.932Z"
   },
   {
    "duration": 9,
    "start_time": "2023-03-17T10:05:22.415Z"
   },
   {
    "duration": 132,
    "start_time": "2023-03-17T10:05:22.427Z"
   },
   {
    "duration": 13,
    "start_time": "2023-03-17T10:08:50.640Z"
   },
   {
    "duration": 1286,
    "start_time": "2023-03-17T10:10:14.824Z"
   },
   {
    "duration": 45,
    "start_time": "2023-03-17T10:10:16.112Z"
   },
   {
    "duration": 33,
    "start_time": "2023-03-17T10:10:16.159Z"
   },
   {
    "duration": 15,
    "start_time": "2023-03-17T10:10:16.195Z"
   },
   {
    "duration": 8,
    "start_time": "2023-03-17T10:10:16.212Z"
   },
   {
    "duration": 24,
    "start_time": "2023-03-17T10:10:16.221Z"
   },
   {
    "duration": 30,
    "start_time": "2023-03-17T10:10:16.247Z"
   },
   {
    "duration": 5,
    "start_time": "2023-03-17T10:10:16.282Z"
   },
   {
    "duration": 9,
    "start_time": "2023-03-17T10:10:16.289Z"
   },
   {
    "duration": 14,
    "start_time": "2023-03-17T10:10:16.301Z"
   },
   {
    "duration": 72,
    "start_time": "2023-03-17T10:10:16.317Z"
   },
   {
    "duration": 90,
    "start_time": "2023-03-17T10:10:16.392Z"
   },
   {
    "duration": 1013,
    "start_time": "2023-03-17T10:10:16.484Z"
   },
   {
    "duration": 7,
    "start_time": "2023-03-17T10:10:17.499Z"
   },
   {
    "duration": 14,
    "start_time": "2023-03-17T10:10:17.507Z"
   },
   {
    "duration": 490,
    "start_time": "2023-03-17T10:10:17.523Z"
   },
   {
    "duration": 8,
    "start_time": "2023-03-17T10:10:18.016Z"
   },
   {
    "duration": 139,
    "start_time": "2023-03-17T10:10:18.026Z"
   },
   {
    "duration": 53,
    "start_time": "2023-03-17T10:11:01.938Z"
   },
   {
    "duration": 137,
    "start_time": "2023-03-17T10:11:43.448Z"
   },
   {
    "duration": 130,
    "start_time": "2023-03-17T10:11:59.639Z"
   },
   {
    "duration": 1288,
    "start_time": "2023-03-17T10:13:05.021Z"
   },
   {
    "duration": 46,
    "start_time": "2023-03-17T10:13:06.311Z"
   },
   {
    "duration": 39,
    "start_time": "2023-03-17T10:13:06.359Z"
   },
   {
    "duration": 19,
    "start_time": "2023-03-17T10:13:06.402Z"
   },
   {
    "duration": 17,
    "start_time": "2023-03-17T10:13:06.424Z"
   },
   {
    "duration": 44,
    "start_time": "2023-03-17T10:13:06.443Z"
   },
   {
    "duration": 19,
    "start_time": "2023-03-17T10:13:06.489Z"
   },
   {
    "duration": 5,
    "start_time": "2023-03-17T10:13:06.510Z"
   },
   {
    "duration": 19,
    "start_time": "2023-03-17T10:13:06.517Z"
   },
   {
    "duration": 17,
    "start_time": "2023-03-17T10:13:06.539Z"
   },
   {
    "duration": 30,
    "start_time": "2023-03-17T10:13:06.559Z"
   },
   {
    "duration": 102,
    "start_time": "2023-03-17T10:13:06.664Z"
   },
   {
    "duration": 987,
    "start_time": "2023-03-17T10:13:06.769Z"
   },
   {
    "duration": 21,
    "start_time": "2023-03-17T10:13:07.757Z"
   },
   {
    "duration": 15,
    "start_time": "2023-03-17T10:13:07.784Z"
   },
   {
    "duration": 511,
    "start_time": "2023-03-17T10:13:07.801Z"
   },
   {
    "duration": 12,
    "start_time": "2023-03-17T10:13:08.315Z"
   },
   {
    "duration": 160,
    "start_time": "2023-03-17T10:13:08.330Z"
   },
   {
    "duration": 71,
    "start_time": "2023-03-18T01:20:34.023Z"
   },
   {
    "duration": 1278,
    "start_time": "2023-03-18T01:35:55.953Z"
   },
   {
    "duration": 95,
    "start_time": "2023-03-18T01:35:57.233Z"
   },
   {
    "duration": 20,
    "start_time": "2023-03-18T01:35:57.330Z"
   },
   {
    "duration": 13,
    "start_time": "2023-03-18T01:35:57.352Z"
   },
   {
    "duration": 5,
    "start_time": "2023-03-18T01:35:57.626Z"
   },
   {
    "duration": 22,
    "start_time": "2023-03-18T01:35:57.972Z"
   },
   {
    "duration": 12,
    "start_time": "2023-03-18T01:35:58.518Z"
   },
   {
    "duration": 5,
    "start_time": "2023-03-18T01:35:59.615Z"
   },
   {
    "duration": 7,
    "start_time": "2023-03-18T01:36:00.139Z"
   },
   {
    "duration": 12,
    "start_time": "2023-03-18T01:36:01.006Z"
   },
   {
    "duration": 29,
    "start_time": "2023-03-18T01:36:01.570Z"
   },
   {
    "duration": 8,
    "start_time": "2023-03-18T01:36:02.099Z"
   },
   {
    "duration": 3,
    "start_time": "2023-03-18T01:36:06.724Z"
   },
   {
    "duration": 10,
    "start_time": "2023-03-18T01:36:28.846Z"
   },
   {
    "duration": 16,
    "start_time": "2023-03-18T01:36:35.973Z"
   },
   {
    "duration": 10,
    "start_time": "2023-03-18T01:36:54.036Z"
   },
   {
    "duration": 12,
    "start_time": "2023-03-18T01:36:56.490Z"
   },
   {
    "duration": 1405,
    "start_time": "2023-03-18T07:15:55.389Z"
   },
   {
    "duration": 0,
    "start_time": "2023-03-18T07:15:56.796Z"
   },
   {
    "duration": 0,
    "start_time": "2023-03-18T07:15:56.797Z"
   },
   {
    "duration": 0,
    "start_time": "2023-03-18T07:15:56.798Z"
   },
   {
    "duration": 0,
    "start_time": "2023-03-18T07:15:56.799Z"
   },
   {
    "duration": 0,
    "start_time": "2023-03-18T07:15:56.800Z"
   },
   {
    "duration": 0,
    "start_time": "2023-03-18T07:15:56.801Z"
   },
   {
    "duration": 0,
    "start_time": "2023-03-18T07:15:56.802Z"
   },
   {
    "duration": 0,
    "start_time": "2023-03-18T07:15:56.803Z"
   },
   {
    "duration": 0,
    "start_time": "2023-03-18T07:15:56.804Z"
   },
   {
    "duration": 0,
    "start_time": "2023-03-18T07:15:56.805Z"
   },
   {
    "duration": 0,
    "start_time": "2023-03-18T07:15:56.806Z"
   },
   {
    "duration": 0,
    "start_time": "2023-03-18T07:15:56.807Z"
   },
   {
    "duration": 0,
    "start_time": "2023-03-18T07:15:56.808Z"
   },
   {
    "duration": 0,
    "start_time": "2023-03-18T07:15:56.809Z"
   },
   {
    "duration": 0,
    "start_time": "2023-03-18T07:15:56.810Z"
   },
   {
    "duration": 0,
    "start_time": "2023-03-18T07:15:56.811Z"
   },
   {
    "duration": 1,
    "start_time": "2023-03-18T07:15:56.811Z"
   },
   {
    "duration": 0,
    "start_time": "2023-03-18T07:15:56.813Z"
   },
   {
    "duration": 51524,
    "start_time": "2023-03-18T07:16:47.219Z"
   },
   {
    "duration": 2710,
    "start_time": "2023-03-18T07:17:57.032Z"
   },
   {
    "duration": 178,
    "start_time": "2023-03-18T07:17:59.744Z"
   },
   {
    "duration": 529,
    "start_time": "2023-03-18T07:17:59.924Z"
   },
   {
    "duration": 16,
    "start_time": "2023-03-18T07:18:00.456Z"
   },
   {
    "duration": 55,
    "start_time": "2023-03-18T07:18:00.474Z"
   },
   {
    "duration": 59,
    "start_time": "2023-03-18T07:18:00.531Z"
   },
   {
    "duration": 334,
    "start_time": "2023-03-18T07:18:00.592Z"
   },
   {
    "duration": 12,
    "start_time": "2023-03-18T07:18:00.928Z"
   },
   {
    "duration": 40,
    "start_time": "2023-03-18T07:18:00.941Z"
   },
   {
    "duration": 76,
    "start_time": "2023-03-18T07:18:00.984Z"
   },
   {
    "duration": 104,
    "start_time": "2023-03-18T07:18:01.062Z"
   },
   {
    "duration": 82,
    "start_time": "2023-03-18T07:18:01.168Z"
   },
   {
    "duration": 194,
    "start_time": "2023-03-18T07:18:01.253Z"
   },
   {
    "duration": 897,
    "start_time": "2023-03-18T07:18:01.449Z"
   },
   {
    "duration": 6,
    "start_time": "2023-03-18T07:18:02.348Z"
   },
   {
    "duration": 37,
    "start_time": "2023-03-18T07:18:02.356Z"
   },
   {
    "duration": 439,
    "start_time": "2023-03-18T07:18:02.394Z"
   },
   {
    "duration": 9,
    "start_time": "2023-03-18T07:18:02.835Z"
   },
   {
    "duration": 153,
    "start_time": "2023-03-18T07:18:02.846Z"
   },
   {
    "duration": 2645,
    "start_time": "2023-03-18T07:33:14.155Z"
   },
   {
    "duration": 45,
    "start_time": "2023-03-18T07:33:16.806Z"
   },
   {
    "duration": 26,
    "start_time": "2023-03-18T07:33:16.853Z"
   },
   {
    "duration": 24,
    "start_time": "2023-03-18T07:33:16.882Z"
   },
   {
    "duration": 21,
    "start_time": "2023-03-18T07:33:16.910Z"
   },
   {
    "duration": 19,
    "start_time": "2023-03-18T07:33:16.933Z"
   },
   {
    "duration": 406,
    "start_time": "2023-03-18T07:33:16.954Z"
   },
   {
    "duration": 13,
    "start_time": "2023-03-18T07:33:17.362Z"
   },
   {
    "duration": 7,
    "start_time": "2023-03-18T07:33:17.377Z"
   },
   {
    "duration": 30,
    "start_time": "2023-03-18T07:33:17.387Z"
   },
   {
    "duration": 20,
    "start_time": "2023-03-18T07:33:17.420Z"
   },
   {
    "duration": 65,
    "start_time": "2023-03-18T07:33:17.442Z"
   },
   {
    "duration": 90,
    "start_time": "2023-03-18T07:33:17.513Z"
   },
   {
    "duration": 742,
    "start_time": "2023-03-18T07:33:17.612Z"
   },
   {
    "duration": 9,
    "start_time": "2023-03-18T07:33:18.356Z"
   },
   {
    "duration": 10,
    "start_time": "2023-03-18T07:33:18.367Z"
   },
   {
    "duration": 392,
    "start_time": "2023-03-18T07:33:18.379Z"
   },
   {
    "duration": 9,
    "start_time": "2023-03-18T07:33:18.773Z"
   },
   {
    "duration": 237,
    "start_time": "2023-03-18T07:33:18.784Z"
   },
   {
    "duration": 2724,
    "start_time": "2023-03-18T07:45:34.308Z"
   },
   {
    "duration": 56,
    "start_time": "2023-03-18T07:45:37.034Z"
   },
   {
    "duration": 27,
    "start_time": "2023-03-18T07:45:37.092Z"
   },
   {
    "duration": 25,
    "start_time": "2023-03-18T07:45:37.123Z"
   },
   {
    "duration": 29,
    "start_time": "2023-03-18T07:45:37.151Z"
   },
   {
    "duration": 26,
    "start_time": "2023-03-18T07:45:37.183Z"
   },
   {
    "duration": 422,
    "start_time": "2023-03-18T07:45:37.212Z"
   },
   {
    "duration": 14,
    "start_time": "2023-03-18T07:45:37.636Z"
   },
   {
    "duration": 10,
    "start_time": "2023-03-18T07:45:37.652Z"
   },
   {
    "duration": 19,
    "start_time": "2023-03-18T07:45:37.666Z"
   },
   {
    "duration": 33,
    "start_time": "2023-03-18T07:45:37.688Z"
   },
   {
    "duration": 2776,
    "start_time": "2023-03-18T07:45:37.723Z"
   },
   {
    "duration": 17,
    "start_time": "2023-03-18T07:45:40.502Z"
   },
   {
    "duration": 131,
    "start_time": "2023-03-18T07:45:40.596Z"
   },
   {
    "duration": 837,
    "start_time": "2023-03-18T07:45:40.729Z"
   },
   {
    "duration": 8,
    "start_time": "2023-03-18T07:45:41.568Z"
   },
   {
    "duration": 17,
    "start_time": "2023-03-18T07:45:41.578Z"
   },
   {
    "duration": 495,
    "start_time": "2023-03-18T07:45:41.598Z"
   },
   {
    "duration": 10,
    "start_time": "2023-03-18T07:45:42.096Z"
   },
   {
    "duration": 209,
    "start_time": "2023-03-18T07:45:42.107Z"
   },
   {
    "duration": 2658,
    "start_time": "2023-03-18T07:48:45.072Z"
   },
   {
    "duration": 49,
    "start_time": "2023-03-18T07:48:47.732Z"
   },
   {
    "duration": 27,
    "start_time": "2023-03-18T07:48:47.784Z"
   },
   {
    "duration": 23,
    "start_time": "2023-03-18T07:48:47.814Z"
   },
   {
    "duration": 5,
    "start_time": "2023-03-18T07:48:47.839Z"
   },
   {
    "duration": 21,
    "start_time": "2023-03-18T07:48:47.847Z"
   },
   {
    "duration": 454,
    "start_time": "2023-03-18T07:48:47.871Z"
   },
   {
    "duration": 15,
    "start_time": "2023-03-18T07:48:48.328Z"
   },
   {
    "duration": 6,
    "start_time": "2023-03-18T07:48:48.346Z"
   },
   {
    "duration": 27,
    "start_time": "2023-03-18T07:48:48.357Z"
   },
   {
    "duration": 15,
    "start_time": "2023-03-18T07:48:48.387Z"
   },
   {
    "duration": 2103,
    "start_time": "2023-03-18T07:48:48.404Z"
   },
   {
    "duration": 2867,
    "start_time": "2023-03-18T07:48:50.510Z"
   },
   {
    "duration": 0,
    "start_time": "2023-03-18T07:48:53.380Z"
   },
   {
    "duration": 0,
    "start_time": "2023-03-18T07:48:53.381Z"
   },
   {
    "duration": 1,
    "start_time": "2023-03-18T07:48:53.382Z"
   },
   {
    "duration": 0,
    "start_time": "2023-03-18T07:48:53.384Z"
   },
   {
    "duration": 0,
    "start_time": "2023-03-18T07:48:53.406Z"
   },
   {
    "duration": 0,
    "start_time": "2023-03-18T07:48:53.408Z"
   },
   {
    "duration": 0,
    "start_time": "2023-03-18T07:48:53.414Z"
   },
   {
    "duration": 0,
    "start_time": "2023-03-18T07:48:53.416Z"
   },
   {
    "duration": 2863,
    "start_time": "2023-03-18T07:55:05.710Z"
   },
   {
    "duration": 54,
    "start_time": "2023-03-18T07:55:08.578Z"
   },
   {
    "duration": 25,
    "start_time": "2023-03-18T07:55:08.636Z"
   },
   {
    "duration": 22,
    "start_time": "2023-03-18T07:55:08.664Z"
   },
   {
    "duration": 5,
    "start_time": "2023-03-18T07:55:08.695Z"
   },
   {
    "duration": 20,
    "start_time": "2023-03-18T07:55:08.703Z"
   },
   {
    "duration": 405,
    "start_time": "2023-03-18T07:55:08.725Z"
   },
   {
    "duration": 11,
    "start_time": "2023-03-18T07:55:09.131Z"
   },
   {
    "duration": 6,
    "start_time": "2023-03-18T07:55:09.144Z"
   },
   {
    "duration": 16,
    "start_time": "2023-03-18T07:55:09.153Z"
   },
   {
    "duration": 24,
    "start_time": "2023-03-18T07:55:09.171Z"
   },
   {
    "duration": 2067,
    "start_time": "2023-03-18T07:55:09.197Z"
   },
   {
    "duration": 0,
    "start_time": "2023-03-18T07:55:11.266Z"
   },
   {
    "duration": 0,
    "start_time": "2023-03-18T07:55:11.268Z"
   },
   {
    "duration": 0,
    "start_time": "2023-03-18T07:55:11.269Z"
   },
   {
    "duration": 0,
    "start_time": "2023-03-18T07:55:11.272Z"
   },
   {
    "duration": 0,
    "start_time": "2023-03-18T07:55:11.273Z"
   },
   {
    "duration": 0,
    "start_time": "2023-03-18T07:55:11.275Z"
   },
   {
    "duration": 0,
    "start_time": "2023-03-18T07:55:11.295Z"
   },
   {
    "duration": 0,
    "start_time": "2023-03-18T07:55:11.296Z"
   },
   {
    "duration": 2523,
    "start_time": "2023-03-18T08:05:43.034Z"
   },
   {
    "duration": 53,
    "start_time": "2023-03-18T08:05:45.560Z"
   },
   {
    "duration": 26,
    "start_time": "2023-03-18T08:05:45.615Z"
   },
   {
    "duration": 24,
    "start_time": "2023-03-18T08:05:45.644Z"
   },
   {
    "duration": 5,
    "start_time": "2023-03-18T08:05:45.670Z"
   },
   {
    "duration": 30,
    "start_time": "2023-03-18T08:05:45.676Z"
   },
   {
    "duration": 422,
    "start_time": "2023-03-18T08:05:45.708Z"
   },
   {
    "duration": 11,
    "start_time": "2023-03-18T08:05:46.131Z"
   },
   {
    "duration": 7,
    "start_time": "2023-03-18T08:05:46.144Z"
   },
   {
    "duration": 25,
    "start_time": "2023-03-18T08:05:46.154Z"
   },
   {
    "duration": 17,
    "start_time": "2023-03-18T08:05:46.181Z"
   },
   {
    "duration": 3389,
    "start_time": "2023-03-18T08:05:46.200Z"
   },
   {
    "duration": 0,
    "start_time": "2023-03-18T08:05:49.595Z"
   },
   {
    "duration": 0,
    "start_time": "2023-03-18T08:05:49.597Z"
   },
   {
    "duration": 0,
    "start_time": "2023-03-18T08:05:49.598Z"
   },
   {
    "duration": 0,
    "start_time": "2023-03-18T08:05:49.599Z"
   },
   {
    "duration": 0,
    "start_time": "2023-03-18T08:05:49.600Z"
   },
   {
    "duration": 0,
    "start_time": "2023-03-18T08:05:49.601Z"
   },
   {
    "duration": 0,
    "start_time": "2023-03-18T08:05:49.603Z"
   },
   {
    "duration": 0,
    "start_time": "2023-03-18T08:05:49.604Z"
   },
   {
    "duration": 2674,
    "start_time": "2023-03-18T08:07:48.905Z"
   },
   {
    "duration": 53,
    "start_time": "2023-03-18T08:07:51.582Z"
   },
   {
    "duration": 22,
    "start_time": "2023-03-18T08:07:51.637Z"
   },
   {
    "duration": 22,
    "start_time": "2023-03-18T08:07:51.661Z"
   },
   {
    "duration": 11,
    "start_time": "2023-03-18T08:07:51.685Z"
   },
   {
    "duration": 20,
    "start_time": "2023-03-18T08:07:51.698Z"
   },
   {
    "duration": 455,
    "start_time": "2023-03-18T08:07:51.720Z"
   },
   {
    "duration": 11,
    "start_time": "2023-03-18T08:07:52.177Z"
   },
   {
    "duration": 5,
    "start_time": "2023-03-18T08:07:52.190Z"
   },
   {
    "duration": 21,
    "start_time": "2023-03-18T08:07:52.197Z"
   },
   {
    "duration": 33,
    "start_time": "2023-03-18T08:07:52.220Z"
   },
   {
    "duration": 3205,
    "start_time": "2023-03-18T08:07:52.255Z"
   },
   {
    "duration": 0,
    "start_time": "2023-03-18T08:07:55.461Z"
   },
   {
    "duration": 0,
    "start_time": "2023-03-18T08:07:55.463Z"
   },
   {
    "duration": 0,
    "start_time": "2023-03-18T08:07:55.465Z"
   },
   {
    "duration": 0,
    "start_time": "2023-03-18T08:07:55.466Z"
   },
   {
    "duration": 0,
    "start_time": "2023-03-18T08:07:55.468Z"
   },
   {
    "duration": 0,
    "start_time": "2023-03-18T08:07:55.469Z"
   },
   {
    "duration": 0,
    "start_time": "2023-03-18T08:07:55.471Z"
   },
   {
    "duration": 0,
    "start_time": "2023-03-18T08:07:55.473Z"
   },
   {
    "duration": 2894,
    "start_time": "2023-03-18T08:09:22.205Z"
   },
   {
    "duration": 64,
    "start_time": "2023-03-18T08:09:25.105Z"
   },
   {
    "duration": 27,
    "start_time": "2023-03-18T08:09:25.172Z"
   },
   {
    "duration": 15,
    "start_time": "2023-03-18T08:09:25.202Z"
   },
   {
    "duration": 19,
    "start_time": "2023-03-18T08:09:25.220Z"
   },
   {
    "duration": 34,
    "start_time": "2023-03-18T08:09:25.242Z"
   },
   {
    "duration": 446,
    "start_time": "2023-03-18T08:09:25.278Z"
   },
   {
    "duration": 13,
    "start_time": "2023-03-18T08:09:25.727Z"
   },
   {
    "duration": 5,
    "start_time": "2023-03-18T08:09:25.743Z"
   },
   {
    "duration": 37,
    "start_time": "2023-03-18T08:09:25.750Z"
   },
   {
    "duration": 27,
    "start_time": "2023-03-18T08:09:25.789Z"
   },
   {
    "duration": 4247,
    "start_time": "2023-03-18T08:09:25.818Z"
   },
   {
    "duration": 0,
    "start_time": "2023-03-18T08:09:30.068Z"
   },
   {
    "duration": 1,
    "start_time": "2023-03-18T08:09:30.069Z"
   },
   {
    "duration": 0,
    "start_time": "2023-03-18T08:09:30.071Z"
   },
   {
    "duration": 0,
    "start_time": "2023-03-18T08:09:30.074Z"
   },
   {
    "duration": 0,
    "start_time": "2023-03-18T08:09:30.075Z"
   },
   {
    "duration": 0,
    "start_time": "2023-03-18T08:09:30.077Z"
   },
   {
    "duration": 0,
    "start_time": "2023-03-18T08:09:30.079Z"
   },
   {
    "duration": 0,
    "start_time": "2023-03-18T08:09:30.095Z"
   },
   {
    "duration": 2962,
    "start_time": "2023-03-18T08:15:25.594Z"
   },
   {
    "duration": 59,
    "start_time": "2023-03-18T08:15:28.559Z"
   },
   {
    "duration": 28,
    "start_time": "2023-03-18T08:15:28.620Z"
   },
   {
    "duration": 24,
    "start_time": "2023-03-18T08:15:28.651Z"
   },
   {
    "duration": 5,
    "start_time": "2023-03-18T08:15:28.679Z"
   },
   {
    "duration": 41,
    "start_time": "2023-03-18T08:15:28.695Z"
   },
   {
    "duration": 461,
    "start_time": "2023-03-18T08:15:28.738Z"
   },
   {
    "duration": 11,
    "start_time": "2023-03-18T08:15:29.201Z"
   },
   {
    "duration": 27,
    "start_time": "2023-03-18T08:15:29.214Z"
   },
   {
    "duration": 16,
    "start_time": "2023-03-18T08:15:29.243Z"
   },
   {
    "duration": 22,
    "start_time": "2023-03-18T08:15:29.261Z"
   },
   {
    "duration": 5745,
    "start_time": "2023-03-18T08:15:29.285Z"
   },
   {
    "duration": 79,
    "start_time": "2023-03-18T08:15:35.032Z"
   },
   {
    "duration": 129,
    "start_time": "2023-03-18T08:15:35.114Z"
   },
   {
    "duration": 772,
    "start_time": "2023-03-18T08:15:35.247Z"
   },
   {
    "duration": 10,
    "start_time": "2023-03-18T08:15:36.027Z"
   },
   {
    "duration": 57,
    "start_time": "2023-03-18T08:15:36.039Z"
   },
   {
    "duration": 480,
    "start_time": "2023-03-18T08:15:36.098Z"
   },
   {
    "duration": 27,
    "start_time": "2023-03-18T08:15:36.580Z"
   },
   {
    "duration": 192,
    "start_time": "2023-03-18T08:15:36.609Z"
   },
   {
    "duration": 2558,
    "start_time": "2023-03-18T08:25:48.614Z"
   },
   {
    "duration": 56,
    "start_time": "2023-03-18T08:25:51.175Z"
   },
   {
    "duration": 19,
    "start_time": "2023-03-18T08:25:51.233Z"
   },
   {
    "duration": 17,
    "start_time": "2023-03-18T08:25:51.254Z"
   },
   {
    "duration": 5,
    "start_time": "2023-03-18T08:25:51.275Z"
   },
   {
    "duration": 31,
    "start_time": "2023-03-18T08:25:51.282Z"
   },
   {
    "duration": 405,
    "start_time": "2023-03-18T08:25:51.315Z"
   },
   {
    "duration": 13,
    "start_time": "2023-03-18T08:25:51.722Z"
   },
   {
    "duration": 14,
    "start_time": "2023-03-18T08:25:51.737Z"
   },
   {
    "duration": 33,
    "start_time": "2023-03-18T08:25:51.753Z"
   },
   {
    "duration": 21,
    "start_time": "2023-03-18T08:25:51.788Z"
   },
   {
    "duration": 5581,
    "start_time": "2023-03-18T08:25:51.816Z"
   },
   {
    "duration": 808,
    "start_time": "2023-03-18T08:25:57.405Z"
   },
   {
    "duration": 6,
    "start_time": "2023-03-18T08:25:58.217Z"
   },
   {
    "duration": 16,
    "start_time": "2023-03-18T08:25:58.225Z"
   },
   {
    "duration": 368,
    "start_time": "2023-03-18T08:25:58.242Z"
   },
   {
    "duration": 8,
    "start_time": "2023-03-18T08:25:58.615Z"
   },
   {
    "duration": 291,
    "start_time": "2023-03-18T08:25:58.624Z"
   },
   {
    "duration": 2589,
    "start_time": "2023-03-18T08:26:52.687Z"
   },
   {
    "duration": 58,
    "start_time": "2023-03-18T08:26:55.280Z"
   },
   {
    "duration": 22,
    "start_time": "2023-03-18T08:26:55.340Z"
   },
   {
    "duration": 19,
    "start_time": "2023-03-18T08:26:55.364Z"
   },
   {
    "duration": 5,
    "start_time": "2023-03-18T08:26:55.385Z"
   },
   {
    "duration": 24,
    "start_time": "2023-03-18T08:26:55.396Z"
   },
   {
    "duration": 406,
    "start_time": "2023-03-18T08:26:55.423Z"
   },
   {
    "duration": 11,
    "start_time": "2023-03-18T08:26:55.830Z"
   },
   {
    "duration": 5,
    "start_time": "2023-03-18T08:26:55.843Z"
   },
   {
    "duration": 18,
    "start_time": "2023-03-18T08:26:55.851Z"
   },
   {
    "duration": 32,
    "start_time": "2023-03-18T08:26:55.872Z"
   },
   {
    "duration": 5722,
    "start_time": "2023-03-18T08:26:55.905Z"
   },
   {
    "duration": 790,
    "start_time": "2023-03-18T08:27:01.703Z"
   },
   {
    "duration": 6,
    "start_time": "2023-03-18T08:27:02.495Z"
   },
   {
    "duration": 7,
    "start_time": "2023-03-18T08:27:02.503Z"
   },
   {
    "duration": 408,
    "start_time": "2023-03-18T08:27:02.511Z"
   },
   {
    "duration": 7,
    "start_time": "2023-03-18T08:27:02.921Z"
   },
   {
    "duration": 300,
    "start_time": "2023-03-18T08:27:02.930Z"
   },
   {
    "duration": 2511,
    "start_time": "2023-03-18T08:36:44.375Z"
   },
   {
    "duration": 49,
    "start_time": "2023-03-18T08:36:46.887Z"
   },
   {
    "duration": 21,
    "start_time": "2023-03-18T08:36:46.938Z"
   },
   {
    "duration": 21,
    "start_time": "2023-03-18T08:36:46.961Z"
   },
   {
    "duration": 26,
    "start_time": "2023-03-18T08:36:46.984Z"
   },
   {
    "duration": 28,
    "start_time": "2023-03-18T08:36:47.012Z"
   },
   {
    "duration": 413,
    "start_time": "2023-03-18T08:36:47.041Z"
   },
   {
    "duration": 10,
    "start_time": "2023-03-18T08:36:47.456Z"
   },
   {
    "duration": 46,
    "start_time": "2023-03-18T08:36:47.468Z"
   },
   {
    "duration": 14,
    "start_time": "2023-03-18T08:36:47.517Z"
   },
   {
    "duration": 17,
    "start_time": "2023-03-18T08:36:47.533Z"
   },
   {
    "duration": 5662,
    "start_time": "2023-03-18T08:36:47.552Z"
   },
   {
    "duration": 93,
    "start_time": "2023-03-18T08:36:53.220Z"
   },
   {
    "duration": 912,
    "start_time": "2023-03-18T08:36:53.321Z"
   },
   {
    "duration": 5,
    "start_time": "2023-03-18T08:36:54.235Z"
   },
   {
    "duration": 43,
    "start_time": "2023-03-18T08:36:54.243Z"
   },
   {
    "duration": 459,
    "start_time": "2023-03-18T08:36:54.288Z"
   },
   {
    "duration": 8,
    "start_time": "2023-03-18T08:36:54.749Z"
   },
   {
    "duration": 302,
    "start_time": "2023-03-18T08:36:54.758Z"
   },
   {
    "duration": 2639,
    "start_time": "2023-03-18T08:44:56.128Z"
   },
   {
    "duration": 59,
    "start_time": "2023-03-18T08:44:58.770Z"
   },
   {
    "duration": 29,
    "start_time": "2023-03-18T08:44:58.832Z"
   },
   {
    "duration": 14,
    "start_time": "2023-03-18T08:44:58.863Z"
   },
   {
    "duration": 20,
    "start_time": "2023-03-18T08:44:58.879Z"
   },
   {
    "duration": 20,
    "start_time": "2023-03-18T08:44:58.901Z"
   },
   {
    "duration": 428,
    "start_time": "2023-03-18T08:44:58.923Z"
   },
   {
    "duration": 10,
    "start_time": "2023-03-18T08:44:59.353Z"
   },
   {
    "duration": 26,
    "start_time": "2023-03-18T08:44:59.365Z"
   },
   {
    "duration": 61,
    "start_time": "2023-03-18T08:44:59.393Z"
   },
   {
    "duration": 48,
    "start_time": "2023-03-18T08:44:59.456Z"
   },
   {
    "duration": 6240,
    "start_time": "2023-03-18T08:44:59.506Z"
   },
   {
    "duration": 26,
    "start_time": "2023-03-18T08:45:05.811Z"
   },
   {
    "duration": 93,
    "start_time": "2023-03-18T08:45:05.845Z"
   },
   {
    "duration": 859,
    "start_time": "2023-03-18T08:45:05.940Z"
   },
   {
    "duration": 8,
    "start_time": "2023-03-18T08:45:06.800Z"
   },
   {
    "duration": 36,
    "start_time": "2023-03-18T08:45:06.814Z"
   },
   {
    "duration": 409,
    "start_time": "2023-03-18T08:45:06.852Z"
   },
   {
    "duration": 8,
    "start_time": "2023-03-18T08:45:07.263Z"
   },
   {
    "duration": 311,
    "start_time": "2023-03-18T08:45:07.273Z"
   },
   {
    "duration": 1329,
    "start_time": "2023-03-18T12:34:07.110Z"
   },
   {
    "duration": 0,
    "start_time": "2023-03-18T12:34:08.441Z"
   },
   {
    "duration": 0,
    "start_time": "2023-03-18T12:34:08.445Z"
   },
   {
    "duration": 0,
    "start_time": "2023-03-18T12:34:08.447Z"
   },
   {
    "duration": 0,
    "start_time": "2023-03-18T12:34:08.448Z"
   },
   {
    "duration": 0,
    "start_time": "2023-03-18T12:34:08.449Z"
   },
   {
    "duration": 0,
    "start_time": "2023-03-18T12:34:08.466Z"
   },
   {
    "duration": 0,
    "start_time": "2023-03-18T12:34:08.467Z"
   },
   {
    "duration": 0,
    "start_time": "2023-03-18T12:34:08.469Z"
   },
   {
    "duration": 0,
    "start_time": "2023-03-18T12:34:08.470Z"
   },
   {
    "duration": 0,
    "start_time": "2023-03-18T12:34:08.472Z"
   },
   {
    "duration": 0,
    "start_time": "2023-03-18T12:34:08.473Z"
   },
   {
    "duration": 0,
    "start_time": "2023-03-18T12:34:08.474Z"
   },
   {
    "duration": 0,
    "start_time": "2023-03-18T12:34:08.476Z"
   },
   {
    "duration": 0,
    "start_time": "2023-03-18T12:34:08.477Z"
   },
   {
    "duration": 0,
    "start_time": "2023-03-18T12:34:08.479Z"
   },
   {
    "duration": 0,
    "start_time": "2023-03-18T12:34:08.480Z"
   },
   {
    "duration": 0,
    "start_time": "2023-03-18T12:34:08.481Z"
   },
   {
    "duration": 0,
    "start_time": "2023-03-18T12:34:08.483Z"
   },
   {
    "duration": 0,
    "start_time": "2023-03-18T12:34:08.484Z"
   },
   {
    "duration": 1140,
    "start_time": "2023-03-18T12:34:45.813Z"
   },
   {
    "duration": 544,
    "start_time": "2023-03-18T12:34:46.955Z"
   },
   {
    "duration": 22,
    "start_time": "2023-03-18T12:34:47.501Z"
   },
   {
    "duration": 15,
    "start_time": "2023-03-18T12:34:47.525Z"
   },
   {
    "duration": 7,
    "start_time": "2023-03-18T12:34:47.542Z"
   },
   {
    "duration": 21,
    "start_time": "2023-03-18T12:34:47.551Z"
   },
   {
    "duration": 3,
    "start_time": "2023-03-18T12:34:47.574Z"
   },
   {
    "duration": 15,
    "start_time": "2023-03-18T12:34:47.579Z"
   },
   {
    "duration": 5,
    "start_time": "2023-03-18T12:34:47.596Z"
   },
   {
    "duration": 36,
    "start_time": "2023-03-18T12:34:47.604Z"
   },
   {
    "duration": 33,
    "start_time": "2023-03-18T12:34:47.642Z"
   },
   {
    "duration": 7993,
    "start_time": "2023-03-18T12:34:47.677Z"
   },
   {
    "duration": 99,
    "start_time": "2023-03-18T12:34:55.672Z"
   },
   {
    "duration": 96,
    "start_time": "2023-03-18T12:34:55.774Z"
   },
   {
    "duration": 754,
    "start_time": "2023-03-18T12:34:55.872Z"
   },
   {
    "duration": 8,
    "start_time": "2023-03-18T12:34:56.628Z"
   },
   {
    "duration": 15,
    "start_time": "2023-03-18T12:34:56.639Z"
   },
   {
    "duration": 400,
    "start_time": "2023-03-18T12:34:56.656Z"
   },
   {
    "duration": 11,
    "start_time": "2023-03-18T12:34:57.058Z"
   },
   {
    "duration": 209,
    "start_time": "2023-03-18T12:34:57.070Z"
   },
   {
    "duration": 1173,
    "start_time": "2023-03-18T12:47:01.607Z"
   },
   {
    "duration": 45,
    "start_time": "2023-03-18T12:47:02.782Z"
   },
   {
    "duration": 21,
    "start_time": "2023-03-18T12:47:02.829Z"
   },
   {
    "duration": 34,
    "start_time": "2023-03-18T12:47:02.853Z"
   },
   {
    "duration": 5,
    "start_time": "2023-03-18T12:47:02.889Z"
   },
   {
    "duration": 36,
    "start_time": "2023-03-18T12:47:02.896Z"
   },
   {
    "duration": 18,
    "start_time": "2023-03-18T12:47:02.934Z"
   },
   {
    "duration": 21,
    "start_time": "2023-03-18T12:47:02.953Z"
   },
   {
    "duration": 11,
    "start_time": "2023-03-18T12:47:02.976Z"
   },
   {
    "duration": 18,
    "start_time": "2023-03-18T12:47:02.990Z"
   },
   {
    "duration": 50,
    "start_time": "2023-03-18T12:47:03.010Z"
   },
   {
    "duration": 7703,
    "start_time": "2023-03-18T12:47:03.062Z"
   },
   {
    "duration": 101,
    "start_time": "2023-03-18T12:47:10.768Z"
   },
   {
    "duration": 9,
    "start_time": "2023-03-18T12:47:10.871Z"
   },
   {
    "duration": 86666,
    "start_time": "2023-03-18T12:47:10.881Z"
   },
   {
    "duration": 775,
    "start_time": "2023-03-18T12:48:37.550Z"
   },
   {
    "duration": 6,
    "start_time": "2023-03-18T12:48:38.327Z"
   },
   {
    "duration": 12,
    "start_time": "2023-03-18T12:48:38.334Z"
   },
   {
    "duration": 384,
    "start_time": "2023-03-18T12:48:38.348Z"
   },
   {
    "duration": 8,
    "start_time": "2023-03-18T12:48:38.734Z"
   },
   {
    "duration": 213,
    "start_time": "2023-03-18T12:48:38.744Z"
   },
   {
    "duration": 1135,
    "start_time": "2023-03-18T12:54:41.998Z"
   },
   {
    "duration": 44,
    "start_time": "2023-03-18T12:54:43.135Z"
   },
   {
    "duration": 21,
    "start_time": "2023-03-18T12:54:43.181Z"
   },
   {
    "duration": 16,
    "start_time": "2023-03-18T12:54:43.205Z"
   },
   {
    "duration": 5,
    "start_time": "2023-03-18T12:54:43.223Z"
   },
   {
    "duration": 38,
    "start_time": "2023-03-18T12:54:43.229Z"
   },
   {
    "duration": 3,
    "start_time": "2023-03-18T12:54:43.269Z"
   },
   {
    "duration": 21,
    "start_time": "2023-03-18T12:54:43.273Z"
   },
   {
    "duration": 6,
    "start_time": "2023-03-18T12:54:43.296Z"
   },
   {
    "duration": 15,
    "start_time": "2023-03-18T12:54:43.305Z"
   },
   {
    "duration": 51,
    "start_time": "2023-03-18T12:54:43.322Z"
   },
   {
    "duration": 7699,
    "start_time": "2023-03-18T12:54:43.375Z"
   },
   {
    "duration": 102,
    "start_time": "2023-03-18T12:54:51.166Z"
   },
   {
    "duration": 7,
    "start_time": "2023-03-18T12:54:51.270Z"
   },
   {
    "duration": 87288,
    "start_time": "2023-03-18T12:54:51.279Z"
   },
   {
    "duration": 10,
    "start_time": "2023-03-18T12:56:18.568Z"
   },
   {
    "duration": 7,
    "start_time": "2023-03-18T12:56:18.580Z"
   },
   {
    "duration": 132,
    "start_time": "2023-03-18T12:56:18.589Z"
   },
   {
    "duration": 0,
    "start_time": "2023-03-18T12:56:18.723Z"
   },
   {
    "duration": 8569,
    "start_time": "2023-03-18T12:57:01.203Z"
   },
   {
    "duration": 32,
    "start_time": "2023-03-18T12:57:30.979Z"
   },
   {
    "duration": 1093,
    "start_time": "2023-03-18T12:57:49.733Z"
   },
   {
    "duration": 43,
    "start_time": "2023-03-18T12:57:50.829Z"
   },
   {
    "duration": 25,
    "start_time": "2023-03-18T12:57:50.874Z"
   },
   {
    "duration": 14,
    "start_time": "2023-03-18T12:57:50.901Z"
   },
   {
    "duration": 11,
    "start_time": "2023-03-18T12:57:50.917Z"
   },
   {
    "duration": 34,
    "start_time": "2023-03-18T12:57:50.930Z"
   },
   {
    "duration": 3,
    "start_time": "2023-03-18T12:57:50.966Z"
   },
   {
    "duration": 21,
    "start_time": "2023-03-18T12:57:50.970Z"
   },
   {
    "duration": 7,
    "start_time": "2023-03-18T12:57:50.993Z"
   },
   {
    "duration": 26,
    "start_time": "2023-03-18T12:57:51.002Z"
   },
   {
    "duration": 41,
    "start_time": "2023-03-18T12:57:51.031Z"
   },
   {
    "duration": 5226,
    "start_time": "2023-03-18T12:57:51.073Z"
   },
   {
    "duration": 0,
    "start_time": "2023-03-18T12:57:56.301Z"
   },
   {
    "duration": 0,
    "start_time": "2023-03-18T12:57:56.303Z"
   },
   {
    "duration": 0,
    "start_time": "2023-03-18T12:57:56.304Z"
   },
   {
    "duration": 0,
    "start_time": "2023-03-18T12:57:56.305Z"
   },
   {
    "duration": 0,
    "start_time": "2023-03-18T12:57:56.306Z"
   },
   {
    "duration": 0,
    "start_time": "2023-03-18T12:57:56.307Z"
   },
   {
    "duration": 0,
    "start_time": "2023-03-18T12:57:56.309Z"
   },
   {
    "duration": 0,
    "start_time": "2023-03-18T12:57:56.310Z"
   },
   {
    "duration": 1100,
    "start_time": "2023-03-18T12:58:04.300Z"
   },
   {
    "duration": 45,
    "start_time": "2023-03-18T12:58:05.402Z"
   },
   {
    "duration": 24,
    "start_time": "2023-03-18T12:58:05.449Z"
   },
   {
    "duration": 17,
    "start_time": "2023-03-18T12:58:05.475Z"
   },
   {
    "duration": 4,
    "start_time": "2023-03-18T12:58:05.494Z"
   },
   {
    "duration": 24,
    "start_time": "2023-03-18T12:58:05.501Z"
   },
   {
    "duration": 3,
    "start_time": "2023-03-18T12:58:05.527Z"
   },
   {
    "duration": 47,
    "start_time": "2023-03-18T12:58:05.532Z"
   },
   {
    "duration": 16,
    "start_time": "2023-03-18T12:58:05.581Z"
   },
   {
    "duration": 14,
    "start_time": "2023-03-18T12:58:05.600Z"
   },
   {
    "duration": 48,
    "start_time": "2023-03-18T12:58:05.616Z"
   },
   {
    "duration": 9498,
    "start_time": "2023-03-18T12:58:05.667Z"
   },
   {
    "duration": 103,
    "start_time": "2023-03-18T12:58:15.168Z"
   },
   {
    "duration": 8,
    "start_time": "2023-03-18T12:58:15.273Z"
   },
   {
    "duration": 95245,
    "start_time": "2023-03-18T12:58:15.283Z"
   },
   {
    "duration": 15,
    "start_time": "2023-03-18T12:59:50.529Z"
   },
   {
    "duration": 20,
    "start_time": "2023-03-18T12:59:50.546Z"
   },
   {
    "duration": 434,
    "start_time": "2023-03-18T12:59:50.568Z"
   },
   {
    "duration": 0,
    "start_time": "2023-03-18T12:59:51.004Z"
   },
   {
    "duration": 152819,
    "start_time": "2023-03-18T13:00:35.685Z"
   },
   {
    "duration": 11,
    "start_time": "2023-03-18T13:03:38.133Z"
   },
   {
    "duration": 6,
    "start_time": "2023-03-18T13:03:46.186Z"
   },
   {
    "duration": 1083,
    "start_time": "2023-03-18T13:41:09.334Z"
   },
   {
    "duration": 46,
    "start_time": "2023-03-18T13:41:10.420Z"
   },
   {
    "duration": 25,
    "start_time": "2023-03-18T13:41:10.468Z"
   },
   {
    "duration": 20,
    "start_time": "2023-03-18T13:41:10.496Z"
   },
   {
    "duration": 9,
    "start_time": "2023-03-18T13:41:10.519Z"
   },
   {
    "duration": 51,
    "start_time": "2023-03-18T13:41:10.531Z"
   },
   {
    "duration": 3,
    "start_time": "2023-03-18T13:41:10.584Z"
   },
   {
    "duration": 27,
    "start_time": "2023-03-18T13:41:10.589Z"
   },
   {
    "duration": 6,
    "start_time": "2023-03-18T13:41:10.619Z"
   },
   {
    "duration": 36,
    "start_time": "2023-03-18T13:41:10.628Z"
   },
   {
    "duration": 30,
    "start_time": "2023-03-18T13:41:10.667Z"
   },
   {
    "duration": 7779,
    "start_time": "2023-03-18T13:41:10.699Z"
   },
   {
    "duration": 190,
    "start_time": "2023-03-18T13:41:18.479Z"
   },
   {
    "duration": 8,
    "start_time": "2023-03-18T13:41:18.672Z"
   },
   {
    "duration": 98944,
    "start_time": "2023-03-18T13:41:18.682Z"
   },
   {
    "duration": 16,
    "start_time": "2023-03-18T13:42:57.628Z"
   },
   {
    "duration": 22,
    "start_time": "2023-03-18T13:42:57.646Z"
   },
   {
    "duration": 156963,
    "start_time": "2023-03-18T13:42:57.670Z"
   },
   {
    "duration": 28,
    "start_time": "2023-03-18T13:45:34.636Z"
   },
   {
    "duration": 9,
    "start_time": "2023-03-18T13:45:34.667Z"
   },
   {
    "duration": 290,
    "start_time": "2023-03-18T13:45:34.678Z"
   },
   {
    "duration": 209,
    "start_time": "2023-03-18T13:49:13.160Z"
   },
   {
    "duration": 1203,
    "start_time": "2023-03-19T08:28:51.319Z"
   },
   {
    "duration": 0,
    "start_time": "2023-03-19T08:28:52.525Z"
   },
   {
    "duration": 0,
    "start_time": "2023-03-19T08:28:52.526Z"
   },
   {
    "duration": 0,
    "start_time": "2023-03-19T08:28:52.527Z"
   },
   {
    "duration": 0,
    "start_time": "2023-03-19T08:28:52.528Z"
   },
   {
    "duration": 0,
    "start_time": "2023-03-19T08:28:52.529Z"
   },
   {
    "duration": 0,
    "start_time": "2023-03-19T08:28:52.530Z"
   },
   {
    "duration": 0,
    "start_time": "2023-03-19T08:28:52.531Z"
   },
   {
    "duration": 0,
    "start_time": "2023-03-19T08:28:52.532Z"
   },
   {
    "duration": 0,
    "start_time": "2023-03-19T08:28:52.533Z"
   },
   {
    "duration": 0,
    "start_time": "2023-03-19T08:28:52.534Z"
   },
   {
    "duration": 0,
    "start_time": "2023-03-19T08:28:52.535Z"
   },
   {
    "duration": 0,
    "start_time": "2023-03-19T08:28:52.536Z"
   },
   {
    "duration": 0,
    "start_time": "2023-03-19T08:28:52.537Z"
   },
   {
    "duration": 0,
    "start_time": "2023-03-19T08:28:52.538Z"
   },
   {
    "duration": 0,
    "start_time": "2023-03-19T08:28:52.539Z"
   },
   {
    "duration": 0,
    "start_time": "2023-03-19T08:28:52.563Z"
   },
   {
    "duration": 0,
    "start_time": "2023-03-19T08:28:52.564Z"
   },
   {
    "duration": 0,
    "start_time": "2023-03-19T08:28:52.565Z"
   },
   {
    "duration": 0,
    "start_time": "2023-03-19T08:28:52.566Z"
   },
   {
    "duration": 0,
    "start_time": "2023-03-19T08:28:52.567Z"
   },
   {
    "duration": 0,
    "start_time": "2023-03-19T08:28:52.568Z"
   },
   {
    "duration": 0,
    "start_time": "2023-03-19T08:28:52.569Z"
   },
   {
    "duration": 1077,
    "start_time": "2023-03-19T08:29:17.408Z"
   },
   {
    "duration": 185,
    "start_time": "2023-03-19T08:29:18.487Z"
   },
   {
    "duration": 19,
    "start_time": "2023-03-19T08:29:18.674Z"
   },
   {
    "duration": 13,
    "start_time": "2023-03-19T08:29:18.695Z"
   },
   {
    "duration": 6,
    "start_time": "2023-03-19T08:29:18.709Z"
   },
   {
    "duration": 19,
    "start_time": "2023-03-19T08:29:18.716Z"
   },
   {
    "duration": 2,
    "start_time": "2023-03-19T08:29:18.737Z"
   },
   {
    "duration": 24,
    "start_time": "2023-03-19T08:29:18.741Z"
   },
   {
    "duration": 4,
    "start_time": "2023-03-19T08:29:18.767Z"
   },
   {
    "duration": 11,
    "start_time": "2023-03-19T08:29:18.774Z"
   },
   {
    "duration": 26,
    "start_time": "2023-03-19T08:29:18.786Z"
   },
   {
    "duration": 9,
    "start_time": "2023-03-19T08:29:18.814Z"
   },
   {
    "duration": 1150,
    "start_time": "2023-03-19T08:29:18.824Z"
   },
   {
    "duration": 119,
    "start_time": "2023-03-19T08:29:19.983Z"
   },
   {
    "duration": 0,
    "start_time": "2023-03-19T08:29:20.104Z"
   },
   {
    "duration": 0,
    "start_time": "2023-03-19T08:29:20.105Z"
   },
   {
    "duration": 0,
    "start_time": "2023-03-19T08:29:20.106Z"
   },
   {
    "duration": 0,
    "start_time": "2023-03-19T08:29:20.108Z"
   },
   {
    "duration": 0,
    "start_time": "2023-03-19T08:29:20.109Z"
   },
   {
    "duration": 0,
    "start_time": "2023-03-19T08:29:20.110Z"
   },
   {
    "duration": 0,
    "start_time": "2023-03-19T08:29:20.111Z"
   },
   {
    "duration": 0,
    "start_time": "2023-03-19T08:29:20.112Z"
   },
   {
    "duration": 0,
    "start_time": "2023-03-19T08:29:20.113Z"
   },
   {
    "duration": 1168,
    "start_time": "2023-03-19T08:29:46.407Z"
   },
   {
    "duration": 41,
    "start_time": "2023-03-19T08:29:47.577Z"
   },
   {
    "duration": 22,
    "start_time": "2023-03-19T08:29:47.620Z"
   },
   {
    "duration": 14,
    "start_time": "2023-03-19T08:29:47.644Z"
   },
   {
    "duration": 18,
    "start_time": "2023-03-19T08:29:47.660Z"
   },
   {
    "duration": 22,
    "start_time": "2023-03-19T08:29:47.680Z"
   },
   {
    "duration": 3,
    "start_time": "2023-03-19T08:29:47.704Z"
   },
   {
    "duration": 17,
    "start_time": "2023-03-19T08:29:47.709Z"
   },
   {
    "duration": 5,
    "start_time": "2023-03-19T08:29:47.728Z"
   },
   {
    "duration": 42,
    "start_time": "2023-03-19T08:29:47.735Z"
   },
   {
    "duration": 31,
    "start_time": "2023-03-19T08:29:47.779Z"
   },
   {
    "duration": 12,
    "start_time": "2023-03-19T08:29:47.812Z"
   },
   {
    "duration": 1538,
    "start_time": "2023-03-19T08:29:47.827Z"
   },
   {
    "duration": 143,
    "start_time": "2023-03-19T08:29:49.369Z"
   },
   {
    "duration": 0,
    "start_time": "2023-03-19T08:29:49.515Z"
   },
   {
    "duration": 0,
    "start_time": "2023-03-19T08:29:49.516Z"
   },
   {
    "duration": 0,
    "start_time": "2023-03-19T08:29:49.517Z"
   },
   {
    "duration": 0,
    "start_time": "2023-03-19T08:29:49.519Z"
   },
   {
    "duration": 0,
    "start_time": "2023-03-19T08:29:49.520Z"
   },
   {
    "duration": 0,
    "start_time": "2023-03-19T08:29:49.521Z"
   },
   {
    "duration": 0,
    "start_time": "2023-03-19T08:29:49.523Z"
   },
   {
    "duration": 0,
    "start_time": "2023-03-19T08:29:49.524Z"
   },
   {
    "duration": 0,
    "start_time": "2023-03-19T08:29:49.524Z"
   },
   {
    "duration": 77,
    "start_time": "2023-03-19T08:30:20.231Z"
   },
   {
    "duration": 8,
    "start_time": "2023-03-19T08:30:34.278Z"
   },
   {
    "duration": 1162,
    "start_time": "2023-03-19T08:35:59.777Z"
   },
   {
    "duration": 41,
    "start_time": "2023-03-19T08:36:00.941Z"
   },
   {
    "duration": 21,
    "start_time": "2023-03-19T08:36:00.984Z"
   },
   {
    "duration": 41,
    "start_time": "2023-03-19T08:36:01.007Z"
   },
   {
    "duration": 53,
    "start_time": "2023-03-19T08:36:01.049Z"
   },
   {
    "duration": 79,
    "start_time": "2023-03-19T08:36:01.104Z"
   },
   {
    "duration": 42,
    "start_time": "2023-03-19T08:36:01.185Z"
   },
   {
    "duration": 51,
    "start_time": "2023-03-19T08:36:01.229Z"
   },
   {
    "duration": 18,
    "start_time": "2023-03-19T08:36:01.281Z"
   },
   {
    "duration": 46,
    "start_time": "2023-03-19T08:36:01.302Z"
   },
   {
    "duration": 82,
    "start_time": "2023-03-19T08:36:01.349Z"
   },
   {
    "duration": 2034,
    "start_time": "2023-03-19T08:36:01.433Z"
   },
   {
    "duration": 269,
    "start_time": "2023-03-19T08:36:03.469Z"
   },
   {
    "duration": 0,
    "start_time": "2023-03-19T08:36:03.740Z"
   },
   {
    "duration": 0,
    "start_time": "2023-03-19T08:36:03.740Z"
   },
   {
    "duration": 0,
    "start_time": "2023-03-19T08:36:03.742Z"
   },
   {
    "duration": 0,
    "start_time": "2023-03-19T08:36:03.743Z"
   },
   {
    "duration": 0,
    "start_time": "2023-03-19T08:36:03.744Z"
   },
   {
    "duration": 0,
    "start_time": "2023-03-19T08:36:03.745Z"
   },
   {
    "duration": 0,
    "start_time": "2023-03-19T08:36:03.747Z"
   },
   {
    "duration": 0,
    "start_time": "2023-03-19T08:36:03.762Z"
   },
   {
    "duration": 1245,
    "start_time": "2023-03-19T08:50:47.520Z"
   },
   {
    "duration": 41,
    "start_time": "2023-03-19T08:50:48.769Z"
   },
   {
    "duration": 22,
    "start_time": "2023-03-19T08:50:48.812Z"
   },
   {
    "duration": 17,
    "start_time": "2023-03-19T08:50:48.836Z"
   },
   {
    "duration": 5,
    "start_time": "2023-03-19T08:50:48.856Z"
   },
   {
    "duration": 19,
    "start_time": "2023-03-19T08:50:48.863Z"
   },
   {
    "duration": 3,
    "start_time": "2023-03-19T08:50:48.884Z"
   },
   {
    "duration": 13,
    "start_time": "2023-03-19T08:50:48.889Z"
   },
   {
    "duration": 4,
    "start_time": "2023-03-19T08:50:48.904Z"
   },
   {
    "duration": 15,
    "start_time": "2023-03-19T08:50:48.910Z"
   },
   {
    "duration": 61,
    "start_time": "2023-03-19T08:50:48.926Z"
   },
   {
    "duration": 5778,
    "start_time": "2023-03-19T08:50:48.989Z"
   },
   {
    "duration": 273,
    "start_time": "2023-03-19T08:50:54.769Z"
   },
   {
    "duration": 0,
    "start_time": "2023-03-19T08:50:55.044Z"
   },
   {
    "duration": 0,
    "start_time": "2023-03-19T08:50:55.045Z"
   },
   {
    "duration": 0,
    "start_time": "2023-03-19T08:50:55.047Z"
   },
   {
    "duration": 0,
    "start_time": "2023-03-19T08:50:55.061Z"
   },
   {
    "duration": 0,
    "start_time": "2023-03-19T08:50:55.063Z"
   },
   {
    "duration": 0,
    "start_time": "2023-03-19T08:50:55.064Z"
   },
   {
    "duration": 0,
    "start_time": "2023-03-19T08:50:55.065Z"
   },
   {
    "duration": 0,
    "start_time": "2023-03-19T08:50:55.066Z"
   },
   {
    "duration": 1069,
    "start_time": "2023-03-19T08:51:31.416Z"
   },
   {
    "duration": 41,
    "start_time": "2023-03-19T08:51:32.487Z"
   },
   {
    "duration": 20,
    "start_time": "2023-03-19T08:51:32.530Z"
   },
   {
    "duration": 21,
    "start_time": "2023-03-19T08:51:32.551Z"
   },
   {
    "duration": 4,
    "start_time": "2023-03-19T08:51:32.574Z"
   },
   {
    "duration": 19,
    "start_time": "2023-03-19T08:51:32.580Z"
   },
   {
    "duration": 3,
    "start_time": "2023-03-19T08:51:32.600Z"
   },
   {
    "duration": 21,
    "start_time": "2023-03-19T08:51:32.604Z"
   },
   {
    "duration": 4,
    "start_time": "2023-03-19T08:51:32.627Z"
   },
   {
    "duration": 20,
    "start_time": "2023-03-19T08:51:32.633Z"
   },
   {
    "duration": 38,
    "start_time": "2023-03-19T08:51:32.654Z"
   },
   {
    "duration": 1237,
    "start_time": "2023-03-19T08:51:53.448Z"
   },
   {
    "duration": 40,
    "start_time": "2023-03-19T08:51:54.687Z"
   },
   {
    "duration": 19,
    "start_time": "2023-03-19T08:51:54.729Z"
   },
   {
    "duration": 14,
    "start_time": "2023-03-19T08:51:54.750Z"
   },
   {
    "duration": 8,
    "start_time": "2023-03-19T08:51:54.770Z"
   },
   {
    "duration": 21,
    "start_time": "2023-03-19T08:51:54.780Z"
   },
   {
    "duration": 3,
    "start_time": "2023-03-19T08:51:54.803Z"
   },
   {
    "duration": 13,
    "start_time": "2023-03-19T08:51:54.808Z"
   },
   {
    "duration": 4,
    "start_time": "2023-03-19T08:51:54.823Z"
   },
   {
    "duration": 33,
    "start_time": "2023-03-19T08:51:54.829Z"
   },
   {
    "duration": 32,
    "start_time": "2023-03-19T08:51:54.867Z"
   },
   {
    "duration": 9260,
    "start_time": "2023-03-19T08:51:54.901Z"
   },
   {
    "duration": 306,
    "start_time": "2023-03-19T08:52:04.167Z"
   },
   {
    "duration": 0,
    "start_time": "2023-03-19T08:52:04.475Z"
   },
   {
    "duration": 0,
    "start_time": "2023-03-19T08:52:04.476Z"
   },
   {
    "duration": 0,
    "start_time": "2023-03-19T08:52:04.477Z"
   },
   {
    "duration": 0,
    "start_time": "2023-03-19T08:52:04.478Z"
   },
   {
    "duration": 0,
    "start_time": "2023-03-19T08:52:04.479Z"
   },
   {
    "duration": 0,
    "start_time": "2023-03-19T08:52:04.480Z"
   },
   {
    "duration": 0,
    "start_time": "2023-03-19T08:52:04.481Z"
   },
   {
    "duration": 0,
    "start_time": "2023-03-19T08:52:04.482Z"
   },
   {
    "duration": 1136,
    "start_time": "2023-03-19T08:52:17.490Z"
   },
   {
    "duration": 47,
    "start_time": "2023-03-19T08:52:18.628Z"
   },
   {
    "duration": 20,
    "start_time": "2023-03-19T08:52:18.677Z"
   },
   {
    "duration": 12,
    "start_time": "2023-03-19T08:52:18.699Z"
   },
   {
    "duration": 4,
    "start_time": "2023-03-19T08:52:18.713Z"
   },
   {
    "duration": 20,
    "start_time": "2023-03-19T08:52:18.719Z"
   },
   {
    "duration": 24,
    "start_time": "2023-03-19T08:52:18.741Z"
   },
   {
    "duration": 15,
    "start_time": "2023-03-19T08:52:18.773Z"
   },
   {
    "duration": 15,
    "start_time": "2023-03-19T08:52:18.790Z"
   },
   {
    "duration": 13,
    "start_time": "2023-03-19T08:52:18.807Z"
   },
   {
    "duration": 26,
    "start_time": "2023-03-19T08:52:18.822Z"
   },
   {
    "duration": 8432,
    "start_time": "2023-03-19T08:52:18.850Z"
   },
   {
    "duration": 315,
    "start_time": "2023-03-19T08:52:27.284Z"
   },
   {
    "duration": 0,
    "start_time": "2023-03-19T08:52:27.600Z"
   },
   {
    "duration": 0,
    "start_time": "2023-03-19T08:52:27.602Z"
   },
   {
    "duration": 0,
    "start_time": "2023-03-19T08:52:27.603Z"
   },
   {
    "duration": 0,
    "start_time": "2023-03-19T08:52:27.604Z"
   },
   {
    "duration": 0,
    "start_time": "2023-03-19T08:52:27.605Z"
   },
   {
    "duration": 0,
    "start_time": "2023-03-19T08:52:27.606Z"
   },
   {
    "duration": 0,
    "start_time": "2023-03-19T08:52:27.607Z"
   },
   {
    "duration": 0,
    "start_time": "2023-03-19T08:52:27.608Z"
   },
   {
    "duration": 1174,
    "start_time": "2023-03-19T08:53:12.889Z"
   },
   {
    "duration": 45,
    "start_time": "2023-03-19T08:53:14.067Z"
   },
   {
    "duration": 25,
    "start_time": "2023-03-19T08:53:14.114Z"
   },
   {
    "duration": 15,
    "start_time": "2023-03-19T08:53:14.141Z"
   },
   {
    "duration": 8,
    "start_time": "2023-03-19T08:53:14.158Z"
   },
   {
    "duration": 23,
    "start_time": "2023-03-19T08:53:14.167Z"
   },
   {
    "duration": 2,
    "start_time": "2023-03-19T08:53:14.193Z"
   },
   {
    "duration": 12,
    "start_time": "2023-03-19T08:53:14.197Z"
   },
   {
    "duration": 4,
    "start_time": "2023-03-19T08:53:14.211Z"
   },
   {
    "duration": 14,
    "start_time": "2023-03-19T08:53:14.219Z"
   },
   {
    "duration": 53,
    "start_time": "2023-03-19T08:53:14.235Z"
   },
   {
    "duration": 5889,
    "start_time": "2023-03-19T08:53:14.290Z"
   },
   {
    "duration": 324,
    "start_time": "2023-03-19T08:53:20.181Z"
   },
   {
    "duration": 0,
    "start_time": "2023-03-19T08:53:20.506Z"
   },
   {
    "duration": 0,
    "start_time": "2023-03-19T08:53:20.563Z"
   },
   {
    "duration": 0,
    "start_time": "2023-03-19T08:53:20.564Z"
   },
   {
    "duration": 0,
    "start_time": "2023-03-19T08:53:20.565Z"
   },
   {
    "duration": 0,
    "start_time": "2023-03-19T08:53:20.566Z"
   },
   {
    "duration": 0,
    "start_time": "2023-03-19T08:53:20.567Z"
   },
   {
    "duration": 0,
    "start_time": "2023-03-19T08:53:20.569Z"
   },
   {
    "duration": 0,
    "start_time": "2023-03-19T08:53:20.571Z"
   },
   {
    "duration": 1217,
    "start_time": "2023-03-19T08:55:28.335Z"
   },
   {
    "duration": 47,
    "start_time": "2023-03-19T08:55:29.554Z"
   },
   {
    "duration": 21,
    "start_time": "2023-03-19T08:55:29.602Z"
   },
   {
    "duration": 14,
    "start_time": "2023-03-19T08:55:29.625Z"
   },
   {
    "duration": 4,
    "start_time": "2023-03-19T08:55:29.641Z"
   },
   {
    "duration": 35,
    "start_time": "2023-03-19T08:55:29.647Z"
   },
   {
    "duration": 2,
    "start_time": "2023-03-19T08:55:29.684Z"
   },
   {
    "duration": 20,
    "start_time": "2023-03-19T08:55:29.688Z"
   },
   {
    "duration": 5,
    "start_time": "2023-03-19T08:55:29.710Z"
   },
   {
    "duration": 37,
    "start_time": "2023-03-19T08:55:29.717Z"
   },
   {
    "duration": 31,
    "start_time": "2023-03-19T08:55:29.756Z"
   },
   {
    "duration": 1379,
    "start_time": "2023-03-19T08:55:29.789Z"
   },
   {
    "duration": 181,
    "start_time": "2023-03-19T08:55:31.170Z"
   },
   {
    "duration": 0,
    "start_time": "2023-03-19T08:55:31.353Z"
   },
   {
    "duration": 0,
    "start_time": "2023-03-19T08:55:31.354Z"
   },
   {
    "duration": 0,
    "start_time": "2023-03-19T08:55:31.361Z"
   },
   {
    "duration": 0,
    "start_time": "2023-03-19T08:55:31.371Z"
   },
   {
    "duration": 0,
    "start_time": "2023-03-19T08:55:31.376Z"
   },
   {
    "duration": 0,
    "start_time": "2023-03-19T08:55:31.379Z"
   },
   {
    "duration": 0,
    "start_time": "2023-03-19T08:55:31.380Z"
   },
   {
    "duration": 0,
    "start_time": "2023-03-19T08:55:31.382Z"
   },
   {
    "duration": 1063,
    "start_time": "2023-03-19T08:57:08.413Z"
   },
   {
    "duration": 40,
    "start_time": "2023-03-19T08:57:09.477Z"
   },
   {
    "duration": 20,
    "start_time": "2023-03-19T08:57:09.519Z"
   },
   {
    "duration": 12,
    "start_time": "2023-03-19T08:57:09.541Z"
   },
   {
    "duration": 4,
    "start_time": "2023-03-19T08:57:09.554Z"
   },
   {
    "duration": 26,
    "start_time": "2023-03-19T08:57:09.560Z"
   },
   {
    "duration": 10,
    "start_time": "2023-03-19T08:57:09.587Z"
   },
   {
    "duration": 15,
    "start_time": "2023-03-19T08:57:09.599Z"
   },
   {
    "duration": 4,
    "start_time": "2023-03-19T08:57:09.616Z"
   },
   {
    "duration": 12,
    "start_time": "2023-03-19T08:57:09.623Z"
   },
   {
    "duration": 46,
    "start_time": "2023-03-19T08:57:09.637Z"
   },
   {
    "duration": 6191,
    "start_time": "2023-03-19T08:57:09.684Z"
   },
   {
    "duration": 328,
    "start_time": "2023-03-19T08:57:15.877Z"
   },
   {
    "duration": 0,
    "start_time": "2023-03-19T08:57:16.207Z"
   },
   {
    "duration": 0,
    "start_time": "2023-03-19T08:57:16.208Z"
   },
   {
    "duration": 0,
    "start_time": "2023-03-19T08:57:16.209Z"
   },
   {
    "duration": 0,
    "start_time": "2023-03-19T08:57:16.211Z"
   },
   {
    "duration": 0,
    "start_time": "2023-03-19T08:57:16.261Z"
   },
   {
    "duration": 0,
    "start_time": "2023-03-19T08:57:16.262Z"
   },
   {
    "duration": 0,
    "start_time": "2023-03-19T08:57:16.263Z"
   },
   {
    "duration": 0,
    "start_time": "2023-03-19T08:57:16.264Z"
   },
   {
    "duration": 12304,
    "start_time": "2023-03-19T08:57:25.964Z"
   },
   {
    "duration": 1203,
    "start_time": "2023-03-19T08:57:46.414Z"
   },
   {
    "duration": 44,
    "start_time": "2023-03-19T08:57:47.619Z"
   },
   {
    "duration": 22,
    "start_time": "2023-03-19T08:57:47.665Z"
   },
   {
    "duration": 20,
    "start_time": "2023-03-19T08:57:47.689Z"
   },
   {
    "duration": 14,
    "start_time": "2023-03-19T08:57:47.711Z"
   },
   {
    "duration": 34,
    "start_time": "2023-03-19T08:57:47.727Z"
   },
   {
    "duration": 2,
    "start_time": "2023-03-19T08:57:47.764Z"
   },
   {
    "duration": 15,
    "start_time": "2023-03-19T08:57:47.768Z"
   },
   {
    "duration": 5,
    "start_time": "2023-03-19T08:57:47.785Z"
   },
   {
    "duration": 17,
    "start_time": "2023-03-19T08:57:47.793Z"
   },
   {
    "duration": 56,
    "start_time": "2023-03-19T08:57:47.813Z"
   },
   {
    "duration": 13099,
    "start_time": "2023-03-19T08:57:47.871Z"
   },
   {
    "duration": 301,
    "start_time": "2023-03-19T08:58:01.062Z"
   },
   {
    "duration": 0,
    "start_time": "2023-03-19T08:58:01.364Z"
   },
   {
    "duration": 0,
    "start_time": "2023-03-19T08:58:01.365Z"
   },
   {
    "duration": 0,
    "start_time": "2023-03-19T08:58:01.367Z"
   },
   {
    "duration": 0,
    "start_time": "2023-03-19T08:58:01.368Z"
   },
   {
    "duration": 0,
    "start_time": "2023-03-19T08:58:01.370Z"
   },
   {
    "duration": 0,
    "start_time": "2023-03-19T08:58:01.371Z"
   },
   {
    "duration": 0,
    "start_time": "2023-03-19T08:58:01.372Z"
   },
   {
    "duration": 0,
    "start_time": "2023-03-19T08:58:01.373Z"
   },
   {
    "duration": 1066,
    "start_time": "2023-03-19T08:59:41.012Z"
   },
   {
    "duration": 40,
    "start_time": "2023-03-19T08:59:42.081Z"
   },
   {
    "duration": 21,
    "start_time": "2023-03-19T08:59:42.123Z"
   },
   {
    "duration": 13,
    "start_time": "2023-03-19T08:59:42.146Z"
   },
   {
    "duration": 4,
    "start_time": "2023-03-19T08:59:42.161Z"
   },
   {
    "duration": 21,
    "start_time": "2023-03-19T08:59:42.166Z"
   },
   {
    "duration": 2,
    "start_time": "2023-03-19T08:59:42.189Z"
   },
   {
    "duration": 16,
    "start_time": "2023-03-19T08:59:42.192Z"
   },
   {
    "duration": 5,
    "start_time": "2023-03-19T08:59:42.210Z"
   },
   {
    "duration": 13,
    "start_time": "2023-03-19T08:59:42.218Z"
   },
   {
    "duration": 51,
    "start_time": "2023-03-19T08:59:42.233Z"
   },
   {
    "duration": 13781,
    "start_time": "2023-03-19T08:59:42.285Z"
   },
   {
    "duration": 280,
    "start_time": "2023-03-19T08:59:56.068Z"
   },
   {
    "duration": 0,
    "start_time": "2023-03-19T08:59:56.351Z"
   },
   {
    "duration": 0,
    "start_time": "2023-03-19T08:59:56.362Z"
   },
   {
    "duration": 0,
    "start_time": "2023-03-19T08:59:56.364Z"
   },
   {
    "duration": 0,
    "start_time": "2023-03-19T08:59:56.365Z"
   },
   {
    "duration": 0,
    "start_time": "2023-03-19T08:59:56.366Z"
   },
   {
    "duration": 0,
    "start_time": "2023-03-19T08:59:56.368Z"
   },
   {
    "duration": 0,
    "start_time": "2023-03-19T08:59:56.369Z"
   },
   {
    "duration": 0,
    "start_time": "2023-03-19T08:59:56.371Z"
   },
   {
    "duration": 1236,
    "start_time": "2023-03-19T09:00:47.474Z"
   },
   {
    "duration": 43,
    "start_time": "2023-03-19T09:00:48.714Z"
   },
   {
    "duration": 22,
    "start_time": "2023-03-19T09:00:48.759Z"
   },
   {
    "duration": 14,
    "start_time": "2023-03-19T09:00:48.784Z"
   },
   {
    "duration": 5,
    "start_time": "2023-03-19T09:00:48.800Z"
   },
   {
    "duration": 33,
    "start_time": "2023-03-19T09:00:48.807Z"
   },
   {
    "duration": 6,
    "start_time": "2023-03-19T09:00:48.862Z"
   },
   {
    "duration": 28,
    "start_time": "2023-03-19T09:00:48.870Z"
   },
   {
    "duration": 11,
    "start_time": "2023-03-19T09:00:48.900Z"
   },
   {
    "duration": 14,
    "start_time": "2023-03-19T09:00:48.915Z"
   },
   {
    "duration": 49,
    "start_time": "2023-03-19T09:00:48.931Z"
   },
   {
    "duration": 2886,
    "start_time": "2023-03-19T09:00:48.983Z"
   },
   {
    "duration": 303,
    "start_time": "2023-03-19T09:00:51.876Z"
   },
   {
    "duration": 0,
    "start_time": "2023-03-19T09:00:52.181Z"
   },
   {
    "duration": 0,
    "start_time": "2023-03-19T09:00:52.181Z"
   },
   {
    "duration": 0,
    "start_time": "2023-03-19T09:00:52.183Z"
   },
   {
    "duration": 0,
    "start_time": "2023-03-19T09:00:52.185Z"
   },
   {
    "duration": 0,
    "start_time": "2023-03-19T09:00:52.186Z"
   },
   {
    "duration": 0,
    "start_time": "2023-03-19T09:00:52.187Z"
   },
   {
    "duration": 0,
    "start_time": "2023-03-19T09:00:52.189Z"
   },
   {
    "duration": 0,
    "start_time": "2023-03-19T09:00:52.190Z"
   },
   {
    "duration": 1170,
    "start_time": "2023-03-19T09:01:13.452Z"
   },
   {
    "duration": 40,
    "start_time": "2023-03-19T09:01:14.624Z"
   },
   {
    "duration": 20,
    "start_time": "2023-03-19T09:01:14.665Z"
   },
   {
    "duration": 14,
    "start_time": "2023-03-19T09:01:14.688Z"
   },
   {
    "duration": 5,
    "start_time": "2023-03-19T09:01:14.705Z"
   },
   {
    "duration": 28,
    "start_time": "2023-03-19T09:01:14.712Z"
   },
   {
    "duration": 3,
    "start_time": "2023-03-19T09:01:14.742Z"
   },
   {
    "duration": 17,
    "start_time": "2023-03-19T09:01:14.762Z"
   },
   {
    "duration": 4,
    "start_time": "2023-03-19T09:01:14.781Z"
   },
   {
    "duration": 14,
    "start_time": "2023-03-19T09:01:14.788Z"
   },
   {
    "duration": 68,
    "start_time": "2023-03-19T09:01:14.804Z"
   },
   {
    "duration": 13501,
    "start_time": "2023-03-19T09:01:14.874Z"
   },
   {
    "duration": 180,
    "start_time": "2023-03-19T09:01:28.462Z"
   },
   {
    "duration": 0,
    "start_time": "2023-03-19T09:01:28.644Z"
   },
   {
    "duration": 0,
    "start_time": "2023-03-19T09:01:28.645Z"
   },
   {
    "duration": 0,
    "start_time": "2023-03-19T09:01:28.646Z"
   },
   {
    "duration": 0,
    "start_time": "2023-03-19T09:01:28.662Z"
   },
   {
    "duration": 0,
    "start_time": "2023-03-19T09:01:28.663Z"
   },
   {
    "duration": 0,
    "start_time": "2023-03-19T09:01:28.664Z"
   },
   {
    "duration": 0,
    "start_time": "2023-03-19T09:01:28.666Z"
   },
   {
    "duration": 0,
    "start_time": "2023-03-19T09:01:28.667Z"
   },
   {
    "duration": 1173,
    "start_time": "2023-03-19T09:04:00.263Z"
   },
   {
    "duration": 39,
    "start_time": "2023-03-19T09:04:01.438Z"
   },
   {
    "duration": 49,
    "start_time": "2023-03-19T09:04:01.479Z"
   },
   {
    "duration": 42,
    "start_time": "2023-03-19T09:04:01.530Z"
   },
   {
    "duration": 17,
    "start_time": "2023-03-19T09:04:01.574Z"
   },
   {
    "duration": 66,
    "start_time": "2023-03-19T09:04:01.593Z"
   },
   {
    "duration": 39,
    "start_time": "2023-03-19T09:04:01.661Z"
   },
   {
    "duration": 38,
    "start_time": "2023-03-19T09:04:01.702Z"
   },
   {
    "duration": 24,
    "start_time": "2023-03-19T09:04:01.742Z"
   },
   {
    "duration": 31,
    "start_time": "2023-03-19T09:04:01.768Z"
   },
   {
    "duration": 42,
    "start_time": "2023-03-19T09:04:01.800Z"
   },
   {
    "duration": 11718,
    "start_time": "2023-03-19T09:04:01.844Z"
   },
   {
    "duration": 98,
    "start_time": "2023-03-19T09:04:13.564Z"
   },
   {
    "duration": 98,
    "start_time": "2023-03-19T09:04:13.664Z"
   },
   {
    "duration": 0,
    "start_time": "2023-03-19T09:04:13.764Z"
   },
   {
    "duration": 0,
    "start_time": "2023-03-19T09:04:13.765Z"
   },
   {
    "duration": 0,
    "start_time": "2023-03-19T09:04:13.766Z"
   },
   {
    "duration": 0,
    "start_time": "2023-03-19T09:04:13.767Z"
   },
   {
    "duration": 0,
    "start_time": "2023-03-19T09:04:13.768Z"
   },
   {
    "duration": 0,
    "start_time": "2023-03-19T09:04:13.769Z"
   },
   {
    "duration": 0,
    "start_time": "2023-03-19T09:04:13.770Z"
   },
   {
    "duration": 7,
    "start_time": "2023-03-19T09:04:28.022Z"
   },
   {
    "duration": 1114,
    "start_time": "2023-03-19T09:11:20.193Z"
   },
   {
    "duration": 41,
    "start_time": "2023-03-19T09:11:21.309Z"
   },
   {
    "duration": 20,
    "start_time": "2023-03-19T09:11:21.352Z"
   },
   {
    "duration": 12,
    "start_time": "2023-03-19T09:11:21.375Z"
   },
   {
    "duration": 3,
    "start_time": "2023-03-19T09:11:21.389Z"
   },
   {
    "duration": 23,
    "start_time": "2023-03-19T09:11:21.394Z"
   },
   {
    "duration": 3,
    "start_time": "2023-03-19T09:11:21.418Z"
   },
   {
    "duration": 19,
    "start_time": "2023-03-19T09:11:21.423Z"
   },
   {
    "duration": 4,
    "start_time": "2023-03-19T09:11:21.462Z"
   },
   {
    "duration": 14,
    "start_time": "2023-03-19T09:11:21.468Z"
   },
   {
    "duration": 26,
    "start_time": "2023-03-19T09:11:21.484Z"
   },
   {
    "duration": 12160,
    "start_time": "2023-03-19T09:11:21.512Z"
   },
   {
    "duration": 99,
    "start_time": "2023-03-19T09:11:33.763Z"
   },
   {
    "duration": 6,
    "start_time": "2023-03-19T09:11:33.864Z"
   },
   {
    "duration": 148510,
    "start_time": "2023-03-19T09:11:33.872Z"
   },
   {
    "duration": 3,
    "start_time": "2023-03-19T09:14:02.384Z"
   },
   {
    "duration": 23,
    "start_time": "2023-03-19T09:14:02.388Z"
   },
   {
    "duration": 11,
    "start_time": "2023-03-19T09:14:02.413Z"
   },
   {
    "duration": 6,
    "start_time": "2023-03-19T09:14:02.425Z"
   },
   {
    "duration": 7,
    "start_time": "2023-03-19T09:14:02.433Z"
   },
   {
    "duration": 117,
    "start_time": "2023-03-19T09:14:02.442Z"
   },
   {
    "duration": 1180,
    "start_time": "2023-03-19T09:15:21.553Z"
   },
   {
    "duration": 49,
    "start_time": "2023-03-19T09:15:22.736Z"
   },
   {
    "duration": 25,
    "start_time": "2023-03-19T09:15:22.787Z"
   },
   {
    "duration": 14,
    "start_time": "2023-03-19T09:15:22.814Z"
   },
   {
    "duration": 4,
    "start_time": "2023-03-19T09:15:22.829Z"
   },
   {
    "duration": 44,
    "start_time": "2023-03-19T09:15:22.835Z"
   },
   {
    "duration": 3,
    "start_time": "2023-03-19T09:15:22.880Z"
   },
   {
    "duration": 14,
    "start_time": "2023-03-19T09:15:22.885Z"
   },
   {
    "duration": 5,
    "start_time": "2023-03-19T09:15:22.901Z"
   },
   {
    "duration": 14,
    "start_time": "2023-03-19T09:15:22.908Z"
   },
   {
    "duration": 65,
    "start_time": "2023-03-19T09:15:22.924Z"
   },
   {
    "duration": 12771,
    "start_time": "2023-03-19T09:15:22.991Z"
   },
   {
    "duration": 97,
    "start_time": "2023-03-19T09:15:35.765Z"
   },
   {
    "duration": 6,
    "start_time": "2023-03-19T09:15:35.863Z"
   },
   {
    "duration": 40858,
    "start_time": "2023-03-19T09:15:35.871Z"
   },
   {
    "duration": 3,
    "start_time": "2023-03-19T09:16:16.731Z"
   },
   {
    "duration": 5,
    "start_time": "2023-03-19T09:16:16.735Z"
   },
   {
    "duration": 6,
    "start_time": "2023-03-19T09:16:16.742Z"
   },
   {
    "duration": 12,
    "start_time": "2023-03-19T09:16:16.749Z"
   },
   {
    "duration": 5,
    "start_time": "2023-03-19T09:16:16.764Z"
   },
   {
    "duration": 108,
    "start_time": "2023-03-19T09:16:16.771Z"
   },
   {
    "duration": 1095,
    "start_time": "2023-03-19T09:23:39.721Z"
   },
   {
    "duration": 39,
    "start_time": "2023-03-19T09:23:40.818Z"
   },
   {
    "duration": 24,
    "start_time": "2023-03-19T09:23:40.859Z"
   },
   {
    "duration": 18,
    "start_time": "2023-03-19T09:23:40.886Z"
   },
   {
    "duration": 5,
    "start_time": "2023-03-19T09:23:40.906Z"
   },
   {
    "duration": 49,
    "start_time": "2023-03-19T09:23:40.912Z"
   },
   {
    "duration": 2,
    "start_time": "2023-03-19T09:23:40.964Z"
   },
   {
    "duration": 18,
    "start_time": "2023-03-19T09:23:40.968Z"
   },
   {
    "duration": 6,
    "start_time": "2023-03-19T09:23:40.988Z"
   },
   {
    "duration": 15,
    "start_time": "2023-03-19T09:23:40.996Z"
   },
   {
    "duration": 57,
    "start_time": "2023-03-19T09:23:41.013Z"
   },
   {
    "duration": 14390,
    "start_time": "2023-03-19T09:23:41.072Z"
   },
   {
    "duration": 99,
    "start_time": "2023-03-19T09:23:55.464Z"
   },
   {
    "duration": 7,
    "start_time": "2023-03-19T09:23:55.565Z"
   },
   {
    "duration": 38731,
    "start_time": "2023-03-19T09:23:55.574Z"
   },
   {
    "duration": 11,
    "start_time": "2023-03-19T09:24:34.307Z"
   },
   {
    "duration": 6,
    "start_time": "2023-03-19T09:24:34.320Z"
   },
   {
    "duration": 3,
    "start_time": "2023-03-19T09:24:34.328Z"
   },
   {
    "duration": 33,
    "start_time": "2023-03-19T09:24:34.333Z"
   },
   {
    "duration": 6,
    "start_time": "2023-03-19T09:24:34.368Z"
   },
   {
    "duration": 106,
    "start_time": "2023-03-19T09:24:34.375Z"
   },
   {
    "duration": 7382,
    "start_time": "2023-03-19T09:36:01.469Z"
   },
   {
    "duration": 1007,
    "start_time": "2023-03-19T09:36:19.128Z"
   },
   {
    "duration": 40,
    "start_time": "2023-03-19T09:36:20.137Z"
   },
   {
    "duration": 23,
    "start_time": "2023-03-19T09:36:20.178Z"
   },
   {
    "duration": 14,
    "start_time": "2023-03-19T09:36:20.203Z"
   },
   {
    "duration": 4,
    "start_time": "2023-03-19T09:36:20.219Z"
   },
   {
    "duration": 41,
    "start_time": "2023-03-19T09:36:20.224Z"
   },
   {
    "duration": 3,
    "start_time": "2023-03-19T09:36:20.267Z"
   },
   {
    "duration": 12,
    "start_time": "2023-03-19T09:36:20.271Z"
   },
   {
    "duration": 5,
    "start_time": "2023-03-19T09:36:20.285Z"
   },
   {
    "duration": 13,
    "start_time": "2023-03-19T09:36:20.293Z"
   },
   {
    "duration": 54,
    "start_time": "2023-03-19T09:36:20.307Z"
   },
   {
    "duration": 14011,
    "start_time": "2023-03-19T09:36:20.363Z"
   },
   {
    "duration": 188,
    "start_time": "2023-03-19T09:36:34.376Z"
   },
   {
    "duration": 6,
    "start_time": "2023-03-19T09:36:34.566Z"
   },
   {
    "duration": 44208,
    "start_time": "2023-03-19T09:36:34.574Z"
   },
   {
    "duration": 11,
    "start_time": "2023-03-19T09:37:18.784Z"
   },
   {
    "duration": 7,
    "start_time": "2023-03-19T09:37:18.797Z"
   },
   {
    "duration": 70698,
    "start_time": "2023-03-19T09:37:18.806Z"
   },
   {
    "duration": 12,
    "start_time": "2023-03-19T09:38:29.505Z"
   },
   {
    "duration": 6,
    "start_time": "2023-03-19T09:38:29.518Z"
   },
   {
    "duration": 121,
    "start_time": "2023-03-19T09:38:29.526Z"
   },
   {
    "duration": 12,
    "start_time": "2023-03-19T09:39:26.192Z"
   },
   {
    "duration": 27,
    "start_time": "2023-03-19T09:39:49.556Z"
   },
   {
    "duration": 25,
    "start_time": "2023-03-19T09:40:09.137Z"
   },
   {
    "duration": 1031,
    "start_time": "2023-03-19T09:53:44.644Z"
   },
   {
    "duration": 42,
    "start_time": "2023-03-19T09:53:45.677Z"
   },
   {
    "duration": 24,
    "start_time": "2023-03-19T09:53:45.721Z"
   },
   {
    "duration": 16,
    "start_time": "2023-03-19T09:53:45.748Z"
   },
   {
    "duration": 5,
    "start_time": "2023-03-19T09:53:45.766Z"
   },
   {
    "duration": 23,
    "start_time": "2023-03-19T09:53:45.772Z"
   },
   {
    "duration": 3,
    "start_time": "2023-03-19T09:53:45.797Z"
   },
   {
    "duration": 29,
    "start_time": "2023-03-19T09:53:45.801Z"
   },
   {
    "duration": 5,
    "start_time": "2023-03-19T09:53:45.832Z"
   },
   {
    "duration": 33,
    "start_time": "2023-03-19T09:53:45.840Z"
   },
   {
    "duration": 30,
    "start_time": "2023-03-19T09:53:45.875Z"
   },
   {
    "duration": 17458,
    "start_time": "2023-03-19T09:53:45.907Z"
   },
   {
    "duration": 95,
    "start_time": "2023-03-19T09:54:03.369Z"
   },
   {
    "duration": 6,
    "start_time": "2023-03-19T09:54:03.465Z"
   },
   {
    "duration": 42343,
    "start_time": "2023-03-19T09:54:03.473Z"
   },
   {
    "duration": 11,
    "start_time": "2023-03-19T09:54:45.818Z"
   },
   {
    "duration": 8,
    "start_time": "2023-03-19T09:54:45.831Z"
   },
   {
    "duration": 70405,
    "start_time": "2023-03-19T09:54:45.841Z"
   },
   {
    "duration": 16,
    "start_time": "2023-03-19T09:55:56.247Z"
   },
   {
    "duration": 6,
    "start_time": "2023-03-19T09:55:56.264Z"
   },
   {
    "duration": 27,
    "start_time": "2023-03-19T09:55:56.272Z"
   },
   {
    "duration": 940,
    "start_time": "2023-03-19T10:00:14.199Z"
   },
   {
    "duration": 41,
    "start_time": "2023-03-19T10:00:15.141Z"
   },
   {
    "duration": 21,
    "start_time": "2023-03-19T10:00:15.183Z"
   },
   {
    "duration": 14,
    "start_time": "2023-03-19T10:00:15.207Z"
   },
   {
    "duration": 5,
    "start_time": "2023-03-19T10:00:15.222Z"
   },
   {
    "duration": 40,
    "start_time": "2023-03-19T10:00:15.229Z"
   },
   {
    "duration": 2,
    "start_time": "2023-03-19T10:00:15.271Z"
   },
   {
    "duration": 13,
    "start_time": "2023-03-19T10:00:15.275Z"
   },
   {
    "duration": 5,
    "start_time": "2023-03-19T10:00:15.289Z"
   },
   {
    "duration": 13,
    "start_time": "2023-03-19T10:00:15.296Z"
   },
   {
    "duration": 51,
    "start_time": "2023-03-19T10:00:15.311Z"
   },
   {
    "duration": 17311,
    "start_time": "2023-03-19T10:00:15.364Z"
   },
   {
    "duration": 102,
    "start_time": "2023-03-19T10:00:32.763Z"
   },
   {
    "duration": 6,
    "start_time": "2023-03-19T10:00:32.866Z"
   },
   {
    "duration": 45816,
    "start_time": "2023-03-19T10:00:32.874Z"
   },
   {
    "duration": 11,
    "start_time": "2023-03-19T10:01:18.692Z"
   },
   {
    "duration": 6,
    "start_time": "2023-03-19T10:01:18.704Z"
   },
   {
    "duration": 70029,
    "start_time": "2023-03-19T10:01:18.712Z"
   },
   {
    "duration": 120,
    "start_time": "2023-03-19T10:02:28.743Z"
   },
   {
    "duration": 0,
    "start_time": "2023-03-19T10:02:28.864Z"
   },
   {
    "duration": 0,
    "start_time": "2023-03-19T10:02:28.866Z"
   },
   {
    "duration": 15,
    "start_time": "2023-03-19T10:03:31.149Z"
   },
   {
    "duration": 13,
    "start_time": "2023-03-19T10:04:25.602Z"
   },
   {
    "duration": 1022,
    "start_time": "2023-03-19T10:14:19.538Z"
   },
   {
    "duration": 40,
    "start_time": "2023-03-19T10:14:20.562Z"
   },
   {
    "duration": 23,
    "start_time": "2023-03-19T10:14:20.604Z"
   },
   {
    "duration": 14,
    "start_time": "2023-03-19T10:14:20.629Z"
   },
   {
    "duration": 4,
    "start_time": "2023-03-19T10:14:20.645Z"
   },
   {
    "duration": 22,
    "start_time": "2023-03-19T10:14:20.651Z"
   },
   {
    "duration": 2,
    "start_time": "2023-03-19T10:14:20.675Z"
   },
   {
    "duration": 23,
    "start_time": "2023-03-19T10:14:20.679Z"
   },
   {
    "duration": 5,
    "start_time": "2023-03-19T10:14:20.704Z"
   },
   {
    "duration": 15,
    "start_time": "2023-03-19T10:14:20.711Z"
   },
   {
    "duration": 52,
    "start_time": "2023-03-19T10:14:20.728Z"
   },
   {
    "duration": 17080,
    "start_time": "2023-03-19T10:14:20.782Z"
   },
   {
    "duration": 103,
    "start_time": "2023-03-19T10:14:37.864Z"
   },
   {
    "duration": 6,
    "start_time": "2023-03-19T10:14:37.968Z"
   },
   {
    "duration": 45730,
    "start_time": "2023-03-19T10:14:37.976Z"
   },
   {
    "duration": 11,
    "start_time": "2023-03-19T10:15:23.708Z"
   },
   {
    "duration": 6,
    "start_time": "2023-03-19T10:15:23.721Z"
   },
   {
    "duration": 72810,
    "start_time": "2023-03-19T10:15:23.729Z"
   },
   {
    "duration": 11,
    "start_time": "2023-03-19T10:16:36.540Z"
   },
   {
    "duration": 7,
    "start_time": "2023-03-19T10:16:36.562Z"
   },
   {
    "duration": 30,
    "start_time": "2023-03-19T10:16:36.572Z"
   },
   {
    "duration": 41,
    "start_time": "2023-03-19T10:22:32.089Z"
   },
   {
    "duration": 41,
    "start_time": "2023-03-19T10:22:40.055Z"
   }
  ],
  "kernelspec": {
   "display_name": "Python 3",
   "language": "python",
   "name": "python3"
  },
  "language_info": {
   "codemirror_mode": {
    "name": "ipython",
    "version": 3
   },
   "file_extension": ".py",
   "mimetype": "text/x-python",
   "name": "python",
   "nbconvert_exporter": "python",
   "pygments_lexer": "ipython3",
   "version": "3.7.3"
  },
  "toc": {
   "base_numbering": 1,
   "nav_menu": {},
   "number_sections": true,
   "sideBar": true,
   "skip_h1_title": true,
   "title_cell": "Содержание",
   "title_sidebar": "Contents",
   "toc_cell": true,
   "toc_position": {},
   "toc_section_display": true,
   "toc_window_display": true
  }
 },
 "nbformat": 4,
 "nbformat_minor": 2
}
