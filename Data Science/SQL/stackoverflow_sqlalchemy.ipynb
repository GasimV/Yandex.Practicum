{
 "cells": [
  {
   "cell_type": "code",
   "execution_count": 16,
   "metadata": {
    "id": "nlZBlglMDWKe"
   },
   "outputs": [],
   "source": [
    "import pandas as pd\n",
    "import matplotlib.pyplot as plt\n",
    "from sqlalchemy import create_engine\n",
    "import seaborn as sns"
   ]
  },
  {
   "cell_type": "markdown",
   "metadata": {
    "id": "XnOE3n28DWKg"
   },
   "source": [
    "### Конфигурация для подключения к базе данных `data-analyst-advanced-sql`\n",
    "Эта база данных содержит схему `stackoverflow`, с которой мы будем работать в проекте"
   ]
  },
  {
   "cell_type": "code",
   "execution_count": 2,
   "metadata": {
    "id": "6p-yGp7qDWKg"
   },
   "outputs": [],
   "source": [
    "db_config = {\n",
    "    'user': 'praktikum_student', # Username\n",
    "    'pwd': 'Sdf4$2;d-d30pp', # password\n",
    "    'host': 'rc1b-wcoijxj3yxfsf3fs.mdb.yandexcloud.net',\n",
    "    'port': 6432, # connection port\n",
    "    'db': 'data-analyst-advanced-sql' # database name\n",
    "}  \n",
    "\n",
    "connection_string = 'postgresql://{}:{}@{}:{}/{}'.format(\n",
    "    db_config['user'],\n",
    "    db_config['pwd'],\n",
    "    db_config['host'],\n",
    "    db_config['port'],\n",
    "    db_config['db'],\n",
    ")"
   ]
  },
  {
   "cell_type": "markdown",
   "metadata": {
    "id": "2Rg8ZpS0DWKh"
   },
   "source": [
    "### Creating a connection"
   ]
  },
  {
   "cell_type": "code",
   "execution_count": 3,
   "metadata": {
    "id": "DamCUTR6DWKi"
   },
   "outputs": [],
   "source": [
    "engine = create_engine(connection_string) "
   ]
  },
  {
   "cell_type": "markdown",
   "metadata": {
    "id": "bel8XeSlDWKj"
   },
   "source": [
    "Пример запроса к базе данных\n",
    "\n",
    "`sample_df` является pandas-датафреймом."
   ]
  },
  {
   "cell_type": "code",
   "execution_count": 4,
   "metadata": {
    "id": "6Z_fw0yLDWKk"
   },
   "outputs": [],
   "source": [
    "query = '''\n",
    "SELECT *\n",
    "FROM stackoverflow.users\n",
    "LIMIT 10;\n",
    "'''\n",
    "\n",
    "sample_df = pd.read_sql_query(query, con=engine) "
   ]
  },
  {
   "cell_type": "code",
   "execution_count": 5,
   "metadata": {
    "id": "ZpuZ290oDWKk",
    "outputId": "22785a0a-e2bc-4559-ec3c-4879c4b377eb"
   },
   "outputs": [
    {
     "data": {
      "text/html": [
       "<div>\n",
       "<style scoped>\n",
       "    .dataframe tbody tr th:only-of-type {\n",
       "        vertical-align: middle;\n",
       "    }\n",
       "\n",
       "    .dataframe tbody tr th {\n",
       "        vertical-align: top;\n",
       "    }\n",
       "\n",
       "    .dataframe thead th {\n",
       "        text-align: right;\n",
       "    }\n",
       "</style>\n",
       "<table border=\"1\" class=\"dataframe\">\n",
       "  <thead>\n",
       "    <tr style=\"text-align: right;\">\n",
       "      <th></th>\n",
       "      <th>id</th>\n",
       "      <th>creation_date</th>\n",
       "      <th>display_name</th>\n",
       "      <th>last_access_date</th>\n",
       "      <th>location</th>\n",
       "      <th>reputation</th>\n",
       "      <th>views</th>\n",
       "    </tr>\n",
       "  </thead>\n",
       "  <tbody>\n",
       "    <tr>\n",
       "      <th>0</th>\n",
       "      <td>1</td>\n",
       "      <td>2008-07-31 14:22:31</td>\n",
       "      <td>Jeff Atwood</td>\n",
       "      <td>2018-08-29 02:34:23</td>\n",
       "      <td>El Cerrito, CA</td>\n",
       "      <td>44300</td>\n",
       "      <td>408587</td>\n",
       "    </tr>\n",
       "    <tr>\n",
       "      <th>1</th>\n",
       "      <td>2</td>\n",
       "      <td>2008-07-31 14:22:31</td>\n",
       "      <td>Geoff Dalgas</td>\n",
       "      <td>2018-08-23 17:31:56</td>\n",
       "      <td>Corvallis, OR</td>\n",
       "      <td>3491</td>\n",
       "      <td>23966</td>\n",
       "    </tr>\n",
       "    <tr>\n",
       "      <th>2</th>\n",
       "      <td>3</td>\n",
       "      <td>2008-07-31 14:22:31</td>\n",
       "      <td>Jarrod Dixon</td>\n",
       "      <td>2018-08-30 20:56:24</td>\n",
       "      <td>Raleigh, NC, United States</td>\n",
       "      <td>13418</td>\n",
       "      <td>24396</td>\n",
       "    </tr>\n",
       "    <tr>\n",
       "      <th>3</th>\n",
       "      <td>4</td>\n",
       "      <td>2008-07-31 14:22:31</td>\n",
       "      <td>Joel Spolsky</td>\n",
       "      <td>2018-08-14 22:18:15</td>\n",
       "      <td>New York, NY</td>\n",
       "      <td>28768</td>\n",
       "      <td>73755</td>\n",
       "    </tr>\n",
       "    <tr>\n",
       "      <th>4</th>\n",
       "      <td>5</td>\n",
       "      <td>2008-07-31 14:22:31</td>\n",
       "      <td>Jon Galloway</td>\n",
       "      <td>2018-08-29 16:48:36</td>\n",
       "      <td>San Diego, CA</td>\n",
       "      <td>39172</td>\n",
       "      <td>11700</td>\n",
       "    </tr>\n",
       "    <tr>\n",
       "      <th>5</th>\n",
       "      <td>8</td>\n",
       "      <td>2008-07-31 21:33:24</td>\n",
       "      <td>Eggs McLaren</td>\n",
       "      <td>2018-04-09 02:04:56</td>\n",
       "      <td>None</td>\n",
       "      <td>942</td>\n",
       "      <td>6372</td>\n",
       "    </tr>\n",
       "    <tr>\n",
       "      <th>6</th>\n",
       "      <td>9</td>\n",
       "      <td>2008-07-31 21:35:27</td>\n",
       "      <td>Kevin Dente</td>\n",
       "      <td>2018-08-30 18:18:03</td>\n",
       "      <td>Oakland, CA</td>\n",
       "      <td>14337</td>\n",
       "      <td>4949</td>\n",
       "    </tr>\n",
       "    <tr>\n",
       "      <th>7</th>\n",
       "      <td>11</td>\n",
       "      <td>2008-08-01 00:59:11</td>\n",
       "      <td>Anonymous User</td>\n",
       "      <td>2008-08-01 00:59:11</td>\n",
       "      <td>None</td>\n",
       "      <td>1890</td>\n",
       "      <td>2123</td>\n",
       "    </tr>\n",
       "    <tr>\n",
       "      <th>8</th>\n",
       "      <td>13</td>\n",
       "      <td>2008-08-01 04:18:05</td>\n",
       "      <td>Chris Jester-Young</td>\n",
       "      <td>2018-08-30 02:47:23</td>\n",
       "      <td>Raleigh, NC, United States</td>\n",
       "      <td>177138</td>\n",
       "      <td>35414</td>\n",
       "    </tr>\n",
       "    <tr>\n",
       "      <th>9</th>\n",
       "      <td>17</td>\n",
       "      <td>2008-08-01 12:02:22</td>\n",
       "      <td>Nick Berardi</td>\n",
       "      <td>2018-01-22 01:35:38</td>\n",
       "      <td>Issaquah, WA</td>\n",
       "      <td>44443</td>\n",
       "      <td>4786</td>\n",
       "    </tr>\n",
       "  </tbody>\n",
       "</table>\n",
       "</div>"
      ],
      "text/plain": [
       "   id       creation_date        display_name    last_access_date  \\\n",
       "0   1 2008-07-31 14:22:31         Jeff Atwood 2018-08-29 02:34:23   \n",
       "1   2 2008-07-31 14:22:31        Geoff Dalgas 2018-08-23 17:31:56   \n",
       "2   3 2008-07-31 14:22:31        Jarrod Dixon 2018-08-30 20:56:24   \n",
       "3   4 2008-07-31 14:22:31        Joel Spolsky 2018-08-14 22:18:15   \n",
       "4   5 2008-07-31 14:22:31        Jon Galloway 2018-08-29 16:48:36   \n",
       "5   8 2008-07-31 21:33:24        Eggs McLaren 2018-04-09 02:04:56   \n",
       "6   9 2008-07-31 21:35:27         Kevin Dente 2018-08-30 18:18:03   \n",
       "7  11 2008-08-01 00:59:11      Anonymous User 2008-08-01 00:59:11   \n",
       "8  13 2008-08-01 04:18:05  Chris Jester-Young 2018-08-30 02:47:23   \n",
       "9  17 2008-08-01 12:02:22        Nick Berardi 2018-01-22 01:35:38   \n",
       "\n",
       "                     location  reputation   views  \n",
       "0              El Cerrito, CA       44300  408587  \n",
       "1               Corvallis, OR        3491   23966  \n",
       "2  Raleigh, NC, United States       13418   24396  \n",
       "3                New York, NY       28768   73755  \n",
       "4               San Diego, CA       39172   11700  \n",
       "5                        None         942    6372  \n",
       "6                 Oakland, CA       14337    4949  \n",
       "7                        None        1890    2123  \n",
       "8  Raleigh, NC, United States      177138   35414  \n",
       "9                Issaquah, WA       44443    4786  "
      ]
     },
     "execution_count": 5,
     "metadata": {},
     "output_type": "execute_result"
    }
   ],
   "source": [
    "sample_df"
   ]
  },
  {
   "cell_type": "markdown",
   "metadata": {
    "id": "gnBMXkDBDWKm"
   },
   "source": [
    "# Задание 1"
   ]
  },
  {
   "cell_type": "markdown",
   "metadata": {
    "id": "vHsfOrrNDWKn"
   },
   "source": [
    "Выведите общую сумму просмотров постов за каждый месяц 2008 года. Если данных за какой-либо месяц в базе нет, такой месяц можно пропустить. Результат отсортируйте по убыванию общего количества просмотров."
   ]
  },
  {
   "cell_type": "markdown",
   "metadata": {
    "id": "N5rTgGNmDWKn"
   },
   "source": [
    "| month_date  | total_views |\n",
    "| ------------- | ------------- |\n",
    "| 2008-09-01  | 452928568  |\n",
    "| 2008-10-01  | 365400138  |\n",
    "| ...         | ... |"
   ]
  },
  {
   "cell_type": "code",
   "execution_count": 6,
   "metadata": {
    "id": "eWvykcXTDWKo"
   },
   "outputs": [
    {
     "name": "stdout",
     "output_type": "stream",
     "text": [
      "  month_date  total_views\n",
      "0    2008-09    452928568\n",
      "1    2008-10    365400138\n",
      "2    2008-11    221759651\n",
      "3    2008-12    197792841\n",
      "4    2008-08    131367083\n",
      "5    2008-07       669895\n"
     ]
    }
   ],
   "source": [
    "query = '''\n",
    "SELECT \n",
    "    TO_CHAR(creation_date, 'YYYY-MM') AS month_date,\n",
    "    SUM(views_count) AS total_views\n",
    "FROM stackoverflow.posts\n",
    "WHERE EXTRACT(YEAR FROM creation_date) = 2008\n",
    "GROUP BY month_date\n",
    "ORDER BY total_views DESC;\n",
    "'''\n",
    "\n",
    "views_per_month_df = pd.read_sql_query(query, con=engine)\n",
    "print(views_per_month_df)"
   ]
  },
  {
   "cell_type": "markdown",
   "metadata": {
    "id": "luxSj17oDWKq"
   },
   "source": [
    "Судя по общему количеству просмотров публикаций за каждый месяц 2008 года, становится очевидным, что между месяцами существуют значительные различия в данных. Вот краткий анализ:\n",
    "\n",
    "1. **Сентябрь 2008 г.**: в этом месяце зафиксировано наибольшее общее количество просмотров публикаций — 452 928 568. Это указывает на пик пользовательской активности и интереса к Stack Overflow в этот период.\n",
    "\n",
    "2. **Октябрь 2008 г.**: Общее количество просмотров в этом месяце заметно ниже, чем в сентябре, но все же существенное - 365 400 138. Это может означать небольшое снижение активности пользователей или естественное колебание.\n",
    "\n",
    "3. **Ноябрь 2008 г.**: Общее количество просмотров значительно снизилось до 221 759 651 по сравнению с предыдущими двумя месяцами. Это снижение может быть связано с различными факторами, включая сезонные колебания, праздники или изменения в поведении пользователей.\n",
    "\n",
    "4. **Декабрь 2008 г.**: Общее количество просмотров продолжает снижаться до 197 792 841, что можно объяснить сезоном отпусков, когда пользователи могут быть менее активными на платформе.\n",
    "\n",
    "5. **Август 2008 г.**: В августе общее количество просмотров ниже (131 367 083) по сравнению с месяцами с более высокой активностью, что указывает на относительно более спокойный период в летние месяцы.\n",
    "\n",
    "6. **Июль 2008 г.**: В июле самое низкое общее количество просмотров (669 895), что значительно ниже, чем в другие месяцы. Это может быть связано с ранними стадиями развития платформы Stack Overflow или другими внешними факторами, влияющими на вовлеченность пользователей.\n",
    "\n",
    "Различия в данных между месяцами могут быть вызваны сочетанием факторов, в том числе:\n",
    "\n",
    "- **Сезонные тенденции**. Активность пользователей на онлайн-платформах часто зависит от сезона, праздников и событий. В определенные месяцы вовлеченность может быть выше из-за таких факторов, как летние каникулы, праздники в конце года или период возвращения в школу.\n",
    "\n",
    "- **Зрелость платформы**: Stack Overflow, возможно, был менее известен или использовался в первые месяцы своего существования (например, июль 2008 г.) по сравнению с более поздними месяцами, когда он приобрел популярность.\n",
    "\n",
    "- **Внешние факторы**. События за пределами платформы, такие как крупные выпуски программного обеспечения, конференции или отраслевые тенденции, могут влиять на активность пользователей и количество просмотров.\n",
    "\n",
    "- **Поведение пользователей**. Участие и вовлеченность пользователей могут меняться по разным причинам, включая личный график, рабочую нагрузку и интересы.\n",
    "\n",
    "В заключение можно отметить, что различия в данных между месяцами, вероятно, связаны с сочетанием сезонных колебаний, роста платформы и внешних факторов, которые влияют на вовлеченность пользователей и активность в Stack Overflow."
   ]
  },
  {
   "cell_type": "markdown",
   "metadata": {
    "id": "FziIXkn5DWKr"
   },
   "source": [
    "# Задание 2"
   ]
  },
  {
   "cell_type": "markdown",
   "metadata": {
    "id": "fTGESZvYDWKr"
   },
   "source": [
    "Выведите имена самых активных пользователей, которые в первый месяц после регистрации (включая день регистрации) дали больше 100 ответов. Вопросы, которые задавали пользователи, не учитывайте. Для каждого имени пользователя выведите количество уникальных значений `user_id`. Отсортируйте результат по полю с именами в лексикографическом порядке."
   ]
  },
  {
   "cell_type": "markdown",
   "metadata": {
    "id": "W5-tv6Y3DWKs"
   },
   "source": [
    "| display_name | count |\n",
    "| ------------ | ----- |\n",
    "| 1800 INFORMATION | 1 |\n",
    "| Adam Bellaire | 1 |\n",
    "| Adam Davis | 1 |\n",
    "| ... | ... |"
   ]
  },
  {
   "cell_type": "code",
   "execution_count": 7,
   "metadata": {
    "id": "fIO-y-YjDWKt"
   },
   "outputs": [
    {
     "name": "stdout",
     "output_type": "stream",
     "text": [
      "                     username  unique_user_ids\n",
      "0            1800 INFORMATION                1\n",
      "1               Adam Bellaire                1\n",
      "2                  Adam Davis                1\n",
      "3                   Adam Liss                1\n",
      "4                        Alan                8\n",
      "5                       Amy B                1\n",
      "6               Ben Hoffstein                1\n",
      "7                       Brian               15\n",
      "8                   Cade Roux                1\n",
      "9                      CesarB                1\n",
      "10                      Chris               29\n",
      "11  ConcernedOfTunbridgeWells                1\n",
      "12                      Craig               10\n",
      "13                 Dale Ragan                1\n",
      "14                        Dan               21\n",
      "15               Eric Z Beard                1\n",
      "16                       Espo                1\n",
      "17                    FlySwat                1\n",
      "18               Franci Penov                1\n",
      "19                    GEOCHET                1\n",
      "20                 GateKiller                1\n",
      "21                       Greg               12\n",
      "22               Gulzar Nazim                1\n",
      "23              Ilya Kochetov                1\n",
      "24               James Curran                1\n",
      "25                        Jim                7\n",
      "26                        Joe                9\n",
      "27              Joel Coehoorn                1\n",
      "28     Johannes Schaub - litb                1\n",
      "29              John Millikin                1\n"
     ]
    }
   ],
   "source": [
    "query = '''\n",
    "WITH UserActivity AS (\n",
    "    SELECT\n",
    "        u.display_name AS username,\n",
    "        COUNT(DISTINCT p.user_id) AS unique_user_ids\n",
    "    FROM\n",
    "        stackoverflow.users u\n",
    "    JOIN\n",
    "        stackoverflow.posts p ON u.id = p.user_id\n",
    "    WHERE\n",
    "        p.post_type_id = (SELECT id FROM stackoverflow.Post_types WHERE type = 'Answer')\n",
    "        AND DATE_TRUNC('day', p.creation_date) BETWEEN DATE_TRUNC('day', u.creation_date) AND DATE_TRUNC('day', u.creation_date + INTERVAL '1 month')\n",
    "    GROUP BY\n",
    "        u.display_name\n",
    "    HAVING\n",
    "        COUNT(*) > 100\n",
    ")\n",
    "SELECT\n",
    "    username,\n",
    "    unique_user_ids\n",
    "FROM\n",
    "    UserActivity\n",
    "ORDER BY\n",
    "    username;\n",
    "'''\n",
    "\n",
    "result_df = pd.read_sql_query(query, con=engine)\n",
    "print(result_df.head(30))"
   ]
  },
  {
   "cell_type": "markdown",
   "metadata": {
    "id": "CEIGGQ6ODWKy"
   },
   "source": [
    "Некоторые наблюдения и аномалии в данных:\n",
    "\n",
    "1. **Низкое количество уникальных пользователей**: У многих пользователей в списке значение unique_user_ids равно 1, что указывает на то, что они единственные пользователи, которые соответствуют критериям публикации более 100 ответов в течение первого месяца. Это говорит о том, что очень мало пользователей соответствуют этому конкретному порогу активности.\n",
    "\n",
    "2. **Имена пользователей**: Некоторые имена пользователей кажутся специфическими, возможно, связанными с учетными записями компании или организации (например, «1800 INFORMATION»). Они могут не представлять отдельных пользователей в традиционном смысле.\n",
    "\n",
    "3. **Высокоактивные пользователи**: Есть пользователи с большим количеством unique_user_id, например «Chris» с 29 unique_user_id. Это говорит о наличии высокоактивных пользователей, соответствующих критериям.\n",
    "\n",
    "4. **Разнообразная база пользователей**: В список входят пользователи с разным уровнем активности, от 1 до 29 unique_user_ids, что указывает на разнообразную базу пользователей.\n",
    "\n",
    "5. **Разреженные данные**: Многие пользователи, соответствующие критериям, опубликовали лишь несколько ответов, в то время как некоторые очень активные пользователи опубликовали значительное количество ответов. Эта разница в уровнях активности среди пользователей заметна.\n",
    "\n",
    "6. **Возможные проблемы с качеством данных**: Наличие таких имен пользователей, как «1800 INFORMATION» и «GEOCHET», может указывать на проблемы с качеством данных или необычные учетные записи.\n",
    "\n",
    "В целом аномалии в данных позволяют предположить, что критерий публикации более 100 ответов в течение первого месяца регистрации встречаются относительно редко, и для пользователей, соответствующих этому порогу, могут возникнуть уникальные обстоятельства. Для понимания конкретного контекста и причин этих аномалий потребуются дальнейшие исследования."
   ]
  },
  {
   "cell_type": "markdown",
   "metadata": {
    "id": "JhM2xXj5DWKu"
   },
   "source": [
    "# Задание 3"
   ]
  },
  {
   "cell_type": "markdown",
   "metadata": {
    "id": "IS6xPqyyDWKu"
   },
   "source": [
    "Выведите количество постов за 2008 год по месяцам. Отберите посты от пользователей, которые зарегистрировались в сентябре 2008 года и сделали хотя бы один пост в декабре того же года. Отсортируйте таблицу по значению месяца по убыванию."
   ]
  },
  {
   "cell_type": "markdown",
   "metadata": {
    "id": "WmjhjV2xDWKv"
   },
   "source": [
    "| month | count |\n",
    "| ------|------ |\n",
    "| 2008-12-01 | 17641 |\n",
    "| 2008-11-01 | 18294 |\n",
    "| ... | ... |"
   ]
  },
  {
   "cell_type": "code",
   "execution_count": 8,
   "metadata": {
    "id": "kVu0FB8WDWKv"
   },
   "outputs": [
    {
     "name": "stdout",
     "output_type": "stream",
     "text": [
      "        month  count\n",
      "0  2008-12-01  17295\n",
      "1  2008-11-01  17944\n",
      "2  2008-10-01  26594\n",
      "3  2008-09-01  24793\n",
      "4  2008-08-01     32\n"
     ]
    }
   ],
   "source": [
    "query = '''\n",
    "SELECT\n",
    "    CAST(DATE_TRUNC('month', creation_date) AS date) AS month,\n",
    "    COUNT(DISTINCT id)\n",
    "FROM\n",
    "    stackoverflow.posts\n",
    "WHERE\n",
    "    user_id IN (\n",
    "        SELECT DISTINCT u.id\n",
    "        FROM stackoverflow.posts AS p\n",
    "        JOIN stackoverflow.users AS u ON p.user_id = u.id\n",
    "        WHERE\n",
    "            u.creation_date BETWEEN '2008-09-01' AND '2008-09-30'\n",
    "            AND p.creation_date BETWEEN '2008-12-01' AND '2008-12-31'\n",
    "    )\n",
    "    AND creation_date BETWEEN '2008-01-01' AND '2008-12-31'\n",
    "GROUP BY\n",
    "    month\n",
    "ORDER BY\n",
    "    month DESC;\n",
    "'''\n",
    "\n",
    "posts_df = pd.read_sql_query(query, con=engine)\n",
    "print(posts_df)"
   ]
  },
  {
   "cell_type": "markdown",
   "metadata": {
    "id": "MMVIz4yMlKpN"
   },
   "source": [
    "Данные показывают, что количество постов в августе 2008 года значительно сократилось по сравнению с другими месяцами. Это падение является ***аномальным*** и может быть вызвано различными причинами, такими как техническая ошибка, изменение поведения пользователя или изменение политик платформы.\n",
    "\n",
    "Возможные причины этой аномалии могут включать в себя:\n",
    "\n",
    "- **Технические проблемы**. В течение этого конкретного месяца на платформе могли возникнуть технические проблемы или сбои в работе, которые могли помешать пользователям публиковать посты.\n",
    "\n",
    "- **Сезонные колебания**. Активность пользователей на онлайн-платформах иногда может проявлять сезонные закономерности, а август может быть месяцем, когда многие пользователи находятся в отпуске или менее активны в Интернете.\n",
    "\n",
    "- **Изменения платформы**. Изменения в политиках, алгоритмах или пользовательском интерфейсе платформы могли препятствовать или повлиять на взаимодействие пользователей в течение этого месяца.\n",
    "\n",
    "- **Неполнота данных**. Также возможно, что данные за август 2008 г. неполны или содержат недостающие записи, что приводит к искусственно заниженному количеству постов.\n",
    "\n",
    "Чтобы определить точную причину этой аномалии, может потребоваться дальнейшее исследование, включая проверку записей платформы и данных о взаимодействии с пользователями."
   ]
  },
  {
   "cell_type": "markdown",
   "metadata": {
    "id": "5Pcizm0DDWKz"
   },
   "source": [
    "# Задание 4"
   ]
  },
  {
   "cell_type": "markdown",
   "metadata": {
    "id": "KUZPF6vHDWKz"
   },
   "source": [
    "Используя данные о постах, выведите несколько полей:\n",
    "\n",
    "- идентификатор пользователя, который написал пост;\n",
    "- дата создания поста;\n",
    "- количество просмотров у текущего поста;\n",
    "- сумму просмотров постов автора с накоплением.\n",
    "\n",
    "Данные в таблице должны быть отсортированы по возрастанию идентификаторов пользователей, а данные об одном и том же пользователе — по возрастанию даты создания поста."
   ]
  },
  {
   "cell_type": "markdown",
   "metadata": {
    "id": "ZpsTUVDYDWK0"
   },
   "source": [
    "| user_id | creation_date | views_count | cumulative_count |\n",
    "| ------ | -------------- | ----------- | ---------------- |\n",
    "| 1 | 2008-07-31 23:41:00  | 480476   | 480476  |\n",
    "| 1 | 2008-07-31 23:55:38  | 136033 | 616509  | \n",
    "| 1 | 2008-07-31 23:56:41  | 0 |  616509  |\n",
    "| ... | ... | ... | ... |\n",
    "| 2 | 2008-07-31 23:56:41 | 79087  | 79087 |\n",
    "| 2 | 2008-08-01 05:09:56 | 65443 | 144530 |\n",
    "| ... | ...  | ...  | ...  |"
   ]
  },
  {
   "cell_type": "code",
   "execution_count": 9,
   "metadata": {
    "id": "hDoJhMzfDWK0"
   },
   "outputs": [
    {
     "name": "stdout",
     "output_type": "stream",
     "text": [
      "        user_id       creation_date  views_count  cumulative_count\n",
      "0             1 2008-07-31 23:41:00       480476            480476\n",
      "1             1 2008-07-31 23:55:38       136033            616509\n",
      "2             1 2008-07-31 23:56:41            0            616509\n",
      "3             1 2008-08-04 02:45:08            0            616509\n",
      "4             1 2008-08-04 04:31:03            0            616509\n",
      "...         ...                 ...          ...               ...\n",
      "243791  5696608 2008-12-23 16:00:37            0              2804\n",
      "243792  5696608 2008-12-23 17:35:09            0              2804\n",
      "243793  5696608 2008-12-24 01:02:48            0              2804\n",
      "243794  5696608 2008-12-30 14:34:45            0              2804\n",
      "243795  5696608 2008-12-30 16:32:12            0              2804\n",
      "\n",
      "[243796 rows x 4 columns]\n"
     ]
    }
   ],
   "source": [
    "query = '''\n",
    "WITH UserPostViews AS (\n",
    "    SELECT\n",
    "        p.user_id AS user_id,\n",
    "        p.creation_date AS creation_date,\n",
    "        p.views_count AS views_count,\n",
    "        SUM(p.views_count) OVER (PARTITION BY p.user_id ORDER BY p.creation_date) AS cumulative_count\n",
    "    FROM\n",
    "        stackoverflow.posts p\n",
    ")\n",
    "\n",
    "SELECT\n",
    "    user_id,\n",
    "    creation_date,\n",
    "    views_count,\n",
    "    cumulative_count\n",
    "FROM\n",
    "    UserPostViews\n",
    "ORDER BY\n",
    "    user_id ASC,\n",
    "    creation_date ASC;\n",
    "'''\n",
    "\n",
    "user_post_views_df = pd.read_sql_query(query, con=engine)\n",
    "print(user_post_views_df)"
   ]
  },
  {
   "cell_type": "markdown",
   "metadata": {
    "id": "N0kHRHvIDWK2"
   },
   "source": [
    "# Задание 5"
   ]
  },
  {
   "cell_type": "markdown",
   "metadata": {
    "id": "gBgvmPtODWK2"
   },
   "source": [
    "Найдите среднее количество постов пользователей в день за август 2008 года. Отберите данные о пользователях, которые опубликовали больше 120 постов за август. Дни без публикаций не учитывайте. \n",
    "\n",
    "Отсортируйте результат по возрастанию среднего количества постов. Значения можно не округлять."
   ]
  },
  {
   "cell_type": "markdown",
   "metadata": {
    "id": "nfzR08BODWK3"
   },
   "source": [
    "| user_id | avg_daily |\n",
    "| ------- | --------- |\n",
    "| 116     | 4.777778  |\n",
    "| 234     | 5.208333  |\n",
    "| ...     | ... |"
   ]
  },
  {
   "cell_type": "code",
   "execution_count": 10,
   "metadata": {
    "id": "YFyPNz5GDWK3"
   },
   "outputs": [
    {
     "name": "stdout",
     "output_type": "stream",
     "text": [
      "   user_id  avg_daily\n",
      "0      116   4.777778\n",
      "1      234   5.208333\n",
      "2       91   5.681818\n",
      "3      905   7.000000\n",
      "4      383   7.277778\n"
     ]
    }
   ],
   "source": [
    "query = '''\n",
    "WITH UserAugustPostCounts AS (\n",
    "    SELECT\n",
    "        u.id AS user_id,\n",
    "        COUNT(p.id) AS post_count\n",
    "    FROM\n",
    "        stackoverflow.users u\n",
    "    LEFT JOIN\n",
    "        stackoverflow.posts p ON u.id = p.user_id\n",
    "                           AND p.creation_date >= '2008-08-01'\n",
    "                           AND p.creation_date < '2008-09-01'\n",
    "    GROUP BY\n",
    "        u.id\n",
    "    HAVING\n",
    "        COUNT(p.id) > 120\n",
    ")\n",
    "\n",
    "SELECT\n",
    "    uapc.user_id,\n",
    "    COALESCE(uapc.post_count::float / d.days_with_posts, 0) AS avg_daily\n",
    "FROM\n",
    "    UserAugustPostCounts uapc\n",
    "LEFT JOIN (\n",
    "    SELECT\n",
    "        u.id AS user_id,\n",
    "        COUNT(DISTINCT DATE(p.creation_date)) AS days_with_posts\n",
    "    FROM\n",
    "        stackoverflow.users u\n",
    "    LEFT JOIN\n",
    "        stackoverflow.posts p ON u.id = p.user_id\n",
    "                           AND p.creation_date >= '2008-08-01'\n",
    "                           AND p.creation_date < '2008-09-01'\n",
    "    GROUP BY\n",
    "        u.id\n",
    ") AS d ON uapc.user_id = d.user_id\n",
    "ORDER BY\n",
    "    avg_daily ASC;\n",
    "'''\n",
    "\n",
    "user_august_post_counts_df = pd.read_sql_query(query, con=engine)\n",
    "print(user_august_post_counts_df)"
   ]
  },
  {
   "cell_type": "markdown",
   "metadata": {
    "id": "EQ0dcFH4DWK5"
   },
   "source": [
    "# Задание 6"
   ]
  },
  {
   "cell_type": "markdown",
   "metadata": {
    "id": "c7flfg_hDWK5"
   },
   "source": [
    "Сколько в среднем дней в период с 1 по 7 декабря 2008 года пользователи взаимодействовали с платформой? Для каждого пользователя отберите дни, в которые он или она опубликовали хотя бы один пост. Нужно получить одно целое число — не забудьте округлить результат. "
   ]
  },
  {
   "cell_type": "markdown",
   "metadata": {
    "id": "RC1Ibzm9DWK6"
   },
   "source": [
    "| result |\n",
    "| -----  |\n",
    "| <целое число> |"
   ]
  },
  {
   "cell_type": "code",
   "execution_count": 11,
   "metadata": {
    "id": "kZ7LXTr6DWK6"
   },
   "outputs": [
    {
     "name": "stdout",
     "output_type": "stream",
     "text": [
      "   result\n",
      "0     2.0\n"
     ]
    }
   ],
   "source": [
    "query = '''\n",
    "SELECT\n",
    "    ROUND(AVG(interaction_days)) AS result\n",
    "FROM (\n",
    "    SELECT\n",
    "        u.id AS user_id,\n",
    "        COUNT(DISTINCT DATE(p.creation_date)) AS interaction_days\n",
    "    FROM\n",
    "        stackoverflow.users u\n",
    "    JOIN\n",
    "        stackoverflow.posts p ON u.id = p.user_id\n",
    "                           AND p.creation_date >= '2008-12-01'\n",
    "                           AND p.creation_date <= '2008-12-07'\n",
    "    GROUP BY\n",
    "        u.id\n",
    ") AS UserInteractionDays;\n",
    "'''\n",
    "\n",
    "avr_df = pd.read_sql_query(query, con=engine)\n",
    "print(avr_df)"
   ]
  },
  {
   "cell_type": "markdown",
   "metadata": {
    "id": "LfUuYz-1DWK8"
   },
   "source": [
    "***Итоговая таблица показывает, что в среднем пользователи взаимодействовали с платформой примерно 2 дня в период с 1 по 7 декабря 2008 г. Это означает, что в течение этой конкретной недели пользователи были активны на платформе в среднем около двух дней.***\n",
    "\n",
    "Некоторые возможные выводы или идеи, которые можно сделать из этого результата:\n",
    "\n",
    "- **Периодическая активность**: пользователи не проявляли постоянной активности на платформе в течение всей недели. Вместо этого они взаимодействовали в среднем 2 дня из 7.\n",
    "\n",
    "- **Вариативность**: активность пользователей может существенно различаться - некоторые пользователи активны все 7 дней, тогда как другие могут быть активны только один или два дня.\n",
    "\n",
    "- **Сезонность**: В зависимости от характера платформы и ее пользовательской базы могут существовать сезонные закономерности или события, влияющие на активность пользователей в течение конкретной недели.\n",
    "\n",
    "- **Анализ вовлеченности**: Администраторы платформы могут использовать эту информацию для оценки вовлеченности пользователей в определенные периоды времени, что позволяет им адаптировать контент, события или рекламные акции для повышения активности пользователей.\n",
    "\n",
    "- **Удержание**: Понимание того, как часто пользователи взаимодействуют с платформой, также может помочь в оценке удержания пользователей и определении стратегий, способствующих более последовательному участию.\n",
    "\n",
    "В целом, эти данные дают представление об активности пользователей за конкретную неделю, и необходим дальнейший анализ и контекст, чтобы сделать более конкретные выводы и принять обоснованные решения на основе этой информации."
   ]
  },
  {
   "cell_type": "markdown",
   "metadata": {
    "id": "wfOmqmfLDWK8"
   },
   "source": [
    "# Задание 7"
   ]
  },
  {
   "cell_type": "markdown",
   "metadata": {
    "id": "X4ARQimADWK9"
   },
   "source": [
    "Выведите историю активности каждого пользователя в таком виде: идентификатор пользователя, дата публикации поста. Отсортируйте вывод по возрастанию идентификаторов пользователей, а для каждого пользователя — по возрастанию даты публикации.\n",
    "\n",
    "Добавьте в таблицу новое поле: для каждого поста в нём будет указано название месяца предпоследней публикации пользователя относительно текущей. Если такой публикации нет, укажите `NULL`.  Python автоматически поменяет `NULL` на `None`, но дополнительно преобразовывать значения `None` вам не нужно.\n",
    "\n",
    "Посмотрите внимательно на образец таблицы: для первых двух постов предпоследней публикации нет, но, начиная с третьего поста, в новое поле входит нужный месяц. Для следующего пользователя в первые две записи поля `second_last_month` тоже войдёт `NULL`."
   ]
  },
  {
   "cell_type": "markdown",
   "metadata": {
    "id": "IGPjRP01DWK9"
   },
   "source": [
    "| user_id | creation_date | second_last_month |\n",
    "| ------- | ------------- | ----------------- |\n",
    "| 1       | 2008-07-31 23:41:00 | None |\n",
    "| 1       | 2008-07-31 23:55:38 | None |\n",
    "| 1       | 2008-07-31 23:56:41 | July |\n",
    "| 1       | 2008-08-04 02:45:08 | July |\n",
    "| 1       | 2008-08-04 04:31:03 | July |\n",
    "| 1       | 2008-08-04 08:04:42 | August |\n",
    "| ... | ... | ... |"
   ]
  },
  {
   "cell_type": "code",
   "execution_count": 12,
   "metadata": {
    "id": "HzI1vhaMDWK-"
   },
   "outputs": [
    {
     "name": "stdout",
     "output_type": "stream",
     "text": [
      "        user_id       creation_date second_last_month\n",
      "0             1 2008-07-31 23:41:00              None\n",
      "1             1 2008-07-31 23:55:38              None\n",
      "2             1 2008-07-31 23:56:41         July     \n",
      "3             1 2008-08-04 02:45:08         July     \n",
      "4             1 2008-08-04 04:31:03         July     \n",
      "...         ...                 ...               ...\n",
      "243791  5696608 2008-12-23 16:00:37         December \n",
      "243792  5696608 2008-12-23 17:35:09         December \n",
      "243793  5696608 2008-12-24 01:02:48         December \n",
      "243794  5696608 2008-12-30 14:34:45         December \n",
      "243795  5696608 2008-12-30 16:32:12         December \n",
      "\n",
      "[243796 rows x 3 columns]\n"
     ]
    }
   ],
   "source": [
    "query = '''\n",
    "WITH UserActivity AS (\n",
    "    SELECT\n",
    "        p.user_id AS user_id,\n",
    "        p.creation_date AS creation_date,\n",
    "        LAG(TO_CHAR(p.creation_date, 'Month'), 2) OVER (PARTITION BY p.user_id ORDER BY p.creation_date) AS second_last_month\n",
    "    FROM\n",
    "        stackoverflow.posts p\n",
    ")\n",
    "\n",
    "SELECT\n",
    "    ua.user_id,\n",
    "    ua.creation_date,\n",
    "    CASE\n",
    "        WHEN ua.second_last_month IS NULL THEN NULL\n",
    "        ELSE ua.second_last_month\n",
    "    END AS second_last_month\n",
    "FROM\n",
    "    UserActivity ua\n",
    "ORDER BY\n",
    "    ua.user_id ASC,\n",
    "    ua.creation_date ASC;\n",
    "'''\n",
    "\n",
    "user_activity_df = pd.read_sql_query(query, con=engine)\n",
    "print(user_activity_df)"
   ]
  },
  {
   "cell_type": "markdown",
   "metadata": {
    "id": "tf9qq2yzDWK_"
   },
   "source": [
    "# Задание 8"
   ]
  },
  {
   "cell_type": "markdown",
   "metadata": {
    "id": "gfwLVXBYDWLA"
   },
   "source": [
    "Рассчитайте аналог Retention Rate по месяцам для пользователей StackOverflow. Объедините пользователей в когорты по месяцу их первого поста. Возвращение определяйте по наличию поста в текущем месяце. "
   ]
  },
  {
   "cell_type": "markdown",
   "metadata": {
    "id": "kN2ic39WlKpl"
   },
   "source": [
    "| cohort_dt | session_date | users_cnt | cohort_users_cnt | retention_rate |\n",
    "| --- | --- | --- | --- | --- |\n",
    "| 2008-07-01 00:00:00 | 2008-07-01 00:00:00 | 3 | 3 | 100 |\n",
    "| 2008-07-01 00:00:00 | 2008-08-01 00:00:00 | 2 | 3 | 66,67 |\n",
    "| 2008-07-01 00:00:00 | 2008-09-01 00:00:00 | 1 | 3 | 33,33 |\n",
    "| 2008-07-01 00:00:00 | 2008-10-01 00:00:00 | 2 | 3 | 66,67 |\n",
    "| 2008-07-01 00:00:00 | 2008-11-01 00:00:00 | 1 | 3 | 33,33 |\n",
    "| 2008-07-01 00:00:00 | 2008-12-01 00:00:00 | 2 | 3 | 66,67 |\n",
    "| 2008-08-01 00:00:00 | 2008-08-01 00:00:00 | 2151 | 2151 | 100 |\n",
    "| ... | ... | ... | ... | ... |"
   ]
  },
  {
   "cell_type": "code",
   "execution_count": 15,
   "metadata": {
    "id": "LUgFmwmTDWLB"
   },
   "outputs": [
    {
     "name": "stdout",
     "output_type": "stream",
     "text": [
      "    cohort_dt session_date  users_cnt  cohort_users_cnt  retention_rate\n",
      "0  2008-07-01   2008-07-01          3                 3          100.00\n",
      "1  2008-07-01   2008-08-01          2                 3           66.67\n",
      "2  2008-07-01   2008-09-01          1                 3           33.33\n",
      "3  2008-07-01   2008-10-01          2                 3           66.67\n",
      "4  2008-07-01   2008-11-01          1                 3           33.33\n",
      "5  2008-07-01   2008-12-01          2                 3           66.67\n",
      "6  2008-08-01   2008-08-01       2151              2151          100.00\n",
      "7  2008-08-01   2008-09-01       1571              2151           73.04\n",
      "8  2008-08-01   2008-10-01       1275              2151           59.27\n",
      "9  2008-08-01   2008-11-01       1050              2151           48.81\n",
      "10 2008-08-01   2008-12-01        894              2151           41.56\n",
      "11 2008-09-01   2008-09-01       7678              7678          100.00\n",
      "12 2008-09-01   2008-10-01       4132              7678           53.82\n",
      "13 2008-09-01   2008-11-01       2966              7678           38.63\n",
      "14 2008-09-01   2008-12-01       2500              7678           32.56\n",
      "15 2008-10-01   2008-10-01       3629              3629          100.00\n",
      "16 2008-10-01   2008-11-01       1640              3629           45.19\n",
      "17 2008-10-01   2008-12-01       1221              3629           33.65\n",
      "18 2008-11-01   2008-11-01       2852              2852          100.00\n",
      "19 2008-11-01   2008-12-01       1151              2852           40.36\n",
      "20 2008-12-01   2008-12-01       2536              2536          100.00\n"
     ]
    }
   ],
   "source": [
    "query = '''\n",
    "WITH profile AS (\n",
    "    WITH t AS (\n",
    "        SELECT DISTINCT\n",
    "            user_id,\n",
    "            FIRST_VALUE(DATE_TRUNC('month', creation_date)) OVER (PARTITION BY user_id ORDER BY DATE_TRUNC('month', creation_date)) AS cohort_date\n",
    "        FROM\n",
    "            stackoverflow.posts\n",
    "    )\n",
    "    SELECT\n",
    "        user_id,\n",
    "        cohort_date,\n",
    "        COUNT(user_id) OVER (PARTITION BY cohort_date) AS cohort_users_cnt\n",
    "    FROM\n",
    "        t\n",
    "),\n",
    "sessions AS (\n",
    "    SELECT\n",
    "        user_id,\n",
    "        DATE_TRUNC('month', creation_date) AS session_date\n",
    "    FROM\n",
    "        stackoverflow.posts\n",
    "    GROUP BY\n",
    "        user_id,\n",
    "        session_date\n",
    ")\n",
    "SELECT\n",
    "    p.cohort_date AS cohort_dt,\n",
    "    session_date,\n",
    "    COUNT(p.user_id) AS users_cnt,\n",
    "    cohort_users_cnt,\n",
    "    ROUND(COUNT(p.user_id) * 100.0 / cohort_users_cnt, 2) AS retention_rate\n",
    "FROM\n",
    "    profile AS p\n",
    "JOIN\n",
    "    sessions AS s ON p.user_id = s.user_id\n",
    "GROUP BY\n",
    "    cohort_dt,\n",
    "    session_date,\n",
    "    cohort_users_cnt;\n",
    "'''\n",
    "\n",
    "user_cohorts_df = pd.read_sql_query(query, con=engine)\n",
    "print(user_cohorts_df)"
   ]
  },
  {
   "cell_type": "markdown",
   "metadata": {
    "id": "_msBtnb2DWLC"
   },
   "source": [
    "### Постройте тепловую карту Retention Rate. Какие аномалии или другие необычные явления удалось выявить? Сформулируйте гипотезы о возможных причинах."
   ]
  },
  {
   "cell_type": "code",
   "execution_count": 18,
   "metadata": {
    "id": "qAEJc8H1DWLC"
   },
   "outputs": [
    {
     "data": {
      "image/png": "[encoded data removed]",
      "text/plain": [
       "<Figure size 864x576 with 2 Axes>"
      ]
     },
     "metadata": {
      "needs_background": "light"
     },
     "output_type": "display_data"
    }
   ],
   "source": [
    "data = {\n",
    "    'cohort_dt': [\n",
    "        '2008-07-01', '2008-07-01', '2008-07-01', '2008-07-01', '2008-07-01',\n",
    "        '2008-07-01', '2008-08-01', '2008-08-01', '2008-08-01', '2008-08-01',\n",
    "        '2008-08-01', '2008-09-01', '2008-09-01', '2008-09-01', '2008-09-01',\n",
    "        '2008-10-01', '2008-10-01', '2008-10-01', '2008-11-01', '2008-11-01',\n",
    "        '2008-12-01'\n",
    "    ],\n",
    "    'session_date': [\n",
    "        '2008-07-01', '2008-08-01', '2008-09-01', '2008-10-01', '2008-11-01',\n",
    "        '2008-12-01', '2008-08-01', '2008-09-01', '2008-10-01', '2008-11-01',\n",
    "        '2008-12-01', '2008-09-01', '2008-10-01', '2008-11-01', '2008-12-01',\n",
    "        '2008-10-01', '2008-11-01', '2008-12-01', '2008-11-01', '2008-12-01',\n",
    "        '2008-12-01'\n",
    "    ],\n",
    "    'retention_rate': [\n",
    "        100.00, 66.67, 33.33, 66.67, 33.33, 66.67, 100.00, 73.04, 59.27, 48.81,\n",
    "        41.56, 100.00, 53.82, 38.63, 32.56, 100.00, 45.19, 33.65, 100.00, 40.36,\n",
    "        100.00\n",
    "    ]\n",
    "}\n",
    "\n",
    "df = pd.DataFrame(data)\n",
    "\n",
    "pivot_df = df.pivot('cohort_dt', 'session_date', 'retention_rate')\n",
    "\n",
    "plt.figure(figsize=(12, 8))\n",
    "sns.heatmap(pivot_df, annot=True, fmt=\".2f\", cmap=\"YlGnBu\", linewidths=0.5, cbar_kws={'label': 'Retention Rate (%)'})\n",
    "plt.title(\"Тепловая Карта Retention Rate\")\n",
    "plt.show()"
   ]
  },
  {
   "cell_type": "markdown",
   "metadata": {
    "id": "EgOfIsI4DWLC"
   },
   "source": [
    "Из тепловой карты retention rate можно сделать несколько интересных наблюдений и потенциальных гипотез о необычных явлениях:\n",
    "\n",
    "1. **Внезапное падение retention rate**: в когорте 01 июля 2008 г. наблюдается резкое падение уровня удержания с 66,67% в августе до 33,33% в сентябре, а затем снова до 66,67% в октябре. Одна из гипотез заключается в том, что некоторые пользователи могли публиковать сообщения реже или меньше участвовать в сентябре, что привело к падению.\n",
    "\n",
    "2. **Постепенное снижение**: в большинстве когорт наблюдается постепенное снижение показателей удержания с течением времени. Например, в когорте 2008-08-01 уровень удержания снижается со 100 % в августе до 41,56 % в декабре. Это может быть связано с оттоком пользователей или снижением вовлеченности с течением времени.\n",
    "\n",
    "3. **Стабильное удержание**: Когорта 01 сентября 2008 г. сохраняет относительно стабильные показатели удержания на протяжении нескольких месяцев с постепенным снижением. Это может указывать на постоянный уровень вовлеченности пользователей.\n",
    "\n",
    "Гипотезы этих явлений могут включать:\n",
    "\n",
    "- **Сезонные тенденции**: У пользователей могут быть разные модели взаимодействия в разные сезоны или месяцы.\n",
    "- **Изменения платформы**: Изменения или обновления платформы могли повлиять на поведение пользователей.\n",
    "- **Сегментация пользователей**: разные когорты могут представлять собой отдельные сегменты пользователей с разными привычками публикации сообщений.\n",
    "- **Внешние факторы**: Внешние события или рекламные акции могут повлиять на активность пользователей.\n",
    "\n",
    "Для дальнейшего изучения и подтверждения этих гипотез могут потребоваться дополнительные данные и анализ, такие как отслеживание поведения пользователей, опросы пользователей и др."
   ]
  },
  {
   "cell_type": "markdown",
   "metadata": {
    "id": "1k7oPWt5DWLK"
   },
   "source": [
    "# Задание 9\n"
   ]
  },
  {
   "cell_type": "markdown",
   "metadata": {
    "id": "ALsYVSyRDWLM"
   },
   "source": [
    "На сколько процентов менялось количество постов ежемесячно с 1 сентября по 31 декабря 2008 года? Отобразите таблицу со следующими полями:\n",
    "\n",
    "- номер месяца;\n",
    "- количество постов за месяц;\n",
    "- процент, который показывает, насколько изменилось количество постов в текущем месяце по сравнению с предыдущим.\n",
    "\n",
    "Если постов стало меньше, значение процента должно быть отрицательным, если больше — положительным. Округлите значение процента до двух знаков после запятой.\n",
    "\n",
    "Напомним, что при делении одного целого числа на другое в PostgreSQL в результате получится целое число, округлённое до ближайшего целого вниз. Чтобы этого избежать, переведите делимое в тип `numeric`."
   ]
  },
  {
   "cell_type": "markdown",
   "metadata": {
    "id": "u4E2zF8DDWLM"
   },
   "source": [
    "| creation_month | posts_count | percentage |\n",
    "| -------------- | ----------- | ---------- |\n",
    "| 9 | 70731 | Nan |\n",
    "| 10 | 63102 | -10.33 |\n",
    "| ... | ... | ... |"
   ]
  },
  {
   "cell_type": "code",
   "execution_count": 16,
   "metadata": {
    "id": "Mb5pShStDWLN"
   },
   "outputs": [
    {
     "name": "stdout",
     "output_type": "stream",
     "text": [
      "  creation_month  posts_count  percentage\n",
      "0        2008-09        70371         NaN\n",
      "1        2008-10        63102      -10.33\n",
      "2        2008-11        46975      -25.56\n",
      "3        2008-12        44592       -5.07\n"
     ]
    }
   ],
   "source": [
    "query = '''\n",
    "WITH MonthlyPosts AS (\n",
    "    SELECT\n",
    "        TO_CHAR(p.creation_date, 'YYYY-MM') AS creation_month,\n",
    "        COUNT(*) AS posts_count\n",
    "    FROM\n",
    "        stackoverflow.posts p\n",
    "    WHERE\n",
    "        p.creation_date >= '2008-09-01' AND p.creation_date <= '2008-12-31'\n",
    "    GROUP BY\n",
    "        TO_CHAR(p.creation_date, 'YYYY-MM')\n",
    "),\n",
    "\n",
    "PercentageChange AS (\n",
    "    SELECT\n",
    "        mp1.creation_month,\n",
    "        mp1.posts_count,\n",
    "        ROUND(\n",
    "            (mp1.posts_count::numeric - mp2.posts_count::numeric) / NULLIF(mp2.posts_count::numeric, 0) * 100, 2\n",
    "        ) AS percentage\n",
    "    FROM\n",
    "        MonthlyPosts mp1\n",
    "    LEFT JOIN\n",
    "        MonthlyPosts mp2\n",
    "    ON\n",
    "        TO_DATE(mp1.creation_month, 'YYYY-MM') - interval '1 month' = TO_DATE(mp2.creation_month, 'YYYY-MM')\n",
    ")\n",
    "\n",
    "SELECT\n",
    "    pc.creation_month,\n",
    "    pc.posts_count,\n",
    "    pc.percentage\n",
    "FROM\n",
    "    PercentageChange pc\n",
    "ORDER BY\n",
    "    pc.creation_month ASC;\n",
    "'''\n",
    "\n",
    "monthly_posts_df = pd.read_sql_query(query, con=engine)\n",
    "print(monthly_posts_df)"
   ]
  },
  {
   "cell_type": "markdown",
   "metadata": {
    "id": "G0VSDL4HDWLO"
   },
   "source": [
    "<details>\n",
    "\n",
    "<summary>Подсказка</summary>\n",
    "Эту задачу стоит декомпозировать. Сформируйте запрос, который отобразит номер месяца и количество постов. Затем можно использовать оконную функцию, которая вернёт значение за предыдущий месяц, и посчитать процент.\n",
    "</details>"
   ]
  },
  {
   "cell_type": "markdown",
   "metadata": {
    "id": "9NQE2y_MDWLP"
   },
   "source": [
    "### Постройте круговую диаграмму с количеством постов по месяцам."
   ]
  },
  {
   "cell_type": "code",
   "execution_count": 17,
   "metadata": {
    "id": "377ABjiVDWLP"
   },
   "outputs": [
    {
     "data": {
      "image/png": "[encoded data removed]",
      "text/plain": [
       "<Figure size 432x432 with 1 Axes>"
      ]
     },
     "metadata": {},
     "output_type": "display_data"
    }
   ],
   "source": [
    "data = {\n",
    "    'creation_month': ['2008-09', '2008-10', '2008-11', '2008-12'],\n",
    "    'posts_count': [70371, 63102, 46975, 44592],\n",
    "}\n",
    "df = pd.DataFrame(data)\n",
    "\n",
    "plt.figure(figsize=(6, 6))\n",
    "plt.pie(df['posts_count'], labels=df['creation_month'], autopct='%1.1f%%', startangle=140)\n",
    "plt.title('Number of Posts by Month (Sep-Dec 2008)')\n",
    "plt.axis('equal')\n",
    "\n",
    "plt.show()"
   ]
  },
  {
   "cell_type": "markdown",
   "metadata": {
    "id": "uw7qMtafDWLP"
   },
   "source": [
    "# Задание 10"
   ]
  },
  {
   "cell_type": "markdown",
   "metadata": {
    "id": "oRBpWKx3DWLQ"
   },
   "source": [
    "Выгрузите данные активности пользователя, который опубликовал больше всего постов за всё время. Выведите данные за октябрь 2008 года в таком виде:\n",
    "\n",
    "- номер недели;\n",
    "- дата и время последнего поста, опубликованного на этой неделе."
   ]
  },
  {
   "cell_type": "markdown",
   "metadata": {
    "id": "XjAWSn_3DWLQ"
   },
   "source": [
    "| week_creation | creation_date |\n",
    "| ------------- | ------------- |\n",
    "| 40 | 2008-10-05 09:00:58 |\n",
    "| 41 | 2008-10-12 21:22:23 |\n",
    "| ... | ... |"
   ]
  },
  {
   "cell_type": "code",
   "execution_count": 18,
   "metadata": {
    "id": "r5F5fSkwDWLQ"
   },
   "outputs": [
    {
     "name": "stdout",
     "output_type": "stream",
     "text": [
      "  week_number       week_creation\n",
      "0          40 2008-10-06 21:35:00\n",
      "1          41 2008-10-13 18:44:22\n",
      "2          42 2008-10-20 20:57:36\n",
      "3          43 2008-10-27 23:02:02\n",
      "4          44 2008-10-31 22:16:01\n"
     ]
    }
   ],
   "source": [
    "query = '''\n",
    "WITH UserPostCounts AS (\n",
    "    SELECT\n",
    "        p.user_id,\n",
    "        COUNT(*) AS post_count\n",
    "    FROM\n",
    "        stackoverflow.posts p\n",
    "    WHERE\n",
    "        p.creation_date >= '2008-10-01' AND p.creation_date < '2008-11-01'\n",
    "    GROUP BY\n",
    "        p.user_id\n",
    "    ORDER BY\n",
    "        post_count DESC\n",
    "    LIMIT 1\n",
    ")\n",
    "\n",
    "SELECT\n",
    "    TO_CHAR(p.creation_date, 'WW') AS week_number,\n",
    "    MAX(p.creation_date) AS week_creation\n",
    "FROM\n",
    "    stackoverflow.posts p\n",
    "JOIN\n",
    "    UserPostCounts upc\n",
    "ON\n",
    "    p.user_id = upc.user_id\n",
    "WHERE\n",
    "    p.creation_date >= '2008-10-01' AND p.creation_date < '2008-11-01'\n",
    "GROUP BY\n",
    "    TO_CHAR(p.creation_date, 'WW')\n",
    "ORDER BY\n",
    "    week_number ASC;\n",
    "'''\n",
    "\n",
    "user_post_counts_df = pd.read_sql_query(query, con=engine)\n",
    "print(user_post_counts_df)"
   ]
  }
 ],
 "metadata": {
  "ExecuteTimeLog": [
   {
    "duration": 911,
    "start_time": "2023-09-13T17:30:14.987Z"
   },
   {
    "duration": 4,
    "start_time": "2023-09-13T17:30:18.223Z"
   },
   {
    "duration": 9182,
    "start_time": "2023-09-13T17:30:20.610Z"
   },
   {
    "duration": 48,
    "start_time": "2023-09-13T17:30:29.794Z"
   },
   {
    "duration": 17,
    "start_time": "2023-09-13T17:30:29.844Z"
   },
   {
    "duration": 107,
    "start_time": "2023-09-13T17:34:50.768Z"
   },
   {
    "duration": 192,
    "start_time": "2023-09-13T17:35:15.407Z"
   },
   {
    "duration": 102,
    "start_time": "2023-09-13T17:35:25.106Z"
   },
   {
    "duration": 116,
    "start_time": "2023-09-13T17:35:44.224Z"
   },
   {
    "duration": 114,
    "start_time": "2023-09-13T17:35:52.150Z"
   },
   {
    "duration": 114,
    "start_time": "2023-09-13T17:35:56.513Z"
   },
   {
    "duration": 113,
    "start_time": "2023-09-13T17:36:09.683Z"
   },
   {
    "duration": 108,
    "start_time": "2023-09-13T17:36:14.593Z"
   },
   {
    "duration": 109,
    "start_time": "2023-09-13T17:36:18.824Z"
   },
   {
    "duration": 100,
    "start_time": "2023-09-13T17:36:28.100Z"
   },
   {
    "duration": 110,
    "start_time": "2023-09-13T17:36:35.544Z"
   },
   {
    "duration": 97,
    "start_time": "2023-09-13T17:36:58.388Z"
   },
   {
    "duration": 139,
    "start_time": "2023-09-13T18:23:06.865Z"
   },
   {
    "duration": 103,
    "start_time": "2023-09-13T18:23:35.721Z"
   },
   {
    "duration": 135,
    "start_time": "2023-09-13T18:23:39.726Z"
   },
   {
    "duration": 130,
    "start_time": "2023-09-13T18:28:47.916Z"
   },
   {
    "duration": 17893,
    "start_time": "2023-09-13T18:38:24.376Z"
   },
   {
    "duration": 18313,
    "start_time": "2023-09-13T18:40:24.716Z"
   },
   {
    "duration": 79,
    "start_time": "2023-09-13T18:42:37.248Z"
   },
   {
    "duration": 81,
    "start_time": "2023-09-13T18:43:39.621Z"
   },
   {
    "duration": 101,
    "start_time": "2023-09-13T18:52:06.451Z"
   },
   {
    "duration": 1537,
    "start_time": "2023-09-13T18:52:34.816Z"
   },
   {
    "duration": 104,
    "start_time": "2023-09-13T18:54:21.577Z"
   },
   {
    "duration": 86,
    "start_time": "2023-09-13T18:55:03.005Z"
   },
   {
    "duration": 37,
    "start_time": "2023-09-13T18:56:07.434Z"
   },
   {
    "duration": 1461,
    "start_time": "2023-09-13T19:01:02.588Z"
   },
   {
    "duration": 226,
    "start_time": "2023-09-13T19:02:38.714Z"
   },
   {
    "duration": 228,
    "start_time": "2023-09-13T19:04:38.243Z"
   },
   {
    "duration": 222,
    "start_time": "2023-09-13T19:04:52.536Z"
   },
   {
    "duration": 218,
    "start_time": "2023-09-13T19:05:36.812Z"
   },
   {
    "duration": 213,
    "start_time": "2023-09-13T19:05:44.334Z"
   },
   {
    "duration": 173,
    "start_time": "2023-09-13T19:07:54.770Z"
   },
   {
    "duration": 125,
    "start_time": "2023-09-13T19:09:15.788Z"
   },
   {
    "duration": 110,
    "start_time": "2023-09-13T19:10:18.790Z"
   },
   {
    "duration": 73,
    "start_time": "2023-09-13T19:13:14.330Z"
   },
   {
    "duration": 818,
    "start_time": "2023-09-13T21:14:17.189Z"
   },
   {
    "duration": 3,
    "start_time": "2023-09-13T21:14:18.009Z"
   },
   {
    "duration": 10197,
    "start_time": "2023-09-13T21:14:18.014Z"
   },
   {
    "duration": 234,
    "start_time": "2023-09-13T21:14:28.215Z"
   },
   {
    "duration": 16,
    "start_time": "2023-09-13T21:14:28.452Z"
   },
   {
    "duration": 149,
    "start_time": "2023-09-13T21:14:28.470Z"
   },
   {
    "duration": 183,
    "start_time": "2023-09-13T21:14:28.622Z"
   },
   {
    "duration": 110,
    "start_time": "2023-09-13T21:14:28.807Z"
   },
   {
    "duration": 4,
    "start_time": "2023-09-13T21:14:28.919Z"
   },
   {
    "duration": 1586,
    "start_time": "2023-09-13T21:14:28.925Z"
   },
   {
    "duration": 117,
    "start_time": "2023-09-13T21:14:30.513Z"
   },
   {
    "duration": 80,
    "start_time": "2023-09-13T21:14:30.631Z"
   },
   {
    "duration": 1835,
    "start_time": "2023-09-13T21:14:30.714Z"
   },
   {
    "duration": 231,
    "start_time": "2023-09-13T21:14:32.551Z"
   },
   {
    "duration": 6,
    "start_time": "2023-09-13T21:14:32.788Z"
   },
   {
    "duration": 10,
    "start_time": "2023-09-13T21:14:32.796Z"
   },
   {
    "duration": 220,
    "start_time": "2023-09-13T21:14:32.807Z"
   },
   {
    "duration": 136,
    "start_time": "2023-09-13T21:14:33.030Z"
   },
   {
    "duration": 99,
    "start_time": "2023-09-13T21:14:33.168Z"
   },
   {
    "duration": 249,
    "start_time": "2023-09-13T21:15:02.706Z"
   },
   {
    "duration": 253,
    "start_time": "2023-09-13T21:15:07.000Z"
   },
   {
    "duration": 165,
    "start_time": "2023-09-13T21:15:12.300Z"
   },
   {
    "duration": 789,
    "start_time": "2023-09-13T21:24:41.557Z"
   },
   {
    "duration": 4,
    "start_time": "2023-09-13T21:24:42.348Z"
   },
   {
    "duration": 9662,
    "start_time": "2023-09-13T21:24:42.353Z"
   },
   {
    "duration": 255,
    "start_time": "2023-09-13T21:24:52.017Z"
   },
   {
    "duration": 16,
    "start_time": "2023-09-13T21:24:52.274Z"
   },
   {
    "duration": 168,
    "start_time": "2023-09-13T21:24:52.291Z"
   },
   {
    "duration": 204,
    "start_time": "2023-09-13T21:24:52.460Z"
   },
   {
    "duration": 110,
    "start_time": "2023-09-13T21:24:52.666Z"
   },
   {
    "duration": 2,
    "start_time": "2023-09-13T21:24:52.778Z"
   },
   {
    "duration": 1552,
    "start_time": "2023-09-13T21:24:52.784Z"
   },
   {
    "duration": 113,
    "start_time": "2023-09-13T21:24:54.338Z"
   },
   {
    "duration": 66,
    "start_time": "2023-09-13T21:24:54.453Z"
   },
   {
    "duration": 1413,
    "start_time": "2023-09-13T21:24:54.521Z"
   },
   {
    "duration": 259,
    "start_time": "2023-09-13T21:24:55.937Z"
   },
   {
    "duration": 3,
    "start_time": "2023-09-13T21:24:56.198Z"
   },
   {
    "duration": 6,
    "start_time": "2023-09-13T21:24:56.202Z"
   },
   {
    "duration": 229,
    "start_time": "2023-09-13T21:24:56.210Z"
   },
   {
    "duration": 110,
    "start_time": "2023-09-13T21:24:56.441Z"
   },
   {
    "duration": 106,
    "start_time": "2023-09-13T21:24:56.553Z"
   },
   {
    "duration": 863,
    "start_time": "2023-09-15T09:28:25.363Z"
   },
   {
    "duration": 4,
    "start_time": "2023-09-15T09:28:26.228Z"
   },
   {
    "duration": 10171,
    "start_time": "2023-09-15T09:28:26.355Z"
   },
   {
    "duration": 43,
    "start_time": "2023-09-15T09:28:36.527Z"
   },
   {
    "duration": 13,
    "start_time": "2023-09-15T09:28:36.571Z"
   },
   {
    "duration": 112,
    "start_time": "2023-09-15T09:28:36.586Z"
   },
   {
    "duration": 155,
    "start_time": "2023-09-15T09:28:36.699Z"
   },
   {
    "duration": 133,
    "start_time": "2023-09-15T09:38:21.886Z"
   },
   {
    "duration": 142,
    "start_time": "2023-09-15T09:41:49.377Z"
   },
   {
    "duration": 84,
    "start_time": "2023-09-15T09:48:44.305Z"
   },
   {
    "duration": 82,
    "start_time": "2023-09-15T09:49:32.482Z"
   },
   {
    "duration": 172,
    "start_time": "2023-09-15T09:53:30.784Z"
   },
   {
    "duration": 85,
    "start_time": "2023-09-15T09:53:39.751Z"
   },
   {
    "duration": 127,
    "start_time": "2023-09-15T09:55:27.031Z"
   },
   {
    "duration": 1601,
    "start_time": "2023-09-15T09:58:47.973Z"
   },
   {
    "duration": 633,
    "start_time": "2023-09-15T10:03:27.111Z"
   },
   {
    "duration": 616,
    "start_time": "2023-09-15T10:05:58.200Z"
   },
   {
    "duration": 590,
    "start_time": "2023-09-15T10:06:11.668Z"
   },
   {
    "duration": 603,
    "start_time": "2023-09-15T10:08:32.777Z"
   },
   {
    "duration": 402,
    "start_time": "2023-09-15T10:14:56.266Z"
   },
   {
    "duration": 642,
    "start_time": "2023-09-15T10:16:25.036Z"
   },
   {
    "duration": 404,
    "start_time": "2023-09-15T10:16:35.616Z"
   },
   {
    "duration": 574,
    "start_time": "2023-09-15T10:18:13.615Z"
   },
   {
    "duration": 598,
    "start_time": "2023-09-15T10:19:40.318Z"
   },
   {
    "duration": 136,
    "start_time": "2023-09-15T10:20:45.982Z"
   },
   {
    "duration": 135,
    "start_time": "2023-09-15T10:21:16.142Z"
   },
   {
    "duration": 616,
    "start_time": "2023-09-15T10:21:24.372Z"
   },
   {
    "duration": 566,
    "start_time": "2023-09-15T10:22:58.971Z"
   },
   {
    "duration": 608,
    "start_time": "2023-09-15T10:51:34.556Z"
   },
   {
    "duration": 603,
    "start_time": "2023-09-15T10:51:44.345Z"
   },
   {
    "duration": 633,
    "start_time": "2023-09-15T10:54:26.339Z"
   },
   {
    "duration": 608,
    "start_time": "2023-09-15T10:55:11.583Z"
   },
   {
    "duration": 925,
    "start_time": "2023-09-15T10:55:27.190Z"
   },
   {
    "duration": 632,
    "start_time": "2023-09-15T10:55:34.829Z"
   },
   {
    "duration": 121,
    "start_time": "2023-09-15T10:55:53.359Z"
   },
   {
    "duration": 612,
    "start_time": "2023-09-15T10:55:57.436Z"
   },
   {
    "duration": 596,
    "start_time": "2023-09-15T10:57:43.011Z"
   },
   {
    "duration": 569,
    "start_time": "2023-09-15T10:58:17.862Z"
   },
   {
    "duration": 625,
    "start_time": "2023-09-15T10:58:43.839Z"
   },
   {
    "duration": 583,
    "start_time": "2023-09-15T10:59:40.093Z"
   },
   {
    "duration": 609,
    "start_time": "2023-09-15T11:05:08.792Z"
   },
   {
    "duration": 624,
    "start_time": "2023-09-15T11:05:16.228Z"
   },
   {
    "duration": 2,
    "start_time": "2023-09-15T11:42:51.751Z"
   },
   {
    "duration": 3,
    "start_time": "2023-09-15T11:42:52.163Z"
   },
   {
    "duration": 3,
    "start_time": "2023-09-15T11:42:52.487Z"
   },
   {
    "duration": 52,
    "start_time": "2023-09-15T11:42:52.836Z"
   },
   {
    "duration": 10,
    "start_time": "2023-09-15T11:42:53.030Z"
   },
   {
    "duration": 99,
    "start_time": "2023-09-15T11:42:53.773Z"
   },
   {
    "duration": 162,
    "start_time": "2023-09-15T11:42:55.292Z"
   },
   {
    "duration": 138,
    "start_time": "2023-09-15T11:42:59.489Z"
   },
   {
    "duration": 1372,
    "start_time": "2023-09-15T11:43:00.860Z"
   },
   {
    "duration": 126,
    "start_time": "2023-09-15T11:43:02.254Z"
   },
   {
    "duration": 34,
    "start_time": "2023-09-15T11:43:04.565Z"
   },
   {
    "duration": 1249,
    "start_time": "2023-09-15T11:43:07.374Z"
   },
   {
    "duration": 576,
    "start_time": "2023-09-15T11:43:29.077Z"
   },
   {
    "duration": 151,
    "start_time": "2023-09-15T12:22:33.557Z"
   },
   {
    "duration": 556,
    "start_time": "2023-09-15T12:22:40.865Z"
   },
   {
    "duration": 538,
    "start_time": "2023-09-15T12:43:08.074Z"
   },
   {
    "duration": 602,
    "start_time": "2023-09-15T12:43:15.345Z"
   },
   {
    "duration": 137,
    "start_time": "2023-09-15T12:43:23.759Z"
   },
   {
    "duration": 647,
    "start_time": "2023-09-15T12:43:30.335Z"
   },
   {
    "duration": 103,
    "start_time": "2023-09-15T12:45:11.536Z"
   },
   {
    "duration": 579,
    "start_time": "2023-09-15T12:45:46.115Z"
   },
   {
    "duration": 810,
    "start_time": "2023-09-15T12:45:53.042Z"
   },
   {
    "duration": 598,
    "start_time": "2023-09-15T12:46:00.290Z"
   },
   {
    "duration": 124,
    "start_time": "2023-09-15T12:46:32.468Z"
   },
   {
    "duration": 621,
    "start_time": "2023-09-15T12:46:48.485Z"
   },
   {
    "duration": 268,
    "start_time": "2023-09-15T12:48:05.357Z"
   },
   {
    "duration": 567,
    "start_time": "2023-09-15T12:48:15.342Z"
   },
   {
    "duration": 103,
    "start_time": "2023-09-15T12:48:55.959Z"
   },
   {
    "duration": 657,
    "start_time": "2023-09-15T12:49:01.328Z"
   },
   {
    "duration": 157,
    "start_time": "2023-09-15T12:50:43.471Z"
   },
   {
    "duration": 644,
    "start_time": "2023-09-15T12:51:27.159Z"
   },
   {
    "duration": 770,
    "start_time": "2023-09-15T17:52:16.123Z"
   },
   {
    "duration": 3,
    "start_time": "2023-09-15T17:52:16.895Z"
   },
   {
    "duration": 12712,
    "start_time": "2023-09-15T17:52:16.899Z"
   },
   {
    "duration": 213,
    "start_time": "2023-09-15T17:52:29.613Z"
   },
   {
    "duration": 31,
    "start_time": "2023-09-15T17:52:29.829Z"
   },
   {
    "duration": 153,
    "start_time": "2023-09-15T17:52:29.862Z"
   },
   {
    "duration": 191,
    "start_time": "2023-09-15T17:52:30.017Z"
   },
   {
    "duration": 177,
    "start_time": "2023-09-15T17:52:30.210Z"
   },
   {
    "duration": 1498,
    "start_time": "2023-09-15T17:52:30.389Z"
   },
   {
    "duration": 148,
    "start_time": "2023-09-15T17:52:31.889Z"
   },
   {
    "duration": 65,
    "start_time": "2023-09-15T17:52:32.039Z"
   },
   {
    "duration": 1591,
    "start_time": "2023-09-15T17:52:32.106Z"
   },
   {
    "duration": 600,
    "start_time": "2023-09-15T17:52:33.699Z"
   },
   {
    "duration": 2,
    "start_time": "2023-09-15T17:52:34.302Z"
   },
   {
    "duration": 24,
    "start_time": "2023-09-15T17:52:34.306Z"
   },
   {
    "duration": 266,
    "start_time": "2023-09-15T17:52:34.332Z"
   },
   {
    "duration": 109,
    "start_time": "2023-09-15T17:52:34.599Z"
   },
   {
    "duration": 102,
    "start_time": "2023-09-15T17:52:34.710Z"
   },
   {
    "duration": 1082,
    "start_time": "2023-09-15T19:22:26.305Z"
   },
   {
    "duration": 4,
    "start_time": "2023-09-15T19:22:27.389Z"
   },
   {
    "duration": 11242,
    "start_time": "2023-09-15T19:22:27.395Z"
   },
   {
    "duration": 71,
    "start_time": "2023-09-15T19:22:38.640Z"
   },
   {
    "duration": 19,
    "start_time": "2023-09-15T19:22:38.713Z"
   },
   {
    "duration": 107,
    "start_time": "2023-09-15T19:22:38.734Z"
   },
   {
    "duration": 164,
    "start_time": "2023-09-15T19:22:38.843Z"
   },
   {
    "duration": 145,
    "start_time": "2023-09-15T19:22:39.011Z"
   },
   {
    "duration": 1573,
    "start_time": "2023-09-15T19:22:39.163Z"
   },
   {
    "duration": 121,
    "start_time": "2023-09-15T19:22:40.738Z"
   },
   {
    "duration": 60,
    "start_time": "2023-09-15T19:22:40.861Z"
   },
   {
    "duration": 1416,
    "start_time": "2023-09-15T19:22:40.923Z"
   },
   {
    "duration": 583,
    "start_time": "2023-09-15T19:22:52.926Z"
   },
   {
    "duration": 356,
    "start_time": "2023-09-15T19:27:33.513Z"
   },
   {
    "duration": 548,
    "start_time": "2023-09-15T19:27:40.094Z"
   },
   {
    "duration": 518,
    "start_time": "2023-09-15T19:30:30.286Z"
   },
   {
    "duration": 524,
    "start_time": "2023-09-15T19:30:43.501Z"
   },
   {
    "duration": 537,
    "start_time": "2023-09-15T19:38:08.066Z"
   },
   {
    "duration": 107,
    "start_time": "2023-09-15T19:47:38.583Z"
   }
  ],
  "colab": {
   "provenance": []
  },
  "kernelspec": {
   "display_name": "Python 3",
   "language": "python",
   "name": "python3"
  },
  "language_info": {
   "codemirror_mode": {
    "name": "ipython",
    "version": 3
   },
   "file_extension": ".py",
   "mimetype": "text/x-python",
   "name": "python",
   "nbconvert_exporter": "python",
   "pygments_lexer": "ipython3",
   "version": "3.7.3"
  },
  "toc": {
   "base_numbering": 1,
   "nav_menu": {},
   "number_sections": true,
   "sideBar": true,
   "skip_h1_title": true,
   "title_cell": "Table of Contents",
   "title_sidebar": "Contents",
   "toc_cell": false,
   "toc_position": {},
   "toc_section_display": true,
   "toc_window_display": true
  }
 },
 "nbformat": 4,
 "nbformat_minor": 1
}
