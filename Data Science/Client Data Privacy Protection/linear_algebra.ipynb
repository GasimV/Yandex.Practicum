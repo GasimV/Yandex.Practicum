{
 "cells": [
  {
   "cell_type": "markdown",
   "metadata": {
    "toc": true
   },
   "source": [
    "<h1>Содержание<span class=\"tocSkip\"></span></h1>\n",
    "<div class=\"toc\"><ul class=\"toc-item\"><li><span><a href=\"#Загрузка-данных\" data-toc-modified-id=\"Загрузка-данных-1\"><span class=\"toc-item-num\">1&nbsp;&nbsp;</span>Загрузка данных</a></span></li><li><span><a href=\"#Умножение-матриц\" data-toc-modified-id=\"Умножение-матриц-2\"><span class=\"toc-item-num\">2&nbsp;&nbsp;</span>Умножение матриц</a></span></li><li><span><a href=\"#Алгоритм-преобразования\" data-toc-modified-id=\"Алгоритм-преобразования-3\"><span class=\"toc-item-num\">3&nbsp;&nbsp;</span>Алгоритм преобразования</a></span></li><li><span><a href=\"#Проверка-алгоритма\" data-toc-modified-id=\"Проверка-алгоритма-4\"><span class=\"toc-item-num\">4&nbsp;&nbsp;</span>Проверка алгоритма</a></span></li><li><span><a href=\"#Чек-лист-проверки\" data-toc-modified-id=\"Чек-лист-проверки-5\"><span class=\"toc-item-num\">5&nbsp;&nbsp;</span>Чек-лист проверки</a></span></li></ul></div>"
   ]
  },
  {
   "cell_type": "markdown",
   "metadata": {},
   "source": [
    "# Защита персональных данных клиентов"
   ]
  },
  {
   "cell_type": "markdown",
   "metadata": {},
   "source": [
    "Вам нужно защитить данные клиентов страховой компании «Хоть потоп». Разработайте такой метод преобразования данных, чтобы по ним было сложно восстановить персональную информацию. Обоснуйте корректность его работы.\n",
    "\n",
    "Нужно защитить данные, чтобы при преобразовании качество моделей машинного обучения не ухудшилось. Подбирать наилучшую модель не требуется."
   ]
  },
  {
   "cell_type": "markdown",
   "metadata": {},
   "source": [
    "## Загрузка данных"
   ]
  },
  {
   "cell_type": "code",
   "execution_count": 1,
   "metadata": {},
   "outputs": [],
   "source": [
    "import pandas as pd\n",
    "from numpy.linalg import inv\n",
    "from numpy.random import randn\n",
    "from sklearn.linear_model import LinearRegression\n",
    "from sklearn.metrics import r2_score\n",
    "from sklearn.model_selection import train_test_split\n",
    "import numpy as np\n",
    "from sklearn.base import BaseEstimator, TransformerMixin\n",
    "from sklearn.pipeline import Pipeline"
   ]
  },
  {
   "cell_type": "code",
   "execution_count": 2,
   "metadata": {},
   "outputs": [],
   "source": [
    "data = pd.read_csv(\"/datasets/insurance.csv\")"
   ]
  },
  {
   "cell_type": "code",
   "execution_count": 3,
   "metadata": {},
   "outputs": [
    {
     "data": {
      "text/html": [
       "<div>\n",
       "<style scoped>\n",
       "    .dataframe tbody tr th:only-of-type {\n",
       "        vertical-align: middle;\n",
       "    }\n",
       "\n",
       "    .dataframe tbody tr th {\n",
       "        vertical-align: top;\n",
       "    }\n",
       "\n",
       "    .dataframe thead th {\n",
       "        text-align: right;\n",
       "    }\n",
       "</style>\n",
       "<table border=\"1\" class=\"dataframe\">\n",
       "  <thead>\n",
       "    <tr style=\"text-align: right;\">\n",
       "      <th></th>\n",
       "      <th>Пол</th>\n",
       "      <th>Возраст</th>\n",
       "      <th>Зарплата</th>\n",
       "      <th>Члены семьи</th>\n",
       "      <th>Страховые выплаты</th>\n",
       "    </tr>\n",
       "  </thead>\n",
       "  <tbody>\n",
       "    <tr>\n",
       "      <th>0</th>\n",
       "      <td>1</td>\n",
       "      <td>41.0</td>\n",
       "      <td>49600.0</td>\n",
       "      <td>1</td>\n",
       "      <td>0</td>\n",
       "    </tr>\n",
       "    <tr>\n",
       "      <th>1</th>\n",
       "      <td>0</td>\n",
       "      <td>46.0</td>\n",
       "      <td>38000.0</td>\n",
       "      <td>1</td>\n",
       "      <td>1</td>\n",
       "    </tr>\n",
       "    <tr>\n",
       "      <th>2</th>\n",
       "      <td>0</td>\n",
       "      <td>29.0</td>\n",
       "      <td>21000.0</td>\n",
       "      <td>0</td>\n",
       "      <td>0</td>\n",
       "    </tr>\n",
       "    <tr>\n",
       "      <th>3</th>\n",
       "      <td>0</td>\n",
       "      <td>21.0</td>\n",
       "      <td>41700.0</td>\n",
       "      <td>2</td>\n",
       "      <td>0</td>\n",
       "    </tr>\n",
       "    <tr>\n",
       "      <th>4</th>\n",
       "      <td>1</td>\n",
       "      <td>28.0</td>\n",
       "      <td>26100.0</td>\n",
       "      <td>0</td>\n",
       "      <td>0</td>\n",
       "    </tr>\n",
       "  </tbody>\n",
       "</table>\n",
       "</div>"
      ],
      "text/plain": [
       "   Пол  Возраст  Зарплата  Члены семьи  Страховые выплаты\n",
       "0    1     41.0   49600.0            1                  0\n",
       "1    0     46.0   38000.0            1                  1\n",
       "2    0     29.0   21000.0            0                  0\n",
       "3    0     21.0   41700.0            2                  0\n",
       "4    1     28.0   26100.0            0                  0"
      ]
     },
     "execution_count": 3,
     "metadata": {},
     "output_type": "execute_result"
    }
   ],
   "source": [
    "data.head()"
   ]
  },
  {
   "cell_type": "code",
   "execution_count": 4,
   "metadata": {},
   "outputs": [
    {
     "name": "stdout",
     "output_type": "stream",
     "text": [
      "<class 'pandas.core.frame.DataFrame'>\n",
      "RangeIndex: 5000 entries, 0 to 4999\n",
      "Data columns (total 5 columns):\n",
      " #   Column             Non-Null Count  Dtype  \n",
      "---  ------             --------------  -----  \n",
      " 0   Пол                5000 non-null   int64  \n",
      " 1   Возраст            5000 non-null   float64\n",
      " 2   Зарплата           5000 non-null   float64\n",
      " 3   Члены семьи        5000 non-null   int64  \n",
      " 4   Страховые выплаты  5000 non-null   int64  \n",
      "dtypes: float64(2), int64(3)\n",
      "memory usage: 195.4 KB\n"
     ]
    }
   ],
   "source": [
    "data.info()"
   ]
  },
  {
   "cell_type": "code",
   "execution_count": 5,
   "metadata": {},
   "outputs": [
    {
     "data": {
      "text/html": [
       "<div>\n",
       "<style scoped>\n",
       "    .dataframe tbody tr th:only-of-type {\n",
       "        vertical-align: middle;\n",
       "    }\n",
       "\n",
       "    .dataframe tbody tr th {\n",
       "        vertical-align: top;\n",
       "    }\n",
       "\n",
       "    .dataframe thead th {\n",
       "        text-align: right;\n",
       "    }\n",
       "</style>\n",
       "<table border=\"1\" class=\"dataframe\">\n",
       "  <thead>\n",
       "    <tr style=\"text-align: right;\">\n",
       "      <th></th>\n",
       "      <th>Пол</th>\n",
       "      <th>Возраст</th>\n",
       "      <th>Зарплата</th>\n",
       "      <th>Члены семьи</th>\n",
       "      <th>Страховые выплаты</th>\n",
       "    </tr>\n",
       "  </thead>\n",
       "  <tbody>\n",
       "    <tr>\n",
       "      <th>count</th>\n",
       "      <td>5000.000000</td>\n",
       "      <td>5000.000000</td>\n",
       "      <td>5000.000000</td>\n",
       "      <td>5000.000000</td>\n",
       "      <td>5000.000000</td>\n",
       "    </tr>\n",
       "    <tr>\n",
       "      <th>mean</th>\n",
       "      <td>0.499000</td>\n",
       "      <td>30.952800</td>\n",
       "      <td>39916.360000</td>\n",
       "      <td>1.194200</td>\n",
       "      <td>0.148000</td>\n",
       "    </tr>\n",
       "    <tr>\n",
       "      <th>std</th>\n",
       "      <td>0.500049</td>\n",
       "      <td>8.440807</td>\n",
       "      <td>9900.083569</td>\n",
       "      <td>1.091387</td>\n",
       "      <td>0.463183</td>\n",
       "    </tr>\n",
       "    <tr>\n",
       "      <th>min</th>\n",
       "      <td>0.000000</td>\n",
       "      <td>18.000000</td>\n",
       "      <td>5300.000000</td>\n",
       "      <td>0.000000</td>\n",
       "      <td>0.000000</td>\n",
       "    </tr>\n",
       "    <tr>\n",
       "      <th>25%</th>\n",
       "      <td>0.000000</td>\n",
       "      <td>24.000000</td>\n",
       "      <td>33300.000000</td>\n",
       "      <td>0.000000</td>\n",
       "      <td>0.000000</td>\n",
       "    </tr>\n",
       "    <tr>\n",
       "      <th>50%</th>\n",
       "      <td>0.000000</td>\n",
       "      <td>30.000000</td>\n",
       "      <td>40200.000000</td>\n",
       "      <td>1.000000</td>\n",
       "      <td>0.000000</td>\n",
       "    </tr>\n",
       "    <tr>\n",
       "      <th>75%</th>\n",
       "      <td>1.000000</td>\n",
       "      <td>37.000000</td>\n",
       "      <td>46600.000000</td>\n",
       "      <td>2.000000</td>\n",
       "      <td>0.000000</td>\n",
       "    </tr>\n",
       "    <tr>\n",
       "      <th>max</th>\n",
       "      <td>1.000000</td>\n",
       "      <td>65.000000</td>\n",
       "      <td>79000.000000</td>\n",
       "      <td>6.000000</td>\n",
       "      <td>5.000000</td>\n",
       "    </tr>\n",
       "  </tbody>\n",
       "</table>\n",
       "</div>"
      ],
      "text/plain": [
       "               Пол      Возраст      Зарплата  Члены семьи  Страховые выплаты\n",
       "count  5000.000000  5000.000000   5000.000000  5000.000000        5000.000000\n",
       "mean      0.499000    30.952800  39916.360000     1.194200           0.148000\n",
       "std       0.500049     8.440807   9900.083569     1.091387           0.463183\n",
       "min       0.000000    18.000000   5300.000000     0.000000           0.000000\n",
       "25%       0.000000    24.000000  33300.000000     0.000000           0.000000\n",
       "50%       0.000000    30.000000  40200.000000     1.000000           0.000000\n",
       "75%       1.000000    37.000000  46600.000000     2.000000           0.000000\n",
       "max       1.000000    65.000000  79000.000000     6.000000           5.000000"
      ]
     },
     "execution_count": 5,
     "metadata": {},
     "output_type": "execute_result"
    }
   ],
   "source": [
    "data.describe()"
   ]
  },
  {
   "cell_type": "markdown",
   "metadata": {},
   "source": [
    "## Умножение матриц"
   ]
  },
  {
   "cell_type": "markdown",
   "metadata": {},
   "source": [
    "В этом задании вы можете записывать формулы в *Jupyter Notebook.*\n",
    "\n",
    "Чтобы записать формулу внутри текста, окружите её символами доллара \\\\$; если снаружи —  двойными символами \\\\$\\\\$. Эти формулы записываются на языке вёрстки *LaTeX.* \n",
    "\n",
    "Для примера мы записали формулы линейной регрессии. Можете их скопировать и отредактировать, чтобы решить задачу.\n",
    "\n",
    "Работать в *LaTeX* необязательно."
   ]
  },
  {
   "cell_type": "markdown",
   "metadata": {},
   "source": [
    "Обозначения:\n",
    "\n",
    "- $X$ — матрица признаков (нулевой столбец состоит из единиц)\n",
    "\n",
    "- $y$ — вектор целевого признака\n",
    "\n",
    "- $P$ — матрица, на которую умножаются признаки\n",
    "\n",
    "- $w$ — вектор весов линейной регрессии (нулевой элемент равен сдвигу)"
   ]
  },
  {
   "cell_type": "markdown",
   "metadata": {},
   "source": [
    "Предсказания:\n",
    "\n",
    "$$\n",
    "a = Xw\n",
    "$$\n",
    "\n",
    "Задача обучения:\n",
    "\n",
    "$$\n",
    "w = \\arg\\min_w MSE(Xw, y)\n",
    "$$\n",
    "\n",
    "Формула обучения:\n",
    "\n",
    "$$\n",
    "w = (X^T X)^{-1} X^T y\n",
    "$$"
   ]
  },
  {
   "cell_type": "markdown",
   "metadata": {},
   "source": [
    "**Ответ:** Нет, качество линейной регрессии не изменится.\n",
    "\n",
    "**Обоснование:** Линейная регрессия — это метод моделирования связи между зависимой переменной (целевой) и одной или несколькими независимыми переменными (признаками). В модели предполагается, что связь между переменными является линейной, т. е. уравнение модели имеет вид:\n",
    "\n",
    "$$\n",
    "y=Xβ+ε\n",
    "$$\n",
    "\n",
    "где:\n",
    "\n",
    "- y — целевой столбец,\n",
    "- Х — матрица признаков,\n",
    "- β — вектор параметров, которые модель пытается изучить,\n",
    "- ε — смещение (или ошибка).\n",
    "\n",
    "Если мы умножим признаки $X$ на обратимую матрицу $P$, мы получим новую матрицу признаков $X'$, где $X'=XP$. Вопрос в том, изменится ли качество линейной регрессии, если ее переобучить с помощью $X′$ вместо $X$.\n",
    "\n",
    "Параметры линейной регрессии для $X'$ будут следующими: $β'=(X'^TX')^{-1}X'^Ty=(P^TX^TXP)^{-1}P^TX^Ty=P^{-1}β$, где $β$ - параметры исходной задачи.\n",
    "\n",
    "Таким образом, хотя параметры линейной регрессии $β$ изменятся на $β′$, прогнозы, сделанные моделью, не изменятся. Это связано с тем, что когда мы делаем прогноз с помощью $X′$ и $β′$, мы получаем $X′β′=XP(P^{-1}β)=Xβ$, что является тем же прогнозом, который мы получили бы с $X$ и $β$."
   ]
  },
  {
   "cell_type": "markdown",
   "metadata": {},
   "source": [
    "## Алгоритм преобразования"
   ]
  },
  {
   "cell_type": "markdown",
   "metadata": {},
   "source": [
    "**Алгоритм**\n",
    "\n",
    "Задача требует от нас предложить алгоритм преобразования данных, затрудняющий восстановление личной информации. Один из способов добиться этого — использовать технику под названием «Матричное маскирование». Вот как это работает:\n",
    "\n",
    "- **Шаг 1 - Сгенерируем обратимую матрицу $P$:** Для этого мы сначала инициализируем случайную квадратную матрицу того же размера, что и количество признаков в нашем наборе данных. Мы используем функцию random.rand numpy, чтобы заполнить эту матрицу случайными числами. Однако нам нужно убедиться, что эта матрица обратима. Квадратная матрица обратима тогда и только тогда, когда ее ранг равен количеству ее строк (или столбцов). Итак, мы проверяем ранг сгенерированной матрицы, используя функцию linalg.matrix_rank numpy. Если ранг меньше числа признаков, это означает, что матрица необратима. В этом случае мы генерируем новую случайную матрицу. *Мы повторяем этот процесс, пока не получим матрицу полного ранга, которая гарантированно будет обратимой.* **Этот процесс реализован в цикле while**, который продолжает генерировать новые матрицы до тех пор, пока не будет найдена обратимая. Вероятность того, что случайно сгенерированная квадратная матрица необратима, практически равна нулю, поэтому ожидается, что этот цикл будет выполняться только несколько раз, если вообще будет выполнен, прежде чем будет найдена обратимая матрица.\n",
    "\n",
    "- **Шаг 2 - Умножаем матрицу признаков $X$ на матрицу $P$**: На этом шаге исходный набор данных преобразуется таким образом, что его трудно восстановить без знания матрицы $P$. Если мы сохраним $P$ в секрете, злоумышленнику будет трудно восстановить исходные данные из преобразованных данных."
   ]
  },
  {
   "cell_type": "markdown",
   "metadata": {},
   "source": [
    "Также существует несколько других способов создания обратимой матрицы:\n",
    "\n",
    "1. **Единичная матрица**: самый простой пример — матрица идентичности. Это квадратная матрица, в которой все элементы главной диагонали равны единицам, а все остальные элементы — нулям. Единичная матрица любого размера всегда обратима.\n",
    "\n",
    "2. **Диагональная матрица с ненулевыми диагональными элементами**: диагональная матрица (все недиагональные элементы равны нулю) со всеми ненулевыми диагональными элементами обратима. Обратная такой матрице - это просто диагональная матрица с обратной величиной каждого диагонального элемента исходной матрицы на ее диагонали.\n",
    "\n",
    "3. **Ортогональные матрицы**: Ортогональная матрица — это тип квадратной матрицы, столбцы и строки которой являются ортогональными единичными векторами. Ортогональные матрицы всегда обратимы, и, что интересно, обратной ортогональной матрицей является ее транспонирование.\n",
    "\n",
    "4. **Случайная матрица с полным рангом**: Как уже было сказано выше, мы можем сгенерировать квадратную матрицу со случайными числами. Пока матрица имеет полный ранг (т. е. все строки и столбцы линейно независимы), она обратима. На практике вероятность случайного создания квадратной матрицы, которая не имеет полного ранга, практически равна нулю.\n",
    "\n",
    "<font color='green'>Для преобразования данных в этой задаче мы можем придерживаться метода генерации случайной квадратной матрицы. Это просто, с большой вероятностью получится обратимая матрица, а случайность добавляет дополнительный уровень безопасности для защиты данных.</font>"
   ]
  },
  {
   "cell_type": "markdown",
   "metadata": {},
   "source": [
    "**Обоснование**\n",
    "\n",
    "- Умножение матрицы признаков на обратимую матрицу приводит к преобразованию набора данных, которое трудно обратить вспять, не зная матрицы $P$. Если $P$ хранится в секрете, злоумышленнику становится трудно восстановить исходные данные из $X'$.\n",
    "\n",
    "- Причина, по которой качество линейной регрессии не изменится, связана со свойствами моделей линейной регрессии. Как объяснялось в предыдущем ответе, когда мы умножаем признаки на обратимую матрицу, параметры модели линейной регрессии изменяются таким образом, что прогнозы, сделанные моделью, остаются прежними. Следовательно, производительность модели линейной регрессии (измеряемая такими показателями, как R2) не изменится.\n",
    "\n",
    "- Это свойство моделей линейной регрессии позволяет нам использовать матричную маскировку в качестве механизма защиты данных, не жертвуя полезностью данных для целей машинного обучения."
   ]
  },
  {
   "cell_type": "markdown",
   "metadata": {},
   "source": [
    "## Проверка алгоритма"
   ]
  },
  {
   "cell_type": "code",
   "execution_count": 6,
   "metadata": {},
   "outputs": [
    {
     "data": {
      "text/plain": [
       "(0.43686949231379935, 0.4368694923138293)"
      ]
     },
     "execution_count": 6,
     "metadata": {},
     "output_type": "execute_result"
    }
   ],
   "source": [
    "# Отделим признаки и целевую переменную\n",
    "features = data.drop('Страховые выплаты', axis=1)\n",
    "target = data['Страховые выплаты']\n",
    "\n",
    "# Разделим данные на обучающие и тестовые наборы\n",
    "features_train, features_test, target_train, target_test = train_test_split(\n",
    "    features, target, test_size=0.2, random_state=42)\n",
    "\n",
    "# Подгонка модели линейной регрессии к обучающим данным\n",
    "model = LinearRegression()\n",
    "model.fit(features_train, target_train)\n",
    "\n",
    "# Сделаем прогнозы и вычислим метрику R2 на тестовом наборе\n",
    "predictions = model.predict(features_test)\n",
    "r2_before = r2_score(target_test, predictions)\n",
    "\n",
    "# Создадим случайную квадратную матрицу, которая является обратимой\n",
    "random_state = np.random.RandomState(42)\n",
    "P = random_state.rand(features_train.shape[1], features_train.shape[1])\n",
    "while np.linalg.matrix_rank(P) < features_train.shape[1]:\n",
    "    P = random_state.rand(features_train.shape[1], features_train.shape[1])\n",
    "\n",
    "# Преобразуем признаки, умножив их на матрицу P\n",
    "transformed_features_train = features_train @ P\n",
    "transformed_features_test = features_test @ P\n",
    "\n",
    "# Подгонка модели линейной регрессии на преобразованных данных\n",
    "transformed_model = LinearRegression()\n",
    "transformed_model.fit(transformed_features_train, target_train)\n",
    "\n",
    "# Сделаем прогнозы и вычислим метрику R2 на преобразованном тестовом наборе\n",
    "transformed_predictions = transformed_model.predict(transformed_features_test)\n",
    "r2_after = r2_score(target_test, transformed_predictions)\n",
    "\n",
    "r2_before, r2_after"
   ]
  },
  {
   "cell_type": "markdown",
   "metadata": {},
   "source": [
    "**Оценка R2 модели линейной регрессии до преобразования данных составляла примерно 0.437. После преобразования данных путем умножения признаков на обратимую матрицу показатель R2 остался примерно таким же (0.437).**\n",
    "\n",
    "**Этот результат подтверждает наш предыдущий теоретический анализ: преобразование пространства признаков путем умножения на обратимую матрицу не влияет на прогностическую эффективность модели линейной регрессии. Таким образом, предлагаемый алгоритм преобразования данных является допустимым методом защиты конфиденциальной информации в наборе данных без ущерба для полезности данных для задач машинного обучения.**"
   ]
  },
  {
   "cell_type": "code",
   "execution_count": 7,
   "metadata": {},
   "outputs": [
    {
     "data": {
      "text/plain": [
       "(0.43686949231379935, 0.4368694923138293, 0.4368694923138293)"
      ]
     },
     "execution_count": 7,
     "metadata": {},
     "output_type": "execute_result"
    }
   ],
   "source": [
    "# Пользовательский трансформер для преобразования данных\n",
    "class MatrixTransformer(BaseEstimator, TransformerMixin):\n",
    "    def __init__(self, feature_names):\n",
    "        self.feature_names = feature_names\n",
    "        self.P = None\n",
    "\n",
    "    def fit(self, X, y=None):\n",
    "        random_state = np.random.RandomState(42)\n",
    "        self.P = random_state.rand(len(self.feature_names), len(self.feature_names))\n",
    "        while np.linalg.matrix_rank(self.P) < len(self.feature_names):\n",
    "            self.P = random_state.rand(len(self.feature_names), len(self.feature_names))\n",
    "        return self\n",
    "\n",
    "    def transform(self, X):\n",
    "        return X @ self.P\n",
    "\n",
    "# Конвейер для преобразования данных и линейной регрессии\n",
    "pipe_crypto = Pipeline([\n",
    "     ('transformer', MatrixTransformer(features.columns)),\n",
    "     ('model', LinearRegression()),\n",
    "])\n",
    "\n",
    "# Подгонка конвейера к обучающим данным\n",
    "pipe_crypto.fit(features_train, target_train)\n",
    "\n",
    "# Сделаем прогнозы на тестовом наборе\n",
    "pipeline_predictions = pipe_crypto.predict(features_test)\n",
    "\n",
    "# Рассчитаем метрику R2\n",
    "r2_pipeline = r2_score(target_test, pipeline_predictions)\n",
    "\n",
    "r2_before, r2_after, r2_pipeline"
   ]
  },
  {
   "cell_type": "code",
   "execution_count": null,
   "metadata": {},
   "outputs": [],
   "source": []
  }
 ],
 "metadata": {
  "ExecuteTimeLog": [
   {
    "duration": 404,
    "start_time": "2023-07-20T17:11:31.489Z"
   },
   {
    "duration": 123,
    "start_time": "2023-07-20T17:11:50.833Z"
   },
   {
    "duration": 85,
    "start_time": "2023-07-20T17:12:27.287Z"
   },
   {
    "duration": 22,
    "start_time": "2023-07-20T17:12:33.616Z"
   },
   {
    "duration": 11,
    "start_time": "2023-07-20T17:12:41.742Z"
   },
   {
    "duration": 10,
    "start_time": "2023-07-20T17:13:08.542Z"
   },
   {
    "duration": 25,
    "start_time": "2023-07-20T17:13:16.065Z"
   },
   {
    "duration": 863,
    "start_time": "2023-07-20T18:00:08.810Z"
   },
   {
    "duration": 75,
    "start_time": "2023-07-20T18:00:18.178Z"
   },
   {
    "duration": 22,
    "start_time": "2023-07-20T18:00:57.814Z"
   },
   {
    "duration": 2700,
    "start_time": "2023-07-20T18:29:01.841Z"
   },
   {
    "duration": 86,
    "start_time": "2023-07-20T18:29:04.543Z"
   },
   {
    "duration": 17,
    "start_time": "2023-07-20T18:29:04.631Z"
   },
   {
    "duration": 13,
    "start_time": "2023-07-20T18:29:04.650Z"
   },
   {
    "duration": 26,
    "start_time": "2023-07-20T18:29:04.665Z"
   },
   {
    "duration": 21,
    "start_time": "2023-07-20T18:29:04.693Z"
   },
   {
    "duration": 1087,
    "start_time": "2023-07-21T19:02:39.721Z"
   },
   {
    "duration": 99,
    "start_time": "2023-07-21T19:02:40.810Z"
   },
   {
    "duration": 14,
    "start_time": "2023-07-21T19:02:40.911Z"
   },
   {
    "duration": 10,
    "start_time": "2023-07-21T19:02:40.927Z"
   },
   {
    "duration": 33,
    "start_time": "2023-07-21T19:02:40.939Z"
   },
   {
    "duration": 20,
    "start_time": "2023-07-21T19:02:40.973Z"
   },
   {
    "duration": 13,
    "start_time": "2023-07-21T19:02:40.995Z"
   }
  ],
  "kernelspec": {
   "display_name": "Python 3",
   "language": "python",
   "name": "python3"
  },
  "language_info": {
   "codemirror_mode": {
    "name": "ipython",
    "version": 3
   },
   "file_extension": ".py",
   "mimetype": "text/x-python",
   "name": "python",
   "nbconvert_exporter": "python",
   "pygments_lexer": "ipython3",
   "version": "3.7.3"
  },
  "toc": {
   "base_numbering": 1,
   "nav_menu": {},
   "number_sections": true,
   "sideBar": true,
   "skip_h1_title": true,
   "title_cell": "Содержание",
   "title_sidebar": "Contents",
   "toc_cell": true,
   "toc_position": {},
   "toc_section_display": true,
   "toc_window_display": false
  }
 },
 "nbformat": 4,
 "nbformat_minor": 2
}
