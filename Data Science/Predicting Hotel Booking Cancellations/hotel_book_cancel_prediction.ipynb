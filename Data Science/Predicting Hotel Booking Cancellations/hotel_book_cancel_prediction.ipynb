{
 "cells": [
  {
   "cell_type": "markdown",
   "metadata": {},
   "source": [
    "# Прогнозирование оттока клиентов в сети отелей «Как в гостях»"
   ]
  },
  {
   "cell_type": "markdown",
   "metadata": {},
   "source": [
    "### Введение\n",
    "\n",
    "**Описание проекта:**\n",
    "\n",
    "- Заказчик этого исследования — сеть отелей «Как в гостях». Чтобы привлечь клиентов, эта сеть отелей добавила на свой сайт возможность забронировать номер без предоплаты. Однако если клиент отменял бронирование, то компания терпела убытки. Сотрудники отеля могли, например, закупить продукты к приезду гостя или просто не успеть найти другого клиента.\n",
    "\n",
    "**Цель проекта:**\n",
    "\n",
    "- Чтобы решить эту проблему, нужно разработать систему, которая предсказывает отказ от брони. Если модель покажет, что бронь будет отменена, то клиенту предлагается внести депозит. Размер депозита — 80% от стоимости номера за одни сутки и затрат на разовую уборку. Деньги будут списаны со счёта клиента, если он всё же отменит бронь.\n",
    "\n",
    "**Бизнес-метрика и другие данные:**\n",
    "\n",
    "- Основная бизнес-метрика для любой сети отелей — её прибыль. Прибыль отеля — это разница между стоимостью номера за все ночи и затраты на обслуживание: как при подготовке номера, так и при проживании постояльца. В отеле есть несколько типов номеров. В зависимости от типа номера назначается стоимость за одну ночь. Есть также затраты на уборку. Если клиент снял номер надолго, то убираются каждые два дня. \n",
    "\n",
    "- Стоимость номеров отеля:  \n",
    "• категория A: за ночь — 1 000, разовое обслуживание — 400;  \n",
    "• категория B: за ночь — 800, разовое обслуживание — 350;  \n",
    "• категория C: за ночь — 600, разовое обслуживание — 350;  \n",
    "• категория D: за ночь — 550, разовое обслуживание — 150;  \n",
    "• категория E: за ночь — 500, разовое обслуживание — 150;  \n",
    "• категория F: за ночь — 450, разовое обслуживание — 150;  \n",
    "• категория G: за ночь — 350, разовое обслуживание — 150.  \n",
    "\n",
    "- В ценовой политике отеля используются сезонные коэффициенты: весной и осенью цены повышаются на 20%, летом — на 40%.\n",
    "Убытки отеля в случае отмены брони номера — это стоимость одной уборки и одной ночи с учётом сезонного коэффициента.\n",
    "На разработку системы прогнозирования заложен бюджет — 400 000. При этом необходимо учесть, что внедрение модели должно окупиться за тестовый период. Затраты на разработку должны быть меньше той выручки, которую система принесёт компании.\n",
    "\n",
    "**Описание данных:**\n",
    "\n",
    "В таблицах hotel_train и hotel_test содержатся одинаковые столбцы:  \n",
    "•\tid — номер записи;  \n",
    "•\tadults  — количество взрослых постояльцев;  \n",
    "•\tarrival_date_year — год заезда;  \n",
    "•\tarrival_date_month — месяц заезда;  \n",
    "•\tarrival_date_week_number — неделя заезда;  \n",
    "•\tarrival_date_day_of_month — день заезда;  \n",
    "•\tbabies — количество младенцев;  \n",
    "•\tbooking_changes — количество изменений параметров заказа;  \n",
    "•\tchildren — количество детей от 3 до 14 лет;  \n",
    "•\tcountry — гражданство постояльца;  \n",
    "•\tcustomer_type  — тип заказчика:  \n",
    "- Contract — договор с юридическим лицом;  \n",
    "- Group — групповой заезд;  \n",
    "- Transient — не связано с договором или групповым заездом;  \n",
    "- Transient-party — не связано с договором или групповым заездом, но связано с бронированием типа Transient.  \n",
    "\n",
    "•\tdays_in_waiting_list — сколько дней заказ ожидал подтверждения;  \n",
    "•\tdistribution_channel — канал дистрибуции заказа;  \n",
    "•\tis_canceled — отмена заказа;  \n",
    "•\tis_repeated_guest — признак того, что гость бронирует номер второй раз;  \n",
    "•\tlead_time — количество дней между датой бронирования и датой прибытия;  \n",
    "•\tmeal — опции заказа:  \n",
    "- SC — нет дополнительных опций;  \n",
    "- BB — включён завтрак;  \n",
    "- HB — включён завтрак и обед;  \n",
    "- FB — включён завтрак, обед и ужин.  \n",
    "\n",
    "•\tprevious_bookings_not_canceled — количество подтверждённых заказов у клиента;  \n",
    "•\tprevious_cancellations — количество отменённых заказов у клиента;  \n",
    "•\trequired_car_parking_spaces — необходимость места для автомобиля;  \n",
    "•\treserved_room_type — тип забронированной комнаты;  \n",
    "•\tstays_in_weekend_nights — количество ночей в выходные дни;  \n",
    "•\tstays_in_week_nights — количество ночей в будние дни;  \n",
    "•\ttotal_nights — общее количество ночей;  \n",
    "•\ttotal_of_special_requests — количество специальных отметок.  \n",
    "\n",
    "**Целевой переменной является \"is_canceled\"**, которая является двоичной и принимает значения 0 или 1, указывая, было ли бронирование отменено или нет."
   ]
  },
  {
   "cell_type": "markdown",
   "metadata": {},
   "source": [
    "### Шаг 1. Откройте файлы с данными"
   ]
  },
  {
   "cell_type": "code",
   "execution_count": 1,
   "metadata": {},
   "outputs": [],
   "source": [
    "# Импортируем необходимые библиотеки\n",
    "import pandas as pd\n",
    "import numpy as np\n",
    "import matplotlib.pyplot as plt\n",
    "import seaborn as sns\n",
    "from datetime import datetime\n",
    "import datetime\n",
    "import math\n",
    "from sklearn.ensemble import RandomForestClassifier\n",
    "from sklearn.linear_model import LogisticRegression\n",
    "from sklearn.tree import DecisionTreeClassifier\n",
    "from sklearn.model_selection import cross_val_score\n",
    "from sklearn.metrics import f1_score\n",
    "from sklearn.compose import ColumnTransformer\n",
    "from sklearn.preprocessing import OneHotEncoder, StandardScaler\n",
    "from sklearn.preprocessing import OrdinalEncoder\n",
    "from sklearn.pipeline import Pipeline\n",
    "from sklearn.impute import SimpleImputer\n",
    "from lightgbm import LGBMClassifier\n",
    "from catboost import CatBoostClassifier\n",
    "from sklearn.model_selection import GridSearchCV\n",
    "import warnings\n",
    "warnings.filterwarnings('ignore')"
   ]
  },
  {
   "cell_type": "code",
   "execution_count": 2,
   "metadata": {},
   "outputs": [],
   "source": [
    "train_data = pd.read_csv('/datasets/hotel_train.csv')\n",
    "test_data = pd.read_csv('/datasets/hotel_test.csv')"
   ]
  },
  {
   "cell_type": "code",
   "execution_count": 3,
   "metadata": {},
   "outputs": [
    {
     "data": {
      "text/html": [
       "<div>\n",
       "<style scoped>\n",
       "    .dataframe tbody tr th:only-of-type {\n",
       "        vertical-align: middle;\n",
       "    }\n",
       "\n",
       "    .dataframe tbody tr th {\n",
       "        vertical-align: top;\n",
       "    }\n",
       "\n",
       "    .dataframe thead th {\n",
       "        text-align: right;\n",
       "    }\n",
       "</style>\n",
       "<table border=\"1\" class=\"dataframe\">\n",
       "  <thead>\n",
       "    <tr style=\"text-align: right;\">\n",
       "      <th></th>\n",
       "      <th>id</th>\n",
       "      <th>is_canceled</th>\n",
       "      <th>lead_time</th>\n",
       "      <th>arrival_date_year</th>\n",
       "      <th>arrival_date_month</th>\n",
       "      <th>arrival_date_week_number</th>\n",
       "      <th>arrival_date_day_of_month</th>\n",
       "      <th>stays_in_weekend_nights</th>\n",
       "      <th>stays_in_week_nights</th>\n",
       "      <th>adults</th>\n",
       "      <th>...</th>\n",
       "      <th>is_repeated_guest</th>\n",
       "      <th>previous_cancellations</th>\n",
       "      <th>previous_bookings_not_canceled</th>\n",
       "      <th>reserved_room_type</th>\n",
       "      <th>booking_changes</th>\n",
       "      <th>days_in_waiting_list</th>\n",
       "      <th>customer_type</th>\n",
       "      <th>required_car_parking_spaces</th>\n",
       "      <th>total_of_special_requests</th>\n",
       "      <th>total_nights</th>\n",
       "    </tr>\n",
       "  </thead>\n",
       "  <tbody>\n",
       "    <tr>\n",
       "      <th>0</th>\n",
       "      <td>0</td>\n",
       "      <td>0</td>\n",
       "      <td>7.0</td>\n",
       "      <td>2015</td>\n",
       "      <td>July</td>\n",
       "      <td>27</td>\n",
       "      <td>1</td>\n",
       "      <td>0</td>\n",
       "      <td>1</td>\n",
       "      <td>1.0</td>\n",
       "      <td>...</td>\n",
       "      <td>0</td>\n",
       "      <td>0</td>\n",
       "      <td>0</td>\n",
       "      <td>A</td>\n",
       "      <td>0</td>\n",
       "      <td>0</td>\n",
       "      <td>Transient</td>\n",
       "      <td>0</td>\n",
       "      <td>0</td>\n",
       "      <td>1</td>\n",
       "    </tr>\n",
       "    <tr>\n",
       "      <th>1</th>\n",
       "      <td>1</td>\n",
       "      <td>0</td>\n",
       "      <td>14.0</td>\n",
       "      <td>2015</td>\n",
       "      <td>July</td>\n",
       "      <td>27</td>\n",
       "      <td>1</td>\n",
       "      <td>0</td>\n",
       "      <td>2</td>\n",
       "      <td>2.0</td>\n",
       "      <td>...</td>\n",
       "      <td>0</td>\n",
       "      <td>0</td>\n",
       "      <td>0</td>\n",
       "      <td>A</td>\n",
       "      <td>0</td>\n",
       "      <td>0</td>\n",
       "      <td>Transient</td>\n",
       "      <td>0</td>\n",
       "      <td>1</td>\n",
       "      <td>2</td>\n",
       "    </tr>\n",
       "    <tr>\n",
       "      <th>2</th>\n",
       "      <td>2</td>\n",
       "      <td>0</td>\n",
       "      <td>0.0</td>\n",
       "      <td>2015</td>\n",
       "      <td>July</td>\n",
       "      <td>27</td>\n",
       "      <td>1</td>\n",
       "      <td>0</td>\n",
       "      <td>2</td>\n",
       "      <td>2.0</td>\n",
       "      <td>...</td>\n",
       "      <td>0</td>\n",
       "      <td>0</td>\n",
       "      <td>0</td>\n",
       "      <td>C</td>\n",
       "      <td>0</td>\n",
       "      <td>0</td>\n",
       "      <td>Transient</td>\n",
       "      <td>0</td>\n",
       "      <td>0</td>\n",
       "      <td>2</td>\n",
       "    </tr>\n",
       "    <tr>\n",
       "      <th>3</th>\n",
       "      <td>3</td>\n",
       "      <td>0</td>\n",
       "      <td>9.0</td>\n",
       "      <td>2015</td>\n",
       "      <td>July</td>\n",
       "      <td>27</td>\n",
       "      <td>1</td>\n",
       "      <td>0</td>\n",
       "      <td>2</td>\n",
       "      <td>2.0</td>\n",
       "      <td>...</td>\n",
       "      <td>0</td>\n",
       "      <td>0</td>\n",
       "      <td>0</td>\n",
       "      <td>C</td>\n",
       "      <td>0</td>\n",
       "      <td>0</td>\n",
       "      <td>Transient</td>\n",
       "      <td>0</td>\n",
       "      <td>1</td>\n",
       "      <td>2</td>\n",
       "    </tr>\n",
       "    <tr>\n",
       "      <th>4</th>\n",
       "      <td>4</td>\n",
       "      <td>1</td>\n",
       "      <td>85.0</td>\n",
       "      <td>2015</td>\n",
       "      <td>July</td>\n",
       "      <td>27</td>\n",
       "      <td>1</td>\n",
       "      <td>0</td>\n",
       "      <td>3</td>\n",
       "      <td>2.0</td>\n",
       "      <td>...</td>\n",
       "      <td>0</td>\n",
       "      <td>0</td>\n",
       "      <td>0</td>\n",
       "      <td>A</td>\n",
       "      <td>0</td>\n",
       "      <td>0</td>\n",
       "      <td>Transient</td>\n",
       "      <td>0</td>\n",
       "      <td>1</td>\n",
       "      <td>3</td>\n",
       "    </tr>\n",
       "  </tbody>\n",
       "</table>\n",
       "<p>5 rows × 25 columns</p>\n",
       "</div>"
      ],
      "text/plain": [
       "   id  is_canceled  lead_time  arrival_date_year arrival_date_month  \\\n",
       "0   0            0        7.0               2015               July   \n",
       "1   1            0       14.0               2015               July   \n",
       "2   2            0        0.0               2015               July   \n",
       "3   3            0        9.0               2015               July   \n",
       "4   4            1       85.0               2015               July   \n",
       "\n",
       "   arrival_date_week_number  arrival_date_day_of_month  \\\n",
       "0                        27                          1   \n",
       "1                        27                          1   \n",
       "2                        27                          1   \n",
       "3                        27                          1   \n",
       "4                        27                          1   \n",
       "\n",
       "   stays_in_weekend_nights  stays_in_week_nights  adults  ...  \\\n",
       "0                        0                     1     1.0  ...   \n",
       "1                        0                     2     2.0  ...   \n",
       "2                        0                     2     2.0  ...   \n",
       "3                        0                     2     2.0  ...   \n",
       "4                        0                     3     2.0  ...   \n",
       "\n",
       "   is_repeated_guest  previous_cancellations previous_bookings_not_canceled  \\\n",
       "0                  0                       0                              0   \n",
       "1                  0                       0                              0   \n",
       "2                  0                       0                              0   \n",
       "3                  0                       0                              0   \n",
       "4                  0                       0                              0   \n",
       "\n",
       "  reserved_room_type booking_changes  days_in_waiting_list  customer_type  \\\n",
       "0   A                              0                     0      Transient   \n",
       "1   A                              0                     0      Transient   \n",
       "2   C                              0                     0      Transient   \n",
       "3   C                              0                     0      Transient   \n",
       "4   A                              0                     0      Transient   \n",
       "\n",
       "   required_car_parking_spaces total_of_special_requests  total_nights  \n",
       "0                            0                         0             1  \n",
       "1                            0                         1             2  \n",
       "2                            0                         0             2  \n",
       "3                            0                         1             2  \n",
       "4                            0                         1             3  \n",
       "\n",
       "[5 rows x 25 columns]"
      ]
     },
     "execution_count": 3,
     "metadata": {},
     "output_type": "execute_result"
    }
   ],
   "source": [
    "train_data.head()"
   ]
  },
  {
   "cell_type": "markdown",
   "metadata": {},
   "source": [
    "### Шаг 2. Предобработка и исследовательский анализ данных"
   ]
  },
  {
   "cell_type": "code",
   "execution_count": 4,
   "metadata": {},
   "outputs": [
    {
     "name": "stdout",
     "output_type": "stream",
     "text": [
      "<class 'pandas.core.frame.DataFrame'>\n",
      "RangeIndex: 65229 entries, 0 to 65228\n",
      "Data columns (total 25 columns):\n",
      " #   Column                          Non-Null Count  Dtype  \n",
      "---  ------                          --------------  -----  \n",
      " 0   id                              65229 non-null  int64  \n",
      " 1   is_canceled                     65229 non-null  int64  \n",
      " 2   lead_time                       65229 non-null  float64\n",
      " 3   arrival_date_year               65229 non-null  int64  \n",
      " 4   arrival_date_month              65229 non-null  object \n",
      " 5   arrival_date_week_number        65229 non-null  int64  \n",
      " 6   arrival_date_day_of_month       65229 non-null  int64  \n",
      " 7   stays_in_weekend_nights         65229 non-null  int64  \n",
      " 8   stays_in_week_nights            65229 non-null  int64  \n",
      " 9   adults                          65229 non-null  float64\n",
      " 10  children                        65229 non-null  float64\n",
      " 11  babies                          65229 non-null  float64\n",
      " 12  meal                            65229 non-null  object \n",
      " 13  country                         65229 non-null  object \n",
      " 14  distribution_channel            65229 non-null  object \n",
      " 15  is_repeated_guest               65229 non-null  int64  \n",
      " 16  previous_cancellations          65229 non-null  int64  \n",
      " 17  previous_bookings_not_canceled  65229 non-null  int64  \n",
      " 18  reserved_room_type              65229 non-null  object \n",
      " 19  booking_changes                 65229 non-null  int64  \n",
      " 20  days_in_waiting_list            65229 non-null  int64  \n",
      " 21  customer_type                   65229 non-null  object \n",
      " 22  required_car_parking_spaces     65229 non-null  int64  \n",
      " 23  total_of_special_requests       65229 non-null  int64  \n",
      " 24  total_nights                    65229 non-null  int64  \n",
      "dtypes: float64(4), int64(15), object(6)\n",
      "memory usage: 12.4+ MB\n"
     ]
    }
   ],
   "source": [
    "train_data.info()"
   ]
  },
  {
   "cell_type": "code",
   "execution_count": 5,
   "metadata": {},
   "outputs": [
    {
     "name": "stdout",
     "output_type": "stream",
     "text": [
      "<class 'pandas.core.frame.DataFrame'>\n",
      "RangeIndex: 32412 entries, 0 to 32411\n",
      "Data columns (total 25 columns):\n",
      " #   Column                          Non-Null Count  Dtype  \n",
      "---  ------                          --------------  -----  \n",
      " 0   id                              32412 non-null  int64  \n",
      " 1   is_canceled                     32412 non-null  int64  \n",
      " 2   lead_time                       32412 non-null  float64\n",
      " 3   arrival_date_year               32412 non-null  int64  \n",
      " 4   arrival_date_month              32412 non-null  object \n",
      " 5   arrival_date_week_number        32412 non-null  int64  \n",
      " 6   arrival_date_day_of_month       32412 non-null  int64  \n",
      " 7   stays_in_weekend_nights         32412 non-null  int64  \n",
      " 8   stays_in_week_nights            32412 non-null  int64  \n",
      " 9   adults                          32412 non-null  float64\n",
      " 10  children                        32412 non-null  float64\n",
      " 11  babies                          32412 non-null  float64\n",
      " 12  meal                            32412 non-null  object \n",
      " 13  country                         32412 non-null  object \n",
      " 14  distribution_channel            32412 non-null  object \n",
      " 15  is_repeated_guest               32412 non-null  int64  \n",
      " 16  previous_cancellations          32412 non-null  int64  \n",
      " 17  previous_bookings_not_canceled  32412 non-null  int64  \n",
      " 18  reserved_room_type              32412 non-null  object \n",
      " 19  booking_changes                 32412 non-null  int64  \n",
      " 20  days_in_waiting_list            32412 non-null  int64  \n",
      " 21  customer_type                   32412 non-null  object \n",
      " 22  required_car_parking_spaces     32412 non-null  int64  \n",
      " 23  total_of_special_requests       32412 non-null  int64  \n",
      " 24  total_nights                    32412 non-null  int64  \n",
      "dtypes: float64(4), int64(15), object(6)\n",
      "memory usage: 6.2+ MB\n"
     ]
    }
   ],
   "source": [
    "test_data.info()"
   ]
  },
  {
   "cell_type": "markdown",
   "metadata": {},
   "source": [
    "**Из предоставленной информации мы видим, что train_data имеет 65229 записей и 25 столбцов, без пропущенных значений. Типы данных для большинства столбцов кажутся подходящими.**"
   ]
  },
  {
   "cell_type": "code",
   "execution_count": 6,
   "metadata": {},
   "outputs": [
    {
     "name": "stdout",
     "output_type": "stream",
     "text": [
      "Training data summary statistics:\n",
      "                 id   is_canceled     lead_time  arrival_date_year  \\\n",
      "count  65229.000000  65229.000000  65229.000000       65229.000000   \n",
      "mean   43544.069172      0.368609     96.337917        2015.719021   \n",
      "std    25614.858971      0.482431     96.127545           0.449481   \n",
      "min        0.000000      0.000000      0.000000        2015.000000   \n",
      "25%    19108.000000      0.000000     17.000000        2015.000000   \n",
      "50%    40554.000000      0.000000     64.000000        2016.000000   \n",
      "75%    67414.000000      1.000000    151.000000        2016.000000   \n",
      "max    84121.000000      1.000000    374.000000        2016.000000   \n",
      "\n",
      "       arrival_date_week_number  arrival_date_day_of_month  \\\n",
      "count              65229.000000               65229.000000   \n",
      "mean                  31.339772                  15.847813   \n",
      "std                   13.464024                   8.748182   \n",
      "min                    1.000000                   1.000000   \n",
      "25%                   21.000000                   8.000000   \n",
      "50%                   34.000000                  16.000000   \n",
      "75%                   42.000000                  23.000000   \n",
      "max                   53.000000                  31.000000   \n",
      "\n",
      "       stays_in_weekend_nights  stays_in_week_nights        adults  \\\n",
      "count             65229.000000          65229.000000  65229.000000   \n",
      "mean                  0.825185              2.224793      1.836576   \n",
      "std                   0.853477              1.354992      0.480245   \n",
      "min                   0.000000              0.000000      0.000000   \n",
      "25%                   0.000000              1.000000      2.000000   \n",
      "50%                   1.000000              2.000000      2.000000   \n",
      "75%                   2.000000              3.000000      2.000000   \n",
      "max                   4.000000              6.000000      4.000000   \n",
      "\n",
      "           children        babies  is_repeated_guest  previous_cancellations  \\\n",
      "count  65229.000000  65229.000000       65229.000000            65229.000000   \n",
      "mean       0.074890      0.007236           0.027151                0.128915   \n",
      "std        0.334243      0.098790           0.162523                0.965326   \n",
      "min        0.000000      0.000000           0.000000                0.000000   \n",
      "25%        0.000000      0.000000           0.000000                0.000000   \n",
      "50%        0.000000      0.000000           0.000000                0.000000   \n",
      "75%        0.000000      0.000000           0.000000                0.000000   \n",
      "max        3.000000     10.000000           1.000000               26.000000   \n",
      "\n",
      "       previous_bookings_not_canceled  booking_changes  days_in_waiting_list  \\\n",
      "count                    65229.000000     65229.000000          65229.000000   \n",
      "mean                         0.107713         0.194269              3.334422   \n",
      "std                          1.326638         0.593838             18.239606   \n",
      "min                          0.000000         0.000000              0.000000   \n",
      "25%                          0.000000         0.000000              0.000000   \n",
      "50%                          0.000000         0.000000              0.000000   \n",
      "75%                          0.000000         0.000000              0.000000   \n",
      "max                         58.000000        17.000000            259.000000   \n",
      "\n",
      "       required_car_parking_spaces  total_of_special_requests  total_nights  \n",
      "count                 65229.000000               65229.000000  65229.000000  \n",
      "mean                      0.056647                   0.512763      3.049978  \n",
      "std                       0.232094                   0.752590      1.738108  \n",
      "min                       0.000000                   0.000000      1.000000  \n",
      "25%                       0.000000                   0.000000      2.000000  \n",
      "50%                       0.000000                   0.000000      3.000000  \n",
      "75%                       0.000000                   1.000000      4.000000  \n",
      "max                       3.000000                   5.000000     10.000000  \n"
     ]
    }
   ],
   "source": [
    "# Посмотрим на описательную статистику\n",
    "print('Training data summary statistics:')\n",
    "print(train_data.describe())"
   ]
  },
  {
   "cell_type": "code",
   "execution_count": 7,
   "metadata": {},
   "outputs": [],
   "source": [
    "# Удалим столбец arrival_date_year из обоих фреймов данных\n",
    "train_data.drop('arrival_date_year', axis=1, inplace=True)\n",
    "test_data.drop('arrival_date_year', axis=1, inplace=True)"
   ]
  },
  {
   "cell_type": "code",
   "execution_count": 8,
   "metadata": {},
   "outputs": [],
   "source": [
    "# Исследуем корреляцию признаков и удалим сильно коррелированные.\n",
    "corr_matrix = train_data.corr().abs()\n",
    "upper = corr_matrix.where(np.triu(np.ones(corr_matrix.shape), k=1).astype(np.bool))\n",
    "to_drop = [column for column in upper.columns if any(upper[column] > 0.8)]\n",
    "train_data.drop(to_drop, axis=1, inplace=True)\n",
    "test_data.drop(to_drop, axis=1, inplace=True)"
   ]
  },
  {
   "cell_type": "code",
   "execution_count": 9,
   "metadata": {},
   "outputs": [],
   "source": [
    "# Удалим записи, в которых количество взрослых гостей равно 0.\n",
    "train_data = train_data[train_data['adults'] > 0]\n",
    "test_data = test_data[test_data['adults'] > 0]\n",
    "\n",
    "# Удалим записи, в которых количество детей равно 9 или 10.\n",
    "train_data = train_data[train_data['children'] < 9]\n",
    "test_data = test_data[test_data['children'] < 9]\n",
    "\n",
    "# Обработаем столбец \"meal\", чтобы сопоставить строковые значения с числовыми значениями.\n",
    "meal_mapping = {'BB': 0, 'HB': 1, 'FB': 2, 'SC': 3, 'Undefined': 4}\n",
    "train_data['meal'] = train_data['meal'].str.strip().map(meal_mapping)\n",
    "test_data['meal'] = test_data['meal'].str.strip().map(meal_mapping)"
   ]
  },
  {
   "cell_type": "code",
   "execution_count": 10,
   "metadata": {},
   "outputs": [],
   "source": [
    "# Разделим страны по частям света.\n",
    "def categorize_country(country):\n",
    "    if country in ['PRT', 'ESP', 'GBR', 'IRL', 'FRA', 'BEL', 'NLD', 'CHE', 'DEU', 'AUT', 'ITA', 'SWE', 'DNK', 'NOR', 'FIN']:\n",
    "        return 'Europe'\n",
    "    elif country in ['USA', 'BRA', 'CAN', 'MEX']:\n",
    "        return 'Americas'\n",
    "    elif country in ['AUS', 'NZL']:\n",
    "        return 'Oceania'\n",
    "    elif country in ['ARE', 'ISR', 'KWT', 'SAU']:\n",
    "        return 'Middle East'\n",
    "    elif country in ['CHE', 'TUR', 'EGY']:\n",
    "        return 'Other'\n",
    "    else:\n",
    "        return 'Unknown'"
   ]
  },
  {
   "cell_type": "code",
   "execution_count": 11,
   "metadata": {},
   "outputs": [],
   "source": [
    "train_data['country'] = train_data['country'].apply(categorize_country)\n",
    "test_data['country'] = test_data['country'].apply(categorize_country)"
   ]
  },
  {
   "cell_type": "code",
   "execution_count": 12,
   "metadata": {},
   "outputs": [
    {
     "name": "stdout",
     "output_type": "stream",
     "text": [
      "<class 'pandas.core.frame.DataFrame'>\n",
      "Int64Index: 65063 entries, 0 to 65228\n",
      "Data columns (total 23 columns):\n",
      " #   Column                          Non-Null Count  Dtype  \n",
      "---  ------                          --------------  -----  \n",
      " 0   id                              65063 non-null  int64  \n",
      " 1   is_canceled                     65063 non-null  int64  \n",
      " 2   lead_time                       65063 non-null  float64\n",
      " 3   arrival_date_month              65063 non-null  object \n",
      " 4   arrival_date_week_number        65063 non-null  int64  \n",
      " 5   arrival_date_day_of_month       65063 non-null  int64  \n",
      " 6   stays_in_weekend_nights         65063 non-null  int64  \n",
      " 7   stays_in_week_nights            65063 non-null  int64  \n",
      " 8   adults                          65063 non-null  float64\n",
      " 9   children                        65063 non-null  float64\n",
      " 10  babies                          65063 non-null  float64\n",
      " 11  meal                            65063 non-null  int64  \n",
      " 12  country                         65063 non-null  object \n",
      " 13  distribution_channel            65063 non-null  object \n",
      " 14  is_repeated_guest               65063 non-null  int64  \n",
      " 15  previous_cancellations          65063 non-null  int64  \n",
      " 16  previous_bookings_not_canceled  65063 non-null  int64  \n",
      " 17  reserved_room_type              65063 non-null  object \n",
      " 18  booking_changes                 65063 non-null  int64  \n",
      " 19  days_in_waiting_list            65063 non-null  int64  \n",
      " 20  customer_type                   65063 non-null  object \n",
      " 21  required_car_parking_spaces     65063 non-null  int64  \n",
      " 22  total_of_special_requests       65063 non-null  int64  \n",
      "dtypes: float64(4), int64(14), object(5)\n",
      "memory usage: 11.9+ MB\n"
     ]
    }
   ],
   "source": [
    "train_data.info()"
   ]
  },
  {
   "cell_type": "code",
   "execution_count": 13,
   "metadata": {},
   "outputs": [
    {
     "name": "stdout",
     "output_type": "stream",
     "text": [
      "(65063, 23)\n",
      "(32343, 23)\n"
     ]
    }
   ],
   "source": [
    "print(train_data.shape)\n",
    "print(test_data.shape)"
   ]
  },
  {
   "cell_type": "code",
   "execution_count": 14,
   "metadata": {},
   "outputs": [
    {
     "name": "stdout",
     "output_type": "stream",
     "text": [
      "<class 'pandas.core.frame.DataFrame'>\n",
      "Int64Index: 32343 entries, 0 to 32411\n",
      "Data columns (total 23 columns):\n",
      " #   Column                          Non-Null Count  Dtype  \n",
      "---  ------                          --------------  -----  \n",
      " 0   id                              32343 non-null  int64  \n",
      " 1   is_canceled                     32343 non-null  int64  \n",
      " 2   lead_time                       32343 non-null  float64\n",
      " 3   arrival_date_month              32343 non-null  object \n",
      " 4   arrival_date_week_number        32343 non-null  int64  \n",
      " 5   arrival_date_day_of_month       32343 non-null  int64  \n",
      " 6   stays_in_weekend_nights         32343 non-null  int64  \n",
      " 7   stays_in_week_nights            32343 non-null  int64  \n",
      " 8   adults                          32343 non-null  float64\n",
      " 9   children                        32343 non-null  float64\n",
      " 10  babies                          32343 non-null  float64\n",
      " 11  meal                            32343 non-null  int64  \n",
      " 12  country                         32343 non-null  object \n",
      " 13  distribution_channel            32343 non-null  object \n",
      " 14  is_repeated_guest               32343 non-null  int64  \n",
      " 15  previous_cancellations          32343 non-null  int64  \n",
      " 16  previous_bookings_not_canceled  32343 non-null  int64  \n",
      " 17  reserved_room_type              32343 non-null  object \n",
      " 18  booking_changes                 32343 non-null  int64  \n",
      " 19  days_in_waiting_list            32343 non-null  int64  \n",
      " 20  customer_type                   32343 non-null  object \n",
      " 21  required_car_parking_spaces     32343 non-null  int64  \n",
      " 22  total_of_special_requests       32343 non-null  int64  \n",
      "dtypes: float64(4), int64(14), object(5)\n",
      "memory usage: 5.9+ MB\n"
     ]
    }
   ],
   "source": [
    "test_data.info()"
   ]
  },
  {
   "cell_type": "code",
   "execution_count": 15,
   "metadata": {},
   "outputs": [],
   "source": [
    "# Определим числовые и категориальные признаки.\n",
    "num_features = ['lead_time', 'stays_in_weekend_nights', 'stays_in_week_nights', 'adults', 'children', 'babies', \n",
    "                'previous_cancellations', 'previous_bookings_not_canceled', 'booking_changes', 'days_in_waiting_list', \n",
    "                'required_car_parking_spaces', 'total_of_special_requests']\n",
    "\n",
    "cat_features = ['arrival_date_month', 'arrival_date_week_number', 'arrival_date_day_of_month', 'meal', 'country', \n",
    "                'distribution_channel', 'is_repeated_guest', 'reserved_room_type', 'customer_type']"
   ]
  },
  {
   "cell_type": "markdown",
   "metadata": {},
   "source": [
    "**На основании сводной статистики можно сделать следующие выводы:**\n",
    "\n",
    "1. **Отмены**: в среднем было отменено 37% бронирований.\n",
    "\n",
    "2. **Время выполнения заказа**: Среднее время выполнения заказа (время между бронированием и прибытием) составило 96 дней со стандартным отклонением 96 дней. *Максимальное время выполнения заказа составило 374 дня, что примерно равно 1 году.*\n",
    "\n",
    "3. **Дата прибытия**: данные охватывают 2015 и 2016 годы. Среднее количество недель прибытия составило 31.34 (это означает, что в среднем гости прибывали в течение 31-й или 32-й недели года), а средний день месяца прибытия - 15.85.\n",
    "\n",
    "4. **Продолжительность пребывания**: в среднем гости останавливались на 2.22 рабочих дня и 0.82 ночи на выходные. Средняя продолжительность пребывания составила 3.05 ночи.\n",
    "\n",
    "5. **Гости**: среднее количество взрослых на бронирование составляло 1.83, максимальное количество — 4. Среднее количество детей и младенцев — 0.07 и 0.007 соответственно.\n",
    "\n",
    "6. **Повторный гость**: примерно 2.7% гостей были постоянными гостями.\n",
    "\n",
    "7. **История отмен**: среднее количество предыдущих отмен было 0.13, максимум 26.\n",
    "\n",
    "8. **Изменения в бронировании**: в среднем гости вносили 0.19 изменений за бронирование.\n",
    "\n",
    "9. **Список ожидания**: среднее количество дней, проведенных в списке ожидания, составило 3.33, а максимальное — 259.\n",
    "\n",
    "10. **Особые пожелания**: Среднее количество особых пожеланий от гостей составило 0.51.\n",
    "\n",
    "11. **Парковочные места**: Среднее количество необходимых парковочных мест составило 0.057.\n",
    "\n",
    "В целом данные охватывают двухлетний период со значительной изменчивостью поведения гостей.  \n",
    "\n",
    "**Потенциальные выбросы в данных**:\n",
    "\n",
    "- **Время выполнения заказа**: максимальное время выполнения 374 дня довольно велико по сравнению со средним значением 96 дней. Это может указывать на несколько бронирований, сделанных заблаговременно, возможно, для специальных мероприятий или пикового сезона.\n",
    "\n",
    "- **История отмен**: максимальное количество предыдущих отмен, равное 26, также довольно велико по сравнению со средним значением 0.13. Это может указывать на то, что несколько гостей часто отменяли бронирование, что может быть тревожным сигналом для отеля.\n",
    "\n",
    "- **Список ожидания**: максимальное количество дней, проведенных в списке ожидания, равное 259, значительно выше, чем в среднем 3.33. Это может указывать на несколько исключительных случаев, когда гостям приходилось долго ждать, прежде чем они смогли оформить бронирование.\n",
    "\n",
    "Важно отметить, что выбросы не обязательно означают ошибки в данных, но они могут указывать на необычные или экстремальные значения, требующие дальнейшего изучения.\n",
    "\n",
    "1. Значения в столбце arrival_date_year для тренировочного и тестового датафреймов не совпадают. Поэтому решено удалить этот столбец.\n",
    "2. После исследования корреляции признаков, для линейных моделей сильно коррелирующие признаки были удалены.\n",
    "3. Есть записи, где количество взрослых постояльцев равно 0, они были удалены.\n",
    "4. Были удалены записи, в которых количество детей равно 9 или 10. \n",
    "5. Обработан столбец \"meal\", чтобы сопоставить строковые значения с числовыми значениями.\n",
    "5. В столбце “country” – страны разделены по частям света."
   ]
  },
  {
   "cell_type": "code",
   "execution_count": 16,
   "metadata": {},
   "outputs": [
    {
     "data": {
      "image/png": "[encoded data removed]",
      "text/plain": [
       "<Figure size 1080x1080 with 3 Axes>"
      ]
     },
     "metadata": {
      "needs_background": "light"
     },
     "output_type": "display_data"
    }
   ],
   "source": [
    "fig, axs = plt.subplots(3, 1, figsize=(15, 15))\n",
    "\n",
    "sns.boxplot(x=train_data['lead_time'], ax=axs[0])\n",
    "\n",
    "sns.boxplot(x=train_data['previous_cancellations'], ax=axs[1])\n",
    "\n",
    "sns.boxplot(x=train_data['days_in_waiting_list'], ax=axs[2])\n",
    "\n",
    "\n",
    "plt.show()"
   ]
  },
  {
   "cell_type": "code",
   "execution_count": 17,
   "metadata": {},
   "outputs": [
    {
     "data": {
      "image/png": "[encoded data removed]",
      "text/plain": [
       "<Figure size 1440x720 with 12 Axes>"
      ]
     },
     "metadata": {
      "needs_background": "light"
     },
     "output_type": "display_data"
    }
   ],
   "source": [
    "# Создадим гистограмму\n",
    "train_data[num_features].hist(figsize=(20,10), bins=20)\n",
    "plt.suptitle(\"Гистограмма для числовых признаков\")\n",
    "plt.show()"
   ]
  },
  {
   "cell_type": "code",
   "execution_count": 18,
   "metadata": {},
   "outputs": [
    {
     "data": {
      "image/png": "[encoded data removed]",
      "text/plain": [
       "<Figure size 1080x360 with 4 Axes>"
      ]
     },
     "metadata": {
      "needs_background": "light"
     },
     "output_type": "display_data"
    }
   ],
   "source": [
    "# Выберем столбцы, в которых были подозрения на выбросы\n",
    "num_cols_1 = ['lead_time', 'previous_cancellations', 'days_in_waiting_list']\n",
    "\n",
    "# Создадим гистограмму\n",
    "train_data[num_cols_1].hist(figsize=(15, 5), bins=20)\n",
    "plt.suptitle(\"Гистограмма для числовых признаков\")\n",
    "plt.show()"
   ]
  },
  {
   "cell_type": "code",
   "execution_count": 19,
   "metadata": {},
   "outputs": [
    {
     "data": {
      "image/png": "[encoded data removed]",
      "text/plain": [
       "<Figure size 1080x360 with 1 Axes>"
      ]
     },
     "metadata": {
      "needs_background": "light"
     },
     "output_type": "display_data"
    }
   ],
   "source": [
    "days_in_waiting_list = ['days_in_waiting_list']\n",
    "\n",
    "train_data[days_in_waiting_list].hist(figsize=(15, 5), bins=20)\n",
    "plt.suptitle(\"Гистограмма для списка ожидания\")\n",
    "plt.ylim([-1, 1500])\n",
    "plt.show()"
   ]
  },
  {
   "cell_type": "code",
   "execution_count": 20,
   "metadata": {},
   "outputs": [
    {
     "data": {
      "image/png": "[encoded data removed]",
      "text/plain": [
       "<Figure size 1080x360 with 1 Axes>"
      ]
     },
     "metadata": {
      "needs_background": "light"
     },
     "output_type": "display_data"
    }
   ],
   "source": [
    "previous_cancellations = ['previous_cancellations']\n",
    "\n",
    "train_data[previous_cancellations].hist(figsize=(15, 5), bins=26)\n",
    "plt.suptitle(\"Гистограмма для истории отмен\")\n",
    "plt.xlim([-1, 28])\n",
    "plt.ylim([-1, 100])\n",
    "plt.show()"
   ]
  },
  {
   "cell_type": "markdown",
   "metadata": {},
   "source": [
    "Мы можем подойти к выбросам следующими способами:\n",
    "\n",
    "- **Время выполнения заказа**: максимальное время выполнения 374 дня может указывать на бронирование, сделанное заблаговременно для специальных мероприятий или пиковых сезонов. Эти бронирования по-прежнему действительны и могут дать ценную информацию для стратегии управления доходами отеля. Поэтому, возможно, лучше оставить эти выбросы как есть.\n",
    "\n",
    "- **История отмен**: максимальное количество предыдущих отмен, равное 26, может указывать на несколько гостей с историей частых отмен, что может быть тревожным сигналом для отеля. Отелю, возможно, потребуется провести дополнительное исследование и решить, представляют ли эти гости риск для их бизнеса. Может быть целесообразно удалить эти выбросы, если они считаются нерелевантными или если они искажают понимание, полученное из данных. *Гистограмма распределения истории отмены показывает, что большинство значений находится в диапазоне от 0 до 4 (более 60000), а количество значений больше 10 очень мало (менее 40).*\n",
    "\n",
    "- **Список ожидания**: максимальное количество дней, проведенных в списке ожидания, равное 259, значительно выше, чем в среднем 3,33. Это может указывать на несколько исключительных случаев, когда гостям приходилось долго ждать, прежде чем они смогли оформить бронирование. Подобно выбросам времени выполнения, эти бронирования по-прежнему действительны и могут дать ценную информацию для стратегии управления доходами отеля. Поэтому, возможно, лучше оставить эти выбросы как есть."
   ]
  },
  {
   "cell_type": "code",
   "execution_count": 21,
   "metadata": {},
   "outputs": [
    {
     "data": {
      "image/png": "[encoded data removed]",
      "text/plain": [
       "<Figure size 1080x360 with 1 Axes>"
      ]
     },
     "metadata": {
      "needs_background": "light"
     },
     "output_type": "display_data"
    }
   ],
   "source": [
    "train_data = train_data[train_data['previous_cancellations'] <= 10]\n",
    "\n",
    "train_data[previous_cancellations].hist(figsize=(15, 5), bins=26)\n",
    "plt.suptitle(\"Гистограмма для истории отмен\")\n",
    "plt.show()"
   ]
  },
  {
   "cell_type": "markdown",
   "metadata": {},
   "source": [
    "### Шаг 3. Формулировка ML-задачи на основе бизнес-задачи"
   ]
  },
  {
   "cell_type": "markdown",
   "metadata": {},
   "source": [
    "**Оцените прибыль отеля без внедрения депозитов.**\n",
    "\n",
    "Для расчета прибыли отеля необходимо учитывать стоимость номера, стоимость обслуживания при подготовке и проживании, сезонные коэффициенты. Мы также должны учитывать стоимость отмены бронирования номера."
   ]
  },
  {
   "cell_type": "code",
   "execution_count": 22,
   "metadata": {},
   "outputs": [
    {
     "data": {
      "text/html": [
       "<div>\n",
       "<style scoped>\n",
       "    .dataframe tbody tr th:only-of-type {\n",
       "        vertical-align: middle;\n",
       "    }\n",
       "\n",
       "    .dataframe tbody tr th {\n",
       "        vertical-align: top;\n",
       "    }\n",
       "\n",
       "    .dataframe thead th {\n",
       "        text-align: right;\n",
       "    }\n",
       "</style>\n",
       "<table border=\"1\" class=\"dataframe\">\n",
       "  <thead>\n",
       "    <tr style=\"text-align: right;\">\n",
       "      <th></th>\n",
       "      <th>is_canceled</th>\n",
       "      <th>reserved_room_type</th>\n",
       "      <th>arrival_date_month</th>\n",
       "      <th>total_nights</th>\n",
       "      <th>arrival_date_year</th>\n",
       "      <th>room_cost</th>\n",
       "      <th>room_service_cost</th>\n",
       "      <th>season_coefficient</th>\n",
       "      <th>num_cleaning</th>\n",
       "    </tr>\n",
       "  </thead>\n",
       "  <tbody>\n",
       "    <tr>\n",
       "      <th>0</th>\n",
       "      <td>1</td>\n",
       "      <td>A</td>\n",
       "      <td>January</td>\n",
       "      <td>1</td>\n",
       "      <td>2017</td>\n",
       "      <td>350</td>\n",
       "      <td>150</td>\n",
       "      <td>1.0</td>\n",
       "      <td>1</td>\n",
       "    </tr>\n",
       "    <tr>\n",
       "      <th>1</th>\n",
       "      <td>1</td>\n",
       "      <td>A</td>\n",
       "      <td>January</td>\n",
       "      <td>4</td>\n",
       "      <td>2017</td>\n",
       "      <td>350</td>\n",
       "      <td>150</td>\n",
       "      <td>1.0</td>\n",
       "      <td>3</td>\n",
       "    </tr>\n",
       "    <tr>\n",
       "      <th>2</th>\n",
       "      <td>1</td>\n",
       "      <td>A</td>\n",
       "      <td>January</td>\n",
       "      <td>4</td>\n",
       "      <td>2017</td>\n",
       "      <td>350</td>\n",
       "      <td>150</td>\n",
       "      <td>1.0</td>\n",
       "      <td>3</td>\n",
       "    </tr>\n",
       "    <tr>\n",
       "      <th>3</th>\n",
       "      <td>1</td>\n",
       "      <td>A</td>\n",
       "      <td>January</td>\n",
       "      <td>4</td>\n",
       "      <td>2017</td>\n",
       "      <td>350</td>\n",
       "      <td>150</td>\n",
       "      <td>1.0</td>\n",
       "      <td>3</td>\n",
       "    </tr>\n",
       "    <tr>\n",
       "      <th>4</th>\n",
       "      <td>1</td>\n",
       "      <td>A</td>\n",
       "      <td>January</td>\n",
       "      <td>7</td>\n",
       "      <td>2017</td>\n",
       "      <td>350</td>\n",
       "      <td>150</td>\n",
       "      <td>1.0</td>\n",
       "      <td>4</td>\n",
       "    </tr>\n",
       "  </tbody>\n",
       "</table>\n",
       "</div>"
      ],
      "text/plain": [
       "   is_canceled reserved_room_type arrival_date_month  total_nights  \\\n",
       "0            1   A                           January             1   \n",
       "1            1   A                           January             4   \n",
       "2            1   A                           January             4   \n",
       "3            1   A                           January             4   \n",
       "4            1   A                           January             7   \n",
       "\n",
       "   arrival_date_year  room_cost  room_service_cost  season_coefficient  \\\n",
       "0               2017        350                150                 1.0   \n",
       "1               2017        350                150                 1.0   \n",
       "2               2017        350                150                 1.0   \n",
       "3               2017        350                150                 1.0   \n",
       "4               2017        350                150                 1.0   \n",
       "\n",
       "   num_cleaning  \n",
       "0             1  \n",
       "1             3  \n",
       "2             3  \n",
       "3             3  \n",
       "4             4  "
      ]
     },
     "metadata": {},
     "output_type": "display_data"
    },
    {
     "data": {
      "text/html": [
       "<div>\n",
       "<style scoped>\n",
       "    .dataframe tbody tr th:only-of-type {\n",
       "        vertical-align: middle;\n",
       "    }\n",
       "\n",
       "    .dataframe tbody tr th {\n",
       "        vertical-align: top;\n",
       "    }\n",
       "\n",
       "    .dataframe thead th {\n",
       "        text-align: right;\n",
       "    }\n",
       "</style>\n",
       "<table border=\"1\" class=\"dataframe\">\n",
       "  <thead>\n",
       "    <tr style=\"text-align: right;\">\n",
       "      <th></th>\n",
       "      <th>is_canceled</th>\n",
       "      <th>reserved_room_type</th>\n",
       "      <th>arrival_date_month</th>\n",
       "      <th>total_nights</th>\n",
       "      <th>arrival_date_year</th>\n",
       "      <th>room_cost</th>\n",
       "      <th>room_service_cost</th>\n",
       "      <th>season_coefficient</th>\n",
       "      <th>num_cleaning</th>\n",
       "      <th>profit</th>\n",
       "    </tr>\n",
       "  </thead>\n",
       "  <tbody>\n",
       "    <tr>\n",
       "      <th>31525</th>\n",
       "      <td>0</td>\n",
       "      <td>A</td>\n",
       "      <td>August</td>\n",
       "      <td>4</td>\n",
       "      <td>2017</td>\n",
       "      <td>350</td>\n",
       "      <td>150</td>\n",
       "      <td>1.4</td>\n",
       "      <td>3</td>\n",
       "      <td>1510.0</td>\n",
       "    </tr>\n",
       "    <tr>\n",
       "      <th>25659</th>\n",
       "      <td>0</td>\n",
       "      <td>A</td>\n",
       "      <td>May</td>\n",
       "      <td>2</td>\n",
       "      <td>2017</td>\n",
       "      <td>350</td>\n",
       "      <td>150</td>\n",
       "      <td>1.2</td>\n",
       "      <td>2</td>\n",
       "      <td>540.0</td>\n",
       "    </tr>\n",
       "    <tr>\n",
       "      <th>29293</th>\n",
       "      <td>0</td>\n",
       "      <td>E</td>\n",
       "      <td>July</td>\n",
       "      <td>1</td>\n",
       "      <td>2017</td>\n",
       "      <td>350</td>\n",
       "      <td>150</td>\n",
       "      <td>1.4</td>\n",
       "      <td>1</td>\n",
       "      <td>340.0</td>\n",
       "    </tr>\n",
       "    <tr>\n",
       "      <th>27906</th>\n",
       "      <td>0</td>\n",
       "      <td>D</td>\n",
       "      <td>June</td>\n",
       "      <td>4</td>\n",
       "      <td>2017</td>\n",
       "      <td>350</td>\n",
       "      <td>150</td>\n",
       "      <td>1.4</td>\n",
       "      <td>3</td>\n",
       "      <td>1510.0</td>\n",
       "    </tr>\n",
       "    <tr>\n",
       "      <th>25604</th>\n",
       "      <td>0</td>\n",
       "      <td>A</td>\n",
       "      <td>May</td>\n",
       "      <td>4</td>\n",
       "      <td>2017</td>\n",
       "      <td>350</td>\n",
       "      <td>150</td>\n",
       "      <td>1.2</td>\n",
       "      <td>3</td>\n",
       "      <td>1230.0</td>\n",
       "    </tr>\n",
       "  </tbody>\n",
       "</table>\n",
       "</div>"
      ],
      "text/plain": [
       "       is_canceled reserved_room_type arrival_date_month  total_nights  \\\n",
       "31525            0   A                            August             4   \n",
       "25659            0   A                               May             2   \n",
       "29293            0   E                              July             1   \n",
       "27906            0   D                              June             4   \n",
       "25604            0   A                               May             4   \n",
       "\n",
       "       arrival_date_year  room_cost  room_service_cost  season_coefficient  \\\n",
       "31525               2017        350                150                 1.4   \n",
       "25659               2017        350                150                 1.2   \n",
       "29293               2017        350                150                 1.4   \n",
       "27906               2017        350                150                 1.4   \n",
       "25604               2017        350                150                 1.2   \n",
       "\n",
       "       num_cleaning  profit  \n",
       "31525             3  1510.0  \n",
       "25659             2   540.0  \n",
       "29293             1   340.0  \n",
       "27906             3  1510.0  \n",
       "25604             3  1230.0  "
      ]
     },
     "metadata": {},
     "output_type": "display_data"
    },
    {
     "name": "stdout",
     "output_type": "stream",
     "text": [
      "Выручка отеля без внедрения депозита за 8 месяцев 2017 года составила 12.835.890.0\n"
     ]
    }
   ],
   "source": [
    "hotel_test = pd.read_csv('/datasets/hotel_test.csv') # т.к. нам нужны удаленные столбцы, поэтому логичнее создать в начале \n",
    "# блокнота копию hotel_test и изменять ее, в итоге получиться неизмененный hotel_test и измененный test_data\n",
    "hotel_test['meal'] = hotel_test['meal'].str.strip()\n",
    "\n",
    "# Чтобы посчитать прибыль без внедрения депозита создам новый датафрейм hotel_profit\n",
    "hotel_profit = hotel_test[['is_canceled', 'reserved_room_type', 'arrival_date_month', 'total_nights', 'arrival_date_year']]\n",
    "\n",
    "# можно как у тебя словарь, но так просто проще создавать df\n",
    "def get_room_cost(value):\n",
    "    if value == 'A':\n",
    "        return 1000\n",
    "    if value== 'B':\n",
    "        return 800\n",
    "    if value == 'C':\n",
    "        return 600\n",
    "    if value == 'D':\n",
    "        return 550\n",
    "    if value == 'E':\n",
    "        return 500\n",
    "    if value == 'F':\n",
    "        return 450\n",
    "    return 350\n",
    "    \n",
    "    \n",
    "hotel_profit['room_cost'] = hotel_profit['reserved_room_type'].apply(get_room_cost)\n",
    "\n",
    "def get_room_service_cost(value):\n",
    "    if value == 'A':\n",
    "        return 400\n",
    "    if value in ('B', 'C'):\n",
    "        return 350\n",
    "    return 150\n",
    "    \n",
    "    \n",
    "hotel_profit['room_service_cost'] = hotel_profit['reserved_room_type'].apply(get_room_service_cost)\n",
    "\n",
    "def get_season_coefficient(value):\n",
    "    if value in ('June', 'July', 'August'):\n",
    "        return 1.4\n",
    "    if value in ('December', 'January', 'February'):\n",
    "        return 1\n",
    "    else:\n",
    "        return 1.2\n",
    "    \n",
    "    \n",
    "hotel_profit['season_coefficient'] = hotel_profit['arrival_date_month'].apply(get_season_coefficient)\n",
    "\n",
    "def get_num_cleaning(value):\n",
    "    return 1 + math.floor(value / 2)\n",
    "  \n",
    "    \n",
    "hotel_profit['num_cleaning'] = hotel_profit['total_nights'].apply(get_num_cleaning)\n",
    "\n",
    "display(hotel_profit.head())\n",
    "\n",
    "def get_profit(row):\n",
    "    if not row['is_canceled']:\n",
    "        revenue = row['total_nights'] * row['room_cost'] * row['season_coefficient']\n",
    "        losses = row['room_service_cost'] * row['num_cleaning']\n",
    "        return revenue - losses\n",
    "    return (row['room_service_cost'] + row['room_cost'] * row['season_coefficient']) * -1\n",
    "    \n",
    "    \n",
    "hotel_profit['profit'] = hotel_profit.apply(get_profit, axis=1)  \n",
    "\n",
    "display(hotel_profit.sample(5))\n",
    "\n",
    "gain = hotel_profit['profit'].sum()\n",
    "print(f'Выручка отеля без внедрения депозита за 8 месяцев 2017 года составила {format(gain, \",.1f\").replace(\",\", \".\")}')"
   ]
  },
  {
   "cell_type": "markdown",
   "metadata": {},
   "source": [
    "### Шаг 4. Разработка модели ML"
   ]
  },
  {
   "cell_type": "markdown",
   "metadata": {},
   "source": [
    "**Задачи:**\n",
    "- Обучите разные модели и оцените их качество кросс-валидацией. Выберите лучшую модель и проверьте её на тестовой выборке. Опишите выводы.\n",
    "- Выберите метрику для обучения.\n",
    "- Оцените прибыль, которую принесёт выбранная модель за год."
   ]
  },
  {
   "cell_type": "markdown",
   "metadata": {},
   "source": [
    "Перед обучением модели машинного обучения важно определить проблему, которую мы пытаемся решить, и выбрать целевую переменную. В этом случае мы хотим предсказать, будет ли отменено резервирование или нет, что означает, что целевой переменной является столбец \"is_canceled\" в наборе данных."
   ]
  },
  {
   "cell_type": "markdown",
   "metadata": {},
   "source": [
    "Теперь мы будем обучать разные модели и оценивать их производительность с помощью кросс-валидации. Мы будем использовать три модели классификации: логистическую регрессию, дерево решений и случайный лес. Показателем обучения, который мы будем использовать, является оценка F1, которая представляет собой гармоническое среднее значение точности и полноты."
   ]
  },
  {
   "cell_type": "code",
   "execution_count": 23,
   "metadata": {},
   "outputs": [],
   "source": [
    "# Определим целевую переменную и признаки.\n",
    "X_train = train_data.drop(['id', 'is_canceled'], axis=1)\n",
    "y_train = train_data['is_canceled']\n",
    "\n",
    "X_test = test_data.drop(['id', 'is_canceled'], axis=1)\n",
    "y_test = test_data['is_canceled']"
   ]
  },
  {
   "cell_type": "code",
   "execution_count": 24,
   "metadata": {},
   "outputs": [],
   "source": [
    "# Создадим конвейеры.\n",
    "num_pipeline = Pipeline([('imputer', SimpleImputer(strategy='median')), ('std_scaler', StandardScaler())])\n",
    "preprocessor_num = ColumnTransformer([('num', num_pipeline, num_features)])\n",
    "log_reg_pipeline = Pipeline([('preprocessor', preprocessor_num), ('log_reg', LogisticRegression(random_state=42))])\n",
    "ordinal_encoder = OrdinalEncoder()\n",
    "preprocessor_cat = ColumnTransformer(transformers=[('ord', ordinal_encoder, cat_features)], remainder='passthrough')\n",
    "dt_pipeline = Pipeline([('preprocessor', preprocessor_cat), ('dt', DecisionTreeClassifier(random_state=42))])\n",
    "rf_pipeline = Pipeline([('preprocessor', preprocessor_cat), ('rf', RandomForestClassifier(random_state=42))])"
   ]
  },
  {
   "cell_type": "code",
   "execution_count": 25,
   "metadata": {},
   "outputs": [
    {
     "name": "stdout",
     "output_type": "stream",
     "text": [
      "Лучший результат F1 для логистической регрессии: 0.4788084566189642\n",
      "Лучшие параметры для логистической регрессии: {'log_reg__C': 1}\n",
      "\n",
      "Лучший результат F1 для дерева решений: 0.5437237934689625\n",
      "Лучшие параметры для дерева решений: {'dt__max_depth': 5}\n",
      "\n",
      "Лучший результат F1 для случайного леса: 0.3192179552684431\n",
      "Лучшие параметры для случайного леса: {'rf__n_estimators': 100}\n"
     ]
    }
   ],
   "source": [
    "# Определим сетку параметров для каждой модели\n",
    "log_reg_param_grid = {'log_reg__C': [0.1, 1, 10]}\n",
    "dt_param_grid = {'dt__max_depth': [5, 10, 20]}\n",
    "rf_param_grid = {'rf__n_estimators': [50, 100, 200]}\n",
    "\n",
    "# Создадим объекты поиска по сетке для каждой модели\n",
    "log_reg_grid = GridSearchCV(log_reg_pipeline, log_reg_param_grid, cv=5, scoring='f1')\n",
    "dt_grid = GridSearchCV(dt_pipeline, dt_param_grid, cv=5, scoring='f1')\n",
    "rf_grid = GridSearchCV(rf_pipeline, rf_param_grid, cv=5, scoring='f1')\n",
    "\n",
    "# Сопоставим объекты поиска сетки и распечатаем лучший результат и параметры для каждой модели.\n",
    "log_reg_grid.fit(X_train, y_train)\n",
    "print('Лучший результат F1 для логистической регрессии:', log_reg_grid.best_score_)\n",
    "print('Лучшие параметры для логистической регрессии:', log_reg_grid.best_params_)\n",
    "print()\n",
    "\n",
    "dt_grid.fit(X_train, y_train)\n",
    "print('Лучший результат F1 для дерева решений:', dt_grid.best_score_)\n",
    "print('Лучшие параметры для дерева решений:', dt_grid.best_params_)\n",
    "print()\n",
    "\n",
    "rf_grid.fit(X_train, y_train)\n",
    "print('Лучший результат F1 для случайного леса:', rf_grid.best_score_)\n",
    "print('Лучшие параметры для случайного леса:', rf_grid.best_params_)"
   ]
  },
  {
   "cell_type": "code",
   "execution_count": 26,
   "metadata": {},
   "outputs": [
    {
     "name": "stdout",
     "output_type": "stream",
     "text": [
      "F1 оценка на тестовых данных: 0.4941466420209489\n"
     ]
    }
   ],
   "source": [
    "# Обучим и оценим лучшую модель на тестовых данных\n",
    "y_pred = dt_grid.best_estimator_.predict(X_test)\n",
    "f1 = f1_score(y_test, y_pred)\n",
    "print('F1 оценка на тестовых данных:', f1)"
   ]
  },
  {
   "cell_type": "code",
   "execution_count": 27,
   "metadata": {},
   "outputs": [
    {
     "name": "stdout",
     "output_type": "stream",
     "text": [
      "Расчетная прибыль за год составляет 249.777.360.0\n"
     ]
    }
   ],
   "source": [
    "# Рассчитаем предполагаемую прибыль на основе прогнозов модели\n",
    "hotel_profit = X_test\n",
    "hotel_profit['is_canceled'] = y_pred\n",
    "hotel_profit['room_cost'] = hotel_profit['reserved_room_type'].apply(get_room_cost)\n",
    "hotel_profit['room_service_cost'] = hotel_profit['reserved_room_type'].apply(get_room_service_cost)\n",
    "hotel_profit['season_coefficient'] = hotel_profit['arrival_date_month'].apply(get_season_coefficient)\n",
    "hotel_profit['total_nights'] = hotel_profit['stays_in_weekend_nights'] + hotel_profit['stays_in_week_nights']\n",
    "hotel_profit['num_cleaning'] = hotel_profit['total_nights'].apply(get_num_cleaning)\n",
    "hotel_profit['profit'] = hotel_profit.apply(get_profit, axis=1)\n",
    "\n",
    "# Умножим на 12, чтобы получить ориентировочную прибыль за год\n",
    "estimated_gain = hotel_profit['profit'].sum() * 12  \n",
    "\n",
    "print(f'Расчетная прибыль за год составляет {format(estimated_gain, \",.1f\").replace(\",\", \".\")}')"
   ]
  },
  {
   "cell_type": "markdown",
   "metadata": {},
   "source": [
    "**Вывод:**\n",
    "\n",
    "- Выручка отеля без внедрения депозита за 8 месяцев 2017 года составила: 12.835.890.0;\n",
    "- Выручка отеля с учётом введения депозитов за год составила: 249.777.360.0.\n",
    "\n",
    "Это показывает, что внедрение системы депозитов позволило существенно увеличить прибыль отеля и окупить затраты на разработку модели."
   ]
  },
  {
   "cell_type": "markdown",
   "metadata": {},
   "source": [
    "### Шаг 5. Опишите портрет «ненадёжного» клиента"
   ]
  },
  {
   "cell_type": "code",
   "execution_count": 28,
   "metadata": {},
   "outputs": [
    {
     "data": {
      "image/png": "[encoded data removed]",
      "text/plain": [
       "<Figure size 1080x576 with 2 Axes>"
      ]
     },
     "metadata": {
      "needs_background": "light"
     },
     "output_type": "display_data"
    }
   ],
   "source": [
    "hotel_train = pd.read_csv('/datasets/hotel_train.csv')\n",
    "\n",
    "# Исследование корреляции между признаками и отменой бронирования.\n",
    "# Изучение корреляции между признаками и отменой бронирования может помочь нам понять, какие признаки более тесно связаны с \n",
    "# вероятностью отмены бронирования. Корреляция — это статистическая мера, указывающая на силу и направление взаимосвязи \n",
    "# между двумя переменными. Изучив матрицу корреляции, мы можем определить, какие признаки положительно или отрицательно \n",
    "# коррелируют с целевой переменной (например, с отменой бронирования). Эта информация может помочь нам определить наиболее \n",
    "# важные признаки и определить их приоритетность в нашем анализе. Например, если мы обнаружим, что время выполнения заказа \n",
    "# сильно коррелирует с отменами, мы можем захотеть дополнительно изучить эту связь, чтобы увидеть, как мы можем использовать \n",
    "# ее для прогнозирования и предотвращения отмен.\n",
    "corr = hotel_train.corr()\n",
    "\n",
    "fig, ax = plt.subplots(figsize=(15, 8))\n",
    "sns.heatmap(corr, annot=True, cmap='coolwarm', ax=ax)\n",
    "plt.title('Correlation matrix')\n",
    "plt.show()"
   ]
  },
  {
   "cell_type": "markdown",
   "metadata": {},
   "source": [
    "Можно увидеть что столбцы \"lead_time\" и \"previous_cancellations\" коррелируют положительно с целевым признаком \"is_canceled\" больше чем остальные! Это может свидетельствоать о том, что бронирования с более длительным временем выполнения и историей предыдущих отмен с большей вероятностью будут отменены, чем бронирования с более коротким временем выполнения и без истории предыдущих отмен. Эта информация может быть использована для выявления потенциальных «неблагонадежных» клиентов, которые с большей вероятностью отменят свои бронирования, что позволит отелю принять соответствующие меры для управления их рисками и сокращения числа отмен."
   ]
  },
  {
   "cell_type": "code",
   "execution_count": 29,
   "metadata": {},
   "outputs": [
    {
     "data": {
      "image/png": "[encoded data removed]",
      "text/plain": [
       "<Figure size 432x288 with 1 Axes>"
      ]
     },
     "metadata": {
      "needs_background": "light"
     },
     "output_type": "display_data"
    }
   ],
   "source": [
    "# Изучение взаимосвязи между временем выполнения заказа (количество дней между датой бронирования и датой прибытия гостя) и \n",
    "# отменами. Изучая взаимосвязь между временем выполнения заказа и отменами, мы можем понять, связаны ли \n",
    "# более длительные сроки выполнения с более высокой вероятностью отмены и существует ли какой-либо порог, после которого \n",
    "# время выполнения заказов становится особенно рискованным.\n",
    "sns.boxplot(x='is_canceled', y='lead_time', data=hotel_train)\n",
    "plt.title('Lead time vs. cancellations')\n",
    "plt.show()"
   ]
  },
  {
   "cell_type": "markdown",
   "metadata": {},
   "source": [
    "Коробчатая диаграмма показывает что с увеличением временем выполнения заказа увеличивается и количество отмен броней! \n",
    "- Средние 50% данных в категории \"неотмененных броней\" лежат в диапазоне 0-10, с медианой около 48, при этом видны много выбросов в этой категории данных. \n",
    "- Средние 50% данных в категории \"отмененных броней\" лежат в диапазоне 50-210, с медианой около 100, при этом видны выбросов в этой категории данных вообще нет.\n",
    "- Т.к. медианы двух полей сильно различаются, это говорит о разнице во времени выполнения для отмененных и неотмененных бронирований.\n",
    "- Т.к. для неотмененных бронирований имеется много выбросов в отношении высоких сроков выполнения, это говорит о том, что есть некоторые заказы с очень длительными сроками выполнения, которые не были отменены. Это может означать, что определенные типы бронирований, например сделанные заблаговременно или в часы пик, с меньшей вероятностью будут отменены, даже если они имеют большое время выполнения заказа. Это также может указывать на то, что клиенты, которые бронируют заранее, более привержены своим планам поездок и с меньшей вероятностью отменяют их."
   ]
  },
  {
   "cell_type": "code",
   "execution_count": 30,
   "metadata": {},
   "outputs": [
    {
     "data": {
      "image/png": "[encoded data removed]",
      "text/plain": [
       "<Figure size 432x288 with 1 Axes>"
      ]
     },
     "metadata": {
      "needs_background": "light"
     },
     "output_type": "display_data"
    }
   ],
   "source": [
    "# Изучая взаимосвязь между общим количеством особых запросов и отменами, мы можем понять, существует ли корреляция \n",
    "# между количеством особых запросов, сделанных гостем, и вероятностью отмены бронирования. Если мы наблюдаем более \n",
    "# высокий уровень отмен для гостей, которые делают больше специальных запросов, это может свидетельствовать о том, что \n",
    "# эти гости более требовательны или имеют более высокие ожидания, которые могут не оправдаться, что приводит к \n",
    "# неудовлетворенности и, в конечном итоге, к отмене их бронирования. В качестве альтернативы мы можем заметить, что гости, \n",
    "# которые делают меньше особых запросов, имеют более высокий процент отмен, что может указывать на то, что они меньше \n",
    "# инвестируют в свое бронирование или с большей вероятностью изменят свои планы, что приведет к отмене. \n",
    "# Изучая эту взаимосвязь, мы можем получить представление о поведении и предпочтениях гостей, что может повлиять на \n",
    "# наш подход к управлению бронированиями и повышению удовлетворенности гостей.\n",
    "sns.countplot(x='total_of_special_requests', hue='is_canceled', data=hotel_train)\n",
    "plt.title('Special requests vs. cancellations')\n",
    "plt.show()"
   ]
  },
  {
   "cell_type": "markdown",
   "metadata": {},
   "source": [
    "Cтолбчатая диаграмма показывает, что гости требовательные к специальным запросам не отменяют бронь либо отменяют очень редко, по сравнению с гостями без специальных запросов. Это может указывать на то, что они меньше инвестируют в свое бронирование или с большей вероятностью изменят свои планы, что приводит к отмене. "
   ]
  },
  {
   "cell_type": "code",
   "execution_count": 31,
   "metadata": {},
   "outputs": [
    {
     "data": {
      "image/png": "[encoded data removed]",
      "text/plain": [
       "<Figure size 432x288 with 1 Axes>"
      ]
     },
     "metadata": {
      "needs_background": "light"
     },
     "output_type": "display_data"
    }
   ],
   "source": [
    "# Изучение взаимосвязи между типом клиента и отменой бронирования может помочь нам понять, являются ли определенные \n",
    "# типы клиентов более склонными к отмене бронирований, чем другие. Эта информация может быть полезна для выявления \n",
    "# признаков «неблагонадежного» клиента, как указано в шаге 5 проекта. Например, если мы обнаружим, что клиенты, которые \n",
    "# бронируют через определенный канал или относятся к определенному типу клиентов, с большей вероятностью отменят свои заказы,\n",
    "# мы можем использовать эту информацию, чтобы скорректировать наши маркетинговые или коммуникационные стратегии, чтобы лучше \n",
    "# ориентироваться и удерживать клиентов, которые скорее всего, выполнят свои заказы.\n",
    "\n",
    "# Contract — договор с юридическим лицом;\n",
    "# Group — групповой заезд;\n",
    "# Transient — не связано с договором или групповым заездом;\n",
    "# Transient-party — не связано с договором или групповым заездом, но связано с бронированием типа Transient.\n",
    "\n",
    "sns.countplot(x='customer_type', hue='is_canceled', data=hotel_train)\n",
    "plt.title('Customer type vs. cancellations')\n",
    "plt.show()"
   ]
  },
  {
   "cell_type": "markdown",
   "metadata": {},
   "source": [
    "Из столбчатой диаграммы видно, что наименее благонадежные клиенты находятся в категории, не связанной с договором или групповым заездом."
   ]
  },
  {
   "cell_type": "code",
   "execution_count": 32,
   "metadata": {},
   "outputs": [
    {
     "data": {
      "image/png": "[encoded data removed]",
      "text/plain": [
       "<Figure size 720x360 with 1 Axes>"
      ]
     },
     "metadata": {
      "needs_background": "light"
     },
     "output_type": "display_data"
    }
   ],
   "source": [
    "# Изучение взаимосвязи между предыдущими отменами и отменами может дать представление о том, с большей ли вероятностью гости,\n",
    "# которые ранее отменили свои бронирования, отменят их снова. Это также может помочь определить любые закономерности или \n",
    "# тенденции в отменах на основе количества предыдущих отмен. Например, если гости с большим количеством предыдущих отмен \n",
    "# с большей вероятностью отменят снова, это может означать, что существуют определенные факторы, которые приводят к таким \n",
    "# отменам, которые необходимо устранить.\n",
    "fig, axs = plt.subplots(figsize=(10, 5))\n",
    "\n",
    "sns.countplot(x='previous_cancellations', hue='is_canceled', data=hotel_train, ax=axs)\n",
    "plt.title('Previous cancellations vs. cancellations', fontsize=18)\n",
    "plt.show()"
   ]
  },
  {
   "cell_type": "markdown",
   "metadata": {},
   "source": [
    "Столбчатая диаграмма показывает, что если у клиента была хоть 1 предыдущая отмена брони, то он более склонен отменить бронь, что может указывать на ненадежность клиентов из данной категории."
   ]
  },
  {
   "cell_type": "code",
   "execution_count": 33,
   "metadata": {},
   "outputs": [
    {
     "data": {
      "image/png": "[encoded data removed]",
      "text/plain": [
       "<Figure size 720x360 with 1 Axes>"
      ]
     },
     "metadata": {
      "needs_background": "light"
     },
     "output_type": "display_data"
    }
   ],
   "source": [
    "# Изучение взаимосвязи между изменениями в бронировании и отменами может дать представление о том, как количество изменений,\n",
    "# внесенных в бронирование, влияет на вероятность отмены. Например, если существует более высокий процент отмен бронирований,\n",
    "# в которые были внесены множественные изменения, это может свидетельствовать о том, что клиенты, которые вносят больше \n",
    "# изменений, с большей вероятностью отменят свое бронирование. Эта информация может быть полезна для выявления потенциально \n",
    "# ненадежных клиентов и соответствующей корректировки политики отеля.\n",
    "fig, axs = plt.subplots(figsize=(10, 5))\n",
    "\n",
    "sns.countplot(x='booking_changes', hue='is_canceled', data=hotel_train, ax=axs)\n",
    "plt.title('Booking changes vs. cancellations', fontsize=18)\n",
    "plt.show()"
   ]
  },
  {
   "cell_type": "markdown",
   "metadata": {},
   "source": [
    "Данная столбчатая диаграмма не показывает то, что внесение изменений в бронирование клиентом явно приводит к отменам брони. Наибольшее число отмен брони в категории клиентов, которое вообще не вносили изменений в бронь, а если клиенты вносили хоть 1 и больше изменений, то количетсво отмен броней резко падает, что свидетельствует о том, что клиенты, которые вносят изменения в бронь, скорее всего его не отменят."
   ]
  },
  {
   "cell_type": "markdown",
   "metadata": {},
   "source": [
    "**Портрет ненадежного клиента**:\n",
    "\n",
    "По результатам исследовательского анализа данных «неблагонадежным» клиентом можно назвать человека, который:\n",
    "\n",
    "- Имеет историю предыдущих отмен\n",
    "- Находится в категории вне-контрактных или вне-групповых поездок.\n",
    "- У них долгое время ожидания бронирования, особенно если они не в пик сезона бронирования.\n",
    "- Не вносил никаких изменений в свое бронирование, поскольку клиенты, которые вносят изменения в свое бронирование, с меньшей вероятностью отменяют его.\n",
    "- Не имеет особых запросов, так как гости с особыми запросами с меньшей вероятностью отменят бронирование.\n",
    "\n",
    "Выявление этих характеристик может помочь отелям принять соответствующие меры для управления рисками и сокращения количества отмен."
   ]
  },
  {
   "cell_type": "markdown",
   "metadata": {},
   "source": [
    "### Шаг 6. Напишите общий вывод"
   ]
  },
  {
   "cell_type": "markdown",
   "metadata": {},
   "source": [
    "Модель дерева решений с настройкой гиперпараметров показала лучшие результаты с точки зрения оценки F1, а введение депозитной системы значительно увеличило доход отеля.\n",
    "\n",
    "Основываясь на выводах, полученных в результате анализа, я рекомендую отелю предпринять следующие действия:\n",
    "\n",
    "- Внедрить депозитную систему, чтобы сократить количество отмен и увеличить доход.\n",
    "- Отслеживать клиентов, у которых есть история отмен, и принимать соответствующие меры для управления рисками.\n",
    "- Поощрять клиентов вносить изменения в свои бронирования, так как это снижает вероятность отмены.\n",
    "- Создавать стимулы для клиентов, чтобы они делали особые запросы, поскольку эти клиенты с меньшей вероятностью отменят свои бронирования."
   ]
  },
  {
   "cell_type": "code",
   "execution_count": null,
   "metadata": {},
   "outputs": [],
   "source": []
  }
 ],
 "metadata": {
  "ExecuteTimeLog": [
   {
    "duration": 401,
    "start_time": "2023-04-17T13:44:40.215Z"
   },
   {
    "duration": 427,
    "start_time": "2023-04-17T13:45:29.271Z"
   },
   {
    "duration": 37,
    "start_time": "2023-04-17T13:45:43.327Z"
   },
   {
    "duration": 18,
    "start_time": "2023-04-17T13:45:51.466Z"
   },
   {
    "duration": 51,
    "start_time": "2023-04-17T13:46:05.637Z"
   },
   {
    "duration": 50,
    "start_time": "2023-04-17T13:46:15.829Z"
   },
   {
    "duration": 47,
    "start_time": "2023-04-17T13:48:20.128Z"
   },
   {
    "duration": 30,
    "start_time": "2023-04-17T13:48:34.599Z"
   },
   {
    "duration": 404,
    "start_time": "2023-04-17T13:49:00.866Z"
   },
   {
    "duration": 310,
    "start_time": "2023-04-17T13:49:01.272Z"
   },
   {
    "duration": 23,
    "start_time": "2023-04-17T13:49:01.586Z"
   },
   {
    "duration": 81,
    "start_time": "2023-04-17T13:49:01.611Z"
   },
   {
    "duration": 89,
    "start_time": "2023-04-17T13:49:01.694Z"
   },
   {
    "duration": 54,
    "start_time": "2023-04-17T13:49:01.785Z"
   },
   {
    "duration": 4,
    "start_time": "2023-04-17T13:57:42.263Z"
   },
   {
    "duration": 6,
    "start_time": "2023-04-17T13:57:55.958Z"
   },
   {
    "duration": 37,
    "start_time": "2023-04-17T13:58:11.765Z"
   },
   {
    "duration": 40,
    "start_time": "2023-04-17T13:58:22.684Z"
   },
   {
    "duration": 49,
    "start_time": "2023-04-17T13:58:53.251Z"
   },
   {
    "duration": 6,
    "start_time": "2023-04-17T13:59:13.096Z"
   },
   {
    "duration": 169,
    "start_time": "2023-04-17T13:59:42.377Z"
   },
   {
    "duration": 79,
    "start_time": "2023-04-17T14:10:16.913Z"
   },
   {
    "duration": 78,
    "start_time": "2023-04-17T14:10:18.327Z"
   },
   {
    "duration": 363,
    "start_time": "2023-04-17T14:21:59.277Z"
   },
   {
    "duration": 319,
    "start_time": "2023-04-17T14:21:59.646Z"
   },
   {
    "duration": 26,
    "start_time": "2023-04-17T14:21:59.971Z"
   },
   {
    "duration": 19,
    "start_time": "2023-04-17T14:21:59.999Z"
   },
   {
    "duration": 78,
    "start_time": "2023-04-17T14:22:00.019Z"
   },
   {
    "duration": 86,
    "start_time": "2023-04-17T14:22:00.098Z"
   },
   {
    "duration": 489,
    "start_time": "2023-04-17T14:25:47.479Z"
   },
   {
    "duration": 2709,
    "start_time": "2023-04-17T14:27:00.562Z"
   },
   {
    "duration": 2506,
    "start_time": "2023-04-17T14:27:08.619Z"
   },
   {
    "duration": 2580,
    "start_time": "2023-04-17T14:28:17.122Z"
   },
   {
    "duration": 719,
    "start_time": "2023-04-17T14:28:25.440Z"
   },
   {
    "duration": 329,
    "start_time": "2023-04-17T14:28:26.173Z"
   },
   {
    "duration": 49,
    "start_time": "2023-04-17T14:28:26.504Z"
   },
   {
    "duration": 21,
    "start_time": "2023-04-17T14:28:26.562Z"
   },
   {
    "duration": 28,
    "start_time": "2023-04-17T14:28:26.584Z"
   },
   {
    "duration": 89,
    "start_time": "2023-04-17T14:28:26.613Z"
   },
   {
    "duration": 3125,
    "start_time": "2023-04-17T14:28:26.703Z"
   },
   {
    "duration": 2604,
    "start_time": "2023-04-17T14:29:04.072Z"
   },
   {
    "duration": 29,
    "start_time": "2023-04-17T14:29:20.273Z"
   },
   {
    "duration": 628,
    "start_time": "2023-04-17T14:36:09.102Z"
   },
   {
    "duration": 2561,
    "start_time": "2023-04-17T14:38:27.088Z"
   },
   {
    "duration": 559,
    "start_time": "2023-04-17T14:38:38.054Z"
   },
   {
    "duration": 1672,
    "start_time": "2023-04-17T14:38:41.057Z"
   },
   {
    "duration": 595,
    "start_time": "2023-04-17T14:38:57.417Z"
   },
   {
    "duration": 446,
    "start_time": "2023-04-17T14:41:47.099Z"
   },
   {
    "duration": 444,
    "start_time": "2023-04-17T14:42:18.171Z"
   },
   {
    "duration": 541,
    "start_time": "2023-04-17T14:43:47.553Z"
   },
   {
    "duration": 527,
    "start_time": "2023-04-17T14:44:09.198Z"
   },
   {
    "duration": 1722,
    "start_time": "2023-04-17T14:44:49.033Z"
   },
   {
    "duration": 482,
    "start_time": "2023-04-17T14:46:12.142Z"
   },
   {
    "duration": 628,
    "start_time": "2023-04-17T14:46:26.998Z"
   },
   {
    "duration": 453,
    "start_time": "2023-04-17T14:46:53.955Z"
   },
   {
    "duration": 1152,
    "start_time": "2023-04-17T14:51:28.076Z"
   },
   {
    "duration": 295,
    "start_time": "2023-04-17T14:51:29.231Z"
   },
   {
    "duration": 27,
    "start_time": "2023-04-17T14:51:29.528Z"
   },
   {
    "duration": 51,
    "start_time": "2023-04-17T14:51:29.557Z"
   },
   {
    "duration": 96,
    "start_time": "2023-04-17T14:51:29.611Z"
   },
   {
    "duration": 89,
    "start_time": "2023-04-17T14:51:29.709Z"
   },
   {
    "duration": 470,
    "start_time": "2023-04-17T14:51:29.800Z"
   },
   {
    "duration": 2977,
    "start_time": "2023-04-17T14:51:30.272Z"
   },
   {
    "duration": 463,
    "start_time": "2023-04-17T14:54:18.317Z"
   },
   {
    "duration": 515,
    "start_time": "2023-04-17T14:54:25.751Z"
   },
   {
    "duration": 394,
    "start_time": "2023-04-17T14:54:38.817Z"
   },
   {
    "duration": 451,
    "start_time": "2023-04-17T14:54:46.386Z"
   },
   {
    "duration": 554,
    "start_time": "2023-04-17T14:54:51.689Z"
   },
   {
    "duration": 39,
    "start_time": "2023-04-17T15:28:29.558Z"
   },
   {
    "duration": 1226,
    "start_time": "2023-04-17T15:30:45.929Z"
   },
   {
    "duration": 299,
    "start_time": "2023-04-17T15:30:47.157Z"
   },
   {
    "duration": 29,
    "start_time": "2023-04-17T15:30:47.458Z"
   },
   {
    "duration": 55,
    "start_time": "2023-04-17T15:30:47.489Z"
   },
   {
    "duration": 99,
    "start_time": "2023-04-17T15:30:47.545Z"
   },
   {
    "duration": 478,
    "start_time": "2023-04-17T15:30:47.646Z"
   },
   {
    "duration": 2121,
    "start_time": "2023-04-17T15:30:48.126Z"
   },
   {
    "duration": 2046,
    "start_time": "2023-04-17T15:32:33.492Z"
   },
   {
    "duration": 199,
    "start_time": "2023-04-17T15:36:56.404Z"
   },
   {
    "duration": 1177,
    "start_time": "2023-04-17T15:38:27.341Z"
   },
   {
    "duration": 294,
    "start_time": "2023-04-17T15:38:28.520Z"
   },
   {
    "duration": 37,
    "start_time": "2023-04-17T15:38:28.815Z"
   },
   {
    "duration": 40,
    "start_time": "2023-04-17T15:38:28.854Z"
   },
   {
    "duration": 89,
    "start_time": "2023-04-17T15:38:28.896Z"
   },
   {
    "duration": 288,
    "start_time": "2023-04-17T15:38:28.987Z"
   },
   {
    "duration": 206,
    "start_time": "2023-04-17T15:38:29.277Z"
   },
   {
    "duration": 1599,
    "start_time": "2023-04-17T15:38:29.484Z"
   },
   {
    "duration": 746,
    "start_time": "2023-04-17T15:39:05.098Z"
   },
   {
    "duration": 267,
    "start_time": "2023-04-17T15:39:27.909Z"
   },
   {
    "duration": 318,
    "start_time": "2023-04-17T15:39:35.527Z"
   },
   {
    "duration": 430,
    "start_time": "2023-04-17T15:39:41.590Z"
   },
   {
    "duration": 1328,
    "start_time": "2023-04-17T15:42:32.702Z"
   },
   {
    "duration": 285,
    "start_time": "2023-04-17T15:42:34.033Z"
   },
   {
    "duration": 30,
    "start_time": "2023-04-17T15:42:34.319Z"
   },
   {
    "duration": 94,
    "start_time": "2023-04-17T15:42:34.351Z"
   },
   {
    "duration": 208,
    "start_time": "2023-04-17T15:42:34.447Z"
   },
   {
    "duration": 703,
    "start_time": "2023-04-17T15:42:34.657Z"
   },
   {
    "duration": 14,
    "start_time": "2023-04-17T15:42:35.362Z"
   },
   {
    "duration": 74,
    "start_time": "2023-04-17T15:42:35.377Z"
   },
   {
    "duration": 216,
    "start_time": "2023-04-17T15:42:35.453Z"
   },
   {
    "duration": 1075,
    "start_time": "2023-04-17T15:42:50.951Z"
   },
   {
    "duration": 282,
    "start_time": "2023-04-17T15:42:52.027Z"
   },
   {
    "duration": 34,
    "start_time": "2023-04-17T15:42:52.311Z"
   },
   {
    "duration": 29,
    "start_time": "2023-04-17T15:42:52.347Z"
   },
   {
    "duration": 83,
    "start_time": "2023-04-17T15:42:52.378Z"
   },
   {
    "duration": 258,
    "start_time": "2023-04-17T15:42:52.463Z"
   },
   {
    "duration": 0,
    "start_time": "2023-04-17T15:42:52.723Z"
   },
   {
    "duration": 0,
    "start_time": "2023-04-17T15:42:52.725Z"
   },
   {
    "duration": 0,
    "start_time": "2023-04-17T15:42:52.726Z"
   },
   {
    "duration": 168,
    "start_time": "2023-04-17T15:43:09.143Z"
   },
   {
    "duration": 306,
    "start_time": "2023-04-17T15:43:19.771Z"
   },
   {
    "duration": 1285,
    "start_time": "2023-04-17T15:43:39.132Z"
   },
   {
    "duration": 310,
    "start_time": "2023-04-17T15:43:40.419Z"
   },
   {
    "duration": 32,
    "start_time": "2023-04-17T15:43:40.731Z"
   },
   {
    "duration": 36,
    "start_time": "2023-04-17T15:43:40.765Z"
   },
   {
    "duration": 93,
    "start_time": "2023-04-17T15:43:40.803Z"
   },
   {
    "duration": 768,
    "start_time": "2023-04-17T15:43:40.897Z"
   },
   {
    "duration": 213,
    "start_time": "2023-04-17T15:43:41.667Z"
   },
   {
    "duration": 323,
    "start_time": "2023-04-17T15:44:25.310Z"
   },
   {
    "duration": 344,
    "start_time": "2023-04-17T15:46:41.705Z"
   },
   {
    "duration": 294,
    "start_time": "2023-04-17T15:46:57.857Z"
   },
   {
    "duration": 9,
    "start_time": "2023-04-17T15:47:02.165Z"
   },
   {
    "duration": 414,
    "start_time": "2023-04-17T15:48:09.856Z"
   },
   {
    "duration": 297,
    "start_time": "2023-04-17T15:48:25.567Z"
   },
   {
    "duration": 297,
    "start_time": "2023-04-17T15:48:47.455Z"
   },
   {
    "duration": 1488,
    "start_time": "2023-04-17T15:49:27.468Z"
   },
   {
    "duration": 375,
    "start_time": "2023-04-17T15:51:53.695Z"
   },
   {
    "duration": 167,
    "start_time": "2023-04-17T15:53:18.442Z"
   },
   {
    "duration": 169,
    "start_time": "2023-04-17T15:54:58.007Z"
   },
   {
    "duration": 189,
    "start_time": "2023-04-17T15:55:15.310Z"
   },
   {
    "duration": 184,
    "start_time": "2023-04-17T15:56:00.511Z"
   },
   {
    "duration": 273,
    "start_time": "2023-04-17T15:56:49.908Z"
   },
   {
    "duration": 215,
    "start_time": "2023-04-17T15:58:07.700Z"
   },
   {
    "duration": 166,
    "start_time": "2023-04-17T15:58:20.390Z"
   },
   {
    "duration": 182,
    "start_time": "2023-04-17T15:58:35.452Z"
   },
   {
    "duration": 186,
    "start_time": "2023-04-17T15:58:48.731Z"
   },
   {
    "duration": 174,
    "start_time": "2023-04-17T15:59:02.987Z"
   },
   {
    "duration": 176,
    "start_time": "2023-04-17T15:59:11.308Z"
   },
   {
    "duration": 167,
    "start_time": "2023-04-17T15:59:23.818Z"
   },
   {
    "duration": 184,
    "start_time": "2023-04-17T15:59:42.212Z"
   },
   {
    "duration": 1198,
    "start_time": "2023-04-17T16:02:02.332Z"
   },
   {
    "duration": 284,
    "start_time": "2023-04-17T16:02:03.534Z"
   },
   {
    "duration": 35,
    "start_time": "2023-04-17T16:02:03.820Z"
   },
   {
    "duration": 75,
    "start_time": "2023-04-17T16:02:03.858Z"
   },
   {
    "duration": 97,
    "start_time": "2023-04-17T16:02:03.934Z"
   },
   {
    "duration": 726,
    "start_time": "2023-04-17T16:02:04.033Z"
   },
   {
    "duration": 2522,
    "start_time": "2023-04-17T16:02:04.761Z"
   },
   {
    "duration": 426,
    "start_time": "2023-04-17T16:02:07.285Z"
   },
   {
    "duration": 170,
    "start_time": "2023-04-17T16:02:07.713Z"
   },
   {
    "duration": 183,
    "start_time": "2023-04-17T16:02:07.886Z"
   },
   {
    "duration": 166,
    "start_time": "2023-04-17T16:02:32.132Z"
   },
   {
    "duration": 207,
    "start_time": "2023-04-17T16:02:43.315Z"
   },
   {
    "duration": 183,
    "start_time": "2023-04-17T16:03:05.952Z"
   },
   {
    "duration": 303,
    "start_time": "2023-04-17T16:03:34.268Z"
   },
   {
    "duration": 1421,
    "start_time": "2023-04-18T08:20:23.980Z"
   },
   {
    "duration": 369,
    "start_time": "2023-04-18T08:20:25.403Z"
   },
   {
    "duration": 23,
    "start_time": "2023-04-18T08:20:25.774Z"
   },
   {
    "duration": 52,
    "start_time": "2023-04-18T08:20:25.799Z"
   },
   {
    "duration": 84,
    "start_time": "2023-04-18T08:20:25.853Z"
   },
   {
    "duration": 405,
    "start_time": "2023-04-18T08:20:25.939Z"
   },
   {
    "duration": 3188,
    "start_time": "2023-04-18T08:20:26.346Z"
   },
   {
    "duration": 501,
    "start_time": "2023-04-18T08:20:29.537Z"
   },
   {
    "duration": 204,
    "start_time": "2023-04-18T08:20:30.040Z"
   },
   {
    "duration": 180,
    "start_time": "2023-04-18T08:20:30.247Z"
   },
   {
    "duration": 110,
    "start_time": "2023-04-18T08:21:20.617Z"
   },
   {
    "duration": 1106,
    "start_time": "2023-04-18T08:21:45.651Z"
   },
   {
    "duration": 281,
    "start_time": "2023-04-18T08:21:46.759Z"
   },
   {
    "duration": 24,
    "start_time": "2023-04-18T08:21:47.043Z"
   },
   {
    "duration": 32,
    "start_time": "2023-04-18T08:21:47.069Z"
   },
   {
    "duration": 81,
    "start_time": "2023-04-18T08:21:47.118Z"
   },
   {
    "duration": 133,
    "start_time": "2023-04-18T08:21:47.200Z"
   },
   {
    "duration": 331,
    "start_time": "2023-04-18T08:21:47.335Z"
   },
   {
    "duration": 1510,
    "start_time": "2023-04-18T08:21:47.667Z"
   },
   {
    "duration": 433,
    "start_time": "2023-04-18T08:21:49.178Z"
   },
   {
    "duration": 193,
    "start_time": "2023-04-18T08:21:49.613Z"
   },
   {
    "duration": 192,
    "start_time": "2023-04-18T08:21:49.807Z"
   },
   {
    "duration": 1095,
    "start_time": "2023-04-18T08:22:22.112Z"
   },
   {
    "duration": 174,
    "start_time": "2023-04-18T08:22:42.871Z"
   },
   {
    "duration": 176,
    "start_time": "2023-04-18T08:22:49.664Z"
   },
   {
    "duration": 1351,
    "start_time": "2023-04-18T08:27:36.684Z"
   },
   {
    "duration": 277,
    "start_time": "2023-04-18T08:27:38.036Z"
   },
   {
    "duration": 23,
    "start_time": "2023-04-18T08:27:38.315Z"
   },
   {
    "duration": 31,
    "start_time": "2023-04-18T08:27:38.340Z"
   },
   {
    "duration": 97,
    "start_time": "2023-04-18T08:27:38.373Z"
   },
   {
    "duration": 346,
    "start_time": "2023-04-18T08:27:38.471Z"
   },
   {
    "duration": 1598,
    "start_time": "2023-04-18T08:27:38.820Z"
   },
   {
    "duration": 439,
    "start_time": "2023-04-18T08:27:40.420Z"
   },
   {
    "duration": 190,
    "start_time": "2023-04-18T08:27:40.861Z"
   },
   {
    "duration": 191,
    "start_time": "2023-04-18T08:27:41.054Z"
   },
   {
    "duration": 193,
    "start_time": "2023-04-18T08:41:40.319Z"
   },
   {
    "duration": 185,
    "start_time": "2023-04-18T08:42:04.749Z"
   },
   {
    "duration": 196,
    "start_time": "2023-04-18T08:42:23.824Z"
   },
   {
    "duration": 297,
    "start_time": "2023-04-18T08:42:34.434Z"
   },
   {
    "duration": 184,
    "start_time": "2023-04-18T08:42:50.758Z"
   },
   {
    "duration": 1169,
    "start_time": "2023-04-18T08:43:02.643Z"
   },
   {
    "duration": 283,
    "start_time": "2023-04-18T08:43:03.815Z"
   },
   {
    "duration": 26,
    "start_time": "2023-04-18T08:43:04.100Z"
   },
   {
    "duration": 28,
    "start_time": "2023-04-18T08:43:04.129Z"
   },
   {
    "duration": 95,
    "start_time": "2023-04-18T08:43:04.159Z"
   },
   {
    "duration": 329,
    "start_time": "2023-04-18T08:43:04.256Z"
   },
   {
    "duration": 1628,
    "start_time": "2023-04-18T08:43:04.586Z"
   },
   {
    "duration": 433,
    "start_time": "2023-04-18T08:43:06.215Z"
   },
   {
    "duration": 208,
    "start_time": "2023-04-18T08:43:06.650Z"
   },
   {
    "duration": 196,
    "start_time": "2023-04-18T08:43:06.862Z"
   },
   {
    "duration": 216,
    "start_time": "2023-04-18T08:43:07.061Z"
   },
   {
    "duration": 193,
    "start_time": "2023-04-18T08:45:36.435Z"
   },
   {
    "duration": 184,
    "start_time": "2023-04-18T08:45:43.952Z"
   },
   {
    "duration": 4,
    "start_time": "2023-04-18T09:06:52.423Z"
   },
   {
    "duration": 4,
    "start_time": "2023-04-18T09:12:40.823Z"
   },
   {
    "duration": 4,
    "start_time": "2023-04-18T09:13:42.613Z"
   },
   {
    "duration": 5,
    "start_time": "2023-04-18T09:16:17.420Z"
   },
   {
    "duration": 50,
    "start_time": "2023-04-18T09:17:05.471Z"
   },
   {
    "duration": 226,
    "start_time": "2023-04-18T09:20:52.781Z"
   },
   {
    "duration": 3,
    "start_time": "2023-04-18T09:21:25.854Z"
   },
   {
    "duration": 1540,
    "start_time": "2023-04-18T09:21:31.620Z"
   },
   {
    "duration": 575,
    "start_time": "2023-04-18T09:21:33.162Z"
   },
   {
    "duration": 22,
    "start_time": "2023-04-18T09:21:33.739Z"
   },
   {
    "duration": 83,
    "start_time": "2023-04-18T09:21:33.763Z"
   },
   {
    "duration": 197,
    "start_time": "2023-04-18T09:21:33.848Z"
   },
   {
    "duration": 581,
    "start_time": "2023-04-18T09:21:34.047Z"
   },
   {
    "duration": 1605,
    "start_time": "2023-04-18T09:21:34.631Z"
   },
   {
    "duration": 418,
    "start_time": "2023-04-18T09:21:36.238Z"
   },
   {
    "duration": 190,
    "start_time": "2023-04-18T09:21:36.658Z"
   },
   {
    "duration": 187,
    "start_time": "2023-04-18T09:21:36.851Z"
   },
   {
    "duration": 219,
    "start_time": "2023-04-18T09:21:37.040Z"
   },
   {
    "duration": 4,
    "start_time": "2023-04-18T09:21:37.261Z"
   },
   {
    "duration": 21,
    "start_time": "2023-04-18T09:21:37.267Z"
   },
   {
    "duration": 15,
    "start_time": "2023-04-18T09:21:37.290Z"
   },
   {
    "duration": 32,
    "start_time": "2023-04-18T09:21:37.307Z"
   },
   {
    "duration": 129,
    "start_time": "2023-04-18T09:21:37.341Z"
   },
   {
    "duration": 14,
    "start_time": "2023-04-18T09:23:47.820Z"
   },
   {
    "duration": 1283,
    "start_time": "2023-04-18T09:38:11.759Z"
   },
   {
    "duration": 318,
    "start_time": "2023-04-18T09:38:13.044Z"
   },
   {
    "duration": 24,
    "start_time": "2023-04-18T09:38:13.364Z"
   },
   {
    "duration": 46,
    "start_time": "2023-04-18T09:38:13.390Z"
   },
   {
    "duration": 101,
    "start_time": "2023-04-18T09:38:13.438Z"
   },
   {
    "duration": 359,
    "start_time": "2023-04-18T09:38:13.541Z"
   },
   {
    "duration": 1733,
    "start_time": "2023-04-18T09:38:13.902Z"
   },
   {
    "duration": 413,
    "start_time": "2023-04-18T09:38:15.638Z"
   },
   {
    "duration": 206,
    "start_time": "2023-04-18T09:38:16.053Z"
   },
   {
    "duration": 206,
    "start_time": "2023-04-18T09:38:16.263Z"
   },
   {
    "duration": 221,
    "start_time": "2023-04-18T09:38:16.471Z"
   },
   {
    "duration": 4,
    "start_time": "2023-04-18T09:38:16.694Z"
   },
   {
    "duration": 67,
    "start_time": "2023-04-18T09:38:16.700Z"
   },
   {
    "duration": 41,
    "start_time": "2023-04-18T09:38:16.769Z"
   },
   {
    "duration": 34,
    "start_time": "2023-04-18T09:38:16.812Z"
   },
   {
    "duration": 240,
    "start_time": "2023-04-18T09:38:16.848Z"
   },
   {
    "duration": 119,
    "start_time": "2023-04-18T09:38:17.090Z"
   },
   {
    "duration": 1138,
    "start_time": "2023-04-18T09:38:41.363Z"
   },
   {
    "duration": 1261,
    "start_time": "2023-04-18T09:38:56.413Z"
   },
   {
    "duration": 332,
    "start_time": "2023-04-18T09:38:57.676Z"
   },
   {
    "duration": 38,
    "start_time": "2023-04-18T09:38:58.009Z"
   },
   {
    "duration": 32,
    "start_time": "2023-04-18T09:38:58.049Z"
   },
   {
    "duration": 96,
    "start_time": "2023-04-18T09:38:58.083Z"
   },
   {
    "duration": 349,
    "start_time": "2023-04-18T09:38:58.181Z"
   },
   {
    "duration": 1625,
    "start_time": "2023-04-18T09:38:58.532Z"
   },
   {
    "duration": 420,
    "start_time": "2023-04-18T09:39:00.159Z"
   },
   {
    "duration": 219,
    "start_time": "2023-04-18T09:39:00.581Z"
   },
   {
    "duration": 200,
    "start_time": "2023-04-18T09:39:00.802Z"
   },
   {
    "duration": 255,
    "start_time": "2023-04-18T09:39:01.004Z"
   },
   {
    "duration": 6,
    "start_time": "2023-04-18T09:39:01.261Z"
   },
   {
    "duration": 139,
    "start_time": "2023-04-18T09:39:01.269Z"
   },
   {
    "duration": 104,
    "start_time": "2023-04-18T09:39:01.411Z"
   },
   {
    "duration": 66,
    "start_time": "2023-04-18T09:39:01.517Z"
   },
   {
    "duration": 304,
    "start_time": "2023-04-18T09:39:01.585Z"
   },
   {
    "duration": 139,
    "start_time": "2023-04-18T09:39:01.891Z"
   },
   {
    "duration": 12,
    "start_time": "2023-04-18T09:42:14.519Z"
   },
   {
    "duration": 1204,
    "start_time": "2023-04-18T09:48:56.060Z"
   },
   {
    "duration": 327,
    "start_time": "2023-04-18T09:48:57.266Z"
   },
   {
    "duration": 37,
    "start_time": "2023-04-18T09:48:57.595Z"
   },
   {
    "duration": 49,
    "start_time": "2023-04-18T09:48:57.635Z"
   },
   {
    "duration": 85,
    "start_time": "2023-04-18T09:48:57.686Z"
   },
   {
    "duration": 362,
    "start_time": "2023-04-18T09:48:57.772Z"
   },
   {
    "duration": 1652,
    "start_time": "2023-04-18T09:48:58.136Z"
   },
   {
    "duration": 435,
    "start_time": "2023-04-18T09:48:59.790Z"
   },
   {
    "duration": 182,
    "start_time": "2023-04-18T09:49:00.227Z"
   },
   {
    "duration": 190,
    "start_time": "2023-04-18T09:49:00.418Z"
   },
   {
    "duration": 227,
    "start_time": "2023-04-18T09:49:00.610Z"
   },
   {
    "duration": 4,
    "start_time": "2023-04-18T09:49:00.840Z"
   },
   {
    "duration": 88,
    "start_time": "2023-04-18T09:49:00.845Z"
   },
   {
    "duration": 54,
    "start_time": "2023-04-18T09:49:00.935Z"
   },
   {
    "duration": 74,
    "start_time": "2023-04-18T09:49:00.991Z"
   },
   {
    "duration": 284,
    "start_time": "2023-04-18T09:49:01.067Z"
   },
   {
    "duration": 123,
    "start_time": "2023-04-18T09:49:01.353Z"
   },
   {
    "duration": 16,
    "start_time": "2023-04-18T09:51:15.729Z"
   },
   {
    "duration": 1189,
    "start_time": "2023-04-18T09:53:33.972Z"
   },
   {
    "duration": 338,
    "start_time": "2023-04-18T09:53:35.163Z"
   },
   {
    "duration": 37,
    "start_time": "2023-04-18T09:53:35.503Z"
   },
   {
    "duration": 36,
    "start_time": "2023-04-18T09:53:35.545Z"
   },
   {
    "duration": 110,
    "start_time": "2023-04-18T09:53:35.583Z"
   },
   {
    "duration": 355,
    "start_time": "2023-04-18T09:53:35.695Z"
   },
   {
    "duration": 1684,
    "start_time": "2023-04-18T09:53:36.052Z"
   },
   {
    "duration": 432,
    "start_time": "2023-04-18T09:53:37.738Z"
   },
   {
    "duration": 197,
    "start_time": "2023-04-18T09:53:38.171Z"
   },
   {
    "duration": 190,
    "start_time": "2023-04-18T09:53:38.370Z"
   },
   {
    "duration": 214,
    "start_time": "2023-04-18T09:53:38.563Z"
   },
   {
    "duration": 5,
    "start_time": "2023-04-18T09:53:38.779Z"
   },
   {
    "duration": 18,
    "start_time": "2023-04-18T09:53:38.786Z"
   },
   {
    "duration": 10,
    "start_time": "2023-04-18T09:53:38.806Z"
   },
   {
    "duration": 28,
    "start_time": "2023-04-18T09:53:38.817Z"
   },
   {
    "duration": 208,
    "start_time": "2023-04-18T09:53:38.847Z"
   },
   {
    "duration": 134,
    "start_time": "2023-04-18T09:53:39.057Z"
   },
   {
    "duration": 10,
    "start_time": "2023-04-18T09:54:12.533Z"
   },
   {
    "duration": 1271,
    "start_time": "2023-04-18T09:54:19.842Z"
   },
   {
    "duration": 352,
    "start_time": "2023-04-18T09:54:21.115Z"
   },
   {
    "duration": 27,
    "start_time": "2023-04-18T09:54:21.469Z"
   },
   {
    "duration": 54,
    "start_time": "2023-04-18T09:54:21.499Z"
   },
   {
    "duration": 106,
    "start_time": "2023-04-18T09:54:21.554Z"
   },
   {
    "duration": 392,
    "start_time": "2023-04-18T09:54:21.661Z"
   },
   {
    "duration": 1772,
    "start_time": "2023-04-18T09:54:22.054Z"
   },
   {
    "duration": 421,
    "start_time": "2023-04-18T09:54:23.831Z"
   },
   {
    "duration": 204,
    "start_time": "2023-04-18T09:54:24.254Z"
   },
   {
    "duration": 195,
    "start_time": "2023-04-18T09:54:24.461Z"
   },
   {
    "duration": 220,
    "start_time": "2023-04-18T09:54:24.658Z"
   },
   {
    "duration": 4,
    "start_time": "2023-04-18T09:54:24.880Z"
   },
   {
    "duration": 22,
    "start_time": "2023-04-18T09:54:24.886Z"
   },
   {
    "duration": 42,
    "start_time": "2023-04-18T09:54:24.910Z"
   },
   {
    "duration": 22,
    "start_time": "2023-04-18T09:54:24.954Z"
   },
   {
    "duration": 217,
    "start_time": "2023-04-18T09:54:24.977Z"
   },
   {
    "duration": 7,
    "start_time": "2023-04-18T09:54:25.196Z"
   },
   {
    "duration": 1326,
    "start_time": "2023-04-18T09:55:11.936Z"
   },
   {
    "duration": 348,
    "start_time": "2023-04-18T09:55:13.264Z"
   },
   {
    "duration": 37,
    "start_time": "2023-04-18T09:55:13.613Z"
   },
   {
    "duration": 91,
    "start_time": "2023-04-18T09:55:13.652Z"
   },
   {
    "duration": 100,
    "start_time": "2023-04-18T09:55:13.744Z"
   },
   {
    "duration": 356,
    "start_time": "2023-04-18T09:55:13.846Z"
   },
   {
    "duration": 1643,
    "start_time": "2023-04-18T09:55:14.204Z"
   },
   {
    "duration": 422,
    "start_time": "2023-04-18T09:55:15.849Z"
   },
   {
    "duration": 201,
    "start_time": "2023-04-18T09:55:16.273Z"
   },
   {
    "duration": 199,
    "start_time": "2023-04-18T09:55:16.477Z"
   },
   {
    "duration": 218,
    "start_time": "2023-04-18T09:55:16.678Z"
   },
   {
    "duration": 5,
    "start_time": "2023-04-18T09:55:16.898Z"
   },
   {
    "duration": 50,
    "start_time": "2023-04-18T09:55:16.906Z"
   },
   {
    "duration": 42,
    "start_time": "2023-04-18T09:55:16.958Z"
   },
   {
    "duration": 29,
    "start_time": "2023-04-18T09:55:17.002Z"
   },
   {
    "duration": 23,
    "start_time": "2023-04-18T09:55:17.033Z"
   },
   {
    "duration": 1421,
    "start_time": "2023-04-18T10:03:22.423Z"
   },
   {
    "duration": 335,
    "start_time": "2023-04-18T10:03:23.846Z"
   },
   {
    "duration": 26,
    "start_time": "2023-04-18T10:03:24.183Z"
   },
   {
    "duration": 49,
    "start_time": "2023-04-18T10:03:24.210Z"
   },
   {
    "duration": 89,
    "start_time": "2023-04-18T10:03:24.262Z"
   },
   {
    "duration": 348,
    "start_time": "2023-04-18T10:03:24.353Z"
   },
   {
    "duration": 1730,
    "start_time": "2023-04-18T10:03:24.703Z"
   },
   {
    "duration": 457,
    "start_time": "2023-04-18T10:03:26.435Z"
   },
   {
    "duration": 203,
    "start_time": "2023-04-18T10:03:26.894Z"
   },
   {
    "duration": 230,
    "start_time": "2023-04-18T10:03:27.099Z"
   },
   {
    "duration": 220,
    "start_time": "2023-04-18T10:03:27.332Z"
   },
   {
    "duration": 4,
    "start_time": "2023-04-18T10:03:27.554Z"
   },
   {
    "duration": 25,
    "start_time": "2023-04-18T10:03:27.560Z"
   },
   {
    "duration": 7,
    "start_time": "2023-04-18T10:03:27.587Z"
   },
   {
    "duration": 11,
    "start_time": "2023-04-18T10:03:27.595Z"
   },
   {
    "duration": 184,
    "start_time": "2023-04-18T10:03:27.608Z"
   },
   {
    "duration": 7,
    "start_time": "2023-04-18T10:03:27.793Z"
   },
   {
    "duration": 28,
    "start_time": "2023-04-18T10:03:45.269Z"
   },
   {
    "duration": 1238,
    "start_time": "2023-04-18T10:05:07.432Z"
   },
   {
    "duration": 356,
    "start_time": "2023-04-18T10:05:08.672Z"
   },
   {
    "duration": 25,
    "start_time": "2023-04-18T10:05:09.029Z"
   },
   {
    "duration": 34,
    "start_time": "2023-04-18T10:05:09.056Z"
   },
   {
    "duration": 99,
    "start_time": "2023-04-18T10:05:09.092Z"
   },
   {
    "duration": 346,
    "start_time": "2023-04-18T10:05:09.193Z"
   },
   {
    "duration": 1696,
    "start_time": "2023-04-18T10:05:09.540Z"
   },
   {
    "duration": 438,
    "start_time": "2023-04-18T10:05:11.238Z"
   },
   {
    "duration": 220,
    "start_time": "2023-04-18T10:05:11.678Z"
   },
   {
    "duration": 208,
    "start_time": "2023-04-18T10:05:11.900Z"
   },
   {
    "duration": 234,
    "start_time": "2023-04-18T10:05:12.110Z"
   },
   {
    "duration": 6,
    "start_time": "2023-04-18T10:05:12.346Z"
   },
   {
    "duration": 9,
    "start_time": "2023-04-18T10:05:12.354Z"
   },
   {
    "duration": 7,
    "start_time": "2023-04-18T10:05:12.366Z"
   },
   {
    "duration": 9,
    "start_time": "2023-04-18T10:05:12.374Z"
   },
   {
    "duration": 146,
    "start_time": "2023-04-18T10:05:12.385Z"
   },
   {
    "duration": 29,
    "start_time": "2023-04-18T10:05:12.533Z"
   },
   {
    "duration": 7,
    "start_time": "2023-04-18T10:05:12.564Z"
   },
   {
    "duration": 6,
    "start_time": "2023-04-18T10:05:39.556Z"
   },
   {
    "duration": 132,
    "start_time": "2023-04-18T10:14:13.480Z"
   },
   {
    "duration": 21,
    "start_time": "2023-04-18T10:14:41.851Z"
   },
   {
    "duration": 9,
    "start_time": "2023-04-18T10:15:04.462Z"
   },
   {
    "duration": 1227,
    "start_time": "2023-04-18T10:15:57.460Z"
   },
   {
    "duration": 318,
    "start_time": "2023-04-18T10:15:58.689Z"
   },
   {
    "duration": 45,
    "start_time": "2023-04-18T10:15:59.008Z"
   },
   {
    "duration": 32,
    "start_time": "2023-04-18T10:15:59.055Z"
   },
   {
    "duration": 119,
    "start_time": "2023-04-18T10:15:59.089Z"
   },
   {
    "duration": 372,
    "start_time": "2023-04-18T10:15:59.210Z"
   },
   {
    "duration": 2004,
    "start_time": "2023-04-18T10:15:59.584Z"
   },
   {
    "duration": 565,
    "start_time": "2023-04-18T10:16:01.591Z"
   },
   {
    "duration": 252,
    "start_time": "2023-04-18T10:16:02.158Z"
   },
   {
    "duration": 265,
    "start_time": "2023-04-18T10:16:02.419Z"
   },
   {
    "duration": 264,
    "start_time": "2023-04-18T10:16:02.686Z"
   },
   {
    "duration": 5,
    "start_time": "2023-04-18T10:16:02.951Z"
   },
   {
    "duration": 108,
    "start_time": "2023-04-18T10:16:02.958Z"
   },
   {
    "duration": 89,
    "start_time": "2023-04-18T10:16:03.068Z"
   },
   {
    "duration": 27,
    "start_time": "2023-04-18T10:16:03.159Z"
   },
   {
    "duration": 260,
    "start_time": "2023-04-18T10:16:03.189Z"
   },
   {
    "duration": 38,
    "start_time": "2023-04-18T10:16:03.451Z"
   },
   {
    "duration": 77,
    "start_time": "2023-04-18T10:16:03.491Z"
   },
   {
    "duration": 1380,
    "start_time": "2023-04-18T15:26:28.715Z"
   },
   {
    "duration": 1235,
    "start_time": "2023-04-18T15:26:30.098Z"
   },
   {
    "duration": 36,
    "start_time": "2023-04-18T15:26:31.335Z"
   },
   {
    "duration": 44,
    "start_time": "2023-04-18T15:26:31.374Z"
   },
   {
    "duration": 98,
    "start_time": "2023-04-18T15:26:31.420Z"
   },
   {
    "duration": 395,
    "start_time": "2023-04-18T15:26:31.520Z"
   },
   {
    "duration": 3041,
    "start_time": "2023-04-18T15:26:31.917Z"
   },
   {
    "duration": 431,
    "start_time": "2023-04-18T15:26:34.962Z"
   },
   {
    "duration": 201,
    "start_time": "2023-04-18T15:26:35.399Z"
   },
   {
    "duration": 198,
    "start_time": "2023-04-18T15:26:35.602Z"
   },
   {
    "duration": 214,
    "start_time": "2023-04-18T15:26:35.801Z"
   },
   {
    "duration": 4,
    "start_time": "2023-04-18T15:26:36.017Z"
   },
   {
    "duration": 29,
    "start_time": "2023-04-18T15:26:36.022Z"
   },
   {
    "duration": 29,
    "start_time": "2023-04-18T15:26:36.053Z"
   },
   {
    "duration": 22,
    "start_time": "2023-04-18T15:26:36.085Z"
   },
   {
    "duration": 157,
    "start_time": "2023-04-18T15:26:36.109Z"
   },
   {
    "duration": 37,
    "start_time": "2023-04-18T15:26:36.272Z"
   },
   {
    "duration": 10,
    "start_time": "2023-04-18T15:26:36.311Z"
   },
   {
    "duration": 398,
    "start_time": "2023-04-18T15:33:47.150Z"
   },
   {
    "duration": 86,
    "start_time": "2023-04-18T15:42:16.856Z"
   },
   {
    "duration": 21,
    "start_time": "2023-04-18T15:44:32.837Z"
   },
   {
    "duration": 1806,
    "start_time": "2023-04-18T15:48:32.058Z"
   },
   {
    "duration": 340,
    "start_time": "2023-04-18T15:48:33.866Z"
   },
   {
    "duration": 26,
    "start_time": "2023-04-18T15:48:34.208Z"
   },
   {
    "duration": 64,
    "start_time": "2023-04-18T15:48:34.236Z"
   },
   {
    "duration": 108,
    "start_time": "2023-04-18T15:48:34.307Z"
   },
   {
    "duration": 382,
    "start_time": "2023-04-18T15:48:34.417Z"
   },
   {
    "duration": 1877,
    "start_time": "2023-04-18T15:48:34.801Z"
   },
   {
    "duration": 496,
    "start_time": "2023-04-18T15:48:36.680Z"
   },
   {
    "duration": 244,
    "start_time": "2023-04-18T15:48:37.178Z"
   },
   {
    "duration": 395,
    "start_time": "2023-04-18T15:48:37.430Z"
   },
   {
    "duration": 268,
    "start_time": "2023-04-18T15:48:37.828Z"
   },
   {
    "duration": 12,
    "start_time": "2023-04-18T15:48:38.098Z"
   },
   {
    "duration": 4,
    "start_time": "2023-04-18T15:48:38.116Z"
   },
   {
    "duration": 5,
    "start_time": "2023-04-18T15:48:38.122Z"
   },
   {
    "duration": 14,
    "start_time": "2023-04-18T15:48:38.129Z"
   },
   {
    "duration": 146,
    "start_time": "2023-04-18T15:48:38.145Z"
   },
   {
    "duration": 43,
    "start_time": "2023-04-18T15:48:38.293Z"
   },
   {
    "duration": 9,
    "start_time": "2023-04-18T15:48:38.338Z"
   },
   {
    "duration": 54,
    "start_time": "2023-04-18T15:48:38.348Z"
   },
   {
    "duration": 163,
    "start_time": "2023-04-18T15:48:38.411Z"
   },
   {
    "duration": 2378,
    "start_time": "2023-04-18T15:54:23.626Z"
   },
   {
    "duration": 368,
    "start_time": "2023-04-18T15:54:26.010Z"
   },
   {
    "duration": 37,
    "start_time": "2023-04-18T15:54:26.384Z"
   },
   {
    "duration": 31,
    "start_time": "2023-04-18T15:54:26.424Z"
   },
   {
    "duration": 102,
    "start_time": "2023-04-18T15:54:26.457Z"
   },
   {
    "duration": 389,
    "start_time": "2023-04-18T15:54:26.561Z"
   },
   {
    "duration": 2114,
    "start_time": "2023-04-18T15:54:26.952Z"
   },
   {
    "duration": 481,
    "start_time": "2023-04-18T15:54:29.068Z"
   },
   {
    "duration": 226,
    "start_time": "2023-04-18T15:54:29.550Z"
   },
   {
    "duration": 326,
    "start_time": "2023-04-18T15:54:29.780Z"
   },
   {
    "duration": 228,
    "start_time": "2023-04-18T15:54:30.108Z"
   },
   {
    "duration": 7,
    "start_time": "2023-04-18T15:54:30.338Z"
   },
   {
    "duration": 53,
    "start_time": "2023-04-18T15:54:30.347Z"
   },
   {
    "duration": 16,
    "start_time": "2023-04-18T15:54:30.405Z"
   },
   {
    "duration": 35,
    "start_time": "2023-04-18T15:54:30.423Z"
   },
   {
    "duration": 229,
    "start_time": "2023-04-18T15:54:30.460Z"
   },
   {
    "duration": 42,
    "start_time": "2023-04-18T15:54:30.698Z"
   },
   {
    "duration": 62,
    "start_time": "2023-04-18T15:54:30.742Z"
   },
   {
    "duration": 47,
    "start_time": "2023-04-18T15:54:30.808Z"
   },
   {
    "duration": 145,
    "start_time": "2023-04-18T15:54:30.857Z"
   },
   {
    "duration": 1622,
    "start_time": "2023-04-18T15:54:47.050Z"
   },
   {
    "duration": 444,
    "start_time": "2023-04-18T15:54:48.675Z"
   },
   {
    "duration": 35,
    "start_time": "2023-04-18T15:54:49.121Z"
   },
   {
    "duration": 62,
    "start_time": "2023-04-18T15:54:49.168Z"
   },
   {
    "duration": 110,
    "start_time": "2023-04-18T15:54:49.233Z"
   },
   {
    "duration": 398,
    "start_time": "2023-04-18T15:54:49.345Z"
   },
   {
    "duration": 1798,
    "start_time": "2023-04-18T15:54:49.745Z"
   },
   {
    "duration": 471,
    "start_time": "2023-04-18T15:54:51.545Z"
   },
   {
    "duration": 215,
    "start_time": "2023-04-18T15:54:52.018Z"
   },
   {
    "duration": 354,
    "start_time": "2023-04-18T15:54:52.236Z"
   },
   {
    "duration": 225,
    "start_time": "2023-04-18T15:54:52.596Z"
   },
   {
    "duration": 5,
    "start_time": "2023-04-18T15:54:52.823Z"
   },
   {
    "duration": 8,
    "start_time": "2023-04-18T15:54:52.830Z"
   },
   {
    "duration": 17,
    "start_time": "2023-04-18T15:54:52.840Z"
   },
   {
    "duration": 26,
    "start_time": "2023-04-18T15:54:52.859Z"
   },
   {
    "duration": 153,
    "start_time": "2023-04-18T15:54:52.888Z"
   },
   {
    "duration": 47,
    "start_time": "2023-04-18T15:54:53.043Z"
   },
   {
    "duration": 15,
    "start_time": "2023-04-18T15:54:53.099Z"
   },
   {
    "duration": 41,
    "start_time": "2023-04-18T15:54:53.116Z"
   },
   {
    "duration": 4613,
    "start_time": "2023-04-18T15:54:53.159Z"
   },
   {
    "duration": 97,
    "start_time": "2023-04-18T15:57:09.668Z"
   },
   {
    "duration": 5368,
    "start_time": "2023-04-18T15:57:30.861Z"
   },
   {
    "duration": 377776,
    "start_time": "2023-04-18T16:05:53.346Z"
   },
   {
    "duration": 1682,
    "start_time": "2023-04-18T16:13:36.135Z"
   },
   {
    "duration": 337,
    "start_time": "2023-04-18T16:13:37.820Z"
   },
   {
    "duration": 39,
    "start_time": "2023-04-18T16:13:38.168Z"
   },
   {
    "duration": 31,
    "start_time": "2023-04-18T16:13:38.209Z"
   },
   {
    "duration": 113,
    "start_time": "2023-04-18T16:13:38.265Z"
   },
   {
    "duration": 353,
    "start_time": "2023-04-18T16:13:38.380Z"
   },
   {
    "duration": 1712,
    "start_time": "2023-04-18T16:13:38.735Z"
   },
   {
    "duration": 449,
    "start_time": "2023-04-18T16:13:40.448Z"
   },
   {
    "duration": 200,
    "start_time": "2023-04-18T16:13:40.900Z"
   },
   {
    "duration": 347,
    "start_time": "2023-04-18T16:13:41.103Z"
   },
   {
    "duration": 242,
    "start_time": "2023-04-18T16:13:41.453Z"
   },
   {
    "duration": 6,
    "start_time": "2023-04-18T16:13:41.698Z"
   },
   {
    "duration": 8,
    "start_time": "2023-04-18T16:13:41.707Z"
   },
   {
    "duration": 5,
    "start_time": "2023-04-18T16:13:41.718Z"
   },
   {
    "duration": 7,
    "start_time": "2023-04-18T16:13:41.725Z"
   },
   {
    "duration": 216,
    "start_time": "2023-04-18T16:13:41.734Z"
   },
   {
    "duration": 49,
    "start_time": "2023-04-18T16:13:41.952Z"
   },
   {
    "duration": 9,
    "start_time": "2023-04-18T16:13:42.003Z"
   },
   {
    "duration": 52,
    "start_time": "2023-04-18T16:13:42.015Z"
   },
   {
    "duration": 7,
    "start_time": "2023-04-18T16:13:42.069Z"
   },
   {
    "duration": 121,
    "start_time": "2023-04-18T16:16:56.881Z"
   },
   {
    "duration": 1510,
    "start_time": "2023-04-18T16:17:35.021Z"
   },
   {
    "duration": 323,
    "start_time": "2023-04-18T16:17:36.533Z"
   },
   {
    "duration": 43,
    "start_time": "2023-04-18T16:17:36.858Z"
   },
   {
    "duration": 32,
    "start_time": "2023-04-18T16:17:36.903Z"
   },
   {
    "duration": 115,
    "start_time": "2023-04-18T16:17:36.937Z"
   },
   {
    "duration": 367,
    "start_time": "2023-04-18T16:17:37.054Z"
   },
   {
    "duration": 1764,
    "start_time": "2023-04-18T16:17:37.424Z"
   },
   {
    "duration": 455,
    "start_time": "2023-04-18T16:17:39.190Z"
   },
   {
    "duration": 238,
    "start_time": "2023-04-18T16:17:39.647Z"
   },
   {
    "duration": 331,
    "start_time": "2023-04-18T16:17:39.889Z"
   },
   {
    "duration": 214,
    "start_time": "2023-04-18T16:17:40.222Z"
   },
   {
    "duration": 4,
    "start_time": "2023-04-18T16:17:40.438Z"
   },
   {
    "duration": 7,
    "start_time": "2023-04-18T16:17:40.445Z"
   },
   {
    "duration": 5,
    "start_time": "2023-04-18T16:17:40.467Z"
   },
   {
    "duration": 11,
    "start_time": "2023-04-18T16:17:40.474Z"
   },
   {
    "duration": 118,
    "start_time": "2023-04-18T16:17:40.487Z"
   },
   {
    "duration": 27,
    "start_time": "2023-04-18T16:17:40.607Z"
   },
   {
    "duration": 30,
    "start_time": "2023-04-18T16:17:40.636Z"
   },
   {
    "duration": 38,
    "start_time": "2023-04-18T16:17:40.668Z"
   },
   {
    "duration": 4,
    "start_time": "2023-04-18T16:17:40.708Z"
   },
   {
    "duration": 357,
    "start_time": "2023-04-18T16:17:40.714Z"
   },
   {
    "duration": 489,
    "start_time": "2023-04-18T16:23:19.787Z"
   },
   {
    "duration": 1409,
    "start_time": "2023-04-18T16:23:27.026Z"
   },
   {
    "duration": 279,
    "start_time": "2023-04-18T16:23:28.437Z"
   },
   {
    "duration": 24,
    "start_time": "2023-04-18T16:23:28.718Z"
   },
   {
    "duration": 45,
    "start_time": "2023-04-18T16:23:28.744Z"
   },
   {
    "duration": 92,
    "start_time": "2023-04-18T16:23:28.790Z"
   },
   {
    "duration": 333,
    "start_time": "2023-04-18T16:23:28.883Z"
   },
   {
    "duration": 1581,
    "start_time": "2023-04-18T16:23:29.218Z"
   },
   {
    "duration": 449,
    "start_time": "2023-04-18T16:23:30.801Z"
   },
   {
    "duration": 191,
    "start_time": "2023-04-18T16:23:31.252Z"
   },
   {
    "duration": 294,
    "start_time": "2023-04-18T16:23:31.447Z"
   },
   {
    "duration": 202,
    "start_time": "2023-04-18T16:23:31.743Z"
   },
   {
    "duration": 5,
    "start_time": "2023-04-18T16:23:31.947Z"
   },
   {
    "duration": 21,
    "start_time": "2023-04-18T16:23:31.954Z"
   },
   {
    "duration": 6,
    "start_time": "2023-04-18T16:23:31.979Z"
   },
   {
    "duration": 6,
    "start_time": "2023-04-18T16:23:31.986Z"
   },
   {
    "duration": 124,
    "start_time": "2023-04-18T16:23:31.993Z"
   },
   {
    "duration": 30,
    "start_time": "2023-04-18T16:23:32.119Z"
   },
   {
    "duration": 12,
    "start_time": "2023-04-18T16:23:32.167Z"
   },
   {
    "duration": 24,
    "start_time": "2023-04-18T16:23:32.180Z"
   },
   {
    "duration": 6,
    "start_time": "2023-04-18T16:23:32.206Z"
   },
   {
    "duration": 529,
    "start_time": "2023-04-18T16:23:32.213Z"
   },
   {
    "duration": 452017,
    "start_time": "2023-04-18T16:32:38.819Z"
   },
   {
    "duration": 594,
    "start_time": "2023-04-18T16:51:45.412Z"
   },
   {
    "duration": 128295,
    "start_time": "2023-04-18T16:52:22.219Z"
   },
   {
    "duration": 15,
    "start_time": "2023-04-18T16:54:39.011Z"
   },
   {
    "duration": 11,
    "start_time": "2023-04-18T17:01:59.112Z"
   },
   {
    "duration": 6,
    "start_time": "2023-04-18T17:02:22.515Z"
   },
   {
    "duration": 11,
    "start_time": "2023-04-18T17:03:15.921Z"
   },
   {
    "duration": 20,
    "start_time": "2023-04-18T17:03:30.933Z"
   },
   {
    "duration": 21,
    "start_time": "2023-04-18T17:04:27.903Z"
   },
   {
    "duration": 27,
    "start_time": "2023-04-18T17:09:51.213Z"
   },
   {
    "duration": 260,
    "start_time": "2023-04-18T17:12:30.011Z"
   },
   {
    "duration": 22,
    "start_time": "2023-04-18T17:12:37.791Z"
   },
   {
    "duration": 1539,
    "start_time": "2023-04-18T17:12:47.519Z"
   },
   {
    "duration": 343,
    "start_time": "2023-04-18T17:12:49.061Z"
   },
   {
    "duration": 30,
    "start_time": "2023-04-18T17:12:49.406Z"
   },
   {
    "duration": 62,
    "start_time": "2023-04-18T17:12:49.437Z"
   },
   {
    "duration": 92,
    "start_time": "2023-04-18T17:12:49.501Z"
   },
   {
    "duration": 360,
    "start_time": "2023-04-18T17:12:49.595Z"
   },
   {
    "duration": 1764,
    "start_time": "2023-04-18T17:12:49.957Z"
   },
   {
    "duration": 464,
    "start_time": "2023-04-18T17:12:51.723Z"
   },
   {
    "duration": 207,
    "start_time": "2023-04-18T17:12:52.189Z"
   },
   {
    "duration": 311,
    "start_time": "2023-04-18T17:12:52.398Z"
   },
   {
    "duration": 219,
    "start_time": "2023-04-18T17:12:52.711Z"
   },
   {
    "duration": 4,
    "start_time": "2023-04-18T17:12:52.932Z"
   },
   {
    "duration": 19,
    "start_time": "2023-04-18T17:12:52.938Z"
   },
   {
    "duration": 14,
    "start_time": "2023-04-18T17:12:52.959Z"
   },
   {
    "duration": 19,
    "start_time": "2023-04-18T17:12:52.975Z"
   },
   {
    "duration": 256,
    "start_time": "2023-04-18T17:12:52.996Z"
   },
   {
    "duration": 49,
    "start_time": "2023-04-18T17:12:53.254Z"
   },
   {
    "duration": 11,
    "start_time": "2023-04-18T17:12:53.305Z"
   },
   {
    "duration": 55,
    "start_time": "2023-04-18T17:12:53.318Z"
   },
   {
    "duration": 19,
    "start_time": "2023-04-18T17:12:53.380Z"
   },
   {
    "duration": 641,
    "start_time": "2023-04-18T17:12:53.402Z"
   },
   {
    "duration": 439801,
    "start_time": "2023-04-18T17:12:54.045Z"
   },
   {
    "duration": 4,
    "start_time": "2023-04-18T17:20:13.848Z"
   },
   {
    "duration": 184,
    "start_time": "2023-04-18T17:20:13.854Z"
   },
   {
    "duration": 564,
    "start_time": "2023-04-18T17:28:18.444Z"
   },
   {
    "duration": 12,
    "start_time": "2023-04-18T17:28:22.520Z"
   },
   {
    "duration": 159272,
    "start_time": "2023-04-18T17:30:09.530Z"
   },
   {
    "duration": 16,
    "start_time": "2023-04-18T17:36:45.333Z"
   },
   {
    "duration": 12,
    "start_time": "2023-04-18T17:37:49.625Z"
   },
   {
    "duration": 1983,
    "start_time": "2023-04-18T17:39:55.343Z"
   },
   {
    "duration": 2012,
    "start_time": "2023-04-19T08:07:17.155Z"
   },
   {
    "duration": 1229,
    "start_time": "2023-04-19T08:07:19.171Z"
   },
   {
    "duration": 30,
    "start_time": "2023-04-19T08:07:20.402Z"
   },
   {
    "duration": 47,
    "start_time": "2023-04-19T08:07:20.434Z"
   },
   {
    "duration": 103,
    "start_time": "2023-04-19T08:07:20.483Z"
   },
   {
    "duration": 417,
    "start_time": "2023-04-19T08:07:20.588Z"
   },
   {
    "duration": 1955,
    "start_time": "2023-04-19T08:07:21.007Z"
   },
   {
    "duration": 525,
    "start_time": "2023-04-19T08:07:22.964Z"
   },
   {
    "duration": 237,
    "start_time": "2023-04-19T08:07:23.490Z"
   },
   {
    "duration": 398,
    "start_time": "2023-04-19T08:07:23.731Z"
   },
   {
    "duration": 258,
    "start_time": "2023-04-19T08:07:24.131Z"
   },
   {
    "duration": 5,
    "start_time": "2023-04-19T08:07:24.391Z"
   },
   {
    "duration": 5,
    "start_time": "2023-04-19T08:07:24.398Z"
   },
   {
    "duration": 23,
    "start_time": "2023-04-19T08:07:24.405Z"
   },
   {
    "duration": 39,
    "start_time": "2023-04-19T08:07:24.431Z"
   },
   {
    "duration": 266,
    "start_time": "2023-04-19T08:07:24.472Z"
   },
   {
    "duration": 41,
    "start_time": "2023-04-19T08:07:24.744Z"
   },
   {
    "duration": 35,
    "start_time": "2023-04-19T08:07:24.786Z"
   },
   {
    "duration": 30,
    "start_time": "2023-04-19T08:07:24.823Z"
   },
   {
    "duration": 9,
    "start_time": "2023-04-19T08:07:24.855Z"
   },
   {
    "duration": 460,
    "start_time": "2023-04-19T08:07:24.865Z"
   },
   {
    "duration": 434675,
    "start_time": "2023-04-19T08:07:25.327Z"
   },
   {
    "duration": 14,
    "start_time": "2023-04-19T08:14:40.003Z"
   },
   {
    "duration": 461,
    "start_time": "2023-04-19T08:14:40.020Z"
   },
   {
    "duration": 141,
    "start_time": "2023-04-19T08:14:40.483Z"
   },
   {
    "duration": 17,
    "start_time": "2023-04-19T08:16:11.836Z"
   },
   {
    "duration": 28,
    "start_time": "2023-04-19T08:16:32.012Z"
   },
   {
    "duration": 17,
    "start_time": "2023-04-19T08:18:07.676Z"
   },
   {
    "duration": 25,
    "start_time": "2023-04-19T08:18:34.433Z"
   },
   {
    "duration": 1478,
    "start_time": "2023-04-19T08:35:57.379Z"
   },
   {
    "duration": 354,
    "start_time": "2023-04-19T08:35:58.859Z"
   },
   {
    "duration": 36,
    "start_time": "2023-04-19T08:35:59.215Z"
   },
   {
    "duration": 58,
    "start_time": "2023-04-19T08:35:59.254Z"
   },
   {
    "duration": 121,
    "start_time": "2023-04-19T08:35:59.314Z"
   },
   {
    "duration": 386,
    "start_time": "2023-04-19T08:35:59.438Z"
   },
   {
    "duration": 1686,
    "start_time": "2023-04-19T08:35:59.826Z"
   },
   {
    "duration": 479,
    "start_time": "2023-04-19T08:36:01.514Z"
   },
   {
    "duration": 205,
    "start_time": "2023-04-19T08:36:01.995Z"
   },
   {
    "duration": 325,
    "start_time": "2023-04-19T08:36:02.203Z"
   },
   {
    "duration": 228,
    "start_time": "2023-04-19T08:36:02.530Z"
   },
   {
    "duration": 5,
    "start_time": "2023-04-19T08:36:02.760Z"
   },
   {
    "duration": 45,
    "start_time": "2023-04-19T08:36:02.767Z"
   },
   {
    "duration": 39,
    "start_time": "2023-04-19T08:36:02.815Z"
   },
   {
    "duration": 52,
    "start_time": "2023-04-19T08:36:02.856Z"
   },
   {
    "duration": 246,
    "start_time": "2023-04-19T08:36:02.910Z"
   },
   {
    "duration": 30,
    "start_time": "2023-04-19T08:36:03.158Z"
   },
   {
    "duration": 23,
    "start_time": "2023-04-19T08:36:03.190Z"
   },
   {
    "duration": 22,
    "start_time": "2023-04-19T08:36:03.215Z"
   },
   {
    "duration": 3,
    "start_time": "2023-04-19T08:36:03.239Z"
   },
   {
    "duration": 306,
    "start_time": "2023-04-19T08:36:03.244Z"
   },
   {
    "duration": 4,
    "start_time": "2023-04-19T08:36:03.552Z"
   },
   {
    "duration": 3327,
    "start_time": "2023-04-19T08:36:03.558Z"
   },
   {
    "duration": 3186,
    "start_time": "2023-04-19T08:36:06.887Z"
   },
   {
    "duration": 185,
    "start_time": "2023-04-19T08:36:10.076Z"
   },
   {
    "duration": 0,
    "start_time": "2023-04-19T08:36:10.263Z"
   },
   {
    "duration": 0,
    "start_time": "2023-04-19T08:36:10.265Z"
   },
   {
    "duration": 0,
    "start_time": "2023-04-19T08:36:10.266Z"
   },
   {
    "duration": 1453,
    "start_time": "2023-04-19T08:41:47.382Z"
   },
   {
    "duration": 347,
    "start_time": "2023-04-19T08:41:48.837Z"
   },
   {
    "duration": 31,
    "start_time": "2023-04-19T08:41:49.186Z"
   },
   {
    "duration": 31,
    "start_time": "2023-04-19T08:41:49.219Z"
   },
   {
    "duration": 105,
    "start_time": "2023-04-19T08:41:49.252Z"
   },
   {
    "duration": 343,
    "start_time": "2023-04-19T08:41:49.359Z"
   },
   {
    "duration": 1540,
    "start_time": "2023-04-19T08:41:49.704Z"
   },
   {
    "duration": 391,
    "start_time": "2023-04-19T08:41:51.246Z"
   },
   {
    "duration": 183,
    "start_time": "2023-04-19T08:41:51.638Z"
   },
   {
    "duration": 306,
    "start_time": "2023-04-19T08:41:51.824Z"
   },
   {
    "duration": 200,
    "start_time": "2023-04-19T08:41:52.131Z"
   },
   {
    "duration": 5,
    "start_time": "2023-04-19T08:41:52.332Z"
   },
   {
    "duration": 7,
    "start_time": "2023-04-19T08:41:52.339Z"
   },
   {
    "duration": 12,
    "start_time": "2023-04-19T08:41:52.347Z"
   },
   {
    "duration": 13,
    "start_time": "2023-04-19T08:41:52.361Z"
   },
   {
    "duration": 180,
    "start_time": "2023-04-19T08:41:52.375Z"
   },
   {
    "duration": 28,
    "start_time": "2023-04-19T08:41:52.557Z"
   },
   {
    "duration": 10,
    "start_time": "2023-04-19T08:41:52.587Z"
   },
   {
    "duration": 22,
    "start_time": "2023-04-19T08:41:52.612Z"
   },
   {
    "duration": 15,
    "start_time": "2023-04-19T08:41:52.636Z"
   },
   {
    "duration": 292,
    "start_time": "2023-04-19T08:41:52.652Z"
   },
   {
    "duration": 382215,
    "start_time": "2023-04-19T08:41:52.946Z"
   },
   {
    "duration": 4767,
    "start_time": "2023-04-19T08:48:15.162Z"
   },
   {
    "duration": 0,
    "start_time": "2023-04-19T08:48:19.931Z"
   },
   {
    "duration": 0,
    "start_time": "2023-04-19T08:48:19.932Z"
   },
   {
    "duration": 0,
    "start_time": "2023-04-19T08:48:19.933Z"
   },
   {
    "duration": 3,
    "start_time": "2023-04-19T08:52:46.693Z"
   },
   {
    "duration": 2017,
    "start_time": "2023-04-21T05:51:36.007Z"
   },
   {
    "duration": 1734,
    "start_time": "2023-04-21T05:51:38.027Z"
   },
   {
    "duration": 135,
    "start_time": "2023-04-21T05:55:01.928Z"
   },
   {
    "duration": 247,
    "start_time": "2023-04-21T06:25:02.214Z"
   },
   {
    "duration": 29,
    "start_time": "2023-04-21T06:25:03.063Z"
   },
   {
    "duration": 31,
    "start_time": "2023-04-21T06:25:03.624Z"
   },
   {
    "duration": 80,
    "start_time": "2023-04-21T06:25:03.724Z"
   },
   {
    "duration": 364,
    "start_time": "2023-04-21T06:25:03.806Z"
   },
   {
    "duration": 1695,
    "start_time": "2023-04-21T06:25:04.172Z"
   },
   {
    "duration": 442,
    "start_time": "2023-04-21T06:25:05.869Z"
   },
   {
    "duration": 232,
    "start_time": "2023-04-21T06:25:06.313Z"
   },
   {
    "duration": 356,
    "start_time": "2023-04-21T06:25:06.548Z"
   },
   {
    "duration": 219,
    "start_time": "2023-04-21T06:25:06.915Z"
   },
   {
    "duration": 5,
    "start_time": "2023-04-21T06:25:07.136Z"
   },
   {
    "duration": 31,
    "start_time": "2023-04-21T06:25:07.143Z"
   },
   {
    "duration": 3,
    "start_time": "2023-04-21T06:25:08.527Z"
   },
   {
    "duration": 5,
    "start_time": "2023-04-21T06:25:10.423Z"
   },
   {
    "duration": 161,
    "start_time": "2023-04-21T06:25:11.564Z"
   },
   {
    "duration": 26,
    "start_time": "2023-04-21T06:25:12.234Z"
   },
   {
    "duration": 9,
    "start_time": "2023-04-21T06:25:14.653Z"
   },
   {
    "duration": 5,
    "start_time": "2023-04-21T06:25:19.643Z"
   },
   {
    "duration": 86,
    "start_time": "2023-04-21T06:26:48.829Z"
   },
   {
    "duration": 1825,
    "start_time": "2023-04-21T08:42:14.356Z"
   },
   {
    "duration": 466,
    "start_time": "2023-04-21T08:42:16.183Z"
   },
   {
    "duration": 27,
    "start_time": "2023-04-21T08:42:16.651Z"
   },
   {
    "duration": 171,
    "start_time": "2023-04-21T08:42:16.680Z"
   },
   {
    "duration": 83,
    "start_time": "2023-04-21T08:42:16.853Z"
   },
   {
    "duration": 18,
    "start_time": "2023-04-21T08:42:16.939Z"
   },
   {
    "duration": 194,
    "start_time": "2023-04-21T08:42:16.958Z"
   },
   {
    "duration": 0,
    "start_time": "2023-04-21T08:42:17.154Z"
   },
   {
    "duration": 0,
    "start_time": "2023-04-21T08:42:17.155Z"
   },
   {
    "duration": 0,
    "start_time": "2023-04-21T08:42:17.156Z"
   },
   {
    "duration": 0,
    "start_time": "2023-04-21T08:42:17.158Z"
   },
   {
    "duration": 0,
    "start_time": "2023-04-21T08:42:17.159Z"
   },
   {
    "duration": 0,
    "start_time": "2023-04-21T08:42:17.161Z"
   },
   {
    "duration": 0,
    "start_time": "2023-04-21T08:42:17.162Z"
   },
   {
    "duration": 0,
    "start_time": "2023-04-21T08:42:17.164Z"
   },
   {
    "duration": 0,
    "start_time": "2023-04-21T08:42:17.165Z"
   },
   {
    "duration": 0,
    "start_time": "2023-04-21T08:42:17.188Z"
   },
   {
    "duration": 0,
    "start_time": "2023-04-21T08:42:17.189Z"
   },
   {
    "duration": 0,
    "start_time": "2023-04-21T08:42:17.191Z"
   },
   {
    "duration": 0,
    "start_time": "2023-04-21T08:42:17.191Z"
   },
   {
    "duration": 0,
    "start_time": "2023-04-21T08:42:17.193Z"
   },
   {
    "duration": 0,
    "start_time": "2023-04-21T08:42:17.194Z"
   },
   {
    "duration": 0,
    "start_time": "2023-04-21T08:42:17.195Z"
   },
   {
    "duration": 0,
    "start_time": "2023-04-21T08:42:17.196Z"
   },
   {
    "duration": 0,
    "start_time": "2023-04-21T08:42:17.197Z"
   },
   {
    "duration": 0,
    "start_time": "2023-04-21T08:42:17.198Z"
   },
   {
    "duration": 0,
    "start_time": "2023-04-21T08:42:17.199Z"
   },
   {
    "duration": 0,
    "start_time": "2023-04-21T08:42:17.200Z"
   },
   {
    "duration": 0,
    "start_time": "2023-04-21T08:42:17.202Z"
   },
   {
    "duration": 0,
    "start_time": "2023-04-21T08:42:17.203Z"
   },
   {
    "duration": 0,
    "start_time": "2023-04-21T08:42:17.204Z"
   },
   {
    "duration": 1576,
    "start_time": "2023-04-21T08:42:58.346Z"
   },
   {
    "duration": 288,
    "start_time": "2023-04-21T08:42:59.924Z"
   },
   {
    "duration": 26,
    "start_time": "2023-04-21T08:43:00.214Z"
   },
   {
    "duration": 35,
    "start_time": "2023-04-21T08:43:00.243Z"
   },
   {
    "duration": 87,
    "start_time": "2023-04-21T08:43:00.288Z"
   },
   {
    "duration": 21,
    "start_time": "2023-04-21T08:43:00.394Z"
   },
   {
    "duration": 120,
    "start_time": "2023-04-21T08:43:00.417Z"
   },
   {
    "duration": 56,
    "start_time": "2023-04-21T08:43:00.539Z"
   },
   {
    "duration": 27,
    "start_time": "2023-04-21T08:43:00.597Z"
   },
   {
    "duration": 68,
    "start_time": "2023-04-21T08:43:00.627Z"
   },
   {
    "duration": 29,
    "start_time": "2023-04-21T08:43:00.697Z"
   },
   {
    "duration": 62,
    "start_time": "2023-04-21T08:43:00.728Z"
   },
   {
    "duration": 416,
    "start_time": "2023-04-21T08:43:00.792Z"
   },
   {
    "duration": 150,
    "start_time": "2023-04-21T08:43:01.210Z"
   },
   {
    "duration": 0,
    "start_time": "2023-04-21T08:43:01.362Z"
   },
   {
    "duration": 0,
    "start_time": "2023-04-21T08:43:01.364Z"
   },
   {
    "duration": 0,
    "start_time": "2023-04-21T08:43:01.366Z"
   },
   {
    "duration": 0,
    "start_time": "2023-04-21T08:43:01.368Z"
   },
   {
    "duration": 0,
    "start_time": "2023-04-21T08:43:01.369Z"
   },
   {
    "duration": 0,
    "start_time": "2023-04-21T08:43:01.388Z"
   },
   {
    "duration": 0,
    "start_time": "2023-04-21T08:43:01.389Z"
   },
   {
    "duration": 0,
    "start_time": "2023-04-21T08:43:01.391Z"
   },
   {
    "duration": 0,
    "start_time": "2023-04-21T08:43:01.393Z"
   },
   {
    "duration": 0,
    "start_time": "2023-04-21T08:43:01.395Z"
   },
   {
    "duration": 0,
    "start_time": "2023-04-21T08:43:01.396Z"
   },
   {
    "duration": 0,
    "start_time": "2023-04-21T08:43:01.398Z"
   },
   {
    "duration": 0,
    "start_time": "2023-04-21T08:43:01.399Z"
   },
   {
    "duration": 0,
    "start_time": "2023-04-21T08:43:01.401Z"
   },
   {
    "duration": 0,
    "start_time": "2023-04-21T08:43:01.402Z"
   },
   {
    "duration": 0,
    "start_time": "2023-04-21T08:43:01.404Z"
   },
   {
    "duration": 0,
    "start_time": "2023-04-21T08:43:01.407Z"
   },
   {
    "duration": 2085,
    "start_time": "2023-04-21T08:44:55.620Z"
   },
   {
    "duration": 579,
    "start_time": "2023-04-21T08:44:57.708Z"
   },
   {
    "duration": 26,
    "start_time": "2023-04-21T08:44:58.289Z"
   },
   {
    "duration": 99,
    "start_time": "2023-04-21T08:44:58.317Z"
   },
   {
    "duration": 185,
    "start_time": "2023-04-21T08:44:58.418Z"
   },
   {
    "duration": 19,
    "start_time": "2023-04-21T08:44:58.605Z"
   },
   {
    "duration": 193,
    "start_time": "2023-04-21T08:44:58.626Z"
   },
   {
    "duration": 93,
    "start_time": "2023-04-21T08:44:58.821Z"
   },
   {
    "duration": 5,
    "start_time": "2023-04-21T08:44:58.915Z"
   },
   {
    "duration": 91,
    "start_time": "2023-04-21T08:44:58.921Z"
   },
   {
    "duration": 3,
    "start_time": "2023-04-21T08:44:59.014Z"
   },
   {
    "duration": 71,
    "start_time": "2023-04-21T08:44:59.018Z"
   },
   {
    "duration": 551,
    "start_time": "2023-04-21T08:44:59.091Z"
   },
   {
    "duration": 134,
    "start_time": "2023-04-21T08:44:59.645Z"
   },
   {
    "duration": 0,
    "start_time": "2023-04-21T08:44:59.781Z"
   },
   {
    "duration": 0,
    "start_time": "2023-04-21T08:44:59.787Z"
   },
   {
    "duration": 0,
    "start_time": "2023-04-21T08:44:59.788Z"
   },
   {
    "duration": 0,
    "start_time": "2023-04-21T08:44:59.789Z"
   },
   {
    "duration": 0,
    "start_time": "2023-04-21T08:44:59.790Z"
   },
   {
    "duration": 0,
    "start_time": "2023-04-21T08:44:59.791Z"
   },
   {
    "duration": 0,
    "start_time": "2023-04-21T08:44:59.792Z"
   },
   {
    "duration": 0,
    "start_time": "2023-04-21T08:44:59.794Z"
   },
   {
    "duration": 0,
    "start_time": "2023-04-21T08:44:59.794Z"
   },
   {
    "duration": 0,
    "start_time": "2023-04-21T08:44:59.796Z"
   },
   {
    "duration": 0,
    "start_time": "2023-04-21T08:44:59.797Z"
   },
   {
    "duration": 0,
    "start_time": "2023-04-21T08:44:59.798Z"
   },
   {
    "duration": 0,
    "start_time": "2023-04-21T08:44:59.799Z"
   },
   {
    "duration": 0,
    "start_time": "2023-04-21T08:44:59.800Z"
   },
   {
    "duration": 0,
    "start_time": "2023-04-21T08:44:59.801Z"
   },
   {
    "duration": 0,
    "start_time": "2023-04-21T08:44:59.803Z"
   },
   {
    "duration": 0,
    "start_time": "2023-04-21T08:44:59.804Z"
   },
   {
    "duration": 1634,
    "start_time": "2023-04-21T08:50:14.444Z"
   },
   {
    "duration": 1536,
    "start_time": "2023-04-21T08:50:44.861Z"
   },
   {
    "duration": 258,
    "start_time": "2023-04-21T08:50:46.400Z"
   },
   {
    "duration": 32,
    "start_time": "2023-04-21T08:50:46.660Z"
   },
   {
    "duration": 30,
    "start_time": "2023-04-21T08:50:46.693Z"
   },
   {
    "duration": 112,
    "start_time": "2023-04-21T08:50:46.726Z"
   },
   {
    "duration": 21,
    "start_time": "2023-04-21T08:50:46.840Z"
   },
   {
    "duration": 95,
    "start_time": "2023-04-21T08:50:46.862Z"
   },
   {
    "duration": 49,
    "start_time": "2023-04-21T08:50:46.959Z"
   },
   {
    "duration": 4,
    "start_time": "2023-04-21T08:50:47.009Z"
   },
   {
    "duration": 32,
    "start_time": "2023-04-21T08:50:47.015Z"
   },
   {
    "duration": 4,
    "start_time": "2023-04-21T08:50:47.048Z"
   },
   {
    "duration": 34,
    "start_time": "2023-04-21T08:50:47.053Z"
   },
   {
    "duration": 340,
    "start_time": "2023-04-21T08:50:47.089Z"
   },
   {
    "duration": 142,
    "start_time": "2023-04-21T08:50:47.432Z"
   },
   {
    "duration": 0,
    "start_time": "2023-04-21T08:50:47.575Z"
   },
   {
    "duration": 0,
    "start_time": "2023-04-21T08:50:47.577Z"
   },
   {
    "duration": 0,
    "start_time": "2023-04-21T08:50:47.587Z"
   },
   {
    "duration": 0,
    "start_time": "2023-04-21T08:50:47.589Z"
   },
   {
    "duration": 0,
    "start_time": "2023-04-21T08:50:47.590Z"
   },
   {
    "duration": 0,
    "start_time": "2023-04-21T08:50:47.592Z"
   },
   {
    "duration": 0,
    "start_time": "2023-04-21T08:50:47.593Z"
   },
   {
    "duration": 0,
    "start_time": "2023-04-21T08:50:47.594Z"
   },
   {
    "duration": 0,
    "start_time": "2023-04-21T08:50:47.595Z"
   },
   {
    "duration": 0,
    "start_time": "2023-04-21T08:50:47.596Z"
   },
   {
    "duration": 0,
    "start_time": "2023-04-21T08:50:47.597Z"
   },
   {
    "duration": 0,
    "start_time": "2023-04-21T08:50:47.598Z"
   },
   {
    "duration": 0,
    "start_time": "2023-04-21T08:50:47.599Z"
   },
   {
    "duration": 0,
    "start_time": "2023-04-21T08:50:47.601Z"
   },
   {
    "duration": 0,
    "start_time": "2023-04-21T08:50:47.602Z"
   },
   {
    "duration": 0,
    "start_time": "2023-04-21T08:50:47.603Z"
   },
   {
    "duration": 0,
    "start_time": "2023-04-21T08:50:47.604Z"
   },
   {
    "duration": 4,
    "start_time": "2023-04-21T08:52:39.195Z"
   },
   {
    "duration": 1466,
    "start_time": "2023-04-21T08:54:21.037Z"
   },
   {
    "duration": 251,
    "start_time": "2023-04-21T08:54:22.505Z"
   },
   {
    "duration": 38,
    "start_time": "2023-04-21T08:54:22.758Z"
   },
   {
    "duration": 37,
    "start_time": "2023-04-21T08:54:22.799Z"
   },
   {
    "duration": 95,
    "start_time": "2023-04-21T08:54:22.839Z"
   },
   {
    "duration": 18,
    "start_time": "2023-04-21T08:54:22.936Z"
   },
   {
    "duration": 97,
    "start_time": "2023-04-21T08:54:22.956Z"
   },
   {
    "duration": 39,
    "start_time": "2023-04-21T08:54:23.055Z"
   },
   {
    "duration": 39,
    "start_time": "2023-04-21T08:54:23.096Z"
   },
   {
    "duration": 6,
    "start_time": "2023-04-21T08:54:23.137Z"
   },
   {
    "duration": 47,
    "start_time": "2023-04-21T08:54:23.144Z"
   },
   {
    "duration": 4,
    "start_time": "2023-04-21T08:54:23.193Z"
   },
   {
    "duration": 45,
    "start_time": "2023-04-21T08:54:23.199Z"
   },
   {
    "duration": 348,
    "start_time": "2023-04-21T08:54:23.247Z"
   },
   {
    "duration": 135,
    "start_time": "2023-04-21T08:54:23.597Z"
   },
   {
    "duration": 0,
    "start_time": "2023-04-21T08:54:23.734Z"
   },
   {
    "duration": 0,
    "start_time": "2023-04-21T08:54:23.735Z"
   },
   {
    "duration": 0,
    "start_time": "2023-04-21T08:54:23.737Z"
   },
   {
    "duration": 0,
    "start_time": "2023-04-21T08:54:23.738Z"
   },
   {
    "duration": 0,
    "start_time": "2023-04-21T08:54:23.739Z"
   },
   {
    "duration": 0,
    "start_time": "2023-04-21T08:54:23.741Z"
   },
   {
    "duration": 0,
    "start_time": "2023-04-21T08:54:23.741Z"
   },
   {
    "duration": 0,
    "start_time": "2023-04-21T08:54:23.742Z"
   },
   {
    "duration": 0,
    "start_time": "2023-04-21T08:54:23.744Z"
   },
   {
    "duration": 0,
    "start_time": "2023-04-21T08:54:23.745Z"
   },
   {
    "duration": 0,
    "start_time": "2023-04-21T08:54:23.746Z"
   },
   {
    "duration": 0,
    "start_time": "2023-04-21T08:54:23.747Z"
   },
   {
    "duration": 0,
    "start_time": "2023-04-21T08:54:23.748Z"
   },
   {
    "duration": 0,
    "start_time": "2023-04-21T08:54:23.749Z"
   },
   {
    "duration": 0,
    "start_time": "2023-04-21T08:54:23.750Z"
   },
   {
    "duration": 0,
    "start_time": "2023-04-21T08:54:23.751Z"
   },
   {
    "duration": 0,
    "start_time": "2023-04-21T08:54:23.787Z"
   },
   {
    "duration": 1795,
    "start_time": "2023-04-21T08:57:05.985Z"
   },
   {
    "duration": 303,
    "start_time": "2023-04-21T08:57:07.783Z"
   },
   {
    "duration": 40,
    "start_time": "2023-04-21T08:57:08.093Z"
   },
   {
    "duration": 75,
    "start_time": "2023-04-21T08:57:08.136Z"
   },
   {
    "duration": 93,
    "start_time": "2023-04-21T08:57:08.214Z"
   },
   {
    "duration": 18,
    "start_time": "2023-04-21T08:57:08.309Z"
   },
   {
    "duration": 111,
    "start_time": "2023-04-21T08:57:08.329Z"
   },
   {
    "duration": 30,
    "start_time": "2023-04-21T08:57:08.442Z"
   },
   {
    "duration": 55,
    "start_time": "2023-04-21T08:57:08.474Z"
   },
   {
    "duration": 4,
    "start_time": "2023-04-21T08:57:08.531Z"
   },
   {
    "duration": 81,
    "start_time": "2023-04-21T08:57:08.538Z"
   },
   {
    "duration": 8,
    "start_time": "2023-04-21T08:57:08.622Z"
   },
   {
    "duration": 25,
    "start_time": "2023-04-21T08:57:08.632Z"
   },
   {
    "duration": 399,
    "start_time": "2023-04-21T08:57:08.660Z"
   },
   {
    "duration": 3380,
    "start_time": "2023-04-21T08:57:09.062Z"
   },
   {
    "duration": 540,
    "start_time": "2023-04-21T08:57:12.445Z"
   },
   {
    "duration": 233,
    "start_time": "2023-04-21T08:57:12.987Z"
   },
   {
    "duration": 220,
    "start_time": "2023-04-21T08:57:13.222Z"
   },
   {
    "duration": 382,
    "start_time": "2023-04-21T08:57:13.444Z"
   },
   {
    "duration": 5,
    "start_time": "2023-04-21T08:57:13.828Z"
   },
   {
    "duration": 30,
    "start_time": "2023-04-21T08:57:13.837Z"
   },
   {
    "duration": 66,
    "start_time": "2023-04-21T08:57:13.870Z"
   },
   {
    "duration": 29,
    "start_time": "2023-04-21T08:57:13.939Z"
   },
   {
    "duration": 1533,
    "start_time": "2023-04-21T08:57:13.971Z"
   },
   {
    "duration": 0,
    "start_time": "2023-04-21T08:57:15.507Z"
   },
   {
    "duration": 0,
    "start_time": "2023-04-21T08:57:15.509Z"
   },
   {
    "duration": 0,
    "start_time": "2023-04-21T08:57:15.510Z"
   },
   {
    "duration": 0,
    "start_time": "2023-04-21T08:57:15.512Z"
   },
   {
    "duration": 0,
    "start_time": "2023-04-21T08:57:15.514Z"
   },
   {
    "duration": 0,
    "start_time": "2023-04-21T08:57:15.516Z"
   },
   {
    "duration": 0,
    "start_time": "2023-04-21T08:57:15.517Z"
   },
   {
    "duration": 0,
    "start_time": "2023-04-21T08:57:15.519Z"
   },
   {
    "duration": 1569,
    "start_time": "2023-04-21T09:05:40.050Z"
   },
   {
    "duration": 263,
    "start_time": "2023-04-21T09:05:41.622Z"
   },
   {
    "duration": 28,
    "start_time": "2023-04-21T09:05:41.887Z"
   },
   {
    "duration": 30,
    "start_time": "2023-04-21T09:05:41.918Z"
   },
   {
    "duration": 108,
    "start_time": "2023-04-21T09:05:41.951Z"
   },
   {
    "duration": 38,
    "start_time": "2023-04-21T09:05:42.061Z"
   },
   {
    "duration": 99,
    "start_time": "2023-04-21T09:05:42.103Z"
   },
   {
    "duration": 29,
    "start_time": "2023-04-21T09:05:42.204Z"
   },
   {
    "duration": 67,
    "start_time": "2023-04-21T09:05:42.235Z"
   },
   {
    "duration": 6,
    "start_time": "2023-04-21T09:05:42.303Z"
   },
   {
    "duration": 42,
    "start_time": "2023-04-21T09:05:42.310Z"
   },
   {
    "duration": 4,
    "start_time": "2023-04-21T09:05:42.354Z"
   },
   {
    "duration": 58,
    "start_time": "2023-04-21T09:05:42.359Z"
   },
   {
    "duration": 19,
    "start_time": "2023-04-21T09:05:42.420Z"
   },
   {
    "duration": 400,
    "start_time": "2023-04-21T09:05:42.441Z"
   },
   {
    "duration": 1709,
    "start_time": "2023-04-21T09:05:42.842Z"
   },
   {
    "duration": 449,
    "start_time": "2023-04-21T09:05:44.553Z"
   },
   {
    "duration": 210,
    "start_time": "2023-04-21T09:05:45.004Z"
   },
   {
    "duration": 205,
    "start_time": "2023-04-21T09:05:45.216Z"
   },
   {
    "duration": 349,
    "start_time": "2023-04-21T09:05:45.423Z"
   },
   {
    "duration": 4,
    "start_time": "2023-04-21T09:05:45.774Z"
   },
   {
    "duration": 28,
    "start_time": "2023-04-21T09:05:45.793Z"
   },
   {
    "duration": 15,
    "start_time": "2023-04-21T09:05:45.822Z"
   },
   {
    "duration": 15,
    "start_time": "2023-04-21T09:05:45.839Z"
   },
   {
    "duration": 1551,
    "start_time": "2023-04-21T09:05:45.856Z"
   },
   {
    "duration": 0,
    "start_time": "2023-04-21T09:05:47.409Z"
   },
   {
    "duration": 0,
    "start_time": "2023-04-21T09:05:47.411Z"
   },
   {
    "duration": 0,
    "start_time": "2023-04-21T09:05:47.412Z"
   },
   {
    "duration": 0,
    "start_time": "2023-04-21T09:05:47.412Z"
   },
   {
    "duration": 0,
    "start_time": "2023-04-21T09:05:47.414Z"
   },
   {
    "duration": 0,
    "start_time": "2023-04-21T09:05:47.415Z"
   },
   {
    "duration": 0,
    "start_time": "2023-04-21T09:05:47.416Z"
   },
   {
    "duration": 0,
    "start_time": "2023-04-21T09:05:47.417Z"
   },
   {
    "duration": 1651,
    "start_time": "2023-04-22T09:08:15.721Z"
   },
   {
    "duration": 447,
    "start_time": "2023-04-22T09:08:17.374Z"
   },
   {
    "duration": 29,
    "start_time": "2023-04-22T09:08:17.822Z"
   },
   {
    "duration": 28,
    "start_time": "2023-04-22T09:08:17.854Z"
   },
   {
    "duration": 76,
    "start_time": "2023-04-22T09:08:17.884Z"
   },
   {
    "duration": 17,
    "start_time": "2023-04-22T09:08:17.962Z"
   },
   {
    "duration": 94,
    "start_time": "2023-04-22T09:08:17.980Z"
   },
   {
    "duration": 26,
    "start_time": "2023-04-22T09:08:18.076Z"
   },
   {
    "duration": 49,
    "start_time": "2023-04-22T09:08:18.104Z"
   },
   {
    "duration": 4,
    "start_time": "2023-04-22T09:08:18.156Z"
   },
   {
    "duration": 33,
    "start_time": "2023-04-22T09:08:18.162Z"
   },
   {
    "duration": 3,
    "start_time": "2023-04-22T09:08:18.197Z"
   },
   {
    "duration": 37,
    "start_time": "2023-04-22T09:08:18.201Z"
   },
   {
    "duration": 3,
    "start_time": "2023-04-22T09:08:18.239Z"
   },
   {
    "duration": 333,
    "start_time": "2023-04-22T09:08:18.243Z"
   },
   {
    "duration": 1521,
    "start_time": "2023-04-22T09:08:18.577Z"
   },
   {
    "duration": 395,
    "start_time": "2023-04-22T09:08:20.100Z"
   },
   {
    "duration": 168,
    "start_time": "2023-04-22T09:08:20.496Z"
   },
   {
    "duration": 173,
    "start_time": "2023-04-22T09:08:20.666Z"
   },
   {
    "duration": 322,
    "start_time": "2023-04-22T09:08:20.841Z"
   },
   {
    "duration": 5,
    "start_time": "2023-04-22T09:08:21.165Z"
   },
   {
    "duration": 20,
    "start_time": "2023-04-22T09:08:21.172Z"
   },
   {
    "duration": 6,
    "start_time": "2023-04-22T09:08:21.193Z"
   },
   {
    "duration": 8,
    "start_time": "2023-04-22T09:08:21.201Z"
   },
   {
    "duration": 904,
    "start_time": "2023-04-22T09:08:21.210Z"
   },
   {
    "duration": 0,
    "start_time": "2023-04-22T09:08:22.116Z"
   },
   {
    "duration": 0,
    "start_time": "2023-04-22T09:08:22.117Z"
   },
   {
    "duration": 0,
    "start_time": "2023-04-22T09:08:22.118Z"
   },
   {
    "duration": 0,
    "start_time": "2023-04-22T09:08:22.120Z"
   },
   {
    "duration": 0,
    "start_time": "2023-04-22T09:08:22.121Z"
   },
   {
    "duration": 0,
    "start_time": "2023-04-22T09:08:22.123Z"
   },
   {
    "duration": 0,
    "start_time": "2023-04-22T09:08:22.125Z"
   },
   {
    "duration": 0,
    "start_time": "2023-04-22T09:08:22.126Z"
   },
   {
    "duration": 1382,
    "start_time": "2023-04-22T09:20:49.096Z"
   },
   {
    "duration": 227,
    "start_time": "2023-04-22T09:20:50.480Z"
   },
   {
    "duration": 24,
    "start_time": "2023-04-22T09:20:50.709Z"
   },
   {
    "duration": 28,
    "start_time": "2023-04-22T09:20:50.735Z"
   },
   {
    "duration": 84,
    "start_time": "2023-04-22T09:20:50.765Z"
   },
   {
    "duration": 16,
    "start_time": "2023-04-22T09:20:50.850Z"
   },
   {
    "duration": 89,
    "start_time": "2023-04-22T09:20:50.868Z"
   },
   {
    "duration": 33,
    "start_time": "2023-04-22T09:20:50.959Z"
   },
   {
    "duration": 4,
    "start_time": "2023-04-22T09:20:50.994Z"
   },
   {
    "duration": 38,
    "start_time": "2023-04-22T09:20:50.999Z"
   },
   {
    "duration": 21,
    "start_time": "2023-04-22T09:20:51.039Z"
   },
   {
    "duration": 2,
    "start_time": "2023-04-22T09:20:51.062Z"
   },
   {
    "duration": 25,
    "start_time": "2023-04-22T09:20:51.066Z"
   },
   {
    "duration": 2,
    "start_time": "2023-04-22T09:20:51.093Z"
   },
   {
    "duration": 307,
    "start_time": "2023-04-22T09:20:51.097Z"
   },
   {
    "duration": 1425,
    "start_time": "2023-04-22T09:20:51.405Z"
   },
   {
    "duration": 382,
    "start_time": "2023-04-22T09:20:52.831Z"
   },
   {
    "duration": 174,
    "start_time": "2023-04-22T09:20:53.214Z"
   },
   {
    "duration": 169,
    "start_time": "2023-04-22T09:20:53.389Z"
   },
   {
    "duration": 291,
    "start_time": "2023-04-22T09:20:53.559Z"
   },
   {
    "duration": 4,
    "start_time": "2023-04-22T09:20:53.851Z"
   },
   {
    "duration": 12,
    "start_time": "2023-04-22T09:20:53.856Z"
   },
   {
    "duration": 5,
    "start_time": "2023-04-22T09:20:53.870Z"
   },
   {
    "duration": 9,
    "start_time": "2023-04-22T09:20:53.876Z"
   },
   {
    "duration": 979,
    "start_time": "2023-04-22T09:20:53.887Z"
   },
   {
    "duration": 1,
    "start_time": "2023-04-22T09:20:54.867Z"
   },
   {
    "duration": 0,
    "start_time": "2023-04-22T09:20:54.868Z"
   },
   {
    "duration": 0,
    "start_time": "2023-04-22T09:20:54.869Z"
   },
   {
    "duration": 0,
    "start_time": "2023-04-22T09:20:54.870Z"
   },
   {
    "duration": 0,
    "start_time": "2023-04-22T09:20:54.871Z"
   },
   {
    "duration": 0,
    "start_time": "2023-04-22T09:20:54.872Z"
   },
   {
    "duration": 0,
    "start_time": "2023-04-22T09:20:54.874Z"
   },
   {
    "duration": 0,
    "start_time": "2023-04-22T09:20:54.874Z"
   },
   {
    "duration": 3,
    "start_time": "2023-04-22T09:30:31.422Z"
   },
   {
    "duration": 1355,
    "start_time": "2023-04-22T09:37:09.240Z"
   },
   {
    "duration": 224,
    "start_time": "2023-04-22T09:37:10.598Z"
   },
   {
    "duration": 22,
    "start_time": "2023-04-22T09:37:10.823Z"
   },
   {
    "duration": 36,
    "start_time": "2023-04-22T09:37:10.847Z"
   },
   {
    "duration": 70,
    "start_time": "2023-04-22T09:37:10.884Z"
   },
   {
    "duration": 15,
    "start_time": "2023-04-22T09:37:10.956Z"
   },
   {
    "duration": 87,
    "start_time": "2023-04-22T09:37:10.972Z"
   },
   {
    "duration": 34,
    "start_time": "2023-04-22T09:37:11.060Z"
   },
   {
    "duration": 4,
    "start_time": "2023-04-22T09:37:11.095Z"
   },
   {
    "duration": 37,
    "start_time": "2023-04-22T09:37:11.101Z"
   },
   {
    "duration": 29,
    "start_time": "2023-04-22T09:37:11.141Z"
   },
   {
    "duration": 3,
    "start_time": "2023-04-22T09:37:11.172Z"
   },
   {
    "duration": 24,
    "start_time": "2023-04-22T09:37:11.177Z"
   },
   {
    "duration": 10,
    "start_time": "2023-04-22T09:37:11.203Z"
   },
   {
    "duration": 330,
    "start_time": "2023-04-22T09:37:11.214Z"
   },
   {
    "duration": 1399,
    "start_time": "2023-04-22T09:37:11.546Z"
   },
   {
    "duration": 382,
    "start_time": "2023-04-22T09:37:12.947Z"
   },
   {
    "duration": 176,
    "start_time": "2023-04-22T09:37:13.330Z"
   },
   {
    "duration": 162,
    "start_time": "2023-04-22T09:37:13.507Z"
   },
   {
    "duration": 269,
    "start_time": "2023-04-22T09:37:13.671Z"
   },
   {
    "duration": 5,
    "start_time": "2023-04-22T09:37:13.942Z"
   },
   {
    "duration": 16,
    "start_time": "2023-04-22T09:37:13.948Z"
   },
   {
    "duration": 957,
    "start_time": "2023-04-22T09:37:13.965Z"
   },
   {
    "duration": 0,
    "start_time": "2023-04-22T09:37:14.924Z"
   },
   {
    "duration": 0,
    "start_time": "2023-04-22T09:37:14.925Z"
   },
   {
    "duration": 0,
    "start_time": "2023-04-22T09:37:14.926Z"
   },
   {
    "duration": 0,
    "start_time": "2023-04-22T09:37:14.927Z"
   },
   {
    "duration": 0,
    "start_time": "2023-04-22T09:37:14.928Z"
   },
   {
    "duration": 0,
    "start_time": "2023-04-22T09:37:14.929Z"
   },
   {
    "duration": 0,
    "start_time": "2023-04-22T09:37:14.930Z"
   },
   {
    "duration": 0,
    "start_time": "2023-04-22T09:37:14.931Z"
   },
   {
    "duration": 908,
    "start_time": "2023-04-22T09:39:46.308Z"
   },
   {
    "duration": 1110,
    "start_time": "2023-04-22T09:40:35.436Z"
   },
   {
    "duration": 922,
    "start_time": "2023-04-22T09:41:04.338Z"
   },
   {
    "duration": 25,
    "start_time": "2023-04-22T09:41:27.500Z"
   },
   {
    "duration": 1322,
    "start_time": "2023-04-22T09:44:45.266Z"
   },
   {
    "duration": 256,
    "start_time": "2023-04-22T09:44:46.590Z"
   },
   {
    "duration": 29,
    "start_time": "2023-04-22T09:44:46.849Z"
   },
   {
    "duration": 49,
    "start_time": "2023-04-22T09:44:46.880Z"
   },
   {
    "duration": 72,
    "start_time": "2023-04-22T09:44:46.932Z"
   },
   {
    "duration": 16,
    "start_time": "2023-04-22T09:44:47.006Z"
   },
   {
    "duration": 88,
    "start_time": "2023-04-22T09:44:47.023Z"
   },
   {
    "duration": 41,
    "start_time": "2023-04-22T09:44:47.112Z"
   },
   {
    "duration": 4,
    "start_time": "2023-04-22T09:44:47.155Z"
   },
   {
    "duration": 27,
    "start_time": "2023-04-22T09:44:47.160Z"
   },
   {
    "duration": 21,
    "start_time": "2023-04-22T09:44:47.188Z"
   },
   {
    "duration": 3,
    "start_time": "2023-04-22T09:44:47.210Z"
   },
   {
    "duration": 31,
    "start_time": "2023-04-22T09:44:47.215Z"
   },
   {
    "duration": 3,
    "start_time": "2023-04-22T09:44:47.248Z"
   },
   {
    "duration": 295,
    "start_time": "2023-04-22T09:44:47.252Z"
   },
   {
    "duration": 1512,
    "start_time": "2023-04-22T09:44:47.549Z"
   },
   {
    "duration": 816,
    "start_time": "2023-04-22T09:44:49.062Z"
   },
   {
    "duration": 409,
    "start_time": "2023-04-22T09:44:49.933Z"
   },
   {
    "duration": 330,
    "start_time": "2023-04-22T09:44:50.344Z"
   },
   {
    "duration": 403,
    "start_time": "2023-04-22T09:44:50.676Z"
   },
   {
    "duration": 5,
    "start_time": "2023-04-22T09:44:51.081Z"
   },
   {
    "duration": 19,
    "start_time": "2023-04-22T09:44:51.088Z"
   },
   {
    "duration": 898,
    "start_time": "2023-04-22T09:44:51.109Z"
   },
   {
    "duration": 0,
    "start_time": "2023-04-22T09:44:52.009Z"
   },
   {
    "duration": 0,
    "start_time": "2023-04-22T09:44:52.011Z"
   },
   {
    "duration": 0,
    "start_time": "2023-04-22T09:44:52.012Z"
   },
   {
    "duration": 0,
    "start_time": "2023-04-22T09:44:52.014Z"
   },
   {
    "duration": 0,
    "start_time": "2023-04-22T09:44:52.015Z"
   },
   {
    "duration": 0,
    "start_time": "2023-04-22T09:44:52.016Z"
   },
   {
    "duration": 0,
    "start_time": "2023-04-22T09:44:52.018Z"
   },
   {
    "duration": 0,
    "start_time": "2023-04-22T09:44:52.019Z"
   },
   {
    "duration": 762,
    "start_time": "2023-04-22T09:45:38.653Z"
   },
   {
    "duration": 10,
    "start_time": "2023-04-22T09:50:32.923Z"
   },
   {
    "duration": 1734,
    "start_time": "2023-04-22T14:30:34.736Z"
   },
   {
    "duration": 1356,
    "start_time": "2023-04-22T14:30:36.472Z"
   },
   {
    "duration": 27,
    "start_time": "2023-04-22T14:30:37.830Z"
   },
   {
    "duration": 27,
    "start_time": "2023-04-22T14:30:37.859Z"
   },
   {
    "duration": 87,
    "start_time": "2023-04-22T14:30:37.889Z"
   },
   {
    "duration": 18,
    "start_time": "2023-04-22T14:30:37.978Z"
   },
   {
    "duration": 95,
    "start_time": "2023-04-22T14:30:37.997Z"
   },
   {
    "duration": 51,
    "start_time": "2023-04-22T14:30:38.094Z"
   },
   {
    "duration": 4,
    "start_time": "2023-04-22T14:30:38.147Z"
   },
   {
    "duration": 28,
    "start_time": "2023-04-22T14:30:38.153Z"
   },
   {
    "duration": 49,
    "start_time": "2023-04-22T14:30:38.182Z"
   },
   {
    "duration": 6,
    "start_time": "2023-04-22T14:30:38.234Z"
   },
   {
    "duration": 18,
    "start_time": "2023-04-22T14:30:38.241Z"
   },
   {
    "duration": 4,
    "start_time": "2023-04-22T14:30:38.262Z"
   },
   {
    "duration": 385,
    "start_time": "2023-04-22T14:30:38.268Z"
   },
   {
    "duration": 1798,
    "start_time": "2023-04-22T14:30:38.656Z"
   },
   {
    "duration": 447,
    "start_time": "2023-04-22T14:30:40.455Z"
   },
   {
    "duration": 201,
    "start_time": "2023-04-22T14:30:40.903Z"
   },
   {
    "duration": 193,
    "start_time": "2023-04-22T14:30:41.106Z"
   },
   {
    "duration": 325,
    "start_time": "2023-04-22T14:30:41.301Z"
   },
   {
    "duration": 8,
    "start_time": "2023-04-22T14:30:41.629Z"
   },
   {
    "duration": 16,
    "start_time": "2023-04-22T14:30:41.638Z"
   },
   {
    "duration": 1539,
    "start_time": "2023-04-22T14:30:41.655Z"
   },
   {
    "duration": 0,
    "start_time": "2023-04-22T14:30:43.196Z"
   },
   {
    "duration": 0,
    "start_time": "2023-04-22T14:30:43.197Z"
   },
   {
    "duration": 0,
    "start_time": "2023-04-22T14:30:43.198Z"
   },
   {
    "duration": 0,
    "start_time": "2023-04-22T14:30:43.199Z"
   },
   {
    "duration": 0,
    "start_time": "2023-04-22T14:30:43.201Z"
   },
   {
    "duration": 0,
    "start_time": "2023-04-22T14:30:43.202Z"
   },
   {
    "duration": 12,
    "start_time": "2023-04-22T14:31:32.746Z"
   },
   {
    "duration": 1538,
    "start_time": "2023-04-22T14:43:16.835Z"
   },
   {
    "duration": 261,
    "start_time": "2023-04-22T14:43:18.375Z"
   },
   {
    "duration": 25,
    "start_time": "2023-04-22T14:43:18.638Z"
   },
   {
    "duration": 52,
    "start_time": "2023-04-22T14:43:18.666Z"
   },
   {
    "duration": 86,
    "start_time": "2023-04-22T14:43:18.721Z"
   },
   {
    "duration": 23,
    "start_time": "2023-04-22T14:43:18.811Z"
   },
   {
    "duration": 117,
    "start_time": "2023-04-22T14:43:18.836Z"
   },
   {
    "duration": 43,
    "start_time": "2023-04-22T14:43:18.955Z"
   },
   {
    "duration": 15,
    "start_time": "2023-04-22T14:43:19.000Z"
   },
   {
    "duration": 54,
    "start_time": "2023-04-22T14:43:19.019Z"
   },
   {
    "duration": 56,
    "start_time": "2023-04-22T14:43:19.076Z"
   },
   {
    "duration": 10,
    "start_time": "2023-04-22T14:43:19.134Z"
   },
   {
    "duration": 26,
    "start_time": "2023-04-22T14:43:19.146Z"
   },
   {
    "duration": 465,
    "start_time": "2023-04-22T14:43:19.175Z"
   },
   {
    "duration": 2809,
    "start_time": "2023-04-22T14:43:19.642Z"
   },
   {
    "duration": 476,
    "start_time": "2023-04-22T14:43:22.453Z"
   },
   {
    "duration": 197,
    "start_time": "2023-04-22T14:43:22.931Z"
   },
   {
    "duration": 204,
    "start_time": "2023-04-22T14:43:23.130Z"
   },
   {
    "duration": 322,
    "start_time": "2023-04-22T14:43:23.336Z"
   },
   {
    "duration": 6,
    "start_time": "2023-04-22T14:43:23.659Z"
   },
   {
    "duration": 13,
    "start_time": "2023-04-22T14:43:23.667Z"
   },
   {
    "duration": 151,
    "start_time": "2023-04-22T14:43:23.682Z"
   },
   {
    "duration": 0,
    "start_time": "2023-04-22T14:43:23.835Z"
   },
   {
    "duration": 0,
    "start_time": "2023-04-22T14:43:23.838Z"
   },
   {
    "duration": 0,
    "start_time": "2023-04-22T14:43:23.839Z"
   },
   {
    "duration": 4,
    "start_time": "2023-04-22T14:52:33.184Z"
   },
   {
    "duration": 1627,
    "start_time": "2023-04-22T14:52:41.316Z"
   },
   {
    "duration": 263,
    "start_time": "2023-04-22T14:52:42.945Z"
   },
   {
    "duration": 30,
    "start_time": "2023-04-22T14:52:43.210Z"
   },
   {
    "duration": 30,
    "start_time": "2023-04-22T14:52:43.241Z"
   },
   {
    "duration": 105,
    "start_time": "2023-04-22T14:52:43.273Z"
   },
   {
    "duration": 17,
    "start_time": "2023-04-22T14:52:43.380Z"
   },
   {
    "duration": 99,
    "start_time": "2023-04-22T14:52:43.399Z"
   },
   {
    "duration": 56,
    "start_time": "2023-04-22T14:52:43.500Z"
   },
   {
    "duration": 5,
    "start_time": "2023-04-22T14:52:43.558Z"
   },
   {
    "duration": 28,
    "start_time": "2023-04-22T14:52:43.565Z"
   },
   {
    "duration": 49,
    "start_time": "2023-04-22T14:52:43.595Z"
   },
   {
    "duration": 4,
    "start_time": "2023-04-22T14:52:43.646Z"
   },
   {
    "duration": 18,
    "start_time": "2023-04-22T14:52:43.652Z"
   },
   {
    "duration": 376,
    "start_time": "2023-04-22T14:52:43.673Z"
   },
   {
    "duration": 1662,
    "start_time": "2023-04-22T14:52:44.051Z"
   },
   {
    "duration": 434,
    "start_time": "2023-04-22T14:52:45.715Z"
   },
   {
    "duration": 197,
    "start_time": "2023-04-22T14:52:46.151Z"
   },
   {
    "duration": 195,
    "start_time": "2023-04-22T14:52:46.350Z"
   },
   {
    "duration": 372,
    "start_time": "2023-04-22T14:52:46.547Z"
   },
   {
    "duration": 8,
    "start_time": "2023-04-22T14:52:46.921Z"
   },
   {
    "duration": 221,
    "start_time": "2023-04-22T14:52:46.931Z"
   },
   {
    "duration": 0,
    "start_time": "2023-04-22T14:52:47.154Z"
   },
   {
    "duration": 0,
    "start_time": "2023-04-22T14:52:47.155Z"
   },
   {
    "duration": 0,
    "start_time": "2023-04-22T14:52:47.156Z"
   },
   {
    "duration": 0,
    "start_time": "2023-04-22T14:52:47.157Z"
   },
   {
    "duration": 0,
    "start_time": "2023-04-22T14:52:47.158Z"
   },
   {
    "duration": 1512,
    "start_time": "2023-04-22T14:53:17.024Z"
   },
   {
    "duration": 258,
    "start_time": "2023-04-22T14:53:18.539Z"
   },
   {
    "duration": 33,
    "start_time": "2023-04-22T14:53:18.800Z"
   },
   {
    "duration": 40,
    "start_time": "2023-04-22T14:53:18.835Z"
   },
   {
    "duration": 113,
    "start_time": "2023-04-22T14:53:18.878Z"
   },
   {
    "duration": 28,
    "start_time": "2023-04-22T14:53:18.993Z"
   },
   {
    "duration": 121,
    "start_time": "2023-04-22T14:53:19.025Z"
   },
   {
    "duration": 44,
    "start_time": "2023-04-22T14:53:19.148Z"
   },
   {
    "duration": 26,
    "start_time": "2023-04-22T14:53:19.194Z"
   },
   {
    "duration": 33,
    "start_time": "2023-04-22T14:53:19.223Z"
   },
   {
    "duration": 27,
    "start_time": "2023-04-22T14:53:19.258Z"
   },
   {
    "duration": 4,
    "start_time": "2023-04-22T14:53:19.287Z"
   },
   {
    "duration": 38,
    "start_time": "2023-04-22T14:53:19.293Z"
   },
   {
    "duration": 350,
    "start_time": "2023-04-22T14:53:19.334Z"
   },
   {
    "duration": 1672,
    "start_time": "2023-04-22T14:53:19.686Z"
   },
   {
    "duration": 439,
    "start_time": "2023-04-22T14:53:21.360Z"
   },
   {
    "duration": 199,
    "start_time": "2023-04-22T14:53:21.800Z"
   },
   {
    "duration": 209,
    "start_time": "2023-04-22T14:53:22.000Z"
   },
   {
    "duration": 321,
    "start_time": "2023-04-22T14:53:22.211Z"
   },
   {
    "duration": 6,
    "start_time": "2023-04-22T14:53:22.535Z"
   },
   {
    "duration": 28,
    "start_time": "2023-04-22T14:53:22.543Z"
   },
   {
    "duration": 43,
    "start_time": "2023-04-22T14:53:22.574Z"
   },
   {
    "duration": 185,
    "start_time": "2023-04-22T14:53:22.622Z"
   },
   {
    "duration": 0,
    "start_time": "2023-04-22T14:53:22.809Z"
   },
   {
    "duration": 0,
    "start_time": "2023-04-22T14:53:22.810Z"
   },
   {
    "duration": 0,
    "start_time": "2023-04-22T14:53:22.811Z"
   },
   {
    "duration": 1473,
    "start_time": "2023-04-22T14:56:22.284Z"
   },
   {
    "duration": 293,
    "start_time": "2023-04-22T14:56:23.759Z"
   },
   {
    "duration": 31,
    "start_time": "2023-04-22T14:56:24.054Z"
   },
   {
    "duration": 105,
    "start_time": "2023-04-22T14:56:24.112Z"
   },
   {
    "duration": 200,
    "start_time": "2023-04-22T14:56:24.219Z"
   },
   {
    "duration": 19,
    "start_time": "2023-04-22T14:56:24.423Z"
   },
   {
    "duration": 198,
    "start_time": "2023-04-22T14:56:24.444Z"
   },
   {
    "duration": 105,
    "start_time": "2023-04-22T14:56:24.644Z"
   },
   {
    "duration": 4,
    "start_time": "2023-04-22T14:56:24.752Z"
   },
   {
    "duration": 88,
    "start_time": "2023-04-22T14:56:24.758Z"
   },
   {
    "duration": 77,
    "start_time": "2023-04-22T14:56:24.848Z"
   },
   {
    "duration": 4,
    "start_time": "2023-04-22T14:56:24.932Z"
   },
   {
    "duration": 18,
    "start_time": "2023-04-22T14:56:24.938Z"
   },
   {
    "duration": 793,
    "start_time": "2023-04-22T14:56:24.958Z"
   },
   {
    "duration": 2211,
    "start_time": "2023-04-22T14:56:25.753Z"
   },
   {
    "duration": 470,
    "start_time": "2023-04-22T14:56:27.966Z"
   },
   {
    "duration": 205,
    "start_time": "2023-04-22T14:56:28.437Z"
   },
   {
    "duration": 218,
    "start_time": "2023-04-22T14:56:28.644Z"
   },
   {
    "duration": 391,
    "start_time": "2023-04-22T14:56:28.865Z"
   },
   {
    "duration": 6,
    "start_time": "2023-04-22T14:56:29.258Z"
   },
   {
    "duration": 20,
    "start_time": "2023-04-22T14:56:29.266Z"
   },
   {
    "duration": 7,
    "start_time": "2023-04-22T14:56:29.288Z"
   },
   {
    "duration": 140,
    "start_time": "2023-04-22T14:56:29.296Z"
   },
   {
    "duration": 0,
    "start_time": "2023-04-22T14:56:29.438Z"
   },
   {
    "duration": 0,
    "start_time": "2023-04-22T14:56:29.439Z"
   },
   {
    "duration": 0,
    "start_time": "2023-04-22T14:56:29.441Z"
   },
   {
    "duration": 1526,
    "start_time": "2023-04-22T14:57:10.809Z"
   },
   {
    "duration": 288,
    "start_time": "2023-04-22T14:57:12.337Z"
   },
   {
    "duration": 27,
    "start_time": "2023-04-22T14:57:12.627Z"
   },
   {
    "duration": 60,
    "start_time": "2023-04-22T14:57:12.657Z"
   },
   {
    "duration": 202,
    "start_time": "2023-04-22T14:57:12.719Z"
   },
   {
    "duration": 18,
    "start_time": "2023-04-22T14:57:12.923Z"
   },
   {
    "duration": 206,
    "start_time": "2023-04-22T14:57:12.943Z"
   },
   {
    "duration": 90,
    "start_time": "2023-04-22T14:57:13.151Z"
   },
   {
    "duration": 4,
    "start_time": "2023-04-22T14:57:13.243Z"
   },
   {
    "duration": 84,
    "start_time": "2023-04-22T14:57:13.249Z"
   },
   {
    "duration": 80,
    "start_time": "2023-04-22T14:57:13.335Z"
   },
   {
    "duration": 6,
    "start_time": "2023-04-22T14:57:13.422Z"
   },
   {
    "duration": 22,
    "start_time": "2023-04-22T14:57:13.430Z"
   },
   {
    "duration": 788,
    "start_time": "2023-04-22T14:57:13.454Z"
   },
   {
    "duration": 1965,
    "start_time": "2023-04-22T14:57:14.244Z"
   },
   {
    "duration": 423,
    "start_time": "2023-04-22T14:57:16.211Z"
   },
   {
    "duration": 214,
    "start_time": "2023-04-22T14:57:16.636Z"
   },
   {
    "duration": 192,
    "start_time": "2023-04-22T14:57:16.852Z"
   },
   {
    "duration": 320,
    "start_time": "2023-04-22T14:57:17.046Z"
   },
   {
    "duration": 6,
    "start_time": "2023-04-22T14:57:17.367Z"
   },
   {
    "duration": 7,
    "start_time": "2023-04-22T14:57:17.375Z"
   },
   {
    "duration": 7,
    "start_time": "2023-04-22T14:57:17.384Z"
   },
   {
    "duration": 152,
    "start_time": "2023-04-22T14:57:17.392Z"
   },
   {
    "duration": 0,
    "start_time": "2023-04-22T14:57:17.546Z"
   },
   {
    "duration": 0,
    "start_time": "2023-04-22T14:57:17.548Z"
   },
   {
    "duration": 0,
    "start_time": "2023-04-22T14:57:17.549Z"
   },
   {
    "duration": 4,
    "start_time": "2023-04-22T14:58:13.903Z"
   },
   {
    "duration": 9,
    "start_time": "2023-04-22T15:00:48.828Z"
   },
   {
    "duration": 5,
    "start_time": "2023-04-22T15:01:25.945Z"
   },
   {
    "duration": 1535,
    "start_time": "2023-04-22T15:01:33.106Z"
   },
   {
    "duration": 277,
    "start_time": "2023-04-22T15:01:34.643Z"
   },
   {
    "duration": 27,
    "start_time": "2023-04-22T15:01:34.922Z"
   },
   {
    "duration": 30,
    "start_time": "2023-04-22T15:01:34.951Z"
   },
   {
    "duration": 109,
    "start_time": "2023-04-22T15:01:34.983Z"
   },
   {
    "duration": 28,
    "start_time": "2023-04-22T15:01:35.094Z"
   },
   {
    "duration": 80,
    "start_time": "2023-04-22T15:01:35.129Z"
   },
   {
    "duration": 41,
    "start_time": "2023-04-22T15:01:35.217Z"
   },
   {
    "duration": 4,
    "start_time": "2023-04-22T15:01:35.260Z"
   },
   {
    "duration": 42,
    "start_time": "2023-04-22T15:01:35.267Z"
   },
   {
    "duration": 30,
    "start_time": "2023-04-22T15:01:35.315Z"
   },
   {
    "duration": 7,
    "start_time": "2023-04-22T15:01:35.346Z"
   },
   {
    "duration": 26,
    "start_time": "2023-04-22T15:01:35.354Z"
   },
   {
    "duration": 345,
    "start_time": "2023-04-22T15:01:35.382Z"
   },
   {
    "duration": 1801,
    "start_time": "2023-04-22T15:01:35.729Z"
   },
   {
    "duration": 997,
    "start_time": "2023-04-22T15:01:37.532Z"
   },
   {
    "duration": 486,
    "start_time": "2023-04-22T15:01:38.531Z"
   },
   {
    "duration": 422,
    "start_time": "2023-04-22T15:01:39.025Z"
   },
   {
    "duration": 347,
    "start_time": "2023-04-22T15:01:39.448Z"
   },
   {
    "duration": 19,
    "start_time": "2023-04-22T15:01:39.797Z"
   },
   {
    "duration": 9,
    "start_time": "2023-04-22T15:01:39.820Z"
   },
   {
    "duration": 8,
    "start_time": "2023-04-22T15:01:39.831Z"
   },
   {
    "duration": 12,
    "start_time": "2023-04-22T15:01:39.840Z"
   },
   {
    "duration": 327983,
    "start_time": "2023-04-22T15:01:39.854Z"
   },
   {
    "duration": 0,
    "start_time": "2023-04-22T15:07:07.840Z"
   },
   {
    "duration": 0,
    "start_time": "2023-04-22T15:07:07.841Z"
   },
   {
    "duration": 1534,
    "start_time": "2023-04-22T15:07:14.130Z"
   },
   {
    "duration": 273,
    "start_time": "2023-04-22T15:07:15.666Z"
   },
   {
    "duration": 25,
    "start_time": "2023-04-22T15:07:15.941Z"
   },
   {
    "duration": 28,
    "start_time": "2023-04-22T15:07:15.968Z"
   },
   {
    "duration": 105,
    "start_time": "2023-04-22T15:07:15.997Z"
   },
   {
    "duration": 31,
    "start_time": "2023-04-22T15:07:16.105Z"
   },
   {
    "duration": 100,
    "start_time": "2023-04-22T15:07:16.139Z"
   },
   {
    "duration": 39,
    "start_time": "2023-04-22T15:07:16.244Z"
   },
   {
    "duration": 5,
    "start_time": "2023-04-22T15:07:16.285Z"
   },
   {
    "duration": 57,
    "start_time": "2023-04-22T15:07:16.293Z"
   },
   {
    "duration": 28,
    "start_time": "2023-04-22T15:07:16.352Z"
   },
   {
    "duration": 367,
    "start_time": "2023-04-22T15:07:16.382Z"
   },
   {
    "duration": 131,
    "start_time": "2023-04-22T15:07:16.751Z"
   },
   {
    "duration": 0,
    "start_time": "2023-04-22T15:07:16.884Z"
   },
   {
    "duration": 0,
    "start_time": "2023-04-22T15:07:16.885Z"
   },
   {
    "duration": 0,
    "start_time": "2023-04-22T15:07:16.886Z"
   },
   {
    "duration": 0,
    "start_time": "2023-04-22T15:07:16.887Z"
   },
   {
    "duration": 0,
    "start_time": "2023-04-22T15:07:16.888Z"
   },
   {
    "duration": 0,
    "start_time": "2023-04-22T15:07:16.889Z"
   },
   {
    "duration": 0,
    "start_time": "2023-04-22T15:07:16.891Z"
   },
   {
    "duration": 0,
    "start_time": "2023-04-22T15:07:16.892Z"
   },
   {
    "duration": 0,
    "start_time": "2023-04-22T15:07:16.892Z"
   },
   {
    "duration": 0,
    "start_time": "2023-04-22T15:07:16.894Z"
   },
   {
    "duration": 0,
    "start_time": "2023-04-22T15:07:16.895Z"
   },
   {
    "duration": 0,
    "start_time": "2023-04-22T15:07:16.895Z"
   },
   {
    "duration": 1556,
    "start_time": "2023-04-22T15:07:56.102Z"
   },
   {
    "duration": 312,
    "start_time": "2023-04-22T15:07:57.660Z"
   },
   {
    "duration": 40,
    "start_time": "2023-04-22T15:07:57.975Z"
   },
   {
    "duration": 39,
    "start_time": "2023-04-22T15:07:58.017Z"
   },
   {
    "duration": 97,
    "start_time": "2023-04-22T15:07:58.057Z"
   },
   {
    "duration": 18,
    "start_time": "2023-04-22T15:07:58.156Z"
   },
   {
    "duration": 102,
    "start_time": "2023-04-22T15:07:58.176Z"
   },
   {
    "duration": 49,
    "start_time": "2023-04-22T15:07:58.279Z"
   },
   {
    "duration": 5,
    "start_time": "2023-04-22T15:07:58.330Z"
   },
   {
    "duration": 47,
    "start_time": "2023-04-22T15:07:58.338Z"
   },
   {
    "duration": 37,
    "start_time": "2023-04-22T15:07:58.387Z"
   },
   {
    "duration": 3,
    "start_time": "2023-04-22T15:07:58.427Z"
   },
   {
    "duration": 485,
    "start_time": "2023-04-22T15:07:58.432Z"
   },
   {
    "duration": 3829,
    "start_time": "2023-04-22T15:07:58.923Z"
   },
   {
    "duration": 555,
    "start_time": "2023-04-22T15:08:02.754Z"
   },
   {
    "duration": 189,
    "start_time": "2023-04-22T15:08:03.319Z"
   },
   {
    "duration": 190,
    "start_time": "2023-04-22T15:08:03.518Z"
   },
   {
    "duration": 363,
    "start_time": "2023-04-22T15:08:03.711Z"
   },
   {
    "duration": 6,
    "start_time": "2023-04-22T15:08:04.076Z"
   },
   {
    "duration": 13,
    "start_time": "2023-04-22T15:08:04.083Z"
   },
   {
    "duration": 20,
    "start_time": "2023-04-22T15:08:04.098Z"
   },
   {
    "duration": 9,
    "start_time": "2023-04-22T15:08:04.125Z"
   },
   {
    "duration": 16,
    "start_time": "2023-04-22T15:08:04.135Z"
   },
   {
    "duration": 12172,
    "start_time": "2023-04-22T15:08:04.153Z"
   },
   {
    "duration": 0,
    "start_time": "2023-04-22T15:08:16.327Z"
   },
   {
    "duration": 0,
    "start_time": "2023-04-22T15:08:16.329Z"
   },
   {
    "duration": 1595,
    "start_time": "2023-04-22T15:13:06.804Z"
   },
   {
    "duration": 322,
    "start_time": "2023-04-22T15:13:08.401Z"
   },
   {
    "duration": 32,
    "start_time": "2023-04-22T15:13:08.726Z"
   },
   {
    "duration": 29,
    "start_time": "2023-04-22T15:13:08.759Z"
   },
   {
    "duration": 112,
    "start_time": "2023-04-22T15:13:08.790Z"
   },
   {
    "duration": 37,
    "start_time": "2023-04-22T15:13:08.904Z"
   },
   {
    "duration": 113,
    "start_time": "2023-04-22T15:13:08.944Z"
   },
   {
    "duration": 59,
    "start_time": "2023-04-22T15:13:09.060Z"
   },
   {
    "duration": 8,
    "start_time": "2023-04-22T15:13:09.122Z"
   },
   {
    "duration": 35,
    "start_time": "2023-04-22T15:13:09.132Z"
   },
   {
    "duration": 42,
    "start_time": "2023-04-22T15:13:09.172Z"
   },
   {
    "duration": 4,
    "start_time": "2023-04-22T15:13:09.216Z"
   },
   {
    "duration": 382,
    "start_time": "2023-04-22T15:13:09.222Z"
   },
   {
    "duration": 3038,
    "start_time": "2023-04-22T15:13:09.606Z"
   },
   {
    "duration": 519,
    "start_time": "2023-04-22T15:13:12.646Z"
   },
   {
    "duration": 217,
    "start_time": "2023-04-22T15:13:13.167Z"
   },
   {
    "duration": 215,
    "start_time": "2023-04-22T15:13:13.386Z"
   },
   {
    "duration": 378,
    "start_time": "2023-04-22T15:13:13.603Z"
   },
   {
    "duration": 6,
    "start_time": "2023-04-22T15:13:13.983Z"
   },
   {
    "duration": 14,
    "start_time": "2023-04-22T15:13:13.991Z"
   },
   {
    "duration": 13,
    "start_time": "2023-04-22T15:13:14.013Z"
   },
   {
    "duration": 18,
    "start_time": "2023-04-22T15:13:14.029Z"
   },
   {
    "duration": 14,
    "start_time": "2023-04-22T15:13:14.049Z"
   },
   {
    "duration": 1715,
    "start_time": "2023-04-22T15:13:14.065Z"
   },
   {
    "duration": 3,
    "start_time": "2023-04-22T15:13:15.782Z"
   },
   {
    "duration": 7,
    "start_time": "2023-04-22T15:13:15.786Z"
   },
   {
    "duration": 2315,
    "start_time": "2023-04-22T15:14:53.238Z"
   },
   {
    "duration": 693,
    "start_time": "2023-04-22T15:14:55.555Z"
   },
   {
    "duration": 69,
    "start_time": "2023-04-22T15:14:56.249Z"
   },
   {
    "duration": 99,
    "start_time": "2023-04-22T15:14:56.320Z"
   },
   {
    "duration": 107,
    "start_time": "2023-04-22T15:14:56.423Z"
   },
   {
    "duration": 20,
    "start_time": "2023-04-22T15:14:56.532Z"
   },
   {
    "duration": 113,
    "start_time": "2023-04-22T15:14:56.554Z"
   },
   {
    "duration": 47,
    "start_time": "2023-04-22T15:14:56.669Z"
   },
   {
    "duration": 5,
    "start_time": "2023-04-22T15:14:56.718Z"
   },
   {
    "duration": 32,
    "start_time": "2023-04-22T15:14:56.725Z"
   },
   {
    "duration": 25,
    "start_time": "2023-04-22T15:14:56.759Z"
   },
   {
    "duration": 3,
    "start_time": "2023-04-22T15:14:56.786Z"
   },
   {
    "duration": 403,
    "start_time": "2023-04-22T15:14:56.791Z"
   },
   {
    "duration": 1922,
    "start_time": "2023-04-22T15:14:57.197Z"
   },
   {
    "duration": 522,
    "start_time": "2023-04-22T15:14:59.123Z"
   },
   {
    "duration": 226,
    "start_time": "2023-04-22T15:14:59.646Z"
   },
   {
    "duration": 214,
    "start_time": "2023-04-22T15:14:59.874Z"
   },
   {
    "duration": 388,
    "start_time": "2023-04-22T15:15:00.089Z"
   },
   {
    "duration": 6,
    "start_time": "2023-04-22T15:15:00.479Z"
   },
   {
    "duration": 39,
    "start_time": "2023-04-22T15:15:00.488Z"
   },
   {
    "duration": 52,
    "start_time": "2023-04-22T15:15:00.529Z"
   },
   {
    "duration": 44,
    "start_time": "2023-04-22T15:15:00.583Z"
   },
   {
    "duration": 28,
    "start_time": "2023-04-22T15:15:00.631Z"
   },
   {
    "duration": 1090,
    "start_time": "2023-04-22T15:15:00.661Z"
   },
   {
    "duration": 3,
    "start_time": "2023-04-22T15:15:01.753Z"
   },
   {
    "duration": 57,
    "start_time": "2023-04-22T15:15:01.758Z"
   },
   {
    "duration": 1666,
    "start_time": "2023-04-22T15:18:02.036Z"
   },
   {
    "duration": 439,
    "start_time": "2023-04-22T15:18:03.705Z"
   },
   {
    "duration": 77,
    "start_time": "2023-04-22T15:18:04.146Z"
   },
   {
    "duration": 87,
    "start_time": "2023-04-22T15:18:04.226Z"
   },
   {
    "duration": 202,
    "start_time": "2023-04-22T15:18:04.318Z"
   },
   {
    "duration": 27,
    "start_time": "2023-04-22T15:18:04.523Z"
   },
   {
    "duration": 271,
    "start_time": "2023-04-22T15:18:04.552Z"
   },
   {
    "duration": 95,
    "start_time": "2023-04-22T15:18:04.826Z"
   },
   {
    "duration": 8,
    "start_time": "2023-04-22T15:18:04.926Z"
   },
   {
    "duration": 76,
    "start_time": "2023-04-22T15:18:04.936Z"
   },
   {
    "duration": 99,
    "start_time": "2023-04-22T15:18:05.019Z"
   },
   {
    "duration": 5,
    "start_time": "2023-04-22T15:18:05.120Z"
   },
   {
    "duration": 816,
    "start_time": "2023-04-22T15:18:05.128Z"
   },
   {
    "duration": 2046,
    "start_time": "2023-04-22T15:18:05.948Z"
   },
   {
    "duration": 464,
    "start_time": "2023-04-22T15:18:07.996Z"
   },
   {
    "duration": 210,
    "start_time": "2023-04-22T15:18:08.462Z"
   },
   {
    "duration": 410,
    "start_time": "2023-04-22T15:18:08.674Z"
   },
   {
    "duration": 267,
    "start_time": "2023-04-22T15:18:09.086Z"
   },
   {
    "duration": 6,
    "start_time": "2023-04-22T15:18:09.354Z"
   },
   {
    "duration": 17,
    "start_time": "2023-04-22T15:18:09.362Z"
   },
   {
    "duration": 44,
    "start_time": "2023-04-22T15:18:09.380Z"
   },
   {
    "duration": 11,
    "start_time": "2023-04-22T15:18:09.426Z"
   },
   {
    "duration": 28,
    "start_time": "2023-04-22T15:18:09.440Z"
   },
   {
    "duration": 152,
    "start_time": "2023-04-22T15:18:09.470Z"
   },
   {
    "duration": 0,
    "start_time": "2023-04-22T15:18:09.624Z"
   },
   {
    "duration": 0,
    "start_time": "2023-04-22T15:18:09.625Z"
   },
   {
    "duration": 0,
    "start_time": "2023-04-22T15:18:09.626Z"
   },
   {
    "duration": 14,
    "start_time": "2023-04-22T15:21:00.568Z"
   },
   {
    "duration": 15,
    "start_time": "2023-04-22T15:21:16.069Z"
   },
   {
    "duration": 1028,
    "start_time": "2023-04-22T15:21:47.891Z"
   },
   {
    "duration": 1714,
    "start_time": "2023-04-22T15:22:19.144Z"
   },
   {
    "duration": 458,
    "start_time": "2023-04-22T15:22:20.860Z"
   },
   {
    "duration": 38,
    "start_time": "2023-04-22T15:22:21.320Z"
   },
   {
    "duration": 90,
    "start_time": "2023-04-22T15:22:21.361Z"
   },
   {
    "duration": 279,
    "start_time": "2023-04-22T15:22:21.453Z"
   },
   {
    "duration": 30,
    "start_time": "2023-04-22T15:22:21.734Z"
   },
   {
    "duration": 281,
    "start_time": "2023-04-22T15:22:21.767Z"
   },
   {
    "duration": 103,
    "start_time": "2023-04-22T15:22:22.052Z"
   },
   {
    "duration": 5,
    "start_time": "2023-04-22T15:22:22.157Z"
   },
   {
    "duration": 149,
    "start_time": "2023-04-22T15:22:22.165Z"
   },
   {
    "duration": 100,
    "start_time": "2023-04-22T15:22:22.318Z"
   },
   {
    "duration": 5,
    "start_time": "2023-04-22T15:22:22.420Z"
   },
   {
    "duration": 1026,
    "start_time": "2023-04-22T15:22:22.427Z"
   },
   {
    "duration": 2059,
    "start_time": "2023-04-22T15:22:23.454Z"
   },
   {
    "duration": 507,
    "start_time": "2023-04-22T15:22:25.515Z"
   },
   {
    "duration": 497,
    "start_time": "2023-04-22T15:22:26.024Z"
   },
   {
    "duration": 798,
    "start_time": "2023-04-22T15:22:26.523Z"
   },
   {
    "duration": 598,
    "start_time": "2023-04-22T15:22:27.322Z"
   },
   {
    "duration": 10,
    "start_time": "2023-04-22T15:22:27.922Z"
   },
   {
    "duration": 7,
    "start_time": "2023-04-22T15:22:27.934Z"
   },
   {
    "duration": 11,
    "start_time": "2023-04-22T15:22:27.943Z"
   },
   {
    "duration": 58,
    "start_time": "2023-04-22T15:22:27.956Z"
   },
   {
    "duration": 36,
    "start_time": "2023-04-22T15:22:28.019Z"
   },
   {
    "duration": 376,
    "start_time": "2023-04-22T15:22:28.057Z"
   },
   {
    "duration": 0,
    "start_time": "2023-04-22T15:22:28.435Z"
   },
   {
    "duration": 0,
    "start_time": "2023-04-22T15:22:28.437Z"
   },
   {
    "duration": 1775,
    "start_time": "2023-04-22T15:24:30.749Z"
   },
   {
    "duration": 531,
    "start_time": "2023-04-22T15:24:32.531Z"
   },
   {
    "duration": 93,
    "start_time": "2023-04-22T15:24:33.063Z"
   },
   {
    "duration": 154,
    "start_time": "2023-04-22T15:24:33.160Z"
   },
   {
    "duration": 290,
    "start_time": "2023-04-22T15:24:33.323Z"
   },
   {
    "duration": 26,
    "start_time": "2023-04-22T15:24:33.614Z"
   },
   {
    "duration": 283,
    "start_time": "2023-04-22T15:24:33.643Z"
   },
   {
    "duration": 115,
    "start_time": "2023-04-22T15:24:33.928Z"
   },
   {
    "duration": 6,
    "start_time": "2023-04-22T15:24:34.046Z"
   },
   {
    "duration": 106,
    "start_time": "2023-04-22T15:24:34.056Z"
   },
   {
    "duration": 89,
    "start_time": "2023-04-22T15:24:34.164Z"
   },
   {
    "duration": 13,
    "start_time": "2023-04-22T15:24:34.255Z"
   },
   {
    "duration": 990,
    "start_time": "2023-04-22T15:24:34.274Z"
   },
   {
    "duration": 1889,
    "start_time": "2023-04-22T15:24:35.267Z"
   },
   {
    "duration": 505,
    "start_time": "2023-04-22T15:24:37.159Z"
   },
   {
    "duration": 231,
    "start_time": "2023-04-22T15:24:37.666Z"
   },
   {
    "duration": 364,
    "start_time": "2023-04-22T15:24:37.899Z"
   },
   {
    "duration": 231,
    "start_time": "2023-04-22T15:24:38.265Z"
   },
   {
    "duration": 6,
    "start_time": "2023-04-22T15:24:38.498Z"
   },
   {
    "duration": 28,
    "start_time": "2023-04-22T15:24:38.512Z"
   },
   {
    "duration": 10,
    "start_time": "2023-04-22T15:24:38.550Z"
   },
   {
    "duration": 11,
    "start_time": "2023-04-22T15:24:38.564Z"
   },
   {
    "duration": 17,
    "start_time": "2023-04-22T15:24:38.577Z"
   },
   {
    "duration": 1806,
    "start_time": "2023-04-22T15:24:38.596Z"
   },
   {
    "duration": 9,
    "start_time": "2023-04-22T15:24:40.403Z"
   },
   {
    "duration": 9,
    "start_time": "2023-04-22T15:24:40.418Z"
   },
   {
    "duration": 8,
    "start_time": "2023-04-22T15:31:03.333Z"
   },
   {
    "duration": 6,
    "start_time": "2023-04-22T15:31:14.649Z"
   },
   {
    "duration": 13,
    "start_time": "2023-04-22T15:31:21.607Z"
   },
   {
    "duration": 4,
    "start_time": "2023-04-22T15:41:50.237Z"
   },
   {
    "duration": 32,
    "start_time": "2023-04-22T15:42:06.385Z"
   },
   {
    "duration": 2016,
    "start_time": "2023-04-22T15:44:04.827Z"
   },
   {
    "duration": 671,
    "start_time": "2023-04-22T15:44:06.845Z"
   },
   {
    "duration": 24,
    "start_time": "2023-04-22T15:44:07.518Z"
   },
   {
    "duration": 83,
    "start_time": "2023-04-22T15:44:07.544Z"
   },
   {
    "duration": 207,
    "start_time": "2023-04-22T15:44:07.629Z"
   },
   {
    "duration": 76,
    "start_time": "2023-04-22T15:44:07.838Z"
   },
   {
    "duration": 195,
    "start_time": "2023-04-22T15:44:07.917Z"
   },
   {
    "duration": 50,
    "start_time": "2023-04-22T15:44:08.114Z"
   },
   {
    "duration": 4,
    "start_time": "2023-04-22T15:44:08.166Z"
   },
   {
    "duration": 79,
    "start_time": "2023-04-22T15:44:08.172Z"
   },
   {
    "duration": 24,
    "start_time": "2023-04-22T15:44:08.253Z"
   },
   {
    "duration": 4,
    "start_time": "2023-04-22T15:44:08.279Z"
   },
   {
    "duration": 344,
    "start_time": "2023-04-22T15:44:08.285Z"
   },
   {
    "duration": 1858,
    "start_time": "2023-04-22T15:44:08.632Z"
   },
   {
    "duration": 469,
    "start_time": "2023-04-22T15:44:10.492Z"
   },
   {
    "duration": 206,
    "start_time": "2023-04-22T15:44:10.962Z"
   },
   {
    "duration": 351,
    "start_time": "2023-04-22T15:44:11.170Z"
   },
   {
    "duration": 226,
    "start_time": "2023-04-22T15:44:11.524Z"
   },
   {
    "duration": 6,
    "start_time": "2023-04-22T15:44:11.752Z"
   },
   {
    "duration": 6,
    "start_time": "2023-04-22T15:44:11.759Z"
   },
   {
    "duration": 7,
    "start_time": "2023-04-22T15:44:11.767Z"
   },
   {
    "duration": 17,
    "start_time": "2023-04-22T15:44:11.775Z"
   },
   {
    "duration": 33,
    "start_time": "2023-04-22T15:44:11.794Z"
   },
   {
    "duration": 125800,
    "start_time": "2023-04-22T15:44:11.829Z"
   },
   {
    "duration": 0,
    "start_time": "2023-04-22T15:46:17.632Z"
   },
   {
    "duration": 1,
    "start_time": "2023-04-22T15:46:17.633Z"
   },
   {
    "duration": 8,
    "start_time": "2023-04-22T15:46:24.432Z"
   },
   {
    "duration": 256,
    "start_time": "2023-04-22T15:46:24.535Z"
   },
   {
    "duration": 22,
    "start_time": "2023-04-22T15:46:25.073Z"
   },
   {
    "duration": 1647,
    "start_time": "2023-04-22T15:46:34.491Z"
   },
   {
    "duration": 267,
    "start_time": "2023-04-22T15:46:36.140Z"
   },
   {
    "duration": 38,
    "start_time": "2023-04-22T15:46:36.409Z"
   },
   {
    "duration": 32,
    "start_time": "2023-04-22T15:46:36.449Z"
   },
   {
    "duration": 102,
    "start_time": "2023-04-22T15:46:36.483Z"
   },
   {
    "duration": 5,
    "start_time": "2023-04-22T15:46:36.587Z"
   },
   {
    "duration": 46,
    "start_time": "2023-04-22T15:46:36.593Z"
   },
   {
    "duration": 101,
    "start_time": "2023-04-22T15:46:36.641Z"
   },
   {
    "duration": 102,
    "start_time": "2023-04-22T15:46:36.744Z"
   },
   {
    "duration": 4,
    "start_time": "2023-04-22T15:46:36.849Z"
   },
   {
    "duration": 162,
    "start_time": "2023-04-22T15:46:36.854Z"
   },
   {
    "duration": 33,
    "start_time": "2023-04-22T15:46:37.026Z"
   },
   {
    "duration": 4,
    "start_time": "2023-04-22T15:46:37.060Z"
   },
   {
    "duration": 851,
    "start_time": "2023-04-22T15:46:37.065Z"
   },
   {
    "duration": 2516,
    "start_time": "2023-04-22T15:46:37.924Z"
   },
   {
    "duration": 461,
    "start_time": "2023-04-22T15:46:40.443Z"
   },
   {
    "duration": 212,
    "start_time": "2023-04-22T15:46:40.911Z"
   },
   {
    "duration": 326,
    "start_time": "2023-04-22T15:46:41.131Z"
   },
   {
    "duration": 222,
    "start_time": "2023-04-22T15:46:41.458Z"
   },
   {
    "duration": 5,
    "start_time": "2023-04-22T15:46:41.682Z"
   },
   {
    "duration": 7,
    "start_time": "2023-04-22T15:46:41.689Z"
   },
   {
    "duration": 35,
    "start_time": "2023-04-22T15:46:41.698Z"
   },
   {
    "duration": 10,
    "start_time": "2023-04-22T15:46:41.736Z"
   },
   {
    "duration": 22,
    "start_time": "2023-04-22T15:46:41.748Z"
   },
   {
    "duration": 179442,
    "start_time": "2023-04-22T15:46:41.772Z"
   },
   {
    "duration": 0,
    "start_time": "2023-04-22T15:49:41.226Z"
   },
   {
    "duration": 0,
    "start_time": "2023-04-22T15:49:41.226Z"
   },
   {
    "duration": 1802,
    "start_time": "2023-04-23T07:19:38.728Z"
   },
   {
    "duration": 453,
    "start_time": "2023-04-23T07:19:41.142Z"
   },
   {
    "duration": 23,
    "start_time": "2023-04-23T07:19:41.597Z"
   },
   {
    "duration": 31,
    "start_time": "2023-04-23T07:19:44.800Z"
   },
   {
    "duration": 81,
    "start_time": "2023-04-23T07:19:46.309Z"
   },
   {
    "duration": 6,
    "start_time": "2023-04-23T07:19:48.610Z"
   },
   {
    "duration": 8,
    "start_time": "2023-04-23T07:19:57.678Z"
   },
   {
    "duration": 6,
    "start_time": "2023-04-23T07:20:03.733Z"
   },
   {
    "duration": 243,
    "start_time": "2023-04-23T07:28:20.826Z"
   },
   {
    "duration": 19,
    "start_time": "2023-04-23T07:28:22.428Z"
   },
   {
    "duration": 42,
    "start_time": "2023-04-23T07:28:22.972Z"
   },
   {
    "duration": 79,
    "start_time": "2023-04-23T07:28:23.062Z"
   },
   {
    "duration": 6,
    "start_time": "2023-04-23T07:28:23.143Z"
   },
   {
    "duration": 49,
    "start_time": "2023-04-23T07:28:23.150Z"
   },
   {
    "duration": 77,
    "start_time": "2023-04-23T07:28:23.208Z"
   },
   {
    "duration": 37,
    "start_time": "2023-04-23T07:28:23.287Z"
   },
   {
    "duration": 5,
    "start_time": "2023-04-23T07:28:23.809Z"
   },
   {
    "duration": 25,
    "start_time": "2023-04-23T07:28:24.318Z"
   },
   {
    "duration": 25,
    "start_time": "2023-04-23T07:28:24.389Z"
   },
   {
    "duration": 4,
    "start_time": "2023-04-23T07:28:24.424Z"
   },
   {
    "duration": 312,
    "start_time": "2023-04-23T07:28:24.583Z"
   },
   {
    "duration": 1541,
    "start_time": "2023-04-23T07:28:25.100Z"
   },
   {
    "duration": 463,
    "start_time": "2023-04-23T07:28:26.643Z"
   },
   {
    "duration": 184,
    "start_time": "2023-04-23T07:28:27.107Z"
   },
   {
    "duration": 294,
    "start_time": "2023-04-23T07:28:27.293Z"
   },
   {
    "duration": 211,
    "start_time": "2023-04-23T07:28:27.589Z"
   },
   {
    "duration": 6,
    "start_time": "2023-04-23T07:28:27.802Z"
   },
   {
    "duration": 16,
    "start_time": "2023-04-23T07:28:27.809Z"
   },
   {
    "duration": 6,
    "start_time": "2023-04-23T07:28:28.547Z"
   },
   {
    "duration": 5,
    "start_time": "2023-04-23T07:28:29.006Z"
   },
   {
    "duration": 15,
    "start_time": "2023-04-23T07:28:33.794Z"
   },
   {
    "duration": 440757,
    "start_time": "2023-04-23T07:28:35.560Z"
   },
   {
    "duration": 4137,
    "start_time": "2023-04-23T07:36:54.858Z"
   },
   {
    "duration": 45,
    "start_time": "2023-04-23T07:38:00.167Z"
   },
   {
    "duration": 1604,
    "start_time": "2023-04-23T08:07:27.833Z"
   },
   {
    "duration": 476,
    "start_time": "2023-04-23T08:07:29.439Z"
   },
   {
    "duration": 31,
    "start_time": "2023-04-23T08:07:29.917Z"
   },
   {
    "duration": 41,
    "start_time": "2023-04-23T08:07:29.950Z"
   },
   {
    "duration": 111,
    "start_time": "2023-04-23T08:07:29.993Z"
   },
   {
    "duration": 6,
    "start_time": "2023-04-23T08:07:30.107Z"
   },
   {
    "duration": 41,
    "start_time": "2023-04-23T08:07:30.115Z"
   },
   {
    "duration": 97,
    "start_time": "2023-04-23T08:07:30.158Z"
   },
   {
    "duration": 68,
    "start_time": "2023-04-23T08:07:30.257Z"
   },
   {
    "duration": 5,
    "start_time": "2023-04-23T08:07:30.328Z"
   },
   {
    "duration": 42,
    "start_time": "2023-04-23T08:07:30.334Z"
   },
   {
    "duration": 44,
    "start_time": "2023-04-23T08:07:30.377Z"
   },
   {
    "duration": 18,
    "start_time": "2023-04-23T08:07:30.423Z"
   },
   {
    "duration": 379,
    "start_time": "2023-04-23T08:07:30.443Z"
   },
   {
    "duration": 1593,
    "start_time": "2023-04-23T08:07:30.824Z"
   },
   {
    "duration": 375,
    "start_time": "2023-04-23T08:07:32.419Z"
   },
   {
    "duration": 175,
    "start_time": "2023-04-23T08:07:32.795Z"
   },
   {
    "duration": 273,
    "start_time": "2023-04-23T08:07:32.972Z"
   },
   {
    "duration": 198,
    "start_time": "2023-04-23T08:07:33.248Z"
   },
   {
    "duration": 6,
    "start_time": "2023-04-23T08:07:33.449Z"
   },
   {
    "duration": 8,
    "start_time": "2023-04-23T08:07:33.457Z"
   },
   {
    "duration": 23,
    "start_time": "2023-04-23T08:07:33.467Z"
   },
   {
    "duration": 24,
    "start_time": "2023-04-23T08:07:33.492Z"
   },
   {
    "duration": 15,
    "start_time": "2023-04-23T08:07:33.517Z"
   },
   {
    "duration": 48,
    "start_time": "2023-04-23T08:07:33.534Z"
   },
   {
    "duration": 29863,
    "start_time": "2023-04-23T08:07:33.584Z"
   },
   {
    "duration": 0,
    "start_time": "2023-04-23T08:08:03.449Z"
   },
   {
    "duration": 0,
    "start_time": "2023-04-23T08:08:03.450Z"
   },
   {
    "duration": 2157,
    "start_time": "2023-04-23T08:13:41.467Z"
   },
   {
    "duration": 196,
    "start_time": "2023-04-23T08:13:43.625Z"
   },
   {
    "duration": 21,
    "start_time": "2023-04-23T08:13:43.823Z"
   },
   {
    "duration": 26,
    "start_time": "2023-04-23T08:13:43.845Z"
   },
   {
    "duration": 66,
    "start_time": "2023-04-23T08:13:43.873Z"
   },
   {
    "duration": 5,
    "start_time": "2023-04-23T08:13:43.948Z"
   },
   {
    "duration": 18,
    "start_time": "2023-04-23T08:13:43.955Z"
   },
   {
    "duration": 96,
    "start_time": "2023-04-23T08:13:43.975Z"
   },
   {
    "duration": 71,
    "start_time": "2023-04-23T08:13:44.072Z"
   },
   {
    "duration": 3,
    "start_time": "2023-04-23T08:13:44.149Z"
   },
   {
    "duration": 27,
    "start_time": "2023-04-23T08:13:44.154Z"
   },
   {
    "duration": 21,
    "start_time": "2023-04-23T08:13:44.182Z"
   },
   {
    "duration": 2,
    "start_time": "2023-04-23T08:13:44.205Z"
   },
   {
    "duration": 308,
    "start_time": "2023-04-23T08:13:44.210Z"
   },
   {
    "duration": 1430,
    "start_time": "2023-04-23T08:13:44.519Z"
   },
   {
    "duration": 362,
    "start_time": "2023-04-23T08:13:45.950Z"
   },
   {
    "duration": 170,
    "start_time": "2023-04-23T08:13:46.313Z"
   },
   {
    "duration": 250,
    "start_time": "2023-04-23T08:13:46.484Z"
   },
   {
    "duration": 175,
    "start_time": "2023-04-23T08:13:46.735Z"
   },
   {
    "duration": 7,
    "start_time": "2023-04-23T08:13:46.911Z"
   },
   {
    "duration": 22,
    "start_time": "2023-04-23T08:13:46.919Z"
   },
   {
    "duration": 14,
    "start_time": "2023-04-23T08:13:46.943Z"
   },
   {
    "duration": 7,
    "start_time": "2023-04-23T08:13:46.958Z"
   },
   {
    "duration": 9,
    "start_time": "2023-04-23T08:13:46.967Z"
   },
   {
    "duration": 16,
    "start_time": "2023-04-23T08:13:46.978Z"
   },
   {
    "duration": 396344,
    "start_time": "2023-04-23T08:13:46.996Z"
   },
   {
    "duration": 0,
    "start_time": "2023-04-23T08:20:23.342Z"
   },
   {
    "duration": 0,
    "start_time": "2023-04-23T08:20:23.344Z"
   },
   {
    "duration": 0,
    "start_time": "2023-04-23T08:20:23.350Z"
   },
   {
    "duration": 1477,
    "start_time": "2023-04-23T08:20:28.512Z"
   },
   {
    "duration": 473,
    "start_time": "2023-04-23T08:20:29.991Z"
   },
   {
    "duration": 82,
    "start_time": "2023-04-23T08:20:30.466Z"
   },
   {
    "duration": 36,
    "start_time": "2023-04-23T08:20:30.552Z"
   },
   {
    "duration": 199,
    "start_time": "2023-04-23T08:20:30.590Z"
   },
   {
    "duration": 7,
    "start_time": "2023-04-23T08:20:30.791Z"
   },
   {
    "duration": 24,
    "start_time": "2023-04-23T08:20:30.849Z"
   },
   {
    "duration": 287,
    "start_time": "2023-04-23T08:20:30.876Z"
   },
   {
    "duration": 183,
    "start_time": "2023-04-23T08:20:31.167Z"
   },
   {
    "duration": 7,
    "start_time": "2023-04-23T08:20:31.353Z"
   },
   {
    "duration": 113,
    "start_time": "2023-04-23T08:20:31.361Z"
   },
   {
    "duration": 107,
    "start_time": "2023-04-23T08:20:31.476Z"
   },
   {
    "duration": 9,
    "start_time": "2023-04-23T08:20:31.585Z"
   },
   {
    "duration": 581,
    "start_time": "2023-04-23T08:20:31.595Z"
   },
   {
    "duration": 1507,
    "start_time": "2023-04-23T08:20:32.178Z"
   },
   {
    "duration": 384,
    "start_time": "2023-04-23T08:20:33.686Z"
   },
   {
    "duration": 183,
    "start_time": "2023-04-23T08:20:34.071Z"
   },
   {
    "duration": 263,
    "start_time": "2023-04-23T08:20:34.255Z"
   },
   {
    "duration": 184,
    "start_time": "2023-04-23T08:20:34.520Z"
   },
   {
    "duration": 6,
    "start_time": "2023-04-23T08:20:34.705Z"
   },
   {
    "duration": 7,
    "start_time": "2023-04-23T08:20:34.712Z"
   },
   {
    "duration": 9,
    "start_time": "2023-04-23T08:20:34.720Z"
   },
   {
    "duration": 25,
    "start_time": "2023-04-23T08:20:34.730Z"
   },
   {
    "duration": 18,
    "start_time": "2023-04-23T08:20:34.757Z"
   },
   {
    "duration": 22,
    "start_time": "2023-04-23T08:20:34.778Z"
   },
   {
    "duration": 27,
    "start_time": "2023-04-23T08:20:34.802Z"
   },
   {
    "duration": 418370,
    "start_time": "2023-04-23T08:20:34.831Z"
   },
   {
    "duration": 3,
    "start_time": "2023-04-23T08:27:33.204Z"
   },
   {
    "duration": 4,
    "start_time": "2023-04-23T08:27:33.208Z"
   },
   {
    "duration": 1440,
    "start_time": "2023-04-23T08:35:58.051Z"
   },
   {
    "duration": 211,
    "start_time": "2023-04-23T08:35:59.493Z"
   },
   {
    "duration": 30,
    "start_time": "2023-04-23T08:35:59.705Z"
   },
   {
    "duration": 42,
    "start_time": "2023-04-23T08:35:59.738Z"
   },
   {
    "duration": 88,
    "start_time": "2023-04-23T08:35:59.782Z"
   },
   {
    "duration": 7,
    "start_time": "2023-04-23T08:35:59.872Z"
   },
   {
    "duration": 18,
    "start_time": "2023-04-23T08:35:59.881Z"
   },
   {
    "duration": 100,
    "start_time": "2023-04-23T08:35:59.900Z"
   },
   {
    "duration": 75,
    "start_time": "2023-04-23T08:36:00.002Z"
   },
   {
    "duration": 4,
    "start_time": "2023-04-23T08:36:00.080Z"
   },
   {
    "duration": 52,
    "start_time": "2023-04-23T08:36:00.085Z"
   },
   {
    "duration": 22,
    "start_time": "2023-04-23T08:36:00.139Z"
   },
   {
    "duration": 11,
    "start_time": "2023-04-23T08:36:00.163Z"
   },
   {
    "duration": 348,
    "start_time": "2023-04-23T08:36:00.175Z"
   },
   {
    "duration": 1432,
    "start_time": "2023-04-23T08:36:00.524Z"
   },
   {
    "duration": 359,
    "start_time": "2023-04-23T08:36:01.958Z"
   },
   {
    "duration": 178,
    "start_time": "2023-04-23T08:36:02.318Z"
   },
   {
    "duration": 163,
    "start_time": "2023-04-23T08:36:02.498Z"
   },
   {
    "duration": 289,
    "start_time": "2023-04-23T08:36:02.663Z"
   },
   {
    "duration": 5,
    "start_time": "2023-04-23T08:36:02.954Z"
   },
   {
    "duration": 27,
    "start_time": "2023-04-23T08:36:02.960Z"
   },
   {
    "duration": 32,
    "start_time": "2023-04-23T08:36:02.989Z"
   },
   {
    "duration": 31,
    "start_time": "2023-04-23T08:36:03.023Z"
   },
   {
    "duration": 24,
    "start_time": "2023-04-23T08:36:03.056Z"
   },
   {
    "duration": 31,
    "start_time": "2023-04-23T08:36:03.082Z"
   },
   {
    "duration": 25,
    "start_time": "2023-04-23T08:36:03.114Z"
   },
   {
    "duration": 407241,
    "start_time": "2023-04-23T08:36:03.140Z"
   },
   {
    "duration": 0,
    "start_time": "2023-04-23T08:42:50.383Z"
   },
   {
    "duration": 0,
    "start_time": "2023-04-23T08:42:50.384Z"
   },
   {
    "duration": 1732,
    "start_time": "2023-04-24T17:58:34.026Z"
   },
   {
    "duration": 1146,
    "start_time": "2023-04-24T17:58:35.761Z"
   },
   {
    "duration": 26,
    "start_time": "2023-04-24T17:58:36.909Z"
   },
   {
    "duration": 28,
    "start_time": "2023-04-24T17:58:36.937Z"
   },
   {
    "duration": 88,
    "start_time": "2023-04-24T17:58:36.968Z"
   },
   {
    "duration": 16,
    "start_time": "2023-04-24T17:58:37.058Z"
   },
   {
    "duration": 87,
    "start_time": "2023-04-24T17:58:37.076Z"
   },
   {
    "duration": 87,
    "start_time": "2023-04-24T17:58:37.165Z"
   },
   {
    "duration": 4,
    "start_time": "2023-04-24T17:58:37.254Z"
   },
   {
    "duration": 36,
    "start_time": "2023-04-24T17:58:37.260Z"
   },
   {
    "duration": 23,
    "start_time": "2023-04-24T17:58:37.298Z"
   },
   {
    "duration": 4,
    "start_time": "2023-04-24T17:58:37.324Z"
   },
   {
    "duration": 19,
    "start_time": "2023-04-24T17:58:37.330Z"
   },
   {
    "duration": 398,
    "start_time": "2023-04-24T17:58:37.353Z"
   },
   {
    "duration": 1792,
    "start_time": "2023-04-24T17:58:37.753Z"
   },
   {
    "duration": 467,
    "start_time": "2023-04-24T17:58:39.547Z"
   },
   {
    "duration": 211,
    "start_time": "2023-04-24T17:58:40.017Z"
   },
   {
    "duration": 578,
    "start_time": "2023-04-24T17:58:40.231Z"
   },
   {
    "duration": 407,
    "start_time": "2023-04-24T17:58:40.810Z"
   },
   {
    "duration": 7,
    "start_time": "2023-04-24T17:58:41.218Z"
   },
   {
    "duration": 64,
    "start_time": "2023-04-24T17:58:41.226Z"
   },
   {
    "duration": 17,
    "start_time": "2023-04-24T17:58:41.293Z"
   },
   {
    "duration": 7,
    "start_time": "2023-04-24T17:58:41.312Z"
   },
   {
    "duration": 271,
    "start_time": "2023-04-24T17:58:41.321Z"
   },
   {
    "duration": 0,
    "start_time": "2023-04-24T17:58:41.594Z"
   },
   {
    "duration": 0,
    "start_time": "2023-04-24T17:58:41.596Z"
   },
   {
    "duration": 0,
    "start_time": "2023-04-24T17:58:41.604Z"
   },
   {
    "duration": 0,
    "start_time": "2023-04-24T17:58:41.606Z"
   },
   {
    "duration": 1321,
    "start_time": "2023-04-24T17:59:00.355Z"
   },
   {
    "duration": 14,
    "start_time": "2023-04-24T18:00:08.503Z"
   },
   {
    "duration": 7,
    "start_time": "2023-04-24T18:00:29.015Z"
   },
   {
    "duration": 20,
    "start_time": "2023-04-24T18:03:13.295Z"
   },
   {
    "duration": 18,
    "start_time": "2023-04-24T18:03:22.902Z"
   },
   {
    "duration": 1335,
    "start_time": "2023-04-24T18:07:30.426Z"
   },
   {
    "duration": 1674,
    "start_time": "2023-04-24T18:15:44.988Z"
   },
   {
    "duration": 559,
    "start_time": "2023-04-24T18:15:46.664Z"
   },
   {
    "duration": 91,
    "start_time": "2023-04-24T18:15:47.225Z"
   },
   {
    "duration": 79,
    "start_time": "2023-04-24T18:15:47.317Z"
   },
   {
    "duration": 195,
    "start_time": "2023-04-24T18:15:47.399Z"
   },
   {
    "duration": 25,
    "start_time": "2023-04-24T18:15:47.597Z"
   },
   {
    "duration": 268,
    "start_time": "2023-04-24T18:15:47.623Z"
   },
   {
    "duration": 196,
    "start_time": "2023-04-24T18:15:47.893Z"
   },
   {
    "duration": 8,
    "start_time": "2023-04-24T18:15:48.093Z"
   },
   {
    "duration": 30,
    "start_time": "2023-04-24T18:15:48.104Z"
   },
   {
    "duration": 36,
    "start_time": "2023-04-24T18:15:48.191Z"
   },
   {
    "duration": 4,
    "start_time": "2023-04-24T18:15:48.229Z"
   },
   {
    "duration": 801,
    "start_time": "2023-04-24T18:15:48.289Z"
   },
   {
    "duration": 2023,
    "start_time": "2023-04-24T18:15:49.093Z"
   },
   {
    "duration": 466,
    "start_time": "2023-04-24T18:15:51.118Z"
   },
   {
    "duration": 236,
    "start_time": "2023-04-24T18:15:51.588Z"
   },
   {
    "duration": 329,
    "start_time": "2023-04-24T18:15:51.826Z"
   },
   {
    "duration": 219,
    "start_time": "2023-04-24T18:15:52.157Z"
   },
   {
    "duration": 6,
    "start_time": "2023-04-24T18:15:52.377Z"
   },
   {
    "duration": 5,
    "start_time": "2023-04-24T18:15:52.391Z"
   },
   {
    "duration": 1378,
    "start_time": "2023-04-24T18:15:52.399Z"
   },
   {
    "duration": 0,
    "start_time": "2023-04-24T18:15:53.778Z"
   },
   {
    "duration": 0,
    "start_time": "2023-04-24T18:15:53.780Z"
   },
   {
    "duration": 0,
    "start_time": "2023-04-24T18:15:53.782Z"
   },
   {
    "duration": 0,
    "start_time": "2023-04-24T18:15:53.783Z"
   },
   {
    "duration": 0,
    "start_time": "2023-04-24T18:15:53.784Z"
   },
   {
    "duration": 1559,
    "start_time": "2023-04-24T18:18:21.993Z"
   },
   {
    "duration": 336,
    "start_time": "2023-04-24T18:18:23.554Z"
   },
   {
    "duration": 30,
    "start_time": "2023-04-24T18:18:23.891Z"
   },
   {
    "duration": 81,
    "start_time": "2023-04-24T18:18:23.923Z"
   },
   {
    "duration": 191,
    "start_time": "2023-04-24T18:18:24.007Z"
   },
   {
    "duration": 19,
    "start_time": "2023-04-24T18:18:24.200Z"
   },
   {
    "duration": 184,
    "start_time": "2023-04-24T18:18:24.221Z"
   },
   {
    "duration": 182,
    "start_time": "2023-04-24T18:18:24.407Z"
   },
   {
    "duration": 4,
    "start_time": "2023-04-24T18:18:24.591Z"
   },
   {
    "duration": 31,
    "start_time": "2023-04-24T18:18:24.597Z"
   },
   {
    "duration": 77,
    "start_time": "2023-04-24T18:18:24.630Z"
   },
   {
    "duration": 4,
    "start_time": "2023-04-24T18:18:24.709Z"
   },
   {
    "duration": 706,
    "start_time": "2023-04-24T18:18:24.715Z"
   },
   {
    "duration": 1881,
    "start_time": "2023-04-24T18:18:25.424Z"
   },
   {
    "duration": 440,
    "start_time": "2023-04-24T18:18:27.306Z"
   },
   {
    "duration": 209,
    "start_time": "2023-04-24T18:18:27.747Z"
   },
   {
    "duration": 312,
    "start_time": "2023-04-24T18:18:27.958Z"
   },
   {
    "duration": 206,
    "start_time": "2023-04-24T18:18:28.272Z"
   },
   {
    "duration": 11,
    "start_time": "2023-04-24T18:18:28.480Z"
   },
   {
    "duration": 14,
    "start_time": "2023-04-24T18:18:28.492Z"
   },
   {
    "duration": 2231,
    "start_time": "2023-04-24T18:18:28.507Z"
   },
   {
    "duration": 0,
    "start_time": "2023-04-24T18:18:30.740Z"
   },
   {
    "duration": 0,
    "start_time": "2023-04-24T18:18:30.743Z"
   },
   {
    "duration": 0,
    "start_time": "2023-04-24T18:18:30.745Z"
   },
   {
    "duration": 0,
    "start_time": "2023-04-24T18:18:30.746Z"
   },
   {
    "duration": 0,
    "start_time": "2023-04-24T18:18:30.748Z"
   },
   {
    "duration": 38,
    "start_time": "2023-04-24T18:27:11.058Z"
   },
   {
    "duration": 1587,
    "start_time": "2023-04-24T18:27:18.579Z"
   },
   {
    "duration": 330,
    "start_time": "2023-04-24T18:27:20.168Z"
   },
   {
    "duration": 25,
    "start_time": "2023-04-24T18:27:20.501Z"
   },
   {
    "duration": 28,
    "start_time": "2023-04-24T18:27:20.528Z"
   },
   {
    "duration": 95,
    "start_time": "2023-04-24T18:27:20.558Z"
   },
   {
    "duration": 18,
    "start_time": "2023-04-24T18:27:20.654Z"
   },
   {
    "duration": 101,
    "start_time": "2023-04-24T18:27:20.674Z"
   },
   {
    "duration": 79,
    "start_time": "2023-04-24T18:27:20.777Z"
   },
   {
    "duration": 4,
    "start_time": "2023-04-24T18:27:20.858Z"
   },
   {
    "duration": 38,
    "start_time": "2023-04-24T18:27:20.864Z"
   },
   {
    "duration": 24,
    "start_time": "2023-04-24T18:27:20.904Z"
   },
   {
    "duration": 3,
    "start_time": "2023-04-24T18:27:20.930Z"
   },
   {
    "duration": 356,
    "start_time": "2023-04-24T18:27:20.935Z"
   },
   {
    "duration": 2764,
    "start_time": "2023-04-24T18:27:21.294Z"
   },
   {
    "duration": 444,
    "start_time": "2023-04-24T18:27:24.059Z"
   },
   {
    "duration": 200,
    "start_time": "2023-04-24T18:27:24.505Z"
   },
   {
    "duration": 315,
    "start_time": "2023-04-24T18:27:24.707Z"
   },
   {
    "duration": 206,
    "start_time": "2023-04-24T18:27:25.024Z"
   },
   {
    "duration": 6,
    "start_time": "2023-04-24T18:27:25.231Z"
   },
   {
    "duration": 10,
    "start_time": "2023-04-24T18:27:25.239Z"
   },
   {
    "duration": 160,
    "start_time": "2023-04-24T18:27:25.251Z"
   },
   {
    "duration": 0,
    "start_time": "2023-04-24T18:27:25.413Z"
   },
   {
    "duration": 0,
    "start_time": "2023-04-24T18:27:25.415Z"
   },
   {
    "duration": 0,
    "start_time": "2023-04-24T18:27:25.416Z"
   },
   {
    "duration": 0,
    "start_time": "2023-04-24T18:27:25.417Z"
   },
   {
    "duration": 0,
    "start_time": "2023-04-24T18:27:25.419Z"
   },
   {
    "duration": 16,
    "start_time": "2023-04-24T18:28:59.832Z"
   },
   {
    "duration": 2359,
    "start_time": "2023-04-24T18:30:28.943Z"
   },
   {
    "duration": 35,
    "start_time": "2023-04-24T18:33:25.143Z"
   },
   {
    "duration": 1528,
    "start_time": "2023-04-24T18:33:33.939Z"
   },
   {
    "duration": 246,
    "start_time": "2023-04-24T18:33:35.469Z"
   },
   {
    "duration": 27,
    "start_time": "2023-04-24T18:33:35.717Z"
   },
   {
    "duration": 45,
    "start_time": "2023-04-24T18:33:35.745Z"
   },
   {
    "duration": 80,
    "start_time": "2023-04-24T18:33:35.793Z"
   },
   {
    "duration": 26,
    "start_time": "2023-04-24T18:33:35.875Z"
   },
   {
    "duration": 109,
    "start_time": "2023-04-24T18:33:35.904Z"
   },
   {
    "duration": 76,
    "start_time": "2023-04-24T18:33:36.015Z"
   },
   {
    "duration": 5,
    "start_time": "2023-04-24T18:33:36.092Z"
   },
   {
    "duration": 51,
    "start_time": "2023-04-24T18:33:36.098Z"
   },
   {
    "duration": 32,
    "start_time": "2023-04-24T18:33:36.151Z"
   },
   {
    "duration": 3,
    "start_time": "2023-04-24T18:33:36.186Z"
   },
   {
    "duration": 356,
    "start_time": "2023-04-24T18:33:36.191Z"
   },
   {
    "duration": 2683,
    "start_time": "2023-04-24T18:33:36.550Z"
   },
   {
    "duration": 441,
    "start_time": "2023-04-24T18:33:39.235Z"
   },
   {
    "duration": 201,
    "start_time": "2023-04-24T18:33:39.678Z"
   },
   {
    "duration": 329,
    "start_time": "2023-04-24T18:33:39.880Z"
   },
   {
    "duration": 266,
    "start_time": "2023-04-24T18:33:40.212Z"
   },
   {
    "duration": 9,
    "start_time": "2023-04-24T18:33:40.480Z"
   },
   {
    "duration": 3,
    "start_time": "2023-04-24T18:33:40.491Z"
   },
   {
    "duration": 153,
    "start_time": "2023-04-24T18:33:40.496Z"
   },
   {
    "duration": 0,
    "start_time": "2023-04-24T18:33:40.651Z"
   },
   {
    "duration": 0,
    "start_time": "2023-04-24T18:33:40.653Z"
   },
   {
    "duration": 0,
    "start_time": "2023-04-24T18:33:40.654Z"
   },
   {
    "duration": 0,
    "start_time": "2023-04-24T18:33:40.655Z"
   },
   {
    "duration": 0,
    "start_time": "2023-04-24T18:33:40.656Z"
   },
   {
    "duration": 2182,
    "start_time": "2023-04-24T18:34:58.889Z"
   },
   {
    "duration": 12,
    "start_time": "2023-04-24T18:42:31.546Z"
   },
   {
    "duration": 39,
    "start_time": "2023-04-24T18:43:22.469Z"
   },
   {
    "duration": 41,
    "start_time": "2023-04-24T18:44:09.039Z"
   },
   {
    "duration": 1539,
    "start_time": "2023-04-24T18:45:03.636Z"
   },
   {
    "duration": 345,
    "start_time": "2023-04-24T18:45:05.177Z"
   },
   {
    "duration": 82,
    "start_time": "2023-04-24T18:45:05.524Z"
   },
   {
    "duration": 89,
    "start_time": "2023-04-24T18:45:05.607Z"
   },
   {
    "duration": 197,
    "start_time": "2023-04-24T18:45:05.698Z"
   },
   {
    "duration": 20,
    "start_time": "2023-04-24T18:45:05.897Z"
   },
   {
    "duration": 191,
    "start_time": "2023-04-24T18:45:05.918Z"
   },
   {
    "duration": 122,
    "start_time": "2023-04-24T18:45:06.111Z"
   },
   {
    "duration": 5,
    "start_time": "2023-04-24T18:45:06.289Z"
   },
   {
    "duration": 28,
    "start_time": "2023-04-24T18:45:06.296Z"
   },
   {
    "duration": 78,
    "start_time": "2023-04-24T18:45:06.326Z"
   },
   {
    "duration": 4,
    "start_time": "2023-04-24T18:45:06.405Z"
   },
   {
    "duration": 782,
    "start_time": "2023-04-24T18:45:06.410Z"
   },
   {
    "duration": 1821,
    "start_time": "2023-04-24T18:45:07.196Z"
   },
   {
    "duration": 434,
    "start_time": "2023-04-24T18:45:09.018Z"
   },
   {
    "duration": 215,
    "start_time": "2023-04-24T18:45:09.454Z"
   },
   {
    "duration": 331,
    "start_time": "2023-04-24T18:45:09.670Z"
   },
   {
    "duration": 209,
    "start_time": "2023-04-24T18:45:10.003Z"
   },
   {
    "duration": 6,
    "start_time": "2023-04-24T18:45:10.214Z"
   },
   {
    "duration": 12,
    "start_time": "2023-04-24T18:45:10.222Z"
   },
   {
    "duration": 11,
    "start_time": "2023-04-24T18:45:10.236Z"
   },
   {
    "duration": 206,
    "start_time": "2023-04-24T18:45:10.249Z"
   },
   {
    "duration": 0,
    "start_time": "2023-04-24T18:45:10.458Z"
   },
   {
    "duration": 0,
    "start_time": "2023-04-24T18:45:10.460Z"
   },
   {
    "duration": 0,
    "start_time": "2023-04-24T18:45:10.461Z"
   },
   {
    "duration": 0,
    "start_time": "2023-04-24T18:45:10.463Z"
   },
   {
    "duration": 0,
    "start_time": "2023-04-24T18:45:10.465Z"
   },
   {
    "duration": 1242,
    "start_time": "2023-04-24T18:45:14.782Z"
   },
   {
    "duration": 14,
    "start_time": "2023-04-24T18:48:38.815Z"
   },
   {
    "duration": 2216,
    "start_time": "2023-04-24T18:49:13.439Z"
   },
   {
    "duration": 35,
    "start_time": "2023-04-24T18:53:35.345Z"
   },
   {
    "duration": 1547,
    "start_time": "2023-04-24T18:53:41.802Z"
   },
   {
    "duration": 272,
    "start_time": "2023-04-24T18:53:43.351Z"
   },
   {
    "duration": 27,
    "start_time": "2023-04-24T18:53:43.625Z"
   },
   {
    "duration": 52,
    "start_time": "2023-04-24T18:53:43.653Z"
   },
   {
    "duration": 95,
    "start_time": "2023-04-24T18:53:43.708Z"
   },
   {
    "duration": 20,
    "start_time": "2023-04-24T18:53:43.805Z"
   },
   {
    "duration": 108,
    "start_time": "2023-04-24T18:53:43.826Z"
   },
   {
    "duration": 82,
    "start_time": "2023-04-24T18:53:43.936Z"
   },
   {
    "duration": 5,
    "start_time": "2023-04-24T18:53:44.019Z"
   },
   {
    "duration": 32,
    "start_time": "2023-04-24T18:53:44.026Z"
   },
   {
    "duration": 46,
    "start_time": "2023-04-24T18:53:44.059Z"
   },
   {
    "duration": 3,
    "start_time": "2023-04-24T18:53:44.107Z"
   },
   {
    "duration": 368,
    "start_time": "2023-04-24T18:53:44.112Z"
   },
   {
    "duration": 2774,
    "start_time": "2023-04-24T18:53:44.483Z"
   },
   {
    "duration": 456,
    "start_time": "2023-04-24T18:53:47.259Z"
   },
   {
    "duration": 213,
    "start_time": "2023-04-24T18:53:47.717Z"
   },
   {
    "duration": 329,
    "start_time": "2023-04-24T18:53:47.932Z"
   },
   {
    "duration": 211,
    "start_time": "2023-04-24T18:53:48.263Z"
   },
   {
    "duration": 13,
    "start_time": "2023-04-24T18:53:48.476Z"
   },
   {
    "duration": 13,
    "start_time": "2023-04-24T18:53:48.491Z"
   },
   {
    "duration": 7,
    "start_time": "2023-04-24T18:53:48.505Z"
   },
   {
    "duration": 163,
    "start_time": "2023-04-24T18:53:48.514Z"
   },
   {
    "duration": 0,
    "start_time": "2023-04-24T18:53:48.679Z"
   },
   {
    "duration": 0,
    "start_time": "2023-04-24T18:53:48.680Z"
   },
   {
    "duration": 0,
    "start_time": "2023-04-24T18:53:48.693Z"
   },
   {
    "duration": 0,
    "start_time": "2023-04-24T18:53:48.695Z"
   },
   {
    "duration": 2332,
    "start_time": "2023-04-24T18:55:58.279Z"
   },
   {
    "duration": 811,
    "start_time": "2023-04-24T18:56:00.614Z"
   },
   {
    "duration": 87,
    "start_time": "2023-04-24T18:56:01.428Z"
   },
   {
    "duration": 113,
    "start_time": "2023-04-24T18:56:01.518Z"
   },
   {
    "duration": 296,
    "start_time": "2023-04-24T18:56:01.635Z"
   },
   {
    "duration": 76,
    "start_time": "2023-04-24T18:56:01.933Z"
   },
   {
    "duration": 164,
    "start_time": "2023-04-24T18:56:02.011Z"
   },
   {
    "duration": 89,
    "start_time": "2023-04-24T18:56:02.177Z"
   },
   {
    "duration": 6,
    "start_time": "2023-04-24T18:56:02.268Z"
   },
   {
    "duration": 56,
    "start_time": "2023-04-24T18:56:02.276Z"
   },
   {
    "duration": 33,
    "start_time": "2023-04-24T18:56:02.335Z"
   },
   {
    "duration": 20,
    "start_time": "2023-04-24T18:56:02.370Z"
   },
   {
    "duration": 397,
    "start_time": "2023-04-24T18:56:02.392Z"
   },
   {
    "duration": 1972,
    "start_time": "2023-04-24T18:56:02.793Z"
   },
   {
    "duration": 498,
    "start_time": "2023-04-24T18:56:04.766Z"
   },
   {
    "duration": 226,
    "start_time": "2023-04-24T18:56:05.266Z"
   },
   {
    "duration": 358,
    "start_time": "2023-04-24T18:56:05.494Z"
   },
   {
    "duration": 241,
    "start_time": "2023-04-24T18:56:05.854Z"
   },
   {
    "duration": 8,
    "start_time": "2023-04-24T18:56:06.097Z"
   },
   {
    "duration": 25,
    "start_time": "2023-04-24T18:56:06.106Z"
   },
   {
    "duration": 29,
    "start_time": "2023-04-24T18:56:06.133Z"
   },
   {
    "duration": 180,
    "start_time": "2023-04-24T18:56:06.164Z"
   },
   {
    "duration": 0,
    "start_time": "2023-04-24T18:56:06.346Z"
   },
   {
    "duration": 0,
    "start_time": "2023-04-24T18:56:06.347Z"
   },
   {
    "duration": 0,
    "start_time": "2023-04-24T18:56:06.348Z"
   },
   {
    "duration": 0,
    "start_time": "2023-04-24T18:56:06.349Z"
   },
   {
    "duration": 1642,
    "start_time": "2023-04-24T18:56:33.489Z"
   },
   {
    "duration": 282,
    "start_time": "2023-04-24T18:56:35.134Z"
   },
   {
    "duration": 26,
    "start_time": "2023-04-24T18:56:35.418Z"
   },
   {
    "duration": 53,
    "start_time": "2023-04-24T18:56:35.446Z"
   },
   {
    "duration": 92,
    "start_time": "2023-04-24T18:56:35.507Z"
   },
   {
    "duration": 20,
    "start_time": "2023-04-24T18:56:35.602Z"
   },
   {
    "duration": 97,
    "start_time": "2023-04-24T18:56:35.624Z"
   },
   {
    "duration": 86,
    "start_time": "2023-04-24T18:56:35.723Z"
   },
   {
    "duration": 5,
    "start_time": "2023-04-24T18:56:35.811Z"
   },
   {
    "duration": 33,
    "start_time": "2023-04-24T18:56:35.817Z"
   },
   {
    "duration": 42,
    "start_time": "2023-04-24T18:56:35.852Z"
   },
   {
    "duration": 5,
    "start_time": "2023-04-24T18:56:35.900Z"
   },
   {
    "duration": 505,
    "start_time": "2023-04-24T18:56:35.908Z"
   },
   {
    "duration": 3152,
    "start_time": "2023-04-24T18:56:36.418Z"
   },
   {
    "duration": 530,
    "start_time": "2023-04-24T18:56:39.571Z"
   },
   {
    "duration": 255,
    "start_time": "2023-04-24T18:56:40.104Z"
   },
   {
    "duration": 442,
    "start_time": "2023-04-24T18:56:40.362Z"
   },
   {
    "duration": 232,
    "start_time": "2023-04-24T18:56:40.808Z"
   },
   {
    "duration": 7,
    "start_time": "2023-04-24T18:56:41.042Z"
   },
   {
    "duration": 5,
    "start_time": "2023-04-24T18:56:41.051Z"
   },
   {
    "duration": 11,
    "start_time": "2023-04-24T18:56:41.057Z"
   },
   {
    "duration": 182,
    "start_time": "2023-04-24T18:56:41.070Z"
   },
   {
    "duration": 0,
    "start_time": "2023-04-24T18:56:41.254Z"
   },
   {
    "duration": 0,
    "start_time": "2023-04-24T18:56:41.255Z"
   },
   {
    "duration": 0,
    "start_time": "2023-04-24T18:56:41.257Z"
   },
   {
    "duration": 0,
    "start_time": "2023-04-24T18:56:41.257Z"
   },
   {
    "duration": 1794,
    "start_time": "2023-04-24T18:59:08.352Z"
   },
   {
    "duration": 581,
    "start_time": "2023-04-24T18:59:10.148Z"
   },
   {
    "duration": 96,
    "start_time": "2023-04-24T18:59:10.731Z"
   },
   {
    "duration": 90,
    "start_time": "2023-04-24T18:59:10.830Z"
   },
   {
    "duration": 211,
    "start_time": "2023-04-24T18:59:10.922Z"
   },
   {
    "duration": 20,
    "start_time": "2023-04-24T18:59:11.190Z"
   },
   {
    "duration": 209,
    "start_time": "2023-04-24T18:59:11.213Z"
   },
   {
    "duration": 272,
    "start_time": "2023-04-24T18:59:11.425Z"
   },
   {
    "duration": 6,
    "start_time": "2023-04-24T18:59:11.699Z"
   },
   {
    "duration": 87,
    "start_time": "2023-04-24T18:59:11.709Z"
   },
   {
    "duration": 91,
    "start_time": "2023-04-24T18:59:11.799Z"
   },
   {
    "duration": 4,
    "start_time": "2023-04-24T18:59:11.893Z"
   },
   {
    "duration": 921,
    "start_time": "2023-04-24T18:59:11.899Z"
   },
   {
    "duration": 2031,
    "start_time": "2023-04-24T18:59:12.822Z"
   },
   {
    "duration": 487,
    "start_time": "2023-04-24T18:59:14.855Z"
   },
   {
    "duration": 216,
    "start_time": "2023-04-24T18:59:15.344Z"
   },
   {
    "duration": 372,
    "start_time": "2023-04-24T18:59:15.562Z"
   },
   {
    "duration": 247,
    "start_time": "2023-04-24T18:59:15.938Z"
   },
   {
    "duration": 9,
    "start_time": "2023-04-24T18:59:16.189Z"
   },
   {
    "duration": 15,
    "start_time": "2023-04-24T18:59:16.200Z"
   },
   {
    "duration": 19,
    "start_time": "2023-04-24T18:59:16.217Z"
   },
   {
    "duration": 166,
    "start_time": "2023-04-24T18:59:16.238Z"
   },
   {
    "duration": 0,
    "start_time": "2023-04-24T18:59:16.406Z"
   },
   {
    "duration": 0,
    "start_time": "2023-04-24T18:59:16.407Z"
   },
   {
    "duration": 0,
    "start_time": "2023-04-24T18:59:16.409Z"
   },
   {
    "duration": 0,
    "start_time": "2023-04-24T18:59:16.410Z"
   },
   {
    "duration": 34,
    "start_time": "2023-04-24T19:00:35.176Z"
   },
   {
    "duration": 1579,
    "start_time": "2023-04-24T19:00:42.316Z"
   },
   {
    "duration": 300,
    "start_time": "2023-04-24T19:00:43.898Z"
   },
   {
    "duration": 28,
    "start_time": "2023-04-24T19:00:44.200Z"
   },
   {
    "duration": 33,
    "start_time": "2023-04-24T19:00:44.230Z"
   },
   {
    "duration": 106,
    "start_time": "2023-04-24T19:00:44.265Z"
   },
   {
    "duration": 29,
    "start_time": "2023-04-24T19:00:44.373Z"
   },
   {
    "duration": 105,
    "start_time": "2023-04-24T19:00:44.405Z"
   },
   {
    "duration": 177,
    "start_time": "2023-04-24T19:00:44.512Z"
   },
   {
    "duration": 5,
    "start_time": "2023-04-24T19:00:44.692Z"
   },
   {
    "duration": 29,
    "start_time": "2023-04-24T19:00:44.700Z"
   },
   {
    "duration": 87,
    "start_time": "2023-04-24T19:00:44.732Z"
   },
   {
    "duration": 5,
    "start_time": "2023-04-24T19:00:44.822Z"
   },
   {
    "duration": 761,
    "start_time": "2023-04-24T19:00:44.830Z"
   },
   {
    "duration": 2289,
    "start_time": "2023-04-24T19:00:45.593Z"
   },
   {
    "duration": 458,
    "start_time": "2023-04-24T19:00:47.884Z"
   },
   {
    "duration": 202,
    "start_time": "2023-04-24T19:00:48.344Z"
   },
   {
    "duration": 309,
    "start_time": "2023-04-24T19:00:48.547Z"
   },
   {
    "duration": 209,
    "start_time": "2023-04-24T19:00:48.858Z"
   },
   {
    "duration": 9,
    "start_time": "2023-04-24T19:00:49.069Z"
   },
   {
    "duration": 4,
    "start_time": "2023-04-24T19:00:49.089Z"
   },
   {
    "duration": 8,
    "start_time": "2023-04-24T19:00:49.095Z"
   },
   {
    "duration": 159,
    "start_time": "2023-04-24T19:00:49.105Z"
   },
   {
    "duration": 0,
    "start_time": "2023-04-24T19:00:49.266Z"
   },
   {
    "duration": 0,
    "start_time": "2023-04-24T19:00:49.267Z"
   },
   {
    "duration": 0,
    "start_time": "2023-04-24T19:00:49.269Z"
   },
   {
    "duration": 0,
    "start_time": "2023-04-24T19:00:49.270Z"
   },
   {
    "duration": 17,
    "start_time": "2023-04-24T19:01:08.030Z"
   },
   {
    "duration": 7520,
    "start_time": "2023-04-24T19:01:10.066Z"
   },
   {
    "duration": 1761,
    "start_time": "2023-04-24T19:05:56.992Z"
   },
   {
    "duration": 553,
    "start_time": "2023-04-24T19:05:58.755Z"
   },
   {
    "duration": 88,
    "start_time": "2023-04-24T19:05:59.310Z"
   },
   {
    "duration": 97,
    "start_time": "2023-04-24T19:05:59.400Z"
   },
   {
    "duration": 224,
    "start_time": "2023-04-24T19:05:59.501Z"
   },
   {
    "duration": 75,
    "start_time": "2023-04-24T19:05:59.729Z"
   },
   {
    "duration": 219,
    "start_time": "2023-04-24T19:05:59.806Z"
   },
   {
    "duration": 199,
    "start_time": "2023-04-24T19:06:00.028Z"
   },
   {
    "duration": 58,
    "start_time": "2023-04-24T19:06:00.231Z"
   },
   {
    "duration": 102,
    "start_time": "2023-04-24T19:06:00.293Z"
   },
   {
    "duration": 91,
    "start_time": "2023-04-24T19:06:00.398Z"
   },
   {
    "duration": 5,
    "start_time": "2023-04-24T19:06:00.492Z"
   },
   {
    "duration": 1013,
    "start_time": "2023-04-24T19:06:00.500Z"
   },
   {
    "duration": 2162,
    "start_time": "2023-04-24T19:06:01.518Z"
   },
   {
    "duration": 534,
    "start_time": "2023-04-24T19:06:03.682Z"
   },
   {
    "duration": 225,
    "start_time": "2023-04-24T19:06:04.220Z"
   },
   {
    "duration": 356,
    "start_time": "2023-04-24T19:06:04.447Z"
   },
   {
    "duration": 246,
    "start_time": "2023-04-24T19:06:04.805Z"
   },
   {
    "duration": 7,
    "start_time": "2023-04-24T19:06:05.054Z"
   },
   {
    "duration": 89,
    "start_time": "2023-04-24T19:06:05.064Z"
   },
   {
    "duration": 38,
    "start_time": "2023-04-24T19:06:05.155Z"
   },
   {
    "duration": 182,
    "start_time": "2023-04-24T19:06:05.196Z"
   },
   {
    "duration": 0,
    "start_time": "2023-04-24T19:06:05.380Z"
   },
   {
    "duration": 0,
    "start_time": "2023-04-24T19:06:05.381Z"
   },
   {
    "duration": 0,
    "start_time": "2023-04-24T19:06:05.390Z"
   },
   {
    "duration": 0,
    "start_time": "2023-04-24T19:06:05.391Z"
   },
   {
    "duration": 20,
    "start_time": "2023-04-24T19:06:09.738Z"
   },
   {
    "duration": 5129,
    "start_time": "2023-04-24T19:06:11.529Z"
   },
   {
    "duration": 30974,
    "start_time": "2023-04-24T19:07:54.807Z"
   },
   {
    "duration": 1565,
    "start_time": "2023-04-24T19:12:17.480Z"
   },
   {
    "duration": 270,
    "start_time": "2023-04-24T19:12:19.047Z"
   },
   {
    "duration": 78,
    "start_time": "2023-04-24T19:12:19.319Z"
   },
   {
    "duration": 29,
    "start_time": "2023-04-24T19:12:19.399Z"
   },
   {
    "duration": 193,
    "start_time": "2023-04-24T19:12:19.431Z"
   },
   {
    "duration": 72,
    "start_time": "2023-04-24T19:12:19.625Z"
   },
   {
    "duration": 199,
    "start_time": "2023-04-24T19:12:19.699Z"
   },
   {
    "duration": 128,
    "start_time": "2023-04-24T19:12:19.900Z"
   },
   {
    "duration": 4,
    "start_time": "2023-04-24T19:12:20.030Z"
   },
   {
    "duration": 25,
    "start_time": "2023-04-24T19:12:20.090Z"
   },
   {
    "duration": 74,
    "start_time": "2023-04-24T19:12:20.117Z"
   },
   {
    "duration": 3,
    "start_time": "2023-04-24T19:12:20.193Z"
   },
   {
    "duration": 728,
    "start_time": "2023-04-24T19:12:20.198Z"
   },
   {
    "duration": 1959,
    "start_time": "2023-04-24T19:12:20.929Z"
   },
   {
    "duration": 439,
    "start_time": "2023-04-24T19:12:22.889Z"
   },
   {
    "duration": 203,
    "start_time": "2023-04-24T19:12:23.330Z"
   },
   {
    "duration": 313,
    "start_time": "2023-04-24T19:12:23.534Z"
   },
   {
    "duration": 209,
    "start_time": "2023-04-24T19:12:23.849Z"
   },
   {
    "duration": 7,
    "start_time": "2023-04-24T19:12:24.060Z"
   },
   {
    "duration": 5,
    "start_time": "2023-04-24T19:12:24.069Z"
   },
   {
    "duration": 4,
    "start_time": "2023-04-24T19:12:24.090Z"
   },
   {
    "duration": 166,
    "start_time": "2023-04-24T19:12:24.096Z"
   },
   {
    "duration": 0,
    "start_time": "2023-04-24T19:12:24.264Z"
   },
   {
    "duration": 0,
    "start_time": "2023-04-24T19:12:24.267Z"
   },
   {
    "duration": 0,
    "start_time": "2023-04-24T19:12:24.268Z"
   },
   {
    "duration": 0,
    "start_time": "2023-04-24T19:12:24.270Z"
   },
   {
    "duration": 17,
    "start_time": "2023-04-24T19:12:30.846Z"
   },
   {
    "duration": 31955,
    "start_time": "2023-04-24T19:12:33.473Z"
   },
   {
    "duration": 28,
    "start_time": "2023-04-24T19:15:07.502Z"
   },
   {
    "duration": 34,
    "start_time": "2023-04-24T19:15:36.733Z"
   },
   {
    "duration": 5,
    "start_time": "2023-04-24T19:15:46.098Z"
   },
   {
    "duration": 5,
    "start_time": "2023-04-24T19:15:47.705Z"
   },
   {
    "duration": 38,
    "start_time": "2023-04-24T19:15:48.062Z"
   },
   {
    "duration": 1881,
    "start_time": "2023-04-24T19:15:55.147Z"
   },
   {
    "duration": 775,
    "start_time": "2023-04-24T19:15:57.031Z"
   },
   {
    "duration": 92,
    "start_time": "2023-04-24T19:15:57.809Z"
   },
   {
    "duration": 92,
    "start_time": "2023-04-24T19:15:57.903Z"
   },
   {
    "duration": 235,
    "start_time": "2023-04-24T19:15:57.998Z"
   },
   {
    "duration": 75,
    "start_time": "2023-04-24T19:15:58.234Z"
   },
   {
    "duration": 218,
    "start_time": "2023-04-24T19:15:58.311Z"
   },
   {
    "duration": 205,
    "start_time": "2023-04-24T19:15:58.531Z"
   },
   {
    "duration": 6,
    "start_time": "2023-04-24T19:15:58.790Z"
   },
   {
    "duration": 91,
    "start_time": "2023-04-24T19:15:58.798Z"
   },
   {
    "duration": 36,
    "start_time": "2023-04-24T19:15:58.892Z"
   },
   {
    "duration": 60,
    "start_time": "2023-04-24T19:15:58.931Z"
   },
   {
    "duration": 888,
    "start_time": "2023-04-24T19:15:58.993Z"
   },
   {
    "duration": 2026,
    "start_time": "2023-04-24T19:15:59.889Z"
   },
   {
    "duration": 503,
    "start_time": "2023-04-24T19:16:01.918Z"
   },
   {
    "duration": 217,
    "start_time": "2023-04-24T19:16:02.423Z"
   },
   {
    "duration": 360,
    "start_time": "2023-04-24T19:16:02.642Z"
   },
   {
    "duration": 241,
    "start_time": "2023-04-24T19:16:03.004Z"
   },
   {
    "duration": 7,
    "start_time": "2023-04-24T19:16:03.247Z"
   },
   {
    "duration": 20,
    "start_time": "2023-04-24T19:16:03.256Z"
   },
   {
    "duration": 13,
    "start_time": "2023-04-24T19:16:03.277Z"
   },
   {
    "duration": 183,
    "start_time": "2023-04-24T19:16:03.292Z"
   },
   {
    "duration": 0,
    "start_time": "2023-04-24T19:16:03.477Z"
   },
   {
    "duration": 0,
    "start_time": "2023-04-24T19:16:03.478Z"
   },
   {
    "duration": 0,
    "start_time": "2023-04-24T19:16:03.479Z"
   },
   {
    "duration": 0,
    "start_time": "2023-04-24T19:16:03.480Z"
   },
   {
    "duration": 0,
    "start_time": "2023-04-24T19:16:03.490Z"
   },
   {
    "duration": 41,
    "start_time": "2023-04-24T19:16:19.598Z"
   },
   {
    "duration": 22,
    "start_time": "2023-04-24T19:16:23.748Z"
   },
   {
    "duration": 17,
    "start_time": "2023-04-24T19:19:48.433Z"
   },
   {
    "duration": 20,
    "start_time": "2023-04-24T19:20:12.117Z"
   },
   {
    "duration": 16,
    "start_time": "2023-04-24T19:20:40.698Z"
   },
   {
    "duration": 7,
    "start_time": "2023-04-24T19:21:13.906Z"
   },
   {
    "duration": 5,
    "start_time": "2023-04-24T19:21:27.195Z"
   },
   {
    "duration": 17,
    "start_time": "2023-04-24T19:21:35.995Z"
   },
   {
    "duration": 6,
    "start_time": "2023-04-24T19:21:45.346Z"
   },
   {
    "duration": 6,
    "start_time": "2023-04-24T19:21:53.852Z"
   },
   {
    "duration": 8,
    "start_time": "2023-04-24T19:23:34.890Z"
   },
   {
    "duration": 6,
    "start_time": "2023-04-24T19:23:59.882Z"
   },
   {
    "duration": 21,
    "start_time": "2023-04-24T19:26:25.199Z"
   },
   {
    "duration": 37,
    "start_time": "2023-04-24T19:28:14.277Z"
   },
   {
    "duration": 38,
    "start_time": "2023-04-24T19:29:08.230Z"
   },
   {
    "duration": 1557,
    "start_time": "2023-04-24T19:30:24.913Z"
   },
   {
    "duration": 261,
    "start_time": "2023-04-24T19:30:26.472Z"
   },
   {
    "duration": 27,
    "start_time": "2023-04-24T19:30:26.734Z"
   },
   {
    "duration": 39,
    "start_time": "2023-04-24T19:30:26.762Z"
   },
   {
    "duration": 93,
    "start_time": "2023-04-24T19:30:26.803Z"
   },
   {
    "duration": 17,
    "start_time": "2023-04-24T19:30:26.898Z"
   },
   {
    "duration": 103,
    "start_time": "2023-04-24T19:30:26.917Z"
   },
   {
    "duration": 76,
    "start_time": "2023-04-24T19:30:27.022Z"
   },
   {
    "duration": 4,
    "start_time": "2023-04-24T19:30:27.100Z"
   },
   {
    "duration": 28,
    "start_time": "2023-04-24T19:30:27.106Z"
   },
   {
    "duration": 25,
    "start_time": "2023-04-24T19:30:27.136Z"
   },
   {
    "duration": 26,
    "start_time": "2023-04-24T19:30:27.164Z"
   },
   {
    "duration": 805,
    "start_time": "2023-04-24T19:30:27.192Z"
   },
   {
    "duration": 2451,
    "start_time": "2023-04-24T19:30:28.000Z"
   },
   {
    "duration": 545,
    "start_time": "2023-04-24T19:30:30.454Z"
   },
   {
    "duration": 232,
    "start_time": "2023-04-24T19:30:31.001Z"
   },
   {
    "duration": 357,
    "start_time": "2023-04-24T19:30:31.235Z"
   },
   {
    "duration": 244,
    "start_time": "2023-04-24T19:30:31.594Z"
   },
   {
    "duration": 7,
    "start_time": "2023-04-24T19:30:31.840Z"
   },
   {
    "duration": 24,
    "start_time": "2023-04-24T19:30:31.849Z"
   },
   {
    "duration": 33,
    "start_time": "2023-04-24T19:30:31.875Z"
   },
   {
    "duration": 151,
    "start_time": "2023-04-24T19:30:31.911Z"
   },
   {
    "duration": 0,
    "start_time": "2023-04-24T19:30:32.065Z"
   },
   {
    "duration": 0,
    "start_time": "2023-04-24T19:30:32.066Z"
   },
   {
    "duration": 0,
    "start_time": "2023-04-24T19:30:32.067Z"
   },
   {
    "duration": 0,
    "start_time": "2023-04-24T19:30:32.068Z"
   },
   {
    "duration": 0,
    "start_time": "2023-04-24T19:30:32.069Z"
   },
   {
    "duration": 1571,
    "start_time": "2023-04-24T19:36:44.541Z"
   },
   {
    "duration": 254,
    "start_time": "2023-04-24T19:36:46.115Z"
   },
   {
    "duration": 26,
    "start_time": "2023-04-24T19:36:46.371Z"
   },
   {
    "duration": 30,
    "start_time": "2023-04-24T19:36:46.398Z"
   },
   {
    "duration": 102,
    "start_time": "2023-04-24T19:36:46.431Z"
   },
   {
    "duration": 18,
    "start_time": "2023-04-24T19:36:46.535Z"
   },
   {
    "duration": 139,
    "start_time": "2023-04-24T19:36:46.556Z"
   },
   {
    "duration": 70,
    "start_time": "2023-04-24T19:36:46.697Z"
   },
   {
    "duration": 5,
    "start_time": "2023-04-24T19:36:46.769Z"
   },
   {
    "duration": 39,
    "start_time": "2023-04-24T19:36:46.776Z"
   },
   {
    "duration": 29,
    "start_time": "2023-04-24T19:36:46.817Z"
   },
   {
    "duration": 3,
    "start_time": "2023-04-24T19:36:46.848Z"
   },
   {
    "duration": 384,
    "start_time": "2023-04-24T19:36:46.853Z"
   },
   {
    "duration": 2938,
    "start_time": "2023-04-24T19:36:47.241Z"
   },
   {
    "duration": 526,
    "start_time": "2023-04-24T19:36:50.189Z"
   },
   {
    "duration": 204,
    "start_time": "2023-04-24T19:36:50.717Z"
   },
   {
    "duration": 317,
    "start_time": "2023-04-24T19:36:50.923Z"
   },
   {
    "duration": 207,
    "start_time": "2023-04-24T19:36:51.242Z"
   },
   {
    "duration": 135,
    "start_time": "2023-04-24T19:36:51.450Z"
   },
   {
    "duration": 0,
    "start_time": "2023-04-24T19:36:51.589Z"
   },
   {
    "duration": 0,
    "start_time": "2023-04-24T19:36:51.591Z"
   },
   {
    "duration": 0,
    "start_time": "2023-04-24T19:36:51.593Z"
   },
   {
    "duration": 0,
    "start_time": "2023-04-24T19:36:51.594Z"
   },
   {
    "duration": 0,
    "start_time": "2023-04-24T19:36:51.596Z"
   },
   {
    "duration": 1,
    "start_time": "2023-04-24T19:36:51.597Z"
   },
   {
    "duration": 0,
    "start_time": "2023-04-24T19:36:51.599Z"
   },
   {
    "duration": 0,
    "start_time": "2023-04-24T19:36:51.601Z"
   },
   {
    "duration": 1736,
    "start_time": "2023-04-25T06:44:41.069Z"
   },
   {
    "duration": 491,
    "start_time": "2023-04-25T06:44:42.807Z"
   },
   {
    "duration": 28,
    "start_time": "2023-04-25T06:44:43.299Z"
   },
   {
    "duration": 36,
    "start_time": "2023-04-25T06:44:43.330Z"
   },
   {
    "duration": 90,
    "start_time": "2023-04-25T06:44:43.368Z"
   },
   {
    "duration": 19,
    "start_time": "2023-04-25T06:44:43.459Z"
   },
   {
    "duration": 113,
    "start_time": "2023-04-25T06:44:43.479Z"
   },
   {
    "duration": 82,
    "start_time": "2023-04-25T06:44:43.593Z"
   },
   {
    "duration": 4,
    "start_time": "2023-04-25T06:44:43.677Z"
   },
   {
    "duration": 30,
    "start_time": "2023-04-25T06:44:43.684Z"
   },
   {
    "duration": 49,
    "start_time": "2023-04-25T06:44:43.716Z"
   },
   {
    "duration": 4,
    "start_time": "2023-04-25T06:44:43.767Z"
   },
   {
    "duration": 384,
    "start_time": "2023-04-25T06:44:43.773Z"
   },
   {
    "duration": 1681,
    "start_time": "2023-04-25T06:44:44.159Z"
   },
   {
    "duration": 437,
    "start_time": "2023-04-25T06:44:45.843Z"
   },
   {
    "duration": 203,
    "start_time": "2023-04-25T06:44:46.282Z"
   },
   {
    "duration": 356,
    "start_time": "2023-04-25T06:44:46.487Z"
   },
   {
    "duration": 222,
    "start_time": "2023-04-25T06:44:46.845Z"
   },
   {
    "duration": 137,
    "start_time": "2023-04-25T06:44:47.069Z"
   },
   {
    "duration": 0,
    "start_time": "2023-04-25T06:44:47.208Z"
   },
   {
    "duration": 0,
    "start_time": "2023-04-25T06:44:47.209Z"
   },
   {
    "duration": 0,
    "start_time": "2023-04-25T06:44:47.211Z"
   },
   {
    "duration": 0,
    "start_time": "2023-04-25T06:44:47.212Z"
   },
   {
    "duration": 0,
    "start_time": "2023-04-25T06:44:47.213Z"
   },
   {
    "duration": 0,
    "start_time": "2023-04-25T06:44:47.214Z"
   },
   {
    "duration": 0,
    "start_time": "2023-04-25T06:44:47.216Z"
   },
   {
    "duration": 0,
    "start_time": "2023-04-25T06:44:47.234Z"
   },
   {
    "duration": 19,
    "start_time": "2023-04-25T06:45:22.259Z"
   },
   {
    "duration": 34096,
    "start_time": "2023-04-25T06:45:25.342Z"
   },
   {
    "duration": 1443,
    "start_time": "2023-04-25T06:53:36.428Z"
   },
   {
    "duration": 228,
    "start_time": "2023-04-25T06:53:37.872Z"
   },
   {
    "duration": 21,
    "start_time": "2023-04-25T06:53:38.102Z"
   },
   {
    "duration": 32,
    "start_time": "2023-04-25T06:53:38.125Z"
   },
   {
    "duration": 79,
    "start_time": "2023-04-25T06:53:38.159Z"
   },
   {
    "duration": 16,
    "start_time": "2023-04-25T06:53:38.239Z"
   },
   {
    "duration": 84,
    "start_time": "2023-04-25T06:53:38.257Z"
   },
   {
    "duration": 64,
    "start_time": "2023-04-25T06:53:38.343Z"
   },
   {
    "duration": 3,
    "start_time": "2023-04-25T06:53:38.409Z"
   },
   {
    "duration": 42,
    "start_time": "2023-04-25T06:53:38.413Z"
   },
   {
    "duration": 22,
    "start_time": "2023-04-25T06:53:38.457Z"
   },
   {
    "duration": 3,
    "start_time": "2023-04-25T06:53:38.481Z"
   },
   {
    "duration": 288,
    "start_time": "2023-04-25T06:53:38.486Z"
   },
   {
    "duration": 1402,
    "start_time": "2023-04-25T06:53:38.777Z"
   },
   {
    "duration": 357,
    "start_time": "2023-04-25T06:53:40.180Z"
   },
   {
    "duration": 170,
    "start_time": "2023-04-25T06:53:40.539Z"
   },
   {
    "duration": 259,
    "start_time": "2023-04-25T06:53:40.710Z"
   },
   {
    "duration": 171,
    "start_time": "2023-04-25T06:53:40.971Z"
   },
   {
    "duration": 119,
    "start_time": "2023-04-25T06:53:41.144Z"
   },
   {
    "duration": 0,
    "start_time": "2023-04-25T06:53:41.264Z"
   },
   {
    "duration": 0,
    "start_time": "2023-04-25T06:53:41.265Z"
   },
   {
    "duration": 0,
    "start_time": "2023-04-25T06:53:41.266Z"
   },
   {
    "duration": 0,
    "start_time": "2023-04-25T06:53:41.268Z"
   },
   {
    "duration": 0,
    "start_time": "2023-04-25T06:53:41.268Z"
   },
   {
    "duration": 0,
    "start_time": "2023-04-25T06:53:41.270Z"
   },
   {
    "duration": 0,
    "start_time": "2023-04-25T06:53:41.270Z"
   },
   {
    "duration": 0,
    "start_time": "2023-04-25T06:53:41.271Z"
   },
   {
    "duration": 0,
    "start_time": "2023-04-25T06:53:41.272Z"
   },
   {
    "duration": 15,
    "start_time": "2023-04-25T06:54:05.338Z"
   },
   {
    "duration": 88,
    "start_time": "2023-04-25T06:54:08.755Z"
   },
   {
    "duration": 1363,
    "start_time": "2023-04-25T06:59:25.468Z"
   },
   {
    "duration": 206,
    "start_time": "2023-04-25T06:59:26.833Z"
   },
   {
    "duration": 21,
    "start_time": "2023-04-25T06:59:27.040Z"
   },
   {
    "duration": 25,
    "start_time": "2023-04-25T06:59:27.063Z"
   },
   {
    "duration": 88,
    "start_time": "2023-04-25T06:59:27.090Z"
   },
   {
    "duration": 15,
    "start_time": "2023-04-25T06:59:27.180Z"
   },
   {
    "duration": 114,
    "start_time": "2023-04-25T06:59:27.199Z"
   },
   {
    "duration": 65,
    "start_time": "2023-04-25T06:59:27.315Z"
   },
   {
    "duration": 4,
    "start_time": "2023-04-25T06:59:27.382Z"
   },
   {
    "duration": 34,
    "start_time": "2023-04-25T06:59:27.387Z"
   },
   {
    "duration": 32,
    "start_time": "2023-04-25T06:59:27.423Z"
   },
   {
    "duration": 3,
    "start_time": "2023-04-25T06:59:27.457Z"
   },
   {
    "duration": 319,
    "start_time": "2023-04-25T06:59:27.461Z"
   },
   {
    "duration": 1957,
    "start_time": "2023-04-25T06:59:27.783Z"
   },
   {
    "duration": 727,
    "start_time": "2023-04-25T06:59:29.742Z"
   },
   {
    "duration": 181,
    "start_time": "2023-04-25T06:59:30.470Z"
   },
   {
    "duration": 299,
    "start_time": "2023-04-25T06:59:30.653Z"
   },
   {
    "duration": 187,
    "start_time": "2023-04-25T06:59:30.953Z"
   },
   {
    "duration": 125,
    "start_time": "2023-04-25T06:59:31.142Z"
   },
   {
    "duration": 0,
    "start_time": "2023-04-25T06:59:31.269Z"
   },
   {
    "duration": 0,
    "start_time": "2023-04-25T06:59:31.270Z"
   },
   {
    "duration": 0,
    "start_time": "2023-04-25T06:59:31.272Z"
   },
   {
    "duration": 0,
    "start_time": "2023-04-25T06:59:31.273Z"
   },
   {
    "duration": 0,
    "start_time": "2023-04-25T06:59:31.274Z"
   },
   {
    "duration": 0,
    "start_time": "2023-04-25T06:59:31.276Z"
   },
   {
    "duration": 0,
    "start_time": "2023-04-25T06:59:31.277Z"
   },
   {
    "duration": 0,
    "start_time": "2023-04-25T06:59:31.278Z"
   },
   {
    "duration": 0,
    "start_time": "2023-04-25T06:59:31.279Z"
   },
   {
    "duration": 0,
    "start_time": "2023-04-25T06:59:31.280Z"
   },
   {
    "duration": 14,
    "start_time": "2023-04-25T06:59:37.043Z"
   },
   {
    "duration": 88,
    "start_time": "2023-04-25T06:59:40.567Z"
   },
   {
    "duration": 405,
    "start_time": "2023-04-25T06:59:41.787Z"
   },
   {
    "duration": 2292,
    "start_time": "2023-04-25T07:00:01.647Z"
   },
   {
    "duration": 508,
    "start_time": "2023-04-25T07:00:03.942Z"
   },
   {
    "duration": 24,
    "start_time": "2023-04-25T07:00:04.452Z"
   },
   {
    "duration": 86,
    "start_time": "2023-04-25T07:00:04.477Z"
   },
   {
    "duration": 191,
    "start_time": "2023-04-25T07:00:04.565Z"
   },
   {
    "duration": 19,
    "start_time": "2023-04-25T07:00:04.757Z"
   },
   {
    "duration": 112,
    "start_time": "2023-04-25T07:00:04.778Z"
   },
   {
    "duration": 91,
    "start_time": "2023-04-25T07:00:04.892Z"
   },
   {
    "duration": 4,
    "start_time": "2023-04-25T07:00:04.985Z"
   },
   {
    "duration": 37,
    "start_time": "2023-04-25T07:00:04.991Z"
   },
   {
    "duration": 29,
    "start_time": "2023-04-25T07:00:05.030Z"
   },
   {
    "duration": 4,
    "start_time": "2023-04-25T07:00:05.060Z"
   },
   {
    "duration": 376,
    "start_time": "2023-04-25T07:00:05.066Z"
   },
   {
    "duration": 1769,
    "start_time": "2023-04-25T07:00:05.445Z"
   },
   {
    "duration": 467,
    "start_time": "2023-04-25T07:00:07.216Z"
   },
   {
    "duration": 206,
    "start_time": "2023-04-25T07:00:07.685Z"
   },
   {
    "duration": 324,
    "start_time": "2023-04-25T07:00:07.892Z"
   },
   {
    "duration": 213,
    "start_time": "2023-04-25T07:00:08.218Z"
   },
   {
    "duration": 143,
    "start_time": "2023-04-25T07:00:08.433Z"
   },
   {
    "duration": 0,
    "start_time": "2023-04-25T07:00:08.578Z"
   },
   {
    "duration": 0,
    "start_time": "2023-04-25T07:00:08.578Z"
   },
   {
    "duration": 0,
    "start_time": "2023-04-25T07:00:08.580Z"
   },
   {
    "duration": 0,
    "start_time": "2023-04-25T07:00:08.581Z"
   },
   {
    "duration": 0,
    "start_time": "2023-04-25T07:00:08.582Z"
   },
   {
    "duration": 0,
    "start_time": "2023-04-25T07:00:08.583Z"
   },
   {
    "duration": 0,
    "start_time": "2023-04-25T07:00:08.585Z"
   },
   {
    "duration": 0,
    "start_time": "2023-04-25T07:00:08.586Z"
   },
   {
    "duration": 0,
    "start_time": "2023-04-25T07:00:08.586Z"
   },
   {
    "duration": 17,
    "start_time": "2023-04-25T07:00:10.872Z"
   },
   {
    "duration": 1642,
    "start_time": "2023-04-25T07:03:05.639Z"
   },
   {
    "duration": 278,
    "start_time": "2023-04-25T07:03:07.283Z"
   },
   {
    "duration": 26,
    "start_time": "2023-04-25T07:03:07.562Z"
   },
   {
    "duration": 46,
    "start_time": "2023-04-25T07:03:07.590Z"
   },
   {
    "duration": 140,
    "start_time": "2023-04-25T07:03:07.638Z"
   },
   {
    "duration": 68,
    "start_time": "2023-04-25T07:03:07.780Z"
   },
   {
    "duration": 190,
    "start_time": "2023-04-25T07:03:07.850Z"
   },
   {
    "duration": 130,
    "start_time": "2023-04-25T07:03:08.042Z"
   },
   {
    "duration": 61,
    "start_time": "2023-04-25T07:03:08.174Z"
   },
   {
    "duration": 28,
    "start_time": "2023-04-25T07:03:08.237Z"
   },
   {
    "duration": 73,
    "start_time": "2023-04-25T07:03:08.267Z"
   },
   {
    "duration": 3,
    "start_time": "2023-04-25T07:03:08.342Z"
   },
   {
    "duration": 716,
    "start_time": "2023-04-25T07:03:08.347Z"
   },
   {
    "duration": 1908,
    "start_time": "2023-04-25T07:03:09.067Z"
   },
   {
    "duration": 410,
    "start_time": "2023-04-25T07:03:10.977Z"
   },
   {
    "duration": 187,
    "start_time": "2023-04-25T07:03:11.389Z"
   },
   {
    "duration": 320,
    "start_time": "2023-04-25T07:03:11.578Z"
   },
   {
    "duration": 213,
    "start_time": "2023-04-25T07:03:11.899Z"
   },
   {
    "duration": 132,
    "start_time": "2023-04-25T07:03:12.114Z"
   },
   {
    "duration": 0,
    "start_time": "2023-04-25T07:03:12.247Z"
   },
   {
    "duration": 0,
    "start_time": "2023-04-25T07:03:12.249Z"
   },
   {
    "duration": 0,
    "start_time": "2023-04-25T07:03:12.250Z"
   },
   {
    "duration": 0,
    "start_time": "2023-04-25T07:03:12.252Z"
   },
   {
    "duration": 0,
    "start_time": "2023-04-25T07:03:12.253Z"
   },
   {
    "duration": 0,
    "start_time": "2023-04-25T07:03:12.254Z"
   },
   {
    "duration": 0,
    "start_time": "2023-04-25T07:03:12.256Z"
   },
   {
    "duration": 0,
    "start_time": "2023-04-25T07:03:12.257Z"
   },
   {
    "duration": 0,
    "start_time": "2023-04-25T07:03:12.258Z"
   },
   {
    "duration": 18,
    "start_time": "2023-04-25T07:03:15.756Z"
   },
   {
    "duration": 142,
    "start_time": "2023-04-25T07:03:17.187Z"
   },
   {
    "duration": 15,
    "start_time": "2023-04-25T07:03:48.108Z"
   },
   {
    "duration": 28869,
    "start_time": "2023-04-25T07:06:04.915Z"
   },
   {
    "duration": 17,
    "start_time": "2023-04-25T07:07:52.854Z"
   },
   {
    "duration": 6,
    "start_time": "2023-04-25T07:08:28.063Z"
   },
   {
    "duration": 112684,
    "start_time": "2023-04-25T07:08:34.548Z"
   },
   {
    "duration": 1508,
    "start_time": "2023-04-25T07:14:49.072Z"
   },
   {
    "duration": 237,
    "start_time": "2023-04-25T07:14:50.583Z"
   },
   {
    "duration": 23,
    "start_time": "2023-04-25T07:14:50.822Z"
   },
   {
    "duration": 30,
    "start_time": "2023-04-25T07:14:50.846Z"
   },
   {
    "duration": 89,
    "start_time": "2023-04-25T07:14:50.879Z"
   },
   {
    "duration": 16,
    "start_time": "2023-04-25T07:14:50.970Z"
   },
   {
    "duration": 96,
    "start_time": "2023-04-25T07:14:50.988Z"
   },
   {
    "duration": 73,
    "start_time": "2023-04-25T07:14:51.086Z"
   },
   {
    "duration": 5,
    "start_time": "2023-04-25T07:14:51.160Z"
   },
   {
    "duration": 89,
    "start_time": "2023-04-25T07:14:51.166Z"
   },
   {
    "duration": 77,
    "start_time": "2023-04-25T07:14:51.257Z"
   },
   {
    "duration": 3,
    "start_time": "2023-04-25T07:14:51.336Z"
   },
   {
    "duration": 629,
    "start_time": "2023-04-25T07:14:51.341Z"
   },
   {
    "duration": 2135,
    "start_time": "2023-04-25T07:14:51.973Z"
   },
   {
    "duration": 427,
    "start_time": "2023-04-25T07:14:54.110Z"
   },
   {
    "duration": 182,
    "start_time": "2023-04-25T07:14:54.539Z"
   },
   {
    "duration": 304,
    "start_time": "2023-04-25T07:14:54.723Z"
   },
   {
    "duration": 195,
    "start_time": "2023-04-25T07:14:55.034Z"
   },
   {
    "duration": 139,
    "start_time": "2023-04-25T07:14:55.231Z"
   },
   {
    "duration": 0,
    "start_time": "2023-04-25T07:14:55.372Z"
   },
   {
    "duration": 0,
    "start_time": "2023-04-25T07:14:55.373Z"
   },
   {
    "duration": 0,
    "start_time": "2023-04-25T07:14:55.374Z"
   },
   {
    "duration": 0,
    "start_time": "2023-04-25T07:14:55.375Z"
   },
   {
    "duration": 0,
    "start_time": "2023-04-25T07:14:55.377Z"
   },
   {
    "duration": 0,
    "start_time": "2023-04-25T07:14:55.378Z"
   },
   {
    "duration": 0,
    "start_time": "2023-04-25T07:14:55.379Z"
   },
   {
    "duration": 0,
    "start_time": "2023-04-25T07:14:55.380Z"
   },
   {
    "duration": 0,
    "start_time": "2023-04-25T07:14:55.381Z"
   },
   {
    "duration": 0,
    "start_time": "2023-04-25T07:14:55.382Z"
   },
   {
    "duration": 15,
    "start_time": "2023-04-25T07:14:58.032Z"
   },
   {
    "duration": 31,
    "start_time": "2023-04-25T07:15:02.027Z"
   },
   {
    "duration": 16,
    "start_time": "2023-04-25T07:15:20.226Z"
   },
   {
    "duration": 32102,
    "start_time": "2023-04-25T07:15:26.128Z"
   },
   {
    "duration": 114555,
    "start_time": "2023-04-25T07:16:01.936Z"
   },
   {
    "duration": 11,
    "start_time": "2023-04-25T07:22:06.490Z"
   },
   {
    "duration": 43,
    "start_time": "2023-04-25T07:22:18.320Z"
   },
   {
    "duration": 53,
    "start_time": "2023-04-25T07:22:30.219Z"
   },
   {
    "duration": 56,
    "start_time": "2023-04-25T07:23:19.436Z"
   },
   {
    "duration": 6,
    "start_time": "2023-04-25T07:26:34.342Z"
   },
   {
    "duration": 6,
    "start_time": "2023-04-25T07:26:38.877Z"
   },
   {
    "duration": 6,
    "start_time": "2023-04-25T07:27:03.991Z"
   },
   {
    "duration": 1470,
    "start_time": "2023-04-25T07:27:50.392Z"
   },
   {
    "duration": 251,
    "start_time": "2023-04-25T07:27:51.864Z"
   },
   {
    "duration": 23,
    "start_time": "2023-04-25T07:27:52.117Z"
   },
   {
    "duration": 31,
    "start_time": "2023-04-25T07:27:52.142Z"
   },
   {
    "duration": 113,
    "start_time": "2023-04-25T07:27:52.176Z"
   },
   {
    "duration": 20,
    "start_time": "2023-04-25T07:27:52.291Z"
   },
   {
    "duration": 110,
    "start_time": "2023-04-25T07:27:52.313Z"
   },
   {
    "duration": 80,
    "start_time": "2023-04-25T07:27:52.425Z"
   },
   {
    "duration": 5,
    "start_time": "2023-04-25T07:27:52.506Z"
   },
   {
    "duration": 47,
    "start_time": "2023-04-25T07:27:52.513Z"
   },
   {
    "duration": 28,
    "start_time": "2023-04-25T07:27:52.562Z"
   },
   {
    "duration": 8,
    "start_time": "2023-04-25T07:27:52.592Z"
   },
   {
    "duration": 344,
    "start_time": "2023-04-25T07:27:52.601Z"
   },
   {
    "duration": 2733,
    "start_time": "2023-04-25T07:27:52.949Z"
   },
   {
    "duration": 448,
    "start_time": "2023-04-25T07:27:55.684Z"
   },
   {
    "duration": 208,
    "start_time": "2023-04-25T07:27:56.134Z"
   },
   {
    "duration": 345,
    "start_time": "2023-04-25T07:27:56.344Z"
   },
   {
    "duration": 221,
    "start_time": "2023-04-25T07:27:56.692Z"
   },
   {
    "duration": 7,
    "start_time": "2023-04-25T07:27:56.915Z"
   },
   {
    "duration": 19,
    "start_time": "2023-04-25T07:27:56.924Z"
   },
   {
    "duration": 32,
    "start_time": "2023-04-25T07:27:56.944Z"
   },
   {
    "duration": 16,
    "start_time": "2023-04-25T07:27:56.977Z"
   },
   {
    "duration": 24,
    "start_time": "2023-04-25T07:27:56.995Z"
   },
   {
    "duration": 161,
    "start_time": "2023-04-25T07:27:57.021Z"
   },
   {
    "duration": 0,
    "start_time": "2023-04-25T07:27:57.185Z"
   },
   {
    "duration": 0,
    "start_time": "2023-04-25T07:27:57.187Z"
   },
   {
    "duration": 0,
    "start_time": "2023-04-25T07:27:57.189Z"
   },
   {
    "duration": 0,
    "start_time": "2023-04-25T07:27:57.190Z"
   },
   {
    "duration": 0,
    "start_time": "2023-04-25T07:27:57.192Z"
   },
   {
    "duration": 0,
    "start_time": "2023-04-25T07:27:57.194Z"
   },
   {
    "duration": 0,
    "start_time": "2023-04-25T07:27:57.195Z"
   },
   {
    "duration": 4,
    "start_time": "2023-04-25T07:28:29.574Z"
   },
   {
    "duration": 55,
    "start_time": "2023-04-25T07:30:51.519Z"
   },
   {
    "duration": 1711,
    "start_time": "2023-04-25T07:33:49.862Z"
   },
   {
    "duration": 399,
    "start_time": "2023-04-25T07:33:51.575Z"
   },
   {
    "duration": 76,
    "start_time": "2023-04-25T07:33:51.976Z"
   },
   {
    "duration": 89,
    "start_time": "2023-04-25T07:33:52.054Z"
   },
   {
    "duration": 127,
    "start_time": "2023-04-25T07:33:52.145Z"
   },
   {
    "duration": 65,
    "start_time": "2023-04-25T07:33:52.273Z"
   },
   {
    "duration": 131,
    "start_time": "2023-04-25T07:33:52.339Z"
   },
   {
    "duration": 167,
    "start_time": "2023-04-25T07:33:52.471Z"
   },
   {
    "duration": 4,
    "start_time": "2023-04-25T07:33:52.640Z"
   },
   {
    "duration": 29,
    "start_time": "2023-04-25T07:33:52.645Z"
   },
   {
    "duration": 69,
    "start_time": "2023-04-25T07:33:52.676Z"
   },
   {
    "duration": 3,
    "start_time": "2023-04-25T07:33:52.747Z"
   },
   {
    "duration": 319,
    "start_time": "2023-04-25T07:33:52.751Z"
   },
   {
    "duration": 1524,
    "start_time": "2023-04-25T07:33:53.073Z"
   },
   {
    "duration": 417,
    "start_time": "2023-04-25T07:33:54.599Z"
   },
   {
    "duration": 183,
    "start_time": "2023-04-25T07:33:55.018Z"
   },
   {
    "duration": 298,
    "start_time": "2023-04-25T07:33:55.203Z"
   },
   {
    "duration": 197,
    "start_time": "2023-04-25T07:33:55.503Z"
   },
   {
    "duration": 7,
    "start_time": "2023-04-25T07:33:55.701Z"
   },
   {
    "duration": 11,
    "start_time": "2023-04-25T07:33:55.710Z"
   },
   {
    "duration": 12,
    "start_time": "2023-04-25T07:33:55.722Z"
   },
   {
    "duration": 13,
    "start_time": "2023-04-25T07:33:55.735Z"
   },
   {
    "duration": 145,
    "start_time": "2023-04-25T07:33:55.750Z"
   },
   {
    "duration": 0,
    "start_time": "2023-04-25T07:33:55.897Z"
   },
   {
    "duration": 0,
    "start_time": "2023-04-25T07:33:55.898Z"
   },
   {
    "duration": 0,
    "start_time": "2023-04-25T07:33:55.899Z"
   },
   {
    "duration": 0,
    "start_time": "2023-04-25T07:33:55.901Z"
   },
   {
    "duration": 0,
    "start_time": "2023-04-25T07:33:55.902Z"
   },
   {
    "duration": 0,
    "start_time": "2023-04-25T07:33:55.903Z"
   },
   {
    "duration": 0,
    "start_time": "2023-04-25T07:33:55.904Z"
   },
   {
    "duration": 19,
    "start_time": "2023-04-25T07:35:00.534Z"
   },
   {
    "duration": 9,
    "start_time": "2023-04-25T07:37:34.730Z"
   },
   {
    "duration": 1205,
    "start_time": "2023-04-25T07:37:35.272Z"
   },
   {
    "duration": 4,
    "start_time": "2023-04-25T07:38:28.552Z"
   },
   {
    "duration": 3,
    "start_time": "2023-04-25T07:38:58.167Z"
   },
   {
    "duration": 4,
    "start_time": "2023-04-25T07:39:07.729Z"
   },
   {
    "duration": 1586,
    "start_time": "2023-04-25T07:40:24.936Z"
   },
   {
    "duration": 394,
    "start_time": "2023-04-25T07:40:26.524Z"
   },
   {
    "duration": 46,
    "start_time": "2023-04-25T07:40:26.920Z"
   },
   {
    "duration": 77,
    "start_time": "2023-04-25T07:40:26.969Z"
   },
   {
    "duration": 117,
    "start_time": "2023-04-25T07:40:27.049Z"
   },
   {
    "duration": 18,
    "start_time": "2023-04-25T07:40:27.168Z"
   },
   {
    "duration": 102,
    "start_time": "2023-04-25T07:40:27.188Z"
   },
   {
    "duration": 78,
    "start_time": "2023-04-25T07:40:27.292Z"
   },
   {
    "duration": 4,
    "start_time": "2023-04-25T07:40:27.372Z"
   },
   {
    "duration": 61,
    "start_time": "2023-04-25T07:40:27.378Z"
   },
   {
    "duration": 55,
    "start_time": "2023-04-25T07:40:27.441Z"
   },
   {
    "duration": 18,
    "start_time": "2023-04-25T07:40:27.499Z"
   },
   {
    "duration": 428,
    "start_time": "2023-04-25T07:40:27.519Z"
   },
   {
    "duration": 2923,
    "start_time": "2023-04-25T07:40:27.952Z"
   },
   {
    "duration": 475,
    "start_time": "2023-04-25T07:40:30.877Z"
   },
   {
    "duration": 201,
    "start_time": "2023-04-25T07:40:31.354Z"
   },
   {
    "duration": 210,
    "start_time": "2023-04-25T07:40:31.557Z"
   },
   {
    "duration": 381,
    "start_time": "2023-04-25T07:40:31.770Z"
   },
   {
    "duration": 9,
    "start_time": "2023-04-25T07:40:32.153Z"
   },
   {
    "duration": 38,
    "start_time": "2023-04-25T07:40:32.164Z"
   },
   {
    "duration": 43,
    "start_time": "2023-04-25T07:40:32.204Z"
   },
   {
    "duration": 1287,
    "start_time": "2023-04-25T07:40:32.249Z"
   },
   {
    "duration": 4,
    "start_time": "2023-04-25T07:40:33.538Z"
   },
   {
    "duration": 33,
    "start_time": "2023-04-25T07:40:33.544Z"
   },
   {
    "duration": 182,
    "start_time": "2023-04-25T07:40:33.580Z"
   },
   {
    "duration": 0,
    "start_time": "2023-04-25T07:40:33.764Z"
   },
   {
    "duration": 0,
    "start_time": "2023-04-25T07:40:33.766Z"
   },
   {
    "duration": 0,
    "start_time": "2023-04-25T07:40:33.767Z"
   },
   {
    "duration": 0,
    "start_time": "2023-04-25T07:40:33.768Z"
   },
   {
    "duration": 0,
    "start_time": "2023-04-25T07:40:33.769Z"
   },
   {
    "duration": 0,
    "start_time": "2023-04-25T07:40:33.771Z"
   },
   {
    "duration": 0,
    "start_time": "2023-04-25T07:40:33.772Z"
   },
   {
    "duration": 20,
    "start_time": "2023-04-25T07:41:00.414Z"
   },
   {
    "duration": 1698,
    "start_time": "2023-04-25T07:41:36.027Z"
   },
   {
    "duration": 293,
    "start_time": "2023-04-25T07:41:37.727Z"
   },
   {
    "duration": 30,
    "start_time": "2023-04-25T07:41:38.022Z"
   },
   {
    "duration": 38,
    "start_time": "2023-04-25T07:41:38.054Z"
   },
   {
    "duration": 106,
    "start_time": "2023-04-25T07:41:38.095Z"
   },
   {
    "duration": 41,
    "start_time": "2023-04-25T07:41:38.203Z"
   },
   {
    "duration": 192,
    "start_time": "2023-04-25T07:41:38.246Z"
   },
   {
    "duration": 123,
    "start_time": "2023-04-25T07:41:38.440Z"
   },
   {
    "duration": 5,
    "start_time": "2023-04-25T07:41:38.565Z"
   },
   {
    "duration": 81,
    "start_time": "2023-04-25T07:41:38.571Z"
   },
   {
    "duration": 86,
    "start_time": "2023-04-25T07:41:38.654Z"
   },
   {
    "duration": 4,
    "start_time": "2023-04-25T07:41:38.742Z"
   },
   {
    "duration": 719,
    "start_time": "2023-04-25T07:41:38.747Z"
   },
   {
    "duration": 2223,
    "start_time": "2023-04-25T07:41:39.469Z"
   },
   {
    "duration": 470,
    "start_time": "2023-04-25T07:41:41.694Z"
   },
   {
    "duration": 231,
    "start_time": "2023-04-25T07:41:42.167Z"
   },
   {
    "duration": 306,
    "start_time": "2023-04-25T07:41:42.400Z"
   },
   {
    "duration": 232,
    "start_time": "2023-04-25T07:41:42.708Z"
   },
   {
    "duration": 8,
    "start_time": "2023-04-25T07:41:42.942Z"
   },
   {
    "duration": 15,
    "start_time": "2023-04-25T07:41:42.952Z"
   },
   {
    "duration": 33,
    "start_time": "2023-04-25T07:41:42.968Z"
   },
   {
    "duration": 6,
    "start_time": "2023-04-25T07:41:43.003Z"
   },
   {
    "duration": 1282,
    "start_time": "2023-04-25T07:41:43.011Z"
   },
   {
    "duration": 20,
    "start_time": "2023-04-25T07:41:44.295Z"
   },
   {
    "duration": 18,
    "start_time": "2023-04-25T07:41:44.317Z"
   },
   {
    "duration": 163,
    "start_time": "2023-04-25T07:41:44.337Z"
   },
   {
    "duration": 0,
    "start_time": "2023-04-25T07:41:44.502Z"
   },
   {
    "duration": 0,
    "start_time": "2023-04-25T07:41:44.503Z"
   },
   {
    "duration": 0,
    "start_time": "2023-04-25T07:41:44.504Z"
   },
   {
    "duration": 0,
    "start_time": "2023-04-25T07:41:44.506Z"
   },
   {
    "duration": 0,
    "start_time": "2023-04-25T07:41:44.507Z"
   },
   {
    "duration": 0,
    "start_time": "2023-04-25T07:41:44.508Z"
   },
   {
    "duration": 0,
    "start_time": "2023-04-25T07:41:44.509Z"
   },
   {
    "duration": 1019,
    "start_time": "2023-04-25T07:42:30.875Z"
   },
   {
    "duration": 8,
    "start_time": "2023-04-25T07:42:35.040Z"
   },
   {
    "duration": 1617,
    "start_time": "2023-04-25T07:43:07.812Z"
   },
   {
    "duration": 279,
    "start_time": "2023-04-25T07:43:09.431Z"
   },
   {
    "duration": 30,
    "start_time": "2023-04-25T07:43:09.712Z"
   },
   {
    "duration": 31,
    "start_time": "2023-04-25T07:43:09.744Z"
   },
   {
    "duration": 105,
    "start_time": "2023-04-25T07:43:09.777Z"
   },
   {
    "duration": 16,
    "start_time": "2023-04-25T07:43:09.885Z"
   },
   {
    "duration": 103,
    "start_time": "2023-04-25T07:43:09.903Z"
   },
   {
    "duration": 128,
    "start_time": "2023-04-25T07:43:10.009Z"
   },
   {
    "duration": 5,
    "start_time": "2023-04-25T07:43:10.139Z"
   },
   {
    "duration": 32,
    "start_time": "2023-04-25T07:43:10.147Z"
   },
   {
    "duration": 78,
    "start_time": "2023-04-25T07:43:10.181Z"
   },
   {
    "duration": 4,
    "start_time": "2023-04-25T07:43:10.260Z"
   },
   {
    "duration": 769,
    "start_time": "2023-04-25T07:43:10.267Z"
   },
   {
    "duration": 2265,
    "start_time": "2023-04-25T07:43:11.039Z"
   },
   {
    "duration": 437,
    "start_time": "2023-04-25T07:43:13.306Z"
   },
   {
    "duration": 205,
    "start_time": "2023-04-25T07:43:13.745Z"
   },
   {
    "duration": 348,
    "start_time": "2023-04-25T07:43:13.952Z"
   },
   {
    "duration": 211,
    "start_time": "2023-04-25T07:43:14.302Z"
   },
   {
    "duration": 7,
    "start_time": "2023-04-25T07:43:14.515Z"
   },
   {
    "duration": 17,
    "start_time": "2023-04-25T07:43:14.533Z"
   },
   {
    "duration": 17,
    "start_time": "2023-04-25T07:43:14.552Z"
   },
   {
    "duration": 1215,
    "start_time": "2023-04-25T07:43:14.570Z"
   },
   {
    "duration": 1212,
    "start_time": "2023-04-25T07:43:15.807Z"
   },
   {
    "duration": 1,
    "start_time": "2023-04-25T07:43:17.020Z"
   },
   {
    "duration": 0,
    "start_time": "2023-04-25T07:43:17.022Z"
   },
   {
    "duration": 0,
    "start_time": "2023-04-25T07:43:17.023Z"
   },
   {
    "duration": 0,
    "start_time": "2023-04-25T07:43:17.025Z"
   },
   {
    "duration": 0,
    "start_time": "2023-04-25T07:43:17.026Z"
   },
   {
    "duration": 0,
    "start_time": "2023-04-25T07:43:17.028Z"
   },
   {
    "duration": 0,
    "start_time": "2023-04-25T07:43:17.029Z"
   },
   {
    "duration": 0,
    "start_time": "2023-04-25T07:43:17.031Z"
   },
   {
    "duration": 0,
    "start_time": "2023-04-25T07:43:17.032Z"
   },
   {
    "duration": 22,
    "start_time": "2023-04-25T07:44:45.773Z"
   },
   {
    "duration": 7,
    "start_time": "2023-04-25T07:45:01.489Z"
   },
   {
    "duration": 1181,
    "start_time": "2023-04-25T07:45:26.954Z"
   },
   {
    "duration": 1217,
    "start_time": "2023-04-25T07:45:41.560Z"
   },
   {
    "duration": 41,
    "start_time": "2023-04-25T07:49:13.403Z"
   },
   {
    "duration": 6,
    "start_time": "2023-04-25T07:49:24.391Z"
   },
   {
    "duration": 5,
    "start_time": "2023-04-25T07:49:34.504Z"
   },
   {
    "duration": 5,
    "start_time": "2023-04-25T07:49:44.204Z"
   },
   {
    "duration": 6,
    "start_time": "2023-04-25T07:50:07.827Z"
   },
   {
    "duration": 985,
    "start_time": "2023-04-25T07:53:01.640Z"
   },
   {
    "duration": 964,
    "start_time": "2023-04-25T07:53:08.303Z"
   },
   {
    "duration": 59,
    "start_time": "2023-04-25T07:54:42.101Z"
   },
   {
    "duration": 977,
    "start_time": "2023-04-25T07:56:18.660Z"
   },
   {
    "duration": 49,
    "start_time": "2023-04-25T07:59:21.809Z"
   },
   {
    "duration": 24,
    "start_time": "2023-04-25T07:59:33.051Z"
   },
   {
    "duration": 6,
    "start_time": "2023-04-25T07:59:44.890Z"
   },
   {
    "duration": 20,
    "start_time": "2023-04-25T08:06:13.982Z"
   },
   {
    "duration": 1533,
    "start_time": "2023-04-25T08:06:20.856Z"
   },
   {
    "duration": 262,
    "start_time": "2023-04-25T08:06:22.391Z"
   },
   {
    "duration": 25,
    "start_time": "2023-04-25T08:06:22.655Z"
   },
   {
    "duration": 31,
    "start_time": "2023-04-25T08:06:22.681Z"
   },
   {
    "duration": 101,
    "start_time": "2023-04-25T08:06:22.714Z"
   },
   {
    "duration": 26,
    "start_time": "2023-04-25T08:06:22.817Z"
   },
   {
    "duration": 98,
    "start_time": "2023-04-25T08:06:22.845Z"
   },
   {
    "duration": 75,
    "start_time": "2023-04-25T08:06:22.945Z"
   },
   {
    "duration": 11,
    "start_time": "2023-04-25T08:06:23.022Z"
   },
   {
    "duration": 39,
    "start_time": "2023-04-25T08:06:23.035Z"
   },
   {
    "duration": 73,
    "start_time": "2023-04-25T08:06:23.076Z"
   },
   {
    "duration": 4,
    "start_time": "2023-04-25T08:06:23.150Z"
   },
   {
    "duration": 715,
    "start_time": "2023-04-25T08:06:23.156Z"
   },
   {
    "duration": 2206,
    "start_time": "2023-04-25T08:06:23.874Z"
   },
   {
    "duration": 435,
    "start_time": "2023-04-25T08:06:26.082Z"
   },
   {
    "duration": 233,
    "start_time": "2023-04-25T08:06:26.518Z"
   },
   {
    "duration": 342,
    "start_time": "2023-04-25T08:06:26.754Z"
   },
   {
    "duration": 207,
    "start_time": "2023-04-25T08:06:27.098Z"
   },
   {
    "duration": 7,
    "start_time": "2023-04-25T08:06:27.307Z"
   },
   {
    "duration": 20,
    "start_time": "2023-04-25T08:06:27.316Z"
   },
   {
    "duration": 16,
    "start_time": "2023-04-25T08:06:27.338Z"
   },
   {
    "duration": 156,
    "start_time": "2023-04-25T08:06:27.356Z"
   },
   {
    "duration": 0,
    "start_time": "2023-04-25T08:06:27.514Z"
   },
   {
    "duration": 0,
    "start_time": "2023-04-25T08:06:27.516Z"
   },
   {
    "duration": 0,
    "start_time": "2023-04-25T08:06:27.518Z"
   },
   {
    "duration": 0,
    "start_time": "2023-04-25T08:06:27.520Z"
   },
   {
    "duration": 0,
    "start_time": "2023-04-25T08:06:27.522Z"
   },
   {
    "duration": 0,
    "start_time": "2023-04-25T08:06:27.534Z"
   },
   {
    "duration": 0,
    "start_time": "2023-04-25T08:06:27.536Z"
   },
   {
    "duration": 0,
    "start_time": "2023-04-25T08:06:27.538Z"
   },
   {
    "duration": 0,
    "start_time": "2023-04-25T08:06:27.540Z"
   },
   {
    "duration": 18,
    "start_time": "2023-04-25T08:12:21.859Z"
   },
   {
    "duration": 23,
    "start_time": "2023-04-25T08:19:03.656Z"
   },
   {
    "duration": 1708,
    "start_time": "2023-04-25T08:22:35.189Z"
   },
   {
    "duration": 304,
    "start_time": "2023-04-25T08:22:36.901Z"
   },
   {
    "duration": 28,
    "start_time": "2023-04-25T08:22:37.207Z"
   },
   {
    "duration": 31,
    "start_time": "2023-04-25T08:22:37.237Z"
   },
   {
    "duration": 263,
    "start_time": "2023-04-25T08:22:37.271Z"
   },
   {
    "duration": 22,
    "start_time": "2023-04-25T08:22:37.537Z"
   },
   {
    "duration": 213,
    "start_time": "2023-04-25T08:22:37.562Z"
   },
   {
    "duration": 184,
    "start_time": "2023-04-25T08:22:37.777Z"
   },
   {
    "duration": 4,
    "start_time": "2023-04-25T08:22:37.963Z"
   },
   {
    "duration": 88,
    "start_time": "2023-04-25T08:22:37.969Z"
   },
   {
    "duration": 88,
    "start_time": "2023-04-25T08:22:38.059Z"
   },
   {
    "duration": 4,
    "start_time": "2023-04-25T08:22:38.148Z"
   },
   {
    "duration": 786,
    "start_time": "2023-04-25T08:22:38.154Z"
   },
   {
    "duration": 2214,
    "start_time": "2023-04-25T08:22:38.944Z"
   },
   {
    "duration": 483,
    "start_time": "2023-04-25T08:22:41.160Z"
   },
   {
    "duration": 213,
    "start_time": "2023-04-25T08:22:41.645Z"
   },
   {
    "duration": 364,
    "start_time": "2023-04-25T08:22:41.860Z"
   },
   {
    "duration": 239,
    "start_time": "2023-04-25T08:22:42.227Z"
   },
   {
    "duration": 8,
    "start_time": "2023-04-25T08:22:42.469Z"
   },
   {
    "duration": 3709,
    "start_time": "2023-04-25T08:22:42.479Z"
   },
   {
    "duration": 0,
    "start_time": "2023-04-25T08:22:46.190Z"
   },
   {
    "duration": 0,
    "start_time": "2023-04-25T08:22:46.193Z"
   },
   {
    "duration": 0,
    "start_time": "2023-04-25T08:22:46.195Z"
   },
   {
    "duration": 0,
    "start_time": "2023-04-25T08:22:46.197Z"
   },
   {
    "duration": 0,
    "start_time": "2023-04-25T08:22:46.199Z"
   },
   {
    "duration": 0,
    "start_time": "2023-04-25T08:22:46.201Z"
   },
   {
    "duration": 0,
    "start_time": "2023-04-25T08:22:46.202Z"
   },
   {
    "duration": 0,
    "start_time": "2023-04-25T08:22:46.204Z"
   },
   {
    "duration": 0,
    "start_time": "2023-04-25T08:22:46.205Z"
   },
   {
    "duration": 1865,
    "start_time": "2023-04-25T08:29:28.217Z"
   },
   {
    "duration": 249,
    "start_time": "2023-04-25T08:29:30.084Z"
   },
   {
    "duration": 25,
    "start_time": "2023-04-25T08:29:30.334Z"
   },
   {
    "duration": 60,
    "start_time": "2023-04-25T08:29:30.361Z"
   },
   {
    "duration": 91,
    "start_time": "2023-04-25T08:29:30.424Z"
   },
   {
    "duration": 19,
    "start_time": "2023-04-25T08:29:30.516Z"
   },
   {
    "duration": 114,
    "start_time": "2023-04-25T08:29:30.537Z"
   },
   {
    "duration": 109,
    "start_time": "2023-04-25T08:29:30.653Z"
   },
   {
    "duration": 5,
    "start_time": "2023-04-25T08:29:30.764Z"
   },
   {
    "duration": 49,
    "start_time": "2023-04-25T08:29:30.771Z"
   },
   {
    "duration": 40,
    "start_time": "2023-04-25T08:29:30.821Z"
   },
   {
    "duration": 7,
    "start_time": "2023-04-25T08:29:30.863Z"
   },
   {
    "duration": 374,
    "start_time": "2023-04-25T08:29:30.872Z"
   },
   {
    "duration": 2692,
    "start_time": "2023-04-25T08:29:31.249Z"
   },
   {
    "duration": 471,
    "start_time": "2023-04-25T08:29:33.943Z"
   },
   {
    "duration": 208,
    "start_time": "2023-04-25T08:29:34.416Z"
   },
   {
    "duration": 326,
    "start_time": "2023-04-25T08:29:34.634Z"
   },
   {
    "duration": 240,
    "start_time": "2023-04-25T08:29:34.963Z"
   },
   {
    "duration": 8,
    "start_time": "2023-04-25T08:29:35.205Z"
   },
   {
    "duration": 21,
    "start_time": "2023-04-25T08:29:35.215Z"
   },
   {
    "duration": 13,
    "start_time": "2023-04-25T08:29:35.238Z"
   },
   {
    "duration": 168,
    "start_time": "2023-04-25T08:29:35.254Z"
   },
   {
    "duration": 0,
    "start_time": "2023-04-25T08:29:35.423Z"
   },
   {
    "duration": 0,
    "start_time": "2023-04-25T08:29:35.425Z"
   },
   {
    "duration": 0,
    "start_time": "2023-04-25T08:29:35.432Z"
   },
   {
    "duration": 0,
    "start_time": "2023-04-25T08:29:35.434Z"
   },
   {
    "duration": 0,
    "start_time": "2023-04-25T08:29:35.435Z"
   },
   {
    "duration": 0,
    "start_time": "2023-04-25T08:29:35.436Z"
   },
   {
    "duration": 24,
    "start_time": "2023-04-25T08:30:01.440Z"
   },
   {
    "duration": 2479,
    "start_time": "2023-04-26T06:37:49.026Z"
   },
   {
    "duration": 405,
    "start_time": "2023-04-26T06:37:52.599Z"
   },
   {
    "duration": 23,
    "start_time": "2023-04-26T06:37:53.786Z"
   },
   {
    "duration": 31,
    "start_time": "2023-04-26T06:37:54.427Z"
   },
   {
    "duration": 81,
    "start_time": "2023-04-26T06:37:55.423Z"
   },
   {
    "duration": 17,
    "start_time": "2023-04-26T06:37:55.665Z"
   },
   {
    "duration": 83,
    "start_time": "2023-04-26T06:37:56.276Z"
   },
   {
    "duration": 72,
    "start_time": "2023-04-26T06:37:56.856Z"
   },
   {
    "duration": 5,
    "start_time": "2023-04-26T06:37:57.481Z"
   },
   {
    "duration": 26,
    "start_time": "2023-04-26T06:37:57.821Z"
   },
   {
    "duration": 25,
    "start_time": "2023-04-26T06:37:58.506Z"
   },
   {
    "duration": 3,
    "start_time": "2023-04-26T06:37:58.869Z"
   },
   {
    "duration": 292,
    "start_time": "2023-04-26T06:38:02.763Z"
   },
   {
    "duration": 1505,
    "start_time": "2023-04-26T06:38:03.140Z"
   },
   {
    "duration": 405,
    "start_time": "2023-04-26T06:38:04.647Z"
   },
   {
    "duration": 292,
    "start_time": "2023-04-26T06:38:05.053Z"
   },
   {
    "duration": 187,
    "start_time": "2023-04-26T06:38:05.347Z"
   },
   {
    "duration": 190,
    "start_time": "2023-04-26T06:38:05.536Z"
   },
   {
    "duration": 7,
    "start_time": "2023-04-26T06:38:29.143Z"
   },
   {
    "duration": 6,
    "start_time": "2023-04-26T06:38:38.751Z"
   },
   {
    "duration": 143,
    "start_time": "2023-04-26T06:38:41.151Z"
   },
   {
    "duration": 15,
    "start_time": "2023-04-26T06:39:05.840Z"
   },
   {
    "duration": 26,
    "start_time": "2023-04-26T06:39:10.286Z"
   },
   {
    "duration": 32197,
    "start_time": "2023-04-26T06:39:34.777Z"
   },
   {
    "duration": 46,
    "start_time": "2023-04-26T06:40:20.061Z"
   },
   {
    "duration": 111402,
    "start_time": "2023-04-26T06:40:41.655Z"
   },
   {
    "duration": 62,
    "start_time": "2023-04-26T06:42:33.059Z"
   },
   {
    "duration": 15,
    "start_time": "2023-04-26T06:55:47.620Z"
   },
   {
    "duration": 19,
    "start_time": "2023-04-26T06:57:34.005Z"
   },
   {
    "duration": 36,
    "start_time": "2023-04-26T06:57:53.761Z"
   },
   {
    "duration": 4,
    "start_time": "2023-04-26T07:05:38.321Z"
   },
   {
    "duration": 527,
    "start_time": "2023-04-26T07:09:27.468Z"
   },
   {
    "duration": 746,
    "start_time": "2023-04-26T07:09:51.241Z"
   },
   {
    "duration": 738,
    "start_time": "2023-04-26T07:46:35.388Z"
   },
   {
    "duration": 25,
    "start_time": "2023-04-26T07:55:07.115Z"
   },
   {
    "duration": 24407,
    "start_time": "2023-04-26T07:56:09.049Z"
   },
   {
    "duration": 32111,
    "start_time": "2023-04-26T07:56:40.249Z"
   },
   {
    "duration": 45,
    "start_time": "2023-04-26T08:00:10.239Z"
   },
   {
    "duration": 24,
    "start_time": "2023-04-26T08:00:29.205Z"
   },
   {
    "duration": 1583,
    "start_time": "2023-04-26T17:41:47.343Z"
   },
   {
    "duration": 1298,
    "start_time": "2023-04-26T17:41:48.928Z"
   },
   {
    "duration": 22,
    "start_time": "2023-04-26T17:41:50.228Z"
   },
   {
    "duration": 25,
    "start_time": "2023-04-26T17:41:50.251Z"
   },
   {
    "duration": 78,
    "start_time": "2023-04-26T17:41:50.278Z"
   },
   {
    "duration": 13,
    "start_time": "2023-04-26T17:41:50.358Z"
   },
   {
    "duration": 91,
    "start_time": "2023-04-26T17:41:50.373Z"
   },
   {
    "duration": 74,
    "start_time": "2023-04-26T17:41:50.466Z"
   },
   {
    "duration": 4,
    "start_time": "2023-04-26T17:41:50.541Z"
   },
   {
    "duration": 22,
    "start_time": "2023-04-26T17:41:50.547Z"
   },
   {
    "duration": 38,
    "start_time": "2023-04-26T17:41:50.570Z"
   },
   {
    "duration": 10,
    "start_time": "2023-04-26T17:41:50.612Z"
   },
   {
    "duration": 321,
    "start_time": "2023-04-26T17:41:50.625Z"
   },
   {
    "duration": 2776,
    "start_time": "2023-04-26T17:41:50.949Z"
   },
   {
    "duration": 445,
    "start_time": "2023-04-26T17:41:53.726Z"
   },
   {
    "duration": 232,
    "start_time": "2023-04-26T17:41:54.173Z"
   },
   {
    "duration": 294,
    "start_time": "2023-04-26T17:41:54.415Z"
   },
   {
    "duration": 192,
    "start_time": "2023-04-26T17:41:54.711Z"
   },
   {
    "duration": 248,
    "start_time": "2023-04-26T17:41:54.905Z"
   },
   {
    "duration": 0,
    "start_time": "2023-04-26T17:41:55.155Z"
   },
   {
    "duration": 0,
    "start_time": "2023-04-26T17:41:55.157Z"
   },
   {
    "duration": 0,
    "start_time": "2023-04-26T17:41:55.159Z"
   },
   {
    "duration": 0,
    "start_time": "2023-04-26T17:41:55.160Z"
   },
   {
    "duration": 0,
    "start_time": "2023-04-26T17:41:55.161Z"
   },
   {
    "duration": 0,
    "start_time": "2023-04-26T17:41:55.163Z"
   },
   {
    "duration": 708,
    "start_time": "2023-04-26T17:42:08.024Z"
   },
   {
    "duration": 716,
    "start_time": "2023-04-26T17:46:52.723Z"
   },
   {
    "duration": 768,
    "start_time": "2023-04-26T17:52:29.474Z"
   },
   {
    "duration": 1469,
    "start_time": "2023-04-26T17:53:05.297Z"
   },
   {
    "duration": 242,
    "start_time": "2023-04-26T17:53:06.768Z"
   },
   {
    "duration": 23,
    "start_time": "2023-04-26T17:53:07.018Z"
   },
   {
    "duration": 23,
    "start_time": "2023-04-26T17:53:07.042Z"
   },
   {
    "duration": 79,
    "start_time": "2023-04-26T17:53:07.067Z"
   },
   {
    "duration": 16,
    "start_time": "2023-04-26T17:53:07.147Z"
   },
   {
    "duration": 111,
    "start_time": "2023-04-26T17:53:07.164Z"
   },
   {
    "duration": 74,
    "start_time": "2023-04-26T17:53:07.276Z"
   },
   {
    "duration": 4,
    "start_time": "2023-04-26T17:53:07.352Z"
   },
   {
    "duration": 22,
    "start_time": "2023-04-26T17:53:07.357Z"
   },
   {
    "duration": 44,
    "start_time": "2023-04-26T17:53:07.381Z"
   },
   {
    "duration": 5,
    "start_time": "2023-04-26T17:53:07.429Z"
   },
   {
    "duration": 314,
    "start_time": "2023-04-26T17:53:07.435Z"
   },
   {
    "duration": 1540,
    "start_time": "2023-04-26T17:53:07.751Z"
   },
   {
    "duration": 405,
    "start_time": "2023-04-26T17:53:09.292Z"
   },
   {
    "duration": 165,
    "start_time": "2023-04-26T17:53:09.701Z"
   },
   {
    "duration": 319,
    "start_time": "2023-04-26T17:53:09.867Z"
   },
   {
    "duration": 219,
    "start_time": "2023-04-26T17:53:10.187Z"
   },
   {
    "duration": 730,
    "start_time": "2023-04-26T17:53:10.408Z"
   },
   {
    "duration": 13,
    "start_time": "2023-04-26T17:53:11.139Z"
   },
   {
    "duration": 23,
    "start_time": "2023-04-26T17:53:11.153Z"
   },
   {
    "duration": 29895,
    "start_time": "2023-04-26T17:53:11.177Z"
   },
   {
    "duration": 107243,
    "start_time": "2023-04-26T17:53:41.073Z"
   },
   {
    "duration": 53,
    "start_time": "2023-04-26T17:55:28.317Z"
   },
   {
    "duration": 3,
    "start_time": "2023-04-26T17:55:28.372Z"
   },
   {
    "duration": 5,
    "start_time": "2023-04-26T18:12:21.923Z"
   },
   {
    "duration": 1803,
    "start_time": "2023-04-26T18:15:05.141Z"
   },
   {
    "duration": 500,
    "start_time": "2023-04-26T18:15:06.946Z"
   },
   {
    "duration": 66,
    "start_time": "2023-04-26T18:15:07.448Z"
   },
   {
    "duration": 82,
    "start_time": "2023-04-26T18:15:07.516Z"
   },
   {
    "duration": 144,
    "start_time": "2023-04-26T18:15:07.601Z"
   },
   {
    "duration": 27,
    "start_time": "2023-04-26T18:15:07.796Z"
   },
   {
    "duration": 210,
    "start_time": "2023-04-26T18:15:07.825Z"
   },
   {
    "duration": 186,
    "start_time": "2023-04-26T18:15:08.038Z"
   },
   {
    "duration": 6,
    "start_time": "2023-04-26T18:15:08.226Z"
   },
   {
    "duration": 81,
    "start_time": "2023-04-26T18:15:08.234Z"
   },
   {
    "duration": 89,
    "start_time": "2023-04-26T18:15:08.317Z"
   },
   {
    "duration": 6,
    "start_time": "2023-04-26T18:15:08.408Z"
   },
   {
    "duration": 479,
    "start_time": "2023-04-26T18:15:08.416Z"
   },
   {
    "duration": 1649,
    "start_time": "2023-04-26T18:15:08.898Z"
   },
   {
    "duration": 421,
    "start_time": "2023-04-26T18:15:10.549Z"
   },
   {
    "duration": 191,
    "start_time": "2023-04-26T18:15:10.971Z"
   },
   {
    "duration": 329,
    "start_time": "2023-04-26T18:15:11.164Z"
   },
   {
    "duration": 195,
    "start_time": "2023-04-26T18:15:11.498Z"
   },
   {
    "duration": 770,
    "start_time": "2023-04-26T18:15:11.696Z"
   },
   {
    "duration": 17,
    "start_time": "2023-04-26T18:15:12.467Z"
   },
   {
    "duration": 47,
    "start_time": "2023-04-26T18:15:12.494Z"
   },
   {
    "duration": 5,
    "start_time": "2023-04-26T18:15:12.543Z"
   },
   {
    "duration": 112157,
    "start_time": "2023-04-26T18:15:12.549Z"
   },
   {
    "duration": 65,
    "start_time": "2023-04-26T18:17:04.709Z"
   },
   {
    "duration": 2,
    "start_time": "2023-04-26T18:17:04.776Z"
   },
   {
    "duration": 27,
    "start_time": "2023-04-26T18:17:04.779Z"
   },
   {
    "duration": 162,
    "start_time": "2023-04-26T18:18:12.661Z"
   },
   {
    "duration": 1875,
    "start_time": "2023-04-26T18:28:39.657Z"
   },
   {
    "duration": 46,
    "start_time": "2023-04-26T18:28:57.120Z"
   },
   {
    "duration": 67,
    "start_time": "2023-04-26T18:29:31.655Z"
   },
   {
    "duration": 30,
    "start_time": "2023-04-26T18:32:33.287Z"
   },
   {
    "duration": 1480,
    "start_time": "2023-04-26T18:33:38.623Z"
   },
   {
    "duration": 1514,
    "start_time": "2023-04-26T18:35:32.023Z"
   },
   {
    "duration": 54,
    "start_time": "2023-04-26T18:39:22.389Z"
   },
   {
    "duration": 53,
    "start_time": "2023-04-26T18:39:54.627Z"
   },
   {
    "duration": 57,
    "start_time": "2023-04-26T18:40:05.777Z"
   },
   {
    "duration": 60,
    "start_time": "2023-04-26T18:40:17.655Z"
   },
   {
    "duration": 29,
    "start_time": "2023-04-26T18:40:29.285Z"
   },
   {
    "duration": 1666,
    "start_time": "2023-04-26T18:40:47.724Z"
   },
   {
    "duration": 4,
    "start_time": "2023-04-26T18:41:40.151Z"
   },
   {
    "duration": 1755,
    "start_time": "2023-04-27T07:29:59.060Z"
   },
   {
    "duration": 924,
    "start_time": "2023-04-27T07:30:00.817Z"
   },
   {
    "duration": 28,
    "start_time": "2023-04-27T07:30:01.743Z"
   },
   {
    "duration": 66,
    "start_time": "2023-04-27T07:30:01.774Z"
   },
   {
    "duration": 104,
    "start_time": "2023-04-27T07:30:01.841Z"
   },
   {
    "duration": 24,
    "start_time": "2023-04-27T07:30:01.946Z"
   },
   {
    "duration": 113,
    "start_time": "2023-04-27T07:30:01.972Z"
   },
   {
    "duration": 69,
    "start_time": "2023-04-27T07:30:02.087Z"
   },
   {
    "duration": 5,
    "start_time": "2023-04-27T07:30:02.161Z"
   },
   {
    "duration": 78,
    "start_time": "2023-04-27T07:30:02.168Z"
   },
   {
    "duration": 45,
    "start_time": "2023-04-27T07:30:02.248Z"
   },
   {
    "duration": 8,
    "start_time": "2023-04-27T07:30:02.296Z"
   },
   {
    "duration": 356,
    "start_time": "2023-04-27T07:30:02.305Z"
   },
   {
    "duration": 1561,
    "start_time": "2023-04-27T07:30:02.664Z"
   },
   {
    "duration": 412,
    "start_time": "2023-04-27T07:30:04.227Z"
   },
   {
    "duration": 310,
    "start_time": "2023-04-27T07:30:04.641Z"
   },
   {
    "duration": 182,
    "start_time": "2023-04-27T07:30:04.953Z"
   },
   {
    "duration": 198,
    "start_time": "2023-04-27T07:30:05.137Z"
   },
   {
    "duration": 700,
    "start_time": "2023-04-27T07:30:05.337Z"
   },
   {
    "duration": 26,
    "start_time": "2023-04-27T07:30:06.039Z"
   },
   {
    "duration": 5,
    "start_time": "2023-04-27T07:30:06.067Z"
   },
   {
    "duration": 111259,
    "start_time": "2023-04-27T07:30:06.073Z"
   },
   {
    "duration": 63,
    "start_time": "2023-04-27T07:31:57.334Z"
   },
   {
    "duration": 3,
    "start_time": "2023-04-27T07:31:57.398Z"
   },
   {
    "duration": 5,
    "start_time": "2023-04-27T07:31:57.403Z"
   },
   {
    "duration": 1405,
    "start_time": "2023-04-27T07:31:57.410Z"
   },
   {
    "duration": 49,
    "start_time": "2023-04-27T07:35:10.326Z"
   },
   {
    "duration": 1422,
    "start_time": "2023-04-27T07:37:15.012Z"
   },
   {
    "duration": 226,
    "start_time": "2023-04-27T07:37:16.436Z"
   },
   {
    "duration": 23,
    "start_time": "2023-04-27T07:37:16.664Z"
   },
   {
    "duration": 33,
    "start_time": "2023-04-27T07:37:16.688Z"
   },
   {
    "duration": 43,
    "start_time": "2023-04-27T07:37:16.723Z"
   },
   {
    "duration": 129,
    "start_time": "2023-04-27T07:37:16.767Z"
   },
   {
    "duration": 66,
    "start_time": "2023-04-27T07:37:16.898Z"
   },
   {
    "duration": 129,
    "start_time": "2023-04-27T07:37:16.966Z"
   },
   {
    "duration": 165,
    "start_time": "2023-04-27T07:37:17.097Z"
   },
   {
    "duration": 4,
    "start_time": "2023-04-27T07:37:17.263Z"
   },
   {
    "duration": 42,
    "start_time": "2023-04-27T07:37:17.269Z"
   },
   {
    "duration": 69,
    "start_time": "2023-04-27T07:37:17.312Z"
   },
   {
    "duration": 3,
    "start_time": "2023-04-27T07:37:17.382Z"
   },
   {
    "duration": 696,
    "start_time": "2023-04-27T07:37:17.387Z"
   },
   {
    "duration": 1895,
    "start_time": "2023-04-27T07:37:18.085Z"
   },
   {
    "duration": 400,
    "start_time": "2023-04-27T07:37:19.983Z"
   },
   {
    "duration": 181,
    "start_time": "2023-04-27T07:37:20.385Z"
   },
   {
    "duration": 286,
    "start_time": "2023-04-27T07:37:20.568Z"
   },
   {
    "duration": 197,
    "start_time": "2023-04-27T07:37:20.858Z"
   },
   {
    "duration": 705,
    "start_time": "2023-04-27T07:37:21.058Z"
   },
   {
    "duration": 29,
    "start_time": "2023-04-27T07:37:21.765Z"
   },
   {
    "duration": 31,
    "start_time": "2023-04-27T07:37:21.796Z"
   },
   {
    "duration": 67911,
    "start_time": "2023-04-27T07:37:21.829Z"
   },
   {
    "duration": 0,
    "start_time": "2023-04-27T07:38:29.742Z"
   },
   {
    "duration": 0,
    "start_time": "2023-04-27T07:38:29.744Z"
   },
   {
    "duration": 0,
    "start_time": "2023-04-27T07:38:29.744Z"
   },
   {
    "duration": 0,
    "start_time": "2023-04-27T07:38:29.746Z"
   },
   {
    "duration": 1530,
    "start_time": "2023-04-27T07:40:41.537Z"
   },
   {
    "duration": 229,
    "start_time": "2023-04-27T07:40:43.069Z"
   },
   {
    "duration": 33,
    "start_time": "2023-04-27T07:40:43.300Z"
   },
   {
    "duration": 47,
    "start_time": "2023-04-27T07:40:43.335Z"
   },
   {
    "duration": 19,
    "start_time": "2023-04-27T07:40:43.384Z"
   },
   {
    "duration": 92,
    "start_time": "2023-04-27T07:40:43.405Z"
   },
   {
    "duration": 17,
    "start_time": "2023-04-27T07:40:43.499Z"
   },
   {
    "duration": 98,
    "start_time": "2023-04-27T07:40:43.517Z"
   },
   {
    "duration": 72,
    "start_time": "2023-04-27T07:40:43.617Z"
   },
   {
    "duration": 4,
    "start_time": "2023-04-27T07:40:43.690Z"
   },
   {
    "duration": 33,
    "start_time": "2023-04-27T07:40:43.696Z"
   },
   {
    "duration": 47,
    "start_time": "2023-04-27T07:40:43.730Z"
   },
   {
    "duration": 4,
    "start_time": "2023-04-27T07:40:43.779Z"
   },
   {
    "duration": 332,
    "start_time": "2023-04-27T07:40:43.786Z"
   },
   {
    "duration": 1568,
    "start_time": "2023-04-27T07:40:44.120Z"
   },
   {
    "duration": 412,
    "start_time": "2023-04-27T07:40:45.690Z"
   },
   {
    "duration": 198,
    "start_time": "2023-04-27T07:40:46.104Z"
   },
   {
    "duration": 295,
    "start_time": "2023-04-27T07:40:46.304Z"
   },
   {
    "duration": 194,
    "start_time": "2023-04-27T07:40:46.601Z"
   },
   {
    "duration": 717,
    "start_time": "2023-04-27T07:40:46.797Z"
   },
   {
    "duration": 18,
    "start_time": "2023-04-27T07:40:47.516Z"
   },
   {
    "duration": 6,
    "start_time": "2023-04-27T07:40:47.536Z"
   },
   {
    "duration": 111395,
    "start_time": "2023-04-27T07:40:47.558Z"
   },
   {
    "duration": 56,
    "start_time": "2023-04-27T07:42:38.955Z"
   },
   {
    "duration": 3,
    "start_time": "2023-04-27T07:42:39.013Z"
   },
   {
    "duration": 210,
    "start_time": "2023-04-27T07:42:39.018Z"
   },
   {
    "duration": 5,
    "start_time": "2023-04-27T07:43:06.030Z"
   },
   {
    "duration": 9,
    "start_time": "2023-04-27T07:43:10.811Z"
   },
   {
    "duration": 4,
    "start_time": "2023-04-27T07:43:17.507Z"
   },
   {
    "duration": 124,
    "start_time": "2023-04-27T07:43:40.409Z"
   },
   {
    "duration": 68,
    "start_time": "2023-04-27T07:46:01.230Z"
   },
   {
    "duration": 14,
    "start_time": "2023-04-27T07:46:05.969Z"
   },
   {
    "duration": 121,
    "start_time": "2023-04-27T07:49:38.950Z"
   },
   {
    "duration": 1579,
    "start_time": "2023-04-27T07:49:58.263Z"
   },
   {
    "duration": 242,
    "start_time": "2023-04-27T07:49:59.846Z"
   },
   {
    "duration": 25,
    "start_time": "2023-04-27T07:50:00.090Z"
   },
   {
    "duration": 81,
    "start_time": "2023-04-27T07:50:00.116Z"
   },
   {
    "duration": 37,
    "start_time": "2023-04-27T07:50:00.199Z"
   },
   {
    "duration": 114,
    "start_time": "2023-04-27T07:50:00.238Z"
   },
   {
    "duration": 16,
    "start_time": "2023-04-27T07:50:00.353Z"
   },
   {
    "duration": 177,
    "start_time": "2023-04-27T07:50:00.371Z"
   },
   {
    "duration": 82,
    "start_time": "2023-04-27T07:50:00.550Z"
   },
   {
    "duration": 105,
    "start_time": "2023-04-27T07:50:00.634Z"
   },
   {
    "duration": 252,
    "start_time": "2023-04-27T07:50:00.741Z"
   },
   {
    "duration": 45,
    "start_time": "2023-04-27T07:50:00.996Z"
   },
   {
    "duration": 18,
    "start_time": "2023-04-27T07:50:01.043Z"
   },
   {
    "duration": 366,
    "start_time": "2023-04-27T07:50:01.064Z"
   },
   {
    "duration": 1684,
    "start_time": "2023-04-27T07:50:01.432Z"
   },
   {
    "duration": 459,
    "start_time": "2023-04-27T07:50:03.118Z"
   },
   {
    "duration": 199,
    "start_time": "2023-04-27T07:50:03.579Z"
   },
   {
    "duration": 292,
    "start_time": "2023-04-27T07:50:03.781Z"
   },
   {
    "duration": 195,
    "start_time": "2023-04-27T07:50:04.075Z"
   },
   {
    "duration": 745,
    "start_time": "2023-04-27T07:50:04.271Z"
   },
   {
    "duration": 18,
    "start_time": "2023-04-27T07:50:05.018Z"
   },
   {
    "duration": 184,
    "start_time": "2023-04-27T07:50:05.038Z"
   },
   {
    "duration": 115205,
    "start_time": "2023-04-27T07:50:05.224Z"
   },
   {
    "duration": 66,
    "start_time": "2023-04-27T07:52:00.430Z"
   },
   {
    "duration": 3,
    "start_time": "2023-04-27T07:52:00.499Z"
   },
   {
    "duration": 284,
    "start_time": "2023-04-27T07:52:00.504Z"
   },
   {
    "duration": 111,
    "start_time": "2023-04-27T07:52:11.622Z"
   },
   {
    "duration": 175,
    "start_time": "2023-04-27T07:52:29.248Z"
   },
   {
    "duration": 163,
    "start_time": "2023-04-27T07:52:48.039Z"
   },
   {
    "duration": 124,
    "start_time": "2023-04-27T07:53:01.637Z"
   },
   {
    "duration": 115,
    "start_time": "2023-04-27T07:54:19.396Z"
   },
   {
    "duration": 121,
    "start_time": "2023-04-27T07:54:28.402Z"
   },
   {
    "duration": 122,
    "start_time": "2023-04-27T07:54:33.794Z"
   },
   {
    "duration": 128,
    "start_time": "2023-04-27T07:56:38.171Z"
   },
   {
    "duration": 4,
    "start_time": "2023-04-27T07:59:02.907Z"
   },
   {
    "duration": 4,
    "start_time": "2023-04-27T07:59:52.477Z"
   },
   {
    "duration": 5,
    "start_time": "2023-04-27T07:59:59.759Z"
   },
   {
    "duration": 18,
    "start_time": "2023-04-27T08:00:23.429Z"
   },
   {
    "duration": 5,
    "start_time": "2023-04-27T08:00:48.231Z"
   },
   {
    "duration": 19,
    "start_time": "2023-04-27T08:01:32.853Z"
   },
   {
    "duration": 4,
    "start_time": "2023-04-27T08:03:08.213Z"
   },
   {
    "duration": 16,
    "start_time": "2023-04-27T08:03:19.629Z"
   },
   {
    "duration": 1234,
    "start_time": "2023-04-27T08:05:14.899Z"
   },
   {
    "duration": 4,
    "start_time": "2023-04-27T08:06:39.870Z"
   },
   {
    "duration": 3,
    "start_time": "2023-04-27T08:07:03.251Z"
   },
   {
    "duration": 19,
    "start_time": "2023-04-27T08:07:13.027Z"
   },
   {
    "duration": 640,
    "start_time": "2023-04-27T08:11:19.914Z"
   },
   {
    "duration": 1566,
    "start_time": "2023-04-27T08:12:08.843Z"
   },
   {
    "duration": 226,
    "start_time": "2023-04-27T08:12:10.412Z"
   },
   {
    "duration": 25,
    "start_time": "2023-04-27T08:12:10.639Z"
   },
   {
    "duration": 32,
    "start_time": "2023-04-27T08:12:10.666Z"
   },
   {
    "duration": 22,
    "start_time": "2023-04-27T08:12:10.702Z"
   },
   {
    "duration": 108,
    "start_time": "2023-04-27T08:12:10.727Z"
   },
   {
    "duration": 23,
    "start_time": "2023-04-27T08:12:10.837Z"
   },
   {
    "duration": 82,
    "start_time": "2023-04-27T08:12:10.862Z"
   },
   {
    "duration": 69,
    "start_time": "2023-04-27T08:12:10.959Z"
   },
   {
    "duration": 4,
    "start_time": "2023-04-27T08:12:11.030Z"
   },
   {
    "duration": 45,
    "start_time": "2023-04-27T08:12:11.035Z"
   },
   {
    "duration": 24,
    "start_time": "2023-04-27T08:12:11.082Z"
   },
   {
    "duration": 3,
    "start_time": "2023-04-27T08:12:11.108Z"
   },
   {
    "duration": 20,
    "start_time": "2023-04-27T08:12:11.115Z"
   },
   {
    "duration": 23,
    "start_time": "2023-04-27T08:12:11.137Z"
   },
   {
    "duration": 328,
    "start_time": "2023-04-27T08:12:11.162Z"
   },
   {
    "duration": 1643,
    "start_time": "2023-04-27T08:12:11.493Z"
   },
   {
    "duration": 416,
    "start_time": "2023-04-27T08:12:13.138Z"
   },
   {
    "duration": 183,
    "start_time": "2023-04-27T08:12:13.559Z"
   },
   {
    "duration": 307,
    "start_time": "2023-04-27T08:12:13.744Z"
   },
   {
    "duration": 201,
    "start_time": "2023-04-27T08:12:14.053Z"
   },
   {
    "duration": 754,
    "start_time": "2023-04-27T08:12:14.256Z"
   },
   {
    "duration": 21,
    "start_time": "2023-04-27T08:12:15.011Z"
   },
   {
    "duration": 8,
    "start_time": "2023-04-27T08:12:15.034Z"
   },
   {
    "duration": 112232,
    "start_time": "2023-04-27T08:12:15.058Z"
   },
   {
    "duration": 56,
    "start_time": "2023-04-27T08:14:07.292Z"
   },
   {
    "duration": 678,
    "start_time": "2023-04-27T08:14:07.349Z"
   },
   {
    "duration": 180,
    "start_time": "2023-04-27T08:31:55.636Z"
   },
   {
    "duration": 3701,
    "start_time": "2023-04-27T08:32:17.815Z"
   },
   {
    "duration": 2620,
    "start_time": "2023-04-27T08:33:07.458Z"
   },
   {
    "duration": 132,
    "start_time": "2023-04-27T08:35:49.240Z"
   },
   {
    "duration": 225,
    "start_time": "2023-04-27T08:35:49.828Z"
   },
   {
    "duration": 183,
    "start_time": "2023-04-27T08:35:50.613Z"
   },
   {
    "duration": 248,
    "start_time": "2023-04-27T08:35:51.344Z"
   },
   {
    "duration": 373,
    "start_time": "2023-04-27T08:35:54.238Z"
   },
   {
    "duration": 2684,
    "start_time": "2023-04-27T08:36:39.993Z"
   },
   {
    "duration": 2761,
    "start_time": "2023-04-27T08:36:51.050Z"
   },
   {
    "duration": 281,
    "start_time": "2023-04-27T08:39:20.566Z"
   },
   {
    "duration": 372,
    "start_time": "2023-04-27T08:39:28.898Z"
   },
   {
    "duration": 288,
    "start_time": "2023-04-27T08:39:35.567Z"
   },
   {
    "duration": 259,
    "start_time": "2023-04-27T08:39:51.818Z"
   },
   {
    "duration": 257,
    "start_time": "2023-04-27T08:40:17.074Z"
   },
   {
    "duration": 272,
    "start_time": "2023-04-27T08:40:35.191Z"
   },
   {
    "duration": 253,
    "start_time": "2023-04-27T08:40:40.924Z"
   },
   {
    "duration": 275,
    "start_time": "2023-04-27T08:40:44.693Z"
   },
   {
    "duration": 261,
    "start_time": "2023-04-27T08:40:51.996Z"
   },
   {
    "duration": 274,
    "start_time": "2023-04-27T08:40:56.507Z"
   },
   {
    "duration": 278,
    "start_time": "2023-04-27T08:41:05.460Z"
   },
   {
    "duration": 317,
    "start_time": "2023-04-27T08:42:03.006Z"
   },
   {
    "duration": 382,
    "start_time": "2023-04-27T08:42:14.156Z"
   },
   {
    "duration": 76,
    "start_time": "2023-04-27T13:22:56.003Z"
   },
   {
    "duration": 2071,
    "start_time": "2023-04-27T13:23:00.956Z"
   },
   {
    "duration": 670,
    "start_time": "2023-04-27T13:23:03.030Z"
   },
   {
    "duration": 1750,
    "start_time": "2023-04-27T13:23:11.907Z"
   },
   {
    "duration": 304,
    "start_time": "2023-04-27T13:23:13.660Z"
   },
   {
    "duration": 27,
    "start_time": "2023-04-27T13:23:13.966Z"
   },
   {
    "duration": 62,
    "start_time": "2023-04-27T13:23:13.996Z"
   },
   {
    "duration": 30,
    "start_time": "2023-04-27T13:23:14.062Z"
   },
   {
    "duration": 114,
    "start_time": "2023-04-27T13:23:14.095Z"
   },
   {
    "duration": 19,
    "start_time": "2023-04-27T13:23:14.210Z"
   },
   {
    "duration": 100,
    "start_time": "2023-04-27T13:23:14.242Z"
   },
   {
    "duration": 81,
    "start_time": "2023-04-27T13:23:14.344Z"
   },
   {
    "duration": 13,
    "start_time": "2023-04-27T13:23:14.428Z"
   },
   {
    "duration": 36,
    "start_time": "2023-04-27T13:23:14.443Z"
   },
   {
    "duration": 40,
    "start_time": "2023-04-27T13:23:14.481Z"
   },
   {
    "duration": 5,
    "start_time": "2023-04-27T13:23:14.523Z"
   },
   {
    "duration": 28,
    "start_time": "2023-04-27T13:23:14.540Z"
   },
   {
    "duration": 4,
    "start_time": "2023-04-27T13:23:14.570Z"
   },
   {
    "duration": 375,
    "start_time": "2023-04-27T13:23:14.576Z"
   },
   {
    "duration": 3029,
    "start_time": "2023-04-27T13:23:14.954Z"
   },
   {
    "duration": 574,
    "start_time": "2023-04-27T13:23:17.985Z"
   },
   {
    "duration": 213,
    "start_time": "2023-04-27T13:23:18.561Z"
   },
   {
    "duration": 358,
    "start_time": "2023-04-27T13:23:18.776Z"
   },
   {
    "duration": 243,
    "start_time": "2023-04-27T13:23:19.142Z"
   },
   {
    "duration": 844,
    "start_time": "2023-04-27T13:23:19.388Z"
   },
   {
    "duration": 23,
    "start_time": "2023-04-27T13:23:20.241Z"
   },
   {
    "duration": 6,
    "start_time": "2023-04-27T13:23:20.267Z"
   },
   {
    "duration": 118210,
    "start_time": "2023-04-27T13:23:20.275Z"
   },
   {
    "duration": 77,
    "start_time": "2023-04-27T13:25:18.488Z"
   },
   {
    "duration": 774,
    "start_time": "2023-04-27T13:25:18.567Z"
   },
   {
    "duration": 2820,
    "start_time": "2023-04-27T13:25:19.343Z"
   },
   {
    "duration": 148,
    "start_time": "2023-04-27T13:25:22.166Z"
   },
   {
    "duration": 212,
    "start_time": "2023-04-27T13:25:22.316Z"
   },
   {
    "duration": 214,
    "start_time": "2023-04-27T13:25:22.530Z"
   },
   {
    "duration": 457,
    "start_time": "2023-04-27T13:25:22.747Z"
   },
   {
    "duration": 318,
    "start_time": "2023-04-27T13:25:23.206Z"
   },
   {
    "duration": 2122,
    "start_time": "2023-04-27T15:13:05.657Z"
   },
   {
    "duration": 705,
    "start_time": "2023-04-27T15:13:07.782Z"
   },
   {
    "duration": 83,
    "start_time": "2023-04-27T15:13:08.489Z"
   },
   {
    "duration": 93,
    "start_time": "2023-04-27T15:13:08.575Z"
   },
   {
    "duration": 79,
    "start_time": "2023-04-27T15:13:08.672Z"
   },
   {
    "duration": 219,
    "start_time": "2023-04-27T15:13:08.754Z"
   },
   {
    "duration": 72,
    "start_time": "2023-04-27T15:13:08.975Z"
   },
   {
    "duration": 212,
    "start_time": "2023-04-27T15:13:09.049Z"
   },
   {
    "duration": 209,
    "start_time": "2023-04-27T15:13:09.264Z"
   },
   {
    "duration": 5,
    "start_time": "2023-04-27T15:13:09.475Z"
   },
   {
    "duration": 101,
    "start_time": "2023-04-27T15:13:09.482Z"
   },
   {
    "duration": 78,
    "start_time": "2023-04-27T15:13:09.585Z"
   },
   {
    "duration": 5,
    "start_time": "2023-04-27T15:13:09.666Z"
   },
   {
    "duration": 23,
    "start_time": "2023-04-27T15:13:09.675Z"
   },
   {
    "duration": 45,
    "start_time": "2023-04-27T15:13:09.700Z"
   },
   {
    "duration": 401,
    "start_time": "2023-04-27T15:13:09.753Z"
   },
   {
    "duration": 1915,
    "start_time": "2023-04-27T15:13:10.157Z"
   },
   {
    "duration": 473,
    "start_time": "2023-04-27T15:13:12.074Z"
   },
   {
    "duration": 218,
    "start_time": "2023-04-27T15:13:12.554Z"
   },
   {
    "duration": 406,
    "start_time": "2023-04-27T15:13:12.774Z"
   },
   {
    "duration": 270,
    "start_time": "2023-04-27T15:13:13.182Z"
   },
   {
    "duration": 861,
    "start_time": "2023-04-27T15:13:13.458Z"
   },
   {
    "duration": 38,
    "start_time": "2023-04-27T15:13:14.321Z"
   },
   {
    "duration": 6,
    "start_time": "2023-04-27T15:13:14.361Z"
   },
   {
    "duration": 126512,
    "start_time": "2023-04-27T15:13:14.369Z"
   },
   {
    "duration": 80,
    "start_time": "2023-04-27T15:15:20.883Z"
   },
   {
    "duration": 782,
    "start_time": "2023-04-27T15:15:20.966Z"
   },
   {
    "duration": 2994,
    "start_time": "2023-04-27T15:15:21.755Z"
   },
   {
    "duration": 174,
    "start_time": "2023-04-27T15:15:24.751Z"
   },
   {
    "duration": 235,
    "start_time": "2023-04-27T15:15:24.928Z"
   },
   {
    "duration": 233,
    "start_time": "2023-04-27T15:15:25.165Z"
   },
   {
    "duration": 459,
    "start_time": "2023-04-27T15:15:25.400Z"
   },
   {
    "duration": 451,
    "start_time": "2023-04-27T15:15:25.861Z"
   }
  ],
  "kernelspec": {
   "display_name": "Python 3",
   "language": "python",
   "name": "python3"
  },
  "language_info": {
   "codemirror_mode": {
    "name": "ipython",
    "version": 3
   },
   "file_extension": ".py",
   "mimetype": "text/x-python",
   "name": "python",
   "nbconvert_exporter": "python",
   "pygments_lexer": "ipython3",
   "version": "3.7.3"
  },
  "toc": {
   "base_numbering": 1,
   "nav_menu": {},
   "number_sections": true,
   "sideBar": true,
   "skip_h1_title": true,
   "title_cell": "Table of Contents",
   "title_sidebar": "Contents",
   "toc_cell": false,
   "toc_position": {},
   "toc_section_display": true,
   "toc_window_display": true
  }
 },
 "nbformat": 4,
 "nbformat_minor": 2
}
